{
    "metadata": {
        "kernelspec": {
            "name": "SQL",
            "display_name": "SQL",
            "language": "sql"
        },
        "language_info": {
            "name": "sql",
            "version": ""
        }
    },
    "nbformat_minor": 2,
    "nbformat": 4,
    "cells": [
        {
            "cell_type": "markdown",
            "source": [
                "1. <span style=\"background-color: rgb(255, 255, 255); color: rgb(0, 0, 0); font-family: &quot;Open Sans&quot;, sans-serif; font-size: 14.44px;\">Készítsünk sorszámozott listát a szálláshelyek adatairól!&nbsp;</span> \n",
                "\n",
                "a. A lista legyen a szálláshely típusa szerint, azon belül hely szerint, majd a neve szerint növekvően rendezve! \n",
                "\n",
                "b. A számozás típusonként kezdődjön újra!"
            ],
            "metadata": {
                "azdata_cell_guid": "363cd270-6577-449b-9c89-d4b7c7972d52"
            },
            "attachments": {}
        },
        {
            "cell_type": "code",
            "source": [
                ""
            ],
            "metadata": {
                "azdata_cell_guid": "6ab9f633-a3b5-48c9-a1dc-4fb8235ae85b",
                "language": "sql"
            },
            "outputs": [],
            "execution_count": null
        },
        {
            "cell_type": "markdown",
            "source": [
                "2. <span style=\"background-color: rgb(255, 255, 255); color: rgb(0, 0, 0); font-family: &quot;Open Sans&quot;, sans-serif; font-size: 14.44px;\">Készítsünk lekérdezést, amely a foglalások adatait jeleníti meg!&nbsp;</span> \n",
                "\n",
                "a. A lista tartalmazzon két új oszlopot, amelyek az adott ügyfél legrövidebb, illetve leghosszabb foglalásának hosszát (a foglalt napok számát) mutatják meg! \n",
                "\n",
                "b. Az oszlopokat nevezzük el értelemszerűen!"
            ],
            "metadata": {
                "azdata_cell_guid": "ea75c103-911f-41a3-a32c-3d40fb3e4e4a"
            },
            "attachments": {}
        },
        {
            "cell_type": "code",
            "source": [
                ""
            ],
            "metadata": {
                "azdata_cell_guid": "222b9618-a8e8-42b4-a8e8-d002257122b7",
                "language": "sql"
            },
            "outputs": [],
            "execution_count": null
        },
        {
            "cell_type": "markdown",
            "source": [
                "```\n",
                "3. Készítsük listát, amely megjeleníti az ügyfelek azonosítóját, nevét és a foglalásainak kezdő- és befejező dátumát, valamint azt, hogy a foglalás összesen hány főre történt! \n",
                "```\n",
                "\n",
                "a. Egy új oszlopban jelenítsük meg azt is, hogy az ügyfél előző három foglalása összesen hány főre történt!\n",
                "\n",
                "![](https://moodle.uni-corvinus.hu/theme/image.php/adaptable/atto_h5p/1709548862/icon)"
            ],
            "metadata": {
                "azdata_cell_guid": "d7876bb9-76d0-4d07-baed-3cb17b2f96c3"
            },
            "attachments": {}
        },
        {
            "cell_type": "code",
            "source": [
                "WITH FoglalasSzam AS (\r\n",
                "    SELECT \r\n",
                "        f.UGYFEL_FK,\r\n",
                "        f.METTOL,\r\n",
                "        f.MEDDIG,\r\n",
                "        f.FOGLALAS_PK,\r\n",
                "        f.FELNOTT_SZAM + f.GYERMEK_SZAM AS FO_SZAM,\r\n",
                "        ROW_NUMBER() OVER (PARTITION BY f.UGYFEL_FK ORDER BY f.METTOL) AS FoglalasSor\r\n",
                "    FROM dbo.FOGLALAS AS f\r\n",
                "),\r\n",
                "ElsoHaromElotti AS (\r\n",
                "    SELECT \r\n",
                "        a1.UGYFEL_FK,\r\n",
                "        a1.FOGLALAS_PK,\r\n",
                "        (\r\n",
                "            SELECT SUM(a2.FO_SZAM)\r\n",
                "            FROM FoglalasSzam a2\r\n",
                "            WHERE a2.UGYFEL_FK = a1.UGYFEL_FK\r\n",
                "              AND a2.FoglalasSor < a1.FoglalasSor\r\n",
                "              AND a2.FoglalasSor >= a1.FoglalasSor - 3\r\n",
                "        ) AS ElozoHaromFo\r\n",
                "    FROM FoglalasSzam a1\r\n",
                ")\r\n",
                "SELECT \r\n",
                "    v.USERNEV,\r\n",
                "    v.NEV,\r\n",
                "    fs.METTOL,\r\n",
                "    fs.MEDDIG,\r\n",
                "    fs.FO_SZAM,\r\n",
                "    ISNULL(eh.ElozoHaromFo, 0) AS ELOZO_HAROM_FO\r\n",
                "FROM FoglalasSzam fs\r\n",
                "JOIN VENDEG v ON fs.UGYFEL_FK = v.USERNEV\r\n",
                "LEFT JOIN ElsoHaromElotti eh ON fs.FOGLALAS_PK = eh.FOGLALAS_PK\r\n",
                "ORDER BY v.USERNEV, fs.METTOL;\r\n",
                ""
            ],
            "metadata": {
                "azdata_cell_guid": "56ec19ce-e249-4551-b2a8-f17569765acc",
                "language": "sql"
            },
            "outputs": [
                {
                    "output_type": "display_data",
                    "data": {
                        "text/html": "(1027 rows affected)"
                    },
                    "metadata": {}
                },
                {
                    "output_type": "display_data",
                    "data": {
                        "text/html": "Total execution time: 00:00:02.003"
                    },
                    "metadata": {}
                },
                {
                    "output_type": "execute_result",
                    "metadata": {},
                    "execution_count": 19,
                    "data": {
                        "application/vnd.dataresource+json": {
                            "schema": {
                                "fields": [
                                    {
                                        "name": "USERNEV"
                                    },
                                    {
                                        "name": "NEV"
                                    },
                                    {
                                        "name": "METTOL"
                                    },
                                    {
                                        "name": "MEDDIG"
                                    },
                                    {
                                        "name": "FO_SZAM"
                                    },
                                    {
                                        "name": "ELOZO_HAROM_FO"
                                    }
                                ]
                            },
                            "data": [
                                {
                                    "USERNEV": "adam1",
                                    "NEV": "Kiss Ádám",
                                    "METTOL": "2016-05-28",
                                    "MEDDIG": "2016-06-03",
                                    "FO_SZAM": "3",
                                    "ELOZO_HAROM_FO": "0"
                                },
                                {
                                    "USERNEV": "adam1",
                                    "NEV": "Kiss Ádám",
                                    "METTOL": "2016-08-20",
                                    "MEDDIG": "2016-08-24",
                                    "FO_SZAM": "1",
                                    "ELOZO_HAROM_FO": "3"
                                },
                                {
                                    "USERNEV": "adam1",
                                    "NEV": "Kiss Ádám",
                                    "METTOL": "2016-10-19",
                                    "MEDDIG": "2016-10-24",
                                    "FO_SZAM": "2",
                                    "ELOZO_HAROM_FO": "4"
                                },
                                {
                                    "USERNEV": "adam3",
                                    "NEV": "Barkóci Ádám",
                                    "METTOL": "2016-09-12",
                                    "MEDDIG": "2016-09-16",
                                    "FO_SZAM": "2",
                                    "ELOZO_HAROM_FO": "0"
                                },
                                {
                                    "USERNEV": "adam3",
                                    "NEV": "Barkóci Ádám",
                                    "METTOL": "2017-02-06",
                                    "MEDDIG": "2017-02-10",
                                    "FO_SZAM": "1",
                                    "ELOZO_HAROM_FO": "2"
                                },
                                {
                                    "USERNEV": "adam4",
                                    "NEV": "Bieniek Ádám",
                                    "METTOL": "2016-08-28",
                                    "MEDDIG": "2016-08-30",
                                    "FO_SZAM": "3",
                                    "ELOZO_HAROM_FO": "0"
                                },
                                {
                                    "USERNEV": "adam4",
                                    "NEV": "Bieniek Ádám",
                                    "METTOL": "2016-10-27",
                                    "MEDDIG": "2016-11-02",
                                    "FO_SZAM": "3",
                                    "ELOZO_HAROM_FO": "3"
                                },
                                {
                                    "USERNEV": "adam4",
                                    "NEV": "Bieniek Ádám",
                                    "METTOL": "2016-11-15",
                                    "MEDDIG": "2016-11-18",
                                    "FO_SZAM": "2",
                                    "ELOZO_HAROM_FO": "6"
                                },
                                {
                                    "USERNEV": "adam4",
                                    "NEV": "Bieniek Ádám",
                                    "METTOL": "2016-12-06",
                                    "MEDDIG": "2016-12-09",
                                    "FO_SZAM": "3",
                                    "ELOZO_HAROM_FO": "8"
                                },
                                {
                                    "USERNEV": "adam4",
                                    "NEV": "Bieniek Ádám",
                                    "METTOL": "2017-01-12",
                                    "MEDDIG": "2017-01-19",
                                    "FO_SZAM": "2",
                                    "ELOZO_HAROM_FO": "8"
                                },
                                {
                                    "USERNEV": "adam4",
                                    "NEV": "Bieniek Ádám",
                                    "METTOL": "2017-02-23",
                                    "MEDDIG": "2017-02-27",
                                    "FO_SZAM": "3",
                                    "ELOZO_HAROM_FO": "7"
                                },
                                {
                                    "USERNEV": "agnes",
                                    "NEV": "Lengyel Ágnes",
                                    "METTOL": "2016-05-09",
                                    "MEDDIG": "2016-05-11",
                                    "FO_SZAM": "3",
                                    "ELOZO_HAROM_FO": "0"
                                },
                                {
                                    "USERNEV": "agnes",
                                    "NEV": "Lengyel Ágnes",
                                    "METTOL": "2016-05-25",
                                    "MEDDIG": "2016-05-30",
                                    "FO_SZAM": "1",
                                    "ELOZO_HAROM_FO": "3"
                                },
                                {
                                    "USERNEV": "agnes",
                                    "NEV": "Lengyel Ágnes",
                                    "METTOL": "2016-07-13",
                                    "MEDDIG": "2016-07-19",
                                    "FO_SZAM": "3",
                                    "ELOZO_HAROM_FO": "4"
                                },
                                {
                                    "USERNEV": "agnes",
                                    "NEV": "Lengyel Ágnes",
                                    "METTOL": "2016-07-30",
                                    "MEDDIG": "2016-08-06",
                                    "FO_SZAM": "3",
                                    "ELOZO_HAROM_FO": "7"
                                },
                                {
                                    "USERNEV": "agnes",
                                    "NEV": "Lengyel Ágnes",
                                    "METTOL": "2016-11-07",
                                    "MEDDIG": "2016-11-13",
                                    "FO_SZAM": "2",
                                    "ELOZO_HAROM_FO": "7"
                                },
                                {
                                    "USERNEV": "agnes3",
                                    "NEV": "Hartyánszky Ágnes",
                                    "METTOL": "2016-08-04",
                                    "MEDDIG": "2016-08-10",
                                    "FO_SZAM": "1",
                                    "ELOZO_HAROM_FO": "0"
                                },
                                {
                                    "USERNEV": "agnes3",
                                    "NEV": "Hartyánszky Ágnes",
                                    "METTOL": "2016-10-22",
                                    "MEDDIG": "2016-10-23",
                                    "FO_SZAM": "3",
                                    "ELOZO_HAROM_FO": "1"
                                },
                                {
                                    "USERNEV": "agnes3",
                                    "NEV": "Hartyánszky Ágnes",
                                    "METTOL": "2017-02-16",
                                    "MEDDIG": "2017-02-21",
                                    "FO_SZAM": "3",
                                    "ELOZO_HAROM_FO": "4"
                                },
                                {
                                    "USERNEV": "AGNESH",
                                    "NEV": "Horváth Ágnes",
                                    "METTOL": "2016-04-10",
                                    "MEDDIG": "2016-04-12",
                                    "FO_SZAM": "2",
                                    "ELOZO_HAROM_FO": "0"
                                },
                                {
                                    "USERNEV": "AGNESH",
                                    "NEV": "Horváth Ágnes",
                                    "METTOL": "2016-04-27",
                                    "MEDDIG": "2016-04-28",
                                    "FO_SZAM": "4",
                                    "ELOZO_HAROM_FO": "2"
                                },
                                {
                                    "USERNEV": "AGNESH",
                                    "NEV": "Horváth Ágnes",
                                    "METTOL": "2016-06-23",
                                    "MEDDIG": "2016-06-26",
                                    "FO_SZAM": "1",
                                    "ELOZO_HAROM_FO": "6"
                                },
                                {
                                    "USERNEV": "AGNESH",
                                    "NEV": "Horváth Ágnes",
                                    "METTOL": "2016-10-30",
                                    "MEDDIG": "2016-11-04",
                                    "FO_SZAM": "1",
                                    "ELOZO_HAROM_FO": "7"
                                },
                                {
                                    "USERNEV": "AGNESH",
                                    "NEV": "Horváth Ágnes",
                                    "METTOL": "2017-01-03",
                                    "MEDDIG": "2017-01-10",
                                    "FO_SZAM": "2",
                                    "ELOZO_HAROM_FO": "6"
                                },
                                {
                                    "USERNEV": "AGNESH",
                                    "NEV": "Horváth Ágnes",
                                    "METTOL": "2017-01-16",
                                    "MEDDIG": "2017-01-23",
                                    "FO_SZAM": "3",
                                    "ELOZO_HAROM_FO": "4"
                                },
                                {
                                    "USERNEV": "AGNESK",
                                    "NEV": "Kovács Ágnes",
                                    "METTOL": "2016-07-29",
                                    "MEDDIG": "2016-08-01",
                                    "FO_SZAM": "3",
                                    "ELOZO_HAROM_FO": "0"
                                },
                                {
                                    "USERNEV": "AGNESK",
                                    "NEV": "Kovács Ágnes",
                                    "METTOL": "2016-10-17",
                                    "MEDDIG": "2016-10-19",
                                    "FO_SZAM": "2",
                                    "ELOZO_HAROM_FO": "3"
                                },
                                {
                                    "USERNEV": "AGNESK",
                                    "NEV": "Kovács Ágnes",
                                    "METTOL": "2016-12-17",
                                    "MEDDIG": "2016-12-18",
                                    "FO_SZAM": "2",
                                    "ELOZO_HAROM_FO": "5"
                                },
                                {
                                    "USERNEV": "akos",
                                    "NEV": "Bíró Ákos",
                                    "METTOL": "2016-05-18",
                                    "MEDDIG": "2016-05-19",
                                    "FO_SZAM": "2",
                                    "ELOZO_HAROM_FO": "0"
                                },
                                {
                                    "USERNEV": "akos",
                                    "NEV": "Bíró Ákos",
                                    "METTOL": "2016-07-14",
                                    "MEDDIG": "2016-07-19",
                                    "FO_SZAM": "2",
                                    "ELOZO_HAROM_FO": "2"
                                },
                                {
                                    "USERNEV": "akos",
                                    "NEV": "Bíró Ákos",
                                    "METTOL": "2016-07-16",
                                    "MEDDIG": "2016-07-18",
                                    "FO_SZAM": "2",
                                    "ELOZO_HAROM_FO": "4"
                                },
                                {
                                    "USERNEV": "akos",
                                    "NEV": "Bíró Ákos",
                                    "METTOL": "2016-07-22",
                                    "MEDDIG": "2016-07-26",
                                    "FO_SZAM": "1",
                                    "ELOZO_HAROM_FO": "6"
                                },
                                {
                                    "USERNEV": "akos",
                                    "NEV": "Bíró Ákos",
                                    "METTOL": "2016-09-06",
                                    "MEDDIG": "2016-09-12",
                                    "FO_SZAM": "1",
                                    "ELOZO_HAROM_FO": "5"
                                },
                                {
                                    "USERNEV": "akos",
                                    "NEV": "Bíró Ákos",
                                    "METTOL": "2016-10-05",
                                    "MEDDIG": "2016-10-09",
                                    "FO_SZAM": "2",
                                    "ELOZO_HAROM_FO": "4"
                                },
                                {
                                    "USERNEV": "akos",
                                    "NEV": "Bíró Ákos",
                                    "METTOL": "2016-10-18",
                                    "MEDDIG": "2016-10-23",
                                    "FO_SZAM": "2",
                                    "ELOZO_HAROM_FO": "4"
                                },
                                {
                                    "USERNEV": "akos",
                                    "NEV": "Bíró Ákos",
                                    "METTOL": "2016-11-21",
                                    "MEDDIG": "2016-11-27",
                                    "FO_SZAM": "2",
                                    "ELOZO_HAROM_FO": "5"
                                },
                                {
                                    "USERNEV": "akos",
                                    "NEV": "Bíró Ákos",
                                    "METTOL": "2016-12-15",
                                    "MEDDIG": "2016-12-21",
                                    "FO_SZAM": "2",
                                    "ELOZO_HAROM_FO": "6"
                                },
                                {
                                    "USERNEV": "akos",
                                    "NEV": "Bíró Ákos",
                                    "METTOL": "2016-12-29",
                                    "MEDDIG": "2016-12-30",
                                    "FO_SZAM": "3",
                                    "ELOZO_HAROM_FO": "6"
                                },
                                {
                                    "USERNEV": "aladar",
                                    "NEV": "Dunai Aladár",
                                    "METTOL": "2016-05-17",
                                    "MEDDIG": "2016-05-24",
                                    "FO_SZAM": "1",
                                    "ELOZO_HAROM_FO": "0"
                                },
                                {
                                    "USERNEV": "aladar",
                                    "NEV": "Dunai Aladár",
                                    "METTOL": "2016-09-24",
                                    "MEDDIG": "2016-09-28",
                                    "FO_SZAM": "1",
                                    "ELOZO_HAROM_FO": "1"
                                },
                                {
                                    "USERNEV": "aladar",
                                    "NEV": "Dunai Aladár",
                                    "METTOL": "2016-11-22",
                                    "MEDDIG": "2016-11-23",
                                    "FO_SZAM": "2",
                                    "ELOZO_HAROM_FO": "2"
                                },
                                {
                                    "USERNEV": "alexandra",
                                    "NEV": "Bagóczki Alexandra",
                                    "METTOL": "2016-05-21",
                                    "MEDDIG": "2016-05-27",
                                    "FO_SZAM": "3",
                                    "ELOZO_HAROM_FO": "0"
                                },
                                {
                                    "USERNEV": "alexandra",
                                    "NEV": "Bagóczki Alexandra",
                                    "METTOL": "2016-06-08",
                                    "MEDDIG": "2016-06-11",
                                    "FO_SZAM": "3",
                                    "ELOZO_HAROM_FO": "3"
                                },
                                {
                                    "USERNEV": "alexandra",
                                    "NEV": "Bagóczki Alexandra",
                                    "METTOL": "2016-07-27",
                                    "MEDDIG": "2016-07-30",
                                    "FO_SZAM": "2",
                                    "ELOZO_HAROM_FO": "6"
                                },
                                {
                                    "USERNEV": "alexandra",
                                    "NEV": "Bagóczki Alexandra",
                                    "METTOL": "2016-10-21",
                                    "MEDDIG": "2016-10-25",
                                    "FO_SZAM": "2",
                                    "ELOZO_HAROM_FO": "8"
                                },
                                {
                                    "USERNEV": "alexandra",
                                    "NEV": "Bagóczki Alexandra",
                                    "METTOL": "2016-11-29",
                                    "MEDDIG": "2016-12-05",
                                    "FO_SZAM": "2",
                                    "ELOZO_HAROM_FO": "7"
                                },
                                {
                                    "USERNEV": "alexandra",
                                    "NEV": "Bagóczki Alexandra",
                                    "METTOL": "2017-01-13",
                                    "MEDDIG": "2017-01-14",
                                    "FO_SZAM": "1",
                                    "ELOZO_HAROM_FO": "6"
                                },
                                {
                                    "USERNEV": "alexandra",
                                    "NEV": "Bagóczki Alexandra",
                                    "METTOL": "2017-01-19",
                                    "MEDDIG": "2017-01-26",
                                    "FO_SZAM": "2",
                                    "ELOZO_HAROM_FO": "5"
                                },
                                {
                                    "USERNEV": "andi",
                                    "NEV": "Maródi Andrea",
                                    "METTOL": "2016-05-08",
                                    "MEDDIG": "2016-05-14",
                                    "FO_SZAM": "4",
                                    "ELOZO_HAROM_FO": "0"
                                },
                                {
                                    "USERNEV": "andi",
                                    "NEV": "Maródi Andrea",
                                    "METTOL": "2016-06-13",
                                    "MEDDIG": "2016-06-14",
                                    "FO_SZAM": "1",
                                    "ELOZO_HAROM_FO": "4"
                                },
                                {
                                    "USERNEV": "andi",
                                    "NEV": "Maródi Andrea",
                                    "METTOL": "2016-09-13",
                                    "MEDDIG": "2016-09-16",
                                    "FO_SZAM": "2",
                                    "ELOZO_HAROM_FO": "5"
                                },
                                {
                                    "USERNEV": "andi",
                                    "NEV": "Maródi Andrea",
                                    "METTOL": "2016-11-16",
                                    "MEDDIG": "2016-11-17",
                                    "FO_SZAM": "3",
                                    "ELOZO_HAROM_FO": "7"
                                },
                                {
                                    "USERNEV": "andi",
                                    "NEV": "Maródi Andrea",
                                    "METTOL": "2017-01-13",
                                    "MEDDIG": "2017-01-17",
                                    "FO_SZAM": "3",
                                    "ELOZO_HAROM_FO": "6"
                                },
                                {
                                    "USERNEV": "andras2",
                                    "NEV": "Tóth András",
                                    "METTOL": "2016-05-30",
                                    "MEDDIG": "2016-06-04",
                                    "FO_SZAM": "1",
                                    "ELOZO_HAROM_FO": "0"
                                },
                                {
                                    "USERNEV": "andras2",
                                    "NEV": "Tóth András",
                                    "METTOL": "2016-07-20",
                                    "MEDDIG": "2016-07-22",
                                    "FO_SZAM": "2",
                                    "ELOZO_HAROM_FO": "1"
                                },
                                {
                                    "USERNEV": "andras2",
                                    "NEV": "Tóth András",
                                    "METTOL": "2016-09-30",
                                    "MEDDIG": "2016-10-03",
                                    "FO_SZAM": "2",
                                    "ELOZO_HAROM_FO": "3"
                                },
                                {
                                    "USERNEV": "andras2",
                                    "NEV": "Tóth András",
                                    "METTOL": "2016-10-07",
                                    "MEDDIG": "2016-10-10",
                                    "FO_SZAM": "3",
                                    "ELOZO_HAROM_FO": "5"
                                },
                                {
                                    "USERNEV": "andras2",
                                    "NEV": "Tóth András",
                                    "METTOL": "2017-02-08",
                                    "MEDDIG": "2017-02-10",
                                    "FO_SZAM": "4",
                                    "ELOZO_HAROM_FO": "7"
                                },
                                {
                                    "USERNEV": "andras21",
                                    "NEV": "Molnár András",
                                    "METTOL": "2016-06-21",
                                    "MEDDIG": "2016-06-26",
                                    "FO_SZAM": "2",
                                    "ELOZO_HAROM_FO": "0"
                                },
                                {
                                    "USERNEV": "andras21",
                                    "NEV": "Molnár András",
                                    "METTOL": "2016-07-04",
                                    "MEDDIG": "2016-07-05",
                                    "FO_SZAM": "3",
                                    "ELOZO_HAROM_FO": "2"
                                },
                                {
                                    "USERNEV": "andras21",
                                    "NEV": "Molnár András",
                                    "METTOL": "2016-07-20",
                                    "MEDDIG": "2016-07-22",
                                    "FO_SZAM": "1",
                                    "ELOZO_HAROM_FO": "5"
                                },
                                {
                                    "USERNEV": "andras21",
                                    "NEV": "Molnár András",
                                    "METTOL": "2016-10-01",
                                    "MEDDIG": "2016-10-06",
                                    "FO_SZAM": "3",
                                    "ELOZO_HAROM_FO": "6"
                                },
                                {
                                    "USERNEV": "andras21",
                                    "NEV": "Molnár András",
                                    "METTOL": "2016-10-04",
                                    "MEDDIG": "2016-10-11",
                                    "FO_SZAM": "3",
                                    "ELOZO_HAROM_FO": "7"
                                },
                                {
                                    "USERNEV": "andras21",
                                    "NEV": "Molnár András",
                                    "METTOL": "2016-11-23",
                                    "MEDDIG": "2016-11-24",
                                    "FO_SZAM": "4",
                                    "ELOZO_HAROM_FO": "7"
                                },
                                {
                                    "USERNEV": "andras21",
                                    "NEV": "Molnár András",
                                    "METTOL": "2017-01-28",
                                    "MEDDIG": "2017-02-01",
                                    "FO_SZAM": "2",
                                    "ELOZO_HAROM_FO": "10"
                                },
                                {
                                    "USERNEV": "andras3",
                                    "NEV": "Vígh András",
                                    "METTOL": "2016-05-01",
                                    "MEDDIG": "2016-05-06",
                                    "FO_SZAM": "2",
                                    "ELOZO_HAROM_FO": "0"
                                },
                                {
                                    "USERNEV": "andras3",
                                    "NEV": "Vígh András",
                                    "METTOL": "2016-05-30",
                                    "MEDDIG": "2016-06-03",
                                    "FO_SZAM": "1",
                                    "ELOZO_HAROM_FO": "2"
                                },
                                {
                                    "USERNEV": "andras3",
                                    "NEV": "Vígh András",
                                    "METTOL": "2016-06-10",
                                    "MEDDIG": "2016-06-11",
                                    "FO_SZAM": "1",
                                    "ELOZO_HAROM_FO": "3"
                                },
                                {
                                    "USERNEV": "andras3",
                                    "NEV": "Vígh András",
                                    "METTOL": "2016-07-15",
                                    "MEDDIG": "2016-07-19",
                                    "FO_SZAM": "3",
                                    "ELOZO_HAROM_FO": "4"
                                },
                                {
                                    "USERNEV": "andras3",
                                    "NEV": "Vígh András",
                                    "METTOL": "2016-07-21",
                                    "MEDDIG": "2016-07-23",
                                    "FO_SZAM": "2",
                                    "ELOZO_HAROM_FO": "5"
                                },
                                {
                                    "USERNEV": "andras3",
                                    "NEV": "Vígh András",
                                    "METTOL": "2016-08-29",
                                    "MEDDIG": "2016-09-02",
                                    "FO_SZAM": "3",
                                    "ELOZO_HAROM_FO": "6"
                                },
                                {
                                    "USERNEV": "andras3",
                                    "NEV": "Vígh András",
                                    "METTOL": "2016-11-28",
                                    "MEDDIG": "2016-12-02",
                                    "FO_SZAM": "2",
                                    "ELOZO_HAROM_FO": "8"
                                },
                                {
                                    "USERNEV": "andras3",
                                    "NEV": "Vígh András",
                                    "METTOL": "2017-02-02",
                                    "MEDDIG": "2017-02-08",
                                    "FO_SZAM": "2",
                                    "ELOZO_HAROM_FO": "7"
                                },
                                {
                                    "USERNEV": "andras4",
                                    "NEV": "Back András",
                                    "METTOL": "2016-09-17",
                                    "MEDDIG": "2016-09-20",
                                    "FO_SZAM": "2",
                                    "ELOZO_HAROM_FO": "0"
                                },
                                {
                                    "USERNEV": "andras4",
                                    "NEV": "Back András",
                                    "METTOL": "2016-11-25",
                                    "MEDDIG": "2016-11-28",
                                    "FO_SZAM": "2",
                                    "ELOZO_HAROM_FO": "2"
                                },
                                {
                                    "USERNEV": "andras4",
                                    "NEV": "Back András",
                                    "METTOL": "2017-01-09",
                                    "MEDDIG": "2017-01-10",
                                    "FO_SZAM": "2",
                                    "ELOZO_HAROM_FO": "4"
                                },
                                {
                                    "USERNEV": "andras41",
                                    "NEV": "Komjáti András",
                                    "METTOL": "2016-05-14",
                                    "MEDDIG": "2016-05-16",
                                    "FO_SZAM": "2",
                                    "ELOZO_HAROM_FO": "0"
                                },
                                {
                                    "USERNEV": "andras41",
                                    "NEV": "Komjáti András",
                                    "METTOL": "2016-05-21",
                                    "MEDDIG": "2016-05-23",
                                    "FO_SZAM": "4",
                                    "ELOZO_HAROM_FO": "2"
                                },
                                {
                                    "USERNEV": "andras41",
                                    "NEV": "Komjáti András",
                                    "METTOL": "2016-06-07",
                                    "MEDDIG": "2016-06-11",
                                    "FO_SZAM": "3",
                                    "ELOZO_HAROM_FO": "6"
                                },
                                {
                                    "USERNEV": "andras41",
                                    "NEV": "Komjáti András",
                                    "METTOL": "2016-06-23",
                                    "MEDDIG": "2016-06-29",
                                    "FO_SZAM": "2",
                                    "ELOZO_HAROM_FO": "9"
                                },
                                {
                                    "USERNEV": "andras41",
                                    "NEV": "Komjáti András",
                                    "METTOL": "2016-07-28",
                                    "MEDDIG": "2016-08-03",
                                    "FO_SZAM": "3",
                                    "ELOZO_HAROM_FO": "9"
                                },
                                {
                                    "USERNEV": "andras41",
                                    "NEV": "Komjáti András",
                                    "METTOL": "2016-08-17",
                                    "MEDDIG": "2016-08-21",
                                    "FO_SZAM": "3",
                                    "ELOZO_HAROM_FO": "8"
                                },
                                {
                                    "USERNEV": "andras41",
                                    "NEV": "Komjáti András",
                                    "METTOL": "2016-08-19",
                                    "MEDDIG": "2016-08-23",
                                    "FO_SZAM": "1",
                                    "ELOZO_HAROM_FO": "8"
                                },
                                {
                                    "USERNEV": "andras41",
                                    "NEV": "Komjáti András",
                                    "METTOL": "2016-09-22",
                                    "MEDDIG": "2016-09-29",
                                    "FO_SZAM": "1",
                                    "ELOZO_HAROM_FO": "7"
                                },
                                {
                                    "USERNEV": "andras41",
                                    "NEV": "Komjáti András",
                                    "METTOL": "2016-09-30",
                                    "MEDDIG": "2016-10-05",
                                    "FO_SZAM": "2",
                                    "ELOZO_HAROM_FO": "5"
                                },
                                {
                                    "USERNEV": "andras41",
                                    "NEV": "Komjáti András",
                                    "METTOL": "2016-10-09",
                                    "MEDDIG": "2016-10-13",
                                    "FO_SZAM": "2",
                                    "ELOZO_HAROM_FO": "4"
                                },
                                {
                                    "USERNEV": "andras41",
                                    "NEV": "Komjáti András",
                                    "METTOL": "2016-10-15",
                                    "MEDDIG": "2016-10-18",
                                    "FO_SZAM": "3",
                                    "ELOZO_HAROM_FO": "5"
                                },
                                {
                                    "USERNEV": "andras41",
                                    "NEV": "Komjáti András",
                                    "METTOL": "2016-11-20",
                                    "MEDDIG": "2016-11-24",
                                    "FO_SZAM": "3",
                                    "ELOZO_HAROM_FO": "7"
                                },
                                {
                                    "USERNEV": "andras41",
                                    "NEV": "Komjáti András",
                                    "METTOL": "2016-11-23",
                                    "MEDDIG": "2016-11-24",
                                    "FO_SZAM": "1",
                                    "ELOZO_HAROM_FO": "8"
                                },
                                {
                                    "USERNEV": "ANDRASE",
                                    "NEV": "Erdei András",
                                    "METTOL": "2016-04-24",
                                    "MEDDIG": "2016-05-01",
                                    "FO_SZAM": "1",
                                    "ELOZO_HAROM_FO": "0"
                                },
                                {
                                    "USERNEV": "ANDRASE",
                                    "NEV": "Erdei András",
                                    "METTOL": "2016-07-06",
                                    "MEDDIG": "2016-07-07",
                                    "FO_SZAM": "2",
                                    "ELOZO_HAROM_FO": "1"
                                },
                                {
                                    "USERNEV": "ANDRASE",
                                    "NEV": "Erdei András",
                                    "METTOL": "2016-08-16",
                                    "MEDDIG": "2016-08-20",
                                    "FO_SZAM": "2",
                                    "ELOZO_HAROM_FO": "3"
                                },
                                {
                                    "USERNEV": "ANDRASE",
                                    "NEV": "Erdei András",
                                    "METTOL": "2016-11-19",
                                    "MEDDIG": "2016-11-20",
                                    "FO_SZAM": "4",
                                    "ELOZO_HAROM_FO": "5"
                                },
                                {
                                    "USERNEV": "ANDRASE",
                                    "NEV": "Erdei András",
                                    "METTOL": "2016-11-29",
                                    "MEDDIG": "2016-12-06",
                                    "FO_SZAM": "3",
                                    "ELOZO_HAROM_FO": "8"
                                },
                                {
                                    "USERNEV": "ANDRASN",
                                    "NEV": "Nagy András",
                                    "METTOL": "2016-11-25",
                                    "MEDDIG": "2016-12-01",
                                    "FO_SZAM": "2",
                                    "ELOZO_HAROM_FO": "0"
                                },
                                {
                                    "USERNEV": "andrea",
                                    "NEV": "Kiss Andrea",
                                    "METTOL": "2016-07-27",
                                    "MEDDIG": "2016-07-28",
                                    "FO_SZAM": "2",
                                    "ELOZO_HAROM_FO": "0"
                                },
                                {
                                    "USERNEV": "andrea",
                                    "NEV": "Kiss Andrea",
                                    "METTOL": "2016-08-01",
                                    "MEDDIG": "2016-08-02",
                                    "FO_SZAM": "2",
                                    "ELOZO_HAROM_FO": "2"
                                },
                                {
                                    "USERNEV": "andrea",
                                    "NEV": "Kiss Andrea",
                                    "METTOL": "2016-08-23",
                                    "MEDDIG": "2016-08-26",
                                    "FO_SZAM": "3",
                                    "ELOZO_HAROM_FO": "4"
                                },
                                {
                                    "USERNEV": "andrea",
                                    "NEV": "Kiss Andrea",
                                    "METTOL": "2016-08-26",
                                    "MEDDIG": "2016-08-30",
                                    "FO_SZAM": "2",
                                    "ELOZO_HAROM_FO": "7"
                                },
                                {
                                    "USERNEV": "andrea",
                                    "NEV": "Kiss Andrea",
                                    "METTOL": "2016-10-21",
                                    "MEDDIG": "2016-10-27",
                                    "FO_SZAM": "4",
                                    "ELOZO_HAROM_FO": "7"
                                },
                                {
                                    "USERNEV": "andrea",
                                    "NEV": "Kiss Andrea",
                                    "METTOL": "2017-02-09",
                                    "MEDDIG": "2017-02-14",
                                    "FO_SZAM": "2",
                                    "ELOZO_HAROM_FO": "9"
                                },
                                {
                                    "USERNEV": "andrea3",
                                    "NEV": "Szomor Andrea",
                                    "METTOL": "2016-11-19",
                                    "MEDDIG": "2016-11-21",
                                    "FO_SZAM": "3",
                                    "ELOZO_HAROM_FO": "0"
                                },
                                {
                                    "USERNEV": "andrea4",
                                    "NEV": "Neizer Andrea",
                                    "METTOL": "2016-05-27",
                                    "MEDDIG": "2016-05-29",
                                    "FO_SZAM": "1",
                                    "ELOZO_HAROM_FO": "0"
                                },
                                {
                                    "USERNEV": "andrea4",
                                    "NEV": "Neizer Andrea",
                                    "METTOL": "2016-09-13",
                                    "MEDDIG": "2016-09-17",
                                    "FO_SZAM": "2",
                                    "ELOZO_HAROM_FO": "1"
                                },
                                {
                                    "USERNEV": "andrea4",
                                    "NEV": "Neizer Andrea",
                                    "METTOL": "2016-10-30",
                                    "MEDDIG": "2016-11-06",
                                    "FO_SZAM": "3",
                                    "ELOZO_HAROM_FO": "3"
                                },
                                {
                                    "USERNEV": "andrea4",
                                    "NEV": "Neizer Andrea",
                                    "METTOL": "2017-01-22",
                                    "MEDDIG": "2017-01-29",
                                    "FO_SZAM": "2",
                                    "ELOZO_HAROM_FO": "6"
                                },
                                {
                                    "USERNEV": "ANDREAT",
                                    "NEV": "Tornyos Andrea",
                                    "METTOL": "2016-07-27",
                                    "MEDDIG": "2016-08-01",
                                    "FO_SZAM": "2",
                                    "ELOZO_HAROM_FO": "0"
                                },
                                {
                                    "USERNEV": "ANDREAT",
                                    "NEV": "Tornyos Andrea",
                                    "METTOL": "2016-09-15",
                                    "MEDDIG": "2016-09-16",
                                    "FO_SZAM": "2",
                                    "ELOZO_HAROM_FO": "2"
                                },
                                {
                                    "USERNEV": "ANDREAT",
                                    "NEV": "Tornyos Andrea",
                                    "METTOL": "2016-10-08",
                                    "MEDDIG": "2016-10-12",
                                    "FO_SZAM": "3",
                                    "ELOZO_HAROM_FO": "4"
                                },
                                {
                                    "USERNEV": "anett3",
                                    "NEV": "Pivarcsi Anett",
                                    "METTOL": "2016-04-10",
                                    "MEDDIG": "2016-04-17",
                                    "FO_SZAM": "1",
                                    "ELOZO_HAROM_FO": "0"
                                },
                                {
                                    "USERNEV": "anett3",
                                    "NEV": "Pivarcsi Anett",
                                    "METTOL": "2016-04-13",
                                    "MEDDIG": "2016-04-19",
                                    "FO_SZAM": "3",
                                    "ELOZO_HAROM_FO": "1"
                                },
                                {
                                    "USERNEV": "anett3",
                                    "NEV": "Pivarcsi Anett",
                                    "METTOL": "2016-04-15",
                                    "MEDDIG": "2016-04-19",
                                    "FO_SZAM": "3",
                                    "ELOZO_HAROM_FO": "4"
                                },
                                {
                                    "USERNEV": "anett3",
                                    "NEV": "Pivarcsi Anett",
                                    "METTOL": "2016-04-28",
                                    "MEDDIG": "2016-05-02",
                                    "FO_SZAM": "3",
                                    "ELOZO_HAROM_FO": "7"
                                },
                                {
                                    "USERNEV": "anett3",
                                    "NEV": "Pivarcsi Anett",
                                    "METTOL": "2016-08-15",
                                    "MEDDIG": "2016-08-16",
                                    "FO_SZAM": "2",
                                    "ELOZO_HAROM_FO": "9"
                                },
                                {
                                    "USERNEV": "anett3",
                                    "NEV": "Pivarcsi Anett",
                                    "METTOL": "2016-08-17",
                                    "MEDDIG": "2016-08-23",
                                    "FO_SZAM": "3",
                                    "ELOZO_HAROM_FO": "8"
                                },
                                {
                                    "USERNEV": "anett3",
                                    "NEV": "Pivarcsi Anett",
                                    "METTOL": "2016-10-12",
                                    "MEDDIG": "2016-10-19",
                                    "FO_SZAM": "3",
                                    "ELOZO_HAROM_FO": "8"
                                },
                                {
                                    "USERNEV": "anett3",
                                    "NEV": "Pivarcsi Anett",
                                    "METTOL": "2016-10-16",
                                    "MEDDIG": "2016-10-21",
                                    "FO_SZAM": "1",
                                    "ELOZO_HAROM_FO": "8"
                                },
                                {
                                    "USERNEV": "aniko",
                                    "NEV": "Tóth Anikó",
                                    "METTOL": "2016-06-25",
                                    "MEDDIG": "2016-06-30",
                                    "FO_SZAM": "3",
                                    "ELOZO_HAROM_FO": "0"
                                },
                                {
                                    "USERNEV": "aniko",
                                    "NEV": "Tóth Anikó",
                                    "METTOL": "2017-02-12",
                                    "MEDDIG": "2017-02-14",
                                    "FO_SZAM": "3",
                                    "ELOZO_HAROM_FO": "3"
                                },
                                {
                                    "USERNEV": "aniko",
                                    "NEV": "Tóth Anikó",
                                    "METTOL": "2017-02-23",
                                    "MEDDIG": "2017-02-24",
                                    "FO_SZAM": "2",
                                    "ELOZO_HAROM_FO": "6"
                                },
                                {
                                    "USERNEV": "aniko4",
                                    "NEV": "Böröcz Anikó",
                                    "METTOL": "2016-07-02",
                                    "MEDDIG": "2016-07-09",
                                    "FO_SZAM": "1",
                                    "ELOZO_HAROM_FO": "0"
                                },
                                {
                                    "USERNEV": "aniko4",
                                    "NEV": "Böröcz Anikó",
                                    "METTOL": "2016-07-22",
                                    "MEDDIG": "2016-07-25",
                                    "FO_SZAM": "3",
                                    "ELOZO_HAROM_FO": "1"
                                },
                                {
                                    "USERNEV": "aniko4",
                                    "NEV": "Böröcz Anikó",
                                    "METTOL": "2016-09-05",
                                    "MEDDIG": "2016-09-07",
                                    "FO_SZAM": "4",
                                    "ELOZO_HAROM_FO": "4"
                                },
                                {
                                    "USERNEV": "aniko4",
                                    "NEV": "Böröcz Anikó",
                                    "METTOL": "2016-10-16",
                                    "MEDDIG": "2016-10-18",
                                    "FO_SZAM": "3",
                                    "ELOZO_HAROM_FO": "8"
                                },
                                {
                                    "USERNEV": "ANIKOS",
                                    "NEV": "Simon Anikó",
                                    "METTOL": "2016-04-19",
                                    "MEDDIG": "2016-04-24",
                                    "FO_SZAM": "2",
                                    "ELOZO_HAROM_FO": "0"
                                },
                                {
                                    "USERNEV": "ANIKOS",
                                    "NEV": "Simon Anikó",
                                    "METTOL": "2016-05-24",
                                    "MEDDIG": "2016-05-25",
                                    "FO_SZAM": "3",
                                    "ELOZO_HAROM_FO": "2"
                                },
                                {
                                    "USERNEV": "ANIKOS",
                                    "NEV": "Simon Anikó",
                                    "METTOL": "2016-06-16",
                                    "MEDDIG": "2016-06-23",
                                    "FO_SZAM": "1",
                                    "ELOZO_HAROM_FO": "5"
                                },
                                {
                                    "USERNEV": "ANIKOS",
                                    "NEV": "Simon Anikó",
                                    "METTOL": "2016-06-27",
                                    "MEDDIG": "2016-06-30",
                                    "FO_SZAM": "2",
                                    "ELOZO_HAROM_FO": "6"
                                },
                                {
                                    "USERNEV": "ANIKOS",
                                    "NEV": "Simon Anikó",
                                    "METTOL": "2016-07-17",
                                    "MEDDIG": "2016-07-22",
                                    "FO_SZAM": "3",
                                    "ELOZO_HAROM_FO": "6"
                                },
                                {
                                    "USERNEV": "ANIKOS",
                                    "NEV": "Simon Anikó",
                                    "METTOL": "2016-08-26",
                                    "MEDDIG": "2016-09-02",
                                    "FO_SZAM": "2",
                                    "ELOZO_HAROM_FO": "6"
                                },
                                {
                                    "USERNEV": "ANIKOS",
                                    "NEV": "Simon Anikó",
                                    "METTOL": "2016-10-08",
                                    "MEDDIG": "2016-10-14",
                                    "FO_SZAM": "2",
                                    "ELOZO_HAROM_FO": "7"
                                },
                                {
                                    "USERNEV": "ANIKOS",
                                    "NEV": "Simon Anikó",
                                    "METTOL": "2016-10-29",
                                    "MEDDIG": "2016-11-05",
                                    "FO_SZAM": "3",
                                    "ELOZO_HAROM_FO": "7"
                                },
                                {
                                    "USERNEV": "ANIKOS",
                                    "NEV": "Simon Anikó",
                                    "METTOL": "2016-11-10",
                                    "MEDDIG": "2016-11-15",
                                    "FO_SZAM": "2",
                                    "ELOZO_HAROM_FO": "7"
                                },
                                {
                                    "USERNEV": "anita",
                                    "NEV": "Hamvay-Kovács Anita",
                                    "METTOL": "2016-09-28",
                                    "MEDDIG": "2016-10-02",
                                    "FO_SZAM": "4",
                                    "ELOZO_HAROM_FO": "0"
                                },
                                {
                                    "USERNEV": "anita",
                                    "NEV": "Hamvay-Kovács Anita",
                                    "METTOL": "2016-10-01",
                                    "MEDDIG": "2016-10-04",
                                    "FO_SZAM": "2",
                                    "ELOZO_HAROM_FO": "4"
                                },
                                {
                                    "USERNEV": "anita",
                                    "NEV": "Hamvay-Kovács Anita",
                                    "METTOL": "2017-02-19",
                                    "MEDDIG": "2017-02-22",
                                    "FO_SZAM": "2",
                                    "ELOZO_HAROM_FO": "6"
                                },
                                {
                                    "USERNEV": "anita",
                                    "NEV": "Hamvay-Kovács Anita",
                                    "METTOL": "2017-02-20",
                                    "MEDDIG": "2017-02-25",
                                    "FO_SZAM": "2",
                                    "ELOZO_HAROM_FO": "8"
                                },
                                {
                                    "USERNEV": "annamaria1",
                                    "NEV": "Szűcs Annamária",
                                    "METTOL": "2016-06-06",
                                    "MEDDIG": "2016-06-07",
                                    "FO_SZAM": "3",
                                    "ELOZO_HAROM_FO": "0"
                                },
                                {
                                    "USERNEV": "annamaria1",
                                    "NEV": "Szűcs Annamária",
                                    "METTOL": "2017-01-30",
                                    "MEDDIG": "2017-01-31",
                                    "FO_SZAM": "4",
                                    "ELOZO_HAROM_FO": "3"
                                },
                                {
                                    "USERNEV": "ANNAMARIAR",
                                    "NEV": "Regős Annamária",
                                    "METTOL": "2016-06-08",
                                    "MEDDIG": "2016-06-11",
                                    "FO_SZAM": "2",
                                    "ELOZO_HAROM_FO": "0"
                                },
                                {
                                    "USERNEV": "ANNAMARIAR",
                                    "NEV": "Regős Annamária",
                                    "METTOL": "2016-07-18",
                                    "MEDDIG": "2016-07-21",
                                    "FO_SZAM": "1",
                                    "ELOZO_HAROM_FO": "2"
                                },
                                {
                                    "USERNEV": "ANNAMARIAR",
                                    "NEV": "Regős Annamária",
                                    "METTOL": "2016-09-23",
                                    "MEDDIG": "2016-09-27",
                                    "FO_SZAM": "2",
                                    "ELOZO_HAROM_FO": "3"
                                },
                                {
                                    "USERNEV": "ANNAMARIAR",
                                    "NEV": "Regős Annamária",
                                    "METTOL": "2016-11-11",
                                    "MEDDIG": "2016-11-12",
                                    "FO_SZAM": "3",
                                    "ELOZO_HAROM_FO": "5"
                                },
                                {
                                    "USERNEV": "ANNAMARIAR",
                                    "NEV": "Regős Annamária",
                                    "METTOL": "2017-01-10",
                                    "MEDDIG": "2017-01-13",
                                    "FO_SZAM": "2",
                                    "ELOZO_HAROM_FO": "6"
                                },
                                {
                                    "USERNEV": "ANNAMARIAR",
                                    "NEV": "Regős Annamária",
                                    "METTOL": "2017-02-16",
                                    "MEDDIG": "2017-02-18",
                                    "FO_SZAM": "2",
                                    "ELOZO_HAROM_FO": "7"
                                },
                                {
                                    "USERNEV": "aron2",
                                    "NEV": "Jakab Áron",
                                    "METTOL": "2016-04-11",
                                    "MEDDIG": "2016-04-12",
                                    "FO_SZAM": "3",
                                    "ELOZO_HAROM_FO": "0"
                                },
                                {
                                    "USERNEV": "aron2",
                                    "NEV": "Jakab Áron",
                                    "METTOL": "2016-07-04",
                                    "MEDDIG": "2016-07-06",
                                    "FO_SZAM": "3",
                                    "ELOZO_HAROM_FO": "3"
                                },
                                {
                                    "USERNEV": "aron2",
                                    "NEV": "Jakab Áron",
                                    "METTOL": "2016-10-23",
                                    "MEDDIG": "2016-10-27",
                                    "FO_SZAM": "2",
                                    "ELOZO_HAROM_FO": "6"
                                },
                                {
                                    "USERNEV": "aron2",
                                    "NEV": "Jakab Áron",
                                    "METTOL": "2016-11-05",
                                    "MEDDIG": "2016-11-09",
                                    "FO_SZAM": "2",
                                    "ELOZO_HAROM_FO": "8"
                                },
                                {
                                    "USERNEV": "aron2",
                                    "NEV": "Jakab Áron",
                                    "METTOL": "2017-01-17",
                                    "MEDDIG": "2017-01-18",
                                    "FO_SZAM": "3",
                                    "ELOZO_HAROM_FO": "7"
                                },
                                {
                                    "USERNEV": "aron2",
                                    "NEV": "Jakab Áron",
                                    "METTOL": "2017-02-26",
                                    "MEDDIG": "2017-02-27",
                                    "FO_SZAM": "3",
                                    "ELOZO_HAROM_FO": "7"
                                },
                                {
                                    "USERNEV": "ARONK",
                                    "NEV": "Kelemen Áron",
                                    "METTOL": "2016-04-06",
                                    "MEDDIG": "2016-04-08",
                                    "FO_SZAM": "2",
                                    "ELOZO_HAROM_FO": "0"
                                },
                                {
                                    "USERNEV": "ARONK",
                                    "NEV": "Kelemen Áron",
                                    "METTOL": "2016-05-14",
                                    "MEDDIG": "2016-05-20",
                                    "FO_SZAM": "4",
                                    "ELOZO_HAROM_FO": "2"
                                },
                                {
                                    "USERNEV": "ARONK",
                                    "NEV": "Kelemen Áron",
                                    "METTOL": "2016-06-04",
                                    "MEDDIG": "2016-06-09",
                                    "FO_SZAM": "2",
                                    "ELOZO_HAROM_FO": "6"
                                },
                                {
                                    "USERNEV": "ARONK",
                                    "NEV": "Kelemen Áron",
                                    "METTOL": "2016-06-07",
                                    "MEDDIG": "2016-06-13",
                                    "FO_SZAM": "3",
                                    "ELOZO_HAROM_FO": "8"
                                },
                                {
                                    "USERNEV": "ARONK",
                                    "NEV": "Kelemen Áron",
                                    "METTOL": "2016-07-03",
                                    "MEDDIG": "2016-07-07",
                                    "FO_SZAM": "2",
                                    "ELOZO_HAROM_FO": "9"
                                },
                                {
                                    "USERNEV": "ARONK",
                                    "NEV": "Kelemen Áron",
                                    "METTOL": "2016-08-05",
                                    "MEDDIG": "2016-08-08",
                                    "FO_SZAM": "4",
                                    "ELOZO_HAROM_FO": "7"
                                },
                                {
                                    "USERNEV": "ARONK",
                                    "NEV": "Kelemen Áron",
                                    "METTOL": "2016-09-08",
                                    "MEDDIG": "2016-09-15",
                                    "FO_SZAM": "2",
                                    "ELOZO_HAROM_FO": "9"
                                },
                                {
                                    "USERNEV": "ARONK",
                                    "NEV": "Kelemen Áron",
                                    "METTOL": "2016-11-03",
                                    "MEDDIG": "2016-11-10",
                                    "FO_SZAM": "2",
                                    "ELOZO_HAROM_FO": "8"
                                },
                                {
                                    "USERNEV": "ARONK",
                                    "NEV": "Kelemen Áron",
                                    "METTOL": "2016-11-05",
                                    "MEDDIG": "2016-11-07",
                                    "FO_SZAM": "2",
                                    "ELOZO_HAROM_FO": "8"
                                },
                                {
                                    "USERNEV": "ARONK",
                                    "NEV": "Kelemen Áron",
                                    "METTOL": "2016-12-07",
                                    "MEDDIG": "2016-12-12",
                                    "FO_SZAM": "3",
                                    "ELOZO_HAROM_FO": "6"
                                },
                                {
                                    "USERNEV": "ARONK",
                                    "NEV": "Kelemen Áron",
                                    "METTOL": "2017-01-01",
                                    "MEDDIG": "2017-01-03",
                                    "FO_SZAM": "2",
                                    "ELOZO_HAROM_FO": "7"
                                },
                                {
                                    "USERNEV": "ARONK",
                                    "NEV": "Kelemen Áron",
                                    "METTOL": "2017-01-30",
                                    "MEDDIG": "2017-02-03",
                                    "FO_SZAM": "2",
                                    "ELOZO_HAROM_FO": "7"
                                },
                                {
                                    "USERNEV": "ARONK",
                                    "NEV": "Kelemen Áron",
                                    "METTOL": "2017-02-21",
                                    "MEDDIG": "2017-02-23",
                                    "FO_SZAM": "2",
                                    "ELOZO_HAROM_FO": "7"
                                },
                                {
                                    "USERNEV": "arpad2",
                                    "NEV": "Ötvös Árpád",
                                    "METTOL": "2016-06-05",
                                    "MEDDIG": "2016-06-07",
                                    "FO_SZAM": "2",
                                    "ELOZO_HAROM_FO": "0"
                                },
                                {
                                    "USERNEV": "arpad2",
                                    "NEV": "Ötvös Árpád",
                                    "METTOL": "2016-08-23",
                                    "MEDDIG": "2016-08-25",
                                    "FO_SZAM": "2",
                                    "ELOZO_HAROM_FO": "2"
                                },
                                {
                                    "USERNEV": "arpad2",
                                    "NEV": "Ötvös Árpád",
                                    "METTOL": "2016-09-28",
                                    "MEDDIG": "2016-09-30",
                                    "FO_SZAM": "2",
                                    "ELOZO_HAROM_FO": "4"
                                },
                                {
                                    "USERNEV": "arpad2",
                                    "NEV": "Ötvös Árpád",
                                    "METTOL": "2016-10-13",
                                    "MEDDIG": "2016-10-19",
                                    "FO_SZAM": "3",
                                    "ELOZO_HAROM_FO": "6"
                                },
                                {
                                    "USERNEV": "arpad2",
                                    "NEV": "Ötvös Árpád",
                                    "METTOL": "2016-11-06",
                                    "MEDDIG": "2016-11-10",
                                    "FO_SZAM": "2",
                                    "ELOZO_HAROM_FO": "7"
                                },
                                {
                                    "USERNEV": "arpad2",
                                    "NEV": "Ötvös Árpád",
                                    "METTOL": "2016-12-24",
                                    "MEDDIG": "2016-12-27",
                                    "FO_SZAM": "3",
                                    "ELOZO_HAROM_FO": "7"
                                },
                                {
                                    "USERNEV": "arpad2",
                                    "NEV": "Ötvös Árpád",
                                    "METTOL": "2017-02-18",
                                    "MEDDIG": "2017-02-19",
                                    "FO_SZAM": "4",
                                    "ELOZO_HAROM_FO": "8"
                                },
                                {
                                    "USERNEV": "ARPADH",
                                    "NEV": "Horváth Árpád",
                                    "METTOL": "2016-06-06",
                                    "MEDDIG": "2016-06-07",
                                    "FO_SZAM": "3",
                                    "ELOZO_HAROM_FO": "0"
                                },
                                {
                                    "USERNEV": "ARPADH",
                                    "NEV": "Horváth Árpád",
                                    "METTOL": "2016-07-14",
                                    "MEDDIG": "2016-07-18",
                                    "FO_SZAM": "2",
                                    "ELOZO_HAROM_FO": "3"
                                },
                                {
                                    "USERNEV": "ARPADH",
                                    "NEV": "Horváth Árpád",
                                    "METTOL": "2016-09-16",
                                    "MEDDIG": "2016-09-23",
                                    "FO_SZAM": "1",
                                    "ELOZO_HAROM_FO": "5"
                                },
                                {
                                    "USERNEV": "ARPADH",
                                    "NEV": "Horváth Árpád",
                                    "METTOL": "2016-09-18",
                                    "MEDDIG": "2016-09-25",
                                    "FO_SZAM": "1",
                                    "ELOZO_HAROM_FO": "6"
                                },
                                {
                                    "USERNEV": "ARPADH",
                                    "NEV": "Horváth Árpád",
                                    "METTOL": "2016-12-04",
                                    "MEDDIG": "2016-12-10",
                                    "FO_SZAM": "1",
                                    "ELOZO_HAROM_FO": "4"
                                },
                                {
                                    "USERNEV": "ARPADH",
                                    "NEV": "Horváth Árpád",
                                    "METTOL": "2016-12-18",
                                    "MEDDIG": "2016-12-19",
                                    "FO_SZAM": "3",
                                    "ELOZO_HAROM_FO": "3"
                                },
                                {
                                    "USERNEV": "ARPADH",
                                    "NEV": "Horváth Árpád",
                                    "METTOL": "2017-02-16",
                                    "MEDDIG": "2017-02-18",
                                    "FO_SZAM": "2",
                                    "ELOZO_HAROM_FO": "5"
                                },
                                {
                                    "USERNEV": "ARPADM",
                                    "NEV": "Móricz Árpád",
                                    "METTOL": "2016-05-29",
                                    "MEDDIG": "2016-06-01",
                                    "FO_SZAM": "2",
                                    "ELOZO_HAROM_FO": "0"
                                },
                                {
                                    "USERNEV": "ARPADM",
                                    "NEV": "Móricz Árpád",
                                    "METTOL": "2016-08-12",
                                    "MEDDIG": "2016-08-16",
                                    "FO_SZAM": "2",
                                    "ELOZO_HAROM_FO": "2"
                                },
                                {
                                    "USERNEV": "ARPADM",
                                    "NEV": "Móricz Árpád",
                                    "METTOL": "2016-11-09",
                                    "MEDDIG": "2016-11-11",
                                    "FO_SZAM": "2",
                                    "ELOZO_HAROM_FO": "4"
                                },
                                {
                                    "USERNEV": "ARPADM",
                                    "NEV": "Móricz Árpád",
                                    "METTOL": "2016-12-14",
                                    "MEDDIG": "2016-12-17",
                                    "FO_SZAM": "3",
                                    "ELOZO_HAROM_FO": "6"
                                },
                                {
                                    "USERNEV": "ARPADM",
                                    "NEV": "Móricz Árpád",
                                    "METTOL": "2017-01-05",
                                    "MEDDIG": "2017-01-10",
                                    "FO_SZAM": "1",
                                    "ELOZO_HAROM_FO": "7"
                                },
                                {
                                    "USERNEV": "ARPADM",
                                    "NEV": "Móricz Árpád",
                                    "METTOL": "2017-02-12",
                                    "MEDDIG": "2017-02-14",
                                    "FO_SZAM": "3",
                                    "ELOZO_HAROM_FO": "6"
                                },
                                {
                                    "USERNEV": "attila",
                                    "NEV": "Csóti Attila",
                                    "METTOL": "2016-09-30",
                                    "MEDDIG": "2016-10-07",
                                    "FO_SZAM": "3",
                                    "ELOZO_HAROM_FO": "0"
                                },
                                {
                                    "USERNEV": "attila",
                                    "NEV": "Csóti Attila",
                                    "METTOL": "2016-10-15",
                                    "MEDDIG": "2016-10-19",
                                    "FO_SZAM": "1",
                                    "ELOZO_HAROM_FO": "3"
                                },
                                {
                                    "USERNEV": "attila",
                                    "NEV": "Csóti Attila",
                                    "METTOL": "2016-12-22",
                                    "MEDDIG": "2016-12-26",
                                    "FO_SZAM": "2",
                                    "ELOZO_HAROM_FO": "4"
                                },
                                {
                                    "USERNEV": "attila1",
                                    "NEV": "Gulyás Attila",
                                    "METTOL": "2016-05-20",
                                    "MEDDIG": "2016-05-26",
                                    "FO_SZAM": "1",
                                    "ELOZO_HAROM_FO": "0"
                                },
                                {
                                    "USERNEV": "attila1",
                                    "NEV": "Gulyás Attila",
                                    "METTOL": "2016-10-09",
                                    "MEDDIG": "2016-10-12",
                                    "FO_SZAM": "2",
                                    "ELOZO_HAROM_FO": "1"
                                },
                                {
                                    "USERNEV": "attila1",
                                    "NEV": "Gulyás Attila",
                                    "METTOL": "2016-10-15",
                                    "MEDDIG": "2016-10-16",
                                    "FO_SZAM": "3",
                                    "ELOZO_HAROM_FO": "3"
                                },
                                {
                                    "USERNEV": "attila1",
                                    "NEV": "Gulyás Attila",
                                    "METTOL": "2016-10-30",
                                    "MEDDIG": "2016-11-05",
                                    "FO_SZAM": "2",
                                    "ELOZO_HAROM_FO": "6"
                                },
                                {
                                    "USERNEV": "attila1",
                                    "NEV": "Gulyás Attila",
                                    "METTOL": "2016-11-10",
                                    "MEDDIG": "2016-11-14",
                                    "FO_SZAM": "2",
                                    "ELOZO_HAROM_FO": "7"
                                },
                                {
                                    "USERNEV": "attila1",
                                    "NEV": "Gulyás Attila",
                                    "METTOL": "2017-01-23",
                                    "MEDDIG": "2017-01-30",
                                    "FO_SZAM": "4",
                                    "ELOZO_HAROM_FO": "7"
                                },
                                {
                                    "USERNEV": "attila4",
                                    "NEV": "Baróti Attila",
                                    "METTOL": "2016-08-18",
                                    "MEDDIG": "2016-08-23",
                                    "FO_SZAM": "4",
                                    "ELOZO_HAROM_FO": "0"
                                },
                                {
                                    "USERNEV": "attila4",
                                    "NEV": "Baróti Attila",
                                    "METTOL": "2016-12-31",
                                    "MEDDIG": "2017-01-01",
                                    "FO_SZAM": "2",
                                    "ELOZO_HAROM_FO": "4"
                                },
                                {
                                    "USERNEV": "attila4",
                                    "NEV": "Baróti Attila",
                                    "METTOL": "2017-02-15",
                                    "MEDDIG": "2017-02-22",
                                    "FO_SZAM": "2",
                                    "ELOZO_HAROM_FO": "6"
                                },
                                {
                                    "USERNEV": "ATTILAO",
                                    "NEV": "Opra Attila",
                                    "METTOL": "2016-05-21",
                                    "MEDDIG": "2016-05-26",
                                    "FO_SZAM": "3",
                                    "ELOZO_HAROM_FO": "0"
                                },
                                {
                                    "USERNEV": "ATTILAO",
                                    "NEV": "Opra Attila",
                                    "METTOL": "2016-06-04",
                                    "MEDDIG": "2016-06-11",
                                    "FO_SZAM": "3",
                                    "ELOZO_HAROM_FO": "3"
                                },
                                {
                                    "USERNEV": "ATTILAO",
                                    "NEV": "Opra Attila",
                                    "METTOL": "2016-10-30",
                                    "MEDDIG": "2016-11-03",
                                    "FO_SZAM": "2",
                                    "ELOZO_HAROM_FO": "6"
                                },
                                {
                                    "USERNEV": "ATTILAO",
                                    "NEV": "Opra Attila",
                                    "METTOL": "2017-02-22",
                                    "MEDDIG": "2017-02-25",
                                    "FO_SZAM": "3",
                                    "ELOZO_HAROM_FO": "8"
                                },
                                {
                                    "USERNEV": "balazs1",
                                    "NEV": "Bozsik Balázs",
                                    "METTOL": "2016-05-07",
                                    "MEDDIG": "2016-05-14",
                                    "FO_SZAM": "2",
                                    "ELOZO_HAROM_FO": "0"
                                },
                                {
                                    "USERNEV": "balazs1",
                                    "NEV": "Bozsik Balázs",
                                    "METTOL": "2016-07-22",
                                    "MEDDIG": "2016-07-26",
                                    "FO_SZAM": "4",
                                    "ELOZO_HAROM_FO": "2"
                                },
                                {
                                    "USERNEV": "balazs1",
                                    "NEV": "Bozsik Balázs",
                                    "METTOL": "2016-12-26",
                                    "MEDDIG": "2016-12-28",
                                    "FO_SZAM": "3",
                                    "ELOZO_HAROM_FO": "6"
                                },
                                {
                                    "USERNEV": "balazs1",
                                    "NEV": "Bozsik Balázs",
                                    "METTOL": "2017-01-01",
                                    "MEDDIG": "2017-01-05",
                                    "FO_SZAM": "2",
                                    "ELOZO_HAROM_FO": "9"
                                },
                                {
                                    "USERNEV": "balazs1",
                                    "NEV": "Bozsik Balázs",
                                    "METTOL": "2017-02-10",
                                    "MEDDIG": "2017-02-14",
                                    "FO_SZAM": "3",
                                    "ELOZO_HAROM_FO": "9"
                                },
                                {
                                    "USERNEV": "balazs1",
                                    "NEV": "Bozsik Balázs",
                                    "METTOL": "2017-02-12",
                                    "MEDDIG": "2017-02-14",
                                    "FO_SZAM": "2",
                                    "ELOZO_HAROM_FO": "8"
                                },
                                {
                                    "USERNEV": "balazs2",
                                    "NEV": "Szűcs Balázs",
                                    "METTOL": "2016-04-16",
                                    "MEDDIG": "2016-04-19",
                                    "FO_SZAM": "2",
                                    "ELOZO_HAROM_FO": "0"
                                },
                                {
                                    "USERNEV": "balazs2",
                                    "NEV": "Szűcs Balázs",
                                    "METTOL": "2016-05-22",
                                    "MEDDIG": "2016-05-29",
                                    "FO_SZAM": "3",
                                    "ELOZO_HAROM_FO": "2"
                                },
                                {
                                    "USERNEV": "balazs2",
                                    "NEV": "Szűcs Balázs",
                                    "METTOL": "2016-05-28",
                                    "MEDDIG": "2016-06-01",
                                    "FO_SZAM": "3",
                                    "ELOZO_HAROM_FO": "5"
                                },
                                {
                                    "USERNEV": "balazs2",
                                    "NEV": "Szűcs Balázs",
                                    "METTOL": "2016-07-08",
                                    "MEDDIG": "2016-07-12",
                                    "FO_SZAM": "3",
                                    "ELOZO_HAROM_FO": "8"
                                },
                                {
                                    "USERNEV": "balazs2",
                                    "NEV": "Szűcs Balázs",
                                    "METTOL": "2016-07-10",
                                    "MEDDIG": "2016-07-17",
                                    "FO_SZAM": "3",
                                    "ELOZO_HAROM_FO": "9"
                                },
                                {
                                    "USERNEV": "balazs2",
                                    "NEV": "Szűcs Balázs",
                                    "METTOL": "2016-07-20",
                                    "MEDDIG": "2016-07-25",
                                    "FO_SZAM": "2",
                                    "ELOZO_HAROM_FO": "9"
                                },
                                {
                                    "USERNEV": "balazs2",
                                    "NEV": "Szűcs Balázs",
                                    "METTOL": "2016-08-21",
                                    "MEDDIG": "2016-08-22",
                                    "FO_SZAM": "3",
                                    "ELOZO_HAROM_FO": "8"
                                },
                                {
                                    "USERNEV": "balazs2",
                                    "NEV": "Szűcs Balázs",
                                    "METTOL": "2016-09-12",
                                    "MEDDIG": "2016-09-14",
                                    "FO_SZAM": "3",
                                    "ELOZO_HAROM_FO": "8"
                                },
                                {
                                    "USERNEV": "balazs2",
                                    "NEV": "Szűcs Balázs",
                                    "METTOL": "2016-11-03",
                                    "MEDDIG": "2016-11-05",
                                    "FO_SZAM": "3",
                                    "ELOZO_HAROM_FO": "8"
                                },
                                {
                                    "USERNEV": "balazs2",
                                    "NEV": "Szűcs Balázs",
                                    "METTOL": "2017-02-27",
                                    "MEDDIG": "2017-03-06",
                                    "FO_SZAM": "1",
                                    "ELOZO_HAROM_FO": "9"
                                },
                                {
                                    "USERNEV": "balazs3",
                                    "NEV": "Bakódy Balázs",
                                    "METTOL": "2016-07-17",
                                    "MEDDIG": "2016-07-21",
                                    "FO_SZAM": "2",
                                    "ELOZO_HAROM_FO": "0"
                                },
                                {
                                    "USERNEV": "balazs3",
                                    "NEV": "Bakódy Balázs",
                                    "METTOL": "2016-07-27",
                                    "MEDDIG": "2016-07-31",
                                    "FO_SZAM": "4",
                                    "ELOZO_HAROM_FO": "2"
                                },
                                {
                                    "USERNEV": "balazs3",
                                    "NEV": "Bakódy Balázs",
                                    "METTOL": "2016-08-24",
                                    "MEDDIG": "2016-08-28",
                                    "FO_SZAM": "3",
                                    "ELOZO_HAROM_FO": "6"
                                },
                                {
                                    "USERNEV": "balazs3",
                                    "NEV": "Bakódy Balázs",
                                    "METTOL": "2016-09-15",
                                    "MEDDIG": "2016-09-16",
                                    "FO_SZAM": "3",
                                    "ELOZO_HAROM_FO": "9"
                                },
                                {
                                    "USERNEV": "balazs3",
                                    "NEV": "Bakódy Balázs",
                                    "METTOL": "2016-12-05",
                                    "MEDDIG": "2016-12-11",
                                    "FO_SZAM": "3",
                                    "ELOZO_HAROM_FO": "10"
                                },
                                {
                                    "USERNEV": "balazs3",
                                    "NEV": "Bakódy Balázs",
                                    "METTOL": "2017-01-20",
                                    "MEDDIG": "2017-01-22",
                                    "FO_SZAM": "2",
                                    "ELOZO_HAROM_FO": "9"
                                },
                                {
                                    "USERNEV": "balint",
                                    "NEV": "Horváth Bálint",
                                    "METTOL": "2016-04-22",
                                    "MEDDIG": "2016-04-29",
                                    "FO_SZAM": "2",
                                    "ELOZO_HAROM_FO": "0"
                                },
                                {
                                    "USERNEV": "balint",
                                    "NEV": "Horváth Bálint",
                                    "METTOL": "2016-10-09",
                                    "MEDDIG": "2016-10-11",
                                    "FO_SZAM": "2",
                                    "ELOZO_HAROM_FO": "2"
                                },
                                {
                                    "USERNEV": "balint",
                                    "NEV": "Horváth Bálint",
                                    "METTOL": "2016-11-24",
                                    "MEDDIG": "2016-11-29",
                                    "FO_SZAM": "3",
                                    "ELOZO_HAROM_FO": "4"
                                },
                                {
                                    "USERNEV": "balint1",
                                    "NEV": "Molnár Bálint",
                                    "METTOL": "2016-06-07",
                                    "MEDDIG": "2016-06-11",
                                    "FO_SZAM": "3",
                                    "ELOZO_HAROM_FO": "0"
                                },
                                {
                                    "USERNEV": "balint1",
                                    "NEV": "Molnár Bálint",
                                    "METTOL": "2016-06-07",
                                    "MEDDIG": "2016-06-12",
                                    "FO_SZAM": "3",
                                    "ELOZO_HAROM_FO": "3"
                                },
                                {
                                    "USERNEV": "balint1",
                                    "NEV": "Molnár Bálint",
                                    "METTOL": "2016-06-10",
                                    "MEDDIG": "2016-06-12",
                                    "FO_SZAM": "1",
                                    "ELOZO_HAROM_FO": "6"
                                },
                                {
                                    "USERNEV": "balint1",
                                    "NEV": "Molnár Bálint",
                                    "METTOL": "2016-07-26",
                                    "MEDDIG": "2016-07-28",
                                    "FO_SZAM": "2",
                                    "ELOZO_HAROM_FO": "7"
                                },
                                {
                                    "USERNEV": "balint1",
                                    "NEV": "Molnár Bálint",
                                    "METTOL": "2016-08-03",
                                    "MEDDIG": "2016-08-08",
                                    "FO_SZAM": "2",
                                    "ELOZO_HAROM_FO": "6"
                                },
                                {
                                    "USERNEV": "balint1",
                                    "NEV": "Molnár Bálint",
                                    "METTOL": "2016-09-16",
                                    "MEDDIG": "2016-09-21",
                                    "FO_SZAM": "1",
                                    "ELOZO_HAROM_FO": "5"
                                },
                                {
                                    "USERNEV": "balint1",
                                    "NEV": "Molnár Bálint",
                                    "METTOL": "2016-11-07",
                                    "MEDDIG": "2016-11-10",
                                    "FO_SZAM": "2",
                                    "ELOZO_HAROM_FO": "5"
                                },
                                {
                                    "USERNEV": "balint1",
                                    "NEV": "Molnár Bálint",
                                    "METTOL": "2016-12-17",
                                    "MEDDIG": "2016-12-22",
                                    "FO_SZAM": "3",
                                    "ELOZO_HAROM_FO": "5"
                                },
                                {
                                    "USERNEV": "balint1",
                                    "NEV": "Molnár Bálint",
                                    "METTOL": "2016-12-29",
                                    "MEDDIG": "2016-12-31",
                                    "FO_SZAM": "3",
                                    "ELOZO_HAROM_FO": "6"
                                },
                                {
                                    "USERNEV": "balint1",
                                    "NEV": "Molnár Bálint",
                                    "METTOL": "2017-01-03",
                                    "MEDDIG": "2017-01-08",
                                    "FO_SZAM": "2",
                                    "ELOZO_HAROM_FO": "8"
                                },
                                {
                                    "USERNEV": "balint2",
                                    "NEV": "Vukasinovity Bálint",
                                    "METTOL": "2016-07-21",
                                    "MEDDIG": "2016-07-26",
                                    "FO_SZAM": "1",
                                    "ELOZO_HAROM_FO": "0"
                                },
                                {
                                    "USERNEV": "balint2",
                                    "NEV": "Vukasinovity Bálint",
                                    "METTOL": "2016-12-04",
                                    "MEDDIG": "2016-12-06",
                                    "FO_SZAM": "3",
                                    "ELOZO_HAROM_FO": "1"
                                },
                                {
                                    "USERNEV": "balu",
                                    "NEV": "Endresz Bálint",
                                    "METTOL": "2016-08-06",
                                    "MEDDIG": "2016-08-10",
                                    "FO_SZAM": "2",
                                    "ELOZO_HAROM_FO": "0"
                                },
                                {
                                    "USERNEV": "balu",
                                    "NEV": "Endresz Bálint",
                                    "METTOL": "2016-12-22",
                                    "MEDDIG": "2016-12-23",
                                    "FO_SZAM": "2",
                                    "ELOZO_HAROM_FO": "2"
                                },
                                {
                                    "USERNEV": "beata4",
                                    "NEV": "Bagi Beáta",
                                    "METTOL": "2016-04-20",
                                    "MEDDIG": "2016-04-21",
                                    "FO_SZAM": "2",
                                    "ELOZO_HAROM_FO": "0"
                                },
                                {
                                    "USERNEV": "beata4",
                                    "NEV": "Bagi Beáta",
                                    "METTOL": "2016-06-03",
                                    "MEDDIG": "2016-06-04",
                                    "FO_SZAM": "2",
                                    "ELOZO_HAROM_FO": "2"
                                },
                                {
                                    "USERNEV": "beata4",
                                    "NEV": "Bagi Beáta",
                                    "METTOL": "2016-07-03",
                                    "MEDDIG": "2016-07-06",
                                    "FO_SZAM": "1",
                                    "ELOZO_HAROM_FO": "4"
                                },
                                {
                                    "USERNEV": "beata4",
                                    "NEV": "Bagi Beáta",
                                    "METTOL": "2016-08-25",
                                    "MEDDIG": "2016-08-27",
                                    "FO_SZAM": "3",
                                    "ELOZO_HAROM_FO": "5"
                                },
                                {
                                    "USERNEV": "beata4",
                                    "NEV": "Bagi Beáta",
                                    "METTOL": "2016-10-01",
                                    "MEDDIG": "2016-10-05",
                                    "FO_SZAM": "1",
                                    "ELOZO_HAROM_FO": "6"
                                },
                                {
                                    "USERNEV": "beata4",
                                    "NEV": "Bagi Beáta",
                                    "METTOL": "2016-10-03",
                                    "MEDDIG": "2016-10-06",
                                    "FO_SZAM": "3",
                                    "ELOZO_HAROM_FO": "5"
                                },
                                {
                                    "USERNEV": "BEATRIXK",
                                    "NEV": "Kerényi Beatrix",
                                    "METTOL": "2016-06-10",
                                    "MEDDIG": "2016-06-11",
                                    "FO_SZAM": "2",
                                    "ELOZO_HAROM_FO": "0"
                                },
                                {
                                    "USERNEV": "BEATRIXK",
                                    "NEV": "Kerényi Beatrix",
                                    "METTOL": "2016-06-10",
                                    "MEDDIG": "2016-06-14",
                                    "FO_SZAM": "2",
                                    "ELOZO_HAROM_FO": "2"
                                },
                                {
                                    "USERNEV": "BEATRIXK",
                                    "NEV": "Kerényi Beatrix",
                                    "METTOL": "2016-06-19",
                                    "MEDDIG": "2016-06-21",
                                    "FO_SZAM": "3",
                                    "ELOZO_HAROM_FO": "4"
                                },
                                {
                                    "USERNEV": "BEATRIXK",
                                    "NEV": "Kerényi Beatrix",
                                    "METTOL": "2016-08-12",
                                    "MEDDIG": "2016-08-18",
                                    "FO_SZAM": "4",
                                    "ELOZO_HAROM_FO": "7"
                                },
                                {
                                    "USERNEV": "BEATRIXK",
                                    "NEV": "Kerényi Beatrix",
                                    "METTOL": "2016-10-23",
                                    "MEDDIG": "2016-10-28",
                                    "FO_SZAM": "2",
                                    "ELOZO_HAROM_FO": "9"
                                },
                                {
                                    "USERNEV": "BEATRIXK",
                                    "NEV": "Kerényi Beatrix",
                                    "METTOL": "2016-11-14",
                                    "MEDDIG": "2016-11-19",
                                    "FO_SZAM": "2",
                                    "ELOZO_HAROM_FO": "9"
                                },
                                {
                                    "USERNEV": "BEATRIXK",
                                    "NEV": "Kerényi Beatrix",
                                    "METTOL": "2016-12-12",
                                    "MEDDIG": "2016-12-14",
                                    "FO_SZAM": "3",
                                    "ELOZO_HAROM_FO": "8"
                                },
                                {
                                    "USERNEV": "BEATRIXK",
                                    "NEV": "Kerényi Beatrix",
                                    "METTOL": "2016-12-17",
                                    "MEDDIG": "2016-12-22",
                                    "FO_SZAM": "4",
                                    "ELOZO_HAROM_FO": "7"
                                },
                                {
                                    "USERNEV": "BEATRIXK",
                                    "NEV": "Kerényi Beatrix",
                                    "METTOL": "2017-02-08",
                                    "MEDDIG": "2017-02-09",
                                    "FO_SZAM": "3",
                                    "ELOZO_HAROM_FO": "9"
                                },
                                {
                                    "USERNEV": "BEATRIXS",
                                    "NEV": "Szekendi Beatrix",
                                    "METTOL": "2016-04-18",
                                    "MEDDIG": "2016-04-24",
                                    "FO_SZAM": "1",
                                    "ELOZO_HAROM_FO": "0"
                                },
                                {
                                    "USERNEV": "BEATRIXS",
                                    "NEV": "Szekendi Beatrix",
                                    "METTOL": "2016-06-11",
                                    "MEDDIG": "2016-06-14",
                                    "FO_SZAM": "3",
                                    "ELOZO_HAROM_FO": "1"
                                },
                                {
                                    "USERNEV": "BEATRIXS",
                                    "NEV": "Szekendi Beatrix",
                                    "METTOL": "2016-10-01",
                                    "MEDDIG": "2016-10-03",
                                    "FO_SZAM": "3",
                                    "ELOZO_HAROM_FO": "4"
                                },
                                {
                                    "USERNEV": "BEATRIXS",
                                    "NEV": "Szekendi Beatrix",
                                    "METTOL": "2016-10-01",
                                    "MEDDIG": "2016-10-05",
                                    "FO_SZAM": "3",
                                    "ELOZO_HAROM_FO": "7"
                                },
                                {
                                    "USERNEV": "BEATRIXS",
                                    "NEV": "Szekendi Beatrix",
                                    "METTOL": "2016-12-21",
                                    "MEDDIG": "2016-12-27",
                                    "FO_SZAM": "2",
                                    "ELOZO_HAROM_FO": "9"
                                },
                                {
                                    "USERNEV": "BEATRIXS",
                                    "NEV": "Szekendi Beatrix",
                                    "METTOL": "2017-02-03",
                                    "MEDDIG": "2017-02-04",
                                    "FO_SZAM": "2",
                                    "ELOZO_HAROM_FO": "8"
                                },
                                {
                                    "USERNEV": "BELAF",
                                    "NEV": "Farkas Béla",
                                    "METTOL": "2016-07-27",
                                    "MEDDIG": "2016-07-30",
                                    "FO_SZAM": "3",
                                    "ELOZO_HAROM_FO": "0"
                                },
                                {
                                    "USERNEV": "BELAF",
                                    "NEV": "Farkas Béla",
                                    "METTOL": "2016-07-29",
                                    "MEDDIG": "2016-07-31",
                                    "FO_SZAM": "2",
                                    "ELOZO_HAROM_FO": "3"
                                },
                                {
                                    "USERNEV": "BELAF",
                                    "NEV": "Farkas Béla",
                                    "METTOL": "2016-08-29",
                                    "MEDDIG": "2016-08-31",
                                    "FO_SZAM": "2",
                                    "ELOZO_HAROM_FO": "5"
                                },
                                {
                                    "USERNEV": "BELAF",
                                    "NEV": "Farkas Béla",
                                    "METTOL": "2016-11-03",
                                    "MEDDIG": "2016-11-09",
                                    "FO_SZAM": "4",
                                    "ELOZO_HAROM_FO": "7"
                                },
                                {
                                    "USERNEV": "BELAF",
                                    "NEV": "Farkas Béla",
                                    "METTOL": "2016-12-02",
                                    "MEDDIG": "2016-12-04",
                                    "FO_SZAM": "3",
                                    "ELOZO_HAROM_FO": "8"
                                },
                                {
                                    "USERNEV": "BELAF",
                                    "NEV": "Farkas Béla",
                                    "METTOL": "2016-12-06",
                                    "MEDDIG": "2016-12-09",
                                    "FO_SZAM": "1",
                                    "ELOZO_HAROM_FO": "9"
                                },
                                {
                                    "USERNEV": "bence",
                                    "NEV": "Győrffy Bence",
                                    "METTOL": "2016-05-08",
                                    "MEDDIG": "2016-05-11",
                                    "FO_SZAM": "2",
                                    "ELOZO_HAROM_FO": "0"
                                },
                                {
                                    "USERNEV": "bence",
                                    "NEV": "Győrffy Bence",
                                    "METTOL": "2016-05-29",
                                    "MEDDIG": "2016-06-03",
                                    "FO_SZAM": "1",
                                    "ELOZO_HAROM_FO": "2"
                                },
                                {
                                    "USERNEV": "bence",
                                    "NEV": "Győrffy Bence",
                                    "METTOL": "2016-07-24",
                                    "MEDDIG": "2016-07-30",
                                    "FO_SZAM": "2",
                                    "ELOZO_HAROM_FO": "3"
                                },
                                {
                                    "USERNEV": "bence",
                                    "NEV": "Győrffy Bence",
                                    "METTOL": "2016-07-25",
                                    "MEDDIG": "2016-08-01",
                                    "FO_SZAM": "3",
                                    "ELOZO_HAROM_FO": "5"
                                },
                                {
                                    "USERNEV": "bence",
                                    "NEV": "Győrffy Bence",
                                    "METTOL": "2016-09-03",
                                    "MEDDIG": "2016-09-06",
                                    "FO_SZAM": "3",
                                    "ELOZO_HAROM_FO": "6"
                                },
                                {
                                    "USERNEV": "bence",
                                    "NEV": "Győrffy Bence",
                                    "METTOL": "2016-10-30",
                                    "MEDDIG": "2016-11-02",
                                    "FO_SZAM": "4",
                                    "ELOZO_HAROM_FO": "8"
                                },
                                {
                                    "USERNEV": "bence",
                                    "NEV": "Győrffy Bence",
                                    "METTOL": "2016-12-17",
                                    "MEDDIG": "2016-12-18",
                                    "FO_SZAM": "2",
                                    "ELOZO_HAROM_FO": "10"
                                },
                                {
                                    "USERNEV": "bence",
                                    "NEV": "Győrffy Bence",
                                    "METTOL": "2016-12-26",
                                    "MEDDIG": "2016-12-27",
                                    "FO_SZAM": "2",
                                    "ELOZO_HAROM_FO": "9"
                                },
                                {
                                    "USERNEV": "bence",
                                    "NEV": "Győrffy Bence",
                                    "METTOL": "2017-02-05",
                                    "MEDDIG": "2017-02-09",
                                    "FO_SZAM": "3",
                                    "ELOZO_HAROM_FO": "8"
                                },
                                {
                                    "USERNEV": "BENCEB",
                                    "NEV": "Bajusz Bence",
                                    "METTOL": "2016-05-14",
                                    "MEDDIG": "2016-05-17",
                                    "FO_SZAM": "3",
                                    "ELOZO_HAROM_FO": "0"
                                },
                                {
                                    "USERNEV": "BENCEB",
                                    "NEV": "Bajusz Bence",
                                    "METTOL": "2016-06-03",
                                    "MEDDIG": "2016-06-09",
                                    "FO_SZAM": "2",
                                    "ELOZO_HAROM_FO": "3"
                                },
                                {
                                    "USERNEV": "BENCEB",
                                    "NEV": "Bajusz Bence",
                                    "METTOL": "2016-08-01",
                                    "MEDDIG": "2016-08-02",
                                    "FO_SZAM": "2",
                                    "ELOZO_HAROM_FO": "5"
                                },
                                {
                                    "USERNEV": "BENCEB",
                                    "NEV": "Bajusz Bence",
                                    "METTOL": "2016-10-22",
                                    "MEDDIG": "2016-10-29",
                                    "FO_SZAM": "3",
                                    "ELOZO_HAROM_FO": "7"
                                },
                                {
                                    "USERNEV": "BENCEB",
                                    "NEV": "Bajusz Bence",
                                    "METTOL": "2016-11-28",
                                    "MEDDIG": "2016-12-02",
                                    "FO_SZAM": "2",
                                    "ELOZO_HAROM_FO": "7"
                                },
                                {
                                    "USERNEV": "BENCEB",
                                    "NEV": "Bajusz Bence",
                                    "METTOL": "2017-02-12",
                                    "MEDDIG": "2017-02-19",
                                    "FO_SZAM": "3",
                                    "ELOZO_HAROM_FO": "7"
                                },
                                {
                                    "USERNEV": "bernadett1",
                                    "NEV": "Simon Bernadett",
                                    "METTOL": "2016-06-12",
                                    "MEDDIG": "2016-06-17",
                                    "FO_SZAM": "3",
                                    "ELOZO_HAROM_FO": "0"
                                },
                                {
                                    "USERNEV": "bernadett1",
                                    "NEV": "Simon Bernadett",
                                    "METTOL": "2016-10-08",
                                    "MEDDIG": "2016-10-09",
                                    "FO_SZAM": "4",
                                    "ELOZO_HAROM_FO": "3"
                                },
                                {
                                    "USERNEV": "bernadett1",
                                    "NEV": "Simon Bernadett",
                                    "METTOL": "2016-10-15",
                                    "MEDDIG": "2016-10-22",
                                    "FO_SZAM": "3",
                                    "ELOZO_HAROM_FO": "7"
                                },
                                {
                                    "USERNEV": "bernadett1",
                                    "NEV": "Simon Bernadett",
                                    "METTOL": "2016-10-26",
                                    "MEDDIG": "2016-11-02",
                                    "FO_SZAM": "3",
                                    "ELOZO_HAROM_FO": "10"
                                },
                                {
                                    "USERNEV": "bernadett1",
                                    "NEV": "Simon Bernadett",
                                    "METTOL": "2016-10-28",
                                    "MEDDIG": "2016-11-01",
                                    "FO_SZAM": "3",
                                    "ELOZO_HAROM_FO": "10"
                                },
                                {
                                    "USERNEV": "bernadett1",
                                    "NEV": "Simon Bernadett",
                                    "METTOL": "2017-02-14",
                                    "MEDDIG": "2017-02-15",
                                    "FO_SZAM": "3",
                                    "ELOZO_HAROM_FO": "9"
                                },
                                {
                                    "USERNEV": "bernadett1",
                                    "NEV": "Simon Bernadett",
                                    "METTOL": "2017-02-24",
                                    "MEDDIG": "2017-03-03",
                                    "FO_SZAM": "1",
                                    "ELOZO_HAROM_FO": "9"
                                },
                                {
                                    "USERNEV": "bernadett2",
                                    "NEV": "Kovács Bernadett",
                                    "METTOL": "2016-05-01",
                                    "MEDDIG": "2016-05-03",
                                    "FO_SZAM": "2",
                                    "ELOZO_HAROM_FO": "0"
                                },
                                {
                                    "USERNEV": "bernadett2",
                                    "NEV": "Kovács Bernadett",
                                    "METTOL": "2016-06-17",
                                    "MEDDIG": "2016-06-23",
                                    "FO_SZAM": "3",
                                    "ELOZO_HAROM_FO": "2"
                                },
                                {
                                    "USERNEV": "bernadett2",
                                    "NEV": "Kovács Bernadett",
                                    "METTOL": "2016-08-23",
                                    "MEDDIG": "2016-08-29",
                                    "FO_SZAM": "2",
                                    "ELOZO_HAROM_FO": "5"
                                },
                                {
                                    "USERNEV": "bernadett2",
                                    "NEV": "Kovács Bernadett",
                                    "METTOL": "2016-08-25",
                                    "MEDDIG": "2016-08-27",
                                    "FO_SZAM": "3",
                                    "ELOZO_HAROM_FO": "7"
                                },
                                {
                                    "USERNEV": "bernadett2",
                                    "NEV": "Kovács Bernadett",
                                    "METTOL": "2016-09-07",
                                    "MEDDIG": "2016-09-13",
                                    "FO_SZAM": "3",
                                    "ELOZO_HAROM_FO": "8"
                                },
                                {
                                    "USERNEV": "bernadett2",
                                    "NEV": "Kovács Bernadett",
                                    "METTOL": "2016-10-30",
                                    "MEDDIG": "2016-11-06",
                                    "FO_SZAM": "3",
                                    "ELOZO_HAROM_FO": "8"
                                },
                                {
                                    "USERNEV": "bernadett2",
                                    "NEV": "Kovács Bernadett",
                                    "METTOL": "2016-12-17",
                                    "MEDDIG": "2016-12-20",
                                    "FO_SZAM": "1",
                                    "ELOZO_HAROM_FO": "9"
                                },
                                {
                                    "USERNEV": "bernadett2",
                                    "NEV": "Kovács Bernadett",
                                    "METTOL": "2017-01-24",
                                    "MEDDIG": "2017-01-30",
                                    "FO_SZAM": "3",
                                    "ELOZO_HAROM_FO": "7"
                                },
                                {
                                    "USERNEV": "BERNADETTO",
                                    "NEV": "Orbán Bernadett",
                                    "METTOL": "2016-04-10",
                                    "MEDDIG": "2016-04-17",
                                    "FO_SZAM": "2",
                                    "ELOZO_HAROM_FO": "0"
                                },
                                {
                                    "USERNEV": "BERNADETTO",
                                    "NEV": "Orbán Bernadett",
                                    "METTOL": "2016-04-17",
                                    "MEDDIG": "2016-04-19",
                                    "FO_SZAM": "2",
                                    "ELOZO_HAROM_FO": "2"
                                },
                                {
                                    "USERNEV": "BERNADETTO",
                                    "NEV": "Orbán Bernadett",
                                    "METTOL": "2016-06-07",
                                    "MEDDIG": "2016-06-13",
                                    "FO_SZAM": "3",
                                    "ELOZO_HAROM_FO": "4"
                                },
                                {
                                    "USERNEV": "BERNADETTO",
                                    "NEV": "Orbán Bernadett",
                                    "METTOL": "2016-06-10",
                                    "MEDDIG": "2016-06-16",
                                    "FO_SZAM": "4",
                                    "ELOZO_HAROM_FO": "7"
                                },
                                {
                                    "USERNEV": "BERNADETTO",
                                    "NEV": "Orbán Bernadett",
                                    "METTOL": "2016-10-04",
                                    "MEDDIG": "2016-10-05",
                                    "FO_SZAM": "2",
                                    "ELOZO_HAROM_FO": "9"
                                },
                                {
                                    "USERNEV": "BERNADETTO",
                                    "NEV": "Orbán Bernadett",
                                    "METTOL": "2017-01-01",
                                    "MEDDIG": "2017-01-02",
                                    "FO_SZAM": "3",
                                    "ELOZO_HAROM_FO": "9"
                                },
                                {
                                    "USERNEV": "BERNADETTO",
                                    "NEV": "Orbán Bernadett",
                                    "METTOL": "2017-01-28",
                                    "MEDDIG": "2017-02-03",
                                    "FO_SZAM": "2",
                                    "ELOZO_HAROM_FO": "9"
                                },
                                {
                                    "USERNEV": "bertalan",
                                    "NEV": "Csiger Bertalan",
                                    "METTOL": "2016-05-18",
                                    "MEDDIG": "2016-05-23",
                                    "FO_SZAM": "2",
                                    "ELOZO_HAROM_FO": "0"
                                },
                                {
                                    "USERNEV": "bertalan",
                                    "NEV": "Csiger Bertalan",
                                    "METTOL": "2016-06-20",
                                    "MEDDIG": "2016-06-21",
                                    "FO_SZAM": "1",
                                    "ELOZO_HAROM_FO": "2"
                                },
                                {
                                    "USERNEV": "bertalan",
                                    "NEV": "Csiger Bertalan",
                                    "METTOL": "2016-11-03",
                                    "MEDDIG": "2016-11-10",
                                    "FO_SZAM": "2",
                                    "ELOZO_HAROM_FO": "3"
                                },
                                {
                                    "USERNEV": "bertalan",
                                    "NEV": "Csiger Bertalan",
                                    "METTOL": "2016-11-26",
                                    "MEDDIG": "2016-11-29",
                                    "FO_SZAM": "3",
                                    "ELOZO_HAROM_FO": "5"
                                },
                                {
                                    "USERNEV": "bertalan",
                                    "NEV": "Csiger Bertalan",
                                    "METTOL": "2017-02-16",
                                    "MEDDIG": "2017-02-22",
                                    "FO_SZAM": "2",
                                    "ELOZO_HAROM_FO": "6"
                                },
                                {
                                    "USERNEV": "bertalan",
                                    "NEV": "Csiger Bertalan",
                                    "METTOL": "2017-02-20",
                                    "MEDDIG": "2017-02-24",
                                    "FO_SZAM": "4",
                                    "ELOZO_HAROM_FO": "7"
                                },
                                {
                                    "USERNEV": "brigitta",
                                    "NEV": "Székely Brigitta",
                                    "METTOL": "2016-05-30",
                                    "MEDDIG": "2016-06-06",
                                    "FO_SZAM": "3",
                                    "ELOZO_HAROM_FO": "0"
                                },
                                {
                                    "USERNEV": "brigitta",
                                    "NEV": "Székely Brigitta",
                                    "METTOL": "2016-08-28",
                                    "MEDDIG": "2016-09-01",
                                    "FO_SZAM": "3",
                                    "ELOZO_HAROM_FO": "3"
                                },
                                {
                                    "USERNEV": "brigitta",
                                    "NEV": "Székely Brigitta",
                                    "METTOL": "2016-10-21",
                                    "MEDDIG": "2016-10-28",
                                    "FO_SZAM": "3",
                                    "ELOZO_HAROM_FO": "6"
                                },
                                {
                                    "USERNEV": "brigitta",
                                    "NEV": "Székely Brigitta",
                                    "METTOL": "2016-12-17",
                                    "MEDDIG": "2016-12-22",
                                    "FO_SZAM": "2",
                                    "ELOZO_HAROM_FO": "9"
                                },
                                {
                                    "USERNEV": "brigitta",
                                    "NEV": "Székely Brigitta",
                                    "METTOL": "2017-01-23",
                                    "MEDDIG": "2017-01-25",
                                    "FO_SZAM": "1",
                                    "ELOZO_HAROM_FO": "8"
                                },
                                {
                                    "USERNEV": "brigitta3",
                                    "NEV": "Pataki Brigitta",
                                    "METTOL": "2016-06-01",
                                    "MEDDIG": "2016-06-05",
                                    "FO_SZAM": "2",
                                    "ELOZO_HAROM_FO": "0"
                                },
                                {
                                    "USERNEV": "brigitta3",
                                    "NEV": "Pataki Brigitta",
                                    "METTOL": "2016-06-13",
                                    "MEDDIG": "2016-06-17",
                                    "FO_SZAM": "3",
                                    "ELOZO_HAROM_FO": "2"
                                },
                                {
                                    "USERNEV": "brigitta3",
                                    "NEV": "Pataki Brigitta",
                                    "METTOL": "2016-10-10",
                                    "MEDDIG": "2016-10-14",
                                    "FO_SZAM": "2",
                                    "ELOZO_HAROM_FO": "5"
                                },
                                {
                                    "USERNEV": "brigitta3",
                                    "NEV": "Pataki Brigitta",
                                    "METTOL": "2016-11-03",
                                    "MEDDIG": "2016-11-09",
                                    "FO_SZAM": "3",
                                    "ELOZO_HAROM_FO": "7"
                                },
                                {
                                    "USERNEV": "brigitta3",
                                    "NEV": "Pataki Brigitta",
                                    "METTOL": "2017-02-09",
                                    "MEDDIG": "2017-02-16",
                                    "FO_SZAM": "2",
                                    "ELOZO_HAROM_FO": "8"
                                },
                                {
                                    "USERNEV": "csongor3",
                                    "NEV": "Nagymihály Csongor",
                                    "METTOL": "2016-05-01",
                                    "MEDDIG": "2016-05-04",
                                    "FO_SZAM": "2",
                                    "ELOZO_HAROM_FO": "0"
                                },
                                {
                                    "USERNEV": "csongor3",
                                    "NEV": "Nagymihály Csongor",
                                    "METTOL": "2016-05-08",
                                    "MEDDIG": "2016-05-15",
                                    "FO_SZAM": "3",
                                    "ELOZO_HAROM_FO": "2"
                                },
                                {
                                    "USERNEV": "csongor3",
                                    "NEV": "Nagymihály Csongor",
                                    "METTOL": "2016-06-04",
                                    "MEDDIG": "2016-06-05",
                                    "FO_SZAM": "2",
                                    "ELOZO_HAROM_FO": "5"
                                },
                                {
                                    "USERNEV": "csongor3",
                                    "NEV": "Nagymihály Csongor",
                                    "METTOL": "2016-06-10",
                                    "MEDDIG": "2016-06-17",
                                    "FO_SZAM": "3",
                                    "ELOZO_HAROM_FO": "7"
                                },
                                {
                                    "USERNEV": "csongor3",
                                    "NEV": "Nagymihály Csongor",
                                    "METTOL": "2016-06-11",
                                    "MEDDIG": "2016-06-14",
                                    "FO_SZAM": "2",
                                    "ELOZO_HAROM_FO": "8"
                                },
                                {
                                    "USERNEV": "csongor3",
                                    "NEV": "Nagymihály Csongor",
                                    "METTOL": "2016-07-09",
                                    "MEDDIG": "2016-07-10",
                                    "FO_SZAM": "4",
                                    "ELOZO_HAROM_FO": "7"
                                },
                                {
                                    "USERNEV": "csongor3",
                                    "NEV": "Nagymihály Csongor",
                                    "METTOL": "2016-11-12",
                                    "MEDDIG": "2016-11-17",
                                    "FO_SZAM": "3",
                                    "ELOZO_HAROM_FO": "9"
                                },
                                {
                                    "USERNEV": "csongor3",
                                    "NEV": "Nagymihály Csongor",
                                    "METTOL": "2017-02-13",
                                    "MEDDIG": "2017-02-19",
                                    "FO_SZAM": "3",
                                    "ELOZO_HAROM_FO": "9"
                                },
                                {
                                    "USERNEV": "dani",
                                    "NEV": "Vörös Dániel",
                                    "METTOL": "2016-06-06",
                                    "MEDDIG": "2016-06-10",
                                    "FO_SZAM": "3",
                                    "ELOZO_HAROM_FO": "0"
                                },
                                {
                                    "USERNEV": "dani",
                                    "NEV": "Vörös Dániel",
                                    "METTOL": "2016-07-11",
                                    "MEDDIG": "2016-07-12",
                                    "FO_SZAM": "3",
                                    "ELOZO_HAROM_FO": "3"
                                },
                                {
                                    "USERNEV": "dani",
                                    "NEV": "Vörös Dániel",
                                    "METTOL": "2016-08-06",
                                    "MEDDIG": "2016-08-09",
                                    "FO_SZAM": "2",
                                    "ELOZO_HAROM_FO": "6"
                                },
                                {
                                    "USERNEV": "dani",
                                    "NEV": "Vörös Dániel",
                                    "METTOL": "2016-09-19",
                                    "MEDDIG": "2016-09-25",
                                    "FO_SZAM": "4",
                                    "ELOZO_HAROM_FO": "8"
                                },
                                {
                                    "USERNEV": "dani",
                                    "NEV": "Vörös Dániel",
                                    "METTOL": "2016-10-01",
                                    "MEDDIG": "2016-10-02",
                                    "FO_SZAM": "1",
                                    "ELOZO_HAROM_FO": "9"
                                },
                                {
                                    "USERNEV": "dani",
                                    "NEV": "Vörös Dániel",
                                    "METTOL": "2016-11-22",
                                    "MEDDIG": "2016-11-24",
                                    "FO_SZAM": "2",
                                    "ELOZO_HAROM_FO": "7"
                                },
                                {
                                    "USERNEV": "dani",
                                    "NEV": "Vörös Dániel",
                                    "METTOL": "2017-01-17",
                                    "MEDDIG": "2017-01-23",
                                    "FO_SZAM": "2",
                                    "ELOZO_HAROM_FO": "7"
                                },
                                {
                                    "USERNEV": "dani",
                                    "NEV": "Vörös Dániel",
                                    "METTOL": "2017-01-22",
                                    "MEDDIG": "2017-01-29",
                                    "FO_SZAM": "1",
                                    "ELOZO_HAROM_FO": "5"
                                },
                                {
                                    "USERNEV": "dani",
                                    "NEV": "Vörös Dániel",
                                    "METTOL": "2017-02-25",
                                    "MEDDIG": "2017-03-01",
                                    "FO_SZAM": "3",
                                    "ELOZO_HAROM_FO": "5"
                                },
                                {
                                    "USERNEV": "daniel",
                                    "NEV": "Rácz Dániel",
                                    "METTOL": "2016-04-10",
                                    "MEDDIG": "2016-04-11",
                                    "FO_SZAM": "4",
                                    "ELOZO_HAROM_FO": "0"
                                },
                                {
                                    "USERNEV": "daniel",
                                    "NEV": "Rácz Dániel",
                                    "METTOL": "2016-04-22",
                                    "MEDDIG": "2016-04-25",
                                    "FO_SZAM": "2",
                                    "ELOZO_HAROM_FO": "4"
                                },
                                {
                                    "USERNEV": "daniel",
                                    "NEV": "Rácz Dániel",
                                    "METTOL": "2016-05-09",
                                    "MEDDIG": "2016-05-13",
                                    "FO_SZAM": "3",
                                    "ELOZO_HAROM_FO": "6"
                                },
                                {
                                    "USERNEV": "daniel",
                                    "NEV": "Rácz Dániel",
                                    "METTOL": "2016-09-08",
                                    "MEDDIG": "2016-09-10",
                                    "FO_SZAM": "4",
                                    "ELOZO_HAROM_FO": "9"
                                },
                                {
                                    "USERNEV": "daniel",
                                    "NEV": "Rácz Dániel",
                                    "METTOL": "2016-11-13",
                                    "MEDDIG": "2016-11-19",
                                    "FO_SZAM": "3",
                                    "ELOZO_HAROM_FO": "9"
                                },
                                {
                                    "USERNEV": "daniel",
                                    "NEV": "Rácz Dániel",
                                    "METTOL": "2016-12-25",
                                    "MEDDIG": "2016-12-26",
                                    "FO_SZAM": "3",
                                    "ELOZO_HAROM_FO": "10"
                                },
                                {
                                    "USERNEV": "daniel",
                                    "NEV": "Rácz Dániel",
                                    "METTOL": "2017-01-09",
                                    "MEDDIG": "2017-01-11",
                                    "FO_SZAM": "1",
                                    "ELOZO_HAROM_FO": "10"
                                },
                                {
                                    "USERNEV": "daniel",
                                    "NEV": "Rácz Dániel",
                                    "METTOL": "2017-02-12",
                                    "MEDDIG": "2017-02-13",
                                    "FO_SZAM": "3",
                                    "ELOZO_HAROM_FO": "7"
                                },
                                {
                                    "USERNEV": "daniel",
                                    "NEV": "Rácz Dániel",
                                    "METTOL": "2017-02-20",
                                    "MEDDIG": "2017-02-23",
                                    "FO_SZAM": "3",
                                    "ELOZO_HAROM_FO": "7"
                                },
                                {
                                    "USERNEV": "daniel1",
                                    "NEV": "Keszler Dániel",
                                    "METTOL": "2016-04-10",
                                    "MEDDIG": "2016-04-15",
                                    "FO_SZAM": "2",
                                    "ELOZO_HAROM_FO": "0"
                                },
                                {
                                    "USERNEV": "daniel1",
                                    "NEV": "Keszler Dániel",
                                    "METTOL": "2016-05-10",
                                    "MEDDIG": "2016-05-13",
                                    "FO_SZAM": "4",
                                    "ELOZO_HAROM_FO": "2"
                                },
                                {
                                    "USERNEV": "daniel1",
                                    "NEV": "Keszler Dániel",
                                    "METTOL": "2016-05-26",
                                    "MEDDIG": "2016-05-27",
                                    "FO_SZAM": "3",
                                    "ELOZO_HAROM_FO": "6"
                                },
                                {
                                    "USERNEV": "daniel1",
                                    "NEV": "Keszler Dániel",
                                    "METTOL": "2016-11-09",
                                    "MEDDIG": "2016-11-11",
                                    "FO_SZAM": "2",
                                    "ELOZO_HAROM_FO": "9"
                                },
                                {
                                    "USERNEV": "daniel1",
                                    "NEV": "Keszler Dániel",
                                    "METTOL": "2016-11-23",
                                    "MEDDIG": "2016-11-25",
                                    "FO_SZAM": "2",
                                    "ELOZO_HAROM_FO": "9"
                                },
                                {
                                    "USERNEV": "daniel1",
                                    "NEV": "Keszler Dániel",
                                    "METTOL": "2017-01-05",
                                    "MEDDIG": "2017-01-08",
                                    "FO_SZAM": "3",
                                    "ELOZO_HAROM_FO": "7"
                                },
                                {
                                    "USERNEV": "daniel1",
                                    "NEV": "Keszler Dániel",
                                    "METTOL": "2017-03-01",
                                    "MEDDIG": "2017-03-06",
                                    "FO_SZAM": "4",
                                    "ELOZO_HAROM_FO": "7"
                                },
                                {
                                    "USERNEV": "david",
                                    "NEV": "Ambrus Dávid",
                                    "METTOL": "2016-05-18",
                                    "MEDDIG": "2016-05-25",
                                    "FO_SZAM": "2",
                                    "ELOZO_HAROM_FO": "0"
                                },
                                {
                                    "USERNEV": "david",
                                    "NEV": "Ambrus Dávid",
                                    "METTOL": "2016-06-09",
                                    "MEDDIG": "2016-06-10",
                                    "FO_SZAM": "2",
                                    "ELOZO_HAROM_FO": "2"
                                },
                                {
                                    "USERNEV": "david",
                                    "NEV": "Ambrus Dávid",
                                    "METTOL": "2016-06-30",
                                    "MEDDIG": "2016-07-07",
                                    "FO_SZAM": "2",
                                    "ELOZO_HAROM_FO": "4"
                                },
                                {
                                    "USERNEV": "david",
                                    "NEV": "Ambrus Dávid",
                                    "METTOL": "2016-07-18",
                                    "MEDDIG": "2016-07-21",
                                    "FO_SZAM": "2",
                                    "ELOZO_HAROM_FO": "6"
                                },
                                {
                                    "USERNEV": "david",
                                    "NEV": "Ambrus Dávid",
                                    "METTOL": "2016-08-05",
                                    "MEDDIG": "2016-08-12",
                                    "FO_SZAM": "1",
                                    "ELOZO_HAROM_FO": "6"
                                },
                                {
                                    "USERNEV": "david",
                                    "NEV": "Ambrus Dávid",
                                    "METTOL": "2016-08-20",
                                    "MEDDIG": "2016-08-25",
                                    "FO_SZAM": "3",
                                    "ELOZO_HAROM_FO": "5"
                                },
                                {
                                    "USERNEV": "david",
                                    "NEV": "Ambrus Dávid",
                                    "METTOL": "2016-08-22",
                                    "MEDDIG": "2016-08-24",
                                    "FO_SZAM": "3",
                                    "ELOZO_HAROM_FO": "6"
                                },
                                {
                                    "USERNEV": "david",
                                    "NEV": "Ambrus Dávid",
                                    "METTOL": "2016-10-30",
                                    "MEDDIG": "2016-11-04",
                                    "FO_SZAM": "2",
                                    "ELOZO_HAROM_FO": "7"
                                },
                                {
                                    "USERNEV": "david",
                                    "NEV": "Ambrus Dávid",
                                    "METTOL": "2017-01-18",
                                    "MEDDIG": "2017-01-19",
                                    "FO_SZAM": "2",
                                    "ELOZO_HAROM_FO": "8"
                                },
                                {
                                    "USERNEV": "david1",
                                    "NEV": "Sobják Dávid",
                                    "METTOL": "2016-09-20",
                                    "MEDDIG": "2016-09-21",
                                    "FO_SZAM": "2",
                                    "ELOZO_HAROM_FO": "0"
                                },
                                {
                                    "USERNEV": "david1",
                                    "NEV": "Sobják Dávid",
                                    "METTOL": "2016-10-01",
                                    "MEDDIG": "2016-10-02",
                                    "FO_SZAM": "2",
                                    "ELOZO_HAROM_FO": "2"
                                },
                                {
                                    "USERNEV": "david1",
                                    "NEV": "Sobják Dávid",
                                    "METTOL": "2016-11-19",
                                    "MEDDIG": "2016-11-22",
                                    "FO_SZAM": "2",
                                    "ELOZO_HAROM_FO": "4"
                                },
                                {
                                    "USERNEV": "david1",
                                    "NEV": "Sobják Dávid",
                                    "METTOL": "2016-12-30",
                                    "MEDDIG": "2017-01-06",
                                    "FO_SZAM": "2",
                                    "ELOZO_HAROM_FO": "6"
                                },
                                {
                                    "USERNEV": "david1",
                                    "NEV": "Sobják Dávid",
                                    "METTOL": "2017-02-17",
                                    "MEDDIG": "2017-02-20",
                                    "FO_SZAM": "3",
                                    "ELOZO_HAROM_FO": "6"
                                },
                                {
                                    "USERNEV": "david1",
                                    "NEV": "Sobják Dávid",
                                    "METTOL": "2017-02-25",
                                    "MEDDIG": "2017-02-27",
                                    "FO_SZAM": "4",
                                    "ELOZO_HAROM_FO": "7"
                                },
                                {
                                    "USERNEV": "david4",
                                    "NEV": "Berta Dávid",
                                    "METTOL": "2017-02-16",
                                    "MEDDIG": "2017-02-19",
                                    "FO_SZAM": "3",
                                    "ELOZO_HAROM_FO": "0"
                                },
                                {
                                    "USERNEV": "debora",
                                    "NEV": "Barna Debóra",
                                    "METTOL": "2016-06-22",
                                    "MEDDIG": "2016-06-24",
                                    "FO_SZAM": "5",
                                    "ELOZO_HAROM_FO": "0"
                                },
                                {
                                    "USERNEV": "debora",
                                    "NEV": "Barna Debóra",
                                    "METTOL": "2016-10-29",
                                    "MEDDIG": "2016-11-03",
                                    "FO_SZAM": "2",
                                    "ELOZO_HAROM_FO": "5"
                                },
                                {
                                    "USERNEV": "debora",
                                    "NEV": "Barna Debóra",
                                    "METTOL": "2017-01-23",
                                    "MEDDIG": "2017-01-28",
                                    "FO_SZAM": "3",
                                    "ELOZO_HAROM_FO": "7"
                                },
                                {
                                    "USERNEV": "debora",
                                    "NEV": "Barna Debóra",
                                    "METTOL": "2017-02-04",
                                    "MEDDIG": "2017-02-06",
                                    "FO_SZAM": "3",
                                    "ELOZO_HAROM_FO": "10"
                                },
                                {
                                    "USERNEV": "denes",
                                    "NEV": "Tömböly Dénes",
                                    "METTOL": "2016-05-27",
                                    "MEDDIG": "2016-05-31",
                                    "FO_SZAM": "3",
                                    "ELOZO_HAROM_FO": "0"
                                },
                                {
                                    "USERNEV": "denes",
                                    "NEV": "Tömböly Dénes",
                                    "METTOL": "2016-07-19",
                                    "MEDDIG": "2016-07-23",
                                    "FO_SZAM": "2",
                                    "ELOZO_HAROM_FO": "3"
                                },
                                {
                                    "USERNEV": "denes",
                                    "NEV": "Tömböly Dénes",
                                    "METTOL": "2016-08-01",
                                    "MEDDIG": "2016-08-08",
                                    "FO_SZAM": "3",
                                    "ELOZO_HAROM_FO": "5"
                                },
                                {
                                    "USERNEV": "denes",
                                    "NEV": "Tömböly Dénes",
                                    "METTOL": "2016-08-16",
                                    "MEDDIG": "2016-08-23",
                                    "FO_SZAM": "2",
                                    "ELOZO_HAROM_FO": "8"
                                },
                                {
                                    "USERNEV": "denes",
                                    "NEV": "Tömböly Dénes",
                                    "METTOL": "2016-08-20",
                                    "MEDDIG": "2016-08-27",
                                    "FO_SZAM": "3",
                                    "ELOZO_HAROM_FO": "7"
                                },
                                {
                                    "USERNEV": "denes",
                                    "NEV": "Tömböly Dénes",
                                    "METTOL": "2016-11-06",
                                    "MEDDIG": "2016-11-10",
                                    "FO_SZAM": "2",
                                    "ELOZO_HAROM_FO": "8"
                                },
                                {
                                    "USERNEV": "dora3",
                                    "NEV": "Sarodi Dóra",
                                    "METTOL": "2016-08-16",
                                    "MEDDIG": "2016-08-19",
                                    "FO_SZAM": "4",
                                    "ELOZO_HAROM_FO": "0"
                                },
                                {
                                    "USERNEV": "dora3",
                                    "NEV": "Sarodi Dóra",
                                    "METTOL": "2016-08-25",
                                    "MEDDIG": "2016-08-29",
                                    "FO_SZAM": "3",
                                    "ELOZO_HAROM_FO": "4"
                                },
                                {
                                    "USERNEV": "dora3",
                                    "NEV": "Sarodi Dóra",
                                    "METTOL": "2016-10-09",
                                    "MEDDIG": "2016-10-12",
                                    "FO_SZAM": "3",
                                    "ELOZO_HAROM_FO": "7"
                                },
                                {
                                    "USERNEV": "dora3",
                                    "NEV": "Sarodi Dóra",
                                    "METTOL": "2016-10-29",
                                    "MEDDIG": "2016-11-02",
                                    "FO_SZAM": "3",
                                    "ELOZO_HAROM_FO": "10"
                                },
                                {
                                    "USERNEV": "dora3",
                                    "NEV": "Sarodi Dóra",
                                    "METTOL": "2016-11-22",
                                    "MEDDIG": "2016-11-29",
                                    "FO_SZAM": "3",
                                    "ELOZO_HAROM_FO": "9"
                                },
                                {
                                    "USERNEV": "edit",
                                    "NEV": "Bittmann Edit",
                                    "METTOL": "2016-07-14",
                                    "MEDDIG": "2016-07-17",
                                    "FO_SZAM": "3",
                                    "ELOZO_HAROM_FO": "0"
                                },
                                {
                                    "USERNEV": "edit",
                                    "NEV": "Bittmann Edit",
                                    "METTOL": "2016-08-03",
                                    "MEDDIG": "2016-08-09",
                                    "FO_SZAM": "4",
                                    "ELOZO_HAROM_FO": "3"
                                },
                                {
                                    "USERNEV": "edit",
                                    "NEV": "Bittmann Edit",
                                    "METTOL": "2016-08-12",
                                    "MEDDIG": "2016-08-14",
                                    "FO_SZAM": "2",
                                    "ELOZO_HAROM_FO": "7"
                                },
                                {
                                    "USERNEV": "edit",
                                    "NEV": "Bittmann Edit",
                                    "METTOL": "2016-09-17",
                                    "MEDDIG": "2016-09-24",
                                    "FO_SZAM": "2",
                                    "ELOZO_HAROM_FO": "9"
                                },
                                {
                                    "USERNEV": "edit",
                                    "NEV": "Bittmann Edit",
                                    "METTOL": "2016-09-18",
                                    "MEDDIG": "2016-09-21",
                                    "FO_SZAM": "3",
                                    "ELOZO_HAROM_FO": "8"
                                },
                                {
                                    "USERNEV": "edit",
                                    "NEV": "Bittmann Edit",
                                    "METTOL": "2017-01-15",
                                    "MEDDIG": "2017-01-18",
                                    "FO_SZAM": "4",
                                    "ELOZO_HAROM_FO": "7"
                                },
                                {
                                    "USERNEV": "edit",
                                    "NEV": "Bittmann Edit",
                                    "METTOL": "2017-02-08",
                                    "MEDDIG": "2017-02-14",
                                    "FO_SZAM": "3",
                                    "ELOZO_HAROM_FO": "9"
                                },
                                {
                                    "USERNEV": "emese",
                                    "NEV": "Kuruc Emese",
                                    "METTOL": "2016-07-22",
                                    "MEDDIG": "2016-07-24",
                                    "FO_SZAM": "2",
                                    "ELOZO_HAROM_FO": "0"
                                },
                                {
                                    "USERNEV": "emese",
                                    "NEV": "Kuruc Emese",
                                    "METTOL": "2016-08-09",
                                    "MEDDIG": "2016-08-12",
                                    "FO_SZAM": "2",
                                    "ELOZO_HAROM_FO": "2"
                                },
                                {
                                    "USERNEV": "emese",
                                    "NEV": "Kuruc Emese",
                                    "METTOL": "2016-09-27",
                                    "MEDDIG": "2016-09-28",
                                    "FO_SZAM": "3",
                                    "ELOZO_HAROM_FO": "4"
                                },
                                {
                                    "USERNEV": "emese",
                                    "NEV": "Kuruc Emese",
                                    "METTOL": "2016-11-05",
                                    "MEDDIG": "2016-11-09",
                                    "FO_SZAM": "1",
                                    "ELOZO_HAROM_FO": "7"
                                },
                                {
                                    "USERNEV": "emese",
                                    "NEV": "Kuruc Emese",
                                    "METTOL": "2016-11-23",
                                    "MEDDIG": "2016-11-27",
                                    "FO_SZAM": "4",
                                    "ELOZO_HAROM_FO": "6"
                                },
                                {
                                    "USERNEV": "emese",
                                    "NEV": "Kuruc Emese",
                                    "METTOL": "2016-12-07",
                                    "MEDDIG": "2016-12-08",
                                    "FO_SZAM": "3",
                                    "ELOZO_HAROM_FO": "8"
                                },
                                {
                                    "USERNEV": "emese",
                                    "NEV": "Kuruc Emese",
                                    "METTOL": "2017-01-30",
                                    "MEDDIG": "2017-01-31",
                                    "FO_SZAM": "2",
                                    "ELOZO_HAROM_FO": "8"
                                },
                                {
                                    "USERNEV": "eszter",
                                    "NEV": "Molnár Eszter",
                                    "METTOL": "2016-08-12",
                                    "MEDDIG": "2016-08-18",
                                    "FO_SZAM": "3",
                                    "ELOZO_HAROM_FO": "0"
                                },
                                {
                                    "USERNEV": "eszter",
                                    "NEV": "Molnár Eszter",
                                    "METTOL": "2016-10-04",
                                    "MEDDIG": "2016-10-10",
                                    "FO_SZAM": "3",
                                    "ELOZO_HAROM_FO": "3"
                                },
                                {
                                    "USERNEV": "eszter",
                                    "NEV": "Molnár Eszter",
                                    "METTOL": "2016-10-26",
                                    "MEDDIG": "2016-11-01",
                                    "FO_SZAM": "3",
                                    "ELOZO_HAROM_FO": "6"
                                },
                                {
                                    "USERNEV": "eszter",
                                    "NEV": "Molnár Eszter",
                                    "METTOL": "2016-12-23",
                                    "MEDDIG": "2016-12-28",
                                    "FO_SZAM": "2",
                                    "ELOZO_HAROM_FO": "9"
                                },
                                {
                                    "USERNEV": "eszter2",
                                    "NEV": "Balogh Eszter",
                                    "METTOL": "2016-06-30",
                                    "MEDDIG": "2016-07-07",
                                    "FO_SZAM": "3",
                                    "ELOZO_HAROM_FO": "0"
                                },
                                {
                                    "USERNEV": "eszter2",
                                    "NEV": "Balogh Eszter",
                                    "METTOL": "2016-07-08",
                                    "MEDDIG": "2016-07-09",
                                    "FO_SZAM": "1",
                                    "ELOZO_HAROM_FO": "3"
                                },
                                {
                                    "USERNEV": "eszter2",
                                    "NEV": "Balogh Eszter",
                                    "METTOL": "2016-10-01",
                                    "MEDDIG": "2016-10-05",
                                    "FO_SZAM": "3",
                                    "ELOZO_HAROM_FO": "4"
                                },
                                {
                                    "USERNEV": "eszter2",
                                    "NEV": "Balogh Eszter",
                                    "METTOL": "2016-10-01",
                                    "MEDDIG": "2016-10-06",
                                    "FO_SZAM": "1",
                                    "ELOZO_HAROM_FO": "7"
                                },
                                {
                                    "USERNEV": "eszter2",
                                    "NEV": "Balogh Eszter",
                                    "METTOL": "2016-10-20",
                                    "MEDDIG": "2016-10-25",
                                    "FO_SZAM": "1",
                                    "ELOZO_HAROM_FO": "5"
                                },
                                {
                                    "USERNEV": "eszter2",
                                    "NEV": "Balogh Eszter",
                                    "METTOL": "2016-10-23",
                                    "MEDDIG": "2016-10-30",
                                    "FO_SZAM": "1",
                                    "ELOZO_HAROM_FO": "5"
                                },
                                {
                                    "USERNEV": "eszter2",
                                    "NEV": "Balogh Eszter",
                                    "METTOL": "2016-11-05",
                                    "MEDDIG": "2016-11-12",
                                    "FO_SZAM": "4",
                                    "ELOZO_HAROM_FO": "3"
                                },
                                {
                                    "USERNEV": "eszter2",
                                    "NEV": "Balogh Eszter",
                                    "METTOL": "2016-12-02",
                                    "MEDDIG": "2016-12-07",
                                    "FO_SZAM": "1",
                                    "ELOZO_HAROM_FO": "6"
                                },
                                {
                                    "USERNEV": "eszter2",
                                    "NEV": "Balogh Eszter",
                                    "METTOL": "2016-12-05",
                                    "MEDDIG": "2016-12-08",
                                    "FO_SZAM": "2",
                                    "ELOZO_HAROM_FO": "6"
                                },
                                {
                                    "USERNEV": "eszter2",
                                    "NEV": "Balogh Eszter",
                                    "METTOL": "2016-12-29",
                                    "MEDDIG": "2017-02-04",
                                    "FO_SZAM": "1",
                                    "ELOZO_HAROM_FO": "7"
                                },
                                {
                                    "USERNEV": "eszter4",
                                    "NEV": "Fülöp Eszter",
                                    "METTOL": "2017-01-05",
                                    "MEDDIG": "2017-01-10",
                                    "FO_SZAM": "2",
                                    "ELOZO_HAROM_FO": "0"
                                },
                                {
                                    "USERNEV": "eszter4",
                                    "NEV": "Fülöp Eszter",
                                    "METTOL": "2017-01-26",
                                    "MEDDIG": "2017-02-02",
                                    "FO_SZAM": "2",
                                    "ELOZO_HAROM_FO": "2"
                                },
                                {
                                    "USERNEV": "eszter4",
                                    "NEV": "Fülöp Eszter",
                                    "METTOL": "2017-02-26",
                                    "MEDDIG": "2017-02-27",
                                    "FO_SZAM": "3",
                                    "ELOZO_HAROM_FO": "4"
                                },
                                {
                                    "USERNEV": "ESZTERE",
                                    "NEV": "Érsek Eszter",
                                    "METTOL": "2016-05-30",
                                    "MEDDIG": "2016-06-05",
                                    "FO_SZAM": "2",
                                    "ELOZO_HAROM_FO": "0"
                                },
                                {
                                    "USERNEV": "ESZTERE",
                                    "NEV": "Érsek Eszter",
                                    "METTOL": "2016-07-19",
                                    "MEDDIG": "2016-07-21",
                                    "FO_SZAM": "2",
                                    "ELOZO_HAROM_FO": "2"
                                },
                                {
                                    "USERNEV": "ESZTERE",
                                    "NEV": "Érsek Eszter",
                                    "METTOL": "2016-11-01",
                                    "MEDDIG": "2016-11-08",
                                    "FO_SZAM": "2",
                                    "ELOZO_HAROM_FO": "4"
                                },
                                {
                                    "USERNEV": "ESZTERE",
                                    "NEV": "Érsek Eszter",
                                    "METTOL": "2017-02-10",
                                    "MEDDIG": "2017-02-14",
                                    "FO_SZAM": "2",
                                    "ELOZO_HAROM_FO": "6"
                                },
                                {
                                    "USERNEV": "eva",
                                    "NEV": "Enyedi Éva",
                                    "METTOL": "2016-10-06",
                                    "MEDDIG": "2016-10-09",
                                    "FO_SZAM": "3",
                                    "ELOZO_HAROM_FO": "0"
                                },
                                {
                                    "USERNEV": "eva",
                                    "NEV": "Enyedi Éva",
                                    "METTOL": "2017-01-14",
                                    "MEDDIG": "2017-01-16",
                                    "FO_SZAM": "2",
                                    "ELOZO_HAROM_FO": "3"
                                },
                                {
                                    "USERNEV": "eva2",
                                    "NEV": "Perlinger Éva",
                                    "METTOL": "2016-09-02",
                                    "MEDDIG": "2016-09-03",
                                    "FO_SZAM": "1",
                                    "ELOZO_HAROM_FO": "0"
                                },
                                {
                                    "USERNEV": "eva2",
                                    "NEV": "Perlinger Éva",
                                    "METTOL": "2016-11-06",
                                    "MEDDIG": "2016-11-13",
                                    "FO_SZAM": "2",
                                    "ELOZO_HAROM_FO": "1"
                                },
                                {
                                    "USERNEV": "eva2",
                                    "NEV": "Perlinger Éva",
                                    "METTOL": "2016-12-06",
                                    "MEDDIG": "2016-12-11",
                                    "FO_SZAM": "2",
                                    "ELOZO_HAROM_FO": "3"
                                },
                                {
                                    "USERNEV": "eva2",
                                    "NEV": "Perlinger Éva",
                                    "METTOL": "2017-01-06",
                                    "MEDDIG": "2017-01-09",
                                    "FO_SZAM": "4",
                                    "ELOZO_HAROM_FO": "5"
                                },
                                {
                                    "USERNEV": "EVAV",
                                    "NEV": "Viktor Éva",
                                    "METTOL": "2016-05-01",
                                    "MEDDIG": "2016-05-05",
                                    "FO_SZAM": "3",
                                    "ELOZO_HAROM_FO": "0"
                                },
                                {
                                    "USERNEV": "EVAV",
                                    "NEV": "Viktor Éva",
                                    "METTOL": "2016-08-31",
                                    "MEDDIG": "2016-09-04",
                                    "FO_SZAM": "2",
                                    "ELOZO_HAROM_FO": "3"
                                },
                                {
                                    "USERNEV": "EVAV",
                                    "NEV": "Viktor Éva",
                                    "METTOL": "2016-10-15",
                                    "MEDDIG": "2016-10-21",
                                    "FO_SZAM": "3",
                                    "ELOZO_HAROM_FO": "5"
                                },
                                {
                                    "USERNEV": "EVAV",
                                    "NEV": "Viktor Éva",
                                    "METTOL": "2016-10-16",
                                    "MEDDIG": "2016-10-23",
                                    "FO_SZAM": "2",
                                    "ELOZO_HAROM_FO": "8"
                                },
                                {
                                    "USERNEV": "EVAV",
                                    "NEV": "Viktor Éva",
                                    "METTOL": "2017-02-04",
                                    "MEDDIG": "2017-02-11",
                                    "FO_SZAM": "5",
                                    "ELOZO_HAROM_FO": "7"
                                },
                                {
                                    "USERNEV": "ferenc1",
                                    "NEV": "Orosz Ferenc",
                                    "METTOL": "2016-05-08",
                                    "MEDDIG": "2016-05-11",
                                    "FO_SZAM": "2",
                                    "ELOZO_HAROM_FO": "0"
                                },
                                {
                                    "USERNEV": "ferenc1",
                                    "NEV": "Orosz Ferenc",
                                    "METTOL": "2016-06-16",
                                    "MEDDIG": "2016-06-22",
                                    "FO_SZAM": "2",
                                    "ELOZO_HAROM_FO": "2"
                                },
                                {
                                    "USERNEV": "ferenc1",
                                    "NEV": "Orosz Ferenc",
                                    "METTOL": "2016-10-08",
                                    "MEDDIG": "2016-10-09",
                                    "FO_SZAM": "2",
                                    "ELOZO_HAROM_FO": "4"
                                },
                                {
                                    "USERNEV": "ferenc1",
                                    "NEV": "Orosz Ferenc",
                                    "METTOL": "2016-11-07",
                                    "MEDDIG": "2016-11-08",
                                    "FO_SZAM": "3",
                                    "ELOZO_HAROM_FO": "6"
                                },
                                {
                                    "USERNEV": "fruzsina4",
                                    "NEV": "Frank Fruzsina",
                                    "METTOL": "2016-06-02",
                                    "MEDDIG": "2016-06-04",
                                    "FO_SZAM": "2",
                                    "ELOZO_HAROM_FO": "0"
                                },
                                {
                                    "USERNEV": "fruzsina4",
                                    "NEV": "Frank Fruzsina",
                                    "METTOL": "2016-07-01",
                                    "MEDDIG": "2016-07-04",
                                    "FO_SZAM": "3",
                                    "ELOZO_HAROM_FO": "2"
                                },
                                {
                                    "USERNEV": "fruzsina4",
                                    "NEV": "Frank Fruzsina",
                                    "METTOL": "2016-07-13",
                                    "MEDDIG": "2016-07-19",
                                    "FO_SZAM": "3",
                                    "ELOZO_HAROM_FO": "5"
                                },
                                {
                                    "USERNEV": "fruzsina4",
                                    "NEV": "Frank Fruzsina",
                                    "METTOL": "2016-08-27",
                                    "MEDDIG": "2016-08-30",
                                    "FO_SZAM": "4",
                                    "ELOZO_HAROM_FO": "8"
                                },
                                {
                                    "USERNEV": "fruzsina4",
                                    "NEV": "Frank Fruzsina",
                                    "METTOL": "2016-09-29",
                                    "MEDDIG": "2016-10-01",
                                    "FO_SZAM": "3",
                                    "ELOZO_HAROM_FO": "10"
                                },
                                {
                                    "USERNEV": "fruzsina4",
                                    "NEV": "Frank Fruzsina",
                                    "METTOL": "2016-11-22",
                                    "MEDDIG": "2016-11-24",
                                    "FO_SZAM": "2",
                                    "ELOZO_HAROM_FO": "10"
                                },
                                {
                                    "USERNEV": "fruzsina4",
                                    "NEV": "Frank Fruzsina",
                                    "METTOL": "2016-12-16",
                                    "MEDDIG": "2016-12-21",
                                    "FO_SZAM": "1",
                                    "ELOZO_HAROM_FO": "9"
                                },
                                {
                                    "USERNEV": "fruzsina4",
                                    "NEV": "Frank Fruzsina",
                                    "METTOL": "2017-01-22",
                                    "MEDDIG": "2017-01-25",
                                    "FO_SZAM": "4",
                                    "ELOZO_HAROM_FO": "6"
                                },
                                {
                                    "USERNEV": "gabor1",
                                    "NEV": "Köves Gábor",
                                    "METTOL": "2016-06-20",
                                    "MEDDIG": "2016-06-21",
                                    "FO_SZAM": "4",
                                    "ELOZO_HAROM_FO": "0"
                                },
                                {
                                    "USERNEV": "gabor1",
                                    "NEV": "Köves Gábor",
                                    "METTOL": "2016-07-12",
                                    "MEDDIG": "2016-07-15",
                                    "FO_SZAM": "1",
                                    "ELOZO_HAROM_FO": "4"
                                },
                                {
                                    "USERNEV": "gabor1",
                                    "NEV": "Köves Gábor",
                                    "METTOL": "2016-07-28",
                                    "MEDDIG": "2016-07-30",
                                    "FO_SZAM": "2",
                                    "ELOZO_HAROM_FO": "5"
                                },
                                {
                                    "USERNEV": "gabor1",
                                    "NEV": "Köves Gábor",
                                    "METTOL": "2016-09-02",
                                    "MEDDIG": "2016-09-03",
                                    "FO_SZAM": "3",
                                    "ELOZO_HAROM_FO": "7"
                                },
                                {
                                    "USERNEV": "gabor1",
                                    "NEV": "Köves Gábor",
                                    "METTOL": "2016-10-20",
                                    "MEDDIG": "2016-10-24",
                                    "FO_SZAM": "1",
                                    "ELOZO_HAROM_FO": "6"
                                },
                                {
                                    "USERNEV": "gabor1",
                                    "NEV": "Köves Gábor",
                                    "METTOL": "2016-11-19",
                                    "MEDDIG": "2016-11-22",
                                    "FO_SZAM": "2",
                                    "ELOZO_HAROM_FO": "6"
                                },
                                {
                                    "USERNEV": "gabor4",
                                    "NEV": "Telek Gábor",
                                    "METTOL": "2016-04-26",
                                    "MEDDIG": "2016-04-29",
                                    "FO_SZAM": "3",
                                    "ELOZO_HAROM_FO": "0"
                                },
                                {
                                    "USERNEV": "gabor4",
                                    "NEV": "Telek Gábor",
                                    "METTOL": "2016-05-30",
                                    "MEDDIG": "2016-06-05",
                                    "FO_SZAM": "1",
                                    "ELOZO_HAROM_FO": "3"
                                },
                                {
                                    "USERNEV": "gabor4",
                                    "NEV": "Telek Gábor",
                                    "METTOL": "2016-08-31",
                                    "MEDDIG": "2016-09-06",
                                    "FO_SZAM": "4",
                                    "ELOZO_HAROM_FO": "4"
                                },
                                {
                                    "USERNEV": "gabor4",
                                    "NEV": "Telek Gábor",
                                    "METTOL": "2016-11-07",
                                    "MEDDIG": "2016-11-13",
                                    "FO_SZAM": "4",
                                    "ELOZO_HAROM_FO": "8"
                                },
                                {
                                    "USERNEV": "gabriella1",
                                    "NEV": "Nagy Gabriella",
                                    "METTOL": "2016-04-21",
                                    "MEDDIG": "2016-04-24",
                                    "FO_SZAM": "3",
                                    "ELOZO_HAROM_FO": "0"
                                },
                                {
                                    "USERNEV": "gabriella1",
                                    "NEV": "Nagy Gabriella",
                                    "METTOL": "2016-07-10",
                                    "MEDDIG": "2016-07-11",
                                    "FO_SZAM": "3",
                                    "ELOZO_HAROM_FO": "3"
                                },
                                {
                                    "USERNEV": "gabriella1",
                                    "NEV": "Nagy Gabriella",
                                    "METTOL": "2016-07-24",
                                    "MEDDIG": "2016-07-31",
                                    "FO_SZAM": "2",
                                    "ELOZO_HAROM_FO": "6"
                                },
                                {
                                    "USERNEV": "gabriella1",
                                    "NEV": "Nagy Gabriella",
                                    "METTOL": "2017-02-04",
                                    "MEDDIG": "2017-02-11",
                                    "FO_SZAM": "3",
                                    "ELOZO_HAROM_FO": "8"
                                },
                                {
                                    "USERNEV": "gabriella1",
                                    "NEV": "Nagy Gabriella",
                                    "METTOL": "2017-02-12",
                                    "MEDDIG": "2017-02-13",
                                    "FO_SZAM": "2",
                                    "ELOZO_HAROM_FO": "8"
                                },
                                {
                                    "USERNEV": "gabriella1",
                                    "NEV": "Nagy Gabriella",
                                    "METTOL": "2017-02-21",
                                    "MEDDIG": "2017-02-27",
                                    "FO_SZAM": "3",
                                    "ELOZO_HAROM_FO": "7"
                                },
                                {
                                    "USERNEV": "gabriella10",
                                    "NEV": "Vida Gabriella",
                                    "METTOL": "2016-10-01",
                                    "MEDDIG": "2016-10-06",
                                    "FO_SZAM": "3",
                                    "ELOZO_HAROM_FO": "0"
                                },
                                {
                                    "USERNEV": "georgij",
                                    "NEV": "Nyíri Georgij",
                                    "METTOL": "2016-06-16",
                                    "MEDDIG": "2016-06-20",
                                    "FO_SZAM": "3",
                                    "ELOZO_HAROM_FO": "0"
                                },
                                {
                                    "USERNEV": "georgij",
                                    "NEV": "Nyíri Georgij",
                                    "METTOL": "2016-08-16",
                                    "MEDDIG": "2016-08-22",
                                    "FO_SZAM": "4",
                                    "ELOZO_HAROM_FO": "3"
                                },
                                {
                                    "USERNEV": "georgij",
                                    "NEV": "Nyíri Georgij",
                                    "METTOL": "2016-08-28",
                                    "MEDDIG": "2016-09-04",
                                    "FO_SZAM": "2",
                                    "ELOZO_HAROM_FO": "7"
                                },
                                {
                                    "USERNEV": "georgij",
                                    "NEV": "Nyíri Georgij",
                                    "METTOL": "2016-09-18",
                                    "MEDDIG": "2016-09-24",
                                    "FO_SZAM": "3",
                                    "ELOZO_HAROM_FO": "9"
                                },
                                {
                                    "USERNEV": "gusztav",
                                    "NEV": "Bárci Gusztáv",
                                    "METTOL": "2016-05-06",
                                    "MEDDIG": "2016-05-13",
                                    "FO_SZAM": "2",
                                    "ELOZO_HAROM_FO": "0"
                                },
                                {
                                    "USERNEV": "gusztav",
                                    "NEV": "Bárci Gusztáv",
                                    "METTOL": "2016-08-05",
                                    "MEDDIG": "2016-08-11",
                                    "FO_SZAM": "3",
                                    "ELOZO_HAROM_FO": "2"
                                },
                                {
                                    "USERNEV": "gusztav",
                                    "NEV": "Bárci Gusztáv",
                                    "METTOL": "2016-10-01",
                                    "MEDDIG": "2016-10-03",
                                    "FO_SZAM": "3",
                                    "ELOZO_HAROM_FO": "5"
                                },
                                {
                                    "USERNEV": "gusztav",
                                    "NEV": "Bárci Gusztáv",
                                    "METTOL": "2017-02-03",
                                    "MEDDIG": "2017-02-09",
                                    "FO_SZAM": "2",
                                    "ELOZO_HAROM_FO": "8"
                                },
                                {
                                    "USERNEV": "gusztav",
                                    "NEV": "Bárci Gusztáv",
                                    "METTOL": "2017-02-23",
                                    "MEDDIG": "2017-03-01",
                                    "FO_SZAM": "4",
                                    "ELOZO_HAROM_FO": "8"
                                },
                                {
                                    "USERNEV": "GYONGYIK",
                                    "NEV": "Kornseé Gyöngyi",
                                    "METTOL": "2016-06-02",
                                    "MEDDIG": "2016-06-05",
                                    "FO_SZAM": "3",
                                    "ELOZO_HAROM_FO": "0"
                                },
                                {
                                    "USERNEV": "GYONGYIK",
                                    "NEV": "Kornseé Gyöngyi",
                                    "METTOL": "2016-06-10",
                                    "MEDDIG": "2016-06-17",
                                    "FO_SZAM": "1",
                                    "ELOZO_HAROM_FO": "3"
                                },
                                {
                                    "USERNEV": "GYONGYIK",
                                    "NEV": "Kornseé Gyöngyi",
                                    "METTOL": "2016-07-01",
                                    "MEDDIG": "2016-07-05",
                                    "FO_SZAM": "2",
                                    "ELOZO_HAROM_FO": "4"
                                },
                                {
                                    "USERNEV": "GYONGYIK",
                                    "NEV": "Kornseé Gyöngyi",
                                    "METTOL": "2016-08-17",
                                    "MEDDIG": "2016-08-21",
                                    "FO_SZAM": "3",
                                    "ELOZO_HAROM_FO": "6"
                                },
                                {
                                    "USERNEV": "GYONGYIK",
                                    "NEV": "Kornseé Gyöngyi",
                                    "METTOL": "2016-11-08",
                                    "MEDDIG": "2016-11-13",
                                    "FO_SZAM": "2",
                                    "ELOZO_HAROM_FO": "6"
                                },
                                {
                                    "USERNEV": "GYONGYIK",
                                    "NEV": "Kornseé Gyöngyi",
                                    "METTOL": "2016-12-01",
                                    "MEDDIG": "2016-12-08",
                                    "FO_SZAM": "2",
                                    "ELOZO_HAROM_FO": "7"
                                },
                                {
                                    "USERNEV": "GYONGYIK",
                                    "NEV": "Kornseé Gyöngyi",
                                    "METTOL": "2017-01-22",
                                    "MEDDIG": "2017-01-29",
                                    "FO_SZAM": "3",
                                    "ELOZO_HAROM_FO": "7"
                                },
                                {
                                    "USERNEV": "GYORGYO",
                                    "NEV": "Oroszi György",
                                    "METTOL": "2016-05-27",
                                    "MEDDIG": "2016-05-28",
                                    "FO_SZAM": "3",
                                    "ELOZO_HAROM_FO": "0"
                                },
                                {
                                    "USERNEV": "GYORGYO",
                                    "NEV": "Oroszi György",
                                    "METTOL": "2016-06-01",
                                    "MEDDIG": "2016-06-07",
                                    "FO_SZAM": "2",
                                    "ELOZO_HAROM_FO": "3"
                                },
                                {
                                    "USERNEV": "GYORGYO",
                                    "NEV": "Oroszi György",
                                    "METTOL": "2016-06-10",
                                    "MEDDIG": "2016-06-15",
                                    "FO_SZAM": "2",
                                    "ELOZO_HAROM_FO": "5"
                                },
                                {
                                    "USERNEV": "GYORGYO",
                                    "NEV": "Oroszi György",
                                    "METTOL": "2016-07-18",
                                    "MEDDIG": "2016-07-25",
                                    "FO_SZAM": "2",
                                    "ELOZO_HAROM_FO": "7"
                                },
                                {
                                    "USERNEV": "GYORGYO",
                                    "NEV": "Oroszi György",
                                    "METTOL": "2016-07-28",
                                    "MEDDIG": "2016-08-03",
                                    "FO_SZAM": "3",
                                    "ELOZO_HAROM_FO": "6"
                                },
                                {
                                    "USERNEV": "GYORGYO",
                                    "NEV": "Oroszi György",
                                    "METTOL": "2016-10-28",
                                    "MEDDIG": "2016-10-31",
                                    "FO_SZAM": "1",
                                    "ELOZO_HAROM_FO": "7"
                                },
                                {
                                    "USERNEV": "GYORGYO",
                                    "NEV": "Oroszi György",
                                    "METTOL": "2017-02-13",
                                    "MEDDIG": "2017-02-15",
                                    "FO_SZAM": "2",
                                    "ELOZO_HAROM_FO": "6"
                                },
                                {
                                    "USERNEV": "GYORGYO",
                                    "NEV": "Oroszi György",
                                    "METTOL": "2017-02-24",
                                    "MEDDIG": "2017-02-25",
                                    "FO_SZAM": "3",
                                    "ELOZO_HAROM_FO": "6"
                                },
                                {
                                    "USERNEV": "henrik3",
                                    "NEV": "Nádudvari Henrik",
                                    "METTOL": "2016-08-24",
                                    "MEDDIG": "2016-08-28",
                                    "FO_SZAM": "1",
                                    "ELOZO_HAROM_FO": "0"
                                },
                                {
                                    "USERNEV": "henrik3",
                                    "NEV": "Nádudvari Henrik",
                                    "METTOL": "2016-12-29",
                                    "MEDDIG": "2017-01-03",
                                    "FO_SZAM": "3",
                                    "ELOZO_HAROM_FO": "1"
                                },
                                {
                                    "USERNEV": "henrik3",
                                    "NEV": "Nádudvari Henrik",
                                    "METTOL": "2017-01-27",
                                    "MEDDIG": "2017-01-28",
                                    "FO_SZAM": "3",
                                    "ELOZO_HAROM_FO": "4"
                                },
                                {
                                    "USERNEV": "IBOLYAA",
                                    "NEV": "Andor Ibolya",
                                    "METTOL": "2016-08-29",
                                    "MEDDIG": "2016-08-31",
                                    "FO_SZAM": "5",
                                    "ELOZO_HAROM_FO": "0"
                                },
                                {
                                    "USERNEV": "IBOLYAA",
                                    "NEV": "Andor Ibolya",
                                    "METTOL": "2016-10-23",
                                    "MEDDIG": "2016-10-28",
                                    "FO_SZAM": "2",
                                    "ELOZO_HAROM_FO": "5"
                                },
                                {
                                    "USERNEV": "IBOLYAA",
                                    "NEV": "Andor Ibolya",
                                    "METTOL": "2017-01-17",
                                    "MEDDIG": "2017-01-23",
                                    "FO_SZAM": "3",
                                    "ELOZO_HAROM_FO": "7"
                                },
                                {
                                    "USERNEV": "ilona3",
                                    "NEV": "Bosnyák Ilona",
                                    "METTOL": "2016-07-31",
                                    "MEDDIG": "2016-08-06",
                                    "FO_SZAM": "2",
                                    "ELOZO_HAROM_FO": "0"
                                },
                                {
                                    "USERNEV": "ilona3",
                                    "NEV": "Bosnyák Ilona",
                                    "METTOL": "2016-08-04",
                                    "MEDDIG": "2016-08-08",
                                    "FO_SZAM": "3",
                                    "ELOZO_HAROM_FO": "2"
                                },
                                {
                                    "USERNEV": "ilona3",
                                    "NEV": "Bosnyák Ilona",
                                    "METTOL": "2016-11-04",
                                    "MEDDIG": "2016-11-06",
                                    "FO_SZAM": "4",
                                    "ELOZO_HAROM_FO": "5"
                                },
                                {
                                    "USERNEV": "ilona3",
                                    "NEV": "Bosnyák Ilona",
                                    "METTOL": "2016-12-25",
                                    "MEDDIG": "2016-12-31",
                                    "FO_SZAM": "3",
                                    "ELOZO_HAROM_FO": "9"
                                },
                                {
                                    "USERNEV": "imre",
                                    "NEV": "Búza Imre",
                                    "METTOL": "2016-09-17",
                                    "MEDDIG": "2016-09-19",
                                    "FO_SZAM": "3",
                                    "ELOZO_HAROM_FO": "0"
                                },
                                {
                                    "USERNEV": "imre",
                                    "NEV": "Búza Imre",
                                    "METTOL": "2016-10-28",
                                    "MEDDIG": "2016-10-29",
                                    "FO_SZAM": "4",
                                    "ELOZO_HAROM_FO": "3"
                                },
                                {
                                    "USERNEV": "imre1",
                                    "NEV": "Papp Imre",
                                    "METTOL": "2016-06-23",
                                    "MEDDIG": "2016-06-26",
                                    "FO_SZAM": "4",
                                    "ELOZO_HAROM_FO": "0"
                                },
                                {
                                    "USERNEV": "imre1",
                                    "NEV": "Papp Imre",
                                    "METTOL": "2016-06-27",
                                    "MEDDIG": "2016-06-28",
                                    "FO_SZAM": "2",
                                    "ELOZO_HAROM_FO": "4"
                                },
                                {
                                    "USERNEV": "imre1",
                                    "NEV": "Papp Imre",
                                    "METTOL": "2016-08-21",
                                    "MEDDIG": "2016-08-27",
                                    "FO_SZAM": "2",
                                    "ELOZO_HAROM_FO": "6"
                                },
                                {
                                    "USERNEV": "imre1",
                                    "NEV": "Papp Imre",
                                    "METTOL": "2016-08-23",
                                    "MEDDIG": "2016-08-25",
                                    "FO_SZAM": "3",
                                    "ELOZO_HAROM_FO": "8"
                                },
                                {
                                    "USERNEV": "imre1",
                                    "NEV": "Papp Imre",
                                    "METTOL": "2016-08-29",
                                    "MEDDIG": "2016-08-31",
                                    "FO_SZAM": "2",
                                    "ELOZO_HAROM_FO": "7"
                                },
                                {
                                    "USERNEV": "imre1",
                                    "NEV": "Papp Imre",
                                    "METTOL": "2017-02-01",
                                    "MEDDIG": "2017-02-04",
                                    "FO_SZAM": "2",
                                    "ELOZO_HAROM_FO": "7"
                                },
                                {
                                    "USERNEV": "imre1",
                                    "NEV": "Papp Imre",
                                    "METTOL": "2017-02-05",
                                    "MEDDIG": "2017-02-07",
                                    "FO_SZAM": "4",
                                    "ELOZO_HAROM_FO": "7"
                                },
                                {
                                    "USERNEV": "istvan",
                                    "NEV": "Soós István",
                                    "METTOL": "2016-10-07",
                                    "MEDDIG": "2016-10-10",
                                    "FO_SZAM": "2",
                                    "ELOZO_HAROM_FO": "0"
                                },
                                {
                                    "USERNEV": "istvan",
                                    "NEV": "Soós István",
                                    "METTOL": "2016-11-22",
                                    "MEDDIG": "2016-11-24",
                                    "FO_SZAM": "3",
                                    "ELOZO_HAROM_FO": "2"
                                },
                                {
                                    "USERNEV": "istvan",
                                    "NEV": "Soós István",
                                    "METTOL": "2017-01-02",
                                    "MEDDIG": "2017-01-05",
                                    "FO_SZAM": "2",
                                    "ELOZO_HAROM_FO": "5"
                                },
                                {
                                    "USERNEV": "istvan1",
                                    "NEV": "Vizi István",
                                    "METTOL": "2016-04-16",
                                    "MEDDIG": "2016-04-22",
                                    "FO_SZAM": "3",
                                    "ELOZO_HAROM_FO": "0"
                                },
                                {
                                    "USERNEV": "istvan1",
                                    "NEV": "Vizi István",
                                    "METTOL": "2016-04-24",
                                    "MEDDIG": "2016-04-28",
                                    "FO_SZAM": "3",
                                    "ELOZO_HAROM_FO": "3"
                                },
                                {
                                    "USERNEV": "istvan1",
                                    "NEV": "Vizi István",
                                    "METTOL": "2016-07-19",
                                    "MEDDIG": "2016-07-24",
                                    "FO_SZAM": "1",
                                    "ELOZO_HAROM_FO": "6"
                                },
                                {
                                    "USERNEV": "istvan1",
                                    "NEV": "Vizi István",
                                    "METTOL": "2017-02-07",
                                    "MEDDIG": "2017-02-10",
                                    "FO_SZAM": "3",
                                    "ELOZO_HAROM_FO": "7"
                                },
                                {
                                    "USERNEV": "ISTVANV",
                                    "NEV": "Varga István",
                                    "METTOL": "2016-07-01",
                                    "MEDDIG": "2016-07-04",
                                    "FO_SZAM": "4",
                                    "ELOZO_HAROM_FO": "0"
                                },
                                {
                                    "USERNEV": "ISTVANV",
                                    "NEV": "Varga István",
                                    "METTOL": "2016-09-29",
                                    "MEDDIG": "2016-10-01",
                                    "FO_SZAM": "3",
                                    "ELOZO_HAROM_FO": "4"
                                },
                                {
                                    "USERNEV": "janos3",
                                    "NEV": "Harangozó János",
                                    "METTOL": "2016-06-04",
                                    "MEDDIG": "2016-06-06",
                                    "FO_SZAM": "1",
                                    "ELOZO_HAROM_FO": "0"
                                },
                                {
                                    "USERNEV": "janos3",
                                    "NEV": "Harangozó János",
                                    "METTOL": "2016-08-24",
                                    "MEDDIG": "2016-08-25",
                                    "FO_SZAM": "3",
                                    "ELOZO_HAROM_FO": "1"
                                },
                                {
                                    "USERNEV": "janos3",
                                    "NEV": "Harangozó János",
                                    "METTOL": "2016-10-03",
                                    "MEDDIG": "2016-10-08",
                                    "FO_SZAM": "3",
                                    "ELOZO_HAROM_FO": "4"
                                },
                                {
                                    "USERNEV": "janos3",
                                    "NEV": "Harangozó János",
                                    "METTOL": "2016-10-22",
                                    "MEDDIG": "2016-10-23",
                                    "FO_SZAM": "1",
                                    "ELOZO_HAROM_FO": "7"
                                },
                                {
                                    "USERNEV": "janos3",
                                    "NEV": "Harangozó János",
                                    "METTOL": "2017-02-12",
                                    "MEDDIG": "2017-02-14",
                                    "FO_SZAM": "3",
                                    "ELOZO_HAROM_FO": "7"
                                },
                                {
                                    "USERNEV": "JANOSG",
                                    "NEV": "Giliga János",
                                    "METTOL": "2016-05-09",
                                    "MEDDIG": "2016-05-15",
                                    "FO_SZAM": "1",
                                    "ELOZO_HAROM_FO": "0"
                                },
                                {
                                    "USERNEV": "JANOSG",
                                    "NEV": "Giliga János",
                                    "METTOL": "2016-08-16",
                                    "MEDDIG": "2016-08-23",
                                    "FO_SZAM": "3",
                                    "ELOZO_HAROM_FO": "1"
                                },
                                {
                                    "USERNEV": "JANOSG",
                                    "NEV": "Giliga János",
                                    "METTOL": "2016-08-30",
                                    "MEDDIG": "2016-09-03",
                                    "FO_SZAM": "3",
                                    "ELOZO_HAROM_FO": "4"
                                },
                                {
                                    "USERNEV": "JANOSG",
                                    "NEV": "Giliga János",
                                    "METTOL": "2016-11-07",
                                    "MEDDIG": "2016-11-14",
                                    "FO_SZAM": "3",
                                    "ELOZO_HAROM_FO": "7"
                                },
                                {
                                    "USERNEV": "JANOSG",
                                    "NEV": "Giliga János",
                                    "METTOL": "2016-12-28",
                                    "MEDDIG": "2016-12-30",
                                    "FO_SZAM": "2",
                                    "ELOZO_HAROM_FO": "9"
                                },
                                {
                                    "USERNEV": "JANOSG",
                                    "NEV": "Giliga János",
                                    "METTOL": "2017-01-10",
                                    "MEDDIG": "2017-01-15",
                                    "FO_SZAM": "2",
                                    "ELOZO_HAROM_FO": "8"
                                },
                                {
                                    "USERNEV": "JANOSG",
                                    "NEV": "Giliga János",
                                    "METTOL": "2017-01-31",
                                    "MEDDIG": "2017-02-05",
                                    "FO_SZAM": "2",
                                    "ELOZO_HAROM_FO": "7"
                                },
                                {
                                    "USERNEV": "JANOSP",
                                    "NEV": "Pálinkás János",
                                    "METTOL": "2016-07-04",
                                    "MEDDIG": "2016-07-11",
                                    "FO_SZAM": "3",
                                    "ELOZO_HAROM_FO": "0"
                                },
                                {
                                    "USERNEV": "JANOSP",
                                    "NEV": "Pálinkás János",
                                    "METTOL": "2016-11-23",
                                    "MEDDIG": "2016-11-28",
                                    "FO_SZAM": "2",
                                    "ELOZO_HAROM_FO": "3"
                                },
                                {
                                    "USERNEV": "JANOSP",
                                    "NEV": "Pálinkás János",
                                    "METTOL": "2016-11-25",
                                    "MEDDIG": "2016-11-27",
                                    "FO_SZAM": "2",
                                    "ELOZO_HAROM_FO": "5"
                                },
                                {
                                    "USERNEV": "JANOSP",
                                    "NEV": "Pálinkás János",
                                    "METTOL": "2016-12-18",
                                    "MEDDIG": "2016-12-21",
                                    "FO_SZAM": "2",
                                    "ELOZO_HAROM_FO": "7"
                                },
                                {
                                    "USERNEV": "jozsef",
                                    "NEV": "Gergely József",
                                    "METTOL": "2016-09-13",
                                    "MEDDIG": "2016-09-19",
                                    "FO_SZAM": "2",
                                    "ELOZO_HAROM_FO": "0"
                                },
                                {
                                    "USERNEV": "jozsef",
                                    "NEV": "Gergely József",
                                    "METTOL": "2016-10-08",
                                    "MEDDIG": "2016-10-10",
                                    "FO_SZAM": "2",
                                    "ELOZO_HAROM_FO": "2"
                                },
                                {
                                    "USERNEV": "jozsef",
                                    "NEV": "Gergely József",
                                    "METTOL": "2016-12-06",
                                    "MEDDIG": "2016-12-07",
                                    "FO_SZAM": "2",
                                    "ELOZO_HAROM_FO": "4"
                                },
                                {
                                    "USERNEV": "jozsef2",
                                    "NEV": "Vajda József",
                                    "METTOL": "2016-07-06",
                                    "MEDDIG": "2016-07-11",
                                    "FO_SZAM": "2",
                                    "ELOZO_HAROM_FO": "0"
                                },
                                {
                                    "USERNEV": "jozsef2",
                                    "NEV": "Vajda József",
                                    "METTOL": "2016-07-16",
                                    "MEDDIG": "2016-07-20",
                                    "FO_SZAM": "3",
                                    "ELOZO_HAROM_FO": "2"
                                },
                                {
                                    "USERNEV": "jozsef2",
                                    "NEV": "Vajda József",
                                    "METTOL": "2016-09-09",
                                    "MEDDIG": "2016-09-15",
                                    "FO_SZAM": "2",
                                    "ELOZO_HAROM_FO": "5"
                                },
                                {
                                    "USERNEV": "jozsef2",
                                    "NEV": "Vajda József",
                                    "METTOL": "2016-11-23",
                                    "MEDDIG": "2016-11-29",
                                    "FO_SZAM": "3",
                                    "ELOZO_HAROM_FO": "7"
                                },
                                {
                                    "USERNEV": "jozsef2",
                                    "NEV": "Vajda József",
                                    "METTOL": "2016-11-25",
                                    "MEDDIG": "2016-11-29",
                                    "FO_SZAM": "3",
                                    "ELOZO_HAROM_FO": "8"
                                },
                                {
                                    "USERNEV": "JOZSEFG",
                                    "NEV": "Gyuris József",
                                    "METTOL": "2016-05-02",
                                    "MEDDIG": "2016-05-06",
                                    "FO_SZAM": "2",
                                    "ELOZO_HAROM_FO": "0"
                                },
                                {
                                    "USERNEV": "JOZSEFG",
                                    "NEV": "Gyuris József",
                                    "METTOL": "2016-05-23",
                                    "MEDDIG": "2016-05-25",
                                    "FO_SZAM": "1",
                                    "ELOZO_HAROM_FO": "2"
                                },
                                {
                                    "USERNEV": "JOZSEFG",
                                    "NEV": "Gyuris József",
                                    "METTOL": "2016-06-04",
                                    "MEDDIG": "2016-06-09",
                                    "FO_SZAM": "4",
                                    "ELOZO_HAROM_FO": "3"
                                },
                                {
                                    "USERNEV": "JOZSEFG",
                                    "NEV": "Gyuris József",
                                    "METTOL": "2016-08-24",
                                    "MEDDIG": "2016-08-27",
                                    "FO_SZAM": "3",
                                    "ELOZO_HAROM_FO": "7"
                                },
                                {
                                    "USERNEV": "JOZSEFG",
                                    "NEV": "Gyuris József",
                                    "METTOL": "2017-01-09",
                                    "MEDDIG": "2017-01-13",
                                    "FO_SZAM": "2",
                                    "ELOZO_HAROM_FO": "8"
                                },
                                {
                                    "USERNEV": "JOZSEFG",
                                    "NEV": "Gyuris József",
                                    "METTOL": "2017-01-22",
                                    "MEDDIG": "2017-01-26",
                                    "FO_SZAM": "1",
                                    "ELOZO_HAROM_FO": "9"
                                },
                                {
                                    "USERNEV": "JOZSEFG",
                                    "NEV": "Gyuris József",
                                    "METTOL": "2017-02-24",
                                    "MEDDIG": "2017-03-03",
                                    "FO_SZAM": "3",
                                    "ELOZO_HAROM_FO": "6"
                                },
                                {
                                    "USERNEV": "JUDITH",
                                    "NEV": "Hídasi Judit",
                                    "METTOL": "2016-06-06",
                                    "MEDDIG": "2016-06-10",
                                    "FO_SZAM": "2",
                                    "ELOZO_HAROM_FO": "0"
                                },
                                {
                                    "USERNEV": "JUDITH",
                                    "NEV": "Hídasi Judit",
                                    "METTOL": "2016-07-28",
                                    "MEDDIG": "2016-07-30",
                                    "FO_SZAM": "2",
                                    "ELOZO_HAROM_FO": "2"
                                },
                                {
                                    "USERNEV": "JUDITH",
                                    "NEV": "Hídasi Judit",
                                    "METTOL": "2016-12-19",
                                    "MEDDIG": "2016-12-26",
                                    "FO_SZAM": "1",
                                    "ELOZO_HAROM_FO": "4"
                                },
                                {
                                    "USERNEV": "julia",
                                    "NEV": "Tóth Júlia",
                                    "METTOL": "2016-04-21",
                                    "MEDDIG": "2016-04-26",
                                    "FO_SZAM": "2",
                                    "ELOZO_HAROM_FO": "0"
                                },
                                {
                                    "USERNEV": "julia",
                                    "NEV": "Tóth Júlia",
                                    "METTOL": "2016-05-12",
                                    "MEDDIG": "2016-05-17",
                                    "FO_SZAM": "1",
                                    "ELOZO_HAROM_FO": "2"
                                },
                                {
                                    "USERNEV": "julia",
                                    "NEV": "Tóth Júlia",
                                    "METTOL": "2016-06-07",
                                    "MEDDIG": "2016-06-08",
                                    "FO_SZAM": "5",
                                    "ELOZO_HAROM_FO": "3"
                                },
                                {
                                    "USERNEV": "julia",
                                    "NEV": "Tóth Júlia",
                                    "METTOL": "2016-07-20",
                                    "MEDDIG": "2016-07-22",
                                    "FO_SZAM": "2",
                                    "ELOZO_HAROM_FO": "8"
                                },
                                {
                                    "USERNEV": "julia",
                                    "NEV": "Tóth Júlia",
                                    "METTOL": "2017-02-27",
                                    "MEDDIG": "2017-03-06",
                                    "FO_SZAM": "3",
                                    "ELOZO_HAROM_FO": "8"
                                },
                                {
                                    "USERNEV": "julia4",
                                    "NEV": "Nagy Júlia",
                                    "METTOL": "2016-11-07",
                                    "MEDDIG": "2016-11-12",
                                    "FO_SZAM": "1",
                                    "ELOZO_HAROM_FO": "0"
                                },
                                {
                                    "USERNEV": "julia4",
                                    "NEV": "Nagy Júlia",
                                    "METTOL": "2017-02-04",
                                    "MEDDIG": "2017-02-11",
                                    "FO_SZAM": "4",
                                    "ELOZO_HAROM_FO": "1"
                                },
                                {
                                    "USERNEV": "julianna4",
                                    "NEV": "Szabó Julianna",
                                    "METTOL": "2016-07-20",
                                    "MEDDIG": "2016-07-26",
                                    "FO_SZAM": "2",
                                    "ELOZO_HAROM_FO": "0"
                                },
                                {
                                    "USERNEV": "julianna4",
                                    "NEV": "Szabó Julianna",
                                    "METTOL": "2016-10-29",
                                    "MEDDIG": "2016-10-31",
                                    "FO_SZAM": "3",
                                    "ELOZO_HAROM_FO": "2"
                                },
                                {
                                    "USERNEV": "julianna4",
                                    "NEV": "Szabó Julianna",
                                    "METTOL": "2016-11-03",
                                    "MEDDIG": "2016-11-04",
                                    "FO_SZAM": "2",
                                    "ELOZO_HAROM_FO": "5"
                                },
                                {
                                    "USERNEV": "julianna4",
                                    "NEV": "Szabó Julianna",
                                    "METTOL": "2016-11-27",
                                    "MEDDIG": "2016-12-04",
                                    "FO_SZAM": "3",
                                    "ELOZO_HAROM_FO": "7"
                                },
                                {
                                    "USERNEV": "kata",
                                    "NEV": "Gondos Katalin",
                                    "METTOL": "2016-04-10",
                                    "MEDDIG": "2016-04-11",
                                    "FO_SZAM": "2",
                                    "ELOZO_HAROM_FO": "0"
                                },
                                {
                                    "USERNEV": "kata",
                                    "NEV": "Gondos Katalin",
                                    "METTOL": "2016-04-25",
                                    "MEDDIG": "2016-05-01",
                                    "FO_SZAM": "1",
                                    "ELOZO_HAROM_FO": "2"
                                },
                                {
                                    "USERNEV": "kata",
                                    "NEV": "Gondos Katalin",
                                    "METTOL": "2016-05-31",
                                    "MEDDIG": "2016-06-01",
                                    "FO_SZAM": "3",
                                    "ELOZO_HAROM_FO": "3"
                                },
                                {
                                    "USERNEV": "kata",
                                    "NEV": "Gondos Katalin",
                                    "METTOL": "2016-06-07",
                                    "MEDDIG": "2016-06-12",
                                    "FO_SZAM": "2",
                                    "ELOZO_HAROM_FO": "6"
                                },
                                {
                                    "USERNEV": "kata",
                                    "NEV": "Gondos Katalin",
                                    "METTOL": "2016-07-01",
                                    "MEDDIG": "2016-07-07",
                                    "FO_SZAM": "2",
                                    "ELOZO_HAROM_FO": "6"
                                },
                                {
                                    "USERNEV": "kata",
                                    "NEV": "Gondos Katalin",
                                    "METTOL": "2016-07-03",
                                    "MEDDIG": "2016-07-06",
                                    "FO_SZAM": "1",
                                    "ELOZO_HAROM_FO": "7"
                                },
                                {
                                    "USERNEV": "kata",
                                    "NEV": "Gondos Katalin",
                                    "METTOL": "2016-07-07",
                                    "MEDDIG": "2016-07-09",
                                    "FO_SZAM": "3",
                                    "ELOZO_HAROM_FO": "5"
                                },
                                {
                                    "USERNEV": "kata",
                                    "NEV": "Gondos Katalin",
                                    "METTOL": "2016-08-24",
                                    "MEDDIG": "2016-08-27",
                                    "FO_SZAM": "3",
                                    "ELOZO_HAROM_FO": "6"
                                },
                                {
                                    "USERNEV": "kata",
                                    "NEV": "Gondos Katalin",
                                    "METTOL": "2016-09-19",
                                    "MEDDIG": "2016-09-20",
                                    "FO_SZAM": "3",
                                    "ELOZO_HAROM_FO": "7"
                                },
                                {
                                    "USERNEV": "kata",
                                    "NEV": "Gondos Katalin",
                                    "METTOL": "2017-01-15",
                                    "MEDDIG": "2017-01-21",
                                    "FO_SZAM": "3",
                                    "ELOZO_HAROM_FO": "9"
                                },
                                {
                                    "USERNEV": "katalin",
                                    "NEV": "Horváth Katalin",
                                    "METTOL": "2016-04-10",
                                    "MEDDIG": "2016-04-17",
                                    "FO_SZAM": "2",
                                    "ELOZO_HAROM_FO": "0"
                                },
                                {
                                    "USERNEV": "katalin",
                                    "NEV": "Horváth Katalin",
                                    "METTOL": "2016-05-21",
                                    "MEDDIG": "2016-05-26",
                                    "FO_SZAM": "1",
                                    "ELOZO_HAROM_FO": "2"
                                },
                                {
                                    "USERNEV": "katalin",
                                    "NEV": "Horváth Katalin",
                                    "METTOL": "2016-07-06",
                                    "MEDDIG": "2016-07-11",
                                    "FO_SZAM": "1",
                                    "ELOZO_HAROM_FO": "3"
                                },
                                {
                                    "USERNEV": "katalin",
                                    "NEV": "Horváth Katalin",
                                    "METTOL": "2016-07-28",
                                    "MEDDIG": "2016-07-29",
                                    "FO_SZAM": "1",
                                    "ELOZO_HAROM_FO": "4"
                                },
                                {
                                    "USERNEV": "katalin",
                                    "NEV": "Horváth Katalin",
                                    "METTOL": "2016-10-26",
                                    "MEDDIG": "2016-10-30",
                                    "FO_SZAM": "2",
                                    "ELOZO_HAROM_FO": "3"
                                },
                                {
                                    "USERNEV": "katalin",
                                    "NEV": "Horváth Katalin",
                                    "METTOL": "2016-12-13",
                                    "MEDDIG": "2016-12-19",
                                    "FO_SZAM": "2",
                                    "ELOZO_HAROM_FO": "4"
                                },
                                {
                                    "USERNEV": "katalin",
                                    "NEV": "Horváth Katalin",
                                    "METTOL": "2016-12-17",
                                    "MEDDIG": "2016-12-24",
                                    "FO_SZAM": "1",
                                    "ELOZO_HAROM_FO": "5"
                                },
                                {
                                    "USERNEV": "katalin",
                                    "NEV": "Horváth Katalin",
                                    "METTOL": "2016-12-24",
                                    "MEDDIG": "2016-12-27",
                                    "FO_SZAM": "2",
                                    "ELOZO_HAROM_FO": "5"
                                },
                                {
                                    "USERNEV": "katalin",
                                    "NEV": "Horváth Katalin",
                                    "METTOL": "2017-02-24",
                                    "MEDDIG": "2017-02-27",
                                    "FO_SZAM": "3",
                                    "ELOZO_HAROM_FO": "5"
                                },
                                {
                                    "USERNEV": "katalin4",
                                    "NEV": "Kertész Katalin",
                                    "METTOL": "2016-07-01",
                                    "MEDDIG": "2016-07-07",
                                    "FO_SZAM": "1",
                                    "ELOZO_HAROM_FO": "0"
                                },
                                {
                                    "USERNEV": "katalin4",
                                    "NEV": "Kertész Katalin",
                                    "METTOL": "2016-07-03",
                                    "MEDDIG": "2016-07-04",
                                    "FO_SZAM": "4",
                                    "ELOZO_HAROM_FO": "1"
                                },
                                {
                                    "USERNEV": "katalin4",
                                    "NEV": "Kertész Katalin",
                                    "METTOL": "2016-11-27",
                                    "MEDDIG": "2016-12-04",
                                    "FO_SZAM": "3",
                                    "ELOZO_HAROM_FO": "5"
                                },
                                {
                                    "USERNEV": "katalin4",
                                    "NEV": "Kertész Katalin",
                                    "METTOL": "2016-12-04",
                                    "MEDDIG": "2016-12-09",
                                    "FO_SZAM": "3",
                                    "ELOZO_HAROM_FO": "8"
                                },
                                {
                                    "USERNEV": "katalin4",
                                    "NEV": "Kertész Katalin",
                                    "METTOL": "2017-01-18",
                                    "MEDDIG": "2017-01-20",
                                    "FO_SZAM": "2",
                                    "ELOZO_HAROM_FO": "10"
                                },
                                {
                                    "USERNEV": "katalin4",
                                    "NEV": "Kertész Katalin",
                                    "METTOL": "2017-01-24",
                                    "MEDDIG": "2017-01-31",
                                    "FO_SZAM": "2",
                                    "ELOZO_HAROM_FO": "8"
                                },
                                {
                                    "USERNEV": "kati",
                                    "NEV": "Zatykó Katalin",
                                    "METTOL": "2016-06-06",
                                    "MEDDIG": "2016-06-10",
                                    "FO_SZAM": "2",
                                    "ELOZO_HAROM_FO": "0"
                                },
                                {
                                    "USERNEV": "kati",
                                    "NEV": "Zatykó Katalin",
                                    "METTOL": "2016-06-06",
                                    "MEDDIG": "2016-06-11",
                                    "FO_SZAM": "3",
                                    "ELOZO_HAROM_FO": "2"
                                },
                                {
                                    "USERNEV": "kati",
                                    "NEV": "Zatykó Katalin",
                                    "METTOL": "2016-07-13",
                                    "MEDDIG": "2016-07-20",
                                    "FO_SZAM": "2",
                                    "ELOZO_HAROM_FO": "5"
                                },
                                {
                                    "USERNEV": "kati",
                                    "NEV": "Zatykó Katalin",
                                    "METTOL": "2016-07-27",
                                    "MEDDIG": "2016-08-03",
                                    "FO_SZAM": "2",
                                    "ELOZO_HAROM_FO": "7"
                                },
                                {
                                    "USERNEV": "kati",
                                    "NEV": "Zatykó Katalin",
                                    "METTOL": "2016-08-03",
                                    "MEDDIG": "2016-08-07",
                                    "FO_SZAM": "2",
                                    "ELOZO_HAROM_FO": "7"
                                },
                                {
                                    "USERNEV": "kati",
                                    "NEV": "Zatykó Katalin",
                                    "METTOL": "2016-10-26",
                                    "MEDDIG": "2016-10-28",
                                    "FO_SZAM": "2",
                                    "ELOZO_HAROM_FO": "6"
                                },
                                {
                                    "USERNEV": "kati",
                                    "NEV": "Zatykó Katalin",
                                    "METTOL": "2016-10-30",
                                    "MEDDIG": "2016-11-01",
                                    "FO_SZAM": "3",
                                    "ELOZO_HAROM_FO": "6"
                                },
                                {
                                    "USERNEV": "katka",
                                    "NEV": "Kovács Katalin",
                                    "METTOL": "2016-04-10",
                                    "MEDDIG": "2016-04-12",
                                    "FO_SZAM": "2",
                                    "ELOZO_HAROM_FO": "0"
                                },
                                {
                                    "USERNEV": "katka",
                                    "NEV": "Kovács Katalin",
                                    "METTOL": "2016-05-09",
                                    "MEDDIG": "2016-05-15",
                                    "FO_SZAM": "3",
                                    "ELOZO_HAROM_FO": "2"
                                },
                                {
                                    "USERNEV": "katka",
                                    "NEV": "Kovács Katalin",
                                    "METTOL": "2016-06-13",
                                    "MEDDIG": "2016-06-18",
                                    "FO_SZAM": "1",
                                    "ELOZO_HAROM_FO": "5"
                                },
                                {
                                    "USERNEV": "katka",
                                    "NEV": "Kovács Katalin",
                                    "METTOL": "2016-06-13",
                                    "MEDDIG": "2016-06-19",
                                    "FO_SZAM": "4",
                                    "ELOZO_HAROM_FO": "6"
                                },
                                {
                                    "USERNEV": "katka",
                                    "NEV": "Kovács Katalin",
                                    "METTOL": "2016-08-24",
                                    "MEDDIG": "2016-08-26",
                                    "FO_SZAM": "2",
                                    "ELOZO_HAROM_FO": "8"
                                },
                                {
                                    "USERNEV": "katka",
                                    "NEV": "Kovács Katalin",
                                    "METTOL": "2016-09-05",
                                    "MEDDIG": "2016-09-10",
                                    "FO_SZAM": "4",
                                    "ELOZO_HAROM_FO": "7"
                                },
                                {
                                    "USERNEV": "katka",
                                    "NEV": "Kovács Katalin",
                                    "METTOL": "2016-11-05",
                                    "MEDDIG": "2016-11-08",
                                    "FO_SZAM": "3",
                                    "ELOZO_HAROM_FO": "10"
                                },
                                {
                                    "USERNEV": "katka",
                                    "NEV": "Kovács Katalin",
                                    "METTOL": "2017-01-02",
                                    "MEDDIG": "2017-01-05",
                                    "FO_SZAM": "3",
                                    "ELOZO_HAROM_FO": "9"
                                },
                                {
                                    "USERNEV": "katka",
                                    "NEV": "Kovács Katalin",
                                    "METTOL": "2017-01-19",
                                    "MEDDIG": "2017-01-20",
                                    "FO_SZAM": "3",
                                    "ELOZO_HAROM_FO": "10"
                                },
                                {
                                    "USERNEV": "klaudia2",
                                    "NEV": "Bakó Klaudia",
                                    "METTOL": "2016-06-06",
                                    "MEDDIG": "2016-06-08",
                                    "FO_SZAM": "4",
                                    "ELOZO_HAROM_FO": "0"
                                },
                                {
                                    "USERNEV": "klaudia2",
                                    "NEV": "Bakó Klaudia",
                                    "METTOL": "2016-10-01",
                                    "MEDDIG": "2016-10-02",
                                    "FO_SZAM": "2",
                                    "ELOZO_HAROM_FO": "4"
                                },
                                {
                                    "USERNEV": "klaudia2",
                                    "NEV": "Bakó Klaudia",
                                    "METTOL": "2016-10-02",
                                    "MEDDIG": "2016-10-05",
                                    "FO_SZAM": "2",
                                    "ELOZO_HAROM_FO": "6"
                                },
                                {
                                    "USERNEV": "kornel4",
                                    "NEV": "Lukács Kornél",
                                    "METTOL": "2016-05-08",
                                    "MEDDIG": "2016-05-14",
                                    "FO_SZAM": "3",
                                    "ELOZO_HAROM_FO": "0"
                                },
                                {
                                    "USERNEV": "kornel4",
                                    "NEV": "Lukács Kornél",
                                    "METTOL": "2016-06-02",
                                    "MEDDIG": "2016-06-09",
                                    "FO_SZAM": "3",
                                    "ELOZO_HAROM_FO": "3"
                                },
                                {
                                    "USERNEV": "kornel4",
                                    "NEV": "Lukács Kornél",
                                    "METTOL": "2016-09-23",
                                    "MEDDIG": "2016-09-24",
                                    "FO_SZAM": "3",
                                    "ELOZO_HAROM_FO": "6"
                                },
                                {
                                    "USERNEV": "kristof4",
                                    "NEV": "Poprádi Kristóf",
                                    "METTOL": "2016-04-08",
                                    "MEDDIG": "2016-04-14",
                                    "FO_SZAM": "2",
                                    "ELOZO_HAROM_FO": "0"
                                },
                                {
                                    "USERNEV": "kristof4",
                                    "NEV": "Poprádi Kristóf",
                                    "METTOL": "2016-09-30",
                                    "MEDDIG": "2016-10-04",
                                    "FO_SZAM": "2",
                                    "ELOZO_HAROM_FO": "2"
                                },
                                {
                                    "USERNEV": "kriszti",
                                    "NEV": "Horváth Krisztina",
                                    "METTOL": "2016-05-19",
                                    "MEDDIG": "2016-05-26",
                                    "FO_SZAM": "2",
                                    "ELOZO_HAROM_FO": "0"
                                },
                                {
                                    "USERNEV": "kriszti",
                                    "NEV": "Horváth Krisztina",
                                    "METTOL": "2016-08-24",
                                    "MEDDIG": "2016-08-25",
                                    "FO_SZAM": "3",
                                    "ELOZO_HAROM_FO": "2"
                                },
                                {
                                    "USERNEV": "kriszti",
                                    "NEV": "Horváth Krisztina",
                                    "METTOL": "2016-09-30",
                                    "MEDDIG": "2016-10-05",
                                    "FO_SZAM": "3",
                                    "ELOZO_HAROM_FO": "5"
                                },
                                {
                                    "USERNEV": "kriszti",
                                    "NEV": "Horváth Krisztina",
                                    "METTOL": "2016-10-01",
                                    "MEDDIG": "2016-10-02",
                                    "FO_SZAM": "3",
                                    "ELOZO_HAROM_FO": "8"
                                },
                                {
                                    "USERNEV": "kriszti",
                                    "NEV": "Horváth Krisztina",
                                    "METTOL": "2017-02-04",
                                    "MEDDIG": "2017-02-11",
                                    "FO_SZAM": "3",
                                    "ELOZO_HAROM_FO": "9"
                                },
                                {
                                    "USERNEV": "kriszti",
                                    "NEV": "Horváth Krisztina",
                                    "METTOL": "2017-03-03",
                                    "MEDDIG": "2017-03-04",
                                    "FO_SZAM": "3",
                                    "ELOZO_HAROM_FO": "9"
                                },
                                {
                                    "USERNEV": "krisztian4",
                                    "NEV": "Czérna Krisztián",
                                    "METTOL": "2016-06-03",
                                    "MEDDIG": "2016-06-04",
                                    "FO_SZAM": "2",
                                    "ELOZO_HAROM_FO": "0"
                                },
                                {
                                    "USERNEV": "krisztian4",
                                    "NEV": "Czérna Krisztián",
                                    "METTOL": "2016-06-07",
                                    "MEDDIG": "2016-06-09",
                                    "FO_SZAM": "2",
                                    "ELOZO_HAROM_FO": "2"
                                },
                                {
                                    "USERNEV": "krisztian4",
                                    "NEV": "Czérna Krisztián",
                                    "METTOL": "2016-07-28",
                                    "MEDDIG": "2016-08-01",
                                    "FO_SZAM": "2",
                                    "ELOZO_HAROM_FO": "4"
                                },
                                {
                                    "USERNEV": "krisztian4",
                                    "NEV": "Czérna Krisztián",
                                    "METTOL": "2016-08-01",
                                    "MEDDIG": "2016-08-04",
                                    "FO_SZAM": "3",
                                    "ELOZO_HAROM_FO": "6"
                                },
                                {
                                    "USERNEV": "krisztian4",
                                    "NEV": "Czérna Krisztián",
                                    "METTOL": "2016-08-16",
                                    "MEDDIG": "2016-08-19",
                                    "FO_SZAM": "1",
                                    "ELOZO_HAROM_FO": "7"
                                },
                                {
                                    "USERNEV": "krisztian4",
                                    "NEV": "Czérna Krisztián",
                                    "METTOL": "2016-08-29",
                                    "MEDDIG": "2016-09-03",
                                    "FO_SZAM": "1",
                                    "ELOZO_HAROM_FO": "6"
                                },
                                {
                                    "USERNEV": "krisztian4",
                                    "NEV": "Czérna Krisztián",
                                    "METTOL": "2016-10-17",
                                    "MEDDIG": "2016-10-22",
                                    "FO_SZAM": "3",
                                    "ELOZO_HAROM_FO": "5"
                                },
                                {
                                    "USERNEV": "krisztian4",
                                    "NEV": "Czérna Krisztián",
                                    "METTOL": "2016-11-02",
                                    "MEDDIG": "2016-11-03",
                                    "FO_SZAM": "2",
                                    "ELOZO_HAROM_FO": "5"
                                },
                                {
                                    "USERNEV": "krisztian4",
                                    "NEV": "Czérna Krisztián",
                                    "METTOL": "2016-12-11",
                                    "MEDDIG": "2016-12-18",
                                    "FO_SZAM": "2",
                                    "ELOZO_HAROM_FO": "6"
                                },
                                {
                                    "USERNEV": "krisztian4",
                                    "NEV": "Czérna Krisztián",
                                    "METTOL": "2017-01-06",
                                    "MEDDIG": "2017-01-09",
                                    "FO_SZAM": "1",
                                    "ELOZO_HAROM_FO": "7"
                                },
                                {
                                    "USERNEV": "krisztian4",
                                    "NEV": "Czérna Krisztián",
                                    "METTOL": "2017-01-16",
                                    "MEDDIG": "2017-01-23",
                                    "FO_SZAM": "3",
                                    "ELOZO_HAROM_FO": "5"
                                },
                                {
                                    "USERNEV": "krisztian4",
                                    "NEV": "Czérna Krisztián",
                                    "METTOL": "2017-02-23",
                                    "MEDDIG": "2017-03-02",
                                    "FO_SZAM": "2",
                                    "ELOZO_HAROM_FO": "6"
                                },
                                {
                                    "USERNEV": "KRISZTIANM",
                                    "NEV": "Mogyródi Krisztián",
                                    "METTOL": "2016-04-09",
                                    "MEDDIG": "2016-04-15",
                                    "FO_SZAM": "2",
                                    "ELOZO_HAROM_FO": "0"
                                },
                                {
                                    "USERNEV": "KRISZTIANM",
                                    "NEV": "Mogyródi Krisztián",
                                    "METTOL": "2016-06-04",
                                    "MEDDIG": "2016-06-08",
                                    "FO_SZAM": "2",
                                    "ELOZO_HAROM_FO": "2"
                                },
                                {
                                    "USERNEV": "KRISZTIANM",
                                    "NEV": "Mogyródi Krisztián",
                                    "METTOL": "2016-07-09",
                                    "MEDDIG": "2016-07-14",
                                    "FO_SZAM": "3",
                                    "ELOZO_HAROM_FO": "4"
                                },
                                {
                                    "USERNEV": "KRISZTIANM",
                                    "NEV": "Mogyródi Krisztián",
                                    "METTOL": "2016-08-02",
                                    "MEDDIG": "2016-08-08",
                                    "FO_SZAM": "4",
                                    "ELOZO_HAROM_FO": "7"
                                },
                                {
                                    "USERNEV": "KRISZTIANM",
                                    "NEV": "Mogyródi Krisztián",
                                    "METTOL": "2016-12-25",
                                    "MEDDIG": "2016-12-31",
                                    "FO_SZAM": "2",
                                    "ELOZO_HAROM_FO": "9"
                                },
                                {
                                    "USERNEV": "KRISZTIANM",
                                    "NEV": "Mogyródi Krisztián",
                                    "METTOL": "2017-01-16",
                                    "MEDDIG": "2017-01-23",
                                    "FO_SZAM": "1",
                                    "ELOZO_HAROM_FO": "9"
                                },
                                {
                                    "USERNEV": "krisztina",
                                    "NEV": "Szedlár Krisztina",
                                    "METTOL": "2016-05-21",
                                    "MEDDIG": "2016-05-27",
                                    "FO_SZAM": "2",
                                    "ELOZO_HAROM_FO": "0"
                                },
                                {
                                    "USERNEV": "krisztina",
                                    "NEV": "Szedlár Krisztina",
                                    "METTOL": "2016-07-05",
                                    "MEDDIG": "2016-07-12",
                                    "FO_SZAM": "3",
                                    "ELOZO_HAROM_FO": "2"
                                },
                                {
                                    "USERNEV": "krisztina",
                                    "NEV": "Szedlár Krisztina",
                                    "METTOL": "2016-09-13",
                                    "MEDDIG": "2016-09-16",
                                    "FO_SZAM": "1",
                                    "ELOZO_HAROM_FO": "5"
                                },
                                {
                                    "USERNEV": "krisztina",
                                    "NEV": "Szedlár Krisztina",
                                    "METTOL": "2016-09-19",
                                    "MEDDIG": "2016-09-26",
                                    "FO_SZAM": "2",
                                    "ELOZO_HAROM_FO": "6"
                                },
                                {
                                    "USERNEV": "krisztina",
                                    "NEV": "Szedlár Krisztina",
                                    "METTOL": "2016-11-08",
                                    "MEDDIG": "2016-11-12",
                                    "FO_SZAM": "2",
                                    "ELOZO_HAROM_FO": "6"
                                },
                                {
                                    "USERNEV": "krisztina",
                                    "NEV": "Szedlár Krisztina",
                                    "METTOL": "2016-11-22",
                                    "MEDDIG": "2016-11-25",
                                    "FO_SZAM": "1",
                                    "ELOZO_HAROM_FO": "5"
                                },
                                {
                                    "USERNEV": "krisztina",
                                    "NEV": "Szedlár Krisztina",
                                    "METTOL": "2017-02-05",
                                    "MEDDIG": "2017-02-07",
                                    "FO_SZAM": "2",
                                    "ELOZO_HAROM_FO": "5"
                                },
                                {
                                    "USERNEV": "krisztina",
                                    "NEV": "Szedlár Krisztina",
                                    "METTOL": "2017-02-16",
                                    "MEDDIG": "2017-02-20",
                                    "FO_SZAM": "4",
                                    "ELOZO_HAROM_FO": "5"
                                },
                                {
                                    "USERNEV": "krisztina1",
                                    "NEV": "Bori Krisztina",
                                    "METTOL": "2016-04-28",
                                    "MEDDIG": "2016-04-30",
                                    "FO_SZAM": "2",
                                    "ELOZO_HAROM_FO": "0"
                                },
                                {
                                    "USERNEV": "krisztina1",
                                    "NEV": "Bori Krisztina",
                                    "METTOL": "2016-05-16",
                                    "MEDDIG": "2016-05-20",
                                    "FO_SZAM": "1",
                                    "ELOZO_HAROM_FO": "2"
                                },
                                {
                                    "USERNEV": "krisztina1",
                                    "NEV": "Bori Krisztina",
                                    "METTOL": "2016-06-16",
                                    "MEDDIG": "2016-06-22",
                                    "FO_SZAM": "2",
                                    "ELOZO_HAROM_FO": "3"
                                },
                                {
                                    "USERNEV": "krisztina1",
                                    "NEV": "Bori Krisztina",
                                    "METTOL": "2016-09-15",
                                    "MEDDIG": "2016-09-20",
                                    "FO_SZAM": "3",
                                    "ELOZO_HAROM_FO": "5"
                                },
                                {
                                    "USERNEV": "krisztina1",
                                    "NEV": "Bori Krisztina",
                                    "METTOL": "2016-10-29",
                                    "MEDDIG": "2016-10-30",
                                    "FO_SZAM": "4",
                                    "ELOZO_HAROM_FO": "6"
                                },
                                {
                                    "USERNEV": "krisztina1",
                                    "NEV": "Bori Krisztina",
                                    "METTOL": "2017-01-21",
                                    "MEDDIG": "2017-01-24",
                                    "FO_SZAM": "2",
                                    "ELOZO_HAROM_FO": "9"
                                },
                                {
                                    "USERNEV": "KRISZTINAG",
                                    "NEV": "Gyárfás Krisztina",
                                    "METTOL": "2016-04-23",
                                    "MEDDIG": "2016-04-24",
                                    "FO_SZAM": "2",
                                    "ELOZO_HAROM_FO": "0"
                                },
                                {
                                    "USERNEV": "KRISZTINAG",
                                    "NEV": "Gyárfás Krisztina",
                                    "METTOL": "2016-05-24",
                                    "MEDDIG": "2016-05-31",
                                    "FO_SZAM": "1",
                                    "ELOZO_HAROM_FO": "2"
                                },
                                {
                                    "USERNEV": "KRISZTINAG",
                                    "NEV": "Gyárfás Krisztina",
                                    "METTOL": "2016-06-08",
                                    "MEDDIG": "2016-06-12",
                                    "FO_SZAM": "1",
                                    "ELOZO_HAROM_FO": "3"
                                },
                                {
                                    "USERNEV": "KRISZTINAG",
                                    "NEV": "Gyárfás Krisztina",
                                    "METTOL": "2016-08-08",
                                    "MEDDIG": "2016-08-12",
                                    "FO_SZAM": "3",
                                    "ELOZO_HAROM_FO": "4"
                                },
                                {
                                    "USERNEV": "KRISZTINAG",
                                    "NEV": "Gyárfás Krisztina",
                                    "METTOL": "2017-01-25",
                                    "MEDDIG": "2017-01-30",
                                    "FO_SZAM": "2",
                                    "ELOZO_HAROM_FO": "5"
                                },
                                {
                                    "USERNEV": "lajos",
                                    "NEV": "Kiss Lajos",
                                    "METTOL": "2016-07-18",
                                    "MEDDIG": "2016-07-21",
                                    "FO_SZAM": "2",
                                    "ELOZO_HAROM_FO": "0"
                                },
                                {
                                    "USERNEV": "lajos",
                                    "NEV": "Kiss Lajos",
                                    "METTOL": "2016-12-25",
                                    "MEDDIG": "2016-12-28",
                                    "FO_SZAM": "4",
                                    "ELOZO_HAROM_FO": "2"
                                },
                                {
                                    "USERNEV": "lajos",
                                    "NEV": "Kiss Lajos",
                                    "METTOL": "2017-02-12",
                                    "MEDDIG": "2017-02-13",
                                    "FO_SZAM": "1",
                                    "ELOZO_HAROM_FO": "6"
                                },
                                {
                                    "USERNEV": "lala",
                                    "NEV": "Nagymihály Lajos",
                                    "METTOL": "2016-06-16",
                                    "MEDDIG": "2016-06-22",
                                    "FO_SZAM": "2",
                                    "ELOZO_HAROM_FO": "0"
                                },
                                {
                                    "USERNEV": "lala",
                                    "NEV": "Nagymihály Lajos",
                                    "METTOL": "2016-07-20",
                                    "MEDDIG": "2016-07-21",
                                    "FO_SZAM": "3",
                                    "ELOZO_HAROM_FO": "2"
                                },
                                {
                                    "USERNEV": "lala",
                                    "NEV": "Nagymihály Lajos",
                                    "METTOL": "2016-07-26",
                                    "MEDDIG": "2016-07-27",
                                    "FO_SZAM": "3",
                                    "ELOZO_HAROM_FO": "5"
                                },
                                {
                                    "USERNEV": "lala",
                                    "NEV": "Nagymihály Lajos",
                                    "METTOL": "2016-10-30",
                                    "MEDDIG": "2016-10-31",
                                    "FO_SZAM": "3",
                                    "ELOZO_HAROM_FO": "8"
                                },
                                {
                                    "USERNEV": "lala",
                                    "NEV": "Nagymihály Lajos",
                                    "METTOL": "2017-01-08",
                                    "MEDDIG": "2017-01-10",
                                    "FO_SZAM": "3",
                                    "ELOZO_HAROM_FO": "9"
                                },
                                {
                                    "USERNEV": "lala",
                                    "NEV": "Nagymihály Lajos",
                                    "METTOL": "2017-01-17",
                                    "MEDDIG": "2017-01-19",
                                    "FO_SZAM": "2",
                                    "ELOZO_HAROM_FO": "9"
                                },
                                {
                                    "USERNEV": "laszlo1",
                                    "NEV": "Farkas László",
                                    "METTOL": "2016-09-23",
                                    "MEDDIG": "2016-09-30",
                                    "FO_SZAM": "3",
                                    "ELOZO_HAROM_FO": "0"
                                },
                                {
                                    "USERNEV": "laszlo2",
                                    "NEV": "Móra László",
                                    "METTOL": "2016-04-06",
                                    "MEDDIG": "2016-04-10",
                                    "FO_SZAM": "2",
                                    "ELOZO_HAROM_FO": "0"
                                },
                                {
                                    "USERNEV": "laszlo2",
                                    "NEV": "Móra László",
                                    "METTOL": "2016-04-27",
                                    "MEDDIG": "2016-04-29",
                                    "FO_SZAM": "2",
                                    "ELOZO_HAROM_FO": "2"
                                },
                                {
                                    "USERNEV": "laszlo2",
                                    "NEV": "Móra László",
                                    "METTOL": "2016-08-14",
                                    "MEDDIG": "2016-08-15",
                                    "FO_SZAM": "3",
                                    "ELOZO_HAROM_FO": "4"
                                },
                                {
                                    "USERNEV": "laszlo2",
                                    "NEV": "Móra László",
                                    "METTOL": "2016-09-05",
                                    "MEDDIG": "2016-09-10",
                                    "FO_SZAM": "3",
                                    "ELOZO_HAROM_FO": "7"
                                },
                                {
                                    "USERNEV": "laszlo2",
                                    "NEV": "Móra László",
                                    "METTOL": "2016-11-25",
                                    "MEDDIG": "2016-11-26",
                                    "FO_SZAM": "3",
                                    "ELOZO_HAROM_FO": "8"
                                },
                                {
                                    "USERNEV": "LASZLOA",
                                    "NEV": "Antal László",
                                    "METTOL": "2016-06-03",
                                    "MEDDIG": "2016-06-09",
                                    "FO_SZAM": "2",
                                    "ELOZO_HAROM_FO": "0"
                                },
                                {
                                    "USERNEV": "LASZLOA",
                                    "NEV": "Antal László",
                                    "METTOL": "2016-06-07",
                                    "MEDDIG": "2016-06-11",
                                    "FO_SZAM": "1",
                                    "ELOZO_HAROM_FO": "2"
                                },
                                {
                                    "USERNEV": "LASZLOA",
                                    "NEV": "Antal László",
                                    "METTOL": "2016-06-10",
                                    "MEDDIG": "2016-06-13",
                                    "FO_SZAM": "3",
                                    "ELOZO_HAROM_FO": "3"
                                },
                                {
                                    "USERNEV": "LASZLOA",
                                    "NEV": "Antal László",
                                    "METTOL": "2017-02-08",
                                    "MEDDIG": "2017-02-14",
                                    "FO_SZAM": "2",
                                    "ELOZO_HAROM_FO": "6"
                                },
                                {
                                    "USERNEV": "LASZLON",
                                    "NEV": "Nagy László",
                                    "METTOL": "2016-06-03",
                                    "MEDDIG": "2016-06-06",
                                    "FO_SZAM": "1",
                                    "ELOZO_HAROM_FO": "0"
                                },
                                {
                                    "USERNEV": "LASZLON",
                                    "NEV": "Nagy László",
                                    "METTOL": "2016-06-08",
                                    "MEDDIG": "2016-06-09",
                                    "FO_SZAM": "2",
                                    "ELOZO_HAROM_FO": "1"
                                },
                                {
                                    "USERNEV": "LASZLON",
                                    "NEV": "Nagy László",
                                    "METTOL": "2016-10-01",
                                    "MEDDIG": "2016-10-04",
                                    "FO_SZAM": "3",
                                    "ELOZO_HAROM_FO": "3"
                                },
                                {
                                    "USERNEV": "LASZLON",
                                    "NEV": "Nagy László",
                                    "METTOL": "2016-10-09",
                                    "MEDDIG": "2016-10-14",
                                    "FO_SZAM": "1",
                                    "ELOZO_HAROM_FO": "6"
                                },
                                {
                                    "USERNEV": "LASZLON",
                                    "NEV": "Nagy László",
                                    "METTOL": "2016-11-29",
                                    "MEDDIG": "2016-12-04",
                                    "FO_SZAM": "1",
                                    "ELOZO_HAROM_FO": "6"
                                },
                                {
                                    "USERNEV": "LASZLON",
                                    "NEV": "Nagy László",
                                    "METTOL": "2017-02-18",
                                    "MEDDIG": "2017-02-25",
                                    "FO_SZAM": "3",
                                    "ELOZO_HAROM_FO": "5"
                                },
                                {
                                    "USERNEV": "maria1",
                                    "NEV": "Baráth Mária",
                                    "METTOL": "2016-05-13",
                                    "MEDDIG": "2016-05-18",
                                    "FO_SZAM": "2",
                                    "ELOZO_HAROM_FO": "0"
                                },
                                {
                                    "USERNEV": "maria1",
                                    "NEV": "Baráth Mária",
                                    "METTOL": "2016-05-18",
                                    "MEDDIG": "2016-05-19",
                                    "FO_SZAM": "1",
                                    "ELOZO_HAROM_FO": "2"
                                },
                                {
                                    "USERNEV": "maria1",
                                    "NEV": "Baráth Mária",
                                    "METTOL": "2016-05-28",
                                    "MEDDIG": "2016-06-03",
                                    "FO_SZAM": "2",
                                    "ELOZO_HAROM_FO": "3"
                                },
                                {
                                    "USERNEV": "maria1",
                                    "NEV": "Baráth Mária",
                                    "METTOL": "2016-06-23",
                                    "MEDDIG": "2016-06-27",
                                    "FO_SZAM": "1",
                                    "ELOZO_HAROM_FO": "5"
                                },
                                {
                                    "USERNEV": "maria1",
                                    "NEV": "Baráth Mária",
                                    "METTOL": "2016-08-11",
                                    "MEDDIG": "2016-08-14",
                                    "FO_SZAM": "3",
                                    "ELOZO_HAROM_FO": "4"
                                },
                                {
                                    "USERNEV": "maria1",
                                    "NEV": "Baráth Mária",
                                    "METTOL": "2016-09-02",
                                    "MEDDIG": "2016-09-05",
                                    "FO_SZAM": "1",
                                    "ELOZO_HAROM_FO": "6"
                                },
                                {
                                    "USERNEV": "maria1",
                                    "NEV": "Baráth Mária",
                                    "METTOL": "2016-11-08",
                                    "MEDDIG": "2016-11-12",
                                    "FO_SZAM": "3",
                                    "ELOZO_HAROM_FO": "5"
                                },
                                {
                                    "USERNEV": "maria1",
                                    "NEV": "Baráth Mária",
                                    "METTOL": "2017-02-24",
                                    "MEDDIG": "2017-03-02",
                                    "FO_SZAM": "2",
                                    "ELOZO_HAROM_FO": "7"
                                },
                                {
                                    "USERNEV": "mark",
                                    "NEV": "Kispál Márk",
                                    "METTOL": "2016-04-19",
                                    "MEDDIG": "2016-04-26",
                                    "FO_SZAM": "4",
                                    "ELOZO_HAROM_FO": "0"
                                },
                                {
                                    "USERNEV": "mark",
                                    "NEV": "Kispál Márk",
                                    "METTOL": "2016-06-13",
                                    "MEDDIG": "2016-06-18",
                                    "FO_SZAM": "3",
                                    "ELOZO_HAROM_FO": "4"
                                },
                                {
                                    "USERNEV": "mark",
                                    "NEV": "Kispál Márk",
                                    "METTOL": "2016-08-09",
                                    "MEDDIG": "2016-08-16",
                                    "FO_SZAM": "3",
                                    "ELOZO_HAROM_FO": "7"
                                },
                                {
                                    "USERNEV": "mark",
                                    "NEV": "Kispál Márk",
                                    "METTOL": "2016-10-20",
                                    "MEDDIG": "2016-10-27",
                                    "FO_SZAM": "1",
                                    "ELOZO_HAROM_FO": "10"
                                },
                                {
                                    "USERNEV": "mark",
                                    "NEV": "Kispál Márk",
                                    "METTOL": "2016-11-19",
                                    "MEDDIG": "2016-11-22",
                                    "FO_SZAM": "2",
                                    "ELOZO_HAROM_FO": "7"
                                },
                                {
                                    "USERNEV": "MARKH",
                                    "NEV": "Horváth Márk",
                                    "METTOL": "2016-09-14",
                                    "MEDDIG": "2016-09-17",
                                    "FO_SZAM": "3",
                                    "ELOZO_HAROM_FO": "0"
                                },
                                {
                                    "USERNEV": "MARKH",
                                    "NEV": "Horváth Márk",
                                    "METTOL": "2016-09-23",
                                    "MEDDIG": "2016-09-30",
                                    "FO_SZAM": "2",
                                    "ELOZO_HAROM_FO": "3"
                                },
                                {
                                    "USERNEV": "MARKH",
                                    "NEV": "Horváth Márk",
                                    "METTOL": "2016-09-26",
                                    "MEDDIG": "2016-10-01",
                                    "FO_SZAM": "4",
                                    "ELOZO_HAROM_FO": "5"
                                },
                                {
                                    "USERNEV": "MARKH",
                                    "NEV": "Horváth Márk",
                                    "METTOL": "2017-01-22",
                                    "MEDDIG": "2017-01-29",
                                    "FO_SZAM": "4",
                                    "ELOZO_HAROM_FO": "9"
                                },
                                {
                                    "USERNEV": "marton",
                                    "NEV": "Kalacsi Márton",
                                    "METTOL": "2016-04-27",
                                    "MEDDIG": "2016-05-04",
                                    "FO_SZAM": "3",
                                    "ELOZO_HAROM_FO": "0"
                                },
                                {
                                    "USERNEV": "marton",
                                    "NEV": "Kalacsi Márton",
                                    "METTOL": "2016-05-05",
                                    "MEDDIG": "2016-05-10",
                                    "FO_SZAM": "1",
                                    "ELOZO_HAROM_FO": "3"
                                },
                                {
                                    "USERNEV": "marton",
                                    "NEV": "Kalacsi Márton",
                                    "METTOL": "2016-06-06",
                                    "MEDDIG": "2016-06-08",
                                    "FO_SZAM": "3",
                                    "ELOZO_HAROM_FO": "4"
                                },
                                {
                                    "USERNEV": "marton",
                                    "NEV": "Kalacsi Márton",
                                    "METTOL": "2016-06-22",
                                    "MEDDIG": "2016-06-29",
                                    "FO_SZAM": "2",
                                    "ELOZO_HAROM_FO": "7"
                                },
                                {
                                    "USERNEV": "marton",
                                    "NEV": "Kalacsi Márton",
                                    "METTOL": "2016-08-12",
                                    "MEDDIG": "2016-08-17",
                                    "FO_SZAM": "2",
                                    "ELOZO_HAROM_FO": "6"
                                },
                                {
                                    "USERNEV": "marton",
                                    "NEV": "Kalacsi Márton",
                                    "METTOL": "2016-09-10",
                                    "MEDDIG": "2016-09-12",
                                    "FO_SZAM": "2",
                                    "ELOZO_HAROM_FO": "7"
                                },
                                {
                                    "USERNEV": "marton",
                                    "NEV": "Kalacsi Márton",
                                    "METTOL": "2017-03-02",
                                    "MEDDIG": "2017-03-03",
                                    "FO_SZAM": "2",
                                    "ELOZO_HAROM_FO": "6"
                                },
                                {
                                    "USERNEV": "MATEK",
                                    "NEV": "Koza Máté",
                                    "METTOL": "2016-08-17",
                                    "MEDDIG": "2016-08-21",
                                    "FO_SZAM": "4",
                                    "ELOZO_HAROM_FO": "0"
                                },
                                {
                                    "USERNEV": "MATEK",
                                    "NEV": "Koza Máté",
                                    "METTOL": "2016-10-01",
                                    "MEDDIG": "2016-10-04",
                                    "FO_SZAM": "2",
                                    "ELOZO_HAROM_FO": "4"
                                },
                                {
                                    "USERNEV": "MATEK",
                                    "NEV": "Koza Máté",
                                    "METTOL": "2017-01-16",
                                    "MEDDIG": "2017-01-22",
                                    "FO_SZAM": "2",
                                    "ELOZO_HAROM_FO": "6"
                                },
                                {
                                    "USERNEV": "matyas2",
                                    "NEV": "Botka Mátyás",
                                    "METTOL": "2016-07-13",
                                    "MEDDIG": "2016-07-16",
                                    "FO_SZAM": "2",
                                    "ELOZO_HAROM_FO": "0"
                                },
                                {
                                    "USERNEV": "matyas2",
                                    "NEV": "Botka Mátyás",
                                    "METTOL": "2016-12-09",
                                    "MEDDIG": "2016-12-13",
                                    "FO_SZAM": "3",
                                    "ELOZO_HAROM_FO": "2"
                                },
                                {
                                    "USERNEV": "MATYASS",
                                    "NEV": "Szilágyi Mátyás",
                                    "METTOL": "2016-05-10",
                                    "MEDDIG": "2016-05-16",
                                    "FO_SZAM": "2",
                                    "ELOZO_HAROM_FO": "0"
                                },
                                {
                                    "USERNEV": "MATYASS",
                                    "NEV": "Szilágyi Mátyás",
                                    "METTOL": "2016-06-02",
                                    "MEDDIG": "2016-06-08",
                                    "FO_SZAM": "1",
                                    "ELOZO_HAROM_FO": "2"
                                },
                                {
                                    "USERNEV": "MATYASS",
                                    "NEV": "Szilágyi Mátyás",
                                    "METTOL": "2016-07-23",
                                    "MEDDIG": "2016-07-25",
                                    "FO_SZAM": "3",
                                    "ELOZO_HAROM_FO": "3"
                                },
                                {
                                    "USERNEV": "MATYASS",
                                    "NEV": "Szilágyi Mátyás",
                                    "METTOL": "2016-10-09",
                                    "MEDDIG": "2016-10-15",
                                    "FO_SZAM": "3",
                                    "ELOZO_HAROM_FO": "6"
                                },
                                {
                                    "USERNEV": "MATYASS",
                                    "NEV": "Szilágyi Mátyás",
                                    "METTOL": "2016-10-24",
                                    "MEDDIG": "2016-10-31",
                                    "FO_SZAM": "1",
                                    "ELOZO_HAROM_FO": "7"
                                },
                                {
                                    "USERNEV": "MATYASS",
                                    "NEV": "Szilágyi Mátyás",
                                    "METTOL": "2016-10-30",
                                    "MEDDIG": "2016-11-04",
                                    "FO_SZAM": "3",
                                    "ELOZO_HAROM_FO": "7"
                                },
                                {
                                    "USERNEV": "MATYASS",
                                    "NEV": "Szilágyi Mátyás",
                                    "METTOL": "2016-12-20",
                                    "MEDDIG": "2016-12-25",
                                    "FO_SZAM": "2",
                                    "ELOZO_HAROM_FO": "7"
                                },
                                {
                                    "USERNEV": "MATYASS",
                                    "NEV": "Szilágyi Mátyás",
                                    "METTOL": "2017-01-09",
                                    "MEDDIG": "2017-01-13",
                                    "FO_SZAM": "2",
                                    "ELOZO_HAROM_FO": "6"
                                },
                                {
                                    "USERNEV": "MIHALYJ",
                                    "NEV": "Juhász Mihály",
                                    "METTOL": "2016-05-30",
                                    "MEDDIG": "2016-06-01",
                                    "FO_SZAM": "2",
                                    "ELOZO_HAROM_FO": "0"
                                },
                                {
                                    "USERNEV": "MIHALYJ",
                                    "NEV": "Juhász Mihály",
                                    "METTOL": "2016-06-27",
                                    "MEDDIG": "2016-07-01",
                                    "FO_SZAM": "1",
                                    "ELOZO_HAROM_FO": "2"
                                },
                                {
                                    "USERNEV": "MIHALYJ",
                                    "NEV": "Juhász Mihály",
                                    "METTOL": "2016-08-29",
                                    "MEDDIG": "2016-09-03",
                                    "FO_SZAM": "1",
                                    "ELOZO_HAROM_FO": "3"
                                },
                                {
                                    "USERNEV": "MIHALYJ",
                                    "NEV": "Juhász Mihály",
                                    "METTOL": "2016-11-01",
                                    "MEDDIG": "2016-11-04",
                                    "FO_SZAM": "3",
                                    "ELOZO_HAROM_FO": "4"
                                },
                                {
                                    "USERNEV": "MIHALYJ",
                                    "NEV": "Juhász Mihály",
                                    "METTOL": "2017-02-06",
                                    "MEDDIG": "2017-02-12",
                                    "FO_SZAM": "4",
                                    "ELOZO_HAROM_FO": "5"
                                },
                                {
                                    "USERNEV": "miklos2",
                                    "NEV": "Gondos Miklós",
                                    "METTOL": "2016-04-19",
                                    "MEDDIG": "2016-04-21",
                                    "FO_SZAM": "3",
                                    "ELOZO_HAROM_FO": "0"
                                },
                                {
                                    "USERNEV": "miklos2",
                                    "NEV": "Gondos Miklós",
                                    "METTOL": "2016-10-08",
                                    "MEDDIG": "2016-10-09",
                                    "FO_SZAM": "1",
                                    "ELOZO_HAROM_FO": "3"
                                },
                                {
                                    "USERNEV": "miklos2",
                                    "NEV": "Gondos Miklós",
                                    "METTOL": "2016-11-16",
                                    "MEDDIG": "2016-11-18",
                                    "FO_SZAM": "3",
                                    "ELOZO_HAROM_FO": "4"
                                },
                                {
                                    "USERNEV": "MIKLOSB",
                                    "NEV": "Balla Miklós",
                                    "METTOL": "2016-06-26",
                                    "MEDDIG": "2016-06-30",
                                    "FO_SZAM": "2",
                                    "ELOZO_HAROM_FO": "0"
                                },
                                {
                                    "USERNEV": "MIKLOSB",
                                    "NEV": "Balla Miklós",
                                    "METTOL": "2016-07-18",
                                    "MEDDIG": "2016-07-21",
                                    "FO_SZAM": "2",
                                    "ELOZO_HAROM_FO": "2"
                                },
                                {
                                    "USERNEV": "MIKLOSB",
                                    "NEV": "Balla Miklós",
                                    "METTOL": "2016-12-05",
                                    "MEDDIG": "2016-12-10",
                                    "FO_SZAM": "2",
                                    "ELOZO_HAROM_FO": "4"
                                },
                                {
                                    "USERNEV": "MONIKAM",
                                    "NEV": "Mohos Mónika",
                                    "METTOL": "2016-04-29",
                                    "MEDDIG": "2016-05-01",
                                    "FO_SZAM": "2",
                                    "ELOZO_HAROM_FO": "0"
                                },
                                {
                                    "USERNEV": "MONIKAM",
                                    "NEV": "Mohos Mónika",
                                    "METTOL": "2016-07-23",
                                    "MEDDIG": "2016-07-30",
                                    "FO_SZAM": "1",
                                    "ELOZO_HAROM_FO": "2"
                                },
                                {
                                    "USERNEV": "MONIKAM",
                                    "NEV": "Mohos Mónika",
                                    "METTOL": "2016-11-09",
                                    "MEDDIG": "2016-11-16",
                                    "FO_SZAM": "2",
                                    "ELOZO_HAROM_FO": "3"
                                },
                                {
                                    "USERNEV": "MONIKAM",
                                    "NEV": "Mohos Mónika",
                                    "METTOL": "2017-01-17",
                                    "MEDDIG": "2017-01-24",
                                    "FO_SZAM": "1",
                                    "ELOZO_HAROM_FO": "5"
                                },
                                {
                                    "USERNEV": "MONIKAM",
                                    "NEV": "Mohos Mónika",
                                    "METTOL": "2017-02-06",
                                    "MEDDIG": "2017-02-09",
                                    "FO_SZAM": "2",
                                    "ELOZO_HAROM_FO": "4"
                                },
                                {
                                    "USERNEV": "MONIKAM",
                                    "NEV": "Mohos Mónika",
                                    "METTOL": "2017-02-23",
                                    "MEDDIG": "2017-02-26",
                                    "FO_SZAM": "2",
                                    "ELOZO_HAROM_FO": "5"
                                },
                                {
                                    "USERNEV": "NANDORF",
                                    "NEV": "Fő Nándor",
                                    "METTOL": "2016-04-06",
                                    "MEDDIG": "2016-04-10",
                                    "FO_SZAM": "3",
                                    "ELOZO_HAROM_FO": "0"
                                },
                                {
                                    "USERNEV": "NANDORF",
                                    "NEV": "Fő Nándor",
                                    "METTOL": "2016-11-03",
                                    "MEDDIG": "2016-11-04",
                                    "FO_SZAM": "3",
                                    "ELOZO_HAROM_FO": "3"
                                },
                                {
                                    "USERNEV": "NANDORF",
                                    "NEV": "Fő Nándor",
                                    "METTOL": "2017-02-05",
                                    "MEDDIG": "2017-02-08",
                                    "FO_SZAM": "3",
                                    "ELOZO_HAROM_FO": "6"
                                },
                                {
                                    "USERNEV": "nikolett3",
                                    "NEV": "Horváth Nikolett",
                                    "METTOL": "2016-05-24",
                                    "MEDDIG": "2016-05-29",
                                    "FO_SZAM": "2",
                                    "ELOZO_HAROM_FO": "0"
                                },
                                {
                                    "USERNEV": "nikolett3",
                                    "NEV": "Horváth Nikolett",
                                    "METTOL": "2016-06-03",
                                    "MEDDIG": "2016-06-09",
                                    "FO_SZAM": "1",
                                    "ELOZO_HAROM_FO": "2"
                                },
                                {
                                    "USERNEV": "nikolett3",
                                    "NEV": "Horváth Nikolett",
                                    "METTOL": "2016-06-22",
                                    "MEDDIG": "2016-06-24",
                                    "FO_SZAM": "1",
                                    "ELOZO_HAROM_FO": "3"
                                },
                                {
                                    "USERNEV": "nikolett3",
                                    "NEV": "Horváth Nikolett",
                                    "METTOL": "2016-10-22",
                                    "MEDDIG": "2016-10-29",
                                    "FO_SZAM": "3",
                                    "ELOZO_HAROM_FO": "4"
                                },
                                {
                                    "USERNEV": "nikoletta4",
                                    "NEV": "Kő Nikoletta",
                                    "METTOL": "2016-04-08",
                                    "MEDDIG": "2016-04-10",
                                    "FO_SZAM": "2",
                                    "ELOZO_HAROM_FO": "0"
                                },
                                {
                                    "USERNEV": "nikoletta4",
                                    "NEV": "Kő Nikoletta",
                                    "METTOL": "2016-05-09",
                                    "MEDDIG": "2016-05-15",
                                    "FO_SZAM": "2",
                                    "ELOZO_HAROM_FO": "2"
                                },
                                {
                                    "USERNEV": "nikoletta4",
                                    "NEV": "Kő Nikoletta",
                                    "METTOL": "2016-05-30",
                                    "MEDDIG": "2016-06-03",
                                    "FO_SZAM": "3",
                                    "ELOZO_HAROM_FO": "4"
                                },
                                {
                                    "USERNEV": "nikoletta4",
                                    "NEV": "Kő Nikoletta",
                                    "METTOL": "2016-06-29",
                                    "MEDDIG": "2016-07-06",
                                    "FO_SZAM": "2",
                                    "ELOZO_HAROM_FO": "7"
                                },
                                {
                                    "USERNEV": "nikoletta4",
                                    "NEV": "Kő Nikoletta",
                                    "METTOL": "2016-08-13",
                                    "MEDDIG": "2016-08-17",
                                    "FO_SZAM": "3",
                                    "ELOZO_HAROM_FO": "7"
                                },
                                {
                                    "USERNEV": "nikoletta4",
                                    "NEV": "Kő Nikoletta",
                                    "METTOL": "2016-12-08",
                                    "MEDDIG": "2016-12-10",
                                    "FO_SZAM": "5",
                                    "ELOZO_HAROM_FO": "8"
                                },
                                {
                                    "USERNEV": "nikoletta4",
                                    "NEV": "Kő Nikoletta",
                                    "METTOL": "2017-02-01",
                                    "MEDDIG": "2017-02-04",
                                    "FO_SZAM": "2",
                                    "ELOZO_HAROM_FO": "10"
                                },
                                {
                                    "USERNEV": "NIKOLETTAT",
                                    "NEV": "Tatár Nikoletta",
                                    "METTOL": "2016-05-22",
                                    "MEDDIG": "2016-05-23",
                                    "FO_SZAM": "4",
                                    "ELOZO_HAROM_FO": "0"
                                },
                                {
                                    "USERNEV": "NIKOLETTAT",
                                    "NEV": "Tatár Nikoletta",
                                    "METTOL": "2016-06-07",
                                    "MEDDIG": "2016-06-09",
                                    "FO_SZAM": "2",
                                    "ELOZO_HAROM_FO": "4"
                                },
                                {
                                    "USERNEV": "NIKOLETTAT",
                                    "NEV": "Tatár Nikoletta",
                                    "METTOL": "2016-07-27",
                                    "MEDDIG": "2016-07-29",
                                    "FO_SZAM": "4",
                                    "ELOZO_HAROM_FO": "6"
                                },
                                {
                                    "USERNEV": "NIKOLETTAT",
                                    "NEV": "Tatár Nikoletta",
                                    "METTOL": "2016-09-21",
                                    "MEDDIG": "2016-09-26",
                                    "FO_SZAM": "2",
                                    "ELOZO_HAROM_FO": "10"
                                },
                                {
                                    "USERNEV": "norbert",
                                    "NEV": "Szűcs Norbert",
                                    "METTOL": "2016-07-08",
                                    "MEDDIG": "2016-07-13",
                                    "FO_SZAM": "1",
                                    "ELOZO_HAROM_FO": "0"
                                },
                                {
                                    "USERNEV": "norbert",
                                    "NEV": "Szűcs Norbert",
                                    "METTOL": "2016-11-16",
                                    "MEDDIG": "2016-11-23",
                                    "FO_SZAM": "3",
                                    "ELOZO_HAROM_FO": "1"
                                },
                                {
                                    "USERNEV": "norbert",
                                    "NEV": "Szűcs Norbert",
                                    "METTOL": "2016-12-15",
                                    "MEDDIG": "2016-12-18",
                                    "FO_SZAM": "2",
                                    "ELOZO_HAROM_FO": "4"
                                },
                                {
                                    "USERNEV": "norbert",
                                    "NEV": "Szűcs Norbert",
                                    "METTOL": "2017-02-13",
                                    "MEDDIG": "2017-02-15",
                                    "FO_SZAM": "3",
                                    "ELOZO_HAROM_FO": "6"
                                },
                                {
                                    "USERNEV": "norbert",
                                    "NEV": "Szűcs Norbert",
                                    "METTOL": "2017-02-26",
                                    "MEDDIG": "2017-03-01",
                                    "FO_SZAM": "1",
                                    "ELOZO_HAROM_FO": "8"
                                },
                                {
                                    "USERNEV": "norbert2",
                                    "NEV": "Hegedűs Norbert",
                                    "METTOL": "2016-04-19",
                                    "MEDDIG": "2016-04-26",
                                    "FO_SZAM": "1",
                                    "ELOZO_HAROM_FO": "0"
                                },
                                {
                                    "USERNEV": "norbert2",
                                    "NEV": "Hegedűs Norbert",
                                    "METTOL": "2016-05-09",
                                    "MEDDIG": "2016-05-10",
                                    "FO_SZAM": "2",
                                    "ELOZO_HAROM_FO": "1"
                                },
                                {
                                    "USERNEV": "norbert2",
                                    "NEV": "Hegedűs Norbert",
                                    "METTOL": "2016-07-13",
                                    "MEDDIG": "2016-07-15",
                                    "FO_SZAM": "3",
                                    "ELOZO_HAROM_FO": "3"
                                },
                                {
                                    "USERNEV": "norbert2",
                                    "NEV": "Hegedűs Norbert",
                                    "METTOL": "2016-07-27",
                                    "MEDDIG": "2016-08-02",
                                    "FO_SZAM": "2",
                                    "ELOZO_HAROM_FO": "6"
                                },
                                {
                                    "USERNEV": "norbert2",
                                    "NEV": "Hegedűs Norbert",
                                    "METTOL": "2016-08-16",
                                    "MEDDIG": "2016-08-19",
                                    "FO_SZAM": "1",
                                    "ELOZO_HAROM_FO": "7"
                                },
                                {
                                    "USERNEV": "norbert2",
                                    "NEV": "Hegedűs Norbert",
                                    "METTOL": "2016-10-31",
                                    "MEDDIG": "2016-11-07",
                                    "FO_SZAM": "2",
                                    "ELOZO_HAROM_FO": "6"
                                },
                                {
                                    "USERNEV": "norbert2",
                                    "NEV": "Hegedűs Norbert",
                                    "METTOL": "2017-01-29",
                                    "MEDDIG": "2017-02-05",
                                    "FO_SZAM": "3",
                                    "ELOZO_HAROM_FO": "5"
                                },
                                {
                                    "USERNEV": "norbert4",
                                    "NEV": "Mile Norbert",
                                    "METTOL": "2016-04-10",
                                    "MEDDIG": "2016-04-13",
                                    "FO_SZAM": "2",
                                    "ELOZO_HAROM_FO": "0"
                                },
                                {
                                    "USERNEV": "norbert4",
                                    "NEV": "Mile Norbert",
                                    "METTOL": "2016-05-29",
                                    "MEDDIG": "2016-06-03",
                                    "FO_SZAM": "3",
                                    "ELOZO_HAROM_FO": "2"
                                },
                                {
                                    "USERNEV": "norbert4",
                                    "NEV": "Mile Norbert",
                                    "METTOL": "2016-06-16",
                                    "MEDDIG": "2016-06-17",
                                    "FO_SZAM": "4",
                                    "ELOZO_HAROM_FO": "5"
                                },
                                {
                                    "USERNEV": "norbert4",
                                    "NEV": "Mile Norbert",
                                    "METTOL": "2016-06-16",
                                    "MEDDIG": "2016-06-21",
                                    "FO_SZAM": "3",
                                    "ELOZO_HAROM_FO": "9"
                                },
                                {
                                    "USERNEV": "norbert4",
                                    "NEV": "Mile Norbert",
                                    "METTOL": "2016-10-05",
                                    "MEDDIG": "2016-10-10",
                                    "FO_SZAM": "3",
                                    "ELOZO_HAROM_FO": "10"
                                },
                                {
                                    "USERNEV": "norbert4",
                                    "NEV": "Mile Norbert",
                                    "METTOL": "2016-10-28",
                                    "MEDDIG": "2016-10-31",
                                    "FO_SZAM": "3",
                                    "ELOZO_HAROM_FO": "10"
                                },
                                {
                                    "USERNEV": "norbert4",
                                    "NEV": "Mile Norbert",
                                    "METTOL": "2016-11-30",
                                    "MEDDIG": "2016-12-06",
                                    "FO_SZAM": "3",
                                    "ELOZO_HAROM_FO": "9"
                                },
                                {
                                    "USERNEV": "norbert4",
                                    "NEV": "Mile Norbert",
                                    "METTOL": "2017-02-16",
                                    "MEDDIG": "2017-02-17",
                                    "FO_SZAM": "1",
                                    "ELOZO_HAROM_FO": "9"
                                },
                                {
                                    "USERNEV": "norbert4",
                                    "NEV": "Mile Norbert",
                                    "METTOL": "2017-03-03",
                                    "MEDDIG": "2017-03-07",
                                    "FO_SZAM": "2",
                                    "ELOZO_HAROM_FO": "7"
                                },
                                {
                                    "USERNEV": "norbert5",
                                    "NEV": "Béres Norbert",
                                    "METTOL": "2016-06-24",
                                    "MEDDIG": "2016-06-28",
                                    "FO_SZAM": "2",
                                    "ELOZO_HAROM_FO": "0"
                                },
                                {
                                    "USERNEV": "norbert5",
                                    "NEV": "Béres Norbert",
                                    "METTOL": "2016-08-10",
                                    "MEDDIG": "2016-08-11",
                                    "FO_SZAM": "2",
                                    "ELOZO_HAROM_FO": "2"
                                },
                                {
                                    "USERNEV": "norbert5",
                                    "NEV": "Béres Norbert",
                                    "METTOL": "2016-11-05",
                                    "MEDDIG": "2016-11-07",
                                    "FO_SZAM": "1",
                                    "ELOZO_HAROM_FO": "4"
                                },
                                {
                                    "USERNEV": "pal",
                                    "NEV": "Barabás Pál",
                                    "METTOL": "2016-08-14",
                                    "MEDDIG": "2016-08-18",
                                    "FO_SZAM": "3",
                                    "ELOZO_HAROM_FO": "0"
                                },
                                {
                                    "USERNEV": "pal",
                                    "NEV": "Barabás Pál",
                                    "METTOL": "2016-09-16",
                                    "MEDDIG": "2016-09-19",
                                    "FO_SZAM": "2",
                                    "ELOZO_HAROM_FO": "3"
                                },
                                {
                                    "USERNEV": "pal",
                                    "NEV": "Barabás Pál",
                                    "METTOL": "2016-12-17",
                                    "MEDDIG": "2016-12-23",
                                    "FO_SZAM": "3",
                                    "ELOZO_HAROM_FO": "5"
                                },
                                {
                                    "USERNEV": "pal",
                                    "NEV": "Barabás Pál",
                                    "METTOL": "2017-02-13",
                                    "MEDDIG": "2017-02-19",
                                    "FO_SZAM": "3",
                                    "ELOZO_HAROM_FO": "8"
                                },
                                {
                                    "USERNEV": "pal",
                                    "NEV": "Barabás Pál",
                                    "METTOL": "2017-02-20",
                                    "MEDDIG": "2017-02-22",
                                    "FO_SZAM": "3",
                                    "ELOZO_HAROM_FO": "8"
                                },
                                {
                                    "USERNEV": "peter1",
                                    "NEV": "Kozma Péter",
                                    "METTOL": "2016-07-14",
                                    "MEDDIG": "2016-07-18",
                                    "FO_SZAM": "3",
                                    "ELOZO_HAROM_FO": "0"
                                },
                                {
                                    "USERNEV": "peter1",
                                    "NEV": "Kozma Péter",
                                    "METTOL": "2016-10-26",
                                    "MEDDIG": "2016-11-01",
                                    "FO_SZAM": "3",
                                    "ELOZO_HAROM_FO": "3"
                                },
                                {
                                    "USERNEV": "peter1",
                                    "NEV": "Kozma Péter",
                                    "METTOL": "2017-02-23",
                                    "MEDDIG": "2017-02-26",
                                    "FO_SZAM": "3",
                                    "ELOZO_HAROM_FO": "6"
                                },
                                {
                                    "USERNEV": "peter1",
                                    "NEV": "Kozma Péter",
                                    "METTOL": "2017-02-28",
                                    "MEDDIG": "2017-03-05",
                                    "FO_SZAM": "3",
                                    "ELOZO_HAROM_FO": "9"
                                },
                                {
                                    "USERNEV": "peter2",
                                    "NEV": "Bozsó Péter",
                                    "METTOL": "2016-07-03",
                                    "MEDDIG": "2016-07-08",
                                    "FO_SZAM": "2",
                                    "ELOZO_HAROM_FO": "0"
                                },
                                {
                                    "USERNEV": "peter2",
                                    "NEV": "Bozsó Péter",
                                    "METTOL": "2016-10-10",
                                    "MEDDIG": "2016-10-16",
                                    "FO_SZAM": "2",
                                    "ELOZO_HAROM_FO": "2"
                                },
                                {
                                    "USERNEV": "peter2",
                                    "NEV": "Bozsó Péter",
                                    "METTOL": "2016-11-01",
                                    "MEDDIG": "2016-11-02",
                                    "FO_SZAM": "2",
                                    "ELOZO_HAROM_FO": "4"
                                },
                                {
                                    "USERNEV": "peter2",
                                    "NEV": "Bozsó Péter",
                                    "METTOL": "2016-11-15",
                                    "MEDDIG": "2016-11-21",
                                    "FO_SZAM": "3",
                                    "ELOZO_HAROM_FO": "6"
                                },
                                {
                                    "USERNEV": "peter3",
                                    "NEV": "Szalai Péter",
                                    "METTOL": "2016-06-30",
                                    "MEDDIG": "2016-07-05",
                                    "FO_SZAM": "3",
                                    "ELOZO_HAROM_FO": "0"
                                },
                                {
                                    "USERNEV": "peter3",
                                    "NEV": "Szalai Péter",
                                    "METTOL": "2016-07-27",
                                    "MEDDIG": "2016-07-31",
                                    "FO_SZAM": "4",
                                    "ELOZO_HAROM_FO": "3"
                                },
                                {
                                    "USERNEV": "peter3",
                                    "NEV": "Szalai Péter",
                                    "METTOL": "2016-10-30",
                                    "MEDDIG": "2016-11-06",
                                    "FO_SZAM": "2",
                                    "ELOZO_HAROM_FO": "7"
                                },
                                {
                                    "USERNEV": "peter3",
                                    "NEV": "Szalai Péter",
                                    "METTOL": "2016-12-25",
                                    "MEDDIG": "2016-12-28",
                                    "FO_SZAM": "1",
                                    "ELOZO_HAROM_FO": "9"
                                },
                                {
                                    "USERNEV": "peter3",
                                    "NEV": "Szalai Péter",
                                    "METTOL": "2017-01-12",
                                    "MEDDIG": "2017-01-17",
                                    "FO_SZAM": "1",
                                    "ELOZO_HAROM_FO": "7"
                                },
                                {
                                    "USERNEV": "peter3",
                                    "NEV": "Szalai Péter",
                                    "METTOL": "2017-02-21",
                                    "MEDDIG": "2017-02-24",
                                    "FO_SZAM": "2",
                                    "ELOZO_HAROM_FO": "4"
                                },
                                {
                                    "USERNEV": "peter4",
                                    "NEV": "Bíró Péter",
                                    "METTOL": "2016-04-12",
                                    "MEDDIG": "2016-04-15",
                                    "FO_SZAM": "3",
                                    "ELOZO_HAROM_FO": "0"
                                },
                                {
                                    "USERNEV": "peter4",
                                    "NEV": "Bíró Péter",
                                    "METTOL": "2016-08-06",
                                    "MEDDIG": "2016-08-13",
                                    "FO_SZAM": "2",
                                    "ELOZO_HAROM_FO": "3"
                                },
                                {
                                    "USERNEV": "peter4",
                                    "NEV": "Bíró Péter",
                                    "METTOL": "2016-08-24",
                                    "MEDDIG": "2016-08-25",
                                    "FO_SZAM": "3",
                                    "ELOZO_HAROM_FO": "5"
                                },
                                {
                                    "USERNEV": "peter4",
                                    "NEV": "Bíró Péter",
                                    "METTOL": "2016-09-11",
                                    "MEDDIG": "2016-09-17",
                                    "FO_SZAM": "4",
                                    "ELOZO_HAROM_FO": "8"
                                },
                                {
                                    "USERNEV": "peter4",
                                    "NEV": "Bíró Péter",
                                    "METTOL": "2016-09-25",
                                    "MEDDIG": "2016-09-26",
                                    "FO_SZAM": "3",
                                    "ELOZO_HAROM_FO": "9"
                                },
                                {
                                    "USERNEV": "peter4",
                                    "NEV": "Bíró Péter",
                                    "METTOL": "2016-09-30",
                                    "MEDDIG": "2016-10-06",
                                    "FO_SZAM": "3",
                                    "ELOZO_HAROM_FO": "10"
                                },
                                {
                                    "USERNEV": "peter4",
                                    "NEV": "Bíró Péter",
                                    "METTOL": "2016-10-09",
                                    "MEDDIG": "2016-10-16",
                                    "FO_SZAM": "3",
                                    "ELOZO_HAROM_FO": "10"
                                },
                                {
                                    "USERNEV": "peter4",
                                    "NEV": "Bíró Péter",
                                    "METTOL": "2016-10-24",
                                    "MEDDIG": "2016-10-25",
                                    "FO_SZAM": "2",
                                    "ELOZO_HAROM_FO": "9"
                                },
                                {
                                    "USERNEV": "peter4",
                                    "NEV": "Bíró Péter",
                                    "METTOL": "2016-10-30",
                                    "MEDDIG": "2016-11-01",
                                    "FO_SZAM": "3",
                                    "ELOZO_HAROM_FO": "8"
                                },
                                {
                                    "USERNEV": "peter4",
                                    "NEV": "Bíró Péter",
                                    "METTOL": "2016-11-10",
                                    "MEDDIG": "2016-11-17",
                                    "FO_SZAM": "3",
                                    "ELOZO_HAROM_FO": "8"
                                },
                                {
                                    "USERNEV": "peter4",
                                    "NEV": "Bíró Péter",
                                    "METTOL": "2016-11-25",
                                    "MEDDIG": "2016-11-30",
                                    "FO_SZAM": "3",
                                    "ELOZO_HAROM_FO": "8"
                                },
                                {
                                    "USERNEV": "peter4",
                                    "NEV": "Bíró Péter",
                                    "METTOL": "2017-02-05",
                                    "MEDDIG": "2017-02-09",
                                    "FO_SZAM": "3",
                                    "ELOZO_HAROM_FO": "9"
                                },
                                {
                                    "USERNEV": "PETERB",
                                    "NEV": "Berendi Péter",
                                    "METTOL": "2016-04-06",
                                    "MEDDIG": "2016-04-10",
                                    "FO_SZAM": "1",
                                    "ELOZO_HAROM_FO": "0"
                                },
                                {
                                    "USERNEV": "PETERB",
                                    "NEV": "Berendi Péter",
                                    "METTOL": "2016-07-20",
                                    "MEDDIG": "2016-07-24",
                                    "FO_SZAM": "2",
                                    "ELOZO_HAROM_FO": "1"
                                },
                                {
                                    "USERNEV": "PETERB",
                                    "NEV": "Berendi Péter",
                                    "METTOL": "2016-08-16",
                                    "MEDDIG": "2016-08-23",
                                    "FO_SZAM": "1",
                                    "ELOZO_HAROM_FO": "3"
                                },
                                {
                                    "USERNEV": "PETERB",
                                    "NEV": "Berendi Péter",
                                    "METTOL": "2016-10-19",
                                    "MEDDIG": "2016-10-20",
                                    "FO_SZAM": "4",
                                    "ELOZO_HAROM_FO": "4"
                                },
                                {
                                    "USERNEV": "PETERB",
                                    "NEV": "Berendi Péter",
                                    "METTOL": "2016-11-17",
                                    "MEDDIG": "2016-11-20",
                                    "FO_SZAM": "2",
                                    "ELOZO_HAROM_FO": "7"
                                },
                                {
                                    "USERNEV": "polla",
                                    "NEV": "Palágyi Polla",
                                    "METTOL": "2016-04-17",
                                    "MEDDIG": "2016-04-22",
                                    "FO_SZAM": "3",
                                    "ELOZO_HAROM_FO": "0"
                                },
                                {
                                    "USERNEV": "polla",
                                    "NEV": "Palágyi Polla",
                                    "METTOL": "2016-05-28",
                                    "MEDDIG": "2016-06-04",
                                    "FO_SZAM": "2",
                                    "ELOZO_HAROM_FO": "3"
                                },
                                {
                                    "USERNEV": "polla",
                                    "NEV": "Palágyi Polla",
                                    "METTOL": "2016-08-14",
                                    "MEDDIG": "2016-08-17",
                                    "FO_SZAM": "2",
                                    "ELOZO_HAROM_FO": "5"
                                },
                                {
                                    "USERNEV": "polla",
                                    "NEV": "Palágyi Polla",
                                    "METTOL": "2016-08-16",
                                    "MEDDIG": "2016-08-19",
                                    "FO_SZAM": "4",
                                    "ELOZO_HAROM_FO": "7"
                                },
                                {
                                    "USERNEV": "polla",
                                    "NEV": "Palágyi Polla",
                                    "METTOL": "2017-01-29",
                                    "MEDDIG": "2017-02-01",
                                    "FO_SZAM": "2",
                                    "ELOZO_HAROM_FO": "8"
                                },
                                {
                                    "USERNEV": "polla",
                                    "NEV": "Palágyi Polla",
                                    "METTOL": "2017-02-11",
                                    "MEDDIG": "2017-02-16",
                                    "FO_SZAM": "2",
                                    "ELOZO_HAROM_FO": "8"
                                },
                                {
                                    "USERNEV": "rajmond4",
                                    "NEV": "Rácz Rajmond",
                                    "METTOL": "2016-09-05",
                                    "MEDDIG": "2016-09-07",
                                    "FO_SZAM": "3",
                                    "ELOZO_HAROM_FO": "0"
                                },
                                {
                                    "USERNEV": "rajmond4",
                                    "NEV": "Rácz Rajmond",
                                    "METTOL": "2016-10-03",
                                    "MEDDIG": "2016-10-04",
                                    "FO_SZAM": "3",
                                    "ELOZO_HAROM_FO": "3"
                                },
                                {
                                    "USERNEV": "rajmond4",
                                    "NEV": "Rácz Rajmond",
                                    "METTOL": "2016-11-08",
                                    "MEDDIG": "2016-11-09",
                                    "FO_SZAM": "4",
                                    "ELOZO_HAROM_FO": "6"
                                },
                                {
                                    "USERNEV": "rajmond4",
                                    "NEV": "Rácz Rajmond",
                                    "METTOL": "2016-11-16",
                                    "MEDDIG": "2016-11-20",
                                    "FO_SZAM": "2",
                                    "ELOZO_HAROM_FO": "10"
                                },
                                {
                                    "USERNEV": "reka4",
                                    "NEV": "Szikszai Réka",
                                    "METTOL": "2016-07-27",
                                    "MEDDIG": "2016-07-31",
                                    "FO_SZAM": "2",
                                    "ELOZO_HAROM_FO": "0"
                                },
                                {
                                    "USERNEV": "reka4",
                                    "NEV": "Szikszai Réka",
                                    "METTOL": "2016-08-02",
                                    "MEDDIG": "2016-08-04",
                                    "FO_SZAM": "4",
                                    "ELOZO_HAROM_FO": "2"
                                },
                                {
                                    "USERNEV": "reka4",
                                    "NEV": "Szikszai Réka",
                                    "METTOL": "2016-09-05",
                                    "MEDDIG": "2016-09-07",
                                    "FO_SZAM": "3",
                                    "ELOZO_HAROM_FO": "6"
                                },
                                {
                                    "USERNEV": "reka4",
                                    "NEV": "Szikszai Réka",
                                    "METTOL": "2016-09-30",
                                    "MEDDIG": "2016-10-06",
                                    "FO_SZAM": "2",
                                    "ELOZO_HAROM_FO": "9"
                                },
                                {
                                    "USERNEV": "reka4",
                                    "NEV": "Szikszai Réka",
                                    "METTOL": "2017-02-26",
                                    "MEDDIG": "2017-03-04",
                                    "FO_SZAM": "2",
                                    "ELOZO_HAROM_FO": "9"
                                },
                                {
                                    "USERNEV": "RENATAK",
                                    "NEV": "Kardos Renáta",
                                    "METTOL": "2016-10-27",
                                    "MEDDIG": "2016-10-29",
                                    "FO_SZAM": "4",
                                    "ELOZO_HAROM_FO": "0"
                                },
                                {
                                    "USERNEV": "RENATAK",
                                    "NEV": "Kardos Renáta",
                                    "METTOL": "2016-10-30",
                                    "MEDDIG": "2016-10-31",
                                    "FO_SZAM": "1",
                                    "ELOZO_HAROM_FO": "4"
                                },
                                {
                                    "USERNEV": "RENATAK",
                                    "NEV": "Kardos Renáta",
                                    "METTOL": "2016-11-23",
                                    "MEDDIG": "2016-11-26",
                                    "FO_SZAM": "1",
                                    "ELOZO_HAROM_FO": "5"
                                },
                                {
                                    "USERNEV": "RENATAK",
                                    "NEV": "Kardos Renáta",
                                    "METTOL": "2017-01-23",
                                    "MEDDIG": "2017-01-24",
                                    "FO_SZAM": "3",
                                    "ELOZO_HAROM_FO": "6"
                                },
                                {
                                    "USERNEV": "RENATAK",
                                    "NEV": "Kardos Renáta",
                                    "METTOL": "2017-02-16",
                                    "MEDDIG": "2017-02-23",
                                    "FO_SZAM": "1",
                                    "ELOZO_HAROM_FO": "5"
                                },
                                {
                                    "USERNEV": "RENATAK",
                                    "NEV": "Kardos Renáta",
                                    "METTOL": "2017-03-01",
                                    "MEDDIG": "2017-03-06",
                                    "FO_SZAM": "1",
                                    "ELOZO_HAROM_FO": "5"
                                },
                                {
                                    "USERNEV": "RENATAS",
                                    "NEV": "Szirmai Renáta",
                                    "METTOL": "2016-05-04",
                                    "MEDDIG": "2016-05-11",
                                    "FO_SZAM": "2",
                                    "ELOZO_HAROM_FO": "0"
                                },
                                {
                                    "USERNEV": "RENATAS",
                                    "NEV": "Szirmai Renáta",
                                    "METTOL": "2016-05-11",
                                    "MEDDIG": "2016-05-16",
                                    "FO_SZAM": "2",
                                    "ELOZO_HAROM_FO": "2"
                                },
                                {
                                    "USERNEV": "RENATAS",
                                    "NEV": "Szirmai Renáta",
                                    "METTOL": "2016-06-24",
                                    "MEDDIG": "2016-06-30",
                                    "FO_SZAM": "5",
                                    "ELOZO_HAROM_FO": "4"
                                },
                                {
                                    "USERNEV": "RENATAS",
                                    "NEV": "Szirmai Renáta",
                                    "METTOL": "2017-02-13",
                                    "MEDDIG": "2017-02-17",
                                    "FO_SZAM": "1",
                                    "ELOZO_HAROM_FO": "9"
                                },
                                {
                                    "USERNEV": "RENATAS",
                                    "NEV": "Szirmai Renáta",
                                    "METTOL": "2017-02-14",
                                    "MEDDIG": "2017-02-17",
                                    "FO_SZAM": "2",
                                    "ELOZO_HAROM_FO": "8"
                                },
                                {
                                    "USERNEV": "robert2",
                                    "NEV": "Patay Róbert",
                                    "METTOL": "2016-05-15",
                                    "MEDDIG": "2016-05-18",
                                    "FO_SZAM": "2",
                                    "ELOZO_HAROM_FO": "0"
                                },
                                {
                                    "USERNEV": "robert2",
                                    "NEV": "Patay Róbert",
                                    "METTOL": "2016-08-20",
                                    "MEDDIG": "2016-08-27",
                                    "FO_SZAM": "2",
                                    "ELOZO_HAROM_FO": "2"
                                },
                                {
                                    "USERNEV": "robert2",
                                    "NEV": "Patay Róbert",
                                    "METTOL": "2016-10-23",
                                    "MEDDIG": "2016-10-28",
                                    "FO_SZAM": "3",
                                    "ELOZO_HAROM_FO": "4"
                                },
                                {
                                    "USERNEV": "robert2",
                                    "NEV": "Patay Róbert",
                                    "METTOL": "2016-12-17",
                                    "MEDDIG": "2016-12-22",
                                    "FO_SZAM": "1",
                                    "ELOZO_HAROM_FO": "7"
                                },
                                {
                                    "USERNEV": "ROBERTI",
                                    "NEV": "Iván Róbert",
                                    "METTOL": "2016-07-12",
                                    "MEDDIG": "2016-07-19",
                                    "FO_SZAM": "4",
                                    "ELOZO_HAROM_FO": "0"
                                },
                                {
                                    "USERNEV": "ROBERTI",
                                    "NEV": "Iván Róbert",
                                    "METTOL": "2016-08-16",
                                    "MEDDIG": "2016-08-21",
                                    "FO_SZAM": "2",
                                    "ELOZO_HAROM_FO": "4"
                                },
                                {
                                    "USERNEV": "ROBERTI",
                                    "NEV": "Iván Róbert",
                                    "METTOL": "2016-08-23",
                                    "MEDDIG": "2016-08-25",
                                    "FO_SZAM": "2",
                                    "ELOZO_HAROM_FO": "6"
                                },
                                {
                                    "USERNEV": "ROBERTI",
                                    "NEV": "Iván Róbert",
                                    "METTOL": "2016-10-08",
                                    "MEDDIG": "2016-10-12",
                                    "FO_SZAM": "3",
                                    "ELOZO_HAROM_FO": "8"
                                },
                                {
                                    "USERNEV": "ROBERTI",
                                    "NEV": "Iván Róbert",
                                    "METTOL": "2016-10-09",
                                    "MEDDIG": "2016-10-10",
                                    "FO_SZAM": "2",
                                    "ELOZO_HAROM_FO": "7"
                                },
                                {
                                    "USERNEV": "ROBERTI",
                                    "NEV": "Iván Róbert",
                                    "METTOL": "2016-10-23",
                                    "MEDDIG": "2016-10-29",
                                    "FO_SZAM": "1",
                                    "ELOZO_HAROM_FO": "7"
                                },
                                {
                                    "USERNEV": "ROBERTI",
                                    "NEV": "Iván Róbert",
                                    "METTOL": "2016-10-26",
                                    "MEDDIG": "2016-11-01",
                                    "FO_SZAM": "2",
                                    "ELOZO_HAROM_FO": "6"
                                },
                                {
                                    "USERNEV": "ROBERTI",
                                    "NEV": "Iván Róbert",
                                    "METTOL": "2017-02-17",
                                    "MEDDIG": "2017-02-20",
                                    "FO_SZAM": "2",
                                    "ELOZO_HAROM_FO": "5"
                                },
                                {
                                    "USERNEV": "ROBERTP",
                                    "NEV": "Pásztor Róbert",
                                    "METTOL": "2016-07-30",
                                    "MEDDIG": "2016-08-05",
                                    "FO_SZAM": "2",
                                    "ELOZO_HAROM_FO": "0"
                                },
                                {
                                    "USERNEV": "ROBERTP",
                                    "NEV": "Pásztor Róbert",
                                    "METTOL": "2016-09-08",
                                    "MEDDIG": "2016-09-11",
                                    "FO_SZAM": "4",
                                    "ELOZO_HAROM_FO": "2"
                                },
                                {
                                    "USERNEV": "roland",
                                    "NEV": "Tóth Roland",
                                    "METTOL": "2016-06-09",
                                    "MEDDIG": "2016-06-13",
                                    "FO_SZAM": "3",
                                    "ELOZO_HAROM_FO": "0"
                                },
                                {
                                    "USERNEV": "roland",
                                    "NEV": "Tóth Roland",
                                    "METTOL": "2016-06-22",
                                    "MEDDIG": "2016-06-23",
                                    "FO_SZAM": "3",
                                    "ELOZO_HAROM_FO": "3"
                                },
                                {
                                    "USERNEV": "roland",
                                    "NEV": "Tóth Roland",
                                    "METTOL": "2016-09-04",
                                    "MEDDIG": "2016-09-05",
                                    "FO_SZAM": "2",
                                    "ELOZO_HAROM_FO": "6"
                                },
                                {
                                    "USERNEV": "roland",
                                    "NEV": "Tóth Roland",
                                    "METTOL": "2016-11-19",
                                    "MEDDIG": "2016-11-24",
                                    "FO_SZAM": "2",
                                    "ELOZO_HAROM_FO": "8"
                                },
                                {
                                    "USERNEV": "roland1",
                                    "NEV": "Ferencz Roland",
                                    "METTOL": "2016-11-05",
                                    "MEDDIG": "2016-11-07",
                                    "FO_SZAM": "3",
                                    "ELOZO_HAROM_FO": "0"
                                },
                                {
                                    "USERNEV": "roland1",
                                    "NEV": "Ferencz Roland",
                                    "METTOL": "2016-12-22",
                                    "MEDDIG": "2016-12-29",
                                    "FO_SZAM": "1",
                                    "ELOZO_HAROM_FO": "3"
                                },
                                {
                                    "USERNEV": "roland1",
                                    "NEV": "Ferencz Roland",
                                    "METTOL": "2017-01-04",
                                    "MEDDIG": "2017-01-08",
                                    "FO_SZAM": "3",
                                    "ELOZO_HAROM_FO": "4"
                                },
                                {
                                    "USERNEV": "roland1",
                                    "NEV": "Ferencz Roland",
                                    "METTOL": "2017-01-16",
                                    "MEDDIG": "2017-01-22",
                                    "FO_SZAM": "2",
                                    "ELOZO_HAROM_FO": "7"
                                },
                                {
                                    "USERNEV": "roza2",
                                    "NEV": "Bucskó Róza",
                                    "METTOL": "2016-09-10",
                                    "MEDDIG": "2016-09-13",
                                    "FO_SZAM": "2",
                                    "ELOZO_HAROM_FO": "0"
                                },
                                {
                                    "USERNEV": "roza2",
                                    "NEV": "Bucskó Róza",
                                    "METTOL": "2017-01-11",
                                    "MEDDIG": "2017-01-17",
                                    "FO_SZAM": "3",
                                    "ELOZO_HAROM_FO": "2"
                                },
                                {
                                    "USERNEV": "roza2",
                                    "NEV": "Bucskó Róza",
                                    "METTOL": "2017-02-18",
                                    "MEDDIG": "2017-02-21",
                                    "FO_SZAM": "3",
                                    "ELOZO_HAROM_FO": "5"
                                },
                                {
                                    "USERNEV": "sandor",
                                    "NEV": "Karasz Sándor",
                                    "METTOL": "2016-07-04",
                                    "MEDDIG": "2016-07-06",
                                    "FO_SZAM": "2",
                                    "ELOZO_HAROM_FO": "0"
                                },
                                {
                                    "USERNEV": "sandor",
                                    "NEV": "Karasz Sándor",
                                    "METTOL": "2016-07-18",
                                    "MEDDIG": "2016-07-24",
                                    "FO_SZAM": "2",
                                    "ELOZO_HAROM_FO": "2"
                                },
                                {
                                    "USERNEV": "sandor",
                                    "NEV": "Karasz Sándor",
                                    "METTOL": "2016-08-20",
                                    "MEDDIG": "2016-08-25",
                                    "FO_SZAM": "2",
                                    "ELOZO_HAROM_FO": "4"
                                },
                                {
                                    "USERNEV": "sandor",
                                    "NEV": "Karasz Sándor",
                                    "METTOL": "2016-09-19",
                                    "MEDDIG": "2016-09-26",
                                    "FO_SZAM": "4",
                                    "ELOZO_HAROM_FO": "6"
                                },
                                {
                                    "USERNEV": "sandor3",
                                    "NEV": "Farkas Sándor",
                                    "METTOL": "2016-05-12",
                                    "MEDDIG": "2016-05-15",
                                    "FO_SZAM": "2",
                                    "ELOZO_HAROM_FO": "0"
                                },
                                {
                                    "USERNEV": "sandor3",
                                    "NEV": "Farkas Sándor",
                                    "METTOL": "2016-05-25",
                                    "MEDDIG": "2016-05-30",
                                    "FO_SZAM": "1",
                                    "ELOZO_HAROM_FO": "2"
                                },
                                {
                                    "USERNEV": "sandor3",
                                    "NEV": "Farkas Sándor",
                                    "METTOL": "2016-10-09",
                                    "MEDDIG": "2016-10-14",
                                    "FO_SZAM": "2",
                                    "ELOZO_HAROM_FO": "3"
                                },
                                {
                                    "USERNEV": "sandor3",
                                    "NEV": "Farkas Sándor",
                                    "METTOL": "2016-10-23",
                                    "MEDDIG": "2016-10-29",
                                    "FO_SZAM": "3",
                                    "ELOZO_HAROM_FO": "5"
                                },
                                {
                                    "USERNEV": "sandor3",
                                    "NEV": "Farkas Sándor",
                                    "METTOL": "2016-11-10",
                                    "MEDDIG": "2016-11-11",
                                    "FO_SZAM": "2",
                                    "ELOZO_HAROM_FO": "6"
                                },
                                {
                                    "USERNEV": "sandor4",
                                    "NEV": "Nagy Sándor",
                                    "METTOL": "2016-10-15",
                                    "MEDDIG": "2016-10-18",
                                    "FO_SZAM": "1",
                                    "ELOZO_HAROM_FO": "0"
                                },
                                {
                                    "USERNEV": "sandor4",
                                    "NEV": "Nagy Sándor",
                                    "METTOL": "2016-11-29",
                                    "MEDDIG": "2016-12-03",
                                    "FO_SZAM": "2",
                                    "ELOZO_HAROM_FO": "1"
                                },
                                {
                                    "USERNEV": "sandor4",
                                    "NEV": "Nagy Sándor",
                                    "METTOL": "2016-12-03",
                                    "MEDDIG": "2016-12-09",
                                    "FO_SZAM": "1",
                                    "ELOZO_HAROM_FO": "3"
                                },
                                {
                                    "USERNEV": "sandor4",
                                    "NEV": "Nagy Sándor",
                                    "METTOL": "2017-01-22",
                                    "MEDDIG": "2017-01-26",
                                    "FO_SZAM": "2",
                                    "ELOZO_HAROM_FO": "4"
                                },
                                {
                                    "USERNEV": "sara",
                                    "NEV": "Farkas Sára",
                                    "METTOL": "2016-05-28",
                                    "MEDDIG": "2016-05-30",
                                    "FO_SZAM": "2",
                                    "ELOZO_HAROM_FO": "0"
                                },
                                {
                                    "USERNEV": "sara",
                                    "NEV": "Farkas Sára",
                                    "METTOL": "2016-05-30",
                                    "MEDDIG": "2016-05-31",
                                    "FO_SZAM": "2",
                                    "ELOZO_HAROM_FO": "2"
                                },
                                {
                                    "USERNEV": "sara",
                                    "NEV": "Farkas Sára",
                                    "METTOL": "2016-06-06",
                                    "MEDDIG": "2016-06-08",
                                    "FO_SZAM": "2",
                                    "ELOZO_HAROM_FO": "4"
                                },
                                {
                                    "USERNEV": "sara",
                                    "NEV": "Farkas Sára",
                                    "METTOL": "2016-07-15",
                                    "MEDDIG": "2016-07-17",
                                    "FO_SZAM": "3",
                                    "ELOZO_HAROM_FO": "6"
                                },
                                {
                                    "USERNEV": "sara",
                                    "NEV": "Farkas Sára",
                                    "METTOL": "2016-07-24",
                                    "MEDDIG": "2016-07-27",
                                    "FO_SZAM": "3",
                                    "ELOZO_HAROM_FO": "7"
                                },
                                {
                                    "USERNEV": "sara",
                                    "NEV": "Farkas Sára",
                                    "METTOL": "2016-10-06",
                                    "MEDDIG": "2016-10-12",
                                    "FO_SZAM": "3",
                                    "ELOZO_HAROM_FO": "8"
                                },
                                {
                                    "USERNEV": "sara",
                                    "NEV": "Farkas Sára",
                                    "METTOL": "2016-10-11",
                                    "MEDDIG": "2016-10-14",
                                    "FO_SZAM": "3",
                                    "ELOZO_HAROM_FO": "9"
                                },
                                {
                                    "USERNEV": "sara",
                                    "NEV": "Farkas Sára",
                                    "METTOL": "2016-10-28",
                                    "MEDDIG": "2016-11-03",
                                    "FO_SZAM": "2",
                                    "ELOZO_HAROM_FO": "9"
                                },
                                {
                                    "USERNEV": "sara",
                                    "NEV": "Farkas Sára",
                                    "METTOL": "2016-11-18",
                                    "MEDDIG": "2016-11-21",
                                    "FO_SZAM": "3",
                                    "ELOZO_HAROM_FO": "8"
                                },
                                {
                                    "USERNEV": "sara",
                                    "NEV": "Farkas Sára",
                                    "METTOL": "2016-11-23",
                                    "MEDDIG": "2016-11-30",
                                    "FO_SZAM": "4",
                                    "ELOZO_HAROM_FO": "8"
                                },
                                {
                                    "USERNEV": "sara",
                                    "NEV": "Farkas Sára",
                                    "METTOL": "2016-12-06",
                                    "MEDDIG": "2016-12-10",
                                    "FO_SZAM": "1",
                                    "ELOZO_HAROM_FO": "9"
                                },
                                {
                                    "USERNEV": "sara",
                                    "NEV": "Farkas Sára",
                                    "METTOL": "2016-12-25",
                                    "MEDDIG": "2016-12-30",
                                    "FO_SZAM": "2",
                                    "ELOZO_HAROM_FO": "8"
                                },
                                {
                                    "USERNEV": "SEBASTIANF",
                                    "NEV": "Foltényi Sebastián",
                                    "METTOL": "2016-04-06",
                                    "MEDDIG": "2016-04-12",
                                    "FO_SZAM": "2",
                                    "ELOZO_HAROM_FO": "0"
                                },
                                {
                                    "USERNEV": "SEBASTIANF",
                                    "NEV": "Foltényi Sebastián",
                                    "METTOL": "2016-07-17",
                                    "MEDDIG": "2016-07-21",
                                    "FO_SZAM": "2",
                                    "ELOZO_HAROM_FO": "2"
                                },
                                {
                                    "USERNEV": "SEBASTIANF",
                                    "NEV": "Foltényi Sebastián",
                                    "METTOL": "2016-07-30",
                                    "MEDDIG": "2016-08-06",
                                    "FO_SZAM": "4",
                                    "ELOZO_HAROM_FO": "4"
                                },
                                {
                                    "USERNEV": "SEBASTIANF",
                                    "NEV": "Foltényi Sebastián",
                                    "METTOL": "2016-09-14",
                                    "MEDDIG": "2016-09-15",
                                    "FO_SZAM": "3",
                                    "ELOZO_HAROM_FO": "8"
                                },
                                {
                                    "USERNEV": "SEBASTIANF",
                                    "NEV": "Foltényi Sebastián",
                                    "METTOL": "2016-09-17",
                                    "MEDDIG": "2016-09-20",
                                    "FO_SZAM": "3",
                                    "ELOZO_HAROM_FO": "9"
                                },
                                {
                                    "USERNEV": "sebestyen",
                                    "NEV": "Rab Sebestyén",
                                    "METTOL": "2016-04-07",
                                    "MEDDIG": "2016-04-12",
                                    "FO_SZAM": "4",
                                    "ELOZO_HAROM_FO": "0"
                                },
                                {
                                    "USERNEV": "sebestyen",
                                    "NEV": "Rab Sebestyén",
                                    "METTOL": "2016-04-26",
                                    "MEDDIG": "2016-05-02",
                                    "FO_SZAM": "4",
                                    "ELOZO_HAROM_FO": "4"
                                },
                                {
                                    "USERNEV": "sebestyen",
                                    "NEV": "Rab Sebestyén",
                                    "METTOL": "2016-06-09",
                                    "MEDDIG": "2016-06-14",
                                    "FO_SZAM": "4",
                                    "ELOZO_HAROM_FO": "8"
                                },
                                {
                                    "USERNEV": "sebestyen",
                                    "NEV": "Rab Sebestyén",
                                    "METTOL": "2016-10-26",
                                    "MEDDIG": "2016-11-01",
                                    "FO_SZAM": "5",
                                    "ELOZO_HAROM_FO": "12"
                                },
                                {
                                    "USERNEV": "szabolcs",
                                    "NEV": "Bodor Szabolcs",
                                    "METTOL": "2016-12-05",
                                    "MEDDIG": "2016-12-07",
                                    "FO_SZAM": "2",
                                    "ELOZO_HAROM_FO": "0"
                                },
                                {
                                    "USERNEV": "SZABOLCSM",
                                    "NEV": "Miklós Szabolcs",
                                    "METTOL": "2016-06-18",
                                    "MEDDIG": "2016-06-21",
                                    "FO_SZAM": "3",
                                    "ELOZO_HAROM_FO": "0"
                                },
                                {
                                    "USERNEV": "SZABOLCSM",
                                    "NEV": "Miklós Szabolcs",
                                    "METTOL": "2016-07-28",
                                    "MEDDIG": "2016-08-03",
                                    "FO_SZAM": "2",
                                    "ELOZO_HAROM_FO": "3"
                                },
                                {
                                    "USERNEV": "SZABOLCSM",
                                    "NEV": "Miklós Szabolcs",
                                    "METTOL": "2016-10-17",
                                    "MEDDIG": "2016-10-19",
                                    "FO_SZAM": "2",
                                    "ELOZO_HAROM_FO": "5"
                                },
                                {
                                    "USERNEV": "SZABOLCSM",
                                    "NEV": "Miklós Szabolcs",
                                    "METTOL": "2016-10-28",
                                    "MEDDIG": "2016-11-03",
                                    "FO_SZAM": "3",
                                    "ELOZO_HAROM_FO": "7"
                                },
                                {
                                    "USERNEV": "SZABOLCSM",
                                    "NEV": "Miklós Szabolcs",
                                    "METTOL": "2016-11-12",
                                    "MEDDIG": "2016-11-13",
                                    "FO_SZAM": "2",
                                    "ELOZO_HAROM_FO": "7"
                                },
                                {
                                    "USERNEV": "SZABOLCSM",
                                    "NEV": "Miklós Szabolcs",
                                    "METTOL": "2017-01-07",
                                    "MEDDIG": "2017-01-08",
                                    "FO_SZAM": "2",
                                    "ELOZO_HAROM_FO": "7"
                                },
                                {
                                    "USERNEV": "SZABOLCSM",
                                    "NEV": "Miklós Szabolcs",
                                    "METTOL": "2017-02-04",
                                    "MEDDIG": "2017-02-05",
                                    "FO_SZAM": "3",
                                    "ELOZO_HAROM_FO": "7"
                                },
                                {
                                    "USERNEV": "SZILARDS",
                                    "NEV": "Szalai Szilárd",
                                    "METTOL": "2016-04-23",
                                    "MEDDIG": "2016-04-30",
                                    "FO_SZAM": "3",
                                    "ELOZO_HAROM_FO": "0"
                                },
                                {
                                    "USERNEV": "SZILARDS",
                                    "NEV": "Szalai Szilárd",
                                    "METTOL": "2016-07-27",
                                    "MEDDIG": "2016-08-03",
                                    "FO_SZAM": "5",
                                    "ELOZO_HAROM_FO": "3"
                                },
                                {
                                    "USERNEV": "SZILARDS",
                                    "NEV": "Szalai Szilárd",
                                    "METTOL": "2016-08-28",
                                    "MEDDIG": "2016-08-29",
                                    "FO_SZAM": "4",
                                    "ELOZO_HAROM_FO": "8"
                                },
                                {
                                    "USERNEV": "SZILARDS",
                                    "NEV": "Szalai Szilárd",
                                    "METTOL": "2016-09-20",
                                    "MEDDIG": "2016-09-24",
                                    "FO_SZAM": "3",
                                    "ELOZO_HAROM_FO": "12"
                                },
                                {
                                    "USERNEV": "SZILARDS",
                                    "NEV": "Szalai Szilárd",
                                    "METTOL": "2016-10-01",
                                    "MEDDIG": "2016-10-08",
                                    "FO_SZAM": "3",
                                    "ELOZO_HAROM_FO": "12"
                                },
                                {
                                    "USERNEV": "SZILARDS",
                                    "NEV": "Szalai Szilárd",
                                    "METTOL": "2017-01-16",
                                    "MEDDIG": "2017-01-19",
                                    "FO_SZAM": "3",
                                    "ELOZO_HAROM_FO": "10"
                                },
                                {
                                    "USERNEV": "SZILARDS",
                                    "NEV": "Szalai Szilárd",
                                    "METTOL": "2017-02-08",
                                    "MEDDIG": "2017-02-15",
                                    "FO_SZAM": "1",
                                    "ELOZO_HAROM_FO": "9"
                                },
                                {
                                    "USERNEV": "szilvia1",
                                    "NEV": "Tari Szilvia",
                                    "METTOL": "2016-05-14",
                                    "MEDDIG": "2016-05-21",
                                    "FO_SZAM": "2",
                                    "ELOZO_HAROM_FO": "0"
                                },
                                {
                                    "USERNEV": "szilvia1",
                                    "NEV": "Tari Szilvia",
                                    "METTOL": "2016-05-28",
                                    "MEDDIG": "2016-06-03",
                                    "FO_SZAM": "2",
                                    "ELOZO_HAROM_FO": "2"
                                },
                                {
                                    "USERNEV": "szilvia1",
                                    "NEV": "Tari Szilvia",
                                    "METTOL": "2016-07-25",
                                    "MEDDIG": "2016-07-28",
                                    "FO_SZAM": "2",
                                    "ELOZO_HAROM_FO": "4"
                                },
                                {
                                    "USERNEV": "szilvia1",
                                    "NEV": "Tari Szilvia",
                                    "METTOL": "2016-10-09",
                                    "MEDDIG": "2016-10-10",
                                    "FO_SZAM": "3",
                                    "ELOZO_HAROM_FO": "6"
                                },
                                {
                                    "USERNEV": "szilvia1",
                                    "NEV": "Tari Szilvia",
                                    "METTOL": "2016-10-25",
                                    "MEDDIG": "2016-10-31",
                                    "FO_SZAM": "3",
                                    "ELOZO_HAROM_FO": "7"
                                },
                                {
                                    "USERNEV": "szilvia1",
                                    "NEV": "Tari Szilvia",
                                    "METTOL": "2016-10-27",
                                    "MEDDIG": "2016-10-28",
                                    "FO_SZAM": "2",
                                    "ELOZO_HAROM_FO": "8"
                                },
                                {
                                    "USERNEV": "szilvia1",
                                    "NEV": "Tari Szilvia",
                                    "METTOL": "2016-12-25",
                                    "MEDDIG": "2016-12-29",
                                    "FO_SZAM": "5",
                                    "ELOZO_HAROM_FO": "8"
                                },
                                {
                                    "USERNEV": "szilvia1",
                                    "NEV": "Tari Szilvia",
                                    "METTOL": "2016-12-27",
                                    "MEDDIG": "2017-01-02",
                                    "FO_SZAM": "2",
                                    "ELOZO_HAROM_FO": "10"
                                },
                                {
                                    "USERNEV": "szilvia1",
                                    "NEV": "Tari Szilvia",
                                    "METTOL": "2017-01-28",
                                    "MEDDIG": "2017-02-03",
                                    "FO_SZAM": "2",
                                    "ELOZO_HAROM_FO": "9"
                                },
                                {
                                    "USERNEV": "tamara2",
                                    "NEV": "Miklós Tamara",
                                    "METTOL": "2016-08-12",
                                    "MEDDIG": "2016-08-15",
                                    "FO_SZAM": "3",
                                    "ELOZO_HAROM_FO": "0"
                                },
                                {
                                    "USERNEV": "tamara2",
                                    "NEV": "Miklós Tamara",
                                    "METTOL": "2016-11-15",
                                    "MEDDIG": "2016-11-18",
                                    "FO_SZAM": "2",
                                    "ELOZO_HAROM_FO": "3"
                                },
                                {
                                    "USERNEV": "tamas",
                                    "NEV": "Antal Tamás",
                                    "METTOL": "2016-05-17",
                                    "MEDDIG": "2016-05-22",
                                    "FO_SZAM": "2",
                                    "ELOZO_HAROM_FO": "0"
                                },
                                {
                                    "USERNEV": "tamas",
                                    "NEV": "Antal Tamás",
                                    "METTOL": "2016-06-14",
                                    "MEDDIG": "2016-06-21",
                                    "FO_SZAM": "2",
                                    "ELOZO_HAROM_FO": "2"
                                },
                                {
                                    "USERNEV": "tamas",
                                    "NEV": "Antal Tamás",
                                    "METTOL": "2016-08-24",
                                    "MEDDIG": "2016-08-27",
                                    "FO_SZAM": "3",
                                    "ELOZO_HAROM_FO": "4"
                                },
                                {
                                    "USERNEV": "tamas",
                                    "NEV": "Antal Tamás",
                                    "METTOL": "2017-02-14",
                                    "MEDDIG": "2017-02-19",
                                    "FO_SZAM": "3",
                                    "ELOZO_HAROM_FO": "7"
                                },
                                {
                                    "USERNEV": "TAMASF",
                                    "NEV": "Fényes Tamás",
                                    "METTOL": "2016-05-03",
                                    "MEDDIG": "2016-05-04",
                                    "FO_SZAM": "2",
                                    "ELOZO_HAROM_FO": "0"
                                },
                                {
                                    "USERNEV": "TAMASF",
                                    "NEV": "Fényes Tamás",
                                    "METTOL": "2016-06-10",
                                    "MEDDIG": "2016-06-13",
                                    "FO_SZAM": "3",
                                    "ELOZO_HAROM_FO": "2"
                                },
                                {
                                    "USERNEV": "TAMASF",
                                    "NEV": "Fényes Tamás",
                                    "METTOL": "2016-06-28",
                                    "MEDDIG": "2016-07-05",
                                    "FO_SZAM": "3",
                                    "ELOZO_HAROM_FO": "5"
                                },
                                {
                                    "USERNEV": "TAMASF",
                                    "NEV": "Fényes Tamás",
                                    "METTOL": "2016-07-04",
                                    "MEDDIG": "2016-07-10",
                                    "FO_SZAM": "2",
                                    "ELOZO_HAROM_FO": "8"
                                },
                                {
                                    "USERNEV": "TAMASF",
                                    "NEV": "Fényes Tamás",
                                    "METTOL": "2016-09-12",
                                    "MEDDIG": "2016-09-18",
                                    "FO_SZAM": "3",
                                    "ELOZO_HAROM_FO": "8"
                                },
                                {
                                    "USERNEV": "TAMASF",
                                    "NEV": "Fényes Tamás",
                                    "METTOL": "2016-12-02",
                                    "MEDDIG": "2016-12-04",
                                    "FO_SZAM": "1",
                                    "ELOZO_HAROM_FO": "8"
                                },
                                {
                                    "USERNEV": "TAMASF",
                                    "NEV": "Fényes Tamás",
                                    "METTOL": "2016-12-10",
                                    "MEDDIG": "2016-12-14",
                                    "FO_SZAM": "3",
                                    "ELOZO_HAROM_FO": "6"
                                },
                                {
                                    "USERNEV": "TAMASF",
                                    "NEV": "Fényes Tamás",
                                    "METTOL": "2017-02-12",
                                    "MEDDIG": "2017-02-17",
                                    "FO_SZAM": "2",
                                    "ELOZO_HAROM_FO": "7"
                                },
                                {
                                    "USERNEV": "TAMASF",
                                    "NEV": "Fényes Tamás",
                                    "METTOL": "2017-02-16",
                                    "MEDDIG": "2017-02-19",
                                    "FO_SZAM": "4",
                                    "ELOZO_HAROM_FO": "6"
                                },
                                {
                                    "USERNEV": "tibor",
                                    "NEV": "Gombos Tibor",
                                    "METTOL": "2016-10-09",
                                    "MEDDIG": "2016-10-13",
                                    "FO_SZAM": "2",
                                    "ELOZO_HAROM_FO": "0"
                                },
                                {
                                    "USERNEV": "tibor",
                                    "NEV": "Gombos Tibor",
                                    "METTOL": "2016-11-05",
                                    "MEDDIG": "2016-11-09",
                                    "FO_SZAM": "1",
                                    "ELOZO_HAROM_FO": "2"
                                },
                                {
                                    "USERNEV": "tibor2",
                                    "NEV": "Dániel Tibor",
                                    "METTOL": "2016-10-20",
                                    "MEDDIG": "2016-10-25",
                                    "FO_SZAM": "2",
                                    "ELOZO_HAROM_FO": "0"
                                },
                                {
                                    "USERNEV": "tihamer",
                                    "NEV": "Kazy Tihamér",
                                    "METTOL": "2016-05-30",
                                    "MEDDIG": "2016-06-05",
                                    "FO_SZAM": "1",
                                    "ELOZO_HAROM_FO": "0"
                                },
                                {
                                    "USERNEV": "tihamer",
                                    "NEV": "Kazy Tihamér",
                                    "METTOL": "2016-06-03",
                                    "MEDDIG": "2016-06-08",
                                    "FO_SZAM": "5",
                                    "ELOZO_HAROM_FO": "1"
                                },
                                {
                                    "USERNEV": "tihamer",
                                    "NEV": "Kazy Tihamér",
                                    "METTOL": "2016-07-20",
                                    "MEDDIG": "2016-07-24",
                                    "FO_SZAM": "3",
                                    "ELOZO_HAROM_FO": "6"
                                },
                                {
                                    "USERNEV": "tihamer",
                                    "NEV": "Kazy Tihamér",
                                    "METTOL": "2016-08-18",
                                    "MEDDIG": "2016-08-22",
                                    "FO_SZAM": "3",
                                    "ELOZO_HAROM_FO": "9"
                                },
                                {
                                    "USERNEV": "tihamer",
                                    "NEV": "Kazy Tihamér",
                                    "METTOL": "2016-10-19",
                                    "MEDDIG": "2016-10-23",
                                    "FO_SZAM": "2",
                                    "ELOZO_HAROM_FO": "11"
                                },
                                {
                                    "USERNEV": "tihamer",
                                    "NEV": "Kazy Tihamér",
                                    "METTOL": "2016-12-25",
                                    "MEDDIG": "2016-12-26",
                                    "FO_SZAM": "2",
                                    "ELOZO_HAROM_FO": "8"
                                },
                                {
                                    "USERNEV": "timea",
                                    "NEV": "Papós Tímea",
                                    "METTOL": "2016-12-26",
                                    "MEDDIG": "2016-12-27",
                                    "FO_SZAM": "2",
                                    "ELOZO_HAROM_FO": "0"
                                },
                                {
                                    "USERNEV": "timea2",
                                    "NEV": "Dusha Tímea",
                                    "METTOL": "2016-06-06",
                                    "MEDDIG": "2016-06-07",
                                    "FO_SZAM": "2",
                                    "ELOZO_HAROM_FO": "0"
                                },
                                {
                                    "USERNEV": "timea2",
                                    "NEV": "Dusha Tímea",
                                    "METTOL": "2016-08-07",
                                    "MEDDIG": "2016-08-10",
                                    "FO_SZAM": "3",
                                    "ELOZO_HAROM_FO": "2"
                                },
                                {
                                    "USERNEV": "timea2",
                                    "NEV": "Dusha Tímea",
                                    "METTOL": "2016-10-26",
                                    "MEDDIG": "2016-10-29",
                                    "FO_SZAM": "3",
                                    "ELOZO_HAROM_FO": "5"
                                },
                                {
                                    "USERNEV": "timea2",
                                    "NEV": "Dusha Tímea",
                                    "METTOL": "2016-11-27",
                                    "MEDDIG": "2016-12-01",
                                    "FO_SZAM": "4",
                                    "ELOZO_HAROM_FO": "8"
                                },
                                {
                                    "USERNEV": "timea2",
                                    "NEV": "Dusha Tímea",
                                    "METTOL": "2016-12-14",
                                    "MEDDIG": "2016-12-16",
                                    "FO_SZAM": "4",
                                    "ELOZO_HAROM_FO": "10"
                                },
                                {
                                    "USERNEV": "tunde",
                                    "NEV": "Turcsik Tünde",
                                    "METTOL": "2016-06-03",
                                    "MEDDIG": "2016-06-07",
                                    "FO_SZAM": "3",
                                    "ELOZO_HAROM_FO": "0"
                                },
                                {
                                    "USERNEV": "tunde",
                                    "NEV": "Turcsik Tünde",
                                    "METTOL": "2016-06-06",
                                    "MEDDIG": "2016-06-12",
                                    "FO_SZAM": "3",
                                    "ELOZO_HAROM_FO": "3"
                                },
                                {
                                    "USERNEV": "tunde",
                                    "NEV": "Turcsik Tünde",
                                    "METTOL": "2016-07-14",
                                    "MEDDIG": "2016-07-21",
                                    "FO_SZAM": "1",
                                    "ELOZO_HAROM_FO": "6"
                                },
                                {
                                    "USERNEV": "tunde",
                                    "NEV": "Turcsik Tünde",
                                    "METTOL": "2016-09-05",
                                    "MEDDIG": "2016-09-12",
                                    "FO_SZAM": "2",
                                    "ELOZO_HAROM_FO": "7"
                                },
                                {
                                    "USERNEV": "tunde",
                                    "NEV": "Turcsik Tünde",
                                    "METTOL": "2016-10-24",
                                    "MEDDIG": "2016-10-30",
                                    "FO_SZAM": "3",
                                    "ELOZO_HAROM_FO": "6"
                                },
                                {
                                    "USERNEV": "tunde",
                                    "NEV": "Turcsik Tünde",
                                    "METTOL": "2016-11-19",
                                    "MEDDIG": "2016-11-20",
                                    "FO_SZAM": "3",
                                    "ELOZO_HAROM_FO": "6"
                                },
                                {
                                    "USERNEV": "tunde",
                                    "NEV": "Turcsik Tünde",
                                    "METTOL": "2016-12-15",
                                    "MEDDIG": "2016-12-20",
                                    "FO_SZAM": "3",
                                    "ELOZO_HAROM_FO": "8"
                                },
                                {
                                    "USERNEV": "tunde",
                                    "NEV": "Turcsik Tünde",
                                    "METTOL": "2017-01-03",
                                    "MEDDIG": "2017-01-06",
                                    "FO_SZAM": "5",
                                    "ELOZO_HAROM_FO": "9"
                                },
                                {
                                    "USERNEV": "valentin",
                                    "NEV": "Feró Valentin",
                                    "METTOL": "2016-05-24",
                                    "MEDDIG": "2016-05-30",
                                    "FO_SZAM": "4",
                                    "ELOZO_HAROM_FO": "0"
                                },
                                {
                                    "USERNEV": "valentin",
                                    "NEV": "Feró Valentin",
                                    "METTOL": "2016-07-24",
                                    "MEDDIG": "2016-07-29",
                                    "FO_SZAM": "1",
                                    "ELOZO_HAROM_FO": "4"
                                },
                                {
                                    "USERNEV": "valentin",
                                    "NEV": "Feró Valentin",
                                    "METTOL": "2016-10-26",
                                    "MEDDIG": "2016-10-30",
                                    "FO_SZAM": "3",
                                    "ELOZO_HAROM_FO": "5"
                                },
                                {
                                    "USERNEV": "valentin",
                                    "NEV": "Feró Valentin",
                                    "METTOL": "2016-11-11",
                                    "MEDDIG": "2016-11-17",
                                    "FO_SZAM": "3",
                                    "ELOZO_HAROM_FO": "8"
                                },
                                {
                                    "USERNEV": "valentin",
                                    "NEV": "Feró Valentin",
                                    "METTOL": "2016-12-01",
                                    "MEDDIG": "2016-12-05",
                                    "FO_SZAM": "3",
                                    "ELOZO_HAROM_FO": "7"
                                },
                                {
                                    "USERNEV": "veronika4",
                                    "NEV": "Tankó Veronika",
                                    "METTOL": "2016-05-30",
                                    "MEDDIG": "2016-06-04",
                                    "FO_SZAM": "2",
                                    "ELOZO_HAROM_FO": "0"
                                },
                                {
                                    "USERNEV": "veronika4",
                                    "NEV": "Tankó Veronika",
                                    "METTOL": "2016-07-20",
                                    "MEDDIG": "2016-07-26",
                                    "FO_SZAM": "3",
                                    "ELOZO_HAROM_FO": "2"
                                },
                                {
                                    "USERNEV": "veronika4",
                                    "NEV": "Tankó Veronika",
                                    "METTOL": "2016-08-16",
                                    "MEDDIG": "2016-08-21",
                                    "FO_SZAM": "1",
                                    "ELOZO_HAROM_FO": "5"
                                },
                                {
                                    "USERNEV": "veronika4",
                                    "NEV": "Tankó Veronika",
                                    "METTOL": "2016-09-26",
                                    "MEDDIG": "2016-10-03",
                                    "FO_SZAM": "2",
                                    "ELOZO_HAROM_FO": "6"
                                },
                                {
                                    "USERNEV": "veronika4",
                                    "NEV": "Tankó Veronika",
                                    "METTOL": "2017-01-19",
                                    "MEDDIG": "2017-01-24",
                                    "FO_SZAM": "3",
                                    "ELOZO_HAROM_FO": "6"
                                },
                                {
                                    "USERNEV": "veronika4",
                                    "NEV": "Tankó Veronika",
                                    "METTOL": "2017-02-03",
                                    "MEDDIG": "2017-02-05",
                                    "FO_SZAM": "2",
                                    "ELOZO_HAROM_FO": "6"
                                },
                                {
                                    "USERNEV": "VIKTORIAU",
                                    "NEV": "Urbán Viktoria",
                                    "METTOL": "2016-04-30",
                                    "MEDDIG": "2016-05-03",
                                    "FO_SZAM": "1",
                                    "ELOZO_HAROM_FO": "0"
                                },
                                {
                                    "USERNEV": "VIKTORIAU",
                                    "NEV": "Urbán Viktoria",
                                    "METTOL": "2016-08-03",
                                    "MEDDIG": "2016-08-04",
                                    "FO_SZAM": "2",
                                    "ELOZO_HAROM_FO": "1"
                                },
                                {
                                    "USERNEV": "VIKTORIAU",
                                    "NEV": "Urbán Viktoria",
                                    "METTOL": "2016-10-14",
                                    "MEDDIG": "2016-10-15",
                                    "FO_SZAM": "3",
                                    "ELOZO_HAROM_FO": "3"
                                },
                                {
                                    "USERNEV": "VIKTORIAU",
                                    "NEV": "Urbán Viktoria",
                                    "METTOL": "2016-10-26",
                                    "MEDDIG": "2016-11-02",
                                    "FO_SZAM": "4",
                                    "ELOZO_HAROM_FO": "6"
                                },
                                {
                                    "USERNEV": "VIKTORK",
                                    "NEV": "Keresztúri Viktor",
                                    "METTOL": "2016-05-30",
                                    "MEDDIG": "2016-06-01",
                                    "FO_SZAM": "2",
                                    "ELOZO_HAROM_FO": "0"
                                },
                                {
                                    "USERNEV": "VIKTORK",
                                    "NEV": "Keresztúri Viktor",
                                    "METTOL": "2016-06-06",
                                    "MEDDIG": "2016-06-07",
                                    "FO_SZAM": "4",
                                    "ELOZO_HAROM_FO": "2"
                                },
                                {
                                    "USERNEV": "vivien3",
                                    "NEV": "Boros Vivien",
                                    "METTOL": "2016-05-02",
                                    "MEDDIG": "2016-05-05",
                                    "FO_SZAM": "3",
                                    "ELOZO_HAROM_FO": "0"
                                },
                                {
                                    "USERNEV": "vivien3",
                                    "NEV": "Boros Vivien",
                                    "METTOL": "2016-08-13",
                                    "MEDDIG": "2016-08-18",
                                    "FO_SZAM": "2",
                                    "ELOZO_HAROM_FO": "3"
                                },
                                {
                                    "USERNEV": "vivien3",
                                    "NEV": "Boros Vivien",
                                    "METTOL": "2016-09-01",
                                    "MEDDIG": "2016-09-05",
                                    "FO_SZAM": "2",
                                    "ELOZO_HAROM_FO": "5"
                                },
                                {
                                    "USERNEV": "vivien3",
                                    "NEV": "Boros Vivien",
                                    "METTOL": "2016-10-01",
                                    "MEDDIG": "2016-10-04",
                                    "FO_SZAM": "1",
                                    "ELOZO_HAROM_FO": "7"
                                },
                                {
                                    "USERNEV": "vivien3",
                                    "NEV": "Boros Vivien",
                                    "METTOL": "2016-11-17",
                                    "MEDDIG": "2016-11-20",
                                    "FO_SZAM": "2",
                                    "ELOZO_HAROM_FO": "5"
                                },
                                {
                                    "USERNEV": "vivien3",
                                    "NEV": "Boros Vivien",
                                    "METTOL": "2016-12-17",
                                    "MEDDIG": "2016-12-21",
                                    "FO_SZAM": "2",
                                    "ELOZO_HAROM_FO": "5"
                                },
                                {
                                    "USERNEV": "vivien3",
                                    "NEV": "Boros Vivien",
                                    "METTOL": "2016-12-24",
                                    "MEDDIG": "2016-12-26",
                                    "FO_SZAM": "3",
                                    "ELOZO_HAROM_FO": "5"
                                },
                                {
                                    "USERNEV": "zoltan",
                                    "NEV": "Fodor Zoltán",
                                    "METTOL": "2016-08-24",
                                    "MEDDIG": "2016-08-31",
                                    "FO_SZAM": "2",
                                    "ELOZO_HAROM_FO": "0"
                                },
                                {
                                    "USERNEV": "zoltan",
                                    "NEV": "Fodor Zoltán",
                                    "METTOL": "2016-09-05",
                                    "MEDDIG": "2016-09-09",
                                    "FO_SZAM": "3",
                                    "ELOZO_HAROM_FO": "2"
                                },
                                {
                                    "USERNEV": "zoltan4",
                                    "NEV": "Barna Zoltán",
                                    "METTOL": "2016-05-12",
                                    "MEDDIG": "2016-05-16",
                                    "FO_SZAM": "3",
                                    "ELOZO_HAROM_FO": "0"
                                },
                                {
                                    "USERNEV": "zoltan4",
                                    "NEV": "Barna Zoltán",
                                    "METTOL": "2016-05-13",
                                    "MEDDIG": "2016-05-16",
                                    "FO_SZAM": "3",
                                    "ELOZO_HAROM_FO": "3"
                                },
                                {
                                    "USERNEV": "zoltan4",
                                    "NEV": "Barna Zoltán",
                                    "METTOL": "2016-06-03",
                                    "MEDDIG": "2016-06-06",
                                    "FO_SZAM": "1",
                                    "ELOZO_HAROM_FO": "6"
                                },
                                {
                                    "USERNEV": "zoltan4",
                                    "NEV": "Barna Zoltán",
                                    "METTOL": "2016-08-15",
                                    "MEDDIG": "2016-08-21",
                                    "FO_SZAM": "1",
                                    "ELOZO_HAROM_FO": "7"
                                },
                                {
                                    "USERNEV": "zoltan4",
                                    "NEV": "Barna Zoltán",
                                    "METTOL": "2016-08-16",
                                    "MEDDIG": "2016-08-23",
                                    "FO_SZAM": "2",
                                    "ELOZO_HAROM_FO": "5"
                                },
                                {
                                    "USERNEV": "zoltan4",
                                    "NEV": "Barna Zoltán",
                                    "METTOL": "2016-09-30",
                                    "MEDDIG": "2016-10-07",
                                    "FO_SZAM": "3",
                                    "ELOZO_HAROM_FO": "4"
                                },
                                {
                                    "USERNEV": "zoltan4",
                                    "NEV": "Barna Zoltán",
                                    "METTOL": "2016-10-21",
                                    "MEDDIG": "2016-10-24",
                                    "FO_SZAM": "5",
                                    "ELOZO_HAROM_FO": "6"
                                },
                                {
                                    "USERNEV": "zoltan4",
                                    "NEV": "Barna Zoltán",
                                    "METTOL": "2016-10-26",
                                    "MEDDIG": "2016-10-30",
                                    "FO_SZAM": "2",
                                    "ELOZO_HAROM_FO": "10"
                                },
                                {
                                    "USERNEV": "zoltan4",
                                    "NEV": "Barna Zoltán",
                                    "METTOL": "2016-10-30",
                                    "MEDDIG": "2016-11-06",
                                    "FO_SZAM": "1",
                                    "ELOZO_HAROM_FO": "10"
                                },
                                {
                                    "USERNEV": "zoltan4",
                                    "NEV": "Barna Zoltán",
                                    "METTOL": "2016-11-19",
                                    "MEDDIG": "2016-11-21",
                                    "FO_SZAM": "2",
                                    "ELOZO_HAROM_FO": "8"
                                },
                                {
                                    "USERNEV": "zoltan4",
                                    "NEV": "Barna Zoltán",
                                    "METTOL": "2016-12-29",
                                    "MEDDIG": "2017-01-04",
                                    "FO_SZAM": "1",
                                    "ELOZO_HAROM_FO": "5"
                                },
                                {
                                    "USERNEV": "zoltan4",
                                    "NEV": "Barna Zoltán",
                                    "METTOL": "2017-01-01",
                                    "MEDDIG": "2017-01-02",
                                    "FO_SZAM": "3",
                                    "ELOZO_HAROM_FO": "4"
                                },
                                {
                                    "USERNEV": "ZOLTANP",
                                    "NEV": "Pintér Zoltán",
                                    "METTOL": "2016-06-05",
                                    "MEDDIG": "2016-06-08",
                                    "FO_SZAM": "2",
                                    "ELOZO_HAROM_FO": "0"
                                },
                                {
                                    "USERNEV": "ZOLTANP",
                                    "NEV": "Pintér Zoltán",
                                    "METTOL": "2016-06-06",
                                    "MEDDIG": "2016-06-08",
                                    "FO_SZAM": "2",
                                    "ELOZO_HAROM_FO": "2"
                                },
                                {
                                    "USERNEV": "ZOLTANP",
                                    "NEV": "Pintér Zoltán",
                                    "METTOL": "2016-07-20",
                                    "MEDDIG": "2016-07-25",
                                    "FO_SZAM": "3",
                                    "ELOZO_HAROM_FO": "4"
                                },
                                {
                                    "USERNEV": "ZOLTANP",
                                    "NEV": "Pintér Zoltán",
                                    "METTOL": "2016-10-19",
                                    "MEDDIG": "2016-10-25",
                                    "FO_SZAM": "2",
                                    "ELOZO_HAROM_FO": "7"
                                },
                                {
                                    "USERNEV": "ZOLTANP",
                                    "NEV": "Pintér Zoltán",
                                    "METTOL": "2016-12-07",
                                    "MEDDIG": "2016-12-10",
                                    "FO_SZAM": "3",
                                    "ELOZO_HAROM_FO": "7"
                                },
                                {
                                    "USERNEV": "ZOLTANP",
                                    "NEV": "Pintér Zoltán",
                                    "METTOL": "2016-12-25",
                                    "MEDDIG": "2016-12-29",
                                    "FO_SZAM": "2",
                                    "ELOZO_HAROM_FO": "8"
                                },
                                {
                                    "USERNEV": "ZOLTANT",
                                    "NEV": "Tóth Zoltán",
                                    "METTOL": "2016-05-01",
                                    "MEDDIG": "2016-05-04",
                                    "FO_SZAM": "3",
                                    "ELOZO_HAROM_FO": "0"
                                },
                                {
                                    "USERNEV": "ZOLTANT",
                                    "NEV": "Tóth Zoltán",
                                    "METTOL": "2016-07-14",
                                    "MEDDIG": "2016-07-15",
                                    "FO_SZAM": "3",
                                    "ELOZO_HAROM_FO": "3"
                                },
                                {
                                    "USERNEV": "ZOLTANT",
                                    "NEV": "Tóth Zoltán",
                                    "METTOL": "2017-01-16",
                                    "MEDDIG": "2017-01-20",
                                    "FO_SZAM": "2",
                                    "ELOZO_HAROM_FO": "6"
                                },
                                {
                                    "USERNEV": "zsofi1",
                                    "NEV": "Molnár Zsófi",
                                    "METTOL": "2016-06-16",
                                    "MEDDIG": "2016-06-17",
                                    "FO_SZAM": "2",
                                    "ELOZO_HAROM_FO": "0"
                                },
                                {
                                    "USERNEV": "zsofi1",
                                    "NEV": "Molnár Zsófi",
                                    "METTOL": "2017-02-18",
                                    "MEDDIG": "2017-02-19",
                                    "FO_SZAM": "3",
                                    "ELOZO_HAROM_FO": "2"
                                },
                                {
                                    "USERNEV": "zsolt1",
                                    "NEV": "Pulai Zsolt",
                                    "METTOL": "2016-04-14",
                                    "MEDDIG": "2016-04-17",
                                    "FO_SZAM": "2",
                                    "ELOZO_HAROM_FO": "0"
                                },
                                {
                                    "USERNEV": "zsolt1",
                                    "NEV": "Pulai Zsolt",
                                    "METTOL": "2016-06-06",
                                    "MEDDIG": "2016-06-08",
                                    "FO_SZAM": "2",
                                    "ELOZO_HAROM_FO": "2"
                                },
                                {
                                    "USERNEV": "zsolt1",
                                    "NEV": "Pulai Zsolt",
                                    "METTOL": "2016-06-07",
                                    "MEDDIG": "2016-06-10",
                                    "FO_SZAM": "4",
                                    "ELOZO_HAROM_FO": "4"
                                },
                                {
                                    "USERNEV": "zsolt1",
                                    "NEV": "Pulai Zsolt",
                                    "METTOL": "2016-07-31",
                                    "MEDDIG": "2016-08-02",
                                    "FO_SZAM": "2",
                                    "ELOZO_HAROM_FO": "8"
                                },
                                {
                                    "USERNEV": "ZSOLTJ",
                                    "NEV": "Józsa Zsolt",
                                    "METTOL": "2016-04-24",
                                    "MEDDIG": "2016-04-26",
                                    "FO_SZAM": "4",
                                    "ELOZO_HAROM_FO": "0"
                                },
                                {
                                    "USERNEV": "ZSOLTJ",
                                    "NEV": "Józsa Zsolt",
                                    "METTOL": "2016-05-09",
                                    "MEDDIG": "2016-05-11",
                                    "FO_SZAM": "2",
                                    "ELOZO_HAROM_FO": "4"
                                },
                                {
                                    "USERNEV": "ZSOLTJ",
                                    "NEV": "Józsa Zsolt",
                                    "METTOL": "2016-05-28",
                                    "MEDDIG": "2016-06-03",
                                    "FO_SZAM": "1",
                                    "ELOZO_HAROM_FO": "6"
                                },
                                {
                                    "USERNEV": "ZSOLTJ",
                                    "NEV": "Józsa Zsolt",
                                    "METTOL": "2016-06-17",
                                    "MEDDIG": "2016-06-19",
                                    "FO_SZAM": "2",
                                    "ELOZO_HAROM_FO": "7"
                                },
                                {
                                    "USERNEV": "ZSOLTJ",
                                    "NEV": "Józsa Zsolt",
                                    "METTOL": "2016-07-18",
                                    "MEDDIG": "2016-07-19",
                                    "FO_SZAM": "2",
                                    "ELOZO_HAROM_FO": "5"
                                },
                                {
                                    "USERNEV": "ZSOLTJ",
                                    "NEV": "Józsa Zsolt",
                                    "METTOL": "2016-10-01",
                                    "MEDDIG": "2016-10-06",
                                    "FO_SZAM": "2",
                                    "ELOZO_HAROM_FO": "5"
                                },
                                {
                                    "USERNEV": "zsuzsa",
                                    "NEV": "Pusztai Zsuzsanna",
                                    "METTOL": "2016-07-24",
                                    "MEDDIG": "2016-07-25",
                                    "FO_SZAM": "3",
                                    "ELOZO_HAROM_FO": "0"
                                },
                                {
                                    "USERNEV": "zsuzsa",
                                    "NEV": "Pusztai Zsuzsanna",
                                    "METTOL": "2016-08-28",
                                    "MEDDIG": "2016-08-30",
                                    "FO_SZAM": "2",
                                    "ELOZO_HAROM_FO": "3"
                                },
                                {
                                    "USERNEV": "zsuzsa",
                                    "NEV": "Pusztai Zsuzsanna",
                                    "METTOL": "2016-11-28",
                                    "MEDDIG": "2016-12-04",
                                    "FO_SZAM": "3",
                                    "ELOZO_HAROM_FO": "5"
                                },
                                {
                                    "USERNEV": "zsuzsa3",
                                    "NEV": "Varsányi Zsuzsa",
                                    "METTOL": "2016-07-30",
                                    "MEDDIG": "2016-08-02",
                                    "FO_SZAM": "2",
                                    "ELOZO_HAROM_FO": "0"
                                },
                                {
                                    "USERNEV": "zsuzsa3",
                                    "NEV": "Varsányi Zsuzsa",
                                    "METTOL": "2016-09-09",
                                    "MEDDIG": "2016-09-10",
                                    "FO_SZAM": "2",
                                    "ELOZO_HAROM_FO": "2"
                                },
                                {
                                    "USERNEV": "zsuzsa3",
                                    "NEV": "Varsányi Zsuzsa",
                                    "METTOL": "2016-09-28",
                                    "MEDDIG": "2016-10-03",
                                    "FO_SZAM": "2",
                                    "ELOZO_HAROM_FO": "4"
                                },
                                {
                                    "USERNEV": "zsuzsa3",
                                    "NEV": "Varsányi Zsuzsa",
                                    "METTOL": "2016-10-27",
                                    "MEDDIG": "2016-11-03",
                                    "FO_SZAM": "4",
                                    "ELOZO_HAROM_FO": "6"
                                },
                                {
                                    "USERNEV": "zsuzsanna",
                                    "NEV": "Barta Zsuzsanna",
                                    "METTOL": "2016-05-17",
                                    "MEDDIG": "2016-05-23",
                                    "FO_SZAM": "2",
                                    "ELOZO_HAROM_FO": "0"
                                },
                                {
                                    "USERNEV": "zsuzsanna",
                                    "NEV": "Barta Zsuzsanna",
                                    "METTOL": "2016-07-12",
                                    "MEDDIG": "2016-07-15",
                                    "FO_SZAM": "2",
                                    "ELOZO_HAROM_FO": "2"
                                },
                                {
                                    "USERNEV": "zsuzsanna",
                                    "NEV": "Barta Zsuzsanna",
                                    "METTOL": "2017-01-09",
                                    "MEDDIG": "2017-01-16",
                                    "FO_SZAM": "1",
                                    "ELOZO_HAROM_FO": "4"
                                },
                                {
                                    "USERNEV": "zsuzsanna",
                                    "NEV": "Barta Zsuzsanna",
                                    "METTOL": "2017-01-16",
                                    "MEDDIG": "2017-01-22",
                                    "FO_SZAM": "2",
                                    "ELOZO_HAROM_FO": "5"
                                },
                                {
                                    "USERNEV": "ZSUZSAV",
                                    "NEV": "Vajda Zsuzsa",
                                    "METTOL": "2016-04-14",
                                    "MEDDIG": "2016-04-16",
                                    "FO_SZAM": "2",
                                    "ELOZO_HAROM_FO": "0"
                                },
                                {
                                    "USERNEV": "ZSUZSAV",
                                    "NEV": "Vajda Zsuzsa",
                                    "METTOL": "2016-05-28",
                                    "MEDDIG": "2016-06-01",
                                    "FO_SZAM": "4",
                                    "ELOZO_HAROM_FO": "2"
                                },
                                {
                                    "USERNEV": "ZSUZSAV",
                                    "NEV": "Vajda Zsuzsa",
                                    "METTOL": "2016-06-15",
                                    "MEDDIG": "2016-06-21",
                                    "FO_SZAM": "3",
                                    "ELOZO_HAROM_FO": "6"
                                },
                                {
                                    "USERNEV": "ZSUZSAV",
                                    "NEV": "Vajda Zsuzsa",
                                    "METTOL": "2016-09-18",
                                    "MEDDIG": "2016-09-20",
                                    "FO_SZAM": "2",
                                    "ELOZO_HAROM_FO": "9"
                                },
                                {
                                    "USERNEV": "ZSUZSAV",
                                    "NEV": "Vajda Zsuzsa",
                                    "METTOL": "2016-10-26",
                                    "MEDDIG": "2016-10-28",
                                    "FO_SZAM": "1",
                                    "ELOZO_HAROM_FO": "9"
                                },
                                {
                                    "USERNEV": "ZSUZSAV",
                                    "NEV": "Vajda Zsuzsa",
                                    "METTOL": "2016-11-21",
                                    "MEDDIG": "2016-11-24",
                                    "FO_SZAM": "3",
                                    "ELOZO_HAROM_FO": "6"
                                }
                            ]
                        },
                        "text/html": [
                            "<table>",
                            "<tr><th>USERNEV</th><th>NEV</th><th>METTOL</th><th>MEDDIG</th><th>FO_SZAM</th><th>ELOZO_HAROM_FO</th></tr>",
                            "<tr><td>adam1</td><td>Kiss Ádám</td><td>2016-05-28</td><td>2016-06-03</td><td>3</td><td>0</td></tr>",
                            "<tr><td>adam1</td><td>Kiss Ádám</td><td>2016-08-20</td><td>2016-08-24</td><td>1</td><td>3</td></tr>",
                            "<tr><td>adam1</td><td>Kiss Ádám</td><td>2016-10-19</td><td>2016-10-24</td><td>2</td><td>4</td></tr>",
                            "<tr><td>adam3</td><td>Barkóci Ádám</td><td>2016-09-12</td><td>2016-09-16</td><td>2</td><td>0</td></tr>",
                            "<tr><td>adam3</td><td>Barkóci Ádám</td><td>2017-02-06</td><td>2017-02-10</td><td>1</td><td>2</td></tr>",
                            "<tr><td>adam4</td><td>Bieniek Ádám</td><td>2016-08-28</td><td>2016-08-30</td><td>3</td><td>0</td></tr>",
                            "<tr><td>adam4</td><td>Bieniek Ádám</td><td>2016-10-27</td><td>2016-11-02</td><td>3</td><td>3</td></tr>",
                            "<tr><td>adam4</td><td>Bieniek Ádám</td><td>2016-11-15</td><td>2016-11-18</td><td>2</td><td>6</td></tr>",
                            "<tr><td>adam4</td><td>Bieniek Ádám</td><td>2016-12-06</td><td>2016-12-09</td><td>3</td><td>8</td></tr>",
                            "<tr><td>adam4</td><td>Bieniek Ádám</td><td>2017-01-12</td><td>2017-01-19</td><td>2</td><td>8</td></tr>",
                            "<tr><td>adam4</td><td>Bieniek Ádám</td><td>2017-02-23</td><td>2017-02-27</td><td>3</td><td>7</td></tr>",
                            "<tr><td>agnes</td><td>Lengyel Ágnes</td><td>2016-05-09</td><td>2016-05-11</td><td>3</td><td>0</td></tr>",
                            "<tr><td>agnes</td><td>Lengyel Ágnes</td><td>2016-05-25</td><td>2016-05-30</td><td>1</td><td>3</td></tr>",
                            "<tr><td>agnes</td><td>Lengyel Ágnes</td><td>2016-07-13</td><td>2016-07-19</td><td>3</td><td>4</td></tr>",
                            "<tr><td>agnes</td><td>Lengyel Ágnes</td><td>2016-07-30</td><td>2016-08-06</td><td>3</td><td>7</td></tr>",
                            "<tr><td>agnes</td><td>Lengyel Ágnes</td><td>2016-11-07</td><td>2016-11-13</td><td>2</td><td>7</td></tr>",
                            "<tr><td>agnes3</td><td>Hartyánszky Ágnes</td><td>2016-08-04</td><td>2016-08-10</td><td>1</td><td>0</td></tr>",
                            "<tr><td>agnes3</td><td>Hartyánszky Ágnes</td><td>2016-10-22</td><td>2016-10-23</td><td>3</td><td>1</td></tr>",
                            "<tr><td>agnes3</td><td>Hartyánszky Ágnes</td><td>2017-02-16</td><td>2017-02-21</td><td>3</td><td>4</td></tr>",
                            "<tr><td>AGNESH</td><td>Horváth Ágnes</td><td>2016-04-10</td><td>2016-04-12</td><td>2</td><td>0</td></tr>",
                            "<tr><td>AGNESH</td><td>Horváth Ágnes</td><td>2016-04-27</td><td>2016-04-28</td><td>4</td><td>2</td></tr>",
                            "<tr><td>AGNESH</td><td>Horváth Ágnes</td><td>2016-06-23</td><td>2016-06-26</td><td>1</td><td>6</td></tr>",
                            "<tr><td>AGNESH</td><td>Horváth Ágnes</td><td>2016-10-30</td><td>2016-11-04</td><td>1</td><td>7</td></tr>",
                            "<tr><td>AGNESH</td><td>Horváth Ágnes</td><td>2017-01-03</td><td>2017-01-10</td><td>2</td><td>6</td></tr>",
                            "<tr><td>AGNESH</td><td>Horváth Ágnes</td><td>2017-01-16</td><td>2017-01-23</td><td>3</td><td>4</td></tr>",
                            "<tr><td>AGNESK</td><td>Kovács Ágnes</td><td>2016-07-29</td><td>2016-08-01</td><td>3</td><td>0</td></tr>",
                            "<tr><td>AGNESK</td><td>Kovács Ágnes</td><td>2016-10-17</td><td>2016-10-19</td><td>2</td><td>3</td></tr>",
                            "<tr><td>AGNESK</td><td>Kovács Ágnes</td><td>2016-12-17</td><td>2016-12-18</td><td>2</td><td>5</td></tr>",
                            "<tr><td>akos</td><td>Bíró Ákos</td><td>2016-05-18</td><td>2016-05-19</td><td>2</td><td>0</td></tr>",
                            "<tr><td>akos</td><td>Bíró Ákos</td><td>2016-07-14</td><td>2016-07-19</td><td>2</td><td>2</td></tr>",
                            "<tr><td>akos</td><td>Bíró Ákos</td><td>2016-07-16</td><td>2016-07-18</td><td>2</td><td>4</td></tr>",
                            "<tr><td>akos</td><td>Bíró Ákos</td><td>2016-07-22</td><td>2016-07-26</td><td>1</td><td>6</td></tr>",
                            "<tr><td>akos</td><td>Bíró Ákos</td><td>2016-09-06</td><td>2016-09-12</td><td>1</td><td>5</td></tr>",
                            "<tr><td>akos</td><td>Bíró Ákos</td><td>2016-10-05</td><td>2016-10-09</td><td>2</td><td>4</td></tr>",
                            "<tr><td>akos</td><td>Bíró Ákos</td><td>2016-10-18</td><td>2016-10-23</td><td>2</td><td>4</td></tr>",
                            "<tr><td>akos</td><td>Bíró Ákos</td><td>2016-11-21</td><td>2016-11-27</td><td>2</td><td>5</td></tr>",
                            "<tr><td>akos</td><td>Bíró Ákos</td><td>2016-12-15</td><td>2016-12-21</td><td>2</td><td>6</td></tr>",
                            "<tr><td>akos</td><td>Bíró Ákos</td><td>2016-12-29</td><td>2016-12-30</td><td>3</td><td>6</td></tr>",
                            "<tr><td>aladar</td><td>Dunai Aladár</td><td>2016-05-17</td><td>2016-05-24</td><td>1</td><td>0</td></tr>",
                            "<tr><td>aladar</td><td>Dunai Aladár</td><td>2016-09-24</td><td>2016-09-28</td><td>1</td><td>1</td></tr>",
                            "<tr><td>aladar</td><td>Dunai Aladár</td><td>2016-11-22</td><td>2016-11-23</td><td>2</td><td>2</td></tr>",
                            "<tr><td>alexandra</td><td>Bagóczki Alexandra</td><td>2016-05-21</td><td>2016-05-27</td><td>3</td><td>0</td></tr>",
                            "<tr><td>alexandra</td><td>Bagóczki Alexandra</td><td>2016-06-08</td><td>2016-06-11</td><td>3</td><td>3</td></tr>",
                            "<tr><td>alexandra</td><td>Bagóczki Alexandra</td><td>2016-07-27</td><td>2016-07-30</td><td>2</td><td>6</td></tr>",
                            "<tr><td>alexandra</td><td>Bagóczki Alexandra</td><td>2016-10-21</td><td>2016-10-25</td><td>2</td><td>8</td></tr>",
                            "<tr><td>alexandra</td><td>Bagóczki Alexandra</td><td>2016-11-29</td><td>2016-12-05</td><td>2</td><td>7</td></tr>",
                            "<tr><td>alexandra</td><td>Bagóczki Alexandra</td><td>2017-01-13</td><td>2017-01-14</td><td>1</td><td>6</td></tr>",
                            "<tr><td>alexandra</td><td>Bagóczki Alexandra</td><td>2017-01-19</td><td>2017-01-26</td><td>2</td><td>5</td></tr>",
                            "<tr><td>andi</td><td>Maródi Andrea</td><td>2016-05-08</td><td>2016-05-14</td><td>4</td><td>0</td></tr>",
                            "<tr><td>andi</td><td>Maródi Andrea</td><td>2016-06-13</td><td>2016-06-14</td><td>1</td><td>4</td></tr>",
                            "<tr><td>andi</td><td>Maródi Andrea</td><td>2016-09-13</td><td>2016-09-16</td><td>2</td><td>5</td></tr>",
                            "<tr><td>andi</td><td>Maródi Andrea</td><td>2016-11-16</td><td>2016-11-17</td><td>3</td><td>7</td></tr>",
                            "<tr><td>andi</td><td>Maródi Andrea</td><td>2017-01-13</td><td>2017-01-17</td><td>3</td><td>6</td></tr>",
                            "<tr><td>andras2</td><td>Tóth András</td><td>2016-05-30</td><td>2016-06-04</td><td>1</td><td>0</td></tr>",
                            "<tr><td>andras2</td><td>Tóth András</td><td>2016-07-20</td><td>2016-07-22</td><td>2</td><td>1</td></tr>",
                            "<tr><td>andras2</td><td>Tóth András</td><td>2016-09-30</td><td>2016-10-03</td><td>2</td><td>3</td></tr>",
                            "<tr><td>andras2</td><td>Tóth András</td><td>2016-10-07</td><td>2016-10-10</td><td>3</td><td>5</td></tr>",
                            "<tr><td>andras2</td><td>Tóth András</td><td>2017-02-08</td><td>2017-02-10</td><td>4</td><td>7</td></tr>",
                            "<tr><td>andras21</td><td>Molnár András</td><td>2016-06-21</td><td>2016-06-26</td><td>2</td><td>0</td></tr>",
                            "<tr><td>andras21</td><td>Molnár András</td><td>2016-07-04</td><td>2016-07-05</td><td>3</td><td>2</td></tr>",
                            "<tr><td>andras21</td><td>Molnár András</td><td>2016-07-20</td><td>2016-07-22</td><td>1</td><td>5</td></tr>",
                            "<tr><td>andras21</td><td>Molnár András</td><td>2016-10-01</td><td>2016-10-06</td><td>3</td><td>6</td></tr>",
                            "<tr><td>andras21</td><td>Molnár András</td><td>2016-10-04</td><td>2016-10-11</td><td>3</td><td>7</td></tr>",
                            "<tr><td>andras21</td><td>Molnár András</td><td>2016-11-23</td><td>2016-11-24</td><td>4</td><td>7</td></tr>",
                            "<tr><td>andras21</td><td>Molnár András</td><td>2017-01-28</td><td>2017-02-01</td><td>2</td><td>10</td></tr>",
                            "<tr><td>andras3</td><td>Vígh András</td><td>2016-05-01</td><td>2016-05-06</td><td>2</td><td>0</td></tr>",
                            "<tr><td>andras3</td><td>Vígh András</td><td>2016-05-30</td><td>2016-06-03</td><td>1</td><td>2</td></tr>",
                            "<tr><td>andras3</td><td>Vígh András</td><td>2016-06-10</td><td>2016-06-11</td><td>1</td><td>3</td></tr>",
                            "<tr><td>andras3</td><td>Vígh András</td><td>2016-07-15</td><td>2016-07-19</td><td>3</td><td>4</td></tr>",
                            "<tr><td>andras3</td><td>Vígh András</td><td>2016-07-21</td><td>2016-07-23</td><td>2</td><td>5</td></tr>",
                            "<tr><td>andras3</td><td>Vígh András</td><td>2016-08-29</td><td>2016-09-02</td><td>3</td><td>6</td></tr>",
                            "<tr><td>andras3</td><td>Vígh András</td><td>2016-11-28</td><td>2016-12-02</td><td>2</td><td>8</td></tr>",
                            "<tr><td>andras3</td><td>Vígh András</td><td>2017-02-02</td><td>2017-02-08</td><td>2</td><td>7</td></tr>",
                            "<tr><td>andras4</td><td>Back András</td><td>2016-09-17</td><td>2016-09-20</td><td>2</td><td>0</td></tr>",
                            "<tr><td>andras4</td><td>Back András</td><td>2016-11-25</td><td>2016-11-28</td><td>2</td><td>2</td></tr>",
                            "<tr><td>andras4</td><td>Back András</td><td>2017-01-09</td><td>2017-01-10</td><td>2</td><td>4</td></tr>",
                            "<tr><td>andras41</td><td>Komjáti András</td><td>2016-05-14</td><td>2016-05-16</td><td>2</td><td>0</td></tr>",
                            "<tr><td>andras41</td><td>Komjáti András</td><td>2016-05-21</td><td>2016-05-23</td><td>4</td><td>2</td></tr>",
                            "<tr><td>andras41</td><td>Komjáti András</td><td>2016-06-07</td><td>2016-06-11</td><td>3</td><td>6</td></tr>",
                            "<tr><td>andras41</td><td>Komjáti András</td><td>2016-06-23</td><td>2016-06-29</td><td>2</td><td>9</td></tr>",
                            "<tr><td>andras41</td><td>Komjáti András</td><td>2016-07-28</td><td>2016-08-03</td><td>3</td><td>9</td></tr>",
                            "<tr><td>andras41</td><td>Komjáti András</td><td>2016-08-17</td><td>2016-08-21</td><td>3</td><td>8</td></tr>",
                            "<tr><td>andras41</td><td>Komjáti András</td><td>2016-08-19</td><td>2016-08-23</td><td>1</td><td>8</td></tr>",
                            "<tr><td>andras41</td><td>Komjáti András</td><td>2016-09-22</td><td>2016-09-29</td><td>1</td><td>7</td></tr>",
                            "<tr><td>andras41</td><td>Komjáti András</td><td>2016-09-30</td><td>2016-10-05</td><td>2</td><td>5</td></tr>",
                            "<tr><td>andras41</td><td>Komjáti András</td><td>2016-10-09</td><td>2016-10-13</td><td>2</td><td>4</td></tr>",
                            "<tr><td>andras41</td><td>Komjáti András</td><td>2016-10-15</td><td>2016-10-18</td><td>3</td><td>5</td></tr>",
                            "<tr><td>andras41</td><td>Komjáti András</td><td>2016-11-20</td><td>2016-11-24</td><td>3</td><td>7</td></tr>",
                            "<tr><td>andras41</td><td>Komjáti András</td><td>2016-11-23</td><td>2016-11-24</td><td>1</td><td>8</td></tr>",
                            "<tr><td>ANDRASE</td><td>Erdei András</td><td>2016-04-24</td><td>2016-05-01</td><td>1</td><td>0</td></tr>",
                            "<tr><td>ANDRASE</td><td>Erdei András</td><td>2016-07-06</td><td>2016-07-07</td><td>2</td><td>1</td></tr>",
                            "<tr><td>ANDRASE</td><td>Erdei András</td><td>2016-08-16</td><td>2016-08-20</td><td>2</td><td>3</td></tr>",
                            "<tr><td>ANDRASE</td><td>Erdei András</td><td>2016-11-19</td><td>2016-11-20</td><td>4</td><td>5</td></tr>",
                            "<tr><td>ANDRASE</td><td>Erdei András</td><td>2016-11-29</td><td>2016-12-06</td><td>3</td><td>8</td></tr>",
                            "<tr><td>ANDRASN</td><td>Nagy András</td><td>2016-11-25</td><td>2016-12-01</td><td>2</td><td>0</td></tr>",
                            "<tr><td>andrea</td><td>Kiss Andrea</td><td>2016-07-27</td><td>2016-07-28</td><td>2</td><td>0</td></tr>",
                            "<tr><td>andrea</td><td>Kiss Andrea</td><td>2016-08-01</td><td>2016-08-02</td><td>2</td><td>2</td></tr>",
                            "<tr><td>andrea</td><td>Kiss Andrea</td><td>2016-08-23</td><td>2016-08-26</td><td>3</td><td>4</td></tr>",
                            "<tr><td>andrea</td><td>Kiss Andrea</td><td>2016-08-26</td><td>2016-08-30</td><td>2</td><td>7</td></tr>",
                            "<tr><td>andrea</td><td>Kiss Andrea</td><td>2016-10-21</td><td>2016-10-27</td><td>4</td><td>7</td></tr>",
                            "<tr><td>andrea</td><td>Kiss Andrea</td><td>2017-02-09</td><td>2017-02-14</td><td>2</td><td>9</td></tr>",
                            "<tr><td>andrea3</td><td>Szomor Andrea</td><td>2016-11-19</td><td>2016-11-21</td><td>3</td><td>0</td></tr>",
                            "<tr><td>andrea4</td><td>Neizer Andrea</td><td>2016-05-27</td><td>2016-05-29</td><td>1</td><td>0</td></tr>",
                            "<tr><td>andrea4</td><td>Neizer Andrea</td><td>2016-09-13</td><td>2016-09-17</td><td>2</td><td>1</td></tr>",
                            "<tr><td>andrea4</td><td>Neizer Andrea</td><td>2016-10-30</td><td>2016-11-06</td><td>3</td><td>3</td></tr>",
                            "<tr><td>andrea4</td><td>Neizer Andrea</td><td>2017-01-22</td><td>2017-01-29</td><td>2</td><td>6</td></tr>",
                            "<tr><td>ANDREAT</td><td>Tornyos Andrea</td><td>2016-07-27</td><td>2016-08-01</td><td>2</td><td>0</td></tr>",
                            "<tr><td>ANDREAT</td><td>Tornyos Andrea</td><td>2016-09-15</td><td>2016-09-16</td><td>2</td><td>2</td></tr>",
                            "<tr><td>ANDREAT</td><td>Tornyos Andrea</td><td>2016-10-08</td><td>2016-10-12</td><td>3</td><td>4</td></tr>",
                            "<tr><td>anett3</td><td>Pivarcsi Anett</td><td>2016-04-10</td><td>2016-04-17</td><td>1</td><td>0</td></tr>",
                            "<tr><td>anett3</td><td>Pivarcsi Anett</td><td>2016-04-13</td><td>2016-04-19</td><td>3</td><td>1</td></tr>",
                            "<tr><td>anett3</td><td>Pivarcsi Anett</td><td>2016-04-15</td><td>2016-04-19</td><td>3</td><td>4</td></tr>",
                            "<tr><td>anett3</td><td>Pivarcsi Anett</td><td>2016-04-28</td><td>2016-05-02</td><td>3</td><td>7</td></tr>",
                            "<tr><td>anett3</td><td>Pivarcsi Anett</td><td>2016-08-15</td><td>2016-08-16</td><td>2</td><td>9</td></tr>",
                            "<tr><td>anett3</td><td>Pivarcsi Anett</td><td>2016-08-17</td><td>2016-08-23</td><td>3</td><td>8</td></tr>",
                            "<tr><td>anett3</td><td>Pivarcsi Anett</td><td>2016-10-12</td><td>2016-10-19</td><td>3</td><td>8</td></tr>",
                            "<tr><td>anett3</td><td>Pivarcsi Anett</td><td>2016-10-16</td><td>2016-10-21</td><td>1</td><td>8</td></tr>",
                            "<tr><td>aniko</td><td>Tóth Anikó</td><td>2016-06-25</td><td>2016-06-30</td><td>3</td><td>0</td></tr>",
                            "<tr><td>aniko</td><td>Tóth Anikó</td><td>2017-02-12</td><td>2017-02-14</td><td>3</td><td>3</td></tr>",
                            "<tr><td>aniko</td><td>Tóth Anikó</td><td>2017-02-23</td><td>2017-02-24</td><td>2</td><td>6</td></tr>",
                            "<tr><td>aniko4</td><td>Böröcz Anikó</td><td>2016-07-02</td><td>2016-07-09</td><td>1</td><td>0</td></tr>",
                            "<tr><td>aniko4</td><td>Böröcz Anikó</td><td>2016-07-22</td><td>2016-07-25</td><td>3</td><td>1</td></tr>",
                            "<tr><td>aniko4</td><td>Böröcz Anikó</td><td>2016-09-05</td><td>2016-09-07</td><td>4</td><td>4</td></tr>",
                            "<tr><td>aniko4</td><td>Böröcz Anikó</td><td>2016-10-16</td><td>2016-10-18</td><td>3</td><td>8</td></tr>",
                            "<tr><td>ANIKOS</td><td>Simon Anikó</td><td>2016-04-19</td><td>2016-04-24</td><td>2</td><td>0</td></tr>",
                            "<tr><td>ANIKOS</td><td>Simon Anikó</td><td>2016-05-24</td><td>2016-05-25</td><td>3</td><td>2</td></tr>",
                            "<tr><td>ANIKOS</td><td>Simon Anikó</td><td>2016-06-16</td><td>2016-06-23</td><td>1</td><td>5</td></tr>",
                            "<tr><td>ANIKOS</td><td>Simon Anikó</td><td>2016-06-27</td><td>2016-06-30</td><td>2</td><td>6</td></tr>",
                            "<tr><td>ANIKOS</td><td>Simon Anikó</td><td>2016-07-17</td><td>2016-07-22</td><td>3</td><td>6</td></tr>",
                            "<tr><td>ANIKOS</td><td>Simon Anikó</td><td>2016-08-26</td><td>2016-09-02</td><td>2</td><td>6</td></tr>",
                            "<tr><td>ANIKOS</td><td>Simon Anikó</td><td>2016-10-08</td><td>2016-10-14</td><td>2</td><td>7</td></tr>",
                            "<tr><td>ANIKOS</td><td>Simon Anikó</td><td>2016-10-29</td><td>2016-11-05</td><td>3</td><td>7</td></tr>",
                            "<tr><td>ANIKOS</td><td>Simon Anikó</td><td>2016-11-10</td><td>2016-11-15</td><td>2</td><td>7</td></tr>",
                            "<tr><td>anita</td><td>Hamvay-Kovács Anita</td><td>2016-09-28</td><td>2016-10-02</td><td>4</td><td>0</td></tr>",
                            "<tr><td>anita</td><td>Hamvay-Kovács Anita</td><td>2016-10-01</td><td>2016-10-04</td><td>2</td><td>4</td></tr>",
                            "<tr><td>anita</td><td>Hamvay-Kovács Anita</td><td>2017-02-19</td><td>2017-02-22</td><td>2</td><td>6</td></tr>",
                            "<tr><td>anita</td><td>Hamvay-Kovács Anita</td><td>2017-02-20</td><td>2017-02-25</td><td>2</td><td>8</td></tr>",
                            "<tr><td>annamaria1</td><td>Szűcs Annamária</td><td>2016-06-06</td><td>2016-06-07</td><td>3</td><td>0</td></tr>",
                            "<tr><td>annamaria1</td><td>Szűcs Annamária</td><td>2017-01-30</td><td>2017-01-31</td><td>4</td><td>3</td></tr>",
                            "<tr><td>ANNAMARIAR</td><td>Regős Annamária</td><td>2016-06-08</td><td>2016-06-11</td><td>2</td><td>0</td></tr>",
                            "<tr><td>ANNAMARIAR</td><td>Regős Annamária</td><td>2016-07-18</td><td>2016-07-21</td><td>1</td><td>2</td></tr>",
                            "<tr><td>ANNAMARIAR</td><td>Regős Annamária</td><td>2016-09-23</td><td>2016-09-27</td><td>2</td><td>3</td></tr>",
                            "<tr><td>ANNAMARIAR</td><td>Regős Annamária</td><td>2016-11-11</td><td>2016-11-12</td><td>3</td><td>5</td></tr>",
                            "<tr><td>ANNAMARIAR</td><td>Regős Annamária</td><td>2017-01-10</td><td>2017-01-13</td><td>2</td><td>6</td></tr>",
                            "<tr><td>ANNAMARIAR</td><td>Regős Annamária</td><td>2017-02-16</td><td>2017-02-18</td><td>2</td><td>7</td></tr>",
                            "<tr><td>aron2</td><td>Jakab Áron</td><td>2016-04-11</td><td>2016-04-12</td><td>3</td><td>0</td></tr>",
                            "<tr><td>aron2</td><td>Jakab Áron</td><td>2016-07-04</td><td>2016-07-06</td><td>3</td><td>3</td></tr>",
                            "<tr><td>aron2</td><td>Jakab Áron</td><td>2016-10-23</td><td>2016-10-27</td><td>2</td><td>6</td></tr>",
                            "<tr><td>aron2</td><td>Jakab Áron</td><td>2016-11-05</td><td>2016-11-09</td><td>2</td><td>8</td></tr>",
                            "<tr><td>aron2</td><td>Jakab Áron</td><td>2017-01-17</td><td>2017-01-18</td><td>3</td><td>7</td></tr>",
                            "<tr><td>aron2</td><td>Jakab Áron</td><td>2017-02-26</td><td>2017-02-27</td><td>3</td><td>7</td></tr>",
                            "<tr><td>ARONK</td><td>Kelemen Áron</td><td>2016-04-06</td><td>2016-04-08</td><td>2</td><td>0</td></tr>",
                            "<tr><td>ARONK</td><td>Kelemen Áron</td><td>2016-05-14</td><td>2016-05-20</td><td>4</td><td>2</td></tr>",
                            "<tr><td>ARONK</td><td>Kelemen Áron</td><td>2016-06-04</td><td>2016-06-09</td><td>2</td><td>6</td></tr>",
                            "<tr><td>ARONK</td><td>Kelemen Áron</td><td>2016-06-07</td><td>2016-06-13</td><td>3</td><td>8</td></tr>",
                            "<tr><td>ARONK</td><td>Kelemen Áron</td><td>2016-07-03</td><td>2016-07-07</td><td>2</td><td>9</td></tr>",
                            "<tr><td>ARONK</td><td>Kelemen Áron</td><td>2016-08-05</td><td>2016-08-08</td><td>4</td><td>7</td></tr>",
                            "<tr><td>ARONK</td><td>Kelemen Áron</td><td>2016-09-08</td><td>2016-09-15</td><td>2</td><td>9</td></tr>",
                            "<tr><td>ARONK</td><td>Kelemen Áron</td><td>2016-11-03</td><td>2016-11-10</td><td>2</td><td>8</td></tr>",
                            "<tr><td>ARONK</td><td>Kelemen Áron</td><td>2016-11-05</td><td>2016-11-07</td><td>2</td><td>8</td></tr>",
                            "<tr><td>ARONK</td><td>Kelemen Áron</td><td>2016-12-07</td><td>2016-12-12</td><td>3</td><td>6</td></tr>",
                            "<tr><td>ARONK</td><td>Kelemen Áron</td><td>2017-01-01</td><td>2017-01-03</td><td>2</td><td>7</td></tr>",
                            "<tr><td>ARONK</td><td>Kelemen Áron</td><td>2017-01-30</td><td>2017-02-03</td><td>2</td><td>7</td></tr>",
                            "<tr><td>ARONK</td><td>Kelemen Áron</td><td>2017-02-21</td><td>2017-02-23</td><td>2</td><td>7</td></tr>",
                            "<tr><td>arpad2</td><td>Ötvös Árpád</td><td>2016-06-05</td><td>2016-06-07</td><td>2</td><td>0</td></tr>",
                            "<tr><td>arpad2</td><td>Ötvös Árpád</td><td>2016-08-23</td><td>2016-08-25</td><td>2</td><td>2</td></tr>",
                            "<tr><td>arpad2</td><td>Ötvös Árpád</td><td>2016-09-28</td><td>2016-09-30</td><td>2</td><td>4</td></tr>",
                            "<tr><td>arpad2</td><td>Ötvös Árpád</td><td>2016-10-13</td><td>2016-10-19</td><td>3</td><td>6</td></tr>",
                            "<tr><td>arpad2</td><td>Ötvös Árpád</td><td>2016-11-06</td><td>2016-11-10</td><td>2</td><td>7</td></tr>",
                            "<tr><td>arpad2</td><td>Ötvös Árpád</td><td>2016-12-24</td><td>2016-12-27</td><td>3</td><td>7</td></tr>",
                            "<tr><td>arpad2</td><td>Ötvös Árpád</td><td>2017-02-18</td><td>2017-02-19</td><td>4</td><td>8</td></tr>",
                            "<tr><td>ARPADH</td><td>Horváth Árpád</td><td>2016-06-06</td><td>2016-06-07</td><td>3</td><td>0</td></tr>",
                            "<tr><td>ARPADH</td><td>Horváth Árpád</td><td>2016-07-14</td><td>2016-07-18</td><td>2</td><td>3</td></tr>",
                            "<tr><td>ARPADH</td><td>Horváth Árpád</td><td>2016-09-16</td><td>2016-09-23</td><td>1</td><td>5</td></tr>",
                            "<tr><td>ARPADH</td><td>Horváth Árpád</td><td>2016-09-18</td><td>2016-09-25</td><td>1</td><td>6</td></tr>",
                            "<tr><td>ARPADH</td><td>Horváth Árpád</td><td>2016-12-04</td><td>2016-12-10</td><td>1</td><td>4</td></tr>",
                            "<tr><td>ARPADH</td><td>Horváth Árpád</td><td>2016-12-18</td><td>2016-12-19</td><td>3</td><td>3</td></tr>",
                            "<tr><td>ARPADH</td><td>Horváth Árpád</td><td>2017-02-16</td><td>2017-02-18</td><td>2</td><td>5</td></tr>",
                            "<tr><td>ARPADM</td><td>Móricz Árpád</td><td>2016-05-29</td><td>2016-06-01</td><td>2</td><td>0</td></tr>",
                            "<tr><td>ARPADM</td><td>Móricz Árpád</td><td>2016-08-12</td><td>2016-08-16</td><td>2</td><td>2</td></tr>",
                            "<tr><td>ARPADM</td><td>Móricz Árpád</td><td>2016-11-09</td><td>2016-11-11</td><td>2</td><td>4</td></tr>",
                            "<tr><td>ARPADM</td><td>Móricz Árpád</td><td>2016-12-14</td><td>2016-12-17</td><td>3</td><td>6</td></tr>",
                            "<tr><td>ARPADM</td><td>Móricz Árpád</td><td>2017-01-05</td><td>2017-01-10</td><td>1</td><td>7</td></tr>",
                            "<tr><td>ARPADM</td><td>Móricz Árpád</td><td>2017-02-12</td><td>2017-02-14</td><td>3</td><td>6</td></tr>",
                            "<tr><td>attila</td><td>Csóti Attila</td><td>2016-09-30</td><td>2016-10-07</td><td>3</td><td>0</td></tr>",
                            "<tr><td>attila</td><td>Csóti Attila</td><td>2016-10-15</td><td>2016-10-19</td><td>1</td><td>3</td></tr>",
                            "<tr><td>attila</td><td>Csóti Attila</td><td>2016-12-22</td><td>2016-12-26</td><td>2</td><td>4</td></tr>",
                            "<tr><td>attila1</td><td>Gulyás Attila</td><td>2016-05-20</td><td>2016-05-26</td><td>1</td><td>0</td></tr>",
                            "<tr><td>attila1</td><td>Gulyás Attila</td><td>2016-10-09</td><td>2016-10-12</td><td>2</td><td>1</td></tr>",
                            "<tr><td>attila1</td><td>Gulyás Attila</td><td>2016-10-15</td><td>2016-10-16</td><td>3</td><td>3</td></tr>",
                            "<tr><td>attila1</td><td>Gulyás Attila</td><td>2016-10-30</td><td>2016-11-05</td><td>2</td><td>6</td></tr>",
                            "<tr><td>attila1</td><td>Gulyás Attila</td><td>2016-11-10</td><td>2016-11-14</td><td>2</td><td>7</td></tr>",
                            "<tr><td>attila1</td><td>Gulyás Attila</td><td>2017-01-23</td><td>2017-01-30</td><td>4</td><td>7</td></tr>",
                            "<tr><td>attila4</td><td>Baróti Attila</td><td>2016-08-18</td><td>2016-08-23</td><td>4</td><td>0</td></tr>",
                            "<tr><td>attila4</td><td>Baróti Attila</td><td>2016-12-31</td><td>2017-01-01</td><td>2</td><td>4</td></tr>",
                            "<tr><td>attila4</td><td>Baróti Attila</td><td>2017-02-15</td><td>2017-02-22</td><td>2</td><td>6</td></tr>",
                            "<tr><td>ATTILAO</td><td>Opra Attila</td><td>2016-05-21</td><td>2016-05-26</td><td>3</td><td>0</td></tr>",
                            "<tr><td>ATTILAO</td><td>Opra Attila</td><td>2016-06-04</td><td>2016-06-11</td><td>3</td><td>3</td></tr>",
                            "<tr><td>ATTILAO</td><td>Opra Attila</td><td>2016-10-30</td><td>2016-11-03</td><td>2</td><td>6</td></tr>",
                            "<tr><td>ATTILAO</td><td>Opra Attila</td><td>2017-02-22</td><td>2017-02-25</td><td>3</td><td>8</td></tr>",
                            "<tr><td>balazs1</td><td>Bozsik Balázs</td><td>2016-05-07</td><td>2016-05-14</td><td>2</td><td>0</td></tr>",
                            "<tr><td>balazs1</td><td>Bozsik Balázs</td><td>2016-07-22</td><td>2016-07-26</td><td>4</td><td>2</td></tr>",
                            "<tr><td>balazs1</td><td>Bozsik Balázs</td><td>2016-12-26</td><td>2016-12-28</td><td>3</td><td>6</td></tr>",
                            "<tr><td>balazs1</td><td>Bozsik Balázs</td><td>2017-01-01</td><td>2017-01-05</td><td>2</td><td>9</td></tr>",
                            "<tr><td>balazs1</td><td>Bozsik Balázs</td><td>2017-02-10</td><td>2017-02-14</td><td>3</td><td>9</td></tr>",
                            "<tr><td>balazs1</td><td>Bozsik Balázs</td><td>2017-02-12</td><td>2017-02-14</td><td>2</td><td>8</td></tr>",
                            "<tr><td>balazs2</td><td>Szűcs Balázs</td><td>2016-04-16</td><td>2016-04-19</td><td>2</td><td>0</td></tr>",
                            "<tr><td>balazs2</td><td>Szűcs Balázs</td><td>2016-05-22</td><td>2016-05-29</td><td>3</td><td>2</td></tr>",
                            "<tr><td>balazs2</td><td>Szűcs Balázs</td><td>2016-05-28</td><td>2016-06-01</td><td>3</td><td>5</td></tr>",
                            "<tr><td>balazs2</td><td>Szűcs Balázs</td><td>2016-07-08</td><td>2016-07-12</td><td>3</td><td>8</td></tr>",
                            "<tr><td>balazs2</td><td>Szűcs Balázs</td><td>2016-07-10</td><td>2016-07-17</td><td>3</td><td>9</td></tr>",
                            "<tr><td>balazs2</td><td>Szűcs Balázs</td><td>2016-07-20</td><td>2016-07-25</td><td>2</td><td>9</td></tr>",
                            "<tr><td>balazs2</td><td>Szűcs Balázs</td><td>2016-08-21</td><td>2016-08-22</td><td>3</td><td>8</td></tr>",
                            "<tr><td>balazs2</td><td>Szűcs Balázs</td><td>2016-09-12</td><td>2016-09-14</td><td>3</td><td>8</td></tr>",
                            "<tr><td>balazs2</td><td>Szűcs Balázs</td><td>2016-11-03</td><td>2016-11-05</td><td>3</td><td>8</td></tr>",
                            "<tr><td>balazs2</td><td>Szűcs Balázs</td><td>2017-02-27</td><td>2017-03-06</td><td>1</td><td>9</td></tr>",
                            "<tr><td>balazs3</td><td>Bakódy Balázs</td><td>2016-07-17</td><td>2016-07-21</td><td>2</td><td>0</td></tr>",
                            "<tr><td>balazs3</td><td>Bakódy Balázs</td><td>2016-07-27</td><td>2016-07-31</td><td>4</td><td>2</td></tr>",
                            "<tr><td>balazs3</td><td>Bakódy Balázs</td><td>2016-08-24</td><td>2016-08-28</td><td>3</td><td>6</td></tr>",
                            "<tr><td>balazs3</td><td>Bakódy Balázs</td><td>2016-09-15</td><td>2016-09-16</td><td>3</td><td>9</td></tr>",
                            "<tr><td>balazs3</td><td>Bakódy Balázs</td><td>2016-12-05</td><td>2016-12-11</td><td>3</td><td>10</td></tr>",
                            "<tr><td>balazs3</td><td>Bakódy Balázs</td><td>2017-01-20</td><td>2017-01-22</td><td>2</td><td>9</td></tr>",
                            "<tr><td>balint</td><td>Horváth Bálint</td><td>2016-04-22</td><td>2016-04-29</td><td>2</td><td>0</td></tr>",
                            "<tr><td>balint</td><td>Horváth Bálint</td><td>2016-10-09</td><td>2016-10-11</td><td>2</td><td>2</td></tr>",
                            "<tr><td>balint</td><td>Horváth Bálint</td><td>2016-11-24</td><td>2016-11-29</td><td>3</td><td>4</td></tr>",
                            "<tr><td>balint1</td><td>Molnár Bálint</td><td>2016-06-07</td><td>2016-06-11</td><td>3</td><td>0</td></tr>",
                            "<tr><td>balint1</td><td>Molnár Bálint</td><td>2016-06-07</td><td>2016-06-12</td><td>3</td><td>3</td></tr>",
                            "<tr><td>balint1</td><td>Molnár Bálint</td><td>2016-06-10</td><td>2016-06-12</td><td>1</td><td>6</td></tr>",
                            "<tr><td>balint1</td><td>Molnár Bálint</td><td>2016-07-26</td><td>2016-07-28</td><td>2</td><td>7</td></tr>",
                            "<tr><td>balint1</td><td>Molnár Bálint</td><td>2016-08-03</td><td>2016-08-08</td><td>2</td><td>6</td></tr>",
                            "<tr><td>balint1</td><td>Molnár Bálint</td><td>2016-09-16</td><td>2016-09-21</td><td>1</td><td>5</td></tr>",
                            "<tr><td>balint1</td><td>Molnár Bálint</td><td>2016-11-07</td><td>2016-11-10</td><td>2</td><td>5</td></tr>",
                            "<tr><td>balint1</td><td>Molnár Bálint</td><td>2016-12-17</td><td>2016-12-22</td><td>3</td><td>5</td></tr>",
                            "<tr><td>balint1</td><td>Molnár Bálint</td><td>2016-12-29</td><td>2016-12-31</td><td>3</td><td>6</td></tr>",
                            "<tr><td>balint1</td><td>Molnár Bálint</td><td>2017-01-03</td><td>2017-01-08</td><td>2</td><td>8</td></tr>",
                            "<tr><td>balint2</td><td>Vukasinovity Bálint</td><td>2016-07-21</td><td>2016-07-26</td><td>1</td><td>0</td></tr>",
                            "<tr><td>balint2</td><td>Vukasinovity Bálint</td><td>2016-12-04</td><td>2016-12-06</td><td>3</td><td>1</td></tr>",
                            "<tr><td>balu</td><td>Endresz Bálint</td><td>2016-08-06</td><td>2016-08-10</td><td>2</td><td>0</td></tr>",
                            "<tr><td>balu</td><td>Endresz Bálint</td><td>2016-12-22</td><td>2016-12-23</td><td>2</td><td>2</td></tr>",
                            "<tr><td>beata4</td><td>Bagi Beáta</td><td>2016-04-20</td><td>2016-04-21</td><td>2</td><td>0</td></tr>",
                            "<tr><td>beata4</td><td>Bagi Beáta</td><td>2016-06-03</td><td>2016-06-04</td><td>2</td><td>2</td></tr>",
                            "<tr><td>beata4</td><td>Bagi Beáta</td><td>2016-07-03</td><td>2016-07-06</td><td>1</td><td>4</td></tr>",
                            "<tr><td>beata4</td><td>Bagi Beáta</td><td>2016-08-25</td><td>2016-08-27</td><td>3</td><td>5</td></tr>",
                            "<tr><td>beata4</td><td>Bagi Beáta</td><td>2016-10-01</td><td>2016-10-05</td><td>1</td><td>6</td></tr>",
                            "<tr><td>beata4</td><td>Bagi Beáta</td><td>2016-10-03</td><td>2016-10-06</td><td>3</td><td>5</td></tr>",
                            "<tr><td>BEATRIXK</td><td>Kerényi Beatrix</td><td>2016-06-10</td><td>2016-06-11</td><td>2</td><td>0</td></tr>",
                            "<tr><td>BEATRIXK</td><td>Kerényi Beatrix</td><td>2016-06-10</td><td>2016-06-14</td><td>2</td><td>2</td></tr>",
                            "<tr><td>BEATRIXK</td><td>Kerényi Beatrix</td><td>2016-06-19</td><td>2016-06-21</td><td>3</td><td>4</td></tr>",
                            "<tr><td>BEATRIXK</td><td>Kerényi Beatrix</td><td>2016-08-12</td><td>2016-08-18</td><td>4</td><td>7</td></tr>",
                            "<tr><td>BEATRIXK</td><td>Kerényi Beatrix</td><td>2016-10-23</td><td>2016-10-28</td><td>2</td><td>9</td></tr>",
                            "<tr><td>BEATRIXK</td><td>Kerényi Beatrix</td><td>2016-11-14</td><td>2016-11-19</td><td>2</td><td>9</td></tr>",
                            "<tr><td>BEATRIXK</td><td>Kerényi Beatrix</td><td>2016-12-12</td><td>2016-12-14</td><td>3</td><td>8</td></tr>",
                            "<tr><td>BEATRIXK</td><td>Kerényi Beatrix</td><td>2016-12-17</td><td>2016-12-22</td><td>4</td><td>7</td></tr>",
                            "<tr><td>BEATRIXK</td><td>Kerényi Beatrix</td><td>2017-02-08</td><td>2017-02-09</td><td>3</td><td>9</td></tr>",
                            "<tr><td>BEATRIXS</td><td>Szekendi Beatrix</td><td>2016-04-18</td><td>2016-04-24</td><td>1</td><td>0</td></tr>",
                            "<tr><td>BEATRIXS</td><td>Szekendi Beatrix</td><td>2016-06-11</td><td>2016-06-14</td><td>3</td><td>1</td></tr>",
                            "<tr><td>BEATRIXS</td><td>Szekendi Beatrix</td><td>2016-10-01</td><td>2016-10-03</td><td>3</td><td>4</td></tr>",
                            "<tr><td>BEATRIXS</td><td>Szekendi Beatrix</td><td>2016-10-01</td><td>2016-10-05</td><td>3</td><td>7</td></tr>",
                            "<tr><td>BEATRIXS</td><td>Szekendi Beatrix</td><td>2016-12-21</td><td>2016-12-27</td><td>2</td><td>9</td></tr>",
                            "<tr><td>BEATRIXS</td><td>Szekendi Beatrix</td><td>2017-02-03</td><td>2017-02-04</td><td>2</td><td>8</td></tr>",
                            "<tr><td>BELAF</td><td>Farkas Béla</td><td>2016-07-27</td><td>2016-07-30</td><td>3</td><td>0</td></tr>",
                            "<tr><td>BELAF</td><td>Farkas Béla</td><td>2016-07-29</td><td>2016-07-31</td><td>2</td><td>3</td></tr>",
                            "<tr><td>BELAF</td><td>Farkas Béla</td><td>2016-08-29</td><td>2016-08-31</td><td>2</td><td>5</td></tr>",
                            "<tr><td>BELAF</td><td>Farkas Béla</td><td>2016-11-03</td><td>2016-11-09</td><td>4</td><td>7</td></tr>",
                            "<tr><td>BELAF</td><td>Farkas Béla</td><td>2016-12-02</td><td>2016-12-04</td><td>3</td><td>8</td></tr>",
                            "<tr><td>BELAF</td><td>Farkas Béla</td><td>2016-12-06</td><td>2016-12-09</td><td>1</td><td>9</td></tr>",
                            "<tr><td>bence</td><td>Győrffy Bence</td><td>2016-05-08</td><td>2016-05-11</td><td>2</td><td>0</td></tr>",
                            "<tr><td>bence</td><td>Győrffy Bence</td><td>2016-05-29</td><td>2016-06-03</td><td>1</td><td>2</td></tr>",
                            "<tr><td>bence</td><td>Győrffy Bence</td><td>2016-07-24</td><td>2016-07-30</td><td>2</td><td>3</td></tr>",
                            "<tr><td>bence</td><td>Győrffy Bence</td><td>2016-07-25</td><td>2016-08-01</td><td>3</td><td>5</td></tr>",
                            "<tr><td>bence</td><td>Győrffy Bence</td><td>2016-09-03</td><td>2016-09-06</td><td>3</td><td>6</td></tr>",
                            "<tr><td>bence</td><td>Győrffy Bence</td><td>2016-10-30</td><td>2016-11-02</td><td>4</td><td>8</td></tr>",
                            "<tr><td>bence</td><td>Győrffy Bence</td><td>2016-12-17</td><td>2016-12-18</td><td>2</td><td>10</td></tr>",
                            "<tr><td>bence</td><td>Győrffy Bence</td><td>2016-12-26</td><td>2016-12-27</td><td>2</td><td>9</td></tr>",
                            "<tr><td>bence</td><td>Győrffy Bence</td><td>2017-02-05</td><td>2017-02-09</td><td>3</td><td>8</td></tr>",
                            "<tr><td>BENCEB</td><td>Bajusz Bence</td><td>2016-05-14</td><td>2016-05-17</td><td>3</td><td>0</td></tr>",
                            "<tr><td>BENCEB</td><td>Bajusz Bence</td><td>2016-06-03</td><td>2016-06-09</td><td>2</td><td>3</td></tr>",
                            "<tr><td>BENCEB</td><td>Bajusz Bence</td><td>2016-08-01</td><td>2016-08-02</td><td>2</td><td>5</td></tr>",
                            "<tr><td>BENCEB</td><td>Bajusz Bence</td><td>2016-10-22</td><td>2016-10-29</td><td>3</td><td>7</td></tr>",
                            "<tr><td>BENCEB</td><td>Bajusz Bence</td><td>2016-11-28</td><td>2016-12-02</td><td>2</td><td>7</td></tr>",
                            "<tr><td>BENCEB</td><td>Bajusz Bence</td><td>2017-02-12</td><td>2017-02-19</td><td>3</td><td>7</td></tr>",
                            "<tr><td>bernadett1</td><td>Simon Bernadett</td><td>2016-06-12</td><td>2016-06-17</td><td>3</td><td>0</td></tr>",
                            "<tr><td>bernadett1</td><td>Simon Bernadett</td><td>2016-10-08</td><td>2016-10-09</td><td>4</td><td>3</td></tr>",
                            "<tr><td>bernadett1</td><td>Simon Bernadett</td><td>2016-10-15</td><td>2016-10-22</td><td>3</td><td>7</td></tr>",
                            "<tr><td>bernadett1</td><td>Simon Bernadett</td><td>2016-10-26</td><td>2016-11-02</td><td>3</td><td>10</td></tr>",
                            "<tr><td>bernadett1</td><td>Simon Bernadett</td><td>2016-10-28</td><td>2016-11-01</td><td>3</td><td>10</td></tr>",
                            "<tr><td>bernadett1</td><td>Simon Bernadett</td><td>2017-02-14</td><td>2017-02-15</td><td>3</td><td>9</td></tr>",
                            "<tr><td>bernadett1</td><td>Simon Bernadett</td><td>2017-02-24</td><td>2017-03-03</td><td>1</td><td>9</td></tr>",
                            "<tr><td>bernadett2</td><td>Kovács Bernadett</td><td>2016-05-01</td><td>2016-05-03</td><td>2</td><td>0</td></tr>",
                            "<tr><td>bernadett2</td><td>Kovács Bernadett</td><td>2016-06-17</td><td>2016-06-23</td><td>3</td><td>2</td></tr>",
                            "<tr><td>bernadett2</td><td>Kovács Bernadett</td><td>2016-08-23</td><td>2016-08-29</td><td>2</td><td>5</td></tr>",
                            "<tr><td>bernadett2</td><td>Kovács Bernadett</td><td>2016-08-25</td><td>2016-08-27</td><td>3</td><td>7</td></tr>",
                            "<tr><td>bernadett2</td><td>Kovács Bernadett</td><td>2016-09-07</td><td>2016-09-13</td><td>3</td><td>8</td></tr>",
                            "<tr><td>bernadett2</td><td>Kovács Bernadett</td><td>2016-10-30</td><td>2016-11-06</td><td>3</td><td>8</td></tr>",
                            "<tr><td>bernadett2</td><td>Kovács Bernadett</td><td>2016-12-17</td><td>2016-12-20</td><td>1</td><td>9</td></tr>",
                            "<tr><td>bernadett2</td><td>Kovács Bernadett</td><td>2017-01-24</td><td>2017-01-30</td><td>3</td><td>7</td></tr>",
                            "<tr><td>BERNADETTO</td><td>Orbán Bernadett</td><td>2016-04-10</td><td>2016-04-17</td><td>2</td><td>0</td></tr>",
                            "<tr><td>BERNADETTO</td><td>Orbán Bernadett</td><td>2016-04-17</td><td>2016-04-19</td><td>2</td><td>2</td></tr>",
                            "<tr><td>BERNADETTO</td><td>Orbán Bernadett</td><td>2016-06-07</td><td>2016-06-13</td><td>3</td><td>4</td></tr>",
                            "<tr><td>BERNADETTO</td><td>Orbán Bernadett</td><td>2016-06-10</td><td>2016-06-16</td><td>4</td><td>7</td></tr>",
                            "<tr><td>BERNADETTO</td><td>Orbán Bernadett</td><td>2016-10-04</td><td>2016-10-05</td><td>2</td><td>9</td></tr>",
                            "<tr><td>BERNADETTO</td><td>Orbán Bernadett</td><td>2017-01-01</td><td>2017-01-02</td><td>3</td><td>9</td></tr>",
                            "<tr><td>BERNADETTO</td><td>Orbán Bernadett</td><td>2017-01-28</td><td>2017-02-03</td><td>2</td><td>9</td></tr>",
                            "<tr><td>bertalan</td><td>Csiger Bertalan</td><td>2016-05-18</td><td>2016-05-23</td><td>2</td><td>0</td></tr>",
                            "<tr><td>bertalan</td><td>Csiger Bertalan</td><td>2016-06-20</td><td>2016-06-21</td><td>1</td><td>2</td></tr>",
                            "<tr><td>bertalan</td><td>Csiger Bertalan</td><td>2016-11-03</td><td>2016-11-10</td><td>2</td><td>3</td></tr>",
                            "<tr><td>bertalan</td><td>Csiger Bertalan</td><td>2016-11-26</td><td>2016-11-29</td><td>3</td><td>5</td></tr>",
                            "<tr><td>bertalan</td><td>Csiger Bertalan</td><td>2017-02-16</td><td>2017-02-22</td><td>2</td><td>6</td></tr>",
                            "<tr><td>bertalan</td><td>Csiger Bertalan</td><td>2017-02-20</td><td>2017-02-24</td><td>4</td><td>7</td></tr>",
                            "<tr><td>brigitta</td><td>Székely Brigitta</td><td>2016-05-30</td><td>2016-06-06</td><td>3</td><td>0</td></tr>",
                            "<tr><td>brigitta</td><td>Székely Brigitta</td><td>2016-08-28</td><td>2016-09-01</td><td>3</td><td>3</td></tr>",
                            "<tr><td>brigitta</td><td>Székely Brigitta</td><td>2016-10-21</td><td>2016-10-28</td><td>3</td><td>6</td></tr>",
                            "<tr><td>brigitta</td><td>Székely Brigitta</td><td>2016-12-17</td><td>2016-12-22</td><td>2</td><td>9</td></tr>",
                            "<tr><td>brigitta</td><td>Székely Brigitta</td><td>2017-01-23</td><td>2017-01-25</td><td>1</td><td>8</td></tr>",
                            "<tr><td>brigitta3</td><td>Pataki Brigitta</td><td>2016-06-01</td><td>2016-06-05</td><td>2</td><td>0</td></tr>",
                            "<tr><td>brigitta3</td><td>Pataki Brigitta</td><td>2016-06-13</td><td>2016-06-17</td><td>3</td><td>2</td></tr>",
                            "<tr><td>brigitta3</td><td>Pataki Brigitta</td><td>2016-10-10</td><td>2016-10-14</td><td>2</td><td>5</td></tr>",
                            "<tr><td>brigitta3</td><td>Pataki Brigitta</td><td>2016-11-03</td><td>2016-11-09</td><td>3</td><td>7</td></tr>",
                            "<tr><td>brigitta3</td><td>Pataki Brigitta</td><td>2017-02-09</td><td>2017-02-16</td><td>2</td><td>8</td></tr>",
                            "<tr><td>csongor3</td><td>Nagymihály Csongor</td><td>2016-05-01</td><td>2016-05-04</td><td>2</td><td>0</td></tr>",
                            "<tr><td>csongor3</td><td>Nagymihály Csongor</td><td>2016-05-08</td><td>2016-05-15</td><td>3</td><td>2</td></tr>",
                            "<tr><td>csongor3</td><td>Nagymihály Csongor</td><td>2016-06-04</td><td>2016-06-05</td><td>2</td><td>5</td></tr>",
                            "<tr><td>csongor3</td><td>Nagymihály Csongor</td><td>2016-06-10</td><td>2016-06-17</td><td>3</td><td>7</td></tr>",
                            "<tr><td>csongor3</td><td>Nagymihály Csongor</td><td>2016-06-11</td><td>2016-06-14</td><td>2</td><td>8</td></tr>",
                            "<tr><td>csongor3</td><td>Nagymihály Csongor</td><td>2016-07-09</td><td>2016-07-10</td><td>4</td><td>7</td></tr>",
                            "<tr><td>csongor3</td><td>Nagymihály Csongor</td><td>2016-11-12</td><td>2016-11-17</td><td>3</td><td>9</td></tr>",
                            "<tr><td>csongor3</td><td>Nagymihály Csongor</td><td>2017-02-13</td><td>2017-02-19</td><td>3</td><td>9</td></tr>",
                            "<tr><td>dani</td><td>Vörös Dániel</td><td>2016-06-06</td><td>2016-06-10</td><td>3</td><td>0</td></tr>",
                            "<tr><td>dani</td><td>Vörös Dániel</td><td>2016-07-11</td><td>2016-07-12</td><td>3</td><td>3</td></tr>",
                            "<tr><td>dani</td><td>Vörös Dániel</td><td>2016-08-06</td><td>2016-08-09</td><td>2</td><td>6</td></tr>",
                            "<tr><td>dani</td><td>Vörös Dániel</td><td>2016-09-19</td><td>2016-09-25</td><td>4</td><td>8</td></tr>",
                            "<tr><td>dani</td><td>Vörös Dániel</td><td>2016-10-01</td><td>2016-10-02</td><td>1</td><td>9</td></tr>",
                            "<tr><td>dani</td><td>Vörös Dániel</td><td>2016-11-22</td><td>2016-11-24</td><td>2</td><td>7</td></tr>",
                            "<tr><td>dani</td><td>Vörös Dániel</td><td>2017-01-17</td><td>2017-01-23</td><td>2</td><td>7</td></tr>",
                            "<tr><td>dani</td><td>Vörös Dániel</td><td>2017-01-22</td><td>2017-01-29</td><td>1</td><td>5</td></tr>",
                            "<tr><td>dani</td><td>Vörös Dániel</td><td>2017-02-25</td><td>2017-03-01</td><td>3</td><td>5</td></tr>",
                            "<tr><td>daniel</td><td>Rácz Dániel</td><td>2016-04-10</td><td>2016-04-11</td><td>4</td><td>0</td></tr>",
                            "<tr><td>daniel</td><td>Rácz Dániel</td><td>2016-04-22</td><td>2016-04-25</td><td>2</td><td>4</td></tr>",
                            "<tr><td>daniel</td><td>Rácz Dániel</td><td>2016-05-09</td><td>2016-05-13</td><td>3</td><td>6</td></tr>",
                            "<tr><td>daniel</td><td>Rácz Dániel</td><td>2016-09-08</td><td>2016-09-10</td><td>4</td><td>9</td></tr>",
                            "<tr><td>daniel</td><td>Rácz Dániel</td><td>2016-11-13</td><td>2016-11-19</td><td>3</td><td>9</td></tr>",
                            "<tr><td>daniel</td><td>Rácz Dániel</td><td>2016-12-25</td><td>2016-12-26</td><td>3</td><td>10</td></tr>",
                            "<tr><td>daniel</td><td>Rácz Dániel</td><td>2017-01-09</td><td>2017-01-11</td><td>1</td><td>10</td></tr>",
                            "<tr><td>daniel</td><td>Rácz Dániel</td><td>2017-02-12</td><td>2017-02-13</td><td>3</td><td>7</td></tr>",
                            "<tr><td>daniel</td><td>Rácz Dániel</td><td>2017-02-20</td><td>2017-02-23</td><td>3</td><td>7</td></tr>",
                            "<tr><td>daniel1</td><td>Keszler Dániel</td><td>2016-04-10</td><td>2016-04-15</td><td>2</td><td>0</td></tr>",
                            "<tr><td>daniel1</td><td>Keszler Dániel</td><td>2016-05-10</td><td>2016-05-13</td><td>4</td><td>2</td></tr>",
                            "<tr><td>daniel1</td><td>Keszler Dániel</td><td>2016-05-26</td><td>2016-05-27</td><td>3</td><td>6</td></tr>",
                            "<tr><td>daniel1</td><td>Keszler Dániel</td><td>2016-11-09</td><td>2016-11-11</td><td>2</td><td>9</td></tr>",
                            "<tr><td>daniel1</td><td>Keszler Dániel</td><td>2016-11-23</td><td>2016-11-25</td><td>2</td><td>9</td></tr>",
                            "<tr><td>daniel1</td><td>Keszler Dániel</td><td>2017-01-05</td><td>2017-01-08</td><td>3</td><td>7</td></tr>",
                            "<tr><td>daniel1</td><td>Keszler Dániel</td><td>2017-03-01</td><td>2017-03-06</td><td>4</td><td>7</td></tr>",
                            "<tr><td>david</td><td>Ambrus Dávid</td><td>2016-05-18</td><td>2016-05-25</td><td>2</td><td>0</td></tr>",
                            "<tr><td>david</td><td>Ambrus Dávid</td><td>2016-06-09</td><td>2016-06-10</td><td>2</td><td>2</td></tr>",
                            "<tr><td>david</td><td>Ambrus Dávid</td><td>2016-06-30</td><td>2016-07-07</td><td>2</td><td>4</td></tr>",
                            "<tr><td>david</td><td>Ambrus Dávid</td><td>2016-07-18</td><td>2016-07-21</td><td>2</td><td>6</td></tr>",
                            "<tr><td>david</td><td>Ambrus Dávid</td><td>2016-08-05</td><td>2016-08-12</td><td>1</td><td>6</td></tr>",
                            "<tr><td>david</td><td>Ambrus Dávid</td><td>2016-08-20</td><td>2016-08-25</td><td>3</td><td>5</td></tr>",
                            "<tr><td>david</td><td>Ambrus Dávid</td><td>2016-08-22</td><td>2016-08-24</td><td>3</td><td>6</td></tr>",
                            "<tr><td>david</td><td>Ambrus Dávid</td><td>2016-10-30</td><td>2016-11-04</td><td>2</td><td>7</td></tr>",
                            "<tr><td>david</td><td>Ambrus Dávid</td><td>2017-01-18</td><td>2017-01-19</td><td>2</td><td>8</td></tr>",
                            "<tr><td>david1</td><td>Sobják Dávid</td><td>2016-09-20</td><td>2016-09-21</td><td>2</td><td>0</td></tr>",
                            "<tr><td>david1</td><td>Sobják Dávid</td><td>2016-10-01</td><td>2016-10-02</td><td>2</td><td>2</td></tr>",
                            "<tr><td>david1</td><td>Sobják Dávid</td><td>2016-11-19</td><td>2016-11-22</td><td>2</td><td>4</td></tr>",
                            "<tr><td>david1</td><td>Sobják Dávid</td><td>2016-12-30</td><td>2017-01-06</td><td>2</td><td>6</td></tr>",
                            "<tr><td>david1</td><td>Sobják Dávid</td><td>2017-02-17</td><td>2017-02-20</td><td>3</td><td>6</td></tr>",
                            "<tr><td>david1</td><td>Sobják Dávid</td><td>2017-02-25</td><td>2017-02-27</td><td>4</td><td>7</td></tr>",
                            "<tr><td>david4</td><td>Berta Dávid</td><td>2017-02-16</td><td>2017-02-19</td><td>3</td><td>0</td></tr>",
                            "<tr><td>debora</td><td>Barna Debóra</td><td>2016-06-22</td><td>2016-06-24</td><td>5</td><td>0</td></tr>",
                            "<tr><td>debora</td><td>Barna Debóra</td><td>2016-10-29</td><td>2016-11-03</td><td>2</td><td>5</td></tr>",
                            "<tr><td>debora</td><td>Barna Debóra</td><td>2017-01-23</td><td>2017-01-28</td><td>3</td><td>7</td></tr>",
                            "<tr><td>debora</td><td>Barna Debóra</td><td>2017-02-04</td><td>2017-02-06</td><td>3</td><td>10</td></tr>",
                            "<tr><td>denes</td><td>Tömböly Dénes</td><td>2016-05-27</td><td>2016-05-31</td><td>3</td><td>0</td></tr>",
                            "<tr><td>denes</td><td>Tömböly Dénes</td><td>2016-07-19</td><td>2016-07-23</td><td>2</td><td>3</td></tr>",
                            "<tr><td>denes</td><td>Tömböly Dénes</td><td>2016-08-01</td><td>2016-08-08</td><td>3</td><td>5</td></tr>",
                            "<tr><td>denes</td><td>Tömböly Dénes</td><td>2016-08-16</td><td>2016-08-23</td><td>2</td><td>8</td></tr>",
                            "<tr><td>denes</td><td>Tömböly Dénes</td><td>2016-08-20</td><td>2016-08-27</td><td>3</td><td>7</td></tr>",
                            "<tr><td>denes</td><td>Tömböly Dénes</td><td>2016-11-06</td><td>2016-11-10</td><td>2</td><td>8</td></tr>",
                            "<tr><td>dora3</td><td>Sarodi Dóra</td><td>2016-08-16</td><td>2016-08-19</td><td>4</td><td>0</td></tr>",
                            "<tr><td>dora3</td><td>Sarodi Dóra</td><td>2016-08-25</td><td>2016-08-29</td><td>3</td><td>4</td></tr>",
                            "<tr><td>dora3</td><td>Sarodi Dóra</td><td>2016-10-09</td><td>2016-10-12</td><td>3</td><td>7</td></tr>",
                            "<tr><td>dora3</td><td>Sarodi Dóra</td><td>2016-10-29</td><td>2016-11-02</td><td>3</td><td>10</td></tr>",
                            "<tr><td>dora3</td><td>Sarodi Dóra</td><td>2016-11-22</td><td>2016-11-29</td><td>3</td><td>9</td></tr>",
                            "<tr><td>edit</td><td>Bittmann Edit</td><td>2016-07-14</td><td>2016-07-17</td><td>3</td><td>0</td></tr>",
                            "<tr><td>edit</td><td>Bittmann Edit</td><td>2016-08-03</td><td>2016-08-09</td><td>4</td><td>3</td></tr>",
                            "<tr><td>edit</td><td>Bittmann Edit</td><td>2016-08-12</td><td>2016-08-14</td><td>2</td><td>7</td></tr>",
                            "<tr><td>edit</td><td>Bittmann Edit</td><td>2016-09-17</td><td>2016-09-24</td><td>2</td><td>9</td></tr>",
                            "<tr><td>edit</td><td>Bittmann Edit</td><td>2016-09-18</td><td>2016-09-21</td><td>3</td><td>8</td></tr>",
                            "<tr><td>edit</td><td>Bittmann Edit</td><td>2017-01-15</td><td>2017-01-18</td><td>4</td><td>7</td></tr>",
                            "<tr><td>edit</td><td>Bittmann Edit</td><td>2017-02-08</td><td>2017-02-14</td><td>3</td><td>9</td></tr>",
                            "<tr><td>emese</td><td>Kuruc Emese</td><td>2016-07-22</td><td>2016-07-24</td><td>2</td><td>0</td></tr>",
                            "<tr><td>emese</td><td>Kuruc Emese</td><td>2016-08-09</td><td>2016-08-12</td><td>2</td><td>2</td></tr>",
                            "<tr><td>emese</td><td>Kuruc Emese</td><td>2016-09-27</td><td>2016-09-28</td><td>3</td><td>4</td></tr>",
                            "<tr><td>emese</td><td>Kuruc Emese</td><td>2016-11-05</td><td>2016-11-09</td><td>1</td><td>7</td></tr>",
                            "<tr><td>emese</td><td>Kuruc Emese</td><td>2016-11-23</td><td>2016-11-27</td><td>4</td><td>6</td></tr>",
                            "<tr><td>emese</td><td>Kuruc Emese</td><td>2016-12-07</td><td>2016-12-08</td><td>3</td><td>8</td></tr>",
                            "<tr><td>emese</td><td>Kuruc Emese</td><td>2017-01-30</td><td>2017-01-31</td><td>2</td><td>8</td></tr>",
                            "<tr><td>eszter</td><td>Molnár Eszter</td><td>2016-08-12</td><td>2016-08-18</td><td>3</td><td>0</td></tr>",
                            "<tr><td>eszter</td><td>Molnár Eszter</td><td>2016-10-04</td><td>2016-10-10</td><td>3</td><td>3</td></tr>",
                            "<tr><td>eszter</td><td>Molnár Eszter</td><td>2016-10-26</td><td>2016-11-01</td><td>3</td><td>6</td></tr>",
                            "<tr><td>eszter</td><td>Molnár Eszter</td><td>2016-12-23</td><td>2016-12-28</td><td>2</td><td>9</td></tr>",
                            "<tr><td>eszter2</td><td>Balogh Eszter</td><td>2016-06-30</td><td>2016-07-07</td><td>3</td><td>0</td></tr>",
                            "<tr><td>eszter2</td><td>Balogh Eszter</td><td>2016-07-08</td><td>2016-07-09</td><td>1</td><td>3</td></tr>",
                            "<tr><td>eszter2</td><td>Balogh Eszter</td><td>2016-10-01</td><td>2016-10-05</td><td>3</td><td>4</td></tr>",
                            "<tr><td>eszter2</td><td>Balogh Eszter</td><td>2016-10-01</td><td>2016-10-06</td><td>1</td><td>7</td></tr>",
                            "<tr><td>eszter2</td><td>Balogh Eszter</td><td>2016-10-20</td><td>2016-10-25</td><td>1</td><td>5</td></tr>",
                            "<tr><td>eszter2</td><td>Balogh Eszter</td><td>2016-10-23</td><td>2016-10-30</td><td>1</td><td>5</td></tr>",
                            "<tr><td>eszter2</td><td>Balogh Eszter</td><td>2016-11-05</td><td>2016-11-12</td><td>4</td><td>3</td></tr>",
                            "<tr><td>eszter2</td><td>Balogh Eszter</td><td>2016-12-02</td><td>2016-12-07</td><td>1</td><td>6</td></tr>",
                            "<tr><td>eszter2</td><td>Balogh Eszter</td><td>2016-12-05</td><td>2016-12-08</td><td>2</td><td>6</td></tr>",
                            "<tr><td>eszter2</td><td>Balogh Eszter</td><td>2016-12-29</td><td>2017-02-04</td><td>1</td><td>7</td></tr>",
                            "<tr><td>eszter4</td><td>Fülöp Eszter</td><td>2017-01-05</td><td>2017-01-10</td><td>2</td><td>0</td></tr>",
                            "<tr><td>eszter4</td><td>Fülöp Eszter</td><td>2017-01-26</td><td>2017-02-02</td><td>2</td><td>2</td></tr>",
                            "<tr><td>eszter4</td><td>Fülöp Eszter</td><td>2017-02-26</td><td>2017-02-27</td><td>3</td><td>4</td></tr>",
                            "<tr><td>ESZTERE</td><td>Érsek Eszter</td><td>2016-05-30</td><td>2016-06-05</td><td>2</td><td>0</td></tr>",
                            "<tr><td>ESZTERE</td><td>Érsek Eszter</td><td>2016-07-19</td><td>2016-07-21</td><td>2</td><td>2</td></tr>",
                            "<tr><td>ESZTERE</td><td>Érsek Eszter</td><td>2016-11-01</td><td>2016-11-08</td><td>2</td><td>4</td></tr>",
                            "<tr><td>ESZTERE</td><td>Érsek Eszter</td><td>2017-02-10</td><td>2017-02-14</td><td>2</td><td>6</td></tr>",
                            "<tr><td>eva</td><td>Enyedi Éva</td><td>2016-10-06</td><td>2016-10-09</td><td>3</td><td>0</td></tr>",
                            "<tr><td>eva</td><td>Enyedi Éva</td><td>2017-01-14</td><td>2017-01-16</td><td>2</td><td>3</td></tr>",
                            "<tr><td>eva2</td><td>Perlinger Éva</td><td>2016-09-02</td><td>2016-09-03</td><td>1</td><td>0</td></tr>",
                            "<tr><td>eva2</td><td>Perlinger Éva</td><td>2016-11-06</td><td>2016-11-13</td><td>2</td><td>1</td></tr>",
                            "<tr><td>eva2</td><td>Perlinger Éva</td><td>2016-12-06</td><td>2016-12-11</td><td>2</td><td>3</td></tr>",
                            "<tr><td>eva2</td><td>Perlinger Éva</td><td>2017-01-06</td><td>2017-01-09</td><td>4</td><td>5</td></tr>",
                            "<tr><td>EVAV</td><td>Viktor Éva</td><td>2016-05-01</td><td>2016-05-05</td><td>3</td><td>0</td></tr>",
                            "<tr><td>EVAV</td><td>Viktor Éva</td><td>2016-08-31</td><td>2016-09-04</td><td>2</td><td>3</td></tr>",
                            "<tr><td>EVAV</td><td>Viktor Éva</td><td>2016-10-15</td><td>2016-10-21</td><td>3</td><td>5</td></tr>",
                            "<tr><td>EVAV</td><td>Viktor Éva</td><td>2016-10-16</td><td>2016-10-23</td><td>2</td><td>8</td></tr>",
                            "<tr><td>EVAV</td><td>Viktor Éva</td><td>2017-02-04</td><td>2017-02-11</td><td>5</td><td>7</td></tr>",
                            "<tr><td>ferenc1</td><td>Orosz Ferenc</td><td>2016-05-08</td><td>2016-05-11</td><td>2</td><td>0</td></tr>",
                            "<tr><td>ferenc1</td><td>Orosz Ferenc</td><td>2016-06-16</td><td>2016-06-22</td><td>2</td><td>2</td></tr>",
                            "<tr><td>ferenc1</td><td>Orosz Ferenc</td><td>2016-10-08</td><td>2016-10-09</td><td>2</td><td>4</td></tr>",
                            "<tr><td>ferenc1</td><td>Orosz Ferenc</td><td>2016-11-07</td><td>2016-11-08</td><td>3</td><td>6</td></tr>",
                            "<tr><td>fruzsina4</td><td>Frank Fruzsina</td><td>2016-06-02</td><td>2016-06-04</td><td>2</td><td>0</td></tr>",
                            "<tr><td>fruzsina4</td><td>Frank Fruzsina</td><td>2016-07-01</td><td>2016-07-04</td><td>3</td><td>2</td></tr>",
                            "<tr><td>fruzsina4</td><td>Frank Fruzsina</td><td>2016-07-13</td><td>2016-07-19</td><td>3</td><td>5</td></tr>",
                            "<tr><td>fruzsina4</td><td>Frank Fruzsina</td><td>2016-08-27</td><td>2016-08-30</td><td>4</td><td>8</td></tr>",
                            "<tr><td>fruzsina4</td><td>Frank Fruzsina</td><td>2016-09-29</td><td>2016-10-01</td><td>3</td><td>10</td></tr>",
                            "<tr><td>fruzsina4</td><td>Frank Fruzsina</td><td>2016-11-22</td><td>2016-11-24</td><td>2</td><td>10</td></tr>",
                            "<tr><td>fruzsina4</td><td>Frank Fruzsina</td><td>2016-12-16</td><td>2016-12-21</td><td>1</td><td>9</td></tr>",
                            "<tr><td>fruzsina4</td><td>Frank Fruzsina</td><td>2017-01-22</td><td>2017-01-25</td><td>4</td><td>6</td></tr>",
                            "<tr><td>gabor1</td><td>Köves Gábor</td><td>2016-06-20</td><td>2016-06-21</td><td>4</td><td>0</td></tr>",
                            "<tr><td>gabor1</td><td>Köves Gábor</td><td>2016-07-12</td><td>2016-07-15</td><td>1</td><td>4</td></tr>",
                            "<tr><td>gabor1</td><td>Köves Gábor</td><td>2016-07-28</td><td>2016-07-30</td><td>2</td><td>5</td></tr>",
                            "<tr><td>gabor1</td><td>Köves Gábor</td><td>2016-09-02</td><td>2016-09-03</td><td>3</td><td>7</td></tr>",
                            "<tr><td>gabor1</td><td>Köves Gábor</td><td>2016-10-20</td><td>2016-10-24</td><td>1</td><td>6</td></tr>",
                            "<tr><td>gabor1</td><td>Köves Gábor</td><td>2016-11-19</td><td>2016-11-22</td><td>2</td><td>6</td></tr>",
                            "<tr><td>gabor4</td><td>Telek Gábor</td><td>2016-04-26</td><td>2016-04-29</td><td>3</td><td>0</td></tr>",
                            "<tr><td>gabor4</td><td>Telek Gábor</td><td>2016-05-30</td><td>2016-06-05</td><td>1</td><td>3</td></tr>",
                            "<tr><td>gabor4</td><td>Telek Gábor</td><td>2016-08-31</td><td>2016-09-06</td><td>4</td><td>4</td></tr>",
                            "<tr><td>gabor4</td><td>Telek Gábor</td><td>2016-11-07</td><td>2016-11-13</td><td>4</td><td>8</td></tr>",
                            "<tr><td>gabriella1</td><td>Nagy Gabriella</td><td>2016-04-21</td><td>2016-04-24</td><td>3</td><td>0</td></tr>",
                            "<tr><td>gabriella1</td><td>Nagy Gabriella</td><td>2016-07-10</td><td>2016-07-11</td><td>3</td><td>3</td></tr>",
                            "<tr><td>gabriella1</td><td>Nagy Gabriella</td><td>2016-07-24</td><td>2016-07-31</td><td>2</td><td>6</td></tr>",
                            "<tr><td>gabriella1</td><td>Nagy Gabriella</td><td>2017-02-04</td><td>2017-02-11</td><td>3</td><td>8</td></tr>",
                            "<tr><td>gabriella1</td><td>Nagy Gabriella</td><td>2017-02-12</td><td>2017-02-13</td><td>2</td><td>8</td></tr>",
                            "<tr><td>gabriella1</td><td>Nagy Gabriella</td><td>2017-02-21</td><td>2017-02-27</td><td>3</td><td>7</td></tr>",
                            "<tr><td>gabriella10</td><td>Vida Gabriella</td><td>2016-10-01</td><td>2016-10-06</td><td>3</td><td>0</td></tr>",
                            "<tr><td>georgij</td><td>Nyíri Georgij</td><td>2016-06-16</td><td>2016-06-20</td><td>3</td><td>0</td></tr>",
                            "<tr><td>georgij</td><td>Nyíri Georgij</td><td>2016-08-16</td><td>2016-08-22</td><td>4</td><td>3</td></tr>",
                            "<tr><td>georgij</td><td>Nyíri Georgij</td><td>2016-08-28</td><td>2016-09-04</td><td>2</td><td>7</td></tr>",
                            "<tr><td>georgij</td><td>Nyíri Georgij</td><td>2016-09-18</td><td>2016-09-24</td><td>3</td><td>9</td></tr>",
                            "<tr><td>gusztav</td><td>Bárci Gusztáv</td><td>2016-05-06</td><td>2016-05-13</td><td>2</td><td>0</td></tr>",
                            "<tr><td>gusztav</td><td>Bárci Gusztáv</td><td>2016-08-05</td><td>2016-08-11</td><td>3</td><td>2</td></tr>",
                            "<tr><td>gusztav</td><td>Bárci Gusztáv</td><td>2016-10-01</td><td>2016-10-03</td><td>3</td><td>5</td></tr>",
                            "<tr><td>gusztav</td><td>Bárci Gusztáv</td><td>2017-02-03</td><td>2017-02-09</td><td>2</td><td>8</td></tr>",
                            "<tr><td>gusztav</td><td>Bárci Gusztáv</td><td>2017-02-23</td><td>2017-03-01</td><td>4</td><td>8</td></tr>",
                            "<tr><td>GYONGYIK</td><td>Kornseé Gyöngyi</td><td>2016-06-02</td><td>2016-06-05</td><td>3</td><td>0</td></tr>",
                            "<tr><td>GYONGYIK</td><td>Kornseé Gyöngyi</td><td>2016-06-10</td><td>2016-06-17</td><td>1</td><td>3</td></tr>",
                            "<tr><td>GYONGYIK</td><td>Kornseé Gyöngyi</td><td>2016-07-01</td><td>2016-07-05</td><td>2</td><td>4</td></tr>",
                            "<tr><td>GYONGYIK</td><td>Kornseé Gyöngyi</td><td>2016-08-17</td><td>2016-08-21</td><td>3</td><td>6</td></tr>",
                            "<tr><td>GYONGYIK</td><td>Kornseé Gyöngyi</td><td>2016-11-08</td><td>2016-11-13</td><td>2</td><td>6</td></tr>",
                            "<tr><td>GYONGYIK</td><td>Kornseé Gyöngyi</td><td>2016-12-01</td><td>2016-12-08</td><td>2</td><td>7</td></tr>",
                            "<tr><td>GYONGYIK</td><td>Kornseé Gyöngyi</td><td>2017-01-22</td><td>2017-01-29</td><td>3</td><td>7</td></tr>",
                            "<tr><td>GYORGYO</td><td>Oroszi György</td><td>2016-05-27</td><td>2016-05-28</td><td>3</td><td>0</td></tr>",
                            "<tr><td>GYORGYO</td><td>Oroszi György</td><td>2016-06-01</td><td>2016-06-07</td><td>2</td><td>3</td></tr>",
                            "<tr><td>GYORGYO</td><td>Oroszi György</td><td>2016-06-10</td><td>2016-06-15</td><td>2</td><td>5</td></tr>",
                            "<tr><td>GYORGYO</td><td>Oroszi György</td><td>2016-07-18</td><td>2016-07-25</td><td>2</td><td>7</td></tr>",
                            "<tr><td>GYORGYO</td><td>Oroszi György</td><td>2016-07-28</td><td>2016-08-03</td><td>3</td><td>6</td></tr>",
                            "<tr><td>GYORGYO</td><td>Oroszi György</td><td>2016-10-28</td><td>2016-10-31</td><td>1</td><td>7</td></tr>",
                            "<tr><td>GYORGYO</td><td>Oroszi György</td><td>2017-02-13</td><td>2017-02-15</td><td>2</td><td>6</td></tr>",
                            "<tr><td>GYORGYO</td><td>Oroszi György</td><td>2017-02-24</td><td>2017-02-25</td><td>3</td><td>6</td></tr>",
                            "<tr><td>henrik3</td><td>Nádudvari Henrik</td><td>2016-08-24</td><td>2016-08-28</td><td>1</td><td>0</td></tr>",
                            "<tr><td>henrik3</td><td>Nádudvari Henrik</td><td>2016-12-29</td><td>2017-01-03</td><td>3</td><td>1</td></tr>",
                            "<tr><td>henrik3</td><td>Nádudvari Henrik</td><td>2017-01-27</td><td>2017-01-28</td><td>3</td><td>4</td></tr>",
                            "<tr><td>IBOLYAA</td><td>Andor Ibolya</td><td>2016-08-29</td><td>2016-08-31</td><td>5</td><td>0</td></tr>",
                            "<tr><td>IBOLYAA</td><td>Andor Ibolya</td><td>2016-10-23</td><td>2016-10-28</td><td>2</td><td>5</td></tr>",
                            "<tr><td>IBOLYAA</td><td>Andor Ibolya</td><td>2017-01-17</td><td>2017-01-23</td><td>3</td><td>7</td></tr>",
                            "<tr><td>ilona3</td><td>Bosnyák Ilona</td><td>2016-07-31</td><td>2016-08-06</td><td>2</td><td>0</td></tr>",
                            "<tr><td>ilona3</td><td>Bosnyák Ilona</td><td>2016-08-04</td><td>2016-08-08</td><td>3</td><td>2</td></tr>",
                            "<tr><td>ilona3</td><td>Bosnyák Ilona</td><td>2016-11-04</td><td>2016-11-06</td><td>4</td><td>5</td></tr>",
                            "<tr><td>ilona3</td><td>Bosnyák Ilona</td><td>2016-12-25</td><td>2016-12-31</td><td>3</td><td>9</td></tr>",
                            "<tr><td>imre</td><td>Búza Imre</td><td>2016-09-17</td><td>2016-09-19</td><td>3</td><td>0</td></tr>",
                            "<tr><td>imre</td><td>Búza Imre</td><td>2016-10-28</td><td>2016-10-29</td><td>4</td><td>3</td></tr>",
                            "<tr><td>imre1</td><td>Papp Imre</td><td>2016-06-23</td><td>2016-06-26</td><td>4</td><td>0</td></tr>",
                            "<tr><td>imre1</td><td>Papp Imre</td><td>2016-06-27</td><td>2016-06-28</td><td>2</td><td>4</td></tr>",
                            "<tr><td>imre1</td><td>Papp Imre</td><td>2016-08-21</td><td>2016-08-27</td><td>2</td><td>6</td></tr>",
                            "<tr><td>imre1</td><td>Papp Imre</td><td>2016-08-23</td><td>2016-08-25</td><td>3</td><td>8</td></tr>",
                            "<tr><td>imre1</td><td>Papp Imre</td><td>2016-08-29</td><td>2016-08-31</td><td>2</td><td>7</td></tr>",
                            "<tr><td>imre1</td><td>Papp Imre</td><td>2017-02-01</td><td>2017-02-04</td><td>2</td><td>7</td></tr>",
                            "<tr><td>imre1</td><td>Papp Imre</td><td>2017-02-05</td><td>2017-02-07</td><td>4</td><td>7</td></tr>",
                            "<tr><td>istvan</td><td>Soós István</td><td>2016-10-07</td><td>2016-10-10</td><td>2</td><td>0</td></tr>",
                            "<tr><td>istvan</td><td>Soós István</td><td>2016-11-22</td><td>2016-11-24</td><td>3</td><td>2</td></tr>",
                            "<tr><td>istvan</td><td>Soós István</td><td>2017-01-02</td><td>2017-01-05</td><td>2</td><td>5</td></tr>",
                            "<tr><td>istvan1</td><td>Vizi István</td><td>2016-04-16</td><td>2016-04-22</td><td>3</td><td>0</td></tr>",
                            "<tr><td>istvan1</td><td>Vizi István</td><td>2016-04-24</td><td>2016-04-28</td><td>3</td><td>3</td></tr>",
                            "<tr><td>istvan1</td><td>Vizi István</td><td>2016-07-19</td><td>2016-07-24</td><td>1</td><td>6</td></tr>",
                            "<tr><td>istvan1</td><td>Vizi István</td><td>2017-02-07</td><td>2017-02-10</td><td>3</td><td>7</td></tr>",
                            "<tr><td>ISTVANV</td><td>Varga István</td><td>2016-07-01</td><td>2016-07-04</td><td>4</td><td>0</td></tr>",
                            "<tr><td>ISTVANV</td><td>Varga István</td><td>2016-09-29</td><td>2016-10-01</td><td>3</td><td>4</td></tr>",
                            "<tr><td>janos3</td><td>Harangozó János</td><td>2016-06-04</td><td>2016-06-06</td><td>1</td><td>0</td></tr>",
                            "<tr><td>janos3</td><td>Harangozó János</td><td>2016-08-24</td><td>2016-08-25</td><td>3</td><td>1</td></tr>",
                            "<tr><td>janos3</td><td>Harangozó János</td><td>2016-10-03</td><td>2016-10-08</td><td>3</td><td>4</td></tr>",
                            "<tr><td>janos3</td><td>Harangozó János</td><td>2016-10-22</td><td>2016-10-23</td><td>1</td><td>7</td></tr>",
                            "<tr><td>janos3</td><td>Harangozó János</td><td>2017-02-12</td><td>2017-02-14</td><td>3</td><td>7</td></tr>",
                            "<tr><td>JANOSG</td><td>Giliga János</td><td>2016-05-09</td><td>2016-05-15</td><td>1</td><td>0</td></tr>",
                            "<tr><td>JANOSG</td><td>Giliga János</td><td>2016-08-16</td><td>2016-08-23</td><td>3</td><td>1</td></tr>",
                            "<tr><td>JANOSG</td><td>Giliga János</td><td>2016-08-30</td><td>2016-09-03</td><td>3</td><td>4</td></tr>",
                            "<tr><td>JANOSG</td><td>Giliga János</td><td>2016-11-07</td><td>2016-11-14</td><td>3</td><td>7</td></tr>",
                            "<tr><td>JANOSG</td><td>Giliga János</td><td>2016-12-28</td><td>2016-12-30</td><td>2</td><td>9</td></tr>",
                            "<tr><td>JANOSG</td><td>Giliga János</td><td>2017-01-10</td><td>2017-01-15</td><td>2</td><td>8</td></tr>",
                            "<tr><td>JANOSG</td><td>Giliga János</td><td>2017-01-31</td><td>2017-02-05</td><td>2</td><td>7</td></tr>",
                            "<tr><td>JANOSP</td><td>Pálinkás János</td><td>2016-07-04</td><td>2016-07-11</td><td>3</td><td>0</td></tr>",
                            "<tr><td>JANOSP</td><td>Pálinkás János</td><td>2016-11-23</td><td>2016-11-28</td><td>2</td><td>3</td></tr>",
                            "<tr><td>JANOSP</td><td>Pálinkás János</td><td>2016-11-25</td><td>2016-11-27</td><td>2</td><td>5</td></tr>",
                            "<tr><td>JANOSP</td><td>Pálinkás János</td><td>2016-12-18</td><td>2016-12-21</td><td>2</td><td>7</td></tr>",
                            "<tr><td>jozsef</td><td>Gergely József</td><td>2016-09-13</td><td>2016-09-19</td><td>2</td><td>0</td></tr>",
                            "<tr><td>jozsef</td><td>Gergely József</td><td>2016-10-08</td><td>2016-10-10</td><td>2</td><td>2</td></tr>",
                            "<tr><td>jozsef</td><td>Gergely József</td><td>2016-12-06</td><td>2016-12-07</td><td>2</td><td>4</td></tr>",
                            "<tr><td>jozsef2</td><td>Vajda József</td><td>2016-07-06</td><td>2016-07-11</td><td>2</td><td>0</td></tr>",
                            "<tr><td>jozsef2</td><td>Vajda József</td><td>2016-07-16</td><td>2016-07-20</td><td>3</td><td>2</td></tr>",
                            "<tr><td>jozsef2</td><td>Vajda József</td><td>2016-09-09</td><td>2016-09-15</td><td>2</td><td>5</td></tr>",
                            "<tr><td>jozsef2</td><td>Vajda József</td><td>2016-11-23</td><td>2016-11-29</td><td>3</td><td>7</td></tr>",
                            "<tr><td>jozsef2</td><td>Vajda József</td><td>2016-11-25</td><td>2016-11-29</td><td>3</td><td>8</td></tr>",
                            "<tr><td>JOZSEFG</td><td>Gyuris József</td><td>2016-05-02</td><td>2016-05-06</td><td>2</td><td>0</td></tr>",
                            "<tr><td>JOZSEFG</td><td>Gyuris József</td><td>2016-05-23</td><td>2016-05-25</td><td>1</td><td>2</td></tr>",
                            "<tr><td>JOZSEFG</td><td>Gyuris József</td><td>2016-06-04</td><td>2016-06-09</td><td>4</td><td>3</td></tr>",
                            "<tr><td>JOZSEFG</td><td>Gyuris József</td><td>2016-08-24</td><td>2016-08-27</td><td>3</td><td>7</td></tr>",
                            "<tr><td>JOZSEFG</td><td>Gyuris József</td><td>2017-01-09</td><td>2017-01-13</td><td>2</td><td>8</td></tr>",
                            "<tr><td>JOZSEFG</td><td>Gyuris József</td><td>2017-01-22</td><td>2017-01-26</td><td>1</td><td>9</td></tr>",
                            "<tr><td>JOZSEFG</td><td>Gyuris József</td><td>2017-02-24</td><td>2017-03-03</td><td>3</td><td>6</td></tr>",
                            "<tr><td>JUDITH</td><td>Hídasi Judit</td><td>2016-06-06</td><td>2016-06-10</td><td>2</td><td>0</td></tr>",
                            "<tr><td>JUDITH</td><td>Hídasi Judit</td><td>2016-07-28</td><td>2016-07-30</td><td>2</td><td>2</td></tr>",
                            "<tr><td>JUDITH</td><td>Hídasi Judit</td><td>2016-12-19</td><td>2016-12-26</td><td>1</td><td>4</td></tr>",
                            "<tr><td>julia</td><td>Tóth Júlia</td><td>2016-04-21</td><td>2016-04-26</td><td>2</td><td>0</td></tr>",
                            "<tr><td>julia</td><td>Tóth Júlia</td><td>2016-05-12</td><td>2016-05-17</td><td>1</td><td>2</td></tr>",
                            "<tr><td>julia</td><td>Tóth Júlia</td><td>2016-06-07</td><td>2016-06-08</td><td>5</td><td>3</td></tr>",
                            "<tr><td>julia</td><td>Tóth Júlia</td><td>2016-07-20</td><td>2016-07-22</td><td>2</td><td>8</td></tr>",
                            "<tr><td>julia</td><td>Tóth Júlia</td><td>2017-02-27</td><td>2017-03-06</td><td>3</td><td>8</td></tr>",
                            "<tr><td>julia4</td><td>Nagy Júlia</td><td>2016-11-07</td><td>2016-11-12</td><td>1</td><td>0</td></tr>",
                            "<tr><td>julia4</td><td>Nagy Júlia</td><td>2017-02-04</td><td>2017-02-11</td><td>4</td><td>1</td></tr>",
                            "<tr><td>julianna4</td><td>Szabó Julianna</td><td>2016-07-20</td><td>2016-07-26</td><td>2</td><td>0</td></tr>",
                            "<tr><td>julianna4</td><td>Szabó Julianna</td><td>2016-10-29</td><td>2016-10-31</td><td>3</td><td>2</td></tr>",
                            "<tr><td>julianna4</td><td>Szabó Julianna</td><td>2016-11-03</td><td>2016-11-04</td><td>2</td><td>5</td></tr>",
                            "<tr><td>julianna4</td><td>Szabó Julianna</td><td>2016-11-27</td><td>2016-12-04</td><td>3</td><td>7</td></tr>",
                            "<tr><td>kata</td><td>Gondos Katalin</td><td>2016-04-10</td><td>2016-04-11</td><td>2</td><td>0</td></tr>",
                            "<tr><td>kata</td><td>Gondos Katalin</td><td>2016-04-25</td><td>2016-05-01</td><td>1</td><td>2</td></tr>",
                            "<tr><td>kata</td><td>Gondos Katalin</td><td>2016-05-31</td><td>2016-06-01</td><td>3</td><td>3</td></tr>",
                            "<tr><td>kata</td><td>Gondos Katalin</td><td>2016-06-07</td><td>2016-06-12</td><td>2</td><td>6</td></tr>",
                            "<tr><td>kata</td><td>Gondos Katalin</td><td>2016-07-01</td><td>2016-07-07</td><td>2</td><td>6</td></tr>",
                            "<tr><td>kata</td><td>Gondos Katalin</td><td>2016-07-03</td><td>2016-07-06</td><td>1</td><td>7</td></tr>",
                            "<tr><td>kata</td><td>Gondos Katalin</td><td>2016-07-07</td><td>2016-07-09</td><td>3</td><td>5</td></tr>",
                            "<tr><td>kata</td><td>Gondos Katalin</td><td>2016-08-24</td><td>2016-08-27</td><td>3</td><td>6</td></tr>",
                            "<tr><td>kata</td><td>Gondos Katalin</td><td>2016-09-19</td><td>2016-09-20</td><td>3</td><td>7</td></tr>",
                            "<tr><td>kata</td><td>Gondos Katalin</td><td>2017-01-15</td><td>2017-01-21</td><td>3</td><td>9</td></tr>",
                            "<tr><td>katalin</td><td>Horváth Katalin</td><td>2016-04-10</td><td>2016-04-17</td><td>2</td><td>0</td></tr>",
                            "<tr><td>katalin</td><td>Horváth Katalin</td><td>2016-05-21</td><td>2016-05-26</td><td>1</td><td>2</td></tr>",
                            "<tr><td>katalin</td><td>Horváth Katalin</td><td>2016-07-06</td><td>2016-07-11</td><td>1</td><td>3</td></tr>",
                            "<tr><td>katalin</td><td>Horváth Katalin</td><td>2016-07-28</td><td>2016-07-29</td><td>1</td><td>4</td></tr>",
                            "<tr><td>katalin</td><td>Horváth Katalin</td><td>2016-10-26</td><td>2016-10-30</td><td>2</td><td>3</td></tr>",
                            "<tr><td>katalin</td><td>Horváth Katalin</td><td>2016-12-13</td><td>2016-12-19</td><td>2</td><td>4</td></tr>",
                            "<tr><td>katalin</td><td>Horváth Katalin</td><td>2016-12-17</td><td>2016-12-24</td><td>1</td><td>5</td></tr>",
                            "<tr><td>katalin</td><td>Horváth Katalin</td><td>2016-12-24</td><td>2016-12-27</td><td>2</td><td>5</td></tr>",
                            "<tr><td>katalin</td><td>Horváth Katalin</td><td>2017-02-24</td><td>2017-02-27</td><td>3</td><td>5</td></tr>",
                            "<tr><td>katalin4</td><td>Kertész Katalin</td><td>2016-07-01</td><td>2016-07-07</td><td>1</td><td>0</td></tr>",
                            "<tr><td>katalin4</td><td>Kertész Katalin</td><td>2016-07-03</td><td>2016-07-04</td><td>4</td><td>1</td></tr>",
                            "<tr><td>katalin4</td><td>Kertész Katalin</td><td>2016-11-27</td><td>2016-12-04</td><td>3</td><td>5</td></tr>",
                            "<tr><td>katalin4</td><td>Kertész Katalin</td><td>2016-12-04</td><td>2016-12-09</td><td>3</td><td>8</td></tr>",
                            "<tr><td>katalin4</td><td>Kertész Katalin</td><td>2017-01-18</td><td>2017-01-20</td><td>2</td><td>10</td></tr>",
                            "<tr><td>katalin4</td><td>Kertész Katalin</td><td>2017-01-24</td><td>2017-01-31</td><td>2</td><td>8</td></tr>",
                            "<tr><td>kati</td><td>Zatykó Katalin</td><td>2016-06-06</td><td>2016-06-10</td><td>2</td><td>0</td></tr>",
                            "<tr><td>kati</td><td>Zatykó Katalin</td><td>2016-06-06</td><td>2016-06-11</td><td>3</td><td>2</td></tr>",
                            "<tr><td>kati</td><td>Zatykó Katalin</td><td>2016-07-13</td><td>2016-07-20</td><td>2</td><td>5</td></tr>",
                            "<tr><td>kati</td><td>Zatykó Katalin</td><td>2016-07-27</td><td>2016-08-03</td><td>2</td><td>7</td></tr>",
                            "<tr><td>kati</td><td>Zatykó Katalin</td><td>2016-08-03</td><td>2016-08-07</td><td>2</td><td>7</td></tr>",
                            "<tr><td>kati</td><td>Zatykó Katalin</td><td>2016-10-26</td><td>2016-10-28</td><td>2</td><td>6</td></tr>",
                            "<tr><td>kati</td><td>Zatykó Katalin</td><td>2016-10-30</td><td>2016-11-01</td><td>3</td><td>6</td></tr>",
                            "<tr><td>katka</td><td>Kovács Katalin</td><td>2016-04-10</td><td>2016-04-12</td><td>2</td><td>0</td></tr>",
                            "<tr><td>katka</td><td>Kovács Katalin</td><td>2016-05-09</td><td>2016-05-15</td><td>3</td><td>2</td></tr>",
                            "<tr><td>katka</td><td>Kovács Katalin</td><td>2016-06-13</td><td>2016-06-18</td><td>1</td><td>5</td></tr>",
                            "<tr><td>katka</td><td>Kovács Katalin</td><td>2016-06-13</td><td>2016-06-19</td><td>4</td><td>6</td></tr>",
                            "<tr><td>katka</td><td>Kovács Katalin</td><td>2016-08-24</td><td>2016-08-26</td><td>2</td><td>8</td></tr>",
                            "<tr><td>katka</td><td>Kovács Katalin</td><td>2016-09-05</td><td>2016-09-10</td><td>4</td><td>7</td></tr>",
                            "<tr><td>katka</td><td>Kovács Katalin</td><td>2016-11-05</td><td>2016-11-08</td><td>3</td><td>10</td></tr>",
                            "<tr><td>katka</td><td>Kovács Katalin</td><td>2017-01-02</td><td>2017-01-05</td><td>3</td><td>9</td></tr>",
                            "<tr><td>katka</td><td>Kovács Katalin</td><td>2017-01-19</td><td>2017-01-20</td><td>3</td><td>10</td></tr>",
                            "<tr><td>klaudia2</td><td>Bakó Klaudia</td><td>2016-06-06</td><td>2016-06-08</td><td>4</td><td>0</td></tr>",
                            "<tr><td>klaudia2</td><td>Bakó Klaudia</td><td>2016-10-01</td><td>2016-10-02</td><td>2</td><td>4</td></tr>",
                            "<tr><td>klaudia2</td><td>Bakó Klaudia</td><td>2016-10-02</td><td>2016-10-05</td><td>2</td><td>6</td></tr>",
                            "<tr><td>kornel4</td><td>Lukács Kornél</td><td>2016-05-08</td><td>2016-05-14</td><td>3</td><td>0</td></tr>",
                            "<tr><td>kornel4</td><td>Lukács Kornél</td><td>2016-06-02</td><td>2016-06-09</td><td>3</td><td>3</td></tr>",
                            "<tr><td>kornel4</td><td>Lukács Kornél</td><td>2016-09-23</td><td>2016-09-24</td><td>3</td><td>6</td></tr>",
                            "<tr><td>kristof4</td><td>Poprádi Kristóf</td><td>2016-04-08</td><td>2016-04-14</td><td>2</td><td>0</td></tr>",
                            "<tr><td>kristof4</td><td>Poprádi Kristóf</td><td>2016-09-30</td><td>2016-10-04</td><td>2</td><td>2</td></tr>",
                            "<tr><td>kriszti</td><td>Horváth Krisztina</td><td>2016-05-19</td><td>2016-05-26</td><td>2</td><td>0</td></tr>",
                            "<tr><td>kriszti</td><td>Horváth Krisztina</td><td>2016-08-24</td><td>2016-08-25</td><td>3</td><td>2</td></tr>",
                            "<tr><td>kriszti</td><td>Horváth Krisztina</td><td>2016-09-30</td><td>2016-10-05</td><td>3</td><td>5</td></tr>",
                            "<tr><td>kriszti</td><td>Horváth Krisztina</td><td>2016-10-01</td><td>2016-10-02</td><td>3</td><td>8</td></tr>",
                            "<tr><td>kriszti</td><td>Horváth Krisztina</td><td>2017-02-04</td><td>2017-02-11</td><td>3</td><td>9</td></tr>",
                            "<tr><td>kriszti</td><td>Horváth Krisztina</td><td>2017-03-03</td><td>2017-03-04</td><td>3</td><td>9</td></tr>",
                            "<tr><td>krisztian4</td><td>Czérna Krisztián</td><td>2016-06-03</td><td>2016-06-04</td><td>2</td><td>0</td></tr>",
                            "<tr><td>krisztian4</td><td>Czérna Krisztián</td><td>2016-06-07</td><td>2016-06-09</td><td>2</td><td>2</td></tr>",
                            "<tr><td>krisztian4</td><td>Czérna Krisztián</td><td>2016-07-28</td><td>2016-08-01</td><td>2</td><td>4</td></tr>",
                            "<tr><td>krisztian4</td><td>Czérna Krisztián</td><td>2016-08-01</td><td>2016-08-04</td><td>3</td><td>6</td></tr>",
                            "<tr><td>krisztian4</td><td>Czérna Krisztián</td><td>2016-08-16</td><td>2016-08-19</td><td>1</td><td>7</td></tr>",
                            "<tr><td>krisztian4</td><td>Czérna Krisztián</td><td>2016-08-29</td><td>2016-09-03</td><td>1</td><td>6</td></tr>",
                            "<tr><td>krisztian4</td><td>Czérna Krisztián</td><td>2016-10-17</td><td>2016-10-22</td><td>3</td><td>5</td></tr>",
                            "<tr><td>krisztian4</td><td>Czérna Krisztián</td><td>2016-11-02</td><td>2016-11-03</td><td>2</td><td>5</td></tr>",
                            "<tr><td>krisztian4</td><td>Czérna Krisztián</td><td>2016-12-11</td><td>2016-12-18</td><td>2</td><td>6</td></tr>",
                            "<tr><td>krisztian4</td><td>Czérna Krisztián</td><td>2017-01-06</td><td>2017-01-09</td><td>1</td><td>7</td></tr>",
                            "<tr><td>krisztian4</td><td>Czérna Krisztián</td><td>2017-01-16</td><td>2017-01-23</td><td>3</td><td>5</td></tr>",
                            "<tr><td>krisztian4</td><td>Czérna Krisztián</td><td>2017-02-23</td><td>2017-03-02</td><td>2</td><td>6</td></tr>",
                            "<tr><td>KRISZTIANM</td><td>Mogyródi Krisztián</td><td>2016-04-09</td><td>2016-04-15</td><td>2</td><td>0</td></tr>",
                            "<tr><td>KRISZTIANM</td><td>Mogyródi Krisztián</td><td>2016-06-04</td><td>2016-06-08</td><td>2</td><td>2</td></tr>",
                            "<tr><td>KRISZTIANM</td><td>Mogyródi Krisztián</td><td>2016-07-09</td><td>2016-07-14</td><td>3</td><td>4</td></tr>",
                            "<tr><td>KRISZTIANM</td><td>Mogyródi Krisztián</td><td>2016-08-02</td><td>2016-08-08</td><td>4</td><td>7</td></tr>",
                            "<tr><td>KRISZTIANM</td><td>Mogyródi Krisztián</td><td>2016-12-25</td><td>2016-12-31</td><td>2</td><td>9</td></tr>",
                            "<tr><td>KRISZTIANM</td><td>Mogyródi Krisztián</td><td>2017-01-16</td><td>2017-01-23</td><td>1</td><td>9</td></tr>",
                            "<tr><td>krisztina</td><td>Szedlár Krisztina</td><td>2016-05-21</td><td>2016-05-27</td><td>2</td><td>0</td></tr>",
                            "<tr><td>krisztina</td><td>Szedlár Krisztina</td><td>2016-07-05</td><td>2016-07-12</td><td>3</td><td>2</td></tr>",
                            "<tr><td>krisztina</td><td>Szedlár Krisztina</td><td>2016-09-13</td><td>2016-09-16</td><td>1</td><td>5</td></tr>",
                            "<tr><td>krisztina</td><td>Szedlár Krisztina</td><td>2016-09-19</td><td>2016-09-26</td><td>2</td><td>6</td></tr>",
                            "<tr><td>krisztina</td><td>Szedlár Krisztina</td><td>2016-11-08</td><td>2016-11-12</td><td>2</td><td>6</td></tr>",
                            "<tr><td>krisztina</td><td>Szedlár Krisztina</td><td>2016-11-22</td><td>2016-11-25</td><td>1</td><td>5</td></tr>",
                            "<tr><td>krisztina</td><td>Szedlár Krisztina</td><td>2017-02-05</td><td>2017-02-07</td><td>2</td><td>5</td></tr>",
                            "<tr><td>krisztina</td><td>Szedlár Krisztina</td><td>2017-02-16</td><td>2017-02-20</td><td>4</td><td>5</td></tr>",
                            "<tr><td>krisztina1</td><td>Bori Krisztina</td><td>2016-04-28</td><td>2016-04-30</td><td>2</td><td>0</td></tr>",
                            "<tr><td>krisztina1</td><td>Bori Krisztina</td><td>2016-05-16</td><td>2016-05-20</td><td>1</td><td>2</td></tr>",
                            "<tr><td>krisztina1</td><td>Bori Krisztina</td><td>2016-06-16</td><td>2016-06-22</td><td>2</td><td>3</td></tr>",
                            "<tr><td>krisztina1</td><td>Bori Krisztina</td><td>2016-09-15</td><td>2016-09-20</td><td>3</td><td>5</td></tr>",
                            "<tr><td>krisztina1</td><td>Bori Krisztina</td><td>2016-10-29</td><td>2016-10-30</td><td>4</td><td>6</td></tr>",
                            "<tr><td>krisztina1</td><td>Bori Krisztina</td><td>2017-01-21</td><td>2017-01-24</td><td>2</td><td>9</td></tr>",
                            "<tr><td>KRISZTINAG</td><td>Gyárfás Krisztina</td><td>2016-04-23</td><td>2016-04-24</td><td>2</td><td>0</td></tr>",
                            "<tr><td>KRISZTINAG</td><td>Gyárfás Krisztina</td><td>2016-05-24</td><td>2016-05-31</td><td>1</td><td>2</td></tr>",
                            "<tr><td>KRISZTINAG</td><td>Gyárfás Krisztina</td><td>2016-06-08</td><td>2016-06-12</td><td>1</td><td>3</td></tr>",
                            "<tr><td>KRISZTINAG</td><td>Gyárfás Krisztina</td><td>2016-08-08</td><td>2016-08-12</td><td>3</td><td>4</td></tr>",
                            "<tr><td>KRISZTINAG</td><td>Gyárfás Krisztina</td><td>2017-01-25</td><td>2017-01-30</td><td>2</td><td>5</td></tr>",
                            "<tr><td>lajos</td><td>Kiss Lajos</td><td>2016-07-18</td><td>2016-07-21</td><td>2</td><td>0</td></tr>",
                            "<tr><td>lajos</td><td>Kiss Lajos</td><td>2016-12-25</td><td>2016-12-28</td><td>4</td><td>2</td></tr>",
                            "<tr><td>lajos</td><td>Kiss Lajos</td><td>2017-02-12</td><td>2017-02-13</td><td>1</td><td>6</td></tr>",
                            "<tr><td>lala</td><td>Nagymihály Lajos</td><td>2016-06-16</td><td>2016-06-22</td><td>2</td><td>0</td></tr>",
                            "<tr><td>lala</td><td>Nagymihály Lajos</td><td>2016-07-20</td><td>2016-07-21</td><td>3</td><td>2</td></tr>",
                            "<tr><td>lala</td><td>Nagymihály Lajos</td><td>2016-07-26</td><td>2016-07-27</td><td>3</td><td>5</td></tr>",
                            "<tr><td>lala</td><td>Nagymihály Lajos</td><td>2016-10-30</td><td>2016-10-31</td><td>3</td><td>8</td></tr>",
                            "<tr><td>lala</td><td>Nagymihály Lajos</td><td>2017-01-08</td><td>2017-01-10</td><td>3</td><td>9</td></tr>",
                            "<tr><td>lala</td><td>Nagymihály Lajos</td><td>2017-01-17</td><td>2017-01-19</td><td>2</td><td>9</td></tr>",
                            "<tr><td>laszlo1</td><td>Farkas László</td><td>2016-09-23</td><td>2016-09-30</td><td>3</td><td>0</td></tr>",
                            "<tr><td>laszlo2</td><td>Móra László</td><td>2016-04-06</td><td>2016-04-10</td><td>2</td><td>0</td></tr>",
                            "<tr><td>laszlo2</td><td>Móra László</td><td>2016-04-27</td><td>2016-04-29</td><td>2</td><td>2</td></tr>",
                            "<tr><td>laszlo2</td><td>Móra László</td><td>2016-08-14</td><td>2016-08-15</td><td>3</td><td>4</td></tr>",
                            "<tr><td>laszlo2</td><td>Móra László</td><td>2016-09-05</td><td>2016-09-10</td><td>3</td><td>7</td></tr>",
                            "<tr><td>laszlo2</td><td>Móra László</td><td>2016-11-25</td><td>2016-11-26</td><td>3</td><td>8</td></tr>",
                            "<tr><td>LASZLOA</td><td>Antal László</td><td>2016-06-03</td><td>2016-06-09</td><td>2</td><td>0</td></tr>",
                            "<tr><td>LASZLOA</td><td>Antal László</td><td>2016-06-07</td><td>2016-06-11</td><td>1</td><td>2</td></tr>",
                            "<tr><td>LASZLOA</td><td>Antal László</td><td>2016-06-10</td><td>2016-06-13</td><td>3</td><td>3</td></tr>",
                            "<tr><td>LASZLOA</td><td>Antal László</td><td>2017-02-08</td><td>2017-02-14</td><td>2</td><td>6</td></tr>",
                            "<tr><td>LASZLON</td><td>Nagy László</td><td>2016-06-03</td><td>2016-06-06</td><td>1</td><td>0</td></tr>",
                            "<tr><td>LASZLON</td><td>Nagy László</td><td>2016-06-08</td><td>2016-06-09</td><td>2</td><td>1</td></tr>",
                            "<tr><td>LASZLON</td><td>Nagy László</td><td>2016-10-01</td><td>2016-10-04</td><td>3</td><td>3</td></tr>",
                            "<tr><td>LASZLON</td><td>Nagy László</td><td>2016-10-09</td><td>2016-10-14</td><td>1</td><td>6</td></tr>",
                            "<tr><td>LASZLON</td><td>Nagy László</td><td>2016-11-29</td><td>2016-12-04</td><td>1</td><td>6</td></tr>",
                            "<tr><td>LASZLON</td><td>Nagy László</td><td>2017-02-18</td><td>2017-02-25</td><td>3</td><td>5</td></tr>",
                            "<tr><td>maria1</td><td>Baráth Mária</td><td>2016-05-13</td><td>2016-05-18</td><td>2</td><td>0</td></tr>",
                            "<tr><td>maria1</td><td>Baráth Mária</td><td>2016-05-18</td><td>2016-05-19</td><td>1</td><td>2</td></tr>",
                            "<tr><td>maria1</td><td>Baráth Mária</td><td>2016-05-28</td><td>2016-06-03</td><td>2</td><td>3</td></tr>",
                            "<tr><td>maria1</td><td>Baráth Mária</td><td>2016-06-23</td><td>2016-06-27</td><td>1</td><td>5</td></tr>",
                            "<tr><td>maria1</td><td>Baráth Mária</td><td>2016-08-11</td><td>2016-08-14</td><td>3</td><td>4</td></tr>",
                            "<tr><td>maria1</td><td>Baráth Mária</td><td>2016-09-02</td><td>2016-09-05</td><td>1</td><td>6</td></tr>",
                            "<tr><td>maria1</td><td>Baráth Mária</td><td>2016-11-08</td><td>2016-11-12</td><td>3</td><td>5</td></tr>",
                            "<tr><td>maria1</td><td>Baráth Mária</td><td>2017-02-24</td><td>2017-03-02</td><td>2</td><td>7</td></tr>",
                            "<tr><td>mark</td><td>Kispál Márk</td><td>2016-04-19</td><td>2016-04-26</td><td>4</td><td>0</td></tr>",
                            "<tr><td>mark</td><td>Kispál Márk</td><td>2016-06-13</td><td>2016-06-18</td><td>3</td><td>4</td></tr>",
                            "<tr><td>mark</td><td>Kispál Márk</td><td>2016-08-09</td><td>2016-08-16</td><td>3</td><td>7</td></tr>",
                            "<tr><td>mark</td><td>Kispál Márk</td><td>2016-10-20</td><td>2016-10-27</td><td>1</td><td>10</td></tr>",
                            "<tr><td>mark</td><td>Kispál Márk</td><td>2016-11-19</td><td>2016-11-22</td><td>2</td><td>7</td></tr>",
                            "<tr><td>MARKH</td><td>Horváth Márk</td><td>2016-09-14</td><td>2016-09-17</td><td>3</td><td>0</td></tr>",
                            "<tr><td>MARKH</td><td>Horváth Márk</td><td>2016-09-23</td><td>2016-09-30</td><td>2</td><td>3</td></tr>",
                            "<tr><td>MARKH</td><td>Horváth Márk</td><td>2016-09-26</td><td>2016-10-01</td><td>4</td><td>5</td></tr>",
                            "<tr><td>MARKH</td><td>Horváth Márk</td><td>2017-01-22</td><td>2017-01-29</td><td>4</td><td>9</td></tr>",
                            "<tr><td>marton</td><td>Kalacsi Márton</td><td>2016-04-27</td><td>2016-05-04</td><td>3</td><td>0</td></tr>",
                            "<tr><td>marton</td><td>Kalacsi Márton</td><td>2016-05-05</td><td>2016-05-10</td><td>1</td><td>3</td></tr>",
                            "<tr><td>marton</td><td>Kalacsi Márton</td><td>2016-06-06</td><td>2016-06-08</td><td>3</td><td>4</td></tr>",
                            "<tr><td>marton</td><td>Kalacsi Márton</td><td>2016-06-22</td><td>2016-06-29</td><td>2</td><td>7</td></tr>",
                            "<tr><td>marton</td><td>Kalacsi Márton</td><td>2016-08-12</td><td>2016-08-17</td><td>2</td><td>6</td></tr>",
                            "<tr><td>marton</td><td>Kalacsi Márton</td><td>2016-09-10</td><td>2016-09-12</td><td>2</td><td>7</td></tr>",
                            "<tr><td>marton</td><td>Kalacsi Márton</td><td>2017-03-02</td><td>2017-03-03</td><td>2</td><td>6</td></tr>",
                            "<tr><td>MATEK</td><td>Koza Máté</td><td>2016-08-17</td><td>2016-08-21</td><td>4</td><td>0</td></tr>",
                            "<tr><td>MATEK</td><td>Koza Máté</td><td>2016-10-01</td><td>2016-10-04</td><td>2</td><td>4</td></tr>",
                            "<tr><td>MATEK</td><td>Koza Máté</td><td>2017-01-16</td><td>2017-01-22</td><td>2</td><td>6</td></tr>",
                            "<tr><td>matyas2</td><td>Botka Mátyás</td><td>2016-07-13</td><td>2016-07-16</td><td>2</td><td>0</td></tr>",
                            "<tr><td>matyas2</td><td>Botka Mátyás</td><td>2016-12-09</td><td>2016-12-13</td><td>3</td><td>2</td></tr>",
                            "<tr><td>MATYASS</td><td>Szilágyi Mátyás</td><td>2016-05-10</td><td>2016-05-16</td><td>2</td><td>0</td></tr>",
                            "<tr><td>MATYASS</td><td>Szilágyi Mátyás</td><td>2016-06-02</td><td>2016-06-08</td><td>1</td><td>2</td></tr>",
                            "<tr><td>MATYASS</td><td>Szilágyi Mátyás</td><td>2016-07-23</td><td>2016-07-25</td><td>3</td><td>3</td></tr>",
                            "<tr><td>MATYASS</td><td>Szilágyi Mátyás</td><td>2016-10-09</td><td>2016-10-15</td><td>3</td><td>6</td></tr>",
                            "<tr><td>MATYASS</td><td>Szilágyi Mátyás</td><td>2016-10-24</td><td>2016-10-31</td><td>1</td><td>7</td></tr>",
                            "<tr><td>MATYASS</td><td>Szilágyi Mátyás</td><td>2016-10-30</td><td>2016-11-04</td><td>3</td><td>7</td></tr>",
                            "<tr><td>MATYASS</td><td>Szilágyi Mátyás</td><td>2016-12-20</td><td>2016-12-25</td><td>2</td><td>7</td></tr>",
                            "<tr><td>MATYASS</td><td>Szilágyi Mátyás</td><td>2017-01-09</td><td>2017-01-13</td><td>2</td><td>6</td></tr>",
                            "<tr><td>MIHALYJ</td><td>Juhász Mihály</td><td>2016-05-30</td><td>2016-06-01</td><td>2</td><td>0</td></tr>",
                            "<tr><td>MIHALYJ</td><td>Juhász Mihály</td><td>2016-06-27</td><td>2016-07-01</td><td>1</td><td>2</td></tr>",
                            "<tr><td>MIHALYJ</td><td>Juhász Mihály</td><td>2016-08-29</td><td>2016-09-03</td><td>1</td><td>3</td></tr>",
                            "<tr><td>MIHALYJ</td><td>Juhász Mihály</td><td>2016-11-01</td><td>2016-11-04</td><td>3</td><td>4</td></tr>",
                            "<tr><td>MIHALYJ</td><td>Juhász Mihály</td><td>2017-02-06</td><td>2017-02-12</td><td>4</td><td>5</td></tr>",
                            "<tr><td>miklos2</td><td>Gondos Miklós</td><td>2016-04-19</td><td>2016-04-21</td><td>3</td><td>0</td></tr>",
                            "<tr><td>miklos2</td><td>Gondos Miklós</td><td>2016-10-08</td><td>2016-10-09</td><td>1</td><td>3</td></tr>",
                            "<tr><td>miklos2</td><td>Gondos Miklós</td><td>2016-11-16</td><td>2016-11-18</td><td>3</td><td>4</td></tr>",
                            "<tr><td>MIKLOSB</td><td>Balla Miklós</td><td>2016-06-26</td><td>2016-06-30</td><td>2</td><td>0</td></tr>",
                            "<tr><td>MIKLOSB</td><td>Balla Miklós</td><td>2016-07-18</td><td>2016-07-21</td><td>2</td><td>2</td></tr>",
                            "<tr><td>MIKLOSB</td><td>Balla Miklós</td><td>2016-12-05</td><td>2016-12-10</td><td>2</td><td>4</td></tr>",
                            "<tr><td>MONIKAM</td><td>Mohos Mónika</td><td>2016-04-29</td><td>2016-05-01</td><td>2</td><td>0</td></tr>",
                            "<tr><td>MONIKAM</td><td>Mohos Mónika</td><td>2016-07-23</td><td>2016-07-30</td><td>1</td><td>2</td></tr>",
                            "<tr><td>MONIKAM</td><td>Mohos Mónika</td><td>2016-11-09</td><td>2016-11-16</td><td>2</td><td>3</td></tr>",
                            "<tr><td>MONIKAM</td><td>Mohos Mónika</td><td>2017-01-17</td><td>2017-01-24</td><td>1</td><td>5</td></tr>",
                            "<tr><td>MONIKAM</td><td>Mohos Mónika</td><td>2017-02-06</td><td>2017-02-09</td><td>2</td><td>4</td></tr>",
                            "<tr><td>MONIKAM</td><td>Mohos Mónika</td><td>2017-02-23</td><td>2017-02-26</td><td>2</td><td>5</td></tr>",
                            "<tr><td>NANDORF</td><td>Fő Nándor</td><td>2016-04-06</td><td>2016-04-10</td><td>3</td><td>0</td></tr>",
                            "<tr><td>NANDORF</td><td>Fő Nándor</td><td>2016-11-03</td><td>2016-11-04</td><td>3</td><td>3</td></tr>",
                            "<tr><td>NANDORF</td><td>Fő Nándor</td><td>2017-02-05</td><td>2017-02-08</td><td>3</td><td>6</td></tr>",
                            "<tr><td>nikolett3</td><td>Horváth Nikolett</td><td>2016-05-24</td><td>2016-05-29</td><td>2</td><td>0</td></tr>",
                            "<tr><td>nikolett3</td><td>Horváth Nikolett</td><td>2016-06-03</td><td>2016-06-09</td><td>1</td><td>2</td></tr>",
                            "<tr><td>nikolett3</td><td>Horváth Nikolett</td><td>2016-06-22</td><td>2016-06-24</td><td>1</td><td>3</td></tr>",
                            "<tr><td>nikolett3</td><td>Horváth Nikolett</td><td>2016-10-22</td><td>2016-10-29</td><td>3</td><td>4</td></tr>",
                            "<tr><td>nikoletta4</td><td>Kő Nikoletta</td><td>2016-04-08</td><td>2016-04-10</td><td>2</td><td>0</td></tr>",
                            "<tr><td>nikoletta4</td><td>Kő Nikoletta</td><td>2016-05-09</td><td>2016-05-15</td><td>2</td><td>2</td></tr>",
                            "<tr><td>nikoletta4</td><td>Kő Nikoletta</td><td>2016-05-30</td><td>2016-06-03</td><td>3</td><td>4</td></tr>",
                            "<tr><td>nikoletta4</td><td>Kő Nikoletta</td><td>2016-06-29</td><td>2016-07-06</td><td>2</td><td>7</td></tr>",
                            "<tr><td>nikoletta4</td><td>Kő Nikoletta</td><td>2016-08-13</td><td>2016-08-17</td><td>3</td><td>7</td></tr>",
                            "<tr><td>nikoletta4</td><td>Kő Nikoletta</td><td>2016-12-08</td><td>2016-12-10</td><td>5</td><td>8</td></tr>",
                            "<tr><td>nikoletta4</td><td>Kő Nikoletta</td><td>2017-02-01</td><td>2017-02-04</td><td>2</td><td>10</td></tr>",
                            "<tr><td>NIKOLETTAT</td><td>Tatár Nikoletta</td><td>2016-05-22</td><td>2016-05-23</td><td>4</td><td>0</td></tr>",
                            "<tr><td>NIKOLETTAT</td><td>Tatár Nikoletta</td><td>2016-06-07</td><td>2016-06-09</td><td>2</td><td>4</td></tr>",
                            "<tr><td>NIKOLETTAT</td><td>Tatár Nikoletta</td><td>2016-07-27</td><td>2016-07-29</td><td>4</td><td>6</td></tr>",
                            "<tr><td>NIKOLETTAT</td><td>Tatár Nikoletta</td><td>2016-09-21</td><td>2016-09-26</td><td>2</td><td>10</td></tr>",
                            "<tr><td>norbert</td><td>Szűcs Norbert</td><td>2016-07-08</td><td>2016-07-13</td><td>1</td><td>0</td></tr>",
                            "<tr><td>norbert</td><td>Szűcs Norbert</td><td>2016-11-16</td><td>2016-11-23</td><td>3</td><td>1</td></tr>",
                            "<tr><td>norbert</td><td>Szűcs Norbert</td><td>2016-12-15</td><td>2016-12-18</td><td>2</td><td>4</td></tr>",
                            "<tr><td>norbert</td><td>Szűcs Norbert</td><td>2017-02-13</td><td>2017-02-15</td><td>3</td><td>6</td></tr>",
                            "<tr><td>norbert</td><td>Szűcs Norbert</td><td>2017-02-26</td><td>2017-03-01</td><td>1</td><td>8</td></tr>",
                            "<tr><td>norbert2</td><td>Hegedűs Norbert</td><td>2016-04-19</td><td>2016-04-26</td><td>1</td><td>0</td></tr>",
                            "<tr><td>norbert2</td><td>Hegedűs Norbert</td><td>2016-05-09</td><td>2016-05-10</td><td>2</td><td>1</td></tr>",
                            "<tr><td>norbert2</td><td>Hegedűs Norbert</td><td>2016-07-13</td><td>2016-07-15</td><td>3</td><td>3</td></tr>",
                            "<tr><td>norbert2</td><td>Hegedűs Norbert</td><td>2016-07-27</td><td>2016-08-02</td><td>2</td><td>6</td></tr>",
                            "<tr><td>norbert2</td><td>Hegedűs Norbert</td><td>2016-08-16</td><td>2016-08-19</td><td>1</td><td>7</td></tr>",
                            "<tr><td>norbert2</td><td>Hegedűs Norbert</td><td>2016-10-31</td><td>2016-11-07</td><td>2</td><td>6</td></tr>",
                            "<tr><td>norbert2</td><td>Hegedűs Norbert</td><td>2017-01-29</td><td>2017-02-05</td><td>3</td><td>5</td></tr>",
                            "<tr><td>norbert4</td><td>Mile Norbert</td><td>2016-04-10</td><td>2016-04-13</td><td>2</td><td>0</td></tr>",
                            "<tr><td>norbert4</td><td>Mile Norbert</td><td>2016-05-29</td><td>2016-06-03</td><td>3</td><td>2</td></tr>",
                            "<tr><td>norbert4</td><td>Mile Norbert</td><td>2016-06-16</td><td>2016-06-17</td><td>4</td><td>5</td></tr>",
                            "<tr><td>norbert4</td><td>Mile Norbert</td><td>2016-06-16</td><td>2016-06-21</td><td>3</td><td>9</td></tr>",
                            "<tr><td>norbert4</td><td>Mile Norbert</td><td>2016-10-05</td><td>2016-10-10</td><td>3</td><td>10</td></tr>",
                            "<tr><td>norbert4</td><td>Mile Norbert</td><td>2016-10-28</td><td>2016-10-31</td><td>3</td><td>10</td></tr>",
                            "<tr><td>norbert4</td><td>Mile Norbert</td><td>2016-11-30</td><td>2016-12-06</td><td>3</td><td>9</td></tr>",
                            "<tr><td>norbert4</td><td>Mile Norbert</td><td>2017-02-16</td><td>2017-02-17</td><td>1</td><td>9</td></tr>",
                            "<tr><td>norbert4</td><td>Mile Norbert</td><td>2017-03-03</td><td>2017-03-07</td><td>2</td><td>7</td></tr>",
                            "<tr><td>norbert5</td><td>Béres Norbert</td><td>2016-06-24</td><td>2016-06-28</td><td>2</td><td>0</td></tr>",
                            "<tr><td>norbert5</td><td>Béres Norbert</td><td>2016-08-10</td><td>2016-08-11</td><td>2</td><td>2</td></tr>",
                            "<tr><td>norbert5</td><td>Béres Norbert</td><td>2016-11-05</td><td>2016-11-07</td><td>1</td><td>4</td></tr>",
                            "<tr><td>pal</td><td>Barabás Pál</td><td>2016-08-14</td><td>2016-08-18</td><td>3</td><td>0</td></tr>",
                            "<tr><td>pal</td><td>Barabás Pál</td><td>2016-09-16</td><td>2016-09-19</td><td>2</td><td>3</td></tr>",
                            "<tr><td>pal</td><td>Barabás Pál</td><td>2016-12-17</td><td>2016-12-23</td><td>3</td><td>5</td></tr>",
                            "<tr><td>pal</td><td>Barabás Pál</td><td>2017-02-13</td><td>2017-02-19</td><td>3</td><td>8</td></tr>",
                            "<tr><td>pal</td><td>Barabás Pál</td><td>2017-02-20</td><td>2017-02-22</td><td>3</td><td>8</td></tr>",
                            "<tr><td>peter1</td><td>Kozma Péter</td><td>2016-07-14</td><td>2016-07-18</td><td>3</td><td>0</td></tr>",
                            "<tr><td>peter1</td><td>Kozma Péter</td><td>2016-10-26</td><td>2016-11-01</td><td>3</td><td>3</td></tr>",
                            "<tr><td>peter1</td><td>Kozma Péter</td><td>2017-02-23</td><td>2017-02-26</td><td>3</td><td>6</td></tr>",
                            "<tr><td>peter1</td><td>Kozma Péter</td><td>2017-02-28</td><td>2017-03-05</td><td>3</td><td>9</td></tr>",
                            "<tr><td>peter2</td><td>Bozsó Péter</td><td>2016-07-03</td><td>2016-07-08</td><td>2</td><td>0</td></tr>",
                            "<tr><td>peter2</td><td>Bozsó Péter</td><td>2016-10-10</td><td>2016-10-16</td><td>2</td><td>2</td></tr>",
                            "<tr><td>peter2</td><td>Bozsó Péter</td><td>2016-11-01</td><td>2016-11-02</td><td>2</td><td>4</td></tr>",
                            "<tr><td>peter2</td><td>Bozsó Péter</td><td>2016-11-15</td><td>2016-11-21</td><td>3</td><td>6</td></tr>",
                            "<tr><td>peter3</td><td>Szalai Péter</td><td>2016-06-30</td><td>2016-07-05</td><td>3</td><td>0</td></tr>",
                            "<tr><td>peter3</td><td>Szalai Péter</td><td>2016-07-27</td><td>2016-07-31</td><td>4</td><td>3</td></tr>",
                            "<tr><td>peter3</td><td>Szalai Péter</td><td>2016-10-30</td><td>2016-11-06</td><td>2</td><td>7</td></tr>",
                            "<tr><td>peter3</td><td>Szalai Péter</td><td>2016-12-25</td><td>2016-12-28</td><td>1</td><td>9</td></tr>",
                            "<tr><td>peter3</td><td>Szalai Péter</td><td>2017-01-12</td><td>2017-01-17</td><td>1</td><td>7</td></tr>",
                            "<tr><td>peter3</td><td>Szalai Péter</td><td>2017-02-21</td><td>2017-02-24</td><td>2</td><td>4</td></tr>",
                            "<tr><td>peter4</td><td>Bíró Péter</td><td>2016-04-12</td><td>2016-04-15</td><td>3</td><td>0</td></tr>",
                            "<tr><td>peter4</td><td>Bíró Péter</td><td>2016-08-06</td><td>2016-08-13</td><td>2</td><td>3</td></tr>",
                            "<tr><td>peter4</td><td>Bíró Péter</td><td>2016-08-24</td><td>2016-08-25</td><td>3</td><td>5</td></tr>",
                            "<tr><td>peter4</td><td>Bíró Péter</td><td>2016-09-11</td><td>2016-09-17</td><td>4</td><td>8</td></tr>",
                            "<tr><td>peter4</td><td>Bíró Péter</td><td>2016-09-25</td><td>2016-09-26</td><td>3</td><td>9</td></tr>",
                            "<tr><td>peter4</td><td>Bíró Péter</td><td>2016-09-30</td><td>2016-10-06</td><td>3</td><td>10</td></tr>",
                            "<tr><td>peter4</td><td>Bíró Péter</td><td>2016-10-09</td><td>2016-10-16</td><td>3</td><td>10</td></tr>",
                            "<tr><td>peter4</td><td>Bíró Péter</td><td>2016-10-24</td><td>2016-10-25</td><td>2</td><td>9</td></tr>",
                            "<tr><td>peter4</td><td>Bíró Péter</td><td>2016-10-30</td><td>2016-11-01</td><td>3</td><td>8</td></tr>",
                            "<tr><td>peter4</td><td>Bíró Péter</td><td>2016-11-10</td><td>2016-11-17</td><td>3</td><td>8</td></tr>",
                            "<tr><td>peter4</td><td>Bíró Péter</td><td>2016-11-25</td><td>2016-11-30</td><td>3</td><td>8</td></tr>",
                            "<tr><td>peter4</td><td>Bíró Péter</td><td>2017-02-05</td><td>2017-02-09</td><td>3</td><td>9</td></tr>",
                            "<tr><td>PETERB</td><td>Berendi Péter</td><td>2016-04-06</td><td>2016-04-10</td><td>1</td><td>0</td></tr>",
                            "<tr><td>PETERB</td><td>Berendi Péter</td><td>2016-07-20</td><td>2016-07-24</td><td>2</td><td>1</td></tr>",
                            "<tr><td>PETERB</td><td>Berendi Péter</td><td>2016-08-16</td><td>2016-08-23</td><td>1</td><td>3</td></tr>",
                            "<tr><td>PETERB</td><td>Berendi Péter</td><td>2016-10-19</td><td>2016-10-20</td><td>4</td><td>4</td></tr>",
                            "<tr><td>PETERB</td><td>Berendi Péter</td><td>2016-11-17</td><td>2016-11-20</td><td>2</td><td>7</td></tr>",
                            "<tr><td>polla</td><td>Palágyi Polla</td><td>2016-04-17</td><td>2016-04-22</td><td>3</td><td>0</td></tr>",
                            "<tr><td>polla</td><td>Palágyi Polla</td><td>2016-05-28</td><td>2016-06-04</td><td>2</td><td>3</td></tr>",
                            "<tr><td>polla</td><td>Palágyi Polla</td><td>2016-08-14</td><td>2016-08-17</td><td>2</td><td>5</td></tr>",
                            "<tr><td>polla</td><td>Palágyi Polla</td><td>2016-08-16</td><td>2016-08-19</td><td>4</td><td>7</td></tr>",
                            "<tr><td>polla</td><td>Palágyi Polla</td><td>2017-01-29</td><td>2017-02-01</td><td>2</td><td>8</td></tr>",
                            "<tr><td>polla</td><td>Palágyi Polla</td><td>2017-02-11</td><td>2017-02-16</td><td>2</td><td>8</td></tr>",
                            "<tr><td>rajmond4</td><td>Rácz Rajmond</td><td>2016-09-05</td><td>2016-09-07</td><td>3</td><td>0</td></tr>",
                            "<tr><td>rajmond4</td><td>Rácz Rajmond</td><td>2016-10-03</td><td>2016-10-04</td><td>3</td><td>3</td></tr>",
                            "<tr><td>rajmond4</td><td>Rácz Rajmond</td><td>2016-11-08</td><td>2016-11-09</td><td>4</td><td>6</td></tr>",
                            "<tr><td>rajmond4</td><td>Rácz Rajmond</td><td>2016-11-16</td><td>2016-11-20</td><td>2</td><td>10</td></tr>",
                            "<tr><td>reka4</td><td>Szikszai Réka</td><td>2016-07-27</td><td>2016-07-31</td><td>2</td><td>0</td></tr>",
                            "<tr><td>reka4</td><td>Szikszai Réka</td><td>2016-08-02</td><td>2016-08-04</td><td>4</td><td>2</td></tr>",
                            "<tr><td>reka4</td><td>Szikszai Réka</td><td>2016-09-05</td><td>2016-09-07</td><td>3</td><td>6</td></tr>",
                            "<tr><td>reka4</td><td>Szikszai Réka</td><td>2016-09-30</td><td>2016-10-06</td><td>2</td><td>9</td></tr>",
                            "<tr><td>reka4</td><td>Szikszai Réka</td><td>2017-02-26</td><td>2017-03-04</td><td>2</td><td>9</td></tr>",
                            "<tr><td>RENATAK</td><td>Kardos Renáta</td><td>2016-10-27</td><td>2016-10-29</td><td>4</td><td>0</td></tr>",
                            "<tr><td>RENATAK</td><td>Kardos Renáta</td><td>2016-10-30</td><td>2016-10-31</td><td>1</td><td>4</td></tr>",
                            "<tr><td>RENATAK</td><td>Kardos Renáta</td><td>2016-11-23</td><td>2016-11-26</td><td>1</td><td>5</td></tr>",
                            "<tr><td>RENATAK</td><td>Kardos Renáta</td><td>2017-01-23</td><td>2017-01-24</td><td>3</td><td>6</td></tr>",
                            "<tr><td>RENATAK</td><td>Kardos Renáta</td><td>2017-02-16</td><td>2017-02-23</td><td>1</td><td>5</td></tr>",
                            "<tr><td>RENATAK</td><td>Kardos Renáta</td><td>2017-03-01</td><td>2017-03-06</td><td>1</td><td>5</td></tr>",
                            "<tr><td>RENATAS</td><td>Szirmai Renáta</td><td>2016-05-04</td><td>2016-05-11</td><td>2</td><td>0</td></tr>",
                            "<tr><td>RENATAS</td><td>Szirmai Renáta</td><td>2016-05-11</td><td>2016-05-16</td><td>2</td><td>2</td></tr>",
                            "<tr><td>RENATAS</td><td>Szirmai Renáta</td><td>2016-06-24</td><td>2016-06-30</td><td>5</td><td>4</td></tr>",
                            "<tr><td>RENATAS</td><td>Szirmai Renáta</td><td>2017-02-13</td><td>2017-02-17</td><td>1</td><td>9</td></tr>",
                            "<tr><td>RENATAS</td><td>Szirmai Renáta</td><td>2017-02-14</td><td>2017-02-17</td><td>2</td><td>8</td></tr>",
                            "<tr><td>robert2</td><td>Patay Róbert</td><td>2016-05-15</td><td>2016-05-18</td><td>2</td><td>0</td></tr>",
                            "<tr><td>robert2</td><td>Patay Róbert</td><td>2016-08-20</td><td>2016-08-27</td><td>2</td><td>2</td></tr>",
                            "<tr><td>robert2</td><td>Patay Róbert</td><td>2016-10-23</td><td>2016-10-28</td><td>3</td><td>4</td></tr>",
                            "<tr><td>robert2</td><td>Patay Róbert</td><td>2016-12-17</td><td>2016-12-22</td><td>1</td><td>7</td></tr>",
                            "<tr><td>ROBERTI</td><td>Iván Róbert</td><td>2016-07-12</td><td>2016-07-19</td><td>4</td><td>0</td></tr>",
                            "<tr><td>ROBERTI</td><td>Iván Róbert</td><td>2016-08-16</td><td>2016-08-21</td><td>2</td><td>4</td></tr>",
                            "<tr><td>ROBERTI</td><td>Iván Róbert</td><td>2016-08-23</td><td>2016-08-25</td><td>2</td><td>6</td></tr>",
                            "<tr><td>ROBERTI</td><td>Iván Róbert</td><td>2016-10-08</td><td>2016-10-12</td><td>3</td><td>8</td></tr>",
                            "<tr><td>ROBERTI</td><td>Iván Róbert</td><td>2016-10-09</td><td>2016-10-10</td><td>2</td><td>7</td></tr>",
                            "<tr><td>ROBERTI</td><td>Iván Róbert</td><td>2016-10-23</td><td>2016-10-29</td><td>1</td><td>7</td></tr>",
                            "<tr><td>ROBERTI</td><td>Iván Róbert</td><td>2016-10-26</td><td>2016-11-01</td><td>2</td><td>6</td></tr>",
                            "<tr><td>ROBERTI</td><td>Iván Róbert</td><td>2017-02-17</td><td>2017-02-20</td><td>2</td><td>5</td></tr>",
                            "<tr><td>ROBERTP</td><td>Pásztor Róbert</td><td>2016-07-30</td><td>2016-08-05</td><td>2</td><td>0</td></tr>",
                            "<tr><td>ROBERTP</td><td>Pásztor Róbert</td><td>2016-09-08</td><td>2016-09-11</td><td>4</td><td>2</td></tr>",
                            "<tr><td>roland</td><td>Tóth Roland</td><td>2016-06-09</td><td>2016-06-13</td><td>3</td><td>0</td></tr>",
                            "<tr><td>roland</td><td>Tóth Roland</td><td>2016-06-22</td><td>2016-06-23</td><td>3</td><td>3</td></tr>",
                            "<tr><td>roland</td><td>Tóth Roland</td><td>2016-09-04</td><td>2016-09-05</td><td>2</td><td>6</td></tr>",
                            "<tr><td>roland</td><td>Tóth Roland</td><td>2016-11-19</td><td>2016-11-24</td><td>2</td><td>8</td></tr>",
                            "<tr><td>roland1</td><td>Ferencz Roland</td><td>2016-11-05</td><td>2016-11-07</td><td>3</td><td>0</td></tr>",
                            "<tr><td>roland1</td><td>Ferencz Roland</td><td>2016-12-22</td><td>2016-12-29</td><td>1</td><td>3</td></tr>",
                            "<tr><td>roland1</td><td>Ferencz Roland</td><td>2017-01-04</td><td>2017-01-08</td><td>3</td><td>4</td></tr>",
                            "<tr><td>roland1</td><td>Ferencz Roland</td><td>2017-01-16</td><td>2017-01-22</td><td>2</td><td>7</td></tr>",
                            "<tr><td>roza2</td><td>Bucskó Róza</td><td>2016-09-10</td><td>2016-09-13</td><td>2</td><td>0</td></tr>",
                            "<tr><td>roza2</td><td>Bucskó Róza</td><td>2017-01-11</td><td>2017-01-17</td><td>3</td><td>2</td></tr>",
                            "<tr><td>roza2</td><td>Bucskó Róza</td><td>2017-02-18</td><td>2017-02-21</td><td>3</td><td>5</td></tr>",
                            "<tr><td>sandor</td><td>Karasz Sándor</td><td>2016-07-04</td><td>2016-07-06</td><td>2</td><td>0</td></tr>",
                            "<tr><td>sandor</td><td>Karasz Sándor</td><td>2016-07-18</td><td>2016-07-24</td><td>2</td><td>2</td></tr>",
                            "<tr><td>sandor</td><td>Karasz Sándor</td><td>2016-08-20</td><td>2016-08-25</td><td>2</td><td>4</td></tr>",
                            "<tr><td>sandor</td><td>Karasz Sándor</td><td>2016-09-19</td><td>2016-09-26</td><td>4</td><td>6</td></tr>",
                            "<tr><td>sandor3</td><td>Farkas Sándor</td><td>2016-05-12</td><td>2016-05-15</td><td>2</td><td>0</td></tr>",
                            "<tr><td>sandor3</td><td>Farkas Sándor</td><td>2016-05-25</td><td>2016-05-30</td><td>1</td><td>2</td></tr>",
                            "<tr><td>sandor3</td><td>Farkas Sándor</td><td>2016-10-09</td><td>2016-10-14</td><td>2</td><td>3</td></tr>",
                            "<tr><td>sandor3</td><td>Farkas Sándor</td><td>2016-10-23</td><td>2016-10-29</td><td>3</td><td>5</td></tr>",
                            "<tr><td>sandor3</td><td>Farkas Sándor</td><td>2016-11-10</td><td>2016-11-11</td><td>2</td><td>6</td></tr>",
                            "<tr><td>sandor4</td><td>Nagy Sándor</td><td>2016-10-15</td><td>2016-10-18</td><td>1</td><td>0</td></tr>",
                            "<tr><td>sandor4</td><td>Nagy Sándor</td><td>2016-11-29</td><td>2016-12-03</td><td>2</td><td>1</td></tr>",
                            "<tr><td>sandor4</td><td>Nagy Sándor</td><td>2016-12-03</td><td>2016-12-09</td><td>1</td><td>3</td></tr>",
                            "<tr><td>sandor4</td><td>Nagy Sándor</td><td>2017-01-22</td><td>2017-01-26</td><td>2</td><td>4</td></tr>",
                            "<tr><td>sara</td><td>Farkas Sára</td><td>2016-05-28</td><td>2016-05-30</td><td>2</td><td>0</td></tr>",
                            "<tr><td>sara</td><td>Farkas Sára</td><td>2016-05-30</td><td>2016-05-31</td><td>2</td><td>2</td></tr>",
                            "<tr><td>sara</td><td>Farkas Sára</td><td>2016-06-06</td><td>2016-06-08</td><td>2</td><td>4</td></tr>",
                            "<tr><td>sara</td><td>Farkas Sára</td><td>2016-07-15</td><td>2016-07-17</td><td>3</td><td>6</td></tr>",
                            "<tr><td>sara</td><td>Farkas Sára</td><td>2016-07-24</td><td>2016-07-27</td><td>3</td><td>7</td></tr>",
                            "<tr><td>sara</td><td>Farkas Sára</td><td>2016-10-06</td><td>2016-10-12</td><td>3</td><td>8</td></tr>",
                            "<tr><td>sara</td><td>Farkas Sára</td><td>2016-10-11</td><td>2016-10-14</td><td>3</td><td>9</td></tr>",
                            "<tr><td>sara</td><td>Farkas Sára</td><td>2016-10-28</td><td>2016-11-03</td><td>2</td><td>9</td></tr>",
                            "<tr><td>sara</td><td>Farkas Sára</td><td>2016-11-18</td><td>2016-11-21</td><td>3</td><td>8</td></tr>",
                            "<tr><td>sara</td><td>Farkas Sára</td><td>2016-11-23</td><td>2016-11-30</td><td>4</td><td>8</td></tr>",
                            "<tr><td>sara</td><td>Farkas Sára</td><td>2016-12-06</td><td>2016-12-10</td><td>1</td><td>9</td></tr>",
                            "<tr><td>sara</td><td>Farkas Sára</td><td>2016-12-25</td><td>2016-12-30</td><td>2</td><td>8</td></tr>",
                            "<tr><td>SEBASTIANF</td><td>Foltényi Sebastián</td><td>2016-04-06</td><td>2016-04-12</td><td>2</td><td>0</td></tr>",
                            "<tr><td>SEBASTIANF</td><td>Foltényi Sebastián</td><td>2016-07-17</td><td>2016-07-21</td><td>2</td><td>2</td></tr>",
                            "<tr><td>SEBASTIANF</td><td>Foltényi Sebastián</td><td>2016-07-30</td><td>2016-08-06</td><td>4</td><td>4</td></tr>",
                            "<tr><td>SEBASTIANF</td><td>Foltényi Sebastián</td><td>2016-09-14</td><td>2016-09-15</td><td>3</td><td>8</td></tr>",
                            "<tr><td>SEBASTIANF</td><td>Foltényi Sebastián</td><td>2016-09-17</td><td>2016-09-20</td><td>3</td><td>9</td></tr>",
                            "<tr><td>sebestyen</td><td>Rab Sebestyén</td><td>2016-04-07</td><td>2016-04-12</td><td>4</td><td>0</td></tr>",
                            "<tr><td>sebestyen</td><td>Rab Sebestyén</td><td>2016-04-26</td><td>2016-05-02</td><td>4</td><td>4</td></tr>",
                            "<tr><td>sebestyen</td><td>Rab Sebestyén</td><td>2016-06-09</td><td>2016-06-14</td><td>4</td><td>8</td></tr>",
                            "<tr><td>sebestyen</td><td>Rab Sebestyén</td><td>2016-10-26</td><td>2016-11-01</td><td>5</td><td>12</td></tr>",
                            "<tr><td>szabolcs</td><td>Bodor Szabolcs</td><td>2016-12-05</td><td>2016-12-07</td><td>2</td><td>0</td></tr>",
                            "<tr><td>SZABOLCSM</td><td>Miklós Szabolcs</td><td>2016-06-18</td><td>2016-06-21</td><td>3</td><td>0</td></tr>",
                            "<tr><td>SZABOLCSM</td><td>Miklós Szabolcs</td><td>2016-07-28</td><td>2016-08-03</td><td>2</td><td>3</td></tr>",
                            "<tr><td>SZABOLCSM</td><td>Miklós Szabolcs</td><td>2016-10-17</td><td>2016-10-19</td><td>2</td><td>5</td></tr>",
                            "<tr><td>SZABOLCSM</td><td>Miklós Szabolcs</td><td>2016-10-28</td><td>2016-11-03</td><td>3</td><td>7</td></tr>",
                            "<tr><td>SZABOLCSM</td><td>Miklós Szabolcs</td><td>2016-11-12</td><td>2016-11-13</td><td>2</td><td>7</td></tr>",
                            "<tr><td>SZABOLCSM</td><td>Miklós Szabolcs</td><td>2017-01-07</td><td>2017-01-08</td><td>2</td><td>7</td></tr>",
                            "<tr><td>SZABOLCSM</td><td>Miklós Szabolcs</td><td>2017-02-04</td><td>2017-02-05</td><td>3</td><td>7</td></tr>",
                            "<tr><td>SZILARDS</td><td>Szalai Szilárd</td><td>2016-04-23</td><td>2016-04-30</td><td>3</td><td>0</td></tr>",
                            "<tr><td>SZILARDS</td><td>Szalai Szilárd</td><td>2016-07-27</td><td>2016-08-03</td><td>5</td><td>3</td></tr>",
                            "<tr><td>SZILARDS</td><td>Szalai Szilárd</td><td>2016-08-28</td><td>2016-08-29</td><td>4</td><td>8</td></tr>",
                            "<tr><td>SZILARDS</td><td>Szalai Szilárd</td><td>2016-09-20</td><td>2016-09-24</td><td>3</td><td>12</td></tr>",
                            "<tr><td>SZILARDS</td><td>Szalai Szilárd</td><td>2016-10-01</td><td>2016-10-08</td><td>3</td><td>12</td></tr>",
                            "<tr><td>SZILARDS</td><td>Szalai Szilárd</td><td>2017-01-16</td><td>2017-01-19</td><td>3</td><td>10</td></tr>",
                            "<tr><td>SZILARDS</td><td>Szalai Szilárd</td><td>2017-02-08</td><td>2017-02-15</td><td>1</td><td>9</td></tr>",
                            "<tr><td>szilvia1</td><td>Tari Szilvia</td><td>2016-05-14</td><td>2016-05-21</td><td>2</td><td>0</td></tr>",
                            "<tr><td>szilvia1</td><td>Tari Szilvia</td><td>2016-05-28</td><td>2016-06-03</td><td>2</td><td>2</td></tr>",
                            "<tr><td>szilvia1</td><td>Tari Szilvia</td><td>2016-07-25</td><td>2016-07-28</td><td>2</td><td>4</td></tr>",
                            "<tr><td>szilvia1</td><td>Tari Szilvia</td><td>2016-10-09</td><td>2016-10-10</td><td>3</td><td>6</td></tr>",
                            "<tr><td>szilvia1</td><td>Tari Szilvia</td><td>2016-10-25</td><td>2016-10-31</td><td>3</td><td>7</td></tr>",
                            "<tr><td>szilvia1</td><td>Tari Szilvia</td><td>2016-10-27</td><td>2016-10-28</td><td>2</td><td>8</td></tr>",
                            "<tr><td>szilvia1</td><td>Tari Szilvia</td><td>2016-12-25</td><td>2016-12-29</td><td>5</td><td>8</td></tr>",
                            "<tr><td>szilvia1</td><td>Tari Szilvia</td><td>2016-12-27</td><td>2017-01-02</td><td>2</td><td>10</td></tr>",
                            "<tr><td>szilvia1</td><td>Tari Szilvia</td><td>2017-01-28</td><td>2017-02-03</td><td>2</td><td>9</td></tr>",
                            "<tr><td>tamara2</td><td>Miklós Tamara</td><td>2016-08-12</td><td>2016-08-15</td><td>3</td><td>0</td></tr>",
                            "<tr><td>tamara2</td><td>Miklós Tamara</td><td>2016-11-15</td><td>2016-11-18</td><td>2</td><td>3</td></tr>",
                            "<tr><td>tamas</td><td>Antal Tamás</td><td>2016-05-17</td><td>2016-05-22</td><td>2</td><td>0</td></tr>",
                            "<tr><td>tamas</td><td>Antal Tamás</td><td>2016-06-14</td><td>2016-06-21</td><td>2</td><td>2</td></tr>",
                            "<tr><td>tamas</td><td>Antal Tamás</td><td>2016-08-24</td><td>2016-08-27</td><td>3</td><td>4</td></tr>",
                            "<tr><td>tamas</td><td>Antal Tamás</td><td>2017-02-14</td><td>2017-02-19</td><td>3</td><td>7</td></tr>",
                            "<tr><td>TAMASF</td><td>Fényes Tamás</td><td>2016-05-03</td><td>2016-05-04</td><td>2</td><td>0</td></tr>",
                            "<tr><td>TAMASF</td><td>Fényes Tamás</td><td>2016-06-10</td><td>2016-06-13</td><td>3</td><td>2</td></tr>",
                            "<tr><td>TAMASF</td><td>Fényes Tamás</td><td>2016-06-28</td><td>2016-07-05</td><td>3</td><td>5</td></tr>",
                            "<tr><td>TAMASF</td><td>Fényes Tamás</td><td>2016-07-04</td><td>2016-07-10</td><td>2</td><td>8</td></tr>",
                            "<tr><td>TAMASF</td><td>Fényes Tamás</td><td>2016-09-12</td><td>2016-09-18</td><td>3</td><td>8</td></tr>",
                            "<tr><td>TAMASF</td><td>Fényes Tamás</td><td>2016-12-02</td><td>2016-12-04</td><td>1</td><td>8</td></tr>",
                            "<tr><td>TAMASF</td><td>Fényes Tamás</td><td>2016-12-10</td><td>2016-12-14</td><td>3</td><td>6</td></tr>",
                            "<tr><td>TAMASF</td><td>Fényes Tamás</td><td>2017-02-12</td><td>2017-02-17</td><td>2</td><td>7</td></tr>",
                            "<tr><td>TAMASF</td><td>Fényes Tamás</td><td>2017-02-16</td><td>2017-02-19</td><td>4</td><td>6</td></tr>",
                            "<tr><td>tibor</td><td>Gombos Tibor</td><td>2016-10-09</td><td>2016-10-13</td><td>2</td><td>0</td></tr>",
                            "<tr><td>tibor</td><td>Gombos Tibor</td><td>2016-11-05</td><td>2016-11-09</td><td>1</td><td>2</td></tr>",
                            "<tr><td>tibor2</td><td>Dániel Tibor</td><td>2016-10-20</td><td>2016-10-25</td><td>2</td><td>0</td></tr>",
                            "<tr><td>tihamer</td><td>Kazy Tihamér</td><td>2016-05-30</td><td>2016-06-05</td><td>1</td><td>0</td></tr>",
                            "<tr><td>tihamer</td><td>Kazy Tihamér</td><td>2016-06-03</td><td>2016-06-08</td><td>5</td><td>1</td></tr>",
                            "<tr><td>tihamer</td><td>Kazy Tihamér</td><td>2016-07-20</td><td>2016-07-24</td><td>3</td><td>6</td></tr>",
                            "<tr><td>tihamer</td><td>Kazy Tihamér</td><td>2016-08-18</td><td>2016-08-22</td><td>3</td><td>9</td></tr>",
                            "<tr><td>tihamer</td><td>Kazy Tihamér</td><td>2016-10-19</td><td>2016-10-23</td><td>2</td><td>11</td></tr>",
                            "<tr><td>tihamer</td><td>Kazy Tihamér</td><td>2016-12-25</td><td>2016-12-26</td><td>2</td><td>8</td></tr>",
                            "<tr><td>timea</td><td>Papós Tímea</td><td>2016-12-26</td><td>2016-12-27</td><td>2</td><td>0</td></tr>",
                            "<tr><td>timea2</td><td>Dusha Tímea</td><td>2016-06-06</td><td>2016-06-07</td><td>2</td><td>0</td></tr>",
                            "<tr><td>timea2</td><td>Dusha Tímea</td><td>2016-08-07</td><td>2016-08-10</td><td>3</td><td>2</td></tr>",
                            "<tr><td>timea2</td><td>Dusha Tímea</td><td>2016-10-26</td><td>2016-10-29</td><td>3</td><td>5</td></tr>",
                            "<tr><td>timea2</td><td>Dusha Tímea</td><td>2016-11-27</td><td>2016-12-01</td><td>4</td><td>8</td></tr>",
                            "<tr><td>timea2</td><td>Dusha Tímea</td><td>2016-12-14</td><td>2016-12-16</td><td>4</td><td>10</td></tr>",
                            "<tr><td>tunde</td><td>Turcsik Tünde</td><td>2016-06-03</td><td>2016-06-07</td><td>3</td><td>0</td></tr>",
                            "<tr><td>tunde</td><td>Turcsik Tünde</td><td>2016-06-06</td><td>2016-06-12</td><td>3</td><td>3</td></tr>",
                            "<tr><td>tunde</td><td>Turcsik Tünde</td><td>2016-07-14</td><td>2016-07-21</td><td>1</td><td>6</td></tr>",
                            "<tr><td>tunde</td><td>Turcsik Tünde</td><td>2016-09-05</td><td>2016-09-12</td><td>2</td><td>7</td></tr>",
                            "<tr><td>tunde</td><td>Turcsik Tünde</td><td>2016-10-24</td><td>2016-10-30</td><td>3</td><td>6</td></tr>",
                            "<tr><td>tunde</td><td>Turcsik Tünde</td><td>2016-11-19</td><td>2016-11-20</td><td>3</td><td>6</td></tr>",
                            "<tr><td>tunde</td><td>Turcsik Tünde</td><td>2016-12-15</td><td>2016-12-20</td><td>3</td><td>8</td></tr>",
                            "<tr><td>tunde</td><td>Turcsik Tünde</td><td>2017-01-03</td><td>2017-01-06</td><td>5</td><td>9</td></tr>",
                            "<tr><td>valentin</td><td>Feró Valentin</td><td>2016-05-24</td><td>2016-05-30</td><td>4</td><td>0</td></tr>",
                            "<tr><td>valentin</td><td>Feró Valentin</td><td>2016-07-24</td><td>2016-07-29</td><td>1</td><td>4</td></tr>",
                            "<tr><td>valentin</td><td>Feró Valentin</td><td>2016-10-26</td><td>2016-10-30</td><td>3</td><td>5</td></tr>",
                            "<tr><td>valentin</td><td>Feró Valentin</td><td>2016-11-11</td><td>2016-11-17</td><td>3</td><td>8</td></tr>",
                            "<tr><td>valentin</td><td>Feró Valentin</td><td>2016-12-01</td><td>2016-12-05</td><td>3</td><td>7</td></tr>",
                            "<tr><td>veronika4</td><td>Tankó Veronika</td><td>2016-05-30</td><td>2016-06-04</td><td>2</td><td>0</td></tr>",
                            "<tr><td>veronika4</td><td>Tankó Veronika</td><td>2016-07-20</td><td>2016-07-26</td><td>3</td><td>2</td></tr>",
                            "<tr><td>veronika4</td><td>Tankó Veronika</td><td>2016-08-16</td><td>2016-08-21</td><td>1</td><td>5</td></tr>",
                            "<tr><td>veronika4</td><td>Tankó Veronika</td><td>2016-09-26</td><td>2016-10-03</td><td>2</td><td>6</td></tr>",
                            "<tr><td>veronika4</td><td>Tankó Veronika</td><td>2017-01-19</td><td>2017-01-24</td><td>3</td><td>6</td></tr>",
                            "<tr><td>veronika4</td><td>Tankó Veronika</td><td>2017-02-03</td><td>2017-02-05</td><td>2</td><td>6</td></tr>",
                            "<tr><td>VIKTORIAU</td><td>Urbán Viktoria</td><td>2016-04-30</td><td>2016-05-03</td><td>1</td><td>0</td></tr>",
                            "<tr><td>VIKTORIAU</td><td>Urbán Viktoria</td><td>2016-08-03</td><td>2016-08-04</td><td>2</td><td>1</td></tr>",
                            "<tr><td>VIKTORIAU</td><td>Urbán Viktoria</td><td>2016-10-14</td><td>2016-10-15</td><td>3</td><td>3</td></tr>",
                            "<tr><td>VIKTORIAU</td><td>Urbán Viktoria</td><td>2016-10-26</td><td>2016-11-02</td><td>4</td><td>6</td></tr>",
                            "<tr><td>VIKTORK</td><td>Keresztúri Viktor</td><td>2016-05-30</td><td>2016-06-01</td><td>2</td><td>0</td></tr>",
                            "<tr><td>VIKTORK</td><td>Keresztúri Viktor</td><td>2016-06-06</td><td>2016-06-07</td><td>4</td><td>2</td></tr>",
                            "<tr><td>vivien3</td><td>Boros Vivien</td><td>2016-05-02</td><td>2016-05-05</td><td>3</td><td>0</td></tr>",
                            "<tr><td>vivien3</td><td>Boros Vivien</td><td>2016-08-13</td><td>2016-08-18</td><td>2</td><td>3</td></tr>",
                            "<tr><td>vivien3</td><td>Boros Vivien</td><td>2016-09-01</td><td>2016-09-05</td><td>2</td><td>5</td></tr>",
                            "<tr><td>vivien3</td><td>Boros Vivien</td><td>2016-10-01</td><td>2016-10-04</td><td>1</td><td>7</td></tr>",
                            "<tr><td>vivien3</td><td>Boros Vivien</td><td>2016-11-17</td><td>2016-11-20</td><td>2</td><td>5</td></tr>",
                            "<tr><td>vivien3</td><td>Boros Vivien</td><td>2016-12-17</td><td>2016-12-21</td><td>2</td><td>5</td></tr>",
                            "<tr><td>vivien3</td><td>Boros Vivien</td><td>2016-12-24</td><td>2016-12-26</td><td>3</td><td>5</td></tr>",
                            "<tr><td>zoltan</td><td>Fodor Zoltán</td><td>2016-08-24</td><td>2016-08-31</td><td>2</td><td>0</td></tr>",
                            "<tr><td>zoltan</td><td>Fodor Zoltán</td><td>2016-09-05</td><td>2016-09-09</td><td>3</td><td>2</td></tr>",
                            "<tr><td>zoltan4</td><td>Barna Zoltán</td><td>2016-05-12</td><td>2016-05-16</td><td>3</td><td>0</td></tr>",
                            "<tr><td>zoltan4</td><td>Barna Zoltán</td><td>2016-05-13</td><td>2016-05-16</td><td>3</td><td>3</td></tr>",
                            "<tr><td>zoltan4</td><td>Barna Zoltán</td><td>2016-06-03</td><td>2016-06-06</td><td>1</td><td>6</td></tr>",
                            "<tr><td>zoltan4</td><td>Barna Zoltán</td><td>2016-08-15</td><td>2016-08-21</td><td>1</td><td>7</td></tr>",
                            "<tr><td>zoltan4</td><td>Barna Zoltán</td><td>2016-08-16</td><td>2016-08-23</td><td>2</td><td>5</td></tr>",
                            "<tr><td>zoltan4</td><td>Barna Zoltán</td><td>2016-09-30</td><td>2016-10-07</td><td>3</td><td>4</td></tr>",
                            "<tr><td>zoltan4</td><td>Barna Zoltán</td><td>2016-10-21</td><td>2016-10-24</td><td>5</td><td>6</td></tr>",
                            "<tr><td>zoltan4</td><td>Barna Zoltán</td><td>2016-10-26</td><td>2016-10-30</td><td>2</td><td>10</td></tr>",
                            "<tr><td>zoltan4</td><td>Barna Zoltán</td><td>2016-10-30</td><td>2016-11-06</td><td>1</td><td>10</td></tr>",
                            "<tr><td>zoltan4</td><td>Barna Zoltán</td><td>2016-11-19</td><td>2016-11-21</td><td>2</td><td>8</td></tr>",
                            "<tr><td>zoltan4</td><td>Barna Zoltán</td><td>2016-12-29</td><td>2017-01-04</td><td>1</td><td>5</td></tr>",
                            "<tr><td>zoltan4</td><td>Barna Zoltán</td><td>2017-01-01</td><td>2017-01-02</td><td>3</td><td>4</td></tr>",
                            "<tr><td>ZOLTANP</td><td>Pintér Zoltán</td><td>2016-06-05</td><td>2016-06-08</td><td>2</td><td>0</td></tr>",
                            "<tr><td>ZOLTANP</td><td>Pintér Zoltán</td><td>2016-06-06</td><td>2016-06-08</td><td>2</td><td>2</td></tr>",
                            "<tr><td>ZOLTANP</td><td>Pintér Zoltán</td><td>2016-07-20</td><td>2016-07-25</td><td>3</td><td>4</td></tr>",
                            "<tr><td>ZOLTANP</td><td>Pintér Zoltán</td><td>2016-10-19</td><td>2016-10-25</td><td>2</td><td>7</td></tr>",
                            "<tr><td>ZOLTANP</td><td>Pintér Zoltán</td><td>2016-12-07</td><td>2016-12-10</td><td>3</td><td>7</td></tr>",
                            "<tr><td>ZOLTANP</td><td>Pintér Zoltán</td><td>2016-12-25</td><td>2016-12-29</td><td>2</td><td>8</td></tr>",
                            "<tr><td>ZOLTANT</td><td>Tóth Zoltán</td><td>2016-05-01</td><td>2016-05-04</td><td>3</td><td>0</td></tr>",
                            "<tr><td>ZOLTANT</td><td>Tóth Zoltán</td><td>2016-07-14</td><td>2016-07-15</td><td>3</td><td>3</td></tr>",
                            "<tr><td>ZOLTANT</td><td>Tóth Zoltán</td><td>2017-01-16</td><td>2017-01-20</td><td>2</td><td>6</td></tr>",
                            "<tr><td>zsofi1</td><td>Molnár Zsófi</td><td>2016-06-16</td><td>2016-06-17</td><td>2</td><td>0</td></tr>",
                            "<tr><td>zsofi1</td><td>Molnár Zsófi</td><td>2017-02-18</td><td>2017-02-19</td><td>3</td><td>2</td></tr>",
                            "<tr><td>zsolt1</td><td>Pulai Zsolt</td><td>2016-04-14</td><td>2016-04-17</td><td>2</td><td>0</td></tr>",
                            "<tr><td>zsolt1</td><td>Pulai Zsolt</td><td>2016-06-06</td><td>2016-06-08</td><td>2</td><td>2</td></tr>",
                            "<tr><td>zsolt1</td><td>Pulai Zsolt</td><td>2016-06-07</td><td>2016-06-10</td><td>4</td><td>4</td></tr>",
                            "<tr><td>zsolt1</td><td>Pulai Zsolt</td><td>2016-07-31</td><td>2016-08-02</td><td>2</td><td>8</td></tr>",
                            "<tr><td>ZSOLTJ</td><td>Józsa Zsolt</td><td>2016-04-24</td><td>2016-04-26</td><td>4</td><td>0</td></tr>",
                            "<tr><td>ZSOLTJ</td><td>Józsa Zsolt</td><td>2016-05-09</td><td>2016-05-11</td><td>2</td><td>4</td></tr>",
                            "<tr><td>ZSOLTJ</td><td>Józsa Zsolt</td><td>2016-05-28</td><td>2016-06-03</td><td>1</td><td>6</td></tr>",
                            "<tr><td>ZSOLTJ</td><td>Józsa Zsolt</td><td>2016-06-17</td><td>2016-06-19</td><td>2</td><td>7</td></tr>",
                            "<tr><td>ZSOLTJ</td><td>Józsa Zsolt</td><td>2016-07-18</td><td>2016-07-19</td><td>2</td><td>5</td></tr>",
                            "<tr><td>ZSOLTJ</td><td>Józsa Zsolt</td><td>2016-10-01</td><td>2016-10-06</td><td>2</td><td>5</td></tr>",
                            "<tr><td>zsuzsa</td><td>Pusztai Zsuzsanna</td><td>2016-07-24</td><td>2016-07-25</td><td>3</td><td>0</td></tr>",
                            "<tr><td>zsuzsa</td><td>Pusztai Zsuzsanna</td><td>2016-08-28</td><td>2016-08-30</td><td>2</td><td>3</td></tr>",
                            "<tr><td>zsuzsa</td><td>Pusztai Zsuzsanna</td><td>2016-11-28</td><td>2016-12-04</td><td>3</td><td>5</td></tr>",
                            "<tr><td>zsuzsa3</td><td>Varsányi Zsuzsa</td><td>2016-07-30</td><td>2016-08-02</td><td>2</td><td>0</td></tr>",
                            "<tr><td>zsuzsa3</td><td>Varsányi Zsuzsa</td><td>2016-09-09</td><td>2016-09-10</td><td>2</td><td>2</td></tr>",
                            "<tr><td>zsuzsa3</td><td>Varsányi Zsuzsa</td><td>2016-09-28</td><td>2016-10-03</td><td>2</td><td>4</td></tr>",
                            "<tr><td>zsuzsa3</td><td>Varsányi Zsuzsa</td><td>2016-10-27</td><td>2016-11-03</td><td>4</td><td>6</td></tr>",
                            "<tr><td>zsuzsanna</td><td>Barta Zsuzsanna</td><td>2016-05-17</td><td>2016-05-23</td><td>2</td><td>0</td></tr>",
                            "<tr><td>zsuzsanna</td><td>Barta Zsuzsanna</td><td>2016-07-12</td><td>2016-07-15</td><td>2</td><td>2</td></tr>",
                            "<tr><td>zsuzsanna</td><td>Barta Zsuzsanna</td><td>2017-01-09</td><td>2017-01-16</td><td>1</td><td>4</td></tr>",
                            "<tr><td>zsuzsanna</td><td>Barta Zsuzsanna</td><td>2017-01-16</td><td>2017-01-22</td><td>2</td><td>5</td></tr>",
                            "<tr><td>ZSUZSAV</td><td>Vajda Zsuzsa</td><td>2016-04-14</td><td>2016-04-16</td><td>2</td><td>0</td></tr>",
                            "<tr><td>ZSUZSAV</td><td>Vajda Zsuzsa</td><td>2016-05-28</td><td>2016-06-01</td><td>4</td><td>2</td></tr>",
                            "<tr><td>ZSUZSAV</td><td>Vajda Zsuzsa</td><td>2016-06-15</td><td>2016-06-21</td><td>3</td><td>6</td></tr>",
                            "<tr><td>ZSUZSAV</td><td>Vajda Zsuzsa</td><td>2016-09-18</td><td>2016-09-20</td><td>2</td><td>9</td></tr>",
                            "<tr><td>ZSUZSAV</td><td>Vajda Zsuzsa</td><td>2016-10-26</td><td>2016-10-28</td><td>1</td><td>9</td></tr>",
                            "<tr><td>ZSUZSAV</td><td>Vajda Zsuzsa</td><td>2016-11-21</td><td>2016-11-24</td><td>3</td><td>6</td></tr>",
                            "</table>"
                        ]
                    }
                }
            ],
            "execution_count": 19
        },
        {
            "cell_type": "markdown",
            "source": [
                "4. <span style=\"background-color: rgb(255, 255, 255); color: rgb(0, 0, 0); font-family: &quot;Open Sans&quot;, sans-serif; font-size: 14.44px;\">Készítsünk listát arról, hogy az egyes szálláshelyeken évente hány foglalás történt!&nbsp;</span> \n",
                "\n",
                "a. A lista jelenítse meg a szálláshely azonosítóját, nevét, az évet, és a foglalások számát!\n",
                "\n",
                "b. Egy új oszlopban jelenítsük meg a szálláshely eddigi éves foglalásainak számát is (az aktuálisat is beleértve). \n",
                "\n",
                "c. Az évnél a METTOL dátumot vegyük figyelembe! \n",
                "\n",
                "d. A lista ne tartalmazzon duplikált sorokat!"
            ],
            "metadata": {
                "azdata_cell_guid": "8e7fef82-8022-49a0-8255-fc2846c2134b"
            },
            "attachments": {}
        },
        {
            "cell_type": "code",
            "source": [
                "WITH EvSzerintiFoglalas AS (\r\n",
                "    SELECT \r\n",
                "        s.SZALLAS_ID,\r\n",
                "        s.SZALLAS_NEV,\r\n",
                "        YEAR(f.METTOL) AS Ev,\r\n",
                "        COUNT(*) AS Eves_Foglalas\r\n",
                "    FROM FOGLALAS f\r\n",
                "    JOIN SZOBA sz ON f.SZOBA_FK = sz.SZOBA_ID\r\n",
                "    JOIN SZALLASHELY s ON sz.SZALLAS_FK = s.SZALLAS_ID\r\n",
                "    GROUP BY s.SZALLAS_ID, s.SZALLAS_NEV, YEAR(f.METTOL)\r\n",
                "),\r\n",
                "Osszes_Foglalas_Evig AS (\r\n",
                "    SELECT \r\n",
                "        esf.SZALLAS_ID,\r\n",
                "        esf.Ev,\r\n",
                "        (\r\n",
                "            SELECT COUNT(*)\r\n",
                "            FROM FOGLALAS f2\r\n",
                "            JOIN SZOBA sz2 ON f2.SZOBA_FK = sz2.SZOBA_ID\r\n",
                "            WHERE sz2.SZALLAS_FK = esf.SZALLAS_ID\r\n",
                "              AND YEAR(f2.METTOL) <= esf.Ev\r\n",
                "        ) AS Osszes_Eddigi_Foglalas\r\n",
                "    FROM EvSzerintiFoglalas esf\r\n",
                ")\r\n",
                "SELECT \r\n",
                "    esf.SZALLAS_ID,\r\n",
                "    esf.SZALLAS_NEV,\r\n",
                "    esf.Ev,\r\n",
                "    esf.Eves_Foglalas,\r\n",
                "    ofe.Osszes_Eddigi_Foglalas\r\n",
                "FROM EvSzerintiFoglalas esf\r\n",
                "JOIN Osszes_Foglalas_Evig ofe \r\n",
                "    ON esf.SZALLAS_ID = ofe.SZALLAS_ID AND esf.Ev = ofe.Ev\r\n",
                "ORDER BY esf.SZALLAS_ID, esf.Ev;\r\n",
                ""
            ],
            "metadata": {
                "azdata_cell_guid": "36f7b396-4a1f-45e5-8720-2302537c91bc",
                "language": "sql"
            },
            "outputs": [
                {
                    "output_type": "display_data",
                    "data": {
                        "text/html": "(24 rows affected)"
                    },
                    "metadata": {}
                },
                {
                    "output_type": "display_data",
                    "data": {
                        "text/html": "Total execution time: 00:00:00.062"
                    },
                    "metadata": {}
                },
                {
                    "output_type": "execute_result",
                    "metadata": {},
                    "execution_count": 20,
                    "data": {
                        "application/vnd.dataresource+json": {
                            "schema": {
                                "fields": [
                                    {
                                        "name": "SZALLAS_ID"
                                    },
                                    {
                                        "name": "SZALLAS_NEV"
                                    },
                                    {
                                        "name": "Ev"
                                    },
                                    {
                                        "name": "Eves_Foglalas"
                                    },
                                    {
                                        "name": "Osszes_Eddigi_Foglalas"
                                    }
                                ]
                            },
                            "data": [
                                {
                                    "SZALLAS_ID": "1",
                                    "SZALLAS_NEV": "Sába-Ház",
                                    "Ev": "2016",
                                    "Eves_Foglalas": "63",
                                    "Osszes_Eddigi_Foglalas": "63"
                                },
                                {
                                    "SZALLAS_ID": "1",
                                    "SZALLAS_NEV": "Sába-Ház",
                                    "Ev": "2017",
                                    "Eves_Foglalas": "7",
                                    "Osszes_Eddigi_Foglalas": "70"
                                },
                                {
                                    "SZALLAS_ID": "2",
                                    "SZALLAS_NEV": "Családi Ház",
                                    "Ev": "2016",
                                    "Eves_Foglalas": "13",
                                    "Osszes_Eddigi_Foglalas": "13"
                                },
                                {
                                    "SZALLAS_ID": "2",
                                    "SZALLAS_NEV": "Családi Ház",
                                    "Ev": "2017",
                                    "Eves_Foglalas": "5",
                                    "Osszes_Eddigi_Foglalas": "18"
                                },
                                {
                                    "SZALLAS_ID": "3",
                                    "SZALLAS_NEV": "Fortuna Apartman",
                                    "Ev": "2016",
                                    "Eves_Foglalas": "35",
                                    "Osszes_Eddigi_Foglalas": "35"
                                },
                                {
                                    "SZALLAS_ID": "3",
                                    "SZALLAS_NEV": "Fortuna Apartman",
                                    "Ev": "2017",
                                    "Eves_Foglalas": "4",
                                    "Osszes_Eddigi_Foglalas": "39"
                                },
                                {
                                    "SZALLAS_ID": "4",
                                    "SZALLAS_NEV": "Fortuna panzió",
                                    "Ev": "2016",
                                    "Eves_Foglalas": "61",
                                    "Osszes_Eddigi_Foglalas": "61"
                                },
                                {
                                    "SZALLAS_ID": "4",
                                    "SZALLAS_NEV": "Fortuna panzió",
                                    "Ev": "2017",
                                    "Eves_Foglalas": "12",
                                    "Osszes_Eddigi_Foglalas": "73"
                                },
                                {
                                    "SZALLAS_ID": "5",
                                    "SZALLAS_NEV": "Fortuna Panzió",
                                    "Ev": "2016",
                                    "Eves_Foglalas": "43",
                                    "Osszes_Eddigi_Foglalas": "43"
                                },
                                {
                                    "SZALLAS_ID": "5",
                                    "SZALLAS_NEV": "Fortuna Panzió",
                                    "Ev": "2017",
                                    "Eves_Foglalas": "10",
                                    "Osszes_Eddigi_Foglalas": "53"
                                },
                                {
                                    "SZALLAS_ID": "6",
                                    "SZALLAS_NEV": "Kentaur Hotel",
                                    "Ev": "2016",
                                    "Eves_Foglalas": "150",
                                    "Osszes_Eddigi_Foglalas": "150"
                                },
                                {
                                    "SZALLAS_ID": "6",
                                    "SZALLAS_NEV": "Kentaur Hotel",
                                    "Ev": "2017",
                                    "Eves_Foglalas": "29",
                                    "Osszes_Eddigi_Foglalas": "179"
                                },
                                {
                                    "SZALLAS_ID": "7",
                                    "SZALLAS_NEV": "Szieszta Apartmanház",
                                    "Ev": "2016",
                                    "Eves_Foglalas": "28",
                                    "Osszes_Eddigi_Foglalas": "28"
                                },
                                {
                                    "SZALLAS_ID": "7",
                                    "SZALLAS_NEV": "Szieszta Apartmanház",
                                    "Ev": "2017",
                                    "Eves_Foglalas": "6",
                                    "Osszes_Eddigi_Foglalas": "34"
                                },
                                {
                                    "SZALLAS_ID": "8",
                                    "SZALLAS_NEV": "Hotel Három Hattyú",
                                    "Ev": "2016",
                                    "Eves_Foglalas": "157",
                                    "Osszes_Eddigi_Foglalas": "157"
                                },
                                {
                                    "SZALLAS_ID": "8",
                                    "SZALLAS_NEV": "Hotel Három Hattyú",
                                    "Ev": "2017",
                                    "Eves_Foglalas": "47",
                                    "Osszes_Eddigi_Foglalas": "204"
                                },
                                {
                                    "SZALLAS_ID": "9",
                                    "SZALLAS_NEV": "Jáde panzió",
                                    "Ev": "2016",
                                    "Eves_Foglalas": "24",
                                    "Osszes_Eddigi_Foglalas": "24"
                                },
                                {
                                    "SZALLAS_ID": "9",
                                    "SZALLAS_NEV": "Jáde panzió",
                                    "Ev": "2017",
                                    "Eves_Foglalas": "5",
                                    "Osszes_Eddigi_Foglalas": "29"
                                },
                                {
                                    "SZALLAS_ID": "10",
                                    "SZALLAS_NEV": "Lagúna Hotel",
                                    "Ev": "2016",
                                    "Eves_Foglalas": "103",
                                    "Osszes_Eddigi_Foglalas": "103"
                                },
                                {
                                    "SZALLAS_ID": "10",
                                    "SZALLAS_NEV": "Lagúna Hotel",
                                    "Ev": "2017",
                                    "Eves_Foglalas": "20",
                                    "Osszes_Eddigi_Foglalas": "123"
                                },
                                {
                                    "SZALLAS_ID": "11",
                                    "SZALLAS_NEV": "Partiszél Vendégház",
                                    "Ev": "2016",
                                    "Eves_Foglalas": "23",
                                    "Osszes_Eddigi_Foglalas": "23"
                                },
                                {
                                    "SZALLAS_ID": "11",
                                    "SZALLAS_NEV": "Partiszél Vendégház",
                                    "Ev": "2017",
                                    "Eves_Foglalas": "3",
                                    "Osszes_Eddigi_Foglalas": "26"
                                },
                                {
                                    "SZALLAS_ID": "12",
                                    "SZALLAS_NEV": "Gold Hotel",
                                    "Ev": "2016",
                                    "Eves_Foglalas": "152",
                                    "Osszes_Eddigi_Foglalas": "152"
                                },
                                {
                                    "SZALLAS_ID": "12",
                                    "SZALLAS_NEV": "Gold Hotel",
                                    "Ev": "2017",
                                    "Eves_Foglalas": "27",
                                    "Osszes_Eddigi_Foglalas": "179"
                                }
                            ]
                        },
                        "text/html": [
                            "<table>",
                            "<tr><th>SZALLAS_ID</th><th>SZALLAS_NEV</th><th>Ev</th><th>Eves_Foglalas</th><th>Osszes_Eddigi_Foglalas</th></tr>",
                            "<tr><td>1</td><td>Sába-Ház</td><td>2016</td><td>63</td><td>63</td></tr>",
                            "<tr><td>1</td><td>Sába-Ház</td><td>2017</td><td>7</td><td>70</td></tr>",
                            "<tr><td>2</td><td>Családi Ház</td><td>2016</td><td>13</td><td>13</td></tr>",
                            "<tr><td>2</td><td>Családi Ház</td><td>2017</td><td>5</td><td>18</td></tr>",
                            "<tr><td>3</td><td>Fortuna Apartman</td><td>2016</td><td>35</td><td>35</td></tr>",
                            "<tr><td>3</td><td>Fortuna Apartman</td><td>2017</td><td>4</td><td>39</td></tr>",
                            "<tr><td>4</td><td>Fortuna panzió</td><td>2016</td><td>61</td><td>61</td></tr>",
                            "<tr><td>4</td><td>Fortuna panzió</td><td>2017</td><td>12</td><td>73</td></tr>",
                            "<tr><td>5</td><td>Fortuna Panzió</td><td>2016</td><td>43</td><td>43</td></tr>",
                            "<tr><td>5</td><td>Fortuna Panzió</td><td>2017</td><td>10</td><td>53</td></tr>",
                            "<tr><td>6</td><td>Kentaur Hotel</td><td>2016</td><td>150</td><td>150</td></tr>",
                            "<tr><td>6</td><td>Kentaur Hotel</td><td>2017</td><td>29</td><td>179</td></tr>",
                            "<tr><td>7</td><td>Szieszta Apartmanház</td><td>2016</td><td>28</td><td>28</td></tr>",
                            "<tr><td>7</td><td>Szieszta Apartmanház</td><td>2017</td><td>6</td><td>34</td></tr>",
                            "<tr><td>8</td><td>Hotel Három Hattyú</td><td>2016</td><td>157</td><td>157</td></tr>",
                            "<tr><td>8</td><td>Hotel Három Hattyú</td><td>2017</td><td>47</td><td>204</td></tr>",
                            "<tr><td>9</td><td>Jáde panzió</td><td>2016</td><td>24</td><td>24</td></tr>",
                            "<tr><td>9</td><td>Jáde panzió</td><td>2017</td><td>5</td><td>29</td></tr>",
                            "<tr><td>10</td><td>Lagúna Hotel</td><td>2016</td><td>103</td><td>103</td></tr>",
                            "<tr><td>10</td><td>Lagúna Hotel</td><td>2017</td><td>20</td><td>123</td></tr>",
                            "<tr><td>11</td><td>Partiszél Vendégház</td><td>2016</td><td>23</td><td>23</td></tr>",
                            "<tr><td>11</td><td>Partiszél Vendégház</td><td>2017</td><td>3</td><td>26</td></tr>",
                            "<tr><td>12</td><td>Gold Hotel</td><td>2016</td><td>152</td><td>152</td></tr>",
                            "<tr><td>12</td><td>Gold Hotel</td><td>2017</td><td>27</td><td>179</td></tr>",
                            "</table>"
                        ]
                    }
                }
            ],
            "execution_count": 20
        },
        {
            "cell_type": "markdown",
            "source": [
                "5. <span style=\"background-color: rgb(255, 255, 255); color: rgb(0, 0, 0); font-family: &quot;Open Sans&quot;, sans-serif; font-size: 14.44px;\">Készítsük listát a szálláshelyekről! A lista tartalmazza a szálláshely azonosítóját, nevét, és a csillagok számát csillagszám szerint csökkenő, azon belül szállásnév szerint növekvő sorrendben!&nbsp;</span> \n",
                "\n",
                "a. Vegyünk fel két új oszlopot, amely a sorrend szerint előző szálláshely nevét, illetve azonosítóját is megjeleníti!"
            ],
            "metadata": {
                "azdata_cell_guid": "84239ca2-6b5e-49f5-9860-d44c11d6de32"
            },
            "attachments": {}
        },
        {
            "cell_type": "code",
            "source": [
                ""
            ],
            "metadata": {
                "azdata_cell_guid": "06d9a62b-9430-424b-a135-d80e675f0eb3",
                "language": "sql"
            },
            "outputs": [],
            "execution_count": null
        },
        {
            "cell_type": "markdown",
            "source": [
                "6. <span style=\"background-color: rgb(255, 255, 255); color: rgb(0, 0, 0); font-family: &quot;Open Sans&quot;, sans-serif; font-size: 14.44px;\">Listázzuk azon termékeket, amelyekből az átlagosnál kevesebb van raktáron!&nbsp;</span> \n",
                "\n",
                "a. Csak a termék kódja és megnevezése jelenjen meg!"
            ],
            "metadata": {
                "azdata_cell_guid": "b0d15045-3c43-4f3a-b8d4-76b4f24e5546"
            },
            "attachments": {}
        },
        {
            "cell_type": "code",
            "source": [
                "SELECT t.Termek_ID, t.Termek_Nev\r\n",
                "FROM Termek t\r\n",
                "JOIN Raktar r ON t.Termek_ID = r.Termek_ID\r\n",
                "WHERE r.Keszlet < (\r\n",
                "    SELECT AVG(Keszlet) FROM Raktar\r\n",
                ");\r\n",
                ""
            ],
            "metadata": {
                "azdata_cell_guid": "f2b7400d-1255-40ac-9250-4d57f9da5357",
                "language": "sql"
            },
            "outputs": [
                {
                    "output_type": "error",
                    "evalue": "Msg 207, Level 16, State 1, Line 3\r\nInvalid column name 'Termek_ID'.",
                    "ename": "",
                    "traceback": []
                },
                {
                    "output_type": "error",
                    "evalue": "Msg 207, Level 16, State 1, Line 3\r\nInvalid column name 'Termek_ID'.",
                    "ename": "",
                    "traceback": []
                },
                {
                    "output_type": "error",
                    "evalue": "Msg 207, Level 16, State 1, Line 4\r\nInvalid column name 'Keszlet'.",
                    "ename": "",
                    "traceback": []
                },
                {
                    "output_type": "error",
                    "evalue": "Msg 207, Level 16, State 1, Line 1\r\nInvalid column name 'Termek_ID'.",
                    "ename": "",
                    "traceback": []
                },
                {
                    "output_type": "error",
                    "evalue": "Msg 207, Level 16, State 1, Line 1\r\nInvalid column name 'Termek_Nev'.",
                    "ename": "",
                    "traceback": []
                },
                {
                    "output_type": "display_data",
                    "data": {
                        "text/html": "Total execution time: 00:00:00.001"
                    },
                    "metadata": {}
                }
            ],
            "execution_count": 25
        },
        {
            "cell_type": "markdown",
            "source": [
                "7. <span style=\"background-color: rgb(255, 255, 255); color: rgb(0, 0, 0); font-family: &quot;Open Sans&quot;, sans-serif; font-size: 14.44px;\">Listázzuk azon ügyfeleket, akik még nem fizettek bankkártyával!&nbsp;</span> \n",
                "\n",
                "a. Csak az ügyfelek neve jelenjen meg!"
            ],
            "metadata": {
                "azdata_cell_guid": "7ebf7ddd-1bd2-4246-815a-be8ae37e3b5b"
            },
            "attachments": {}
        },
        {
            "cell_type": "code",
            "source": [
                "SELECT *\r\n",
                "FROM Ugyfel u\r\n",
                "WHERE u.[LOGIN] NOT IN (\r\n",
                "    SELECT r.[LOGIN]\r\n",
                "    FROM Rendeles r\r\n",
                "    WHERE r.FIZ_MOD = 'bankkártya'\r\n",
                ");\r\n",
                ""
            ],
            "metadata": {
                "azdata_cell_guid": "84b7e896-f36e-4985-88f5-e0f706494fef",
                "language": "sql"
            },
            "outputs": [
                {
                    "output_type": "display_data",
                    "data": {
                        "text/html": "(9 rows affected)"
                    },
                    "metadata": {}
                },
                {
                    "output_type": "display_data",
                    "data": {
                        "text/html": "Total execution time: 00:00:00.096"
                    },
                    "metadata": {}
                },
                {
                    "output_type": "execute_result",
                    "metadata": {},
                    "execution_count": 29,
                    "data": {
                        "application/vnd.dataresource+json": {
                            "schema": {
                                "fields": [
                                    {
                                        "name": "LOGIN"
                                    },
                                    {
                                        "name": "EMAIL"
                                    },
                                    {
                                        "name": "NEV"
                                    },
                                    {
                                        "name": "SZULEV"
                                    },
                                    {
                                        "name": "NEM"
                                    },
                                    {
                                        "name": "CIM"
                                    }
                                ]
                            },
                            "data": [
                                {
                                    "LOGIN": "alexis",
                                    "EMAIL": "alexbiro@gmail.com",
                                    "NEV": "Biró Alexander",
                                    "SZULEV": "2000",
                                    "NEM": "F",
                                    "CIM": "6914 Pitvaros, Deák F. u. 38."
                                },
                                {
                                    "LOGIN": "attila",
                                    "EMAIL": "attila@gmail.com",
                                    "NEV": "Csóti Attila",
                                    "SZULEV": "1979",
                                    "NEM": "F",
                                    "CIM": "3000 Hatvan, Bajcsy-Zsilinszky utca 4."
                                },
                                {
                                    "LOGIN": "beata4",
                                    "EMAIL": "beáta.bagi@mail.hu",
                                    "NEV": "Bagi Beáta",
                                    "SZULEV": "1994",
                                    "NEM": "N",
                                    "CIM": "8477 Tüskevár, Felszabadulás utca 32."
                                },
                                {
                                    "LOGIN": "desdemona",
                                    "EMAIL": "mor.otto@mail.hu",
                                    "NEV": "Mór Ottó",
                                    "SZULEV": "1968",
                                    "NEM": "F",
                                    "CIM": "9200 Mosonmagyaróvár Fő u. 12."
                                },
                                {
                                    "LOGIN": "eszter",
                                    "EMAIL": "eszter.molnár@mail.hu",
                                    "NEV": "Molnár Eszter",
                                    "SZULEV": "1987",
                                    "NEM": "N",
                                    "CIM": "6800 Hódmezővásárhely, Fő út 77."
                                },
                                {
                                    "LOGIN": "kanita12",
                                    "EMAIL": "anita.kiss12@gmail.com",
                                    "NEV": "Kiss Anita",
                                    "SZULEV": "1975",
                                    "NEM": "N",
                                    "CIM": "2230 Gyömrő Fő tér 3."
                                },
                                {
                                    "LOGIN": "mark",
                                    "EMAIL": "márk.kispál@mail.hu",
                                    "NEV": "Kispál Márk",
                                    "SZULEV": "1996",
                                    "NEM": "F",
                                    "CIM": "1086 Budapest, Juhászföldi út 1."
                                },
                                {
                                    "LOGIN": "melissza",
                                    "EMAIL": "nagy_peter@indamail.hu",
                                    "NEV": "Nagy Péter",
                                    "SZULEV": "1998",
                                    "NEM": "F",
                                    "CIM": "6800 Hódmezővásárhely, Oldalkosát u. 1."
                                },
                                {
                                    "LOGIN": "norbert",
                                    "EMAIL": "norbert@gmail.com",
                                    "NEV": "Szűcs Norbert",
                                    "SZULEV": "1969",
                                    "NEM": "F",
                                    "CIM": "5071 Besenyszög, Győri utca 12."
                                }
                            ]
                        },
                        "text/html": [
                            "<table>",
                            "<tr><th>LOGIN</th><th>EMAIL</th><th>NEV</th><th>SZULEV</th><th>NEM</th><th>CIM</th></tr>",
                            "<tr><td>alexis</td><td>alexbiro@gmail.com</td><td>Biró Alexander</td><td>2000</td><td>F</td><td>6914 Pitvaros, Deák F. u. 38.</td></tr>",
                            "<tr><td>attila</td><td>attila@gmail.com</td><td>Csóti Attila</td><td>1979</td><td>F</td><td>3000 Hatvan, Bajcsy-Zsilinszky utca 4.</td></tr>",
                            "<tr><td>beata4</td><td>beáta.bagi@mail.hu</td><td>Bagi Beáta</td><td>1994</td><td>N</td><td>8477 Tüskevár, Felszabadulás utca 32.</td></tr>",
                            "<tr><td>desdemona</td><td>mor.otto@mail.hu</td><td>Mór Ottó</td><td>1968</td><td>F</td><td>9200 Mosonmagyaróvár Fő u. 12.</td></tr>",
                            "<tr><td>eszter</td><td>eszter.molnár@mail.hu</td><td>Molnár Eszter</td><td>1987</td><td>N</td><td>6800 Hódmezővásárhely, Fő út 77.</td></tr>",
                            "<tr><td>kanita12</td><td>anita.kiss12@gmail.com</td><td>Kiss Anita</td><td>1975</td><td>N</td><td>2230 Gyömrő Fő tér 3.</td></tr>",
                            "<tr><td>mark</td><td>márk.kispál@mail.hu</td><td>Kispál Márk</td><td>1996</td><td>F</td><td>1086 Budapest, Juhászföldi út 1.</td></tr>",
                            "<tr><td>melissza</td><td>nagy_peter@indamail.hu</td><td>Nagy Péter</td><td>1998</td><td>F</td><td>6800 Hódmezővásárhely, Oldalkosát u. 1.</td></tr>",
                            "<tr><td>norbert</td><td>norbert@gmail.com</td><td>Szűcs Norbert</td><td>1969</td><td>F</td><td>5071 Besenyszög, Győri utca 12.</td></tr>",
                            "</table>"
                        ]
                    }
                }
            ],
            "execution_count": 29
        },
        {
            "cell_type": "markdown",
            "source": [
                "8. <span style=\"background-color: rgb(255, 255, 255); color: rgb(0, 0, 0); font-family: &quot;Open Sans&quot;, sans-serif; font-size: 14.44px;\">Mennyibe kerül a második legnagyobb listaárú termék?</span>"
            ],
            "metadata": {
                "azdata_cell_guid": "27a3d3dc-eafb-4a5e-b103-9f465b9eda8f"
            },
            "attachments": {}
        },
        {
            "cell_type": "code",
            "source": [
                ""
            ],
            "metadata": {
                "azdata_cell_guid": "f09edb3f-649b-4a96-958e-9e12774ae8b7",
                "language": "sql"
            },
            "outputs": [],
            "execution_count": null
        },
        {
            "cell_type": "markdown",
            "source": [
                "9. <span style=\"background-color: rgb(255, 255, 255); color: rgb(0, 0, 0); font-family: &quot;Open Sans&quot;, sans-serif; font-size: 14.44px;\">Melyik raktár(ak)ban van az a termék, amelyből a legnagyobb készlet van?&nbsp;</span> \n",
                "\n",
                "a. Csak a raktár(ak) neve jelenjen meg!"
            ],
            "metadata": {
                "azdata_cell_guid": "f12a331a-0e26-4d3d-9c68-812316286577"
            },
            "attachments": {}
        },
        {
            "cell_type": "code",
            "source": [
                ""
            ],
            "metadata": {
                "azdata_cell_guid": "10a77fc9-e61a-46fc-a401-59720d82bc50",
                "language": "sql"
            },
            "outputs": [],
            "execution_count": null
        },
        {
            "cell_type": "markdown",
            "source": [
                "10. <span style=\"background-color: rgb(255, 255, 255); color: rgb(0, 0, 0); font-family: &quot;Open Sans&quot;, sans-serif; font-size: 14.44px;\">Melyek azok a termékek, amelyek listaára nagyobb, mint bármelyik olyan terméké, amelynek nevében az Ajándék szó szerepel?&nbsp;</span> \n",
                "\n",
                "a. A termékek kódját és nevét is jelenítsük meg!"
            ],
            "metadata": {
                "azdata_cell_guid": "9229e2b6-e200-4499-b95b-2d0222149831"
            },
            "attachments": {}
        },
        {
            "cell_type": "code",
            "source": [
                ""
            ],
            "metadata": {
                "azdata_cell_guid": "8b49ed67-28c6-4880-82a8-cd369e5bba99",
                "language": "sql"
            },
            "outputs": [],
            "execution_count": null
        },
        {
            "cell_type": "markdown",
            "source": [
                "11. <span style=\"background-color: rgb(255, 255, 255); color: rgb(0, 0, 0); font-family: &quot;Open Sans&quot;, sans-serif; font-size: 14.44px;\">Melyik hónapokban adtak le az ügyfelek több rendelést, mint januárban?&nbsp;</span> \n",
                "\n",
                "a. Elég a hónapok sorszámait megjeleníteni. \n",
                "\n",
                "b. A listát rendezzük a hónapok száma szerint növekvő sorrendbe!"
            ],
            "metadata": {
                "azdata_cell_guid": "7f5fc7a7-3b6a-4d89-b292-490830afb0c6"
            },
            "attachments": {}
        },
        {
            "cell_type": "code",
            "source": [
                ""
            ],
            "metadata": {
                "azdata_cell_guid": "4a9ece40-f782-4c0d-92cd-9c21969067ed",
                "language": "sql"
            },
            "outputs": [],
            "execution_count": null
        },
        {
            "cell_type": "markdown",
            "source": [
                "12. <span style=\"background-color: rgb(255, 255, 255); color: rgb(0, 0, 0); font-family: &quot;Open Sans&quot;, sans-serif; font-size: 14.44px;\">Melyek azok a termékek, amelyek listaára az átlagostól max. 20%-kal tér el?&nbsp;</span> \n",
                "\n",
                "a. A termék kódját és nevét is jelenítsük meg!"
            ],
            "metadata": {
                "azdata_cell_guid": "5a483c52-bb98-44bb-bd03-1146d4b0abfa"
            },
            "attachments": {}
        },
        {
            "cell_type": "code",
            "source": [
                ""
            ],
            "metadata": {
                "azdata_cell_guid": "dd6e89bd-08f9-4b18-8460-03c45b503df0",
                "language": "sql"
            },
            "outputs": [],
            "execution_count": null
        },
        {
            "cell_type": "markdown",
            "source": [
                "13. <span style=\"background-color: rgb(255, 255, 255); color: rgb(0, 0, 0); font-family: &quot;Open Sans&quot;, sans-serif; font-size: 14.44px;\">Készítsünk listát (sorszámonként) az egyes rendelések teljes összegéről!&nbsp;</span> \n",
                "\n",
                "a. Szűrjünk azon tételekre, ahol ez az érték nagyobb, mint Viktor Éva rendeléseinek teljes összege! \n",
                "\n",
                "b. A teljes összeg oszlopot nevezzük el értelemszerűen!"
            ],
            "metadata": {
                "azdata_cell_guid": "85d5cb66-96c6-42de-99cf-85ab22d08548"
            },
            "attachments": {}
        },
        {
            "cell_type": "code",
            "source": [
                ""
            ],
            "metadata": {
                "azdata_cell_guid": "cb07d64b-0eaa-498b-b4d2-0b46971e95ce",
                "language": "sql"
            },
            "outputs": [],
            "execution_count": null
        },
        {
            "cell_type": "markdown",
            "source": [
                "14. <span style=\"background-color: rgb(255, 255, 255); color: rgb(0, 0, 0); font-family: &quot;Open Sans&quot;, sans-serif; font-size: 14.44px;\">Listázzuk azokat a termékkategóriákat, amelyből 2017 januárban nem történt rendelés!&nbsp;</span> \n",
                "\n",
                "a. Elég a kategóriák nevét megjeleníteni!"
            ],
            "metadata": {
                "azdata_cell_guid": "f95ad665-a807-4099-bf06-64ed974f866f"
            },
            "attachments": {}
        },
        {
            "cell_type": "code",
            "source": [
                "SELECT tk.KAT_NEV\r\n",
                "FROM Termekkategoria tk\r\n",
                "WHERE tk.KAT_ID NOT IN (\r\n",
                "    SELECT DISTINCT t.KAT_ID\r\n",
                "    FROM Termek t\r\n",
                "    JOIN Rendeles_tetel rt ON t.TERMEKKOD = rt.TERMEKKOD\r\n",
                "    JOIN Rendeles r ON rt.KAT_ID = r.Rendeles_ID\r\n",
                "    WHERE r.Rendeles_Datum >= '2017-01-01'\r\n",
                "      AND r.Rendeles_Datum < '2017-02-01'\r\n",
                ");\r\n",
                ""
            ],
            "metadata": {
                "azdata_cell_guid": "74c7ec8a-ae4a-4d03-b1c4-e8f6bb1be12c",
                "language": "sql"
            },
            "outputs": [
                {
                    "output_type": "error",
                    "evalue": "Msg 207, Level 16, State 1, Line 7\r\nInvalid column name 'KAT_ID'.",
                    "ename": "",
                    "traceback": []
                },
                {
                    "output_type": "error",
                    "evalue": "Msg 207, Level 16, State 1, Line 7\r\nInvalid column name 'Rendeles_ID'.",
                    "ename": "",
                    "traceback": []
                },
                {
                    "output_type": "error",
                    "evalue": "Msg 207, Level 16, State 1, Line 8\r\nInvalid column name 'Rendeles_Datum'.",
                    "ename": "",
                    "traceback": []
                },
                {
                    "output_type": "error",
                    "evalue": "Msg 207, Level 16, State 1, Line 9\r\nInvalid column name 'Rendeles_Datum'.",
                    "ename": "",
                    "traceback": []
                },
                {
                    "output_type": "display_data",
                    "data": {
                        "text/html": "Total execution time: 00:00:00.003"
                    },
                    "metadata": {}
                }
            ],
            "execution_count": 31
        },
        {
            "cell_type": "markdown",
            "source": [
                "15. <span style=\"background-color: rgb(255, 255, 255); color: rgb(0, 0, 0); font-family: &quot;Open Sans&quot;, sans-serif; font-size: 14.44px;\">Listázzuk azon rendelési tételeket, amelynek értéke nagyobb, mint a legdrágább termék listaára azon termékek közül, amelyek szülő kategóriája a ruha!</span>"
            ],
            "metadata": {
                "azdata_cell_guid": "93552388-ffec-49ff-99e5-ae8dc8072601"
            },
            "attachments": {}
        },
        {
            "cell_type": "code",
            "source": [
                ""
            ],
            "metadata": {
                "azdata_cell_guid": "0e7f547f-7d96-4611-b1c2-0fa84a581e79",
                "language": "sql"
            },
            "outputs": [],
            "execution_count": null
        },
        {
            "cell_type": "markdown",
            "source": [
                "minta zh 1. feladat"
            ],
            "metadata": {
                "azdata_cell_guid": "eb7989e6-3e77-4ea3-b78c-c5556bf0a1d4"
            },
            "attachments": {}
        },
        {
            "cell_type": "code",
            "source": [
                "SELECT \r\n",
                "    v.USERNEV,\r\n",
                "    COUNT(DISTINCT szh.SZALLAS_ID) AS FOGALT_SZALLASOK\r\n",
                "FROM \r\n",
                "    VENDEG v\r\n",
                "LEFT JOIN \r\n",
                "    FOGLALAS f ON v.USERNEV = f.UGYFEL_FK\r\n",
                "LEFT JOIN \r\n",
                "    SZOBA sz ON f.SZOBA_FK = sz.SZOBA_ID\r\n",
                "LEFT JOIN \r\n",
                "    Szallashely szh ON sz.SZALLAS_FK = szh.SZALLAS_ID\r\n",
                "GROUP BY \r\n",
                "    v.USERNEV\r\n",
                "\r\n",
                "UNION ALL\r\n",
                "\r\n",
                "SELECT \r\n",
                "    'Összesen:',\r\n",
                "    COUNT(DISTINCT CASE WHEN f.UGYFEL_FK IS NOT NULL THEN v.USERNEV END)\r\n",
                "FROM \r\n",
                "    VENDEG v\r\n",
                "LEFT JOIN \r\n",
                "    FOGLALAS f ON v.USERNEV = f.UGYFEL_FK\r\n",
                "LEFT JOIN \r\n",
                "    SZOBA sz ON f.SZOBA_FK = sz.SZOBA_ID\r\n",
                "LEFT JOIN \r\n",
                "    Szallashely szh ON sz.SZALLAS_FK = szh.SZALLAS_ID;\r\n",
                ""
            ],
            "metadata": {
                "azdata_cell_guid": "f831b241-ee84-45b2-b5f7-160af8321d55",
                "language": "sql"
            },
            "outputs": [
                {
                    "output_type": "display_data",
                    "data": {
                        "text/html": "Warning: Null value is eliminated by an aggregate or other SET operation."
                    },
                    "metadata": {}
                },
                {
                    "output_type": "display_data",
                    "data": {
                        "text/html": "(197 rows affected)"
                    },
                    "metadata": {}
                },
                {
                    "output_type": "display_data",
                    "data": {
                        "text/html": "Total execution time: 00:00:00.047"
                    },
                    "metadata": {}
                },
                {
                    "output_type": "execute_result",
                    "metadata": {},
                    "execution_count": 38,
                    "data": {
                        "application/vnd.dataresource+json": {
                            "schema": {
                                "fields": [
                                    {
                                        "name": "USERNEV"
                                    },
                                    {
                                        "name": "FOGALT_SZALLASOK"
                                    }
                                ]
                            },
                            "data": [
                                {
                                    "USERNEV": "adam1",
                                    "FOGALT_SZALLASOK": "2"
                                },
                                {
                                    "USERNEV": "adam3",
                                    "FOGALT_SZALLASOK": "2"
                                },
                                {
                                    "USERNEV": "adam4",
                                    "FOGALT_SZALLASOK": "5"
                                },
                                {
                                    "USERNEV": "agnes",
                                    "FOGALT_SZALLASOK": "4"
                                },
                                {
                                    "USERNEV": "agnes3",
                                    "FOGALT_SZALLASOK": "3"
                                },
                                {
                                    "USERNEV": "AGNESH",
                                    "FOGALT_SZALLASOK": "5"
                                },
                                {
                                    "USERNEV": "AGNESK",
                                    "FOGALT_SZALLASOK": "3"
                                },
                                {
                                    "USERNEV": "akos",
                                    "FOGALT_SZALLASOK": "7"
                                },
                                {
                                    "USERNEV": "aladar",
                                    "FOGALT_SZALLASOK": "3"
                                },
                                {
                                    "USERNEV": "alexandra",
                                    "FOGALT_SZALLASOK": "6"
                                },
                                {
                                    "USERNEV": "andi",
                                    "FOGALT_SZALLASOK": "4"
                                },
                                {
                                    "USERNEV": "andras2",
                                    "FOGALT_SZALLASOK": "3"
                                },
                                {
                                    "USERNEV": "andras21",
                                    "FOGALT_SZALLASOK": "6"
                                },
                                {
                                    "USERNEV": "andras3",
                                    "FOGALT_SZALLASOK": "5"
                                },
                                {
                                    "USERNEV": "andras4",
                                    "FOGALT_SZALLASOK": "2"
                                },
                                {
                                    "USERNEV": "andras41",
                                    "FOGALT_SZALLASOK": "5"
                                },
                                {
                                    "USERNEV": "ANDRASE",
                                    "FOGALT_SZALLASOK": "3"
                                },
                                {
                                    "USERNEV": "ANDRASN",
                                    "FOGALT_SZALLASOK": "1"
                                },
                                {
                                    "USERNEV": "andrea",
                                    "FOGALT_SZALLASOK": "4"
                                },
                                {
                                    "USERNEV": "andrea3",
                                    "FOGALT_SZALLASOK": "1"
                                },
                                {
                                    "USERNEV": "andrea4",
                                    "FOGALT_SZALLASOK": "2"
                                },
                                {
                                    "USERNEV": "ANDREAT",
                                    "FOGALT_SZALLASOK": "2"
                                },
                                {
                                    "USERNEV": "anett3",
                                    "FOGALT_SZALLASOK": "6"
                                },
                                {
                                    "USERNEV": "aniko",
                                    "FOGALT_SZALLASOK": "3"
                                },
                                {
                                    "USERNEV": "aniko4",
                                    "FOGALT_SZALLASOK": "3"
                                },
                                {
                                    "USERNEV": "ANIKOS",
                                    "FOGALT_SZALLASOK": "6"
                                },
                                {
                                    "USERNEV": "anita",
                                    "FOGALT_SZALLASOK": "4"
                                },
                                {
                                    "USERNEV": "annamaria1",
                                    "FOGALT_SZALLASOK": "1"
                                },
                                {
                                    "USERNEV": "ANNAMARIAR",
                                    "FOGALT_SZALLASOK": "5"
                                },
                                {
                                    "USERNEV": "aron2",
                                    "FOGALT_SZALLASOK": "5"
                                },
                                {
                                    "USERNEV": "ARONK",
                                    "FOGALT_SZALLASOK": "8"
                                },
                                {
                                    "USERNEV": "arpad2",
                                    "FOGALT_SZALLASOK": "4"
                                },
                                {
                                    "USERNEV": "ARPADH",
                                    "FOGALT_SZALLASOK": "3"
                                },
                                {
                                    "USERNEV": "ARPADM",
                                    "FOGALT_SZALLASOK": "5"
                                },
                                {
                                    "USERNEV": "attila",
                                    "FOGALT_SZALLASOK": "3"
                                },
                                {
                                    "USERNEV": "attila1",
                                    "FOGALT_SZALLASOK": "5"
                                },
                                {
                                    "USERNEV": "attila4",
                                    "FOGALT_SZALLASOK": "3"
                                },
                                {
                                    "USERNEV": "ATTILAO",
                                    "FOGALT_SZALLASOK": "2"
                                },
                                {
                                    "USERNEV": "balazs1",
                                    "FOGALT_SZALLASOK": "6"
                                },
                                {
                                    "USERNEV": "balazs2",
                                    "FOGALT_SZALLASOK": "8"
                                },
                                {
                                    "USERNEV": "balazs3",
                                    "FOGALT_SZALLASOK": "4"
                                },
                                {
                                    "USERNEV": "balint",
                                    "FOGALT_SZALLASOK": "3"
                                },
                                {
                                    "USERNEV": "balint1",
                                    "FOGALT_SZALLASOK": "9"
                                },
                                {
                                    "USERNEV": "balint2",
                                    "FOGALT_SZALLASOK": "1"
                                },
                                {
                                    "USERNEV": "balu",
                                    "FOGALT_SZALLASOK": "2"
                                },
                                {
                                    "USERNEV": "beata4",
                                    "FOGALT_SZALLASOK": "4"
                                },
                                {
                                    "USERNEV": "BEATRIXK",
                                    "FOGALT_SZALLASOK": "7"
                                },
                                {
                                    "USERNEV": "BEATRIXS",
                                    "FOGALT_SZALLASOK": "5"
                                },
                                {
                                    "USERNEV": "BELAF",
                                    "FOGALT_SZALLASOK": "3"
                                },
                                {
                                    "USERNEV": "bence",
                                    "FOGALT_SZALLASOK": "6"
                                },
                                {
                                    "USERNEV": "BENCEB",
                                    "FOGALT_SZALLASOK": "4"
                                },
                                {
                                    "USERNEV": "bernadett1",
                                    "FOGALT_SZALLASOK": "5"
                                },
                                {
                                    "USERNEV": "bernadett2",
                                    "FOGALT_SZALLASOK": "5"
                                },
                                {
                                    "USERNEV": "BERNADETTO",
                                    "FOGALT_SZALLASOK": "6"
                                },
                                {
                                    "USERNEV": "bertalan",
                                    "FOGALT_SZALLASOK": "4"
                                },
                                {
                                    "USERNEV": "brigitta",
                                    "FOGALT_SZALLASOK": "4"
                                },
                                {
                                    "USERNEV": "brigitta3",
                                    "FOGALT_SZALLASOK": "4"
                                },
                                {
                                    "USERNEV": "csongor3",
                                    "FOGALT_SZALLASOK": "6"
                                },
                                {
                                    "USERNEV": "dani",
                                    "FOGALT_SZALLASOK": "6"
                                },
                                {
                                    "USERNEV": "daniel",
                                    "FOGALT_SZALLASOK": "5"
                                },
                                {
                                    "USERNEV": "daniel1",
                                    "FOGALT_SZALLASOK": "5"
                                },
                                {
                                    "USERNEV": "david",
                                    "FOGALT_SZALLASOK": "6"
                                },
                                {
                                    "USERNEV": "david1",
                                    "FOGALT_SZALLASOK": "5"
                                },
                                {
                                    "USERNEV": "david4",
                                    "FOGALT_SZALLASOK": "1"
                                },
                                {
                                    "USERNEV": "debora",
                                    "FOGALT_SZALLASOK": "4"
                                },
                                {
                                    "USERNEV": "denes",
                                    "FOGALT_SZALLASOK": "3"
                                },
                                {
                                    "USERNEV": "dora3",
                                    "FOGALT_SZALLASOK": "4"
                                },
                                {
                                    "USERNEV": "edit",
                                    "FOGALT_SZALLASOK": "5"
                                },
                                {
                                    "USERNEV": "emese",
                                    "FOGALT_SZALLASOK": "3"
                                },
                                {
                                    "USERNEV": "eszter",
                                    "FOGALT_SZALLASOK": "4"
                                },
                                {
                                    "USERNEV": "eszter2",
                                    "FOGALT_SZALLASOK": "5"
                                },
                                {
                                    "USERNEV": "eszter4",
                                    "FOGALT_SZALLASOK": "3"
                                },
                                {
                                    "USERNEV": "ESZTERE",
                                    "FOGALT_SZALLASOK": "3"
                                },
                                {
                                    "USERNEV": "eva",
                                    "FOGALT_SZALLASOK": "2"
                                },
                                {
                                    "USERNEV": "eva2",
                                    "FOGALT_SZALLASOK": "3"
                                },
                                {
                                    "USERNEV": "EVAV",
                                    "FOGALT_SZALLASOK": "4"
                                },
                                {
                                    "USERNEV": "ferenc1",
                                    "FOGALT_SZALLASOK": "4"
                                },
                                {
                                    "USERNEV": "fruzsina4",
                                    "FOGALT_SZALLASOK": "5"
                                },
                                {
                                    "USERNEV": "gabor1",
                                    "FOGALT_SZALLASOK": "5"
                                },
                                {
                                    "USERNEV": "gabor4",
                                    "FOGALT_SZALLASOK": "4"
                                },
                                {
                                    "USERNEV": "GABORS",
                                    "FOGALT_SZALLASOK": "0"
                                },
                                {
                                    "USERNEV": "gabriella1",
                                    "FOGALT_SZALLASOK": "4"
                                },
                                {
                                    "USERNEV": "gabriella10",
                                    "FOGALT_SZALLASOK": "1"
                                },
                                {
                                    "USERNEV": "georgij",
                                    "FOGALT_SZALLASOK": "4"
                                },
                                {
                                    "USERNEV": "gusztav",
                                    "FOGALT_SZALLASOK": "5"
                                },
                                {
                                    "USERNEV": "GYONGYIK",
                                    "FOGALT_SZALLASOK": "7"
                                },
                                {
                                    "USERNEV": "GYORGYO",
                                    "FOGALT_SZALLASOK": "3"
                                },
                                {
                                    "USERNEV": "henrik3",
                                    "FOGALT_SZALLASOK": "3"
                                },
                                {
                                    "USERNEV": "IBOLYAA",
                                    "FOGALT_SZALLASOK": "2"
                                },
                                {
                                    "USERNEV": "ilona3",
                                    "FOGALT_SZALLASOK": "2"
                                },
                                {
                                    "USERNEV": "imre",
                                    "FOGALT_SZALLASOK": "2"
                                },
                                {
                                    "USERNEV": "imre1",
                                    "FOGALT_SZALLASOK": "4"
                                },
                                {
                                    "USERNEV": "istvan",
                                    "FOGALT_SZALLASOK": "3"
                                },
                                {
                                    "USERNEV": "istvan1",
                                    "FOGALT_SZALLASOK": "4"
                                },
                                {
                                    "USERNEV": "ISTVANV",
                                    "FOGALT_SZALLASOK": "2"
                                },
                                {
                                    "USERNEV": "janos3",
                                    "FOGALT_SZALLASOK": "5"
                                },
                                {
                                    "USERNEV": "JANOSG",
                                    "FOGALT_SZALLASOK": "3"
                                },
                                {
                                    "USERNEV": "JANOSP",
                                    "FOGALT_SZALLASOK": "3"
                                },
                                {
                                    "USERNEV": "jozsef",
                                    "FOGALT_SZALLASOK": "3"
                                },
                                {
                                    "USERNEV": "jozsef2",
                                    "FOGALT_SZALLASOK": "3"
                                },
                                {
                                    "USERNEV": "JOZSEFG",
                                    "FOGALT_SZALLASOK": "5"
                                },
                                {
                                    "USERNEV": "JUDITH",
                                    "FOGALT_SZALLASOK": "3"
                                },
                                {
                                    "USERNEV": "julia",
                                    "FOGALT_SZALLASOK": "2"
                                },
                                {
                                    "USERNEV": "julia4",
                                    "FOGALT_SZALLASOK": "2"
                                },
                                {
                                    "USERNEV": "julianna4",
                                    "FOGALT_SZALLASOK": "4"
                                },
                                {
                                    "USERNEV": "kata",
                                    "FOGALT_SZALLASOK": "5"
                                },
                                {
                                    "USERNEV": "katalin",
                                    "FOGALT_SZALLASOK": "6"
                                },
                                {
                                    "USERNEV": "katalin4",
                                    "FOGALT_SZALLASOK": "3"
                                },
                                {
                                    "USERNEV": "kati",
                                    "FOGALT_SZALLASOK": "4"
                                },
                                {
                                    "USERNEV": "katka",
                                    "FOGALT_SZALLASOK": "4"
                                },
                                {
                                    "USERNEV": "klaudia2",
                                    "FOGALT_SZALLASOK": "3"
                                },
                                {
                                    "USERNEV": "kornel4",
                                    "FOGALT_SZALLASOK": "3"
                                },
                                {
                                    "USERNEV": "kristof4",
                                    "FOGALT_SZALLASOK": "2"
                                },
                                {
                                    "USERNEV": "kriszti",
                                    "FOGALT_SZALLASOK": "6"
                                },
                                {
                                    "USERNEV": "krisztian4",
                                    "FOGALT_SZALLASOK": "6"
                                },
                                {
                                    "USERNEV": "KRISZTIANM",
                                    "FOGALT_SZALLASOK": "6"
                                },
                                {
                                    "USERNEV": "krisztina",
                                    "FOGALT_SZALLASOK": "5"
                                },
                                {
                                    "USERNEV": "krisztina1",
                                    "FOGALT_SZALLASOK": "4"
                                },
                                {
                                    "USERNEV": "KRISZTINAG",
                                    "FOGALT_SZALLASOK": "5"
                                },
                                {
                                    "USERNEV": "lajos",
                                    "FOGALT_SZALLASOK": "3"
                                },
                                {
                                    "USERNEV": "lala",
                                    "FOGALT_SZALLASOK": "5"
                                },
                                {
                                    "USERNEV": "laszlo1",
                                    "FOGALT_SZALLASOK": "1"
                                },
                                {
                                    "USERNEV": "laszlo2",
                                    "FOGALT_SZALLASOK": "5"
                                },
                                {
                                    "USERNEV": "LASZLOA",
                                    "FOGALT_SZALLASOK": "3"
                                },
                                {
                                    "USERNEV": "LASZLON",
                                    "FOGALT_SZALLASOK": "5"
                                },
                                {
                                    "USERNEV": "maria1",
                                    "FOGALT_SZALLASOK": "6"
                                },
                                {
                                    "USERNEV": "mark",
                                    "FOGALT_SZALLASOK": "3"
                                },
                                {
                                    "USERNEV": "MARKH",
                                    "FOGALT_SZALLASOK": "2"
                                },
                                {
                                    "USERNEV": "marton",
                                    "FOGALT_SZALLASOK": "6"
                                },
                                {
                                    "USERNEV": "MATEK",
                                    "FOGALT_SZALLASOK": "3"
                                },
                                {
                                    "USERNEV": "matyas2",
                                    "FOGALT_SZALLASOK": "2"
                                },
                                {
                                    "USERNEV": "MATYASS",
                                    "FOGALT_SZALLASOK": "5"
                                },
                                {
                                    "USERNEV": "MIHALYJ",
                                    "FOGALT_SZALLASOK": "4"
                                },
                                {
                                    "USERNEV": "miklos2",
                                    "FOGALT_SZALLASOK": "3"
                                },
                                {
                                    "USERNEV": "MIKLOSB",
                                    "FOGALT_SZALLASOK": "3"
                                },
                                {
                                    "USERNEV": "MONIKAM",
                                    "FOGALT_SZALLASOK": "5"
                                },
                                {
                                    "USERNEV": "NANDORF",
                                    "FOGALT_SZALLASOK": "2"
                                },
                                {
                                    "USERNEV": "nikolett3",
                                    "FOGALT_SZALLASOK": "4"
                                },
                                {
                                    "USERNEV": "nikoletta4",
                                    "FOGALT_SZALLASOK": "4"
                                },
                                {
                                    "USERNEV": "NIKOLETTAT",
                                    "FOGALT_SZALLASOK": "4"
                                },
                                {
                                    "USERNEV": "norbert",
                                    "FOGALT_SZALLASOK": "4"
                                },
                                {
                                    "USERNEV": "norbert2",
                                    "FOGALT_SZALLASOK": "5"
                                },
                                {
                                    "USERNEV": "norbert4",
                                    "FOGALT_SZALLASOK": "5"
                                },
                                {
                                    "USERNEV": "norbert5",
                                    "FOGALT_SZALLASOK": "2"
                                },
                                {
                                    "USERNEV": "pal",
                                    "FOGALT_SZALLASOK": "3"
                                },
                                {
                                    "USERNEV": "peter1",
                                    "FOGALT_SZALLASOK": "3"
                                },
                                {
                                    "USERNEV": "peter2",
                                    "FOGALT_SZALLASOK": "4"
                                },
                                {
                                    "USERNEV": "peter3",
                                    "FOGALT_SZALLASOK": "3"
                                },
                                {
                                    "USERNEV": "peter4",
                                    "FOGALT_SZALLASOK": "7"
                                },
                                {
                                    "USERNEV": "PETERB",
                                    "FOGALT_SZALLASOK": "3"
                                },
                                {
                                    "USERNEV": "polla",
                                    "FOGALT_SZALLASOK": "4"
                                },
                                {
                                    "USERNEV": "rajmond4",
                                    "FOGALT_SZALLASOK": "4"
                                },
                                {
                                    "USERNEV": "reka4",
                                    "FOGALT_SZALLASOK": "4"
                                },
                                {
                                    "USERNEV": "RENATAK",
                                    "FOGALT_SZALLASOK": "5"
                                },
                                {
                                    "USERNEV": "RENATAS",
                                    "FOGALT_SZALLASOK": "3"
                                },
                                {
                                    "USERNEV": "robert2",
                                    "FOGALT_SZALLASOK": "4"
                                },
                                {
                                    "USERNEV": "ROBERTI",
                                    "FOGALT_SZALLASOK": "4"
                                },
                                {
                                    "USERNEV": "ROBERTP",
                                    "FOGALT_SZALLASOK": "2"
                                },
                                {
                                    "USERNEV": "roland",
                                    "FOGALT_SZALLASOK": "3"
                                },
                                {
                                    "USERNEV": "roland1",
                                    "FOGALT_SZALLASOK": "4"
                                },
                                {
                                    "USERNEV": "roza2",
                                    "FOGALT_SZALLASOK": "3"
                                },
                                {
                                    "USERNEV": "sandor",
                                    "FOGALT_SZALLASOK": "4"
                                },
                                {
                                    "USERNEV": "sandor3",
                                    "FOGALT_SZALLASOK": "3"
                                },
                                {
                                    "USERNEV": "sandor4",
                                    "FOGALT_SZALLASOK": "3"
                                },
                                {
                                    "USERNEV": "sara",
                                    "FOGALT_SZALLASOK": "9"
                                },
                                {
                                    "USERNEV": "SEBASTIANF",
                                    "FOGALT_SZALLASOK": "3"
                                },
                                {
                                    "USERNEV": "sebestyen",
                                    "FOGALT_SZALLASOK": "2"
                                },
                                {
                                    "USERNEV": "szabolcs",
                                    "FOGALT_SZALLASOK": "1"
                                },
                                {
                                    "USERNEV": "SZABOLCSM",
                                    "FOGALT_SZALLASOK": "4"
                                },
                                {
                                    "USERNEV": "SZILARDS",
                                    "FOGALT_SZALLASOK": "5"
                                },
                                {
                                    "USERNEV": "szilvia1",
                                    "FOGALT_SZALLASOK": "6"
                                },
                                {
                                    "USERNEV": "tamara2",
                                    "FOGALT_SZALLASOK": "2"
                                },
                                {
                                    "USERNEV": "tamas",
                                    "FOGALT_SZALLASOK": "4"
                                },
                                {
                                    "USERNEV": "TAMASF",
                                    "FOGALT_SZALLASOK": "6"
                                },
                                {
                                    "USERNEV": "tibor",
                                    "FOGALT_SZALLASOK": "2"
                                },
                                {
                                    "USERNEV": "tibor2",
                                    "FOGALT_SZALLASOK": "1"
                                },
                                {
                                    "USERNEV": "tihamer",
                                    "FOGALT_SZALLASOK": "4"
                                },
                                {
                                    "USERNEV": "timea",
                                    "FOGALT_SZALLASOK": "1"
                                },
                                {
                                    "USERNEV": "timea2",
                                    "FOGALT_SZALLASOK": "5"
                                },
                                {
                                    "USERNEV": "tunde",
                                    "FOGALT_SZALLASOK": "7"
                                },
                                {
                                    "USERNEV": "valentin",
                                    "FOGALT_SZALLASOK": "5"
                                },
                                {
                                    "USERNEV": "veronika4",
                                    "FOGALT_SZALLASOK": "4"
                                },
                                {
                                    "USERNEV": "VIKTORIAU",
                                    "FOGALT_SZALLASOK": "4"
                                },
                                {
                                    "USERNEV": "VIKTORK",
                                    "FOGALT_SZALLASOK": "2"
                                },
                                {
                                    "USERNEV": "vivien3",
                                    "FOGALT_SZALLASOK": "5"
                                },
                                {
                                    "USERNEV": "zoltan",
                                    "FOGALT_SZALLASOK": "2"
                                },
                                {
                                    "USERNEV": "zoltan4",
                                    "FOGALT_SZALLASOK": "5"
                                },
                                {
                                    "USERNEV": "ZOLTANP",
                                    "FOGALT_SZALLASOK": "3"
                                },
                                {
                                    "USERNEV": "ZOLTANT",
                                    "FOGALT_SZALLASOK": "2"
                                },
                                {
                                    "USERNEV": "zsofi1",
                                    "FOGALT_SZALLASOK": "2"
                                },
                                {
                                    "USERNEV": "zsolt1",
                                    "FOGALT_SZALLASOK": "2"
                                },
                                {
                                    "USERNEV": "ZSOLTJ",
                                    "FOGALT_SZALLASOK": "6"
                                },
                                {
                                    "USERNEV": "zsuzsa",
                                    "FOGALT_SZALLASOK": "2"
                                },
                                {
                                    "USERNEV": "zsuzsa3",
                                    "FOGALT_SZALLASOK": "4"
                                },
                                {
                                    "USERNEV": "zsuzsanna",
                                    "FOGALT_SZALLASOK": "4"
                                },
                                {
                                    "USERNEV": "ZSUZSAV",
                                    "FOGALT_SZALLASOK": "5"
                                },
                                {
                                    "USERNEV": "Összesen:",
                                    "FOGALT_SZALLASOK": "195"
                                }
                            ]
                        },
                        "text/html": [
                            "<table>",
                            "<tr><th>USERNEV</th><th>FOGALT_SZALLASOK</th></tr>",
                            "<tr><td>adam1</td><td>2</td></tr>",
                            "<tr><td>adam3</td><td>2</td></tr>",
                            "<tr><td>adam4</td><td>5</td></tr>",
                            "<tr><td>agnes</td><td>4</td></tr>",
                            "<tr><td>agnes3</td><td>3</td></tr>",
                            "<tr><td>AGNESH</td><td>5</td></tr>",
                            "<tr><td>AGNESK</td><td>3</td></tr>",
                            "<tr><td>akos</td><td>7</td></tr>",
                            "<tr><td>aladar</td><td>3</td></tr>",
                            "<tr><td>alexandra</td><td>6</td></tr>",
                            "<tr><td>andi</td><td>4</td></tr>",
                            "<tr><td>andras2</td><td>3</td></tr>",
                            "<tr><td>andras21</td><td>6</td></tr>",
                            "<tr><td>andras3</td><td>5</td></tr>",
                            "<tr><td>andras4</td><td>2</td></tr>",
                            "<tr><td>andras41</td><td>5</td></tr>",
                            "<tr><td>ANDRASE</td><td>3</td></tr>",
                            "<tr><td>ANDRASN</td><td>1</td></tr>",
                            "<tr><td>andrea</td><td>4</td></tr>",
                            "<tr><td>andrea3</td><td>1</td></tr>",
                            "<tr><td>andrea4</td><td>2</td></tr>",
                            "<tr><td>ANDREAT</td><td>2</td></tr>",
                            "<tr><td>anett3</td><td>6</td></tr>",
                            "<tr><td>aniko</td><td>3</td></tr>",
                            "<tr><td>aniko4</td><td>3</td></tr>",
                            "<tr><td>ANIKOS</td><td>6</td></tr>",
                            "<tr><td>anita</td><td>4</td></tr>",
                            "<tr><td>annamaria1</td><td>1</td></tr>",
                            "<tr><td>ANNAMARIAR</td><td>5</td></tr>",
                            "<tr><td>aron2</td><td>5</td></tr>",
                            "<tr><td>ARONK</td><td>8</td></tr>",
                            "<tr><td>arpad2</td><td>4</td></tr>",
                            "<tr><td>ARPADH</td><td>3</td></tr>",
                            "<tr><td>ARPADM</td><td>5</td></tr>",
                            "<tr><td>attila</td><td>3</td></tr>",
                            "<tr><td>attila1</td><td>5</td></tr>",
                            "<tr><td>attila4</td><td>3</td></tr>",
                            "<tr><td>ATTILAO</td><td>2</td></tr>",
                            "<tr><td>balazs1</td><td>6</td></tr>",
                            "<tr><td>balazs2</td><td>8</td></tr>",
                            "<tr><td>balazs3</td><td>4</td></tr>",
                            "<tr><td>balint</td><td>3</td></tr>",
                            "<tr><td>balint1</td><td>9</td></tr>",
                            "<tr><td>balint2</td><td>1</td></tr>",
                            "<tr><td>balu</td><td>2</td></tr>",
                            "<tr><td>beata4</td><td>4</td></tr>",
                            "<tr><td>BEATRIXK</td><td>7</td></tr>",
                            "<tr><td>BEATRIXS</td><td>5</td></tr>",
                            "<tr><td>BELAF</td><td>3</td></tr>",
                            "<tr><td>bence</td><td>6</td></tr>",
                            "<tr><td>BENCEB</td><td>4</td></tr>",
                            "<tr><td>bernadett1</td><td>5</td></tr>",
                            "<tr><td>bernadett2</td><td>5</td></tr>",
                            "<tr><td>BERNADETTO</td><td>6</td></tr>",
                            "<tr><td>bertalan</td><td>4</td></tr>",
                            "<tr><td>brigitta</td><td>4</td></tr>",
                            "<tr><td>brigitta3</td><td>4</td></tr>",
                            "<tr><td>csongor3</td><td>6</td></tr>",
                            "<tr><td>dani</td><td>6</td></tr>",
                            "<tr><td>daniel</td><td>5</td></tr>",
                            "<tr><td>daniel1</td><td>5</td></tr>",
                            "<tr><td>david</td><td>6</td></tr>",
                            "<tr><td>david1</td><td>5</td></tr>",
                            "<tr><td>david4</td><td>1</td></tr>",
                            "<tr><td>debora</td><td>4</td></tr>",
                            "<tr><td>denes</td><td>3</td></tr>",
                            "<tr><td>dora3</td><td>4</td></tr>",
                            "<tr><td>edit</td><td>5</td></tr>",
                            "<tr><td>emese</td><td>3</td></tr>",
                            "<tr><td>eszter</td><td>4</td></tr>",
                            "<tr><td>eszter2</td><td>5</td></tr>",
                            "<tr><td>eszter4</td><td>3</td></tr>",
                            "<tr><td>ESZTERE</td><td>3</td></tr>",
                            "<tr><td>eva</td><td>2</td></tr>",
                            "<tr><td>eva2</td><td>3</td></tr>",
                            "<tr><td>EVAV</td><td>4</td></tr>",
                            "<tr><td>ferenc1</td><td>4</td></tr>",
                            "<tr><td>fruzsina4</td><td>5</td></tr>",
                            "<tr><td>gabor1</td><td>5</td></tr>",
                            "<tr><td>gabor4</td><td>4</td></tr>",
                            "<tr><td>GABORS</td><td>0</td></tr>",
                            "<tr><td>gabriella1</td><td>4</td></tr>",
                            "<tr><td>gabriella10</td><td>1</td></tr>",
                            "<tr><td>georgij</td><td>4</td></tr>",
                            "<tr><td>gusztav</td><td>5</td></tr>",
                            "<tr><td>GYONGYIK</td><td>7</td></tr>",
                            "<tr><td>GYORGYO</td><td>3</td></tr>",
                            "<tr><td>henrik3</td><td>3</td></tr>",
                            "<tr><td>IBOLYAA</td><td>2</td></tr>",
                            "<tr><td>ilona3</td><td>2</td></tr>",
                            "<tr><td>imre</td><td>2</td></tr>",
                            "<tr><td>imre1</td><td>4</td></tr>",
                            "<tr><td>istvan</td><td>3</td></tr>",
                            "<tr><td>istvan1</td><td>4</td></tr>",
                            "<tr><td>ISTVANV</td><td>2</td></tr>",
                            "<tr><td>janos3</td><td>5</td></tr>",
                            "<tr><td>JANOSG</td><td>3</td></tr>",
                            "<tr><td>JANOSP</td><td>3</td></tr>",
                            "<tr><td>jozsef</td><td>3</td></tr>",
                            "<tr><td>jozsef2</td><td>3</td></tr>",
                            "<tr><td>JOZSEFG</td><td>5</td></tr>",
                            "<tr><td>JUDITH</td><td>3</td></tr>",
                            "<tr><td>julia</td><td>2</td></tr>",
                            "<tr><td>julia4</td><td>2</td></tr>",
                            "<tr><td>julianna4</td><td>4</td></tr>",
                            "<tr><td>kata</td><td>5</td></tr>",
                            "<tr><td>katalin</td><td>6</td></tr>",
                            "<tr><td>katalin4</td><td>3</td></tr>",
                            "<tr><td>kati</td><td>4</td></tr>",
                            "<tr><td>katka</td><td>4</td></tr>",
                            "<tr><td>klaudia2</td><td>3</td></tr>",
                            "<tr><td>kornel4</td><td>3</td></tr>",
                            "<tr><td>kristof4</td><td>2</td></tr>",
                            "<tr><td>kriszti</td><td>6</td></tr>",
                            "<tr><td>krisztian4</td><td>6</td></tr>",
                            "<tr><td>KRISZTIANM</td><td>6</td></tr>",
                            "<tr><td>krisztina</td><td>5</td></tr>",
                            "<tr><td>krisztina1</td><td>4</td></tr>",
                            "<tr><td>KRISZTINAG</td><td>5</td></tr>",
                            "<tr><td>lajos</td><td>3</td></tr>",
                            "<tr><td>lala</td><td>5</td></tr>",
                            "<tr><td>laszlo1</td><td>1</td></tr>",
                            "<tr><td>laszlo2</td><td>5</td></tr>",
                            "<tr><td>LASZLOA</td><td>3</td></tr>",
                            "<tr><td>LASZLON</td><td>5</td></tr>",
                            "<tr><td>maria1</td><td>6</td></tr>",
                            "<tr><td>mark</td><td>3</td></tr>",
                            "<tr><td>MARKH</td><td>2</td></tr>",
                            "<tr><td>marton</td><td>6</td></tr>",
                            "<tr><td>MATEK</td><td>3</td></tr>",
                            "<tr><td>matyas2</td><td>2</td></tr>",
                            "<tr><td>MATYASS</td><td>5</td></tr>",
                            "<tr><td>MIHALYJ</td><td>4</td></tr>",
                            "<tr><td>miklos2</td><td>3</td></tr>",
                            "<tr><td>MIKLOSB</td><td>3</td></tr>",
                            "<tr><td>MONIKAM</td><td>5</td></tr>",
                            "<tr><td>NANDORF</td><td>2</td></tr>",
                            "<tr><td>nikolett3</td><td>4</td></tr>",
                            "<tr><td>nikoletta4</td><td>4</td></tr>",
                            "<tr><td>NIKOLETTAT</td><td>4</td></tr>",
                            "<tr><td>norbert</td><td>4</td></tr>",
                            "<tr><td>norbert2</td><td>5</td></tr>",
                            "<tr><td>norbert4</td><td>5</td></tr>",
                            "<tr><td>norbert5</td><td>2</td></tr>",
                            "<tr><td>pal</td><td>3</td></tr>",
                            "<tr><td>peter1</td><td>3</td></tr>",
                            "<tr><td>peter2</td><td>4</td></tr>",
                            "<tr><td>peter3</td><td>3</td></tr>",
                            "<tr><td>peter4</td><td>7</td></tr>",
                            "<tr><td>PETERB</td><td>3</td></tr>",
                            "<tr><td>polla</td><td>4</td></tr>",
                            "<tr><td>rajmond4</td><td>4</td></tr>",
                            "<tr><td>reka4</td><td>4</td></tr>",
                            "<tr><td>RENATAK</td><td>5</td></tr>",
                            "<tr><td>RENATAS</td><td>3</td></tr>",
                            "<tr><td>robert2</td><td>4</td></tr>",
                            "<tr><td>ROBERTI</td><td>4</td></tr>",
                            "<tr><td>ROBERTP</td><td>2</td></tr>",
                            "<tr><td>roland</td><td>3</td></tr>",
                            "<tr><td>roland1</td><td>4</td></tr>",
                            "<tr><td>roza2</td><td>3</td></tr>",
                            "<tr><td>sandor</td><td>4</td></tr>",
                            "<tr><td>sandor3</td><td>3</td></tr>",
                            "<tr><td>sandor4</td><td>3</td></tr>",
                            "<tr><td>sara</td><td>9</td></tr>",
                            "<tr><td>SEBASTIANF</td><td>3</td></tr>",
                            "<tr><td>sebestyen</td><td>2</td></tr>",
                            "<tr><td>szabolcs</td><td>1</td></tr>",
                            "<tr><td>SZABOLCSM</td><td>4</td></tr>",
                            "<tr><td>SZILARDS</td><td>5</td></tr>",
                            "<tr><td>szilvia1</td><td>6</td></tr>",
                            "<tr><td>tamara2</td><td>2</td></tr>",
                            "<tr><td>tamas</td><td>4</td></tr>",
                            "<tr><td>TAMASF</td><td>6</td></tr>",
                            "<tr><td>tibor</td><td>2</td></tr>",
                            "<tr><td>tibor2</td><td>1</td></tr>",
                            "<tr><td>tihamer</td><td>4</td></tr>",
                            "<tr><td>timea</td><td>1</td></tr>",
                            "<tr><td>timea2</td><td>5</td></tr>",
                            "<tr><td>tunde</td><td>7</td></tr>",
                            "<tr><td>valentin</td><td>5</td></tr>",
                            "<tr><td>veronika4</td><td>4</td></tr>",
                            "<tr><td>VIKTORIAU</td><td>4</td></tr>",
                            "<tr><td>VIKTORK</td><td>2</td></tr>",
                            "<tr><td>vivien3</td><td>5</td></tr>",
                            "<tr><td>zoltan</td><td>2</td></tr>",
                            "<tr><td>zoltan4</td><td>5</td></tr>",
                            "<tr><td>ZOLTANP</td><td>3</td></tr>",
                            "<tr><td>ZOLTANT</td><td>2</td></tr>",
                            "<tr><td>zsofi1</td><td>2</td></tr>",
                            "<tr><td>zsolt1</td><td>2</td></tr>",
                            "<tr><td>ZSOLTJ</td><td>6</td></tr>",
                            "<tr><td>zsuzsa</td><td>2</td></tr>",
                            "<tr><td>zsuzsa3</td><td>4</td></tr>",
                            "<tr><td>zsuzsanna</td><td>4</td></tr>",
                            "<tr><td>ZSUZSAV</td><td>5</td></tr>",
                            "<tr><td>Összesen:</td><td>195</td></tr>",
                            "</table>"
                        ]
                    }
                }
            ],
            "execution_count": 38
        },
        {
            "cell_type": "markdown",
            "source": [
                "mina zh 2. feladat"
            ],
            "metadata": {
                "azdata_cell_guid": "269c1279-bc47-4397-927b-3ecc80ed80b1"
            },
            "attachments": {}
        },
        {
            "cell_type": "code",
            "source": [
                "SELECT \r\n",
                "    USERNEV,\r\n",
                "    NEV,\r\n",
                "    SZUL_DAT,\r\n",
                "    DATEDIFF(YEAR, SZUL_DAT, GETDATE()) AS Eletkor,\r\n",
                "    AVG(DATEDIFF(YEAR, SZUL_DAT, GETDATE())) OVER (\r\n",
                "        ORDER BY SZUL_DAT\r\n",
                "        ROWS BETWEEN 2 PRECEDING AND 2 FOLLOWING\r\n",
                "    ) AS Korátlag_szomszédok\r\n",
                "FROM \r\n",
                "    Vendeg\r\n",
                "ORDER BY \r\n",
                "    SZUL_DAT;\r\n",
                ""
            ],
            "metadata": {
                "azdata_cell_guid": "a1519cad-f2b6-48e0-a123-efebc9489974",
                "language": "sql"
            },
            "outputs": [
                {
                    "output_type": "display_data",
                    "data": {
                        "text/html": "(196 rows affected)"
                    },
                    "metadata": {}
                },
                {
                    "output_type": "display_data",
                    "data": {
                        "text/html": "Total execution time: 00:00:00.010"
                    },
                    "metadata": {}
                },
                {
                    "output_type": "execute_result",
                    "metadata": {},
                    "execution_count": 40,
                    "data": {
                        "application/vnd.dataresource+json": {
                            "schema": {
                                "fields": [
                                    {
                                        "name": "USERNEV"
                                    },
                                    {
                                        "name": "NEV"
                                    },
                                    {
                                        "name": "SZUL_DAT"
                                    },
                                    {
                                        "name": "Eletkor"
                                    },
                                    {
                                        "name": "Korátlag_szomszédok"
                                    }
                                ]
                            },
                            "data": [
                                {
                                    "USERNEV": "anett3",
                                    "NEV": "Pivarcsi Anett",
                                    "SZUL_DAT": "1967-01-03",
                                    "Eletkor": "58",
                                    "Korátlag_szomszédok": "58"
                                },
                                {
                                    "USERNEV": "gusztav",
                                    "NEV": "Bárci Gusztáv",
                                    "SZUL_DAT": "1967-02-25",
                                    "Eletkor": "58",
                                    "Korátlag_szomszédok": "58"
                                },
                                {
                                    "USERNEV": "agnes3",
                                    "NEV": "Hartyánszky Ágnes",
                                    "SZUL_DAT": "1967-04-11",
                                    "Eletkor": "58",
                                    "Korátlag_szomszédok": "58"
                                },
                                {
                                    "USERNEV": "eva",
                                    "NEV": "Enyedi Éva",
                                    "SZUL_DAT": "1967-06-30",
                                    "Eletkor": "58",
                                    "Korátlag_szomszédok": "58"
                                },
                                {
                                    "USERNEV": "ROBERTI",
                                    "NEV": "Iván Róbert",
                                    "SZUL_DAT": "1967-07-02",
                                    "Eletkor": "58",
                                    "Korátlag_szomszédok": "58"
                                },
                                {
                                    "USERNEV": "SZILARDS",
                                    "NEV": "Szalai Szilárd",
                                    "SZUL_DAT": "1967-09-28",
                                    "Eletkor": "58",
                                    "Korátlag_szomszédok": "58"
                                },
                                {
                                    "USERNEV": "laszlo1",
                                    "NEV": "Farkas László",
                                    "SZUL_DAT": "1967-10-30",
                                    "Eletkor": "58",
                                    "Korátlag_szomszédok": "57"
                                },
                                {
                                    "USERNEV": "janos3",
                                    "NEV": "Harangozó János",
                                    "SZUL_DAT": "1967-11-02",
                                    "Eletkor": "58",
                                    "Korátlag_szomszédok": "57"
                                },
                                {
                                    "USERNEV": "katalin",
                                    "NEV": "Horváth Katalin",
                                    "SZUL_DAT": "1968-01-01",
                                    "Eletkor": "57",
                                    "Korátlag_szomszédok": "57"
                                },
                                {
                                    "USERNEV": "pal",
                                    "NEV": "Barabás Pál",
                                    "SZUL_DAT": "1968-02-06",
                                    "Eletkor": "57",
                                    "Korátlag_szomszédok": "57"
                                },
                                {
                                    "USERNEV": "roland",
                                    "NEV": "Tóth Roland",
                                    "SZUL_DAT": "1968-03-21",
                                    "Eletkor": "57",
                                    "Korátlag_szomszédok": "57"
                                },
                                {
                                    "USERNEV": "andi",
                                    "NEV": "Maródi Andrea",
                                    "SZUL_DAT": "1968-05-07",
                                    "Eletkor": "57",
                                    "Korátlag_szomszédok": "57"
                                },
                                {
                                    "USERNEV": "KRISZTIANM",
                                    "NEV": "Mogyródi Krisztián",
                                    "SZUL_DAT": "1968-05-27",
                                    "Eletkor": "57",
                                    "Korátlag_szomszédok": "57"
                                },
                                {
                                    "USERNEV": "kata",
                                    "NEV": "Gondos Katalin",
                                    "SZUL_DAT": "1968-06-22",
                                    "Eletkor": "57",
                                    "Korátlag_szomszédok": "56"
                                },
                                {
                                    "USERNEV": "NANDORF",
                                    "NEV": "Fő Nándor",
                                    "SZUL_DAT": "1968-11-12",
                                    "Eletkor": "57",
                                    "Korátlag_szomszédok": "56"
                                },
                                {
                                    "USERNEV": "PETERB",
                                    "NEV": "Berendi Péter",
                                    "SZUL_DAT": "1969-01-01",
                                    "Eletkor": "56",
                                    "Korátlag_szomszédok": "56"
                                },
                                {
                                    "USERNEV": "LASZLON",
                                    "NEV": "Nagy László",
                                    "SZUL_DAT": "1969-04-12",
                                    "Eletkor": "56",
                                    "Korátlag_szomszédok": "56"
                                },
                                {
                                    "USERNEV": "gabriella10",
                                    "NEV": "Vida Gabriella",
                                    "SZUL_DAT": "1969-06-18",
                                    "Eletkor": "56",
                                    "Korátlag_szomszédok": "56"
                                },
                                {
                                    "USERNEV": "LASZLOA",
                                    "NEV": "Antal László",
                                    "SZUL_DAT": "1969-06-29",
                                    "Eletkor": "56",
                                    "Korátlag_szomszédok": "56"
                                },
                                {
                                    "USERNEV": "daniel1",
                                    "NEV": "Keszler Dániel",
                                    "SZUL_DAT": "1969-07-16",
                                    "Eletkor": "56",
                                    "Korátlag_szomszédok": "56"
                                },
                                {
                                    "USERNEV": "norbert",
                                    "NEV": "Szűcs Norbert",
                                    "SZUL_DAT": "1969-07-17",
                                    "Eletkor": "56",
                                    "Korátlag_szomszédok": "56"
                                },
                                {
                                    "USERNEV": "krisztina1",
                                    "NEV": "Bori Krisztina",
                                    "SZUL_DAT": "1969-10-13",
                                    "Eletkor": "56",
                                    "Korátlag_szomszédok": "55"
                                },
                                {
                                    "USERNEV": "reka4",
                                    "NEV": "Szikszai Réka",
                                    "SZUL_DAT": "1969-11-27",
                                    "Eletkor": "56",
                                    "Korátlag_szomszédok": "55"
                                },
                                {
                                    "USERNEV": "sandor",
                                    "NEV": "Karasz Sándor",
                                    "SZUL_DAT": "1970-01-27",
                                    "Eletkor": "55",
                                    "Korátlag_szomszédok": "55"
                                },
                                {
                                    "USERNEV": "adam3",
                                    "NEV": "Barkóci Ádám",
                                    "SZUL_DAT": "1970-06-07",
                                    "Eletkor": "55",
                                    "Korátlag_szomszédok": "55"
                                },
                                {
                                    "USERNEV": "krisztian4",
                                    "NEV": "Czérna Krisztián",
                                    "SZUL_DAT": "1970-08-01",
                                    "Eletkor": "55",
                                    "Korátlag_szomszédok": "54"
                                },
                                {
                                    "USERNEV": "david1",
                                    "NEV": "Sobják Dávid",
                                    "SZUL_DAT": "1970-08-16",
                                    "Eletkor": "55",
                                    "Korátlag_szomszédok": "54"
                                },
                                {
                                    "USERNEV": "szilvia1",
                                    "NEV": "Tari Szilvia",
                                    "SZUL_DAT": "1971-03-09",
                                    "Eletkor": "54",
                                    "Korátlag_szomszédok": "54"
                                },
                                {
                                    "USERNEV": "anita",
                                    "NEV": "Hamvay-Kovács Anita",
                                    "SZUL_DAT": "1971-03-20",
                                    "Eletkor": "54",
                                    "Korátlag_szomszédok": "54"
                                },
                                {
                                    "USERNEV": "andras3",
                                    "NEV": "Vígh András",
                                    "SZUL_DAT": "1971-04-02",
                                    "Eletkor": "54",
                                    "Korátlag_szomszédok": "54"
                                },
                                {
                                    "USERNEV": "aron2",
                                    "NEV": "Jakab Áron",
                                    "SZUL_DAT": "1971-04-26",
                                    "Eletkor": "54",
                                    "Korátlag_szomszédok": "53"
                                },
                                {
                                    "USERNEV": "eva2",
                                    "NEV": "Perlinger Éva",
                                    "SZUL_DAT": "1971-08-19",
                                    "Eletkor": "54",
                                    "Korátlag_szomszédok": "53"
                                },
                                {
                                    "USERNEV": "nikoletta4",
                                    "NEV": "Kő Nikoletta",
                                    "SZUL_DAT": "1972-01-10",
                                    "Eletkor": "53",
                                    "Korátlag_szomszédok": "53"
                                },
                                {
                                    "USERNEV": "BEATRIXK",
                                    "NEV": "Kerényi Beatrix",
                                    "SZUL_DAT": "1972-04-06",
                                    "Eletkor": "53",
                                    "Korátlag_szomszédok": "53"
                                },
                                {
                                    "USERNEV": "ROBERTP",
                                    "NEV": "Pásztor Róbert",
                                    "SZUL_DAT": "1972-05-16",
                                    "Eletkor": "53",
                                    "Korátlag_szomszédok": "52"
                                },
                                {
                                    "USERNEV": "matyas2",
                                    "NEV": "Botka Mátyás",
                                    "SZUL_DAT": "1972-07-07",
                                    "Eletkor": "53",
                                    "Korátlag_szomszédok": "52"
                                },
                                {
                                    "USERNEV": "sara",
                                    "NEV": "Farkas Sára",
                                    "SZUL_DAT": "1973-04-05",
                                    "Eletkor": "52",
                                    "Korátlag_szomszédok": "52"
                                },
                                {
                                    "USERNEV": "aniko",
                                    "NEV": "Tóth Anikó",
                                    "SZUL_DAT": "1973-06-03",
                                    "Eletkor": "52",
                                    "Korátlag_szomszédok": "52"
                                },
                                {
                                    "USERNEV": "BENCEB",
                                    "NEV": "Bajusz Bence",
                                    "SZUL_DAT": "1973-06-21",
                                    "Eletkor": "52",
                                    "Korátlag_szomszédok": "51"
                                },
                                {
                                    "USERNEV": "gabor1",
                                    "NEV": "Köves Gábor",
                                    "SZUL_DAT": "1973-07-15",
                                    "Eletkor": "52",
                                    "Korátlag_szomszédok": "51"
                                },
                                {
                                    "USERNEV": "david",
                                    "NEV": "Ambrus Dávid",
                                    "SZUL_DAT": "1974-02-11",
                                    "Eletkor": "51",
                                    "Korátlag_szomszédok": "51"
                                },
                                {
                                    "USERNEV": "tunde",
                                    "NEV": "Turcsik Tünde",
                                    "SZUL_DAT": "1974-02-12",
                                    "Eletkor": "51",
                                    "Korátlag_szomszédok": "51"
                                },
                                {
                                    "USERNEV": "GYONGYIK",
                                    "NEV": "Kornseé Gyöngyi",
                                    "SZUL_DAT": "1974-06-07",
                                    "Eletkor": "51",
                                    "Korátlag_szomszédok": "50"
                                },
                                {
                                    "USERNEV": "MONIKAM",
                                    "NEV": "Mohos Mónika",
                                    "SZUL_DAT": "1974-10-01",
                                    "Eletkor": "51",
                                    "Korátlag_szomszédok": "50"
                                },
                                {
                                    "USERNEV": "JANOSG",
                                    "NEV": "Giliga János",
                                    "SZUL_DAT": "1975-01-03",
                                    "Eletkor": "50",
                                    "Korátlag_szomszédok": "50"
                                },
                                {
                                    "USERNEV": "laszlo2",
                                    "NEV": "Móra László",
                                    "SZUL_DAT": "1975-02-19",
                                    "Eletkor": "50",
                                    "Korátlag_szomszédok": "50"
                                },
                                {
                                    "USERNEV": "denes",
                                    "NEV": "Tömböly Dénes",
                                    "SZUL_DAT": "1975-03-14",
                                    "Eletkor": "50",
                                    "Korátlag_szomszédok": "50"
                                },
                                {
                                    "USERNEV": "MATYASS",
                                    "NEV": "Szilágyi Mátyás",
                                    "SZUL_DAT": "1975-03-22",
                                    "Eletkor": "50",
                                    "Korátlag_szomszédok": "50"
                                },
                                {
                                    "USERNEV": "katka",
                                    "NEV": "Kovács Katalin",
                                    "SZUL_DAT": "1975-03-31",
                                    "Eletkor": "50",
                                    "Korátlag_szomszédok": "50"
                                },
                                {
                                    "USERNEV": "JOZSEFG",
                                    "NEV": "Gyuris József",
                                    "SZUL_DAT": "1975-05-26",
                                    "Eletkor": "50",
                                    "Korátlag_szomszédok": "50"
                                },
                                {
                                    "USERNEV": "norbert5",
                                    "NEV": "Béres Norbert",
                                    "SZUL_DAT": "1975-07-27",
                                    "Eletkor": "50",
                                    "Korátlag_szomszédok": "50"
                                },
                                {
                                    "USERNEV": "timea2",
                                    "NEV": "Dusha Tímea",
                                    "SZUL_DAT": "1975-08-22",
                                    "Eletkor": "50",
                                    "Korátlag_szomszédok": "50"
                                },
                                {
                                    "USERNEV": "kornel4",
                                    "NEV": "Lukács Kornél",
                                    "SZUL_DAT": "1975-09-30",
                                    "Eletkor": "50",
                                    "Korátlag_szomszédok": "49"
                                },
                                {
                                    "USERNEV": "attila4",
                                    "NEV": "Baróti Attila",
                                    "SZUL_DAT": "1975-11-06",
                                    "Eletkor": "50",
                                    "Korátlag_szomszédok": "49"
                                },
                                {
                                    "USERNEV": "peter2",
                                    "NEV": "Bozsó Péter",
                                    "SZUL_DAT": "1976-01-26",
                                    "Eletkor": "49",
                                    "Korátlag_szomszédok": "49"
                                },
                                {
                                    "USERNEV": "peter1",
                                    "NEV": "Kozma Péter",
                                    "SZUL_DAT": "1976-03-18",
                                    "Eletkor": "49",
                                    "Korátlag_szomszédok": "49"
                                },
                                {
                                    "USERNEV": "imre1",
                                    "NEV": "Papp Imre",
                                    "SZUL_DAT": "1976-06-25",
                                    "Eletkor": "49",
                                    "Korátlag_szomszédok": "49"
                                },
                                {
                                    "USERNEV": "adam4",
                                    "NEV": "Bieniek Ádám",
                                    "SZUL_DAT": "1976-08-01",
                                    "Eletkor": "49",
                                    "Korátlag_szomszédok": "49"
                                },
                                {
                                    "USERNEV": "balu",
                                    "NEV": "Endresz Bálint",
                                    "SZUL_DAT": "1976-08-01",
                                    "Eletkor": "49",
                                    "Korátlag_szomszédok": "49"
                                },
                                {
                                    "USERNEV": "debora",
                                    "NEV": "Barna Debóra",
                                    "SZUL_DAT": "1976-10-14",
                                    "Eletkor": "49",
                                    "Korátlag_szomszédok": "48"
                                },
                                {
                                    "USERNEV": "ZSUZSAV",
                                    "NEV": "Vajda Zsuzsa",
                                    "SZUL_DAT": "1976-12-11",
                                    "Eletkor": "49",
                                    "Korátlag_szomszédok": "48"
                                },
                                {
                                    "USERNEV": "robert2",
                                    "NEV": "Patay Róbert",
                                    "SZUL_DAT": "1977-01-08",
                                    "Eletkor": "48",
                                    "Korátlag_szomszédok": "48"
                                },
                                {
                                    "USERNEV": "ZOLTANP",
                                    "NEV": "Pintér Zoltán",
                                    "SZUL_DAT": "1977-06-07",
                                    "Eletkor": "48",
                                    "Korátlag_szomszédok": "48"
                                },
                                {
                                    "USERNEV": "ANNAMARIAR",
                                    "NEV": "Regős Annamária",
                                    "SZUL_DAT": "1977-09-26",
                                    "Eletkor": "48",
                                    "Korátlag_szomszédok": "48"
                                },
                                {
                                    "USERNEV": "bertalan",
                                    "NEV": "Csiger Bertalan",
                                    "SZUL_DAT": "1977-10-15",
                                    "Eletkor": "48",
                                    "Korátlag_szomszédok": "47"
                                },
                                {
                                    "USERNEV": "andras21",
                                    "NEV": "Molnár András",
                                    "SZUL_DAT": "1977-11-16",
                                    "Eletkor": "48",
                                    "Korátlag_szomszédok": "47"
                                },
                                {
                                    "USERNEV": "aniko4",
                                    "NEV": "Böröcz Anikó",
                                    "SZUL_DAT": "1978-03-26",
                                    "Eletkor": "47",
                                    "Korátlag_szomszédok": "47"
                                },
                                {
                                    "USERNEV": "kriszti",
                                    "NEV": "Horváth Krisztina",
                                    "SZUL_DAT": "1978-06-12",
                                    "Eletkor": "47",
                                    "Korátlag_szomszédok": "47"
                                },
                                {
                                    "USERNEV": "ESZTERE",
                                    "NEV": "Érsek Eszter",
                                    "SZUL_DAT": "1978-08-28",
                                    "Eletkor": "47",
                                    "Korátlag_szomszédok": "47"
                                },
                                {
                                    "USERNEV": "jozsef2",
                                    "NEV": "Vajda József",
                                    "SZUL_DAT": "1978-09-04",
                                    "Eletkor": "47",
                                    "Korátlag_szomszédok": "47"
                                },
                                {
                                    "USERNEV": "brigitta",
                                    "NEV": "Székely Brigitta",
                                    "SZUL_DAT": "1978-09-13",
                                    "Eletkor": "47",
                                    "Korátlag_szomszédok": "47"
                                },
                                {
                                    "USERNEV": "lajos",
                                    "NEV": "Kiss Lajos",
                                    "SZUL_DAT": "1978-10-31",
                                    "Eletkor": "47",
                                    "Korátlag_szomszédok": "46"
                                },
                                {
                                    "USERNEV": "daniel",
                                    "NEV": "Rácz Dániel",
                                    "SZUL_DAT": "1978-11-28",
                                    "Eletkor": "47",
                                    "Korátlag_szomszédok": "46"
                                },
                                {
                                    "USERNEV": "MIKLOSB",
                                    "NEV": "Balla Miklós",
                                    "SZUL_DAT": "1979-02-16",
                                    "Eletkor": "46",
                                    "Korátlag_szomszédok": "46"
                                },
                                {
                                    "USERNEV": "zsuzsa3",
                                    "NEV": "Varsányi Zsuzsa",
                                    "SZUL_DAT": "1979-03-06",
                                    "Eletkor": "46",
                                    "Korátlag_szomszédok": "46"
                                },
                                {
                                    "USERNEV": "krisztina",
                                    "NEV": "Szedlár Krisztina",
                                    "SZUL_DAT": "1979-05-10",
                                    "Eletkor": "46",
                                    "Korátlag_szomszédok": "46"
                                },
                                {
                                    "USERNEV": "MIHALYJ",
                                    "NEV": "Juhász Mihály",
                                    "SZUL_DAT": "1979-10-12",
                                    "Eletkor": "46",
                                    "Korátlag_szomszédok": "46"
                                },
                                {
                                    "USERNEV": "zoltan",
                                    "NEV": "Fodor Zoltán",
                                    "SZUL_DAT": "1979-11-25",
                                    "Eletkor": "46",
                                    "Korátlag_szomszédok": "46"
                                },
                                {
                                    "USERNEV": "agnes",
                                    "NEV": "Lengyel Ágnes",
                                    "SZUL_DAT": "1979-12-10",
                                    "Eletkor": "46",
                                    "Korátlag_szomszédok": "45"
                                },
                                {
                                    "USERNEV": "attila",
                                    "NEV": "Csóti Attila",
                                    "SZUL_DAT": "1979-12-25",
                                    "Eletkor": "46",
                                    "Korátlag_szomszédok": "45"
                                },
                                {
                                    "USERNEV": "GYORGYO",
                                    "NEV": "Oroszi György",
                                    "SZUL_DAT": "1980-03-23",
                                    "Eletkor": "45",
                                    "Korátlag_szomszédok": "45"
                                },
                                {
                                    "USERNEV": "SZABOLCSM",
                                    "NEV": "Miklós Szabolcs",
                                    "SZUL_DAT": "1980-08-11",
                                    "Eletkor": "45",
                                    "Korátlag_szomszédok": "45"
                                },
                                {
                                    "USERNEV": "tamara2",
                                    "NEV": "Miklós Tamara",
                                    "SZUL_DAT": "1980-08-11",
                                    "Eletkor": "45",
                                    "Korátlag_szomszédok": "45"
                                },
                                {
                                    "USERNEV": "ANDRASN",
                                    "NEV": "Nagy András",
                                    "SZUL_DAT": "1980-09-05",
                                    "Eletkor": "45",
                                    "Korátlag_szomszédok": "45"
                                },
                                {
                                    "USERNEV": "zsuzsa",
                                    "NEV": "Pusztai Zsuzsanna",
                                    "SZUL_DAT": "1980-09-17",
                                    "Eletkor": "45",
                                    "Korátlag_szomszédok": "45"
                                },
                                {
                                    "USERNEV": "aladar",
                                    "NEV": "Dunai Aladár",
                                    "SZUL_DAT": "1980-11-01",
                                    "Eletkor": "45",
                                    "Korátlag_szomszédok": "44"
                                },
                                {
                                    "USERNEV": "EVAV",
                                    "NEV": "Viktor Éva",
                                    "SZUL_DAT": "1980-12-26",
                                    "Eletkor": "45",
                                    "Korátlag_szomszédok": "44"
                                },
                                {
                                    "USERNEV": "BEATRIXS",
                                    "NEV": "Szekendi Beatrix",
                                    "SZUL_DAT": "1981-04-06",
                                    "Eletkor": "44",
                                    "Korátlag_szomszédok": "44"
                                },
                                {
                                    "USERNEV": "andrea4",
                                    "NEV": "Neizer Andrea",
                                    "SZUL_DAT": "1981-05-17",
                                    "Eletkor": "44",
                                    "Korátlag_szomszédok": "44"
                                },
                                {
                                    "USERNEV": "nikolett3",
                                    "NEV": "Horváth Nikolett",
                                    "SZUL_DAT": "1981-09-29",
                                    "Eletkor": "44",
                                    "Korátlag_szomszédok": "43"
                                },
                                {
                                    "USERNEV": "AGNESH",
                                    "NEV": "Horváth Ágnes",
                                    "SZUL_DAT": "1981-12-24",
                                    "Eletkor": "44",
                                    "Korátlag_szomszédok": "43"
                                },
                                {
                                    "USERNEV": "klaudia2",
                                    "NEV": "Bakó Klaudia",
                                    "SZUL_DAT": "1982-04-16",
                                    "Eletkor": "43",
                                    "Korátlag_szomszédok": "43"
                                },
                                {
                                    "USERNEV": "akos",
                                    "NEV": "Bíró Ákos",
                                    "SZUL_DAT": "1982-04-24",
                                    "Eletkor": "43",
                                    "Korátlag_szomszédok": "43"
                                },
                                {
                                    "USERNEV": "attila1",
                                    "NEV": "Gulyás Attila",
                                    "SZUL_DAT": "1982-08-16",
                                    "Eletkor": "43",
                                    "Korátlag_szomszédok": "42"
                                },
                                {
                                    "USERNEV": "gabriella1",
                                    "NEV": "Nagy Gabriella",
                                    "SZUL_DAT": "1982-11-01",
                                    "Eletkor": "43",
                                    "Korátlag_szomszédok": "42"
                                },
                                {
                                    "USERNEV": "georgij",
                                    "NEV": "Nyíri Georgij",
                                    "SZUL_DAT": "1983-02-23",
                                    "Eletkor": "42",
                                    "Korátlag_szomszédok": "42"
                                },
                                {
                                    "USERNEV": "norbert4",
                                    "NEV": "Mile Norbert",
                                    "SZUL_DAT": "1983-06-15",
                                    "Eletkor": "42",
                                    "Korátlag_szomszédok": "42"
                                },
                                {
                                    "USERNEV": "peter3",
                                    "NEV": "Szalai Péter",
                                    "SZUL_DAT": "1983-07-18",
                                    "Eletkor": "42",
                                    "Korátlag_szomszédok": "42"
                                },
                                {
                                    "USERNEV": "veronika4",
                                    "NEV": "Tankó Veronika",
                                    "SZUL_DAT": "1983-08-28",
                                    "Eletkor": "42",
                                    "Korátlag_szomszédok": "42"
                                },
                                {
                                    "USERNEV": "ZSOLTJ",
                                    "NEV": "Józsa Zsolt",
                                    "SZUL_DAT": "1983-09-29",
                                    "Eletkor": "42",
                                    "Korátlag_szomszédok": "42"
                                },
                                {
                                    "USERNEV": "ferenc1",
                                    "NEV": "Orosz Ferenc",
                                    "SZUL_DAT": "1983-10-08",
                                    "Eletkor": "42",
                                    "Korátlag_szomszédok": "42"
                                },
                                {
                                    "USERNEV": "zsofi1",
                                    "NEV": "Molnár Zsófi",
                                    "SZUL_DAT": "1983-11-17",
                                    "Eletkor": "42",
                                    "Korátlag_szomszédok": "41"
                                },
                                {
                                    "USERNEV": "IBOLYAA",
                                    "NEV": "Andor Ibolya",
                                    "SZUL_DAT": "1983-11-27",
                                    "Eletkor": "42",
                                    "Korátlag_szomszédok": "41"
                                },
                                {
                                    "USERNEV": "kristof4",
                                    "NEV": "Poprádi Kristóf",
                                    "SZUL_DAT": "1984-01-15",
                                    "Eletkor": "41",
                                    "Korátlag_szomszédok": "41"
                                },
                                {
                                    "USERNEV": "csongor3",
                                    "NEV": "Nagymihály Csongor",
                                    "SZUL_DAT": "1984-03-05",
                                    "Eletkor": "41",
                                    "Korátlag_szomszédok": "41"
                                },
                                {
                                    "USERNEV": "andras4",
                                    "NEV": "Back András",
                                    "SZUL_DAT": "1984-04-07",
                                    "Eletkor": "41",
                                    "Korátlag_szomszédok": "41"
                                },
                                {
                                    "USERNEV": "edit",
                                    "NEV": "Bittmann Edit",
                                    "SZUL_DAT": "1984-04-20",
                                    "Eletkor": "41",
                                    "Korátlag_szomszédok": "41"
                                },
                                {
                                    "USERNEV": "tamas",
                                    "NEV": "Antal Tamás",
                                    "SZUL_DAT": "1984-09-05",
                                    "Eletkor": "41",
                                    "Korátlag_szomszédok": "41"
                                },
                                {
                                    "USERNEV": "JANOSP",
                                    "NEV": "Pálinkás János",
                                    "SZUL_DAT": "1984-10-12",
                                    "Eletkor": "41",
                                    "Korátlag_szomszédok": "41"
                                },
                                {
                                    "USERNEV": "bernadett1",
                                    "NEV": "Simon Bernadett",
                                    "SZUL_DAT": "1984-10-13",
                                    "Eletkor": "41",
                                    "Korátlag_szomszédok": "40"
                                },
                                {
                                    "USERNEV": "balazs2",
                                    "NEV": "Szűcs Balázs",
                                    "SZUL_DAT": "1984-10-31",
                                    "Eletkor": "41",
                                    "Korátlag_szomszédok": "40"
                                },
                                {
                                    "USERNEV": "tibor2",
                                    "NEV": "Dániel Tibor",
                                    "SZUL_DAT": "1985-02-02",
                                    "Eletkor": "40",
                                    "Korátlag_szomszédok": "40"
                                },
                                {
                                    "USERNEV": "julia4",
                                    "NEV": "Nagy Júlia",
                                    "SZUL_DAT": "1985-08-11",
                                    "Eletkor": "40",
                                    "Korátlag_szomszédok": "40"
                                },
                                {
                                    "USERNEV": "peter4",
                                    "NEV": "Bíró Péter",
                                    "SZUL_DAT": "1985-09-01",
                                    "Eletkor": "40",
                                    "Korátlag_szomszédok": "40"
                                },
                                {
                                    "USERNEV": "jozsef",
                                    "NEV": "Gergely József",
                                    "SZUL_DAT": "1985-11-01",
                                    "Eletkor": "40",
                                    "Korátlag_szomszédok": "40"
                                },
                                {
                                    "USERNEV": "ZOLTANT",
                                    "NEV": "Tóth Zoltán",
                                    "SZUL_DAT": "1985-12-14",
                                    "Eletkor": "40",
                                    "Korátlag_szomszédok": "39"
                                },
                                {
                                    "USERNEV": "roland1",
                                    "NEV": "Ferencz Roland",
                                    "SZUL_DAT": "1985-12-31",
                                    "Eletkor": "40",
                                    "Korátlag_szomszédok": "39"
                                },
                                {
                                    "USERNEV": "valentin",
                                    "NEV": "Feró Valentin",
                                    "SZUL_DAT": "1986-01-09",
                                    "Eletkor": "39",
                                    "Korátlag_szomszédok": "39"
                                },
                                {
                                    "USERNEV": "katalin4",
                                    "NEV": "Kertész Katalin",
                                    "SZUL_DAT": "1986-04-13",
                                    "Eletkor": "39",
                                    "Korátlag_szomszédok": "39"
                                },
                                {
                                    "USERNEV": "ARPADM",
                                    "NEV": "Móricz Árpád",
                                    "SZUL_DAT": "1986-04-20",
                                    "Eletkor": "39",
                                    "Korátlag_szomszédok": "39"
                                },
                                {
                                    "USERNEV": "zoltan4",
                                    "NEV": "Barna Zoltán",
                                    "SZUL_DAT": "1986-05-20",
                                    "Eletkor": "39",
                                    "Korátlag_szomszédok": "39"
                                },
                                {
                                    "USERNEV": "istvan",
                                    "NEV": "Soós István",
                                    "SZUL_DAT": "1986-06-28",
                                    "Eletkor": "39",
                                    "Korátlag_szomszédok": "39"
                                },
                                {
                                    "USERNEV": "balazs3",
                                    "NEV": "Bakódy Balázs",
                                    "SZUL_DAT": "1986-09-09",
                                    "Eletkor": "39",
                                    "Korátlag_szomszédok": "39"
                                },
                                {
                                    "USERNEV": "dani",
                                    "NEV": "Vörös Dániel",
                                    "SZUL_DAT": "1986-10-14",
                                    "Eletkor": "39",
                                    "Korátlag_szomszédok": "39"
                                },
                                {
                                    "USERNEV": "ANDREAT",
                                    "NEV": "Tornyos Andrea",
                                    "SZUL_DAT": "1986-11-14",
                                    "Eletkor": "39",
                                    "Korátlag_szomszédok": "38"
                                },
                                {
                                    "USERNEV": "henrik3",
                                    "NEV": "Nádudvari Henrik",
                                    "SZUL_DAT": "1986-12-05",
                                    "Eletkor": "39",
                                    "Korátlag_szomszédok": "38"
                                },
                                {
                                    "USERNEV": "gabor4",
                                    "NEV": "Telek Gábor",
                                    "SZUL_DAT": "1987-03-15",
                                    "Eletkor": "38",
                                    "Korátlag_szomszédok": "38"
                                },
                                {
                                    "USERNEV": "eszter",
                                    "NEV": "Molnár Eszter",
                                    "SZUL_DAT": "1987-05-10",
                                    "Eletkor": "38",
                                    "Korátlag_szomszédok": "38"
                                },
                                {
                                    "USERNEV": "bence",
                                    "NEV": "Győrffy Bence",
                                    "SZUL_DAT": "1987-07-09",
                                    "Eletkor": "38",
                                    "Korátlag_szomszédok": "38"
                                },
                                {
                                    "USERNEV": "KRISZTINAG",
                                    "NEV": "Gyárfás Krisztina",
                                    "SZUL_DAT": "1987-09-19",
                                    "Eletkor": "38",
                                    "Korátlag_szomszédok": "37"
                                },
                                {
                                    "USERNEV": "BERNADETTO",
                                    "NEV": "Orbán Bernadett",
                                    "SZUL_DAT": "1987-12-07",
                                    "Eletkor": "38",
                                    "Korátlag_szomszédok": "37"
                                },
                                {
                                    "USERNEV": "RENATAK",
                                    "NEV": "Kardos Renáta",
                                    "SZUL_DAT": "1988-05-17",
                                    "Eletkor": "37",
                                    "Korátlag_szomszédok": "37"
                                },
                                {
                                    "USERNEV": "zsolt1",
                                    "NEV": "Pulai Zsolt",
                                    "SZUL_DAT": "1988-05-27",
                                    "Eletkor": "37",
                                    "Korátlag_szomszédok": "37"
                                },
                                {
                                    "USERNEV": "imre",
                                    "NEV": "Búza Imre",
                                    "SZUL_DAT": "1988-09-30",
                                    "Eletkor": "37",
                                    "Korátlag_szomszédok": "37"
                                },
                                {
                                    "USERNEV": "AGNESK",
                                    "NEV": "Kovács Ágnes",
                                    "SZUL_DAT": "1988-10-02",
                                    "Eletkor": "37",
                                    "Korátlag_szomszédok": "37"
                                },
                                {
                                    "USERNEV": "ANIKOS",
                                    "NEV": "Simon Anikó",
                                    "SZUL_DAT": "1988-12-14",
                                    "Eletkor": "37",
                                    "Korátlag_szomszédok": "36"
                                },
                                {
                                    "USERNEV": "roza2",
                                    "NEV": "Bucskó Róza",
                                    "SZUL_DAT": "1988-12-26",
                                    "Eletkor": "37",
                                    "Korátlag_szomszédok": "36"
                                },
                                {
                                    "USERNEV": "sandor3",
                                    "NEV": "Farkas Sándor",
                                    "SZUL_DAT": "1989-01-27",
                                    "Eletkor": "36",
                                    "Korátlag_szomszédok": "36"
                                },
                                {
                                    "USERNEV": "ISTVANV",
                                    "NEV": "Varga István",
                                    "SZUL_DAT": "1989-04-09",
                                    "Eletkor": "36",
                                    "Korátlag_szomszédok": "36"
                                },
                                {
                                    "USERNEV": "VIKTORK",
                                    "NEV": "Keresztúri Viktor",
                                    "SZUL_DAT": "1989-05-05",
                                    "Eletkor": "36",
                                    "Korátlag_szomszédok": "36"
                                },
                                {
                                    "USERNEV": "marton",
                                    "NEV": "Kalacsi Márton",
                                    "SZUL_DAT": "1989-06-24",
                                    "Eletkor": "36",
                                    "Korátlag_szomszédok": "36"
                                },
                                {
                                    "USERNEV": "ARONK",
                                    "NEV": "Kelemen Áron",
                                    "SZUL_DAT": "1989-08-10",
                                    "Eletkor": "36",
                                    "Korátlag_szomszédok": "36"
                                },
                                {
                                    "USERNEV": "emese",
                                    "NEV": "Kuruc Emese",
                                    "SZUL_DAT": "1989-08-10",
                                    "Eletkor": "36",
                                    "Korátlag_szomszédok": "35"
                                },
                                {
                                    "USERNEV": "balint1",
                                    "NEV": "Molnár Bálint",
                                    "SZUL_DAT": "1989-08-24",
                                    "Eletkor": "36",
                                    "Korátlag_szomszédok": "35"
                                },
                                {
                                    "USERNEV": "annamaria1",
                                    "NEV": "Szűcs Annamária",
                                    "SZUL_DAT": "1990-04-27",
                                    "Eletkor": "35",
                                    "Korátlag_szomszédok": "35"
                                },
                                {
                                    "USERNEV": "ARPADH",
                                    "NEV": "Horváth Árpád",
                                    "SZUL_DAT": "1990-05-18",
                                    "Eletkor": "35",
                                    "Korátlag_szomszédok": "35"
                                },
                                {
                                    "USERNEV": "GABORS",
                                    "NEV": "Szöllősi Gábor",
                                    "SZUL_DAT": "1990-05-31",
                                    "Eletkor": "35",
                                    "Korátlag_szomszédok": "35"
                                },
                                {
                                    "USERNEV": "arpad2",
                                    "NEV": "Ötvös Árpád",
                                    "SZUL_DAT": "1990-06-08",
                                    "Eletkor": "35",
                                    "Korátlag_szomszédok": "35"
                                },
                                {
                                    "USERNEV": "szabolcs",
                                    "NEV": "Bodor Szabolcs",
                                    "SZUL_DAT": "1990-07-16",
                                    "Eletkor": "35",
                                    "Korátlag_szomszédok": "35"
                                },
                                {
                                    "USERNEV": "ilona3",
                                    "NEV": "Bosnyák Ilona",
                                    "SZUL_DAT": "1990-08-06",
                                    "Eletkor": "35",
                                    "Korátlag_szomszédok": "35"
                                },
                                {
                                    "USERNEV": "julianna4",
                                    "NEV": "Szabó Julianna",
                                    "SZUL_DAT": "1990-09-29",
                                    "Eletkor": "35",
                                    "Korátlag_szomszédok": "34"
                                },
                                {
                                    "USERNEV": "david4",
                                    "NEV": "Berta Dávid",
                                    "SZUL_DAT": "1990-10-08",
                                    "Eletkor": "35",
                                    "Korátlag_szomszédok": "34"
                                },
                                {
                                    "USERNEV": "RENATAS",
                                    "NEV": "Szirmai Renáta",
                                    "SZUL_DAT": "1991-03-26",
                                    "Eletkor": "34",
                                    "Korátlag_szomszédok": "34"
                                },
                                {
                                    "USERNEV": "brigitta3",
                                    "NEV": "Pataki Brigitta",
                                    "SZUL_DAT": "1991-05-23",
                                    "Eletkor": "34",
                                    "Korátlag_szomszédok": "34"
                                },
                                {
                                    "USERNEV": "vivien3",
                                    "NEV": "Boros Vivien",
                                    "SZUL_DAT": "1991-07-01",
                                    "Eletkor": "34",
                                    "Korátlag_szomszédok": "34"
                                },
                                {
                                    "USERNEV": "tihamer",
                                    "NEV": "Kazy Tihamér",
                                    "SZUL_DAT": "1991-07-05",
                                    "Eletkor": "34",
                                    "Korátlag_szomszédok": "34"
                                },
                                {
                                    "USERNEV": "norbert2",
                                    "NEV": "Hegedűs Norbert",
                                    "SZUL_DAT": "1991-07-17",
                                    "Eletkor": "34",
                                    "Korátlag_szomszédok": "33"
                                },
                                {
                                    "USERNEV": "adam1",
                                    "NEV": "Kiss Ádám",
                                    "SZUL_DAT": "1991-12-28",
                                    "Eletkor": "34",
                                    "Korátlag_szomszédok": "33"
                                },
                                {
                                    "USERNEV": "sebestyen",
                                    "NEV": "Rab Sebestyén",
                                    "SZUL_DAT": "1992-03-03",
                                    "Eletkor": "33",
                                    "Korátlag_szomszédok": "33"
                                },
                                {
                                    "USERNEV": "alexandra",
                                    "NEV": "Bagóczki Alexandra",
                                    "SZUL_DAT": "1992-03-25",
                                    "Eletkor": "33",
                                    "Korátlag_szomszédok": "33"
                                },
                                {
                                    "USERNEV": "SEBASTIANF",
                                    "NEV": "Foltényi Sebastián",
                                    "SZUL_DAT": "1992-09-09",
                                    "Eletkor": "33",
                                    "Korátlag_szomszédok": "32"
                                },
                                {
                                    "USERNEV": "balazs1",
                                    "NEV": "Bozsik Balázs",
                                    "SZUL_DAT": "1992-11-03",
                                    "Eletkor": "33",
                                    "Korátlag_szomszédok": "32"
                                },
                                {
                                    "USERNEV": "julia",
                                    "NEV": "Tóth Júlia",
                                    "SZUL_DAT": "1993-03-02",
                                    "Eletkor": "32",
                                    "Korátlag_szomszédok": "32"
                                },
                                {
                                    "USERNEV": "andrea",
                                    "NEV": "Kiss Andrea",
                                    "SZUL_DAT": "1993-03-25",
                                    "Eletkor": "32",
                                    "Korátlag_szomszédok": "32"
                                },
                                {
                                    "USERNEV": "eszter4",
                                    "NEV": "Fülöp Eszter",
                                    "SZUL_DAT": "1993-06-28",
                                    "Eletkor": "32",
                                    "Korátlag_szomszédok": "32"
                                },
                                {
                                    "USERNEV": "rajmond4",
                                    "NEV": "Rácz Rajmond",
                                    "SZUL_DAT": "1993-09-25",
                                    "Eletkor": "32",
                                    "Korátlag_szomszédok": "31"
                                },
                                {
                                    "USERNEV": "tibor",
                                    "NEV": "Gombos Tibor",
                                    "SZUL_DAT": "1993-11-28",
                                    "Eletkor": "32",
                                    "Korátlag_szomszédok": "31"
                                },
                                {
                                    "USERNEV": "polla",
                                    "NEV": "Palágyi Polla",
                                    "SZUL_DAT": "1994-02-04",
                                    "Eletkor": "31",
                                    "Korátlag_szomszédok": "31"
                                },
                                {
                                    "USERNEV": "beata4",
                                    "NEV": "Bagi Beáta",
                                    "SZUL_DAT": "1994-03-19",
                                    "Eletkor": "31",
                                    "Korátlag_szomszédok": "31"
                                },
                                {
                                    "USERNEV": "zsuzsanna",
                                    "NEV": "Barta Zsuzsanna",
                                    "SZUL_DAT": "1994-10-07",
                                    "Eletkor": "31",
                                    "Korátlag_szomszédok": "30"
                                },
                                {
                                    "USERNEV": "BELAF",
                                    "NEV": "Farkas Béla",
                                    "SZUL_DAT": "1995-02-24",
                                    "Eletkor": "30",
                                    "Korátlag_szomszédok": "30"
                                },
                                {
                                    "USERNEV": "kati",
                                    "NEV": "Zatykó Katalin",
                                    "SZUL_DAT": "1995-05-01",
                                    "Eletkor": "30",
                                    "Korátlag_szomszédok": "30"
                                },
                                {
                                    "USERNEV": "ATTILAO",
                                    "NEV": "Opra Attila",
                                    "SZUL_DAT": "1995-05-08",
                                    "Eletkor": "30",
                                    "Korátlag_szomszédok": "30"
                                },
                                {
                                    "USERNEV": "dora3",
                                    "NEV": "Sarodi Dóra",
                                    "SZUL_DAT": "1995-05-18",
                                    "Eletkor": "30",
                                    "Korátlag_szomszédok": "30"
                                },
                                {
                                    "USERNEV": "miklos2",
                                    "NEV": "Gondos Miklós",
                                    "SZUL_DAT": "1995-10-07",
                                    "Eletkor": "30",
                                    "Korátlag_szomszédok": "29"
                                },
                                {
                                    "USERNEV": "maria1",
                                    "NEV": "Baráth Mária",
                                    "SZUL_DAT": "1995-11-19",
                                    "Eletkor": "30",
                                    "Korátlag_szomszédok": "29"
                                },
                                {
                                    "USERNEV": "timea",
                                    "NEV": "Papós Tímea",
                                    "SZUL_DAT": "1996-01-08",
                                    "Eletkor": "29",
                                    "Korátlag_szomszédok": "29"
                                },
                                {
                                    "USERNEV": "mark",
                                    "NEV": "Kispál Márk",
                                    "SZUL_DAT": "1996-01-23",
                                    "Eletkor": "29",
                                    "Korátlag_szomszédok": "29"
                                },
                                {
                                    "USERNEV": "balint",
                                    "NEV": "Horváth Bálint",
                                    "SZUL_DAT": "1996-03-17",
                                    "Eletkor": "29",
                                    "Korátlag_szomszédok": "29"
                                },
                                {
                                    "USERNEV": "VIKTORIAU",
                                    "NEV": "Urbán Viktoria",
                                    "SZUL_DAT": "1996-05-03",
                                    "Eletkor": "29",
                                    "Korátlag_szomszédok": "29"
                                },
                                {
                                    "USERNEV": "andrea3",
                                    "NEV": "Szomor Andrea",
                                    "SZUL_DAT": "1996-05-10",
                                    "Eletkor": "29",
                                    "Korátlag_szomszédok": "29"
                                },
                                {
                                    "USERNEV": "fruzsina4",
                                    "NEV": "Frank Fruzsina",
                                    "SZUL_DAT": "1996-08-16",
                                    "Eletkor": "29",
                                    "Korátlag_szomszédok": "28"
                                },
                                {
                                    "USERNEV": "bernadett2",
                                    "NEV": "Kovács Bernadett",
                                    "SZUL_DAT": "1996-08-20",
                                    "Eletkor": "29",
                                    "Korátlag_szomszédok": "28"
                                },
                                {
                                    "USERNEV": "lala",
                                    "NEV": "Nagymihály Lajos",
                                    "SZUL_DAT": "1997-02-24",
                                    "Eletkor": "28",
                                    "Korátlag_szomszédok": "28"
                                },
                                {
                                    "USERNEV": "MATEK",
                                    "NEV": "Koza Máté",
                                    "SZUL_DAT": "1997-02-28",
                                    "Eletkor": "28",
                                    "Korátlag_szomszédok": "28"
                                },
                                {
                                    "USERNEV": "ANDRASE",
                                    "NEV": "Erdei András",
                                    "SZUL_DAT": "1997-05-29",
                                    "Eletkor": "28",
                                    "Korátlag_szomszédok": "28"
                                },
                                {
                                    "USERNEV": "sandor4",
                                    "NEV": "Nagy Sándor",
                                    "SZUL_DAT": "1997-06-11",
                                    "Eletkor": "28",
                                    "Korátlag_szomszédok": "28"
                                },
                                {
                                    "USERNEV": "JUDITH",
                                    "NEV": "Hídasi Judit",
                                    "SZUL_DAT": "1997-07-12",
                                    "Eletkor": "28",
                                    "Korátlag_szomszédok": "28"
                                },
                                {
                                    "USERNEV": "balint2",
                                    "NEV": "Vukasinovity Bálint",
                                    "SZUL_DAT": "1997-09-03",
                                    "Eletkor": "28",
                                    "Korátlag_szomszédok": "28"
                                },
                                {
                                    "USERNEV": "MARKH",
                                    "NEV": "Horváth Márk",
                                    "SZUL_DAT": "1997-09-23",
                                    "Eletkor": "28",
                                    "Korátlag_szomszédok": "28"
                                },
                                {
                                    "USERNEV": "NIKOLETTAT",
                                    "NEV": "Tatár Nikoletta",
                                    "SZUL_DAT": "1997-10-19",
                                    "Eletkor": "28",
                                    "Korátlag_szomszédok": "28"
                                },
                                {
                                    "USERNEV": "andras41",
                                    "NEV": "Komjáti András",
                                    "SZUL_DAT": "1997-10-25",
                                    "Eletkor": "28",
                                    "Korátlag_szomszédok": "28"
                                },
                                {
                                    "USERNEV": "andras2",
                                    "NEV": "Tóth András",
                                    "SZUL_DAT": "1997-10-31",
                                    "Eletkor": "28",
                                    "Korátlag_szomszédok": "28"
                                },
                                {
                                    "USERNEV": "TAMASF",
                                    "NEV": "Fényes Tamás",
                                    "SZUL_DAT": "1997-11-06",
                                    "Eletkor": "28",
                                    "Korátlag_szomszédok": "27"
                                },
                                {
                                    "USERNEV": "istvan1",
                                    "NEV": "Vizi István",
                                    "SZUL_DAT": "1997-12-01",
                                    "Eletkor": "28",
                                    "Korátlag_szomszédok": "27"
                                },
                                {
                                    "USERNEV": "eszter2",
                                    "NEV": "Balogh Eszter",
                                    "SZUL_DAT": "1998-01-31",
                                    "Eletkor": "27",
                                    "Korátlag_szomszédok": "27"
                                }
                            ]
                        },
                        "text/html": [
                            "<table>",
                            "<tr><th>USERNEV</th><th>NEV</th><th>SZUL_DAT</th><th>Eletkor</th><th>Korátlag_szomszédok</th></tr>",
                            "<tr><td>anett3</td><td>Pivarcsi Anett</td><td>1967-01-03</td><td>58</td><td>58</td></tr>",
                            "<tr><td>gusztav</td><td>Bárci Gusztáv</td><td>1967-02-25</td><td>58</td><td>58</td></tr>",
                            "<tr><td>agnes3</td><td>Hartyánszky Ágnes</td><td>1967-04-11</td><td>58</td><td>58</td></tr>",
                            "<tr><td>eva</td><td>Enyedi Éva</td><td>1967-06-30</td><td>58</td><td>58</td></tr>",
                            "<tr><td>ROBERTI</td><td>Iván Róbert</td><td>1967-07-02</td><td>58</td><td>58</td></tr>",
                            "<tr><td>SZILARDS</td><td>Szalai Szilárd</td><td>1967-09-28</td><td>58</td><td>58</td></tr>",
                            "<tr><td>laszlo1</td><td>Farkas László</td><td>1967-10-30</td><td>58</td><td>57</td></tr>",
                            "<tr><td>janos3</td><td>Harangozó János</td><td>1967-11-02</td><td>58</td><td>57</td></tr>",
                            "<tr><td>katalin</td><td>Horváth Katalin</td><td>1968-01-01</td><td>57</td><td>57</td></tr>",
                            "<tr><td>pal</td><td>Barabás Pál</td><td>1968-02-06</td><td>57</td><td>57</td></tr>",
                            "<tr><td>roland</td><td>Tóth Roland</td><td>1968-03-21</td><td>57</td><td>57</td></tr>",
                            "<tr><td>andi</td><td>Maródi Andrea</td><td>1968-05-07</td><td>57</td><td>57</td></tr>",
                            "<tr><td>KRISZTIANM</td><td>Mogyródi Krisztián</td><td>1968-05-27</td><td>57</td><td>57</td></tr>",
                            "<tr><td>kata</td><td>Gondos Katalin</td><td>1968-06-22</td><td>57</td><td>56</td></tr>",
                            "<tr><td>NANDORF</td><td>Fő Nándor</td><td>1968-11-12</td><td>57</td><td>56</td></tr>",
                            "<tr><td>PETERB</td><td>Berendi Péter</td><td>1969-01-01</td><td>56</td><td>56</td></tr>",
                            "<tr><td>LASZLON</td><td>Nagy László</td><td>1969-04-12</td><td>56</td><td>56</td></tr>",
                            "<tr><td>gabriella10</td><td>Vida Gabriella</td><td>1969-06-18</td><td>56</td><td>56</td></tr>",
                            "<tr><td>LASZLOA</td><td>Antal László</td><td>1969-06-29</td><td>56</td><td>56</td></tr>",
                            "<tr><td>daniel1</td><td>Keszler Dániel</td><td>1969-07-16</td><td>56</td><td>56</td></tr>",
                            "<tr><td>norbert</td><td>Szűcs Norbert</td><td>1969-07-17</td><td>56</td><td>56</td></tr>",
                            "<tr><td>krisztina1</td><td>Bori Krisztina</td><td>1969-10-13</td><td>56</td><td>55</td></tr>",
                            "<tr><td>reka4</td><td>Szikszai Réka</td><td>1969-11-27</td><td>56</td><td>55</td></tr>",
                            "<tr><td>sandor</td><td>Karasz Sándor</td><td>1970-01-27</td><td>55</td><td>55</td></tr>",
                            "<tr><td>adam3</td><td>Barkóci Ádám</td><td>1970-06-07</td><td>55</td><td>55</td></tr>",
                            "<tr><td>krisztian4</td><td>Czérna Krisztián</td><td>1970-08-01</td><td>55</td><td>54</td></tr>",
                            "<tr><td>david1</td><td>Sobják Dávid</td><td>1970-08-16</td><td>55</td><td>54</td></tr>",
                            "<tr><td>szilvia1</td><td>Tari Szilvia</td><td>1971-03-09</td><td>54</td><td>54</td></tr>",
                            "<tr><td>anita</td><td>Hamvay-Kovács Anita</td><td>1971-03-20</td><td>54</td><td>54</td></tr>",
                            "<tr><td>andras3</td><td>Vígh András</td><td>1971-04-02</td><td>54</td><td>54</td></tr>",
                            "<tr><td>aron2</td><td>Jakab Áron</td><td>1971-04-26</td><td>54</td><td>53</td></tr>",
                            "<tr><td>eva2</td><td>Perlinger Éva</td><td>1971-08-19</td><td>54</td><td>53</td></tr>",
                            "<tr><td>nikoletta4</td><td>Kő Nikoletta</td><td>1972-01-10</td><td>53</td><td>53</td></tr>",
                            "<tr><td>BEATRIXK</td><td>Kerényi Beatrix</td><td>1972-04-06</td><td>53</td><td>53</td></tr>",
                            "<tr><td>ROBERTP</td><td>Pásztor Róbert</td><td>1972-05-16</td><td>53</td><td>52</td></tr>",
                            "<tr><td>matyas2</td><td>Botka Mátyás</td><td>1972-07-07</td><td>53</td><td>52</td></tr>",
                            "<tr><td>sara</td><td>Farkas Sára</td><td>1973-04-05</td><td>52</td><td>52</td></tr>",
                            "<tr><td>aniko</td><td>Tóth Anikó</td><td>1973-06-03</td><td>52</td><td>52</td></tr>",
                            "<tr><td>BENCEB</td><td>Bajusz Bence</td><td>1973-06-21</td><td>52</td><td>51</td></tr>",
                            "<tr><td>gabor1</td><td>Köves Gábor</td><td>1973-07-15</td><td>52</td><td>51</td></tr>",
                            "<tr><td>david</td><td>Ambrus Dávid</td><td>1974-02-11</td><td>51</td><td>51</td></tr>",
                            "<tr><td>tunde</td><td>Turcsik Tünde</td><td>1974-02-12</td><td>51</td><td>51</td></tr>",
                            "<tr><td>GYONGYIK</td><td>Kornseé Gyöngyi</td><td>1974-06-07</td><td>51</td><td>50</td></tr>",
                            "<tr><td>MONIKAM</td><td>Mohos Mónika</td><td>1974-10-01</td><td>51</td><td>50</td></tr>",
                            "<tr><td>JANOSG</td><td>Giliga János</td><td>1975-01-03</td><td>50</td><td>50</td></tr>",
                            "<tr><td>laszlo2</td><td>Móra László</td><td>1975-02-19</td><td>50</td><td>50</td></tr>",
                            "<tr><td>denes</td><td>Tömböly Dénes</td><td>1975-03-14</td><td>50</td><td>50</td></tr>",
                            "<tr><td>MATYASS</td><td>Szilágyi Mátyás</td><td>1975-03-22</td><td>50</td><td>50</td></tr>",
                            "<tr><td>katka</td><td>Kovács Katalin</td><td>1975-03-31</td><td>50</td><td>50</td></tr>",
                            "<tr><td>JOZSEFG</td><td>Gyuris József</td><td>1975-05-26</td><td>50</td><td>50</td></tr>",
                            "<tr><td>norbert5</td><td>Béres Norbert</td><td>1975-07-27</td><td>50</td><td>50</td></tr>",
                            "<tr><td>timea2</td><td>Dusha Tímea</td><td>1975-08-22</td><td>50</td><td>50</td></tr>",
                            "<tr><td>kornel4</td><td>Lukács Kornél</td><td>1975-09-30</td><td>50</td><td>49</td></tr>",
                            "<tr><td>attila4</td><td>Baróti Attila</td><td>1975-11-06</td><td>50</td><td>49</td></tr>",
                            "<tr><td>peter2</td><td>Bozsó Péter</td><td>1976-01-26</td><td>49</td><td>49</td></tr>",
                            "<tr><td>peter1</td><td>Kozma Péter</td><td>1976-03-18</td><td>49</td><td>49</td></tr>",
                            "<tr><td>imre1</td><td>Papp Imre</td><td>1976-06-25</td><td>49</td><td>49</td></tr>",
                            "<tr><td>adam4</td><td>Bieniek Ádám</td><td>1976-08-01</td><td>49</td><td>49</td></tr>",
                            "<tr><td>balu</td><td>Endresz Bálint</td><td>1976-08-01</td><td>49</td><td>49</td></tr>",
                            "<tr><td>debora</td><td>Barna Debóra</td><td>1976-10-14</td><td>49</td><td>48</td></tr>",
                            "<tr><td>ZSUZSAV</td><td>Vajda Zsuzsa</td><td>1976-12-11</td><td>49</td><td>48</td></tr>",
                            "<tr><td>robert2</td><td>Patay Róbert</td><td>1977-01-08</td><td>48</td><td>48</td></tr>",
                            "<tr><td>ZOLTANP</td><td>Pintér Zoltán</td><td>1977-06-07</td><td>48</td><td>48</td></tr>",
                            "<tr><td>ANNAMARIAR</td><td>Regős Annamária</td><td>1977-09-26</td><td>48</td><td>48</td></tr>",
                            "<tr><td>bertalan</td><td>Csiger Bertalan</td><td>1977-10-15</td><td>48</td><td>47</td></tr>",
                            "<tr><td>andras21</td><td>Molnár András</td><td>1977-11-16</td><td>48</td><td>47</td></tr>",
                            "<tr><td>aniko4</td><td>Böröcz Anikó</td><td>1978-03-26</td><td>47</td><td>47</td></tr>",
                            "<tr><td>kriszti</td><td>Horváth Krisztina</td><td>1978-06-12</td><td>47</td><td>47</td></tr>",
                            "<tr><td>ESZTERE</td><td>Érsek Eszter</td><td>1978-08-28</td><td>47</td><td>47</td></tr>",
                            "<tr><td>jozsef2</td><td>Vajda József</td><td>1978-09-04</td><td>47</td><td>47</td></tr>",
                            "<tr><td>brigitta</td><td>Székely Brigitta</td><td>1978-09-13</td><td>47</td><td>47</td></tr>",
                            "<tr><td>lajos</td><td>Kiss Lajos</td><td>1978-10-31</td><td>47</td><td>46</td></tr>",
                            "<tr><td>daniel</td><td>Rácz Dániel</td><td>1978-11-28</td><td>47</td><td>46</td></tr>",
                            "<tr><td>MIKLOSB</td><td>Balla Miklós</td><td>1979-02-16</td><td>46</td><td>46</td></tr>",
                            "<tr><td>zsuzsa3</td><td>Varsányi Zsuzsa</td><td>1979-03-06</td><td>46</td><td>46</td></tr>",
                            "<tr><td>krisztina</td><td>Szedlár Krisztina</td><td>1979-05-10</td><td>46</td><td>46</td></tr>",
                            "<tr><td>MIHALYJ</td><td>Juhász Mihály</td><td>1979-10-12</td><td>46</td><td>46</td></tr>",
                            "<tr><td>zoltan</td><td>Fodor Zoltán</td><td>1979-11-25</td><td>46</td><td>46</td></tr>",
                            "<tr><td>agnes</td><td>Lengyel Ágnes</td><td>1979-12-10</td><td>46</td><td>45</td></tr>",
                            "<tr><td>attila</td><td>Csóti Attila</td><td>1979-12-25</td><td>46</td><td>45</td></tr>",
                            "<tr><td>GYORGYO</td><td>Oroszi György</td><td>1980-03-23</td><td>45</td><td>45</td></tr>",
                            "<tr><td>SZABOLCSM</td><td>Miklós Szabolcs</td><td>1980-08-11</td><td>45</td><td>45</td></tr>",
                            "<tr><td>tamara2</td><td>Miklós Tamara</td><td>1980-08-11</td><td>45</td><td>45</td></tr>",
                            "<tr><td>ANDRASN</td><td>Nagy András</td><td>1980-09-05</td><td>45</td><td>45</td></tr>",
                            "<tr><td>zsuzsa</td><td>Pusztai Zsuzsanna</td><td>1980-09-17</td><td>45</td><td>45</td></tr>",
                            "<tr><td>aladar</td><td>Dunai Aladár</td><td>1980-11-01</td><td>45</td><td>44</td></tr>",
                            "<tr><td>EVAV</td><td>Viktor Éva</td><td>1980-12-26</td><td>45</td><td>44</td></tr>",
                            "<tr><td>BEATRIXS</td><td>Szekendi Beatrix</td><td>1981-04-06</td><td>44</td><td>44</td></tr>",
                            "<tr><td>andrea4</td><td>Neizer Andrea</td><td>1981-05-17</td><td>44</td><td>44</td></tr>",
                            "<tr><td>nikolett3</td><td>Horváth Nikolett</td><td>1981-09-29</td><td>44</td><td>43</td></tr>",
                            "<tr><td>AGNESH</td><td>Horváth Ágnes</td><td>1981-12-24</td><td>44</td><td>43</td></tr>",
                            "<tr><td>klaudia2</td><td>Bakó Klaudia</td><td>1982-04-16</td><td>43</td><td>43</td></tr>",
                            "<tr><td>akos</td><td>Bíró Ákos</td><td>1982-04-24</td><td>43</td><td>43</td></tr>",
                            "<tr><td>attila1</td><td>Gulyás Attila</td><td>1982-08-16</td><td>43</td><td>42</td></tr>",
                            "<tr><td>gabriella1</td><td>Nagy Gabriella</td><td>1982-11-01</td><td>43</td><td>42</td></tr>",
                            "<tr><td>georgij</td><td>Nyíri Georgij</td><td>1983-02-23</td><td>42</td><td>42</td></tr>",
                            "<tr><td>norbert4</td><td>Mile Norbert</td><td>1983-06-15</td><td>42</td><td>42</td></tr>",
                            "<tr><td>peter3</td><td>Szalai Péter</td><td>1983-07-18</td><td>42</td><td>42</td></tr>",
                            "<tr><td>veronika4</td><td>Tankó Veronika</td><td>1983-08-28</td><td>42</td><td>42</td></tr>",
                            "<tr><td>ZSOLTJ</td><td>Józsa Zsolt</td><td>1983-09-29</td><td>42</td><td>42</td></tr>",
                            "<tr><td>ferenc1</td><td>Orosz Ferenc</td><td>1983-10-08</td><td>42</td><td>42</td></tr>",
                            "<tr><td>zsofi1</td><td>Molnár Zsófi</td><td>1983-11-17</td><td>42</td><td>41</td></tr>",
                            "<tr><td>IBOLYAA</td><td>Andor Ibolya</td><td>1983-11-27</td><td>42</td><td>41</td></tr>",
                            "<tr><td>kristof4</td><td>Poprádi Kristóf</td><td>1984-01-15</td><td>41</td><td>41</td></tr>",
                            "<tr><td>csongor3</td><td>Nagymihály Csongor</td><td>1984-03-05</td><td>41</td><td>41</td></tr>",
                            "<tr><td>andras4</td><td>Back András</td><td>1984-04-07</td><td>41</td><td>41</td></tr>",
                            "<tr><td>edit</td><td>Bittmann Edit</td><td>1984-04-20</td><td>41</td><td>41</td></tr>",
                            "<tr><td>tamas</td><td>Antal Tamás</td><td>1984-09-05</td><td>41</td><td>41</td></tr>",
                            "<tr><td>JANOSP</td><td>Pálinkás János</td><td>1984-10-12</td><td>41</td><td>41</td></tr>",
                            "<tr><td>bernadett1</td><td>Simon Bernadett</td><td>1984-10-13</td><td>41</td><td>40</td></tr>",
                            "<tr><td>balazs2</td><td>Szűcs Balázs</td><td>1984-10-31</td><td>41</td><td>40</td></tr>",
                            "<tr><td>tibor2</td><td>Dániel Tibor</td><td>1985-02-02</td><td>40</td><td>40</td></tr>",
                            "<tr><td>julia4</td><td>Nagy Júlia</td><td>1985-08-11</td><td>40</td><td>40</td></tr>",
                            "<tr><td>peter4</td><td>Bíró Péter</td><td>1985-09-01</td><td>40</td><td>40</td></tr>",
                            "<tr><td>jozsef</td><td>Gergely József</td><td>1985-11-01</td><td>40</td><td>40</td></tr>",
                            "<tr><td>ZOLTANT</td><td>Tóth Zoltán</td><td>1985-12-14</td><td>40</td><td>39</td></tr>",
                            "<tr><td>roland1</td><td>Ferencz Roland</td><td>1985-12-31</td><td>40</td><td>39</td></tr>",
                            "<tr><td>valentin</td><td>Feró Valentin</td><td>1986-01-09</td><td>39</td><td>39</td></tr>",
                            "<tr><td>katalin4</td><td>Kertész Katalin</td><td>1986-04-13</td><td>39</td><td>39</td></tr>",
                            "<tr><td>ARPADM</td><td>Móricz Árpád</td><td>1986-04-20</td><td>39</td><td>39</td></tr>",
                            "<tr><td>zoltan4</td><td>Barna Zoltán</td><td>1986-05-20</td><td>39</td><td>39</td></tr>",
                            "<tr><td>istvan</td><td>Soós István</td><td>1986-06-28</td><td>39</td><td>39</td></tr>",
                            "<tr><td>balazs3</td><td>Bakódy Balázs</td><td>1986-09-09</td><td>39</td><td>39</td></tr>",
                            "<tr><td>dani</td><td>Vörös Dániel</td><td>1986-10-14</td><td>39</td><td>39</td></tr>",
                            "<tr><td>ANDREAT</td><td>Tornyos Andrea</td><td>1986-11-14</td><td>39</td><td>38</td></tr>",
                            "<tr><td>henrik3</td><td>Nádudvari Henrik</td><td>1986-12-05</td><td>39</td><td>38</td></tr>",
                            "<tr><td>gabor4</td><td>Telek Gábor</td><td>1987-03-15</td><td>38</td><td>38</td></tr>",
                            "<tr><td>eszter</td><td>Molnár Eszter</td><td>1987-05-10</td><td>38</td><td>38</td></tr>",
                            "<tr><td>bence</td><td>Győrffy Bence</td><td>1987-07-09</td><td>38</td><td>38</td></tr>",
                            "<tr><td>KRISZTINAG</td><td>Gyárfás Krisztina</td><td>1987-09-19</td><td>38</td><td>37</td></tr>",
                            "<tr><td>BERNADETTO</td><td>Orbán Bernadett</td><td>1987-12-07</td><td>38</td><td>37</td></tr>",
                            "<tr><td>RENATAK</td><td>Kardos Renáta</td><td>1988-05-17</td><td>37</td><td>37</td></tr>",
                            "<tr><td>zsolt1</td><td>Pulai Zsolt</td><td>1988-05-27</td><td>37</td><td>37</td></tr>",
                            "<tr><td>imre</td><td>Búza Imre</td><td>1988-09-30</td><td>37</td><td>37</td></tr>",
                            "<tr><td>AGNESK</td><td>Kovács Ágnes</td><td>1988-10-02</td><td>37</td><td>37</td></tr>",
                            "<tr><td>ANIKOS</td><td>Simon Anikó</td><td>1988-12-14</td><td>37</td><td>36</td></tr>",
                            "<tr><td>roza2</td><td>Bucskó Róza</td><td>1988-12-26</td><td>37</td><td>36</td></tr>",
                            "<tr><td>sandor3</td><td>Farkas Sándor</td><td>1989-01-27</td><td>36</td><td>36</td></tr>",
                            "<tr><td>ISTVANV</td><td>Varga István</td><td>1989-04-09</td><td>36</td><td>36</td></tr>",
                            "<tr><td>VIKTORK</td><td>Keresztúri Viktor</td><td>1989-05-05</td><td>36</td><td>36</td></tr>",
                            "<tr><td>marton</td><td>Kalacsi Márton</td><td>1989-06-24</td><td>36</td><td>36</td></tr>",
                            "<tr><td>ARONK</td><td>Kelemen Áron</td><td>1989-08-10</td><td>36</td><td>36</td></tr>",
                            "<tr><td>emese</td><td>Kuruc Emese</td><td>1989-08-10</td><td>36</td><td>35</td></tr>",
                            "<tr><td>balint1</td><td>Molnár Bálint</td><td>1989-08-24</td><td>36</td><td>35</td></tr>",
                            "<tr><td>annamaria1</td><td>Szűcs Annamária</td><td>1990-04-27</td><td>35</td><td>35</td></tr>",
                            "<tr><td>ARPADH</td><td>Horváth Árpád</td><td>1990-05-18</td><td>35</td><td>35</td></tr>",
                            "<tr><td>GABORS</td><td>Szöllősi Gábor</td><td>1990-05-31</td><td>35</td><td>35</td></tr>",
                            "<tr><td>arpad2</td><td>Ötvös Árpád</td><td>1990-06-08</td><td>35</td><td>35</td></tr>",
                            "<tr><td>szabolcs</td><td>Bodor Szabolcs</td><td>1990-07-16</td><td>35</td><td>35</td></tr>",
                            "<tr><td>ilona3</td><td>Bosnyák Ilona</td><td>1990-08-06</td><td>35</td><td>35</td></tr>",
                            "<tr><td>julianna4</td><td>Szabó Julianna</td><td>1990-09-29</td><td>35</td><td>34</td></tr>",
                            "<tr><td>david4</td><td>Berta Dávid</td><td>1990-10-08</td><td>35</td><td>34</td></tr>",
                            "<tr><td>RENATAS</td><td>Szirmai Renáta</td><td>1991-03-26</td><td>34</td><td>34</td></tr>",
                            "<tr><td>brigitta3</td><td>Pataki Brigitta</td><td>1991-05-23</td><td>34</td><td>34</td></tr>",
                            "<tr><td>vivien3</td><td>Boros Vivien</td><td>1991-07-01</td><td>34</td><td>34</td></tr>",
                            "<tr><td>tihamer</td><td>Kazy Tihamér</td><td>1991-07-05</td><td>34</td><td>34</td></tr>",
                            "<tr><td>norbert2</td><td>Hegedűs Norbert</td><td>1991-07-17</td><td>34</td><td>33</td></tr>",
                            "<tr><td>adam1</td><td>Kiss Ádám</td><td>1991-12-28</td><td>34</td><td>33</td></tr>",
                            "<tr><td>sebestyen</td><td>Rab Sebestyén</td><td>1992-03-03</td><td>33</td><td>33</td></tr>",
                            "<tr><td>alexandra</td><td>Bagóczki Alexandra</td><td>1992-03-25</td><td>33</td><td>33</td></tr>",
                            "<tr><td>SEBASTIANF</td><td>Foltényi Sebastián</td><td>1992-09-09</td><td>33</td><td>32</td></tr>",
                            "<tr><td>balazs1</td><td>Bozsik Balázs</td><td>1992-11-03</td><td>33</td><td>32</td></tr>",
                            "<tr><td>julia</td><td>Tóth Júlia</td><td>1993-03-02</td><td>32</td><td>32</td></tr>",
                            "<tr><td>andrea</td><td>Kiss Andrea</td><td>1993-03-25</td><td>32</td><td>32</td></tr>",
                            "<tr><td>eszter4</td><td>Fülöp Eszter</td><td>1993-06-28</td><td>32</td><td>32</td></tr>",
                            "<tr><td>rajmond4</td><td>Rácz Rajmond</td><td>1993-09-25</td><td>32</td><td>31</td></tr>",
                            "<tr><td>tibor</td><td>Gombos Tibor</td><td>1993-11-28</td><td>32</td><td>31</td></tr>",
                            "<tr><td>polla</td><td>Palágyi Polla</td><td>1994-02-04</td><td>31</td><td>31</td></tr>",
                            "<tr><td>beata4</td><td>Bagi Beáta</td><td>1994-03-19</td><td>31</td><td>31</td></tr>",
                            "<tr><td>zsuzsanna</td><td>Barta Zsuzsanna</td><td>1994-10-07</td><td>31</td><td>30</td></tr>",
                            "<tr><td>BELAF</td><td>Farkas Béla</td><td>1995-02-24</td><td>30</td><td>30</td></tr>",
                            "<tr><td>kati</td><td>Zatykó Katalin</td><td>1995-05-01</td><td>30</td><td>30</td></tr>",
                            "<tr><td>ATTILAO</td><td>Opra Attila</td><td>1995-05-08</td><td>30</td><td>30</td></tr>",
                            "<tr><td>dora3</td><td>Sarodi Dóra</td><td>1995-05-18</td><td>30</td><td>30</td></tr>",
                            "<tr><td>miklos2</td><td>Gondos Miklós</td><td>1995-10-07</td><td>30</td><td>29</td></tr>",
                            "<tr><td>maria1</td><td>Baráth Mária</td><td>1995-11-19</td><td>30</td><td>29</td></tr>",
                            "<tr><td>timea</td><td>Papós Tímea</td><td>1996-01-08</td><td>29</td><td>29</td></tr>",
                            "<tr><td>mark</td><td>Kispál Márk</td><td>1996-01-23</td><td>29</td><td>29</td></tr>",
                            "<tr><td>balint</td><td>Horváth Bálint</td><td>1996-03-17</td><td>29</td><td>29</td></tr>",
                            "<tr><td>VIKTORIAU</td><td>Urbán Viktoria</td><td>1996-05-03</td><td>29</td><td>29</td></tr>",
                            "<tr><td>andrea3</td><td>Szomor Andrea</td><td>1996-05-10</td><td>29</td><td>29</td></tr>",
                            "<tr><td>fruzsina4</td><td>Frank Fruzsina</td><td>1996-08-16</td><td>29</td><td>28</td></tr>",
                            "<tr><td>bernadett2</td><td>Kovács Bernadett</td><td>1996-08-20</td><td>29</td><td>28</td></tr>",
                            "<tr><td>lala</td><td>Nagymihály Lajos</td><td>1997-02-24</td><td>28</td><td>28</td></tr>",
                            "<tr><td>MATEK</td><td>Koza Máté</td><td>1997-02-28</td><td>28</td><td>28</td></tr>",
                            "<tr><td>ANDRASE</td><td>Erdei András</td><td>1997-05-29</td><td>28</td><td>28</td></tr>",
                            "<tr><td>sandor4</td><td>Nagy Sándor</td><td>1997-06-11</td><td>28</td><td>28</td></tr>",
                            "<tr><td>JUDITH</td><td>Hídasi Judit</td><td>1997-07-12</td><td>28</td><td>28</td></tr>",
                            "<tr><td>balint2</td><td>Vukasinovity Bálint</td><td>1997-09-03</td><td>28</td><td>28</td></tr>",
                            "<tr><td>MARKH</td><td>Horváth Márk</td><td>1997-09-23</td><td>28</td><td>28</td></tr>",
                            "<tr><td>NIKOLETTAT</td><td>Tatár Nikoletta</td><td>1997-10-19</td><td>28</td><td>28</td></tr>",
                            "<tr><td>andras41</td><td>Komjáti András</td><td>1997-10-25</td><td>28</td><td>28</td></tr>",
                            "<tr><td>andras2</td><td>Tóth András</td><td>1997-10-31</td><td>28</td><td>28</td></tr>",
                            "<tr><td>TAMASF</td><td>Fényes Tamás</td><td>1997-11-06</td><td>28</td><td>27</td></tr>",
                            "<tr><td>istvan1</td><td>Vizi István</td><td>1997-12-01</td><td>28</td><td>27</td></tr>",
                            "<tr><td>eszter2</td><td>Balogh Eszter</td><td>1998-01-31</td><td>27</td><td>27</td></tr>",
                            "</table>"
                        ]
                    }
                }
            ],
            "execution_count": 40
        }
    ]
}