{
    "metadata": {
        "kernelspec": {
            "name": "SQL",
            "display_name": "SQL",
            "language": "sql"
        },
        "language_info": {
            "name": "sql",
            "version": ""
        }
    },
    "nbformat_minor": 2,
    "nbformat": 4,
    "cells": [
        {
            "cell_type": "code",
            "source": [
                "--Egyedi és ismétlődő értékek száma az elsődleges kulcsban (KAT_ID)\r\n",
                "\r\n",
                "SELECT COUNT(*) AS osszes_rekord,\r\n",
                "       COUNT(DISTINCT KAT_ID) AS egyedi_kategoriak\r\n",
                "FROM Termekkategoria;"
            ],
            "metadata": {
                "azdata_cell_guid": "69c25d94-ecd8-45e9-a11f-0e1817d53445",
                "language": "sql"
            },
            "outputs": [
                {
                    "output_type": "display_data",
                    "data": {
                        "text/html": "(1 row affected)"
                    },
                    "metadata": {}
                },
                {
                    "output_type": "display_data",
                    "data": {
                        "text/html": "Total execution time: 00:00:00.017"
                    },
                    "metadata": {}
                },
                {
                    "output_type": "execute_result",
                    "metadata": {
                        "azdata_chartOptions": {
                            "type": "bar",
                            "dataDirection": "horizontal",
                            "columnsAsLabels": true,
                            "labelFirstColumn": false,
                            "legendPosition": "top"
                        }
                    },
                    "execution_count": 26,
                    "data": {
                        "application/vnd.dataresource+json": {
                            "schema": {
                                "fields": [
                                    {
                                        "name": "osszes_rekord"
                                    },
                                    {
                                        "name": "egyedi_kategoriak"
                                    }
                                ]
                            },
                            "data": [
                                {
                                    "osszes_rekord": "155",
                                    "egyedi_kategoriak": "155"
                                }
                            ]
                        },
                        "text/html": [
                            "<table>",
                            "<tr><th>osszes_rekord</th><th>egyedi_kategoriak</th></tr>",
                            "<tr><td>155</td><td>155</td></tr>",
                            "</table>"
                        ]
                    }
                }
            ],
            "execution_count": 26
        },
        {
            "cell_type": "code",
            "source": [
                "--NULL értékek keresése a kategória név oszlopban (KAT_NEV)\r\n",
                "\r\n",
                "SELECT COUNT(*) AS ures_kategoria_nevek\r\n",
                "FROM Termekkategoria\r\n",
                "WHERE KAT_NEV IS NULL OR KAT_NEV = '';\r\n",
                ""
            ],
            "metadata": {
                "azdata_cell_guid": "f04520e7-f3d5-40c9-9a4d-55ac62c7bd92",
                "language": "sql"
            },
            "outputs": [
                {
                    "output_type": "display_data",
                    "data": {
                        "text/html": "(1 row affected)"
                    },
                    "metadata": {}
                },
                {
                    "output_type": "display_data",
                    "data": {
                        "text/html": "Total execution time: 00:00:00.018"
                    },
                    "metadata": {}
                },
                {
                    "output_type": "execute_result",
                    "metadata": {
                        "azdata_chartOptions": {
                            "type": "bar",
                            "dataDirection": "horizontal",
                            "columnsAsLabels": true,
                            "labelFirstColumn": false,
                            "legendPosition": "top"
                        }
                    },
                    "execution_count": 17,
                    "data": {
                        "application/vnd.dataresource+json": {
                            "schema": {
                                "fields": [
                                    {
                                        "name": "ures_kategoria_nevek"
                                    }
                                ]
                            },
                            "data": [
                                {
                                    "ures_kategoria_nevek": "0"
                                }
                            ]
                        },
                        "text/html": [
                            "<table>",
                            "<tr><th>ures_kategoria_nevek</th></tr>",
                            "<tr><td>0</td></tr>",
                            "</table>"
                        ]
                    }
                }
            ],
            "execution_count": 17
        },
        {
            "cell_type": "code",
            "source": [
                "--Hierarchikus kapcsolat vizsgálata – szülőkategória nélküli rekordok száma\r\n",
                "\r\n",
                "SELECT COUNT(*) AS onallo_kategoriak\r\n",
                "FROM Termekkategoria\r\n",
                "WHERE SZULO_KAT IS NULL;\r\n",
                ""
            ],
            "metadata": {
                "azdata_cell_guid": "f8695063-d375-4b54-bd9e-9bc830fa1577",
                "language": "sql"
            },
            "outputs": [
                {
                    "output_type": "display_data",
                    "data": {
                        "text/html": "(1 row affected)"
                    },
                    "metadata": {}
                },
                {
                    "output_type": "display_data",
                    "data": {
                        "text/html": "Total execution time: 00:00:00.017"
                    },
                    "metadata": {}
                },
                {
                    "output_type": "execute_result",
                    "metadata": {
                        "azdata_chartOptions": {
                            "type": "bar",
                            "dataDirection": "horizontal",
                            "columnsAsLabels": true,
                            "labelFirstColumn": false,
                            "legendPosition": "top"
                        }
                    },
                    "execution_count": 19,
                    "data": {
                        "application/vnd.dataresource+json": {
                            "schema": {
                                "fields": [
                                    {
                                        "name": "onallo_kategoriak"
                                    }
                                ]
                            },
                            "data": [
                                {
                                    "onallo_kategoriak": "4"
                                }
                            ]
                        },
                        "text/html": [
                            "<table>",
                            "<tr><th>onallo_kategoriak</th></tr>",
                            "<tr><td>4</td></tr>",
                            "</table>"
                        ]
                    }
                }
            ],
            "execution_count": 19
        },
        {
            "cell_type": "code",
            "source": [
                "--Legkisebb és legnagyobb azonosítók\r\n",
                "\r\n",
                "SELECT MIN(KAT_ID) AS legkisebb_id, MAX(KAT_ID) AS legnagyobb_id \r\n",
                "FROM Termekkategoria;"
            ],
            "metadata": {
                "azdata_cell_guid": "d6c1d9e6-ad66-429a-9219-47bb1c76711c",
                "language": "sql"
            },
            "outputs": [
                {
                    "output_type": "display_data",
                    "data": {
                        "text/html": "(1 row affected)"
                    },
                    "metadata": {}
                },
                {
                    "output_type": "display_data",
                    "data": {
                        "text/html": "Total execution time: 00:00:00.024"
                    },
                    "metadata": {}
                },
                {
                    "output_type": "execute_result",
                    "metadata": {
                        "azdata_chartOptions": {
                            "type": "bar",
                            "dataDirection": "horizontal",
                            "columnsAsLabels": true,
                            "labelFirstColumn": false,
                            "legendPosition": "top"
                        }
                    },
                    "execution_count": 21,
                    "data": {
                        "application/vnd.dataresource+json": {
                            "schema": {
                                "fields": [
                                    {
                                        "name": "legkisebb_id"
                                    },
                                    {
                                        "name": "legnagyobb_id"
                                    }
                                ]
                            },
                            "data": [
                                {
                                    "legkisebb_id": "1",
                                    "legnagyobb_id": "155"
                                }
                            ]
                        },
                        "text/html": [
                            "<table>",
                            "<tr><th>legkisebb_id</th><th>legnagyobb_id</th></tr>",
                            "<tr><td>1</td><td>155</td></tr>",
                            "</table>"
                        ]
                    }
                }
            ],
            "execution_count": 21
        },
        {
            "cell_type": "code",
            "source": [
                "--Kategóriák eloszlása\r\n",
                "\r\n",
                "SELECT KAT_NEV, COUNT(*) AS darab\r\n",
                "FROM Termekkategoria\r\n",
                "GROUP BY KAT_NEV\r\n",
                "ORDER BY darab DESC;"
            ],
            "metadata": {
                "azdata_cell_guid": "ad9f1dd1-b290-490f-bfd1-3d2f3a6d7b00",
                "language": "sql",
                "tags": []
            },
            "outputs": [
                {
                    "output_type": "display_data",
                    "data": {
                        "text/html": "(155 rows affected)"
                    },
                    "metadata": {}
                },
                {
                    "output_type": "display_data",
                    "data": {
                        "text/html": "Total execution time: 00:00:00.038"
                    },
                    "metadata": {}
                },
                {
                    "output_type": "execute_result",
                    "metadata": {},
                    "execution_count": 22,
                    "data": {
                        "application/vnd.dataresource+json": {
                            "schema": {
                                "fields": [
                                    {
                                        "name": "KAT_NEV"
                                    },
                                    {
                                        "name": "darab"
                                    }
                                ]
                            },
                            "data": [
                                {
                                    "KAT_NEV": "ajándék tárgy",
                                    "darab": "1"
                                },
                                {
                                    "KAT_NEV": "ajándék tasak",
                                    "darab": "1"
                                },
                                {
                                    "KAT_NEV": "álarc",
                                    "darab": "1"
                                },
                                {
                                    "KAT_NEV": "alkalmi",
                                    "darab": "1"
                                },
                                {
                                    "KAT_NEV": "alufólia",
                                    "darab": "1"
                                },
                                {
                                    "KAT_NEV": "árazószalag",
                                    "darab": "1"
                                },
                                {
                                    "KAT_NEV": "átírótömb",
                                    "darab": "1"
                                },
                                {
                                    "KAT_NEV": "beíró",
                                    "darab": "1"
                                },
                                {
                                    "KAT_NEV": "beírókönyv",
                                    "darab": "1"
                                },
                                {
                                    "KAT_NEV": "bélyegző",
                                    "darab": "1"
                                },
                                {
                                    "KAT_NEV": "bélyegzőfesték",
                                    "darab": "1"
                                },
                                {
                                    "KAT_NEV": "boríték",
                                    "darab": "1"
                                },
                                {
                                    "KAT_NEV": "cd tok",
                                    "darab": "1"
                                },
                                {
                                    "KAT_NEV": "celofán",
                                    "darab": "1"
                                },
                                {
                                    "KAT_NEV": "ceruza",
                                    "darab": "1"
                                },
                                {
                                    "KAT_NEV": "címke",
                                    "darab": "1"
                                },
                                {
                                    "KAT_NEV": "cipő",
                                    "darab": "1"
                                },
                                {
                                    "KAT_NEV": "color copy",
                                    "darab": "1"
                                },
                                {
                                    "KAT_NEV": "csomagoló",
                                    "darab": "1"
                                },
                                {
                                    "KAT_NEV": "csomagoló anyag",
                                    "darab": "1"
                                },
                                {
                                    "KAT_NEV": "csomagoló papír",
                                    "darab": "1"
                                },
                                {
                                    "KAT_NEV": "dekor",
                                    "darab": "1"
                                },
                                {
                                    "KAT_NEV": "dipa",
                                    "darab": "1"
                                },
                                {
                                    "KAT_NEV": "díszdoboz",
                                    "darab": "1"
                                },
                                {
                                    "KAT_NEV": "díszkötöző",
                                    "darab": "1"
                                },
                                {
                                    "KAT_NEV": "dvd",
                                    "darab": "1"
                                },
                                {
                                    "KAT_NEV": "ecset",
                                    "darab": "1"
                                },
                                {
                                    "KAT_NEV": "előlap",
                                    "darab": "1"
                                },
                                {
                                    "KAT_NEV": "emlékkönyv",
                                    "darab": "1"
                                },
                                {
                                    "KAT_NEV": "emléklap",
                                    "darab": "1"
                                },
                                {
                                    "KAT_NEV": "fax papír",
                                    "darab": "1"
                                },
                                {
                                    "KAT_NEV": "fehérnemű",
                                    "darab": "1"
                                },
                                {
                                    "KAT_NEV": "fénymásoló papír",
                                    "darab": "1"
                                },
                                {
                                    "KAT_NEV": "férfi ing",
                                    "darab": "1"
                                },
                                {
                                    "KAT_NEV": "férfi kabát",
                                    "darab": "1"
                                },
                                {
                                    "KAT_NEV": "férfi nadrág",
                                    "darab": "1"
                                },
                                {
                                    "KAT_NEV": "festékpatron",
                                    "darab": "1"
                                },
                                {
                                    "KAT_NEV": "filctoll",
                                    "darab": "1"
                                },
                                {
                                    "KAT_NEV": "floppy",
                                    "darab": "1"
                                },
                                {
                                    "KAT_NEV": "fólia",
                                    "darab": "1"
                                },
                                {
                                    "KAT_NEV": "fotópapír",
                                    "darab": "1"
                                },
                                {
                                    "KAT_NEV": "füzet",
                                    "darab": "1"
                                },
                                {
                                    "KAT_NEV": "füzetborító",
                                    "darab": "1"
                                },
                                {
                                    "KAT_NEV": "füzettartó",
                                    "darab": "1"
                                },
                                {
                                    "KAT_NEV": "gemkapocs",
                                    "darab": "1"
                                },
                                {
                                    "KAT_NEV": "gémkapocs",
                                    "darab": "1"
                                },
                                {
                                    "KAT_NEV": "genoterm",
                                    "darab": "1"
                                },
                                {
                                    "KAT_NEV": "genotherm",
                                    "darab": "1"
                                },
                                {
                                    "KAT_NEV": "golyóstoll",
                                    "darab": "1"
                                },
                                {
                                    "KAT_NEV": "gumigyűrű",
                                    "darab": "1"
                                },
                                {
                                    "KAT_NEV": "gyermek cipő",
                                    "darab": "1"
                                },
                                {
                                    "KAT_NEV": "gyermek kabát",
                                    "darab": "1"
                                },
                                {
                                    "KAT_NEV": "gyermek nadrág",
                                    "darab": "1"
                                },
                                {
                                    "KAT_NEV": "gyermek póló",
                                    "darab": "1"
                                },
                                {
                                    "KAT_NEV": "gyorsfűző",
                                    "darab": "1"
                                },
                                {
                                    "KAT_NEV": "gyurma",
                                    "darab": "1"
                                },
                                {
                                    "KAT_NEV": "gyűrűskönyv",
                                    "darab": "1"
                                },
                                {
                                    "KAT_NEV": "hajgumi",
                                    "darab": "1"
                                },
                                {
                                    "KAT_NEV": "határidő napló",
                                    "darab": "1"
                                },
                                {
                                    "KAT_NEV": "háztartási papír",
                                    "darab": "1"
                                },
                                {
                                    "KAT_NEV": "hegyező",
                                    "darab": "1"
                                },
                                {
                                    "KAT_NEV": "hegyző",
                                    "darab": "1"
                                },
                                {
                                    "KAT_NEV": "hibajavító",
                                    "darab": "1"
                                },
                                {
                                    "KAT_NEV": "hűtőmágnes",
                                    "darab": "1"
                                },
                                {
                                    "KAT_NEV": "indigó",
                                    "darab": "1"
                                },
                                {
                                    "KAT_NEV": "ing",
                                    "darab": "1"
                                },
                                {
                                    "KAT_NEV": "írásvetítő fólia",
                                    "darab": "1"
                                },
                                {
                                    "KAT_NEV": "iratgyűjtő",
                                    "darab": "1"
                                },
                                {
                                    "KAT_NEV": "iratrendező",
                                    "darab": "1"
                                },
                                {
                                    "KAT_NEV": "iratsín",
                                    "darab": "1"
                                },
                                {
                                    "KAT_NEV": "irattartó",
                                    "darab": "1"
                                },
                                {
                                    "KAT_NEV": "irodaszer",
                                    "darab": "1"
                                },
                                {
                                    "KAT_NEV": "írólap",
                                    "darab": "1"
                                },
                                {
                                    "KAT_NEV": "ironbél",
                                    "darab": "1"
                                },
                                {
                                    "KAT_NEV": "írószer",
                                    "darab": "1"
                                },
                                {
                                    "KAT_NEV": "iskolaszer",
                                    "darab": "1"
                                },
                                {
                                    "KAT_NEV": "játékautó",
                                    "darab": "1"
                                },
                                {
                                    "KAT_NEV": "jelzőkréta",
                                    "darab": "1"
                                },
                                {
                                    "KAT_NEV": "kabát",
                                    "darab": "1"
                                },
                                {
                                    "KAT_NEV": "kapocskiszedő",
                                    "darab": "1"
                                },
                                {
                                    "KAT_NEV": "karton",
                                    "darab": "1"
                                },
                                {
                                    "KAT_NEV": "kártya",
                                    "darab": "1"
                                },
                                {
                                    "KAT_NEV": "képeslap",
                                    "darab": "1"
                                },
                                {
                                    "KAT_NEV": "képkirakó",
                                    "darab": "1"
                                },
                                {
                                    "KAT_NEV": "kiegészítő",
                                    "darab": "1"
                                },
                                {
                                    "KAT_NEV": "kosztüm",
                                    "darab": "1"
                                },
                                {
                                    "KAT_NEV": "könyv",
                                    "darab": "1"
                                },
                                {
                                    "KAT_NEV": "körző",
                                    "darab": "1"
                                },
                                {
                                    "KAT_NEV": "kreatív",
                                    "darab": "1"
                                },
                                {
                                    "KAT_NEV": "kulcstartó",
                                    "darab": "1"
                                },
                                {
                                    "KAT_NEV": "labda",
                                    "darab": "1"
                                },
                                {
                                    "KAT_NEV": "levélpapír",
                                    "darab": "1"
                                },
                                {
                                    "KAT_NEV": "lufi",
                                    "darab": "1"
                                },
                                {
                                    "KAT_NEV": "lyukasztó",
                                    "darab": "1"
                                },
                                {
                                    "KAT_NEV": "mappa",
                                    "darab": "1"
                                },
                                {
                                    "KAT_NEV": "matrica",
                                    "darab": "1"
                                },
                                {
                                    "KAT_NEV": "meghívó",
                                    "darab": "1"
                                },
                                {
                                    "KAT_NEV": "miliméterpapír",
                                    "darab": "1"
                                },
                                {
                                    "KAT_NEV": "munkafüzet",
                                    "darab": "1"
                                },
                                {
                                    "KAT_NEV": "műnyomó",
                                    "darab": "1"
                                },
                                {
                                    "KAT_NEV": "nadrág",
                                    "darab": "1"
                                },
                                {
                                    "KAT_NEV": "naptár",
                                    "darab": "1"
                                },
                                {
                                    "KAT_NEV": "naptárhát",
                                    "darab": "1"
                                },
                                {
                                    "KAT_NEV": "névjegytartó",
                                    "darab": "1"
                                },
                                {
                                    "KAT_NEV": "notesz",
                                    "darab": "1"
                                },
                                {
                                    "KAT_NEV": "női kabát",
                                    "darab": "1"
                                },
                                {
                                    "KAT_NEV": "női nadrág",
                                    "darab": "1"
                                },
                                {
                                    "KAT_NEV": "ofszet",
                                    "darab": "1"
                                },
                                {
                                    "KAT_NEV": "oklevél",
                                    "darab": "1"
                                },
                                {
                                    "KAT_NEV": "olló",
                                    "darab": "1"
                                },
                                {
                                    "KAT_NEV": "öntapadó",
                                    "darab": "1"
                                },
                                {
                                    "KAT_NEV": "papír",
                                    "darab": "1"
                                },
                                {
                                    "KAT_NEV": "papír írószer",
                                    "darab": "1"
                                },
                                {
                                    "KAT_NEV": "papízsebkendő",
                                    "darab": "1"
                                },
                                {
                                    "KAT_NEV": "pausz",
                                    "darab": "1"
                                },
                                {
                                    "KAT_NEV": "pénztárbizonylat",
                                    "darab": "1"
                                },
                                {
                                    "KAT_NEV": "pénztárgépszalag",
                                    "darab": "1"
                                },
                                {
                                    "KAT_NEV": "pixiron",
                                    "darab": "1"
                                },
                                {
                                    "KAT_NEV": "plüss",
                                    "darab": "1"
                                },
                                {
                                    "KAT_NEV": "póló",
                                    "darab": "1"
                                },
                                {
                                    "KAT_NEV": "post-it",
                                    "darab": "1"
                                },
                                {
                                    "KAT_NEV": "radír",
                                    "darab": "1"
                                },
                                {
                                    "KAT_NEV": "radírtoll",
                                    "darab": "1"
                                },
                                {
                                    "KAT_NEV": "ragasztó",
                                    "darab": "1"
                                },
                                {
                                    "KAT_NEV": "ragasztószalag",
                                    "darab": "1"
                                },
                                {
                                    "KAT_NEV": "rágógumi",
                                    "darab": "1"
                                },
                                {
                                    "KAT_NEV": "rajzlap",
                                    "darab": "1"
                                },
                                {
                                    "KAT_NEV": "rajzszeg",
                                    "darab": "1"
                                },
                                {
                                    "KAT_NEV": "regiszteres füzet",
                                    "darab": "1"
                                },
                                {
                                    "KAT_NEV": "ruha",
                                    "darab": "1"
                                },
                                {
                                    "KAT_NEV": "sál",
                                    "darab": "1"
                                },
                                {
                                    "KAT_NEV": "spirál",
                                    "darab": "1"
                                },
                                {
                                    "KAT_NEV": "strandlabda",
                                    "darab": "1"
                                },
                                {
                                    "KAT_NEV": "szalvéta",
                                    "darab": "1"
                                },
                                {
                                    "KAT_NEV": "számológép",
                                    "darab": "1"
                                },
                                {
                                    "KAT_NEV": "szemetes",
                                    "darab": "1"
                                },
                                {
                                    "KAT_NEV": "színes",
                                    "darab": "1"
                                },
                                {
                                    "KAT_NEV": "szögmérő",
                                    "darab": "1"
                                },
                                {
                                    "KAT_NEV": "szövegkiemelő",
                                    "darab": "1"
                                },
                                {
                                    "KAT_NEV": "táblafilc",
                                    "darab": "1"
                                },
                                {
                                    "KAT_NEV": "tapétavágó",
                                    "darab": "1"
                                },
                                {
                                    "KAT_NEV": "tempera",
                                    "darab": "1"
                                },
                                {
                                    "KAT_NEV": "térképtű",
                                    "darab": "1"
                                },
                                {
                                    "KAT_NEV": "tintapatron",
                                    "darab": "1"
                                },
                                {
                                    "KAT_NEV": "toll",
                                    "darab": "1"
                                },
                                {
                                    "KAT_NEV": "tollbetét",
                                    "darab": "1"
                                },
                                {
                                    "KAT_NEV": "tolltartó",
                                    "darab": "1"
                                },
                                {
                                    "KAT_NEV": "toner",
                                    "darab": "1"
                                },
                                {
                                    "KAT_NEV": "töltőtoll",
                                    "darab": "1"
                                },
                                {
                                    "KAT_NEV": "tűzőgép",
                                    "darab": "1"
                                },
                                {
                                    "KAT_NEV": "tűzőkapocs",
                                    "darab": "1"
                                },
                                {
                                    "KAT_NEV": "vízfesték",
                                    "darab": "1"
                                },
                                {
                                    "KAT_NEV": "vonalzó",
                                    "darab": "1"
                                },
                                {
                                    "KAT_NEV": "zászló",
                                    "darab": "1"
                                },
                                {
                                    "KAT_NEV": "zseléstoll",
                                    "darab": "1"
                                }
                            ]
                        },
                        "text/html": [
                            "<table>",
                            "<tr><th>KAT_NEV</th><th>darab</th></tr>",
                            "<tr><td>ajándék tárgy</td><td>1</td></tr>",
                            "<tr><td>ajándék tasak</td><td>1</td></tr>",
                            "<tr><td>álarc</td><td>1</td></tr>",
                            "<tr><td>alkalmi</td><td>1</td></tr>",
                            "<tr><td>alufólia</td><td>1</td></tr>",
                            "<tr><td>árazószalag</td><td>1</td></tr>",
                            "<tr><td>átírótömb</td><td>1</td></tr>",
                            "<tr><td>beíró</td><td>1</td></tr>",
                            "<tr><td>beírókönyv</td><td>1</td></tr>",
                            "<tr><td>bélyegző</td><td>1</td></tr>",
                            "<tr><td>bélyegzőfesték</td><td>1</td></tr>",
                            "<tr><td>boríték</td><td>1</td></tr>",
                            "<tr><td>cd tok</td><td>1</td></tr>",
                            "<tr><td>celofán</td><td>1</td></tr>",
                            "<tr><td>ceruza</td><td>1</td></tr>",
                            "<tr><td>címke</td><td>1</td></tr>",
                            "<tr><td>cipő</td><td>1</td></tr>",
                            "<tr><td>color copy</td><td>1</td></tr>",
                            "<tr><td>csomagoló</td><td>1</td></tr>",
                            "<tr><td>csomagoló anyag</td><td>1</td></tr>",
                            "<tr><td>csomagoló papír</td><td>1</td></tr>",
                            "<tr><td>dekor</td><td>1</td></tr>",
                            "<tr><td>dipa</td><td>1</td></tr>",
                            "<tr><td>díszdoboz</td><td>1</td></tr>",
                            "<tr><td>díszkötöző</td><td>1</td></tr>",
                            "<tr><td>dvd</td><td>1</td></tr>",
                            "<tr><td>ecset</td><td>1</td></tr>",
                            "<tr><td>előlap</td><td>1</td></tr>",
                            "<tr><td>emlékkönyv</td><td>1</td></tr>",
                            "<tr><td>emléklap</td><td>1</td></tr>",
                            "<tr><td>fax papír</td><td>1</td></tr>",
                            "<tr><td>fehérnemű</td><td>1</td></tr>",
                            "<tr><td>fénymásoló papír</td><td>1</td></tr>",
                            "<tr><td>férfi ing</td><td>1</td></tr>",
                            "<tr><td>férfi kabát</td><td>1</td></tr>",
                            "<tr><td>férfi nadrág</td><td>1</td></tr>",
                            "<tr><td>festékpatron</td><td>1</td></tr>",
                            "<tr><td>filctoll</td><td>1</td></tr>",
                            "<tr><td>floppy</td><td>1</td></tr>",
                            "<tr><td>fólia</td><td>1</td></tr>",
                            "<tr><td>fotópapír</td><td>1</td></tr>",
                            "<tr><td>füzet</td><td>1</td></tr>",
                            "<tr><td>füzetborító</td><td>1</td></tr>",
                            "<tr><td>füzettartó</td><td>1</td></tr>",
                            "<tr><td>gemkapocs</td><td>1</td></tr>",
                            "<tr><td>gémkapocs</td><td>1</td></tr>",
                            "<tr><td>genoterm</td><td>1</td></tr>",
                            "<tr><td>genotherm</td><td>1</td></tr>",
                            "<tr><td>golyóstoll</td><td>1</td></tr>",
                            "<tr><td>gumigyűrű</td><td>1</td></tr>",
                            "<tr><td>gyermek cipő</td><td>1</td></tr>",
                            "<tr><td>gyermek kabát</td><td>1</td></tr>",
                            "<tr><td>gyermek nadrág</td><td>1</td></tr>",
                            "<tr><td>gyermek póló</td><td>1</td></tr>",
                            "<tr><td>gyorsfűző</td><td>1</td></tr>",
                            "<tr><td>gyurma</td><td>1</td></tr>",
                            "<tr><td>gyűrűskönyv</td><td>1</td></tr>",
                            "<tr><td>hajgumi</td><td>1</td></tr>",
                            "<tr><td>határidő napló</td><td>1</td></tr>",
                            "<tr><td>háztartási papír</td><td>1</td></tr>",
                            "<tr><td>hegyező</td><td>1</td></tr>",
                            "<tr><td>hegyző</td><td>1</td></tr>",
                            "<tr><td>hibajavító</td><td>1</td></tr>",
                            "<tr><td>hűtőmágnes</td><td>1</td></tr>",
                            "<tr><td>indigó</td><td>1</td></tr>",
                            "<tr><td>ing</td><td>1</td></tr>",
                            "<tr><td>írásvetítő fólia</td><td>1</td></tr>",
                            "<tr><td>iratgyűjtő</td><td>1</td></tr>",
                            "<tr><td>iratrendező</td><td>1</td></tr>",
                            "<tr><td>iratsín</td><td>1</td></tr>",
                            "<tr><td>irattartó</td><td>1</td></tr>",
                            "<tr><td>irodaszer</td><td>1</td></tr>",
                            "<tr><td>írólap</td><td>1</td></tr>",
                            "<tr><td>ironbél</td><td>1</td></tr>",
                            "<tr><td>írószer</td><td>1</td></tr>",
                            "<tr><td>iskolaszer</td><td>1</td></tr>",
                            "<tr><td>játékautó</td><td>1</td></tr>",
                            "<tr><td>jelzőkréta</td><td>1</td></tr>",
                            "<tr><td>kabát</td><td>1</td></tr>",
                            "<tr><td>kapocskiszedő</td><td>1</td></tr>",
                            "<tr><td>karton</td><td>1</td></tr>",
                            "<tr><td>kártya</td><td>1</td></tr>",
                            "<tr><td>képeslap</td><td>1</td></tr>",
                            "<tr><td>képkirakó</td><td>1</td></tr>",
                            "<tr><td>kiegészítő</td><td>1</td></tr>",
                            "<tr><td>kosztüm</td><td>1</td></tr>",
                            "<tr><td>könyv</td><td>1</td></tr>",
                            "<tr><td>körző</td><td>1</td></tr>",
                            "<tr><td>kreatív</td><td>1</td></tr>",
                            "<tr><td>kulcstartó</td><td>1</td></tr>",
                            "<tr><td>labda</td><td>1</td></tr>",
                            "<tr><td>levélpapír</td><td>1</td></tr>",
                            "<tr><td>lufi</td><td>1</td></tr>",
                            "<tr><td>lyukasztó</td><td>1</td></tr>",
                            "<tr><td>mappa</td><td>1</td></tr>",
                            "<tr><td>matrica</td><td>1</td></tr>",
                            "<tr><td>meghívó</td><td>1</td></tr>",
                            "<tr><td>miliméterpapír</td><td>1</td></tr>",
                            "<tr><td>munkafüzet</td><td>1</td></tr>",
                            "<tr><td>műnyomó</td><td>1</td></tr>",
                            "<tr><td>nadrág</td><td>1</td></tr>",
                            "<tr><td>naptár</td><td>1</td></tr>",
                            "<tr><td>naptárhát</td><td>1</td></tr>",
                            "<tr><td>névjegytartó</td><td>1</td></tr>",
                            "<tr><td>notesz</td><td>1</td></tr>",
                            "<tr><td>női kabát</td><td>1</td></tr>",
                            "<tr><td>női nadrág</td><td>1</td></tr>",
                            "<tr><td>ofszet</td><td>1</td></tr>",
                            "<tr><td>oklevél</td><td>1</td></tr>",
                            "<tr><td>olló</td><td>1</td></tr>",
                            "<tr><td>öntapadó</td><td>1</td></tr>",
                            "<tr><td>papír</td><td>1</td></tr>",
                            "<tr><td>papír írószer</td><td>1</td></tr>",
                            "<tr><td>papízsebkendő</td><td>1</td></tr>",
                            "<tr><td>pausz</td><td>1</td></tr>",
                            "<tr><td>pénztárbizonylat</td><td>1</td></tr>",
                            "<tr><td>pénztárgépszalag</td><td>1</td></tr>",
                            "<tr><td>pixiron</td><td>1</td></tr>",
                            "<tr><td>plüss</td><td>1</td></tr>",
                            "<tr><td>póló</td><td>1</td></tr>",
                            "<tr><td>post-it</td><td>1</td></tr>",
                            "<tr><td>radír</td><td>1</td></tr>",
                            "<tr><td>radírtoll</td><td>1</td></tr>",
                            "<tr><td>ragasztó</td><td>1</td></tr>",
                            "<tr><td>ragasztószalag</td><td>1</td></tr>",
                            "<tr><td>rágógumi</td><td>1</td></tr>",
                            "<tr><td>rajzlap</td><td>1</td></tr>",
                            "<tr><td>rajzszeg</td><td>1</td></tr>",
                            "<tr><td>regiszteres füzet</td><td>1</td></tr>",
                            "<tr><td>ruha</td><td>1</td></tr>",
                            "<tr><td>sál</td><td>1</td></tr>",
                            "<tr><td>spirál</td><td>1</td></tr>",
                            "<tr><td>strandlabda</td><td>1</td></tr>",
                            "<tr><td>szalvéta</td><td>1</td></tr>",
                            "<tr><td>számológép</td><td>1</td></tr>",
                            "<tr><td>szemetes</td><td>1</td></tr>",
                            "<tr><td>színes</td><td>1</td></tr>",
                            "<tr><td>szögmérő</td><td>1</td></tr>",
                            "<tr><td>szövegkiemelő</td><td>1</td></tr>",
                            "<tr><td>táblafilc</td><td>1</td></tr>",
                            "<tr><td>tapétavágó</td><td>1</td></tr>",
                            "<tr><td>tempera</td><td>1</td></tr>",
                            "<tr><td>térképtű</td><td>1</td></tr>",
                            "<tr><td>tintapatron</td><td>1</td></tr>",
                            "<tr><td>toll</td><td>1</td></tr>",
                            "<tr><td>tollbetét</td><td>1</td></tr>",
                            "<tr><td>tolltartó</td><td>1</td></tr>",
                            "<tr><td>toner</td><td>1</td></tr>",
                            "<tr><td>töltőtoll</td><td>1</td></tr>",
                            "<tr><td>tűzőgép</td><td>1</td></tr>",
                            "<tr><td>tűzőkapocs</td><td>1</td></tr>",
                            "<tr><td>vízfesték</td><td>1</td></tr>",
                            "<tr><td>vonalzó</td><td>1</td></tr>",
                            "<tr><td>zászló</td><td>1</td></tr>",
                            "<tr><td>zseléstoll</td><td>1</td></tr>",
                            "</table>"
                        ]
                    }
                }
            ],
            "execution_count": 22
        }
    ]
}