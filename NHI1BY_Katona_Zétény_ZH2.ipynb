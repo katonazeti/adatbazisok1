{
    "metadata": {
        "kernelspec": {
            "name": "SQL",
            "display_name": "SQL",
            "language": "sql"
        },
        "language_info": {
            "name": "sql",
            "version": ""
        }
    },
    "nbformat_minor": 2,
    "nbformat": 4,
    "cells": [
        {
            "cell_type": "code",
            "source": [
                "WITH Atlag AS (\r\n",
                "    SELECT AVG(FELNOTT_SZAM + GYERMEK_SZAM * 1.0) AS atlag_fo FROM FOGLALAS\r\n",
                "),\r\n",
                "ElsoResz AS (\r\n",
                "    SELECT \r\n",
                "        F.FOGLALAS_PK,\r\n",
                "        F.UGYFEL_FK,\r\n",
                "        V.NEV AS vendeg_nev,\r\n",
                "        F.FELNOTT_SZAM,\r\n",
                "        F.GYERMEK_SZAM,\r\n",
                "        (F.FELNOTT_SZAM + F.GYERMEK_SZAM) AS osszfo,\r\n",
                "        (\r\n",
                "            SELECT AVG(FELNOTT_SZAM + GYERMEK_SZAM * 1.0)\r\n",
                "            FROM (\r\n",
                "                SELECT TOP 3 * \r\n",
                "                FROM FOGLALAS F2 \r\n",
                "                WHERE F2.UGYFEL_FK = F.UGYFEL_FK AND F2.FOGLALAS_PK < F.FOGLALAS_PK\r\n",
                "                ORDER BY F2.FOGLALAS_PK DESC\r\n",
                "            ) AS utolso3\r\n",
                "        ) AS [Előző három foglalás átlaga]\r\n",
                "    FROM FOGLALAS F\r\n",
                "    JOIN VENDEG V ON F.UGYFEL_FK = V.USERNEV\r\n",
                ")\r\n",
                "SELECT \r\n",
                "    'Átlag alatti foglalás' AS tipus,\r\n",
                "    FOGLALAS_PK,\r\n",
                "    UGYFEL_FK,\r\n",
                "    vendeg_nev,\r\n",
                "    FELNOTT_SZAM,\r\n",
                "    GYERMEK_SZAM,\r\n",
                "    osszfo,\r\n",
                "    [Előző három foglalás átlaga]\r\n",
                "FROM ElsoResz\r\n",
                "WHERE osszfo < (SELECT atlag_fo FROM Atlag)\r\n",
                "\r\n",
                "UNION ALL\r\n",
                "\r\n",
                "SELECT \r\n",
                "    'Még nem foglalt' AS tipus,\r\n",
                "    NULL AS FOGLALAS_PK,\r\n",
                "    V.USERNEV AS UGYFEL_FK,\r\n",
                "    V.NEV AS vendeg_nev,\r\n",
                "    NULL, NULL, NULL, NULL\r\n",
                "FROM VENDEG V\r\n",
                "WHERE NOT EXISTS (\r\n",
                "    SELECT 1 FROM FOGLALAS F WHERE F.UGYFEL_FK = V.USERNEV\r\n",
                ");"
            ],
            "metadata": {
                "azdata_cell_guid": "49fa0bd5-311c-484c-9699-43f189d174b9",
                "language": "sql"
            },
            "outputs": [
                {
                    "output_type": "display_data",
                    "data": {
                        "text/html": "(562 rows affected)"
                    },
                    "metadata": {}
                },
                {
                    "output_type": "display_data",
                    "data": {
                        "text/html": "Total execution time: 00:00:00.125"
                    },
                    "metadata": {}
                },
                {
                    "output_type": "execute_result",
                    "metadata": {},
                    "execution_count": 10,
                    "data": {
                        "application/vnd.dataresource+json": {
                            "schema": {
                                "fields": [
                                    {
                                        "name": "tipus"
                                    },
                                    {
                                        "name": "FOGLALAS_PK"
                                    },
                                    {
                                        "name": "UGYFEL_FK"
                                    },
                                    {
                                        "name": "vendeg_nev"
                                    },
                                    {
                                        "name": "FELNOTT_SZAM"
                                    },
                                    {
                                        "name": "GYERMEK_SZAM"
                                    },
                                    {
                                        "name": "osszfo"
                                    },
                                    {
                                        "name": "Előző három foglalás átlaga"
                                    }
                                ]
                            },
                            "data": [
                                {
                                    "tipus": "Átlag alatti foglalás",
                                    "FOGLALAS_PK": "803",
                                    "UGYFEL_FK": "adam1",
                                    "vendeg_nev": "Kiss Ádám",
                                    "FELNOTT_SZAM": "1",
                                    "GYERMEK_SZAM": "0",
                                    "osszfo": "1",
                                    "Előző három foglalás átlaga": "NULL"
                                },
                                {
                                    "tipus": "Átlag alatti foglalás",
                                    "FOGLALAS_PK": "1165",
                                    "UGYFEL_FK": "adam1",
                                    "vendeg_nev": "Kiss Ádám",
                                    "FELNOTT_SZAM": "2",
                                    "GYERMEK_SZAM": "0",
                                    "osszfo": "2",
                                    "Előző három foglalás átlaga": "2.000000"
                                },
                                {
                                    "tipus": "Átlag alatti foglalás",
                                    "FOGLALAS_PK": "1504",
                                    "UGYFEL_FK": "adam3",
                                    "vendeg_nev": "Barkóci Ádám",
                                    "FELNOTT_SZAM": "1",
                                    "GYERMEK_SZAM": "0",
                                    "osszfo": "1",
                                    "Előző három foglalás átlaga": "2.000000"
                                },
                                {
                                    "tipus": "Átlag alatti foglalás",
                                    "FOGLALAS_PK": "1046",
                                    "UGYFEL_FK": "adam3",
                                    "vendeg_nev": "Barkóci Ádám",
                                    "FELNOTT_SZAM": "2",
                                    "GYERMEK_SZAM": "0",
                                    "osszfo": "2",
                                    "Előző három foglalás átlaga": "NULL"
                                },
                                {
                                    "tipus": "Átlag alatti foglalás",
                                    "FOGLALAS_PK": "1435",
                                    "UGYFEL_FK": "adam4",
                                    "vendeg_nev": "Bieniek Ádám",
                                    "FELNOTT_SZAM": "2",
                                    "GYERMEK_SZAM": "0",
                                    "osszfo": "2",
                                    "Előző három foglalás átlaga": "2.666666"
                                },
                                {
                                    "tipus": "Átlag alatti foglalás",
                                    "FOGLALAS_PK": "1281",
                                    "UGYFEL_FK": "adam4",
                                    "vendeg_nev": "Bieniek Ádám",
                                    "FELNOTT_SZAM": "2",
                                    "GYERMEK_SZAM": "0",
                                    "osszfo": "2",
                                    "Előző három foglalás átlaga": "3.000000"
                                },
                                {
                                    "tipus": "Átlag alatti foglalás",
                                    "FOGLALAS_PK": "1261",
                                    "UGYFEL_FK": "agnes",
                                    "vendeg_nev": "Lengyel Ágnes",
                                    "FELNOTT_SZAM": "1",
                                    "GYERMEK_SZAM": "1",
                                    "osszfo": "2",
                                    "Előző három foglalás átlaga": "2.333333"
                                },
                                {
                                    "tipus": "Átlag alatti foglalás",
                                    "FOGLALAS_PK": "857",
                                    "UGYFEL_FK": "agnes",
                                    "vendeg_nev": "Lengyel Ágnes",
                                    "FELNOTT_SZAM": "1",
                                    "GYERMEK_SZAM": "0",
                                    "osszfo": "1",
                                    "Előző három foglalás átlaga": "3.000000"
                                },
                                {
                                    "tipus": "Átlag alatti foglalás",
                                    "FOGLALAS_PK": "755",
                                    "UGYFEL_FK": "agnes3",
                                    "vendeg_nev": "Hartyánszky Ágnes",
                                    "FELNOTT_SZAM": "1",
                                    "GYERMEK_SZAM": "0",
                                    "osszfo": "1",
                                    "Előző három foglalás átlaga": "NULL"
                                },
                                {
                                    "tipus": "Átlag alatti foglalás",
                                    "FOGLALAS_PK": "571",
                                    "UGYFEL_FK": "AGNESH",
                                    "vendeg_nev": "Horváth Ágnes",
                                    "FELNOTT_SZAM": "1",
                                    "GYERMEK_SZAM": "1",
                                    "osszfo": "2",
                                    "Előző három foglalás átlaga": "NULL"
                                },
                                {
                                    "tipus": "Átlag alatti foglalás",
                                    "FOGLALAS_PK": "980",
                                    "UGYFEL_FK": "AGNESH",
                                    "vendeg_nev": "Horváth Ágnes",
                                    "FELNOTT_SZAM": "1",
                                    "GYERMEK_SZAM": "0",
                                    "osszfo": "1",
                                    "Előző három foglalás átlaga": "3.000000"
                                },
                                {
                                    "tipus": "Átlag alatti foglalás",
                                    "FOGLALAS_PK": "1225",
                                    "UGYFEL_FK": "AGNESH",
                                    "vendeg_nev": "Horváth Ágnes",
                                    "FELNOTT_SZAM": "1",
                                    "GYERMEK_SZAM": "0",
                                    "osszfo": "1",
                                    "Előző három foglalás átlaga": "2.333333"
                                },
                                {
                                    "tipus": "Átlag alatti foglalás",
                                    "FOGLALAS_PK": "1417",
                                    "UGYFEL_FK": "AGNESH",
                                    "vendeg_nev": "Horváth Ágnes",
                                    "FELNOTT_SZAM": "2",
                                    "GYERMEK_SZAM": "0",
                                    "osszfo": "2",
                                    "Előző három foglalás átlaga": "2.000000"
                                },
                                {
                                    "tipus": "Átlag alatti foglalás",
                                    "FOGLALAS_PK": "1371",
                                    "UGYFEL_FK": "AGNESK",
                                    "vendeg_nev": "Kovács Ágnes",
                                    "FELNOTT_SZAM": "1",
                                    "GYERMEK_SZAM": "1",
                                    "osszfo": "2",
                                    "Előző három foglalás átlaga": "2.500000"
                                },
                                {
                                    "tipus": "Átlag alatti foglalás",
                                    "FOGLALAS_PK": "1162",
                                    "UGYFEL_FK": "AGNESK",
                                    "vendeg_nev": "Kovács Ágnes",
                                    "FELNOTT_SZAM": "1",
                                    "GYERMEK_SZAM": "1",
                                    "osszfo": "2",
                                    "Előző három foglalás átlaga": "3.000000"
                                },
                                {
                                    "tipus": "Átlag alatti foglalás",
                                    "FOGLALAS_PK": "1122",
                                    "UGYFEL_FK": "akos",
                                    "vendeg_nev": "Bíró Ákos",
                                    "FELNOTT_SZAM": "2",
                                    "GYERMEK_SZAM": "0",
                                    "osszfo": "2",
                                    "Előző három foglalás átlaga": "1.333333"
                                },
                                {
                                    "tipus": "Átlag alatti foglalás",
                                    "FOGLALAS_PK": "1164",
                                    "UGYFEL_FK": "akos",
                                    "vendeg_nev": "Bíró Ákos",
                                    "FELNOTT_SZAM": "2",
                                    "GYERMEK_SZAM": "0",
                                    "osszfo": "2",
                                    "Előző három foglalás átlaga": "1.333333"
                                },
                                {
                                    "tipus": "Átlag alatti foglalás",
                                    "FOGLALAS_PK": "1299",
                                    "UGYFEL_FK": "akos",
                                    "vendeg_nev": "Bíró Ákos",
                                    "FELNOTT_SZAM": "2",
                                    "GYERMEK_SZAM": "0",
                                    "osszfo": "2",
                                    "Előző három foglalás átlaga": "1.666666"
                                },
                                {
                                    "tipus": "Átlag alatti foglalás",
                                    "FOGLALAS_PK": "1364",
                                    "UGYFEL_FK": "akos",
                                    "vendeg_nev": "Bíró Ákos",
                                    "FELNOTT_SZAM": "1",
                                    "GYERMEK_SZAM": "1",
                                    "osszfo": "2",
                                    "Előző három foglalás átlaga": "2.000000"
                                },
                                {
                                    "tipus": "Átlag alatti foglalás",
                                    "FOGLALAS_PK": "1034",
                                    "UGYFEL_FK": "akos",
                                    "vendeg_nev": "Bíró Ákos",
                                    "FELNOTT_SZAM": "1",
                                    "GYERMEK_SZAM": "0",
                                    "osszfo": "1",
                                    "Előző három foglalás átlaga": "1.666666"
                                },
                                {
                                    "tipus": "Átlag alatti foglalás",
                                    "FOGLALAS_PK": "655",
                                    "UGYFEL_FK": "akos",
                                    "vendeg_nev": "Bíró Ákos",
                                    "FELNOTT_SZAM": "1",
                                    "GYERMEK_SZAM": "1",
                                    "osszfo": "2",
                                    "Előző három foglalás átlaga": "NULL"
                                },
                                {
                                    "tipus": "Átlag alatti foglalás",
                                    "FOGLALAS_PK": "673",
                                    "UGYFEL_FK": "akos",
                                    "vendeg_nev": "Bíró Ákos",
                                    "FELNOTT_SZAM": "2",
                                    "GYERMEK_SZAM": "0",
                                    "osszfo": "2",
                                    "Előző három foglalás átlaga": "2.000000"
                                },
                                {
                                    "tipus": "Átlag alatti foglalás",
                                    "FOGLALAS_PK": "676",
                                    "UGYFEL_FK": "akos",
                                    "vendeg_nev": "Bíró Ákos",
                                    "FELNOTT_SZAM": "2",
                                    "GYERMEK_SZAM": "0",
                                    "osszfo": "2",
                                    "Előző három foglalás átlaga": "2.000000"
                                },
                                {
                                    "tipus": "Átlag alatti foglalás",
                                    "FOGLALAS_PK": "705",
                                    "UGYFEL_FK": "akos",
                                    "vendeg_nev": "Bíró Ákos",
                                    "FELNOTT_SZAM": "1",
                                    "GYERMEK_SZAM": "0",
                                    "osszfo": "1",
                                    "Előző három foglalás átlaga": "2.000000"
                                },
                                {
                                    "tipus": "Átlag alatti foglalás",
                                    "FOGLALAS_PK": "651",
                                    "UGYFEL_FK": "aladar",
                                    "vendeg_nev": "Dunai Aladár",
                                    "FELNOTT_SZAM": "1",
                                    "GYERMEK_SZAM": "0",
                                    "osszfo": "1",
                                    "Előző három foglalás átlaga": "NULL"
                                },
                                {
                                    "tipus": "Átlag alatti foglalás",
                                    "FOGLALAS_PK": "1302",
                                    "UGYFEL_FK": "aladar",
                                    "vendeg_nev": "Dunai Aladár",
                                    "FELNOTT_SZAM": "1",
                                    "GYERMEK_SZAM": "1",
                                    "osszfo": "2",
                                    "Előző három foglalás átlaga": "1.000000"
                                },
                                {
                                    "tipus": "Átlag alatti foglalás",
                                    "FOGLALAS_PK": "1079",
                                    "UGYFEL_FK": "aladar",
                                    "vendeg_nev": "Dunai Aladár",
                                    "FELNOTT_SZAM": "1",
                                    "GYERMEK_SZAM": "0",
                                    "osszfo": "1",
                                    "Előző három foglalás átlaga": "1.000000"
                                },
                                {
                                    "tipus": "Átlag alatti foglalás",
                                    "FOGLALAS_PK": "1175",
                                    "UGYFEL_FK": "alexandra",
                                    "vendeg_nev": "Bagóczki Alexandra",
                                    "FELNOTT_SZAM": "2",
                                    "GYERMEK_SZAM": "0",
                                    "osszfo": "2",
                                    "Előző három foglalás átlaga": "2.666666"
                                },
                                {
                                    "tipus": "Átlag alatti foglalás",
                                    "FOGLALAS_PK": "1332",
                                    "UGYFEL_FK": "alexandra",
                                    "vendeg_nev": "Bagóczki Alexandra",
                                    "FELNOTT_SZAM": "1",
                                    "GYERMEK_SZAM": "1",
                                    "osszfo": "2",
                                    "Előző három foglalás átlaga": "2.333333"
                                },
                                {
                                    "tipus": "Átlag alatti foglalás",
                                    "FOGLALAS_PK": "1436",
                                    "UGYFEL_FK": "alexandra",
                                    "vendeg_nev": "Bagóczki Alexandra",
                                    "FELNOTT_SZAM": "1",
                                    "GYERMEK_SZAM": "0",
                                    "osszfo": "1",
                                    "Előző három foglalás átlaga": "2.333333"
                                },
                                {
                                    "tipus": "Átlag alatti foglalás",
                                    "FOGLALAS_PK": "1457",
                                    "UGYFEL_FK": "alexandra",
                                    "vendeg_nev": "Bagóczki Alexandra",
                                    "FELNOTT_SZAM": "2",
                                    "GYERMEK_SZAM": "0",
                                    "osszfo": "2",
                                    "Előző három foglalás átlaga": "1.666666"
                                },
                                {
                                    "tipus": "Átlag alatti foglalás",
                                    "FOGLALAS_PK": "727",
                                    "UGYFEL_FK": "alexandra",
                                    "vendeg_nev": "Bagóczki Alexandra",
                                    "FELNOTT_SZAM": "1",
                                    "GYERMEK_SZAM": "1",
                                    "osszfo": "2",
                                    "Előző három foglalás átlaga": "3.000000"
                                },
                                {
                                    "tipus": "Átlag alatti foglalás",
                                    "FOGLALAS_PK": "1049",
                                    "UGYFEL_FK": "andi",
                                    "vendeg_nev": "Maródi Andrea",
                                    "FELNOTT_SZAM": "1",
                                    "GYERMEK_SZAM": "1",
                                    "osszfo": "2",
                                    "Előző három foglalás átlaga": "2.500000"
                                },
                                {
                                    "tipus": "Átlag alatti foglalás",
                                    "FOGLALAS_PK": "955",
                                    "UGYFEL_FK": "andi",
                                    "vendeg_nev": "Maródi Andrea",
                                    "FELNOTT_SZAM": "1",
                                    "GYERMEK_SZAM": "0",
                                    "osszfo": "1",
                                    "Előző három foglalás átlaga": "4.000000"
                                },
                                {
                                    "tipus": "Átlag alatti foglalás",
                                    "FOGLALAS_PK": "884",
                                    "UGYFEL_FK": "andras2",
                                    "vendeg_nev": "Tóth András",
                                    "FELNOTT_SZAM": "1",
                                    "GYERMEK_SZAM": "0",
                                    "osszfo": "1",
                                    "Előző három foglalás átlaga": "2.000000"
                                },
                                {
                                    "tipus": "Átlag alatti foglalás",
                                    "FOGLALAS_PK": "693",
                                    "UGYFEL_FK": "andras2",
                                    "vendeg_nev": "Tóth András",
                                    "FELNOTT_SZAM": "2",
                                    "GYERMEK_SZAM": "0",
                                    "osszfo": "2",
                                    "Előző három foglalás átlaga": "NULL"
                                },
                                {
                                    "tipus": "Átlag alatti foglalás",
                                    "FOGLALAS_PK": "1092",
                                    "UGYFEL_FK": "andras2",
                                    "vendeg_nev": "Tóth András",
                                    "FELNOTT_SZAM": "2",
                                    "GYERMEK_SZAM": "0",
                                    "osszfo": "2",
                                    "Előző három foglalás átlaga": "1.500000"
                                },
                                {
                                    "tipus": "Átlag alatti foglalás",
                                    "FOGLALAS_PK": "1478",
                                    "UGYFEL_FK": "andras21",
                                    "vendeg_nev": "Molnár András",
                                    "FELNOTT_SZAM": "2",
                                    "GYERMEK_SZAM": "0",
                                    "osszfo": "2",
                                    "Előző három foglalás átlaga": "3.333333"
                                },
                                {
                                    "tipus": "Átlag alatti foglalás",
                                    "FOGLALAS_PK": "697",
                                    "UGYFEL_FK": "andras21",
                                    "vendeg_nev": "Molnár András",
                                    "FELNOTT_SZAM": "1",
                                    "GYERMEK_SZAM": "0",
                                    "osszfo": "1",
                                    "Előző három foglalás átlaga": "NULL"
                                },
                                {
                                    "tipus": "Átlag alatti foglalás",
                                    "FOGLALAS_PK": "975",
                                    "UGYFEL_FK": "andras21",
                                    "vendeg_nev": "Molnár András",
                                    "FELNOTT_SZAM": "2",
                                    "GYERMEK_SZAM": "0",
                                    "osszfo": "2",
                                    "Előző három foglalás átlaga": "1.000000"
                                },
                                {
                                    "tipus": "Átlag alatti foglalás",
                                    "FOGLALAS_PK": "949",
                                    "UGYFEL_FK": "andras3",
                                    "vendeg_nev": "Vígh András",
                                    "FELNOTT_SZAM": "1",
                                    "GYERMEK_SZAM": "0",
                                    "osszfo": "1",
                                    "Előző három foglalás átlaga": "2.000000"
                                },
                                {
                                    "tipus": "Átlag alatti foglalás",
                                    "FOGLALAS_PK": "880",
                                    "UGYFEL_FK": "andras3",
                                    "vendeg_nev": "Vígh András",
                                    "FELNOTT_SZAM": "1",
                                    "GYERMEK_SZAM": "0",
                                    "osszfo": "1",
                                    "Előző három foglalás átlaga": "2.666666"
                                },
                                {
                                    "tipus": "Átlag alatti foglalás",
                                    "FOGLALAS_PK": "701",
                                    "UGYFEL_FK": "andras3",
                                    "vendeg_nev": "Vígh András",
                                    "FELNOTT_SZAM": "2",
                                    "GYERMEK_SZAM": "0",
                                    "osszfo": "2",
                                    "Előző három foglalás átlaga": "2.500000"
                                },
                                {
                                    "tipus": "Átlag alatti foglalás",
                                    "FOGLALAS_PK": "611",
                                    "UGYFEL_FK": "andras3",
                                    "vendeg_nev": "Vígh András",
                                    "FELNOTT_SZAM": "1",
                                    "GYERMEK_SZAM": "1",
                                    "osszfo": "2",
                                    "Előző három foglalás átlaga": "NULL"
                                },
                                {
                                    "tipus": "Átlag alatti foglalás",
                                    "FOGLALAS_PK": "1489",
                                    "UGYFEL_FK": "andras3",
                                    "vendeg_nev": "Vígh András",
                                    "FELNOTT_SZAM": "2",
                                    "GYERMEK_SZAM": "0",
                                    "osszfo": "2",
                                    "Előző három foglalás átlaga": "1.333333"
                                },
                                {
                                    "tipus": "Átlag alatti foglalás",
                                    "FOGLALAS_PK": "1328",
                                    "UGYFEL_FK": "andras3",
                                    "vendeg_nev": "Vígh András",
                                    "FELNOTT_SZAM": "2",
                                    "GYERMEK_SZAM": "0",
                                    "osszfo": "2",
                                    "Előző három foglalás átlaga": "1.666666"
                                },
                                {
                                    "tipus": "Átlag alatti foglalás",
                                    "FOGLALAS_PK": "1427",
                                    "UGYFEL_FK": "andras4",
                                    "vendeg_nev": "Back András",
                                    "FELNOTT_SZAM": "1",
                                    "GYERMEK_SZAM": "1",
                                    "osszfo": "2",
                                    "Előző három foglalás átlaga": "2.000000"
                                },
                                {
                                    "tipus": "Átlag alatti foglalás",
                                    "FOGLALAS_PK": "1059",
                                    "UGYFEL_FK": "andras4",
                                    "vendeg_nev": "Back András",
                                    "FELNOTT_SZAM": "1",
                                    "GYERMEK_SZAM": "1",
                                    "osszfo": "2",
                                    "Előző három foglalás átlaga": "NULL"
                                },
                                {
                                    "tipus": "Átlag alatti foglalás",
                                    "FOGLALAS_PK": "1317",
                                    "UGYFEL_FK": "andras4",
                                    "vendeg_nev": "Back András",
                                    "FELNOTT_SZAM": "2",
                                    "GYERMEK_SZAM": "0",
                                    "osszfo": "2",
                                    "Előző három foglalás átlaga": "2.000000"
                                },
                                {
                                    "tipus": "Átlag alatti foglalás",
                                    "FOGLALAS_PK": "1308",
                                    "UGYFEL_FK": "andras41",
                                    "vendeg_nev": "Komjáti András",
                                    "FELNOTT_SZAM": "1",
                                    "GYERMEK_SZAM": "0",
                                    "osszfo": "1",
                                    "Előző három foglalás átlaga": "2.666666"
                                },
                                {
                                    "tipus": "Átlag alatti foglalás",
                                    "FOGLALAS_PK": "1074",
                                    "UGYFEL_FK": "andras41",
                                    "vendeg_nev": "Komjáti András",
                                    "FELNOTT_SZAM": "1",
                                    "GYERMEK_SZAM": "0",
                                    "osszfo": "1",
                                    "Előző három foglalás átlaga": "2.000000"
                                },
                                {
                                    "tipus": "Átlag alatti foglalás",
                                    "FOGLALAS_PK": "1094",
                                    "UGYFEL_FK": "andras41",
                                    "vendeg_nev": "Komjáti András",
                                    "FELNOTT_SZAM": "1",
                                    "GYERMEK_SZAM": "1",
                                    "osszfo": "2",
                                    "Előző három foglalás átlaga": "2.000000"
                                },
                                {
                                    "tipus": "Átlag alatti foglalás",
                                    "FOGLALAS_PK": "1142",
                                    "UGYFEL_FK": "andras41",
                                    "vendeg_nev": "Komjáti András",
                                    "FELNOTT_SZAM": "2",
                                    "GYERMEK_SZAM": "0",
                                    "osszfo": "2",
                                    "Előző három foglalás átlaga": "1.666666"
                                },
                                {
                                    "tipus": "Átlag alatti foglalás",
                                    "FOGLALAS_PK": "643",
                                    "UGYFEL_FK": "andras41",
                                    "vendeg_nev": "Komjáti András",
                                    "FELNOTT_SZAM": "1",
                                    "GYERMEK_SZAM": "1",
                                    "osszfo": "2",
                                    "Előző három foglalás átlaga": "NULL"
                                },
                                {
                                    "tipus": "Átlag alatti foglalás",
                                    "FOGLALAS_PK": "799",
                                    "UGYFEL_FK": "andras41",
                                    "vendeg_nev": "Komjáti András",
                                    "FELNOTT_SZAM": "1",
                                    "GYERMEK_SZAM": "0",
                                    "osszfo": "1",
                                    "Előző három foglalás átlaga": "3.333333"
                                },
                                {
                                    "tipus": "Átlag alatti foglalás",
                                    "FOGLALAS_PK": "983",
                                    "UGYFEL_FK": "andras41",
                                    "vendeg_nev": "Komjáti András",
                                    "FELNOTT_SZAM": "2",
                                    "GYERMEK_SZAM": "0",
                                    "osszfo": "2",
                                    "Előző három foglalás átlaga": "2.333333"
                                },
                                {
                                    "tipus": "Átlag alatti foglalás",
                                    "FOGLALAS_PK": "1014",
                                    "UGYFEL_FK": "ANDRASE",
                                    "vendeg_nev": "Erdei András",
                                    "FELNOTT_SZAM": "2",
                                    "GYERMEK_SZAM": "0",
                                    "osszfo": "2",
                                    "Előző három foglalás átlaga": "1.500000"
                                },
                                {
                                    "tipus": "Átlag alatti foglalás",
                                    "FOGLALAS_PK": "786",
                                    "UGYFEL_FK": "ANDRASE",
                                    "vendeg_nev": "Erdei András",
                                    "FELNOTT_SZAM": "1",
                                    "GYERMEK_SZAM": "1",
                                    "osszfo": "2",
                                    "Előző három foglalás átlaga": "1.000000"
                                },
                                {
                                    "tipus": "Átlag alatti foglalás",
                                    "FOGLALAS_PK": "600",
                                    "UGYFEL_FK": "ANDRASE",
                                    "vendeg_nev": "Erdei András",
                                    "FELNOTT_SZAM": "1",
                                    "GYERMEK_SZAM": "0",
                                    "osszfo": "1",
                                    "Előző három foglalás átlaga": "NULL"
                                },
                                {
                                    "tipus": "Átlag alatti foglalás",
                                    "FOGLALAS_PK": "1319",
                                    "UGYFEL_FK": "ANDRASN",
                                    "vendeg_nev": "Nagy András",
                                    "FELNOTT_SZAM": "2",
                                    "GYERMEK_SZAM": "0",
                                    "osszfo": "2",
                                    "Előző három foglalás átlaga": "NULL"
                                },
                                {
                                    "tipus": "Átlag alatti foglalás",
                                    "FOGLALAS_PK": "1514",
                                    "UGYFEL_FK": "andrea",
                                    "vendeg_nev": "Kiss Andrea",
                                    "FELNOTT_SZAM": "2",
                                    "GYERMEK_SZAM": "0",
                                    "osszfo": "2",
                                    "Előző három foglalás átlaga": "3.000000"
                                },
                                {
                                    "tipus": "Átlag alatti foglalás",
                                    "FOGLALAS_PK": "722",
                                    "UGYFEL_FK": "andrea",
                                    "vendeg_nev": "Kiss Andrea",
                                    "FELNOTT_SZAM": "1",
                                    "GYERMEK_SZAM": "1",
                                    "osszfo": "2",
                                    "Előző három foglalás átlaga": "NULL"
                                },
                                {
                                    "tipus": "Átlag alatti foglalás",
                                    "FOGLALAS_PK": "744",
                                    "UGYFEL_FK": "andrea",
                                    "vendeg_nev": "Kiss Andrea",
                                    "FELNOTT_SZAM": "1",
                                    "GYERMEK_SZAM": "1",
                                    "osszfo": "2",
                                    "Előző három foglalás átlaga": "2.000000"
                                },
                                {
                                    "tipus": "Átlag alatti foglalás",
                                    "FOGLALAS_PK": "826",
                                    "UGYFEL_FK": "andrea",
                                    "vendeg_nev": "Kiss Andrea",
                                    "FELNOTT_SZAM": "1",
                                    "GYERMEK_SZAM": "1",
                                    "osszfo": "2",
                                    "Előző három foglalás átlaga": "2.333333"
                                },
                                {
                                    "tipus": "Átlag alatti foglalás",
                                    "FOGLALAS_PK": "860",
                                    "UGYFEL_FK": "andrea4",
                                    "vendeg_nev": "Neizer Andrea",
                                    "FELNOTT_SZAM": "1",
                                    "GYERMEK_SZAM": "0",
                                    "osszfo": "1",
                                    "Előző három foglalás átlaga": "NULL"
                                },
                                {
                                    "tipus": "Átlag alatti foglalás",
                                    "FOGLALAS_PK": "1047",
                                    "UGYFEL_FK": "andrea4",
                                    "vendeg_nev": "Neizer Andrea",
                                    "FELNOTT_SZAM": "2",
                                    "GYERMEK_SZAM": "0",
                                    "osszfo": "2",
                                    "Előző három foglalás átlaga": "1.000000"
                                },
                                {
                                    "tipus": "Átlag alatti foglalás",
                                    "FOGLALAS_PK": "1464",
                                    "UGYFEL_FK": "andrea4",
                                    "vendeg_nev": "Neizer Andrea",
                                    "FELNOTT_SZAM": "2",
                                    "GYERMEK_SZAM": "0",
                                    "osszfo": "2",
                                    "Előző három foglalás átlaga": "2.000000"
                                },
                                {
                                    "tipus": "Átlag alatti foglalás",
                                    "FOGLALAS_PK": "1053",
                                    "UGYFEL_FK": "ANDREAT",
                                    "vendeg_nev": "Tornyos Andrea",
                                    "FELNOTT_SZAM": "1",
                                    "GYERMEK_SZAM": "1",
                                    "osszfo": "2",
                                    "Előző három foglalás átlaga": "2.000000"
                                },
                                {
                                    "tipus": "Átlag alatti foglalás",
                                    "FOGLALAS_PK": "725",
                                    "UGYFEL_FK": "ANDREAT",
                                    "vendeg_nev": "Tornyos Andrea",
                                    "FELNOTT_SZAM": "2",
                                    "GYERMEK_SZAM": "0",
                                    "osszfo": "2",
                                    "Előző három foglalás átlaga": "NULL"
                                },
                                {
                                    "tipus": "Átlag alatti foglalás",
                                    "FOGLALAS_PK": "780",
                                    "UGYFEL_FK": "anett3",
                                    "vendeg_nev": "Pivarcsi Anett",
                                    "FELNOTT_SZAM": "2",
                                    "GYERMEK_SZAM": "0",
                                    "osszfo": "2",
                                    "Előző három foglalás átlaga": "3.000000"
                                },
                                {
                                    "tipus": "Átlag alatti foglalás",
                                    "FOGLALAS_PK": "567",
                                    "UGYFEL_FK": "anett3",
                                    "vendeg_nev": "Pivarcsi Anett",
                                    "FELNOTT_SZAM": "1",
                                    "GYERMEK_SZAM": "0",
                                    "osszfo": "1",
                                    "Előző három foglalás átlaga": "NULL"
                                },
                                {
                                    "tipus": "Átlag alatti foglalás",
                                    "FOGLALAS_PK": "1159",
                                    "UGYFEL_FK": "anett3",
                                    "vendeg_nev": "Pivarcsi Anett",
                                    "FELNOTT_SZAM": "1",
                                    "GYERMEK_SZAM": "0",
                                    "osszfo": "1",
                                    "Előző három foglalás átlaga": "2.666666"
                                },
                                {
                                    "tipus": "Átlag alatti foglalás",
                                    "FOGLALAS_PK": "1560",
                                    "UGYFEL_FK": "aniko",
                                    "vendeg_nev": "Tóth Anikó",
                                    "FELNOTT_SZAM": "2",
                                    "GYERMEK_SZAM": "0",
                                    "osszfo": "2",
                                    "Előző három foglalás átlaga": "3.000000"
                                },
                                {
                                    "tipus": "Átlag alatti foglalás",
                                    "FOGLALAS_PK": "1001",
                                    "UGYFEL_FK": "aniko4",
                                    "vendeg_nev": "Böröcz Anikó",
                                    "FELNOTT_SZAM": "1",
                                    "GYERMEK_SZAM": "0",
                                    "osszfo": "1",
                                    "Előző három foglalás átlaga": "3.000000"
                                },
                                {
                                    "tipus": "Átlag alatti foglalás",
                                    "FOGLALAS_PK": "988",
                                    "UGYFEL_FK": "ANIKOS",
                                    "vendeg_nev": "Simon Anikó",
                                    "FELNOTT_SZAM": "1",
                                    "GYERMEK_SZAM": "1",
                                    "osszfo": "2",
                                    "Előző három foglalás átlaga": "2.000000"
                                },
                                {
                                    "tipus": "Átlag alatti foglalás",
                                    "FOGLALAS_PK": "965",
                                    "UGYFEL_FK": "ANIKOS",
                                    "vendeg_nev": "Simon Anikó",
                                    "FELNOTT_SZAM": "1",
                                    "GYERMEK_SZAM": "0",
                                    "osszfo": "1",
                                    "Előző három foglalás átlaga": "2.666666"
                                },
                                {
                                    "tipus": "Átlag alatti foglalás",
                                    "FOGLALAS_PK": "827",
                                    "UGYFEL_FK": "ANIKOS",
                                    "vendeg_nev": "Simon Anikó",
                                    "FELNOTT_SZAM": "1",
                                    "GYERMEK_SZAM": "1",
                                    "osszfo": "2",
                                    "Előző három foglalás átlaga": "2.500000"
                                },
                                {
                                    "tipus": "Átlag alatti foglalás",
                                    "FOGLALAS_PK": "590",
                                    "UGYFEL_FK": "ANIKOS",
                                    "vendeg_nev": "Simon Anikó",
                                    "FELNOTT_SZAM": "1",
                                    "GYERMEK_SZAM": "1",
                                    "osszfo": "2",
                                    "Előző három foglalás átlaga": "NULL"
                                },
                                {
                                    "tipus": "Átlag alatti foglalás",
                                    "FOGLALAS_PK": "1132",
                                    "UGYFEL_FK": "ANIKOS",
                                    "vendeg_nev": "Simon Anikó",
                                    "FELNOTT_SZAM": "1",
                                    "GYERMEK_SZAM": "1",
                                    "osszfo": "2",
                                    "Előző három foglalás átlaga": "2.000000"
                                },
                                {
                                    "tipus": "Átlag alatti foglalás",
                                    "FOGLALAS_PK": "1271",
                                    "UGYFEL_FK": "ANIKOS",
                                    "vendeg_nev": "Simon Anikó",
                                    "FELNOTT_SZAM": "1",
                                    "GYERMEK_SZAM": "1",
                                    "osszfo": "2",
                                    "Előző három foglalás átlaga": "2.333333"
                                },
                                {
                                    "tipus": "Átlag alatti foglalás",
                                    "FOGLALAS_PK": "1113",
                                    "UGYFEL_FK": "anita",
                                    "vendeg_nev": "Hamvay-Kovács Anita",
                                    "FELNOTT_SZAM": "2",
                                    "GYERMEK_SZAM": "0",
                                    "osszfo": "2",
                                    "Előző három foglalás átlaga": "4.000000"
                                },
                                {
                                    "tipus": "Átlag alatti foglalás",
                                    "FOGLALAS_PK": "1551",
                                    "UGYFEL_FK": "anita",
                                    "vendeg_nev": "Hamvay-Kovács Anita",
                                    "FELNOTT_SZAM": "1",
                                    "GYERMEK_SZAM": "1",
                                    "osszfo": "2",
                                    "Előző három foglalás átlaga": "3.000000"
                                },
                                {
                                    "tipus": "Átlag alatti foglalás",
                                    "FOGLALAS_PK": "1553",
                                    "UGYFEL_FK": "anita",
                                    "vendeg_nev": "Hamvay-Kovács Anita",
                                    "FELNOTT_SZAM": "1",
                                    "GYERMEK_SZAM": "1",
                                    "osszfo": "2",
                                    "Előző három foglalás átlaga": "2.666666"
                                },
                                {
                                    "tipus": "Átlag alatti foglalás",
                                    "FOGLALAS_PK": "1539",
                                    "UGYFEL_FK": "ANNAMARIAR",
                                    "vendeg_nev": "Regős Annamária",
                                    "FELNOTT_SZAM": "2",
                                    "GYERMEK_SZAM": "0",
                                    "osszfo": "2",
                                    "Előző három foglalás átlaga": "2.333333"
                                },
                                {
                                    "tipus": "Átlag alatti foglalás",
                                    "FOGLALAS_PK": "1432",
                                    "UGYFEL_FK": "ANNAMARIAR",
                                    "vendeg_nev": "Regős Annamária",
                                    "FELNOTT_SZAM": "2",
                                    "GYERMEK_SZAM": "0",
                                    "osszfo": "2",
                                    "Előző három foglalás átlaga": "2.333333"
                                },
                                {
                                    "tipus": "Átlag alatti foglalás",
                                    "FOGLALAS_PK": "1075",
                                    "UGYFEL_FK": "ANNAMARIAR",
                                    "vendeg_nev": "Regős Annamária",
                                    "FELNOTT_SZAM": "2",
                                    "GYERMEK_SZAM": "0",
                                    "osszfo": "2",
                                    "Előző három foglalás átlaga": "1.500000"
                                },
                                {
                                    "tipus": "Átlag alatti foglalás",
                                    "FOGLALAS_PK": "684",
                                    "UGYFEL_FK": "ANNAMARIAR",
                                    "vendeg_nev": "Regős Annamária",
                                    "FELNOTT_SZAM": "1",
                                    "GYERMEK_SZAM": "0",
                                    "osszfo": "1",
                                    "Előző három foglalás átlaga": "NULL"
                                },
                                {
                                    "tipus": "Átlag alatti foglalás",
                                    "FOGLALAS_PK": "936",
                                    "UGYFEL_FK": "ANNAMARIAR",
                                    "vendeg_nev": "Regős Annamária",
                                    "FELNOTT_SZAM": "2",
                                    "GYERMEK_SZAM": "0",
                                    "osszfo": "2",
                                    "Előző három foglalás átlaga": "1.000000"
                                },
                                {
                                    "tipus": "Átlag alatti foglalás",
                                    "FOGLALAS_PK": "1182",
                                    "UGYFEL_FK": "aron2",
                                    "vendeg_nev": "Jakab Áron",
                                    "FELNOTT_SZAM": "2",
                                    "GYERMEK_SZAM": "0",
                                    "osszfo": "2",
                                    "Előző három foglalás átlaga": "3.000000"
                                },
                                {
                                    "tipus": "Átlag alatti foglalás",
                                    "FOGLALAS_PK": "1249",
                                    "UGYFEL_FK": "aron2",
                                    "vendeg_nev": "Jakab Áron",
                                    "FELNOTT_SZAM": "1",
                                    "GYERMEK_SZAM": "1",
                                    "osszfo": "2",
                                    "Előző három foglalás átlaga": "2.666666"
                                },
                                {
                                    "tipus": "Átlag alatti foglalás",
                                    "FOGLALAS_PK": "1240",
                                    "UGYFEL_FK": "ARONK",
                                    "vendeg_nev": "Kelemen Áron",
                                    "FELNOTT_SZAM": "1",
                                    "GYERMEK_SZAM": "1",
                                    "osszfo": "2",
                                    "Előző három foglalás átlaga": "2.333333"
                                },
                                {
                                    "tipus": "Átlag alatti foglalás",
                                    "FOGLALAS_PK": "1248",
                                    "UGYFEL_FK": "ARONK",
                                    "vendeg_nev": "Kelemen Áron",
                                    "FELNOTT_SZAM": "1",
                                    "GYERMEK_SZAM": "1",
                                    "osszfo": "2",
                                    "Előző három foglalás átlaga": "2.000000"
                                },
                                {
                                    "tipus": "Átlag alatti foglalás",
                                    "FOGLALAS_PK": "1412",
                                    "UGYFEL_FK": "ARONK",
                                    "vendeg_nev": "Kelemen Áron",
                                    "FELNOTT_SZAM": "1",
                                    "GYERMEK_SZAM": "1",
                                    "osszfo": "2",
                                    "Előző három foglalás átlaga": "2.333333"
                                },
                                {
                                    "tipus": "Átlag alatti foglalás",
                                    "FOGLALAS_PK": "1558",
                                    "UGYFEL_FK": "ARONK",
                                    "vendeg_nev": "Kelemen Áron",
                                    "FELNOTT_SZAM": "2",
                                    "GYERMEK_SZAM": "0",
                                    "osszfo": "2",
                                    "Előző három foglalás átlaga": "2.333333"
                                },
                                {
                                    "tipus": "Átlag alatti foglalás",
                                    "FOGLALAS_PK": "1485",
                                    "UGYFEL_FK": "ARONK",
                                    "vendeg_nev": "Kelemen Áron",
                                    "FELNOTT_SZAM": "1",
                                    "GYERMEK_SZAM": "1",
                                    "osszfo": "2",
                                    "Előző három foglalás átlaga": "2.333333"
                                },
                                {
                                    "tipus": "Átlag alatti foglalás",
                                    "FOGLALAS_PK": "1003",
                                    "UGYFEL_FK": "ARONK",
                                    "vendeg_nev": "Kelemen Áron",
                                    "FELNOTT_SZAM": "2",
                                    "GYERMEK_SZAM": "0",
                                    "osszfo": "2",
                                    "Előző három foglalás átlaga": "3.000000"
                                },
                                {
                                    "tipus": "Átlag alatti foglalás",
                                    "FOGLALAS_PK": "1037",
                                    "UGYFEL_FK": "ARONK",
                                    "vendeg_nev": "Kelemen Áron",
                                    "FELNOTT_SZAM": "2",
                                    "GYERMEK_SZAM": "0",
                                    "osszfo": "2",
                                    "Előző három foglalás átlaga": "2.333333"
                                },
                                {
                                    "tipus": "Átlag alatti foglalás",
                                    "FOGLALAS_PK": "902",
                                    "UGYFEL_FK": "ARONK",
                                    "vendeg_nev": "Kelemen Áron",
                                    "FELNOTT_SZAM": "1",
                                    "GYERMEK_SZAM": "1",
                                    "osszfo": "2",
                                    "Előző három foglalás átlaga": "3.333333"
                                },
                                {
                                    "tipus": "Átlag alatti foglalás",
                                    "FOGLALAS_PK": "559",
                                    "UGYFEL_FK": "ARONK",
                                    "vendeg_nev": "Kelemen Áron",
                                    "FELNOTT_SZAM": "2",
                                    "GYERMEK_SZAM": "0",
                                    "osszfo": "2",
                                    "Előző három foglalás átlaga": "NULL"
                                },
                                {
                                    "tipus": "Átlag alatti foglalás",
                                    "FOGLALAS_PK": "908",
                                    "UGYFEL_FK": "arpad2",
                                    "vendeg_nev": "Ötvös Árpád",
                                    "FELNOTT_SZAM": "1",
                                    "GYERMEK_SZAM": "1",
                                    "osszfo": "2",
                                    "Előző három foglalás átlaga": "2.000000"
                                },
                                {
                                    "tipus": "Átlag alatti foglalás",
                                    "FOGLALAS_PK": "811",
                                    "UGYFEL_FK": "arpad2",
                                    "vendeg_nev": "Ötvös Árpád",
                                    "FELNOTT_SZAM": "1",
                                    "GYERMEK_SZAM": "1",
                                    "osszfo": "2",
                                    "Előző három foglalás átlaga": "NULL"
                                },
                                {
                                    "tipus": "Átlag alatti foglalás",
                                    "FOGLALAS_PK": "1256",
                                    "UGYFEL_FK": "arpad2",
                                    "vendeg_nev": "Ötvös Árpád",
                                    "FELNOTT_SZAM": "2",
                                    "GYERMEK_SZAM": "0",
                                    "osszfo": "2",
                                    "Előző három foglalás átlaga": "2.333333"
                                },
                                {
                                    "tipus": "Átlag alatti foglalás",
                                    "FOGLALAS_PK": "1084",
                                    "UGYFEL_FK": "arpad2",
                                    "vendeg_nev": "Ötvös Árpád",
                                    "FELNOTT_SZAM": "2",
                                    "GYERMEK_SZAM": "0",
                                    "osszfo": "2",
                                    "Előző három foglalás átlaga": "2.000000"
                                },
                                {
                                    "tipus": "Átlag alatti foglalás",
                                    "FOGLALAS_PK": "1056",
                                    "UGYFEL_FK": "ARPADH",
                                    "vendeg_nev": "Horváth Árpád",
                                    "FELNOTT_SZAM": "1",
                                    "GYERMEK_SZAM": "0",
                                    "osszfo": "1",
                                    "Előző három foglalás átlaga": "2.500000"
                                },
                                {
                                    "tipus": "Átlag alatti foglalás",
                                    "FOGLALAS_PK": "1066",
                                    "UGYFEL_FK": "ARPADH",
                                    "vendeg_nev": "Horváth Árpád",
                                    "FELNOTT_SZAM": "1",
                                    "GYERMEK_SZAM": "0",
                                    "osszfo": "1",
                                    "Előző három foglalás átlaga": "2.000000"
                                },
                                {
                                    "tipus": "Átlag alatti foglalás",
                                    "FOGLALAS_PK": "1538",
                                    "UGYFEL_FK": "ARPADH",
                                    "vendeg_nev": "Horváth Árpád",
                                    "FELNOTT_SZAM": "1",
                                    "GYERMEK_SZAM": "1",
                                    "osszfo": "2",
                                    "Előző három foglalás átlaga": "1.666666"
                                },
                                {
                                    "tipus": "Átlag alatti foglalás",
                                    "FOGLALAS_PK": "1342",
                                    "UGYFEL_FK": "ARPADH",
                                    "vendeg_nev": "Horváth Árpád",
                                    "FELNOTT_SZAM": "1",
                                    "GYERMEK_SZAM": "0",
                                    "osszfo": "1",
                                    "Előző három foglalás átlaga": "1.666666"
                                },
                                {
                                    "tipus": "Átlag alatti foglalás",
                                    "FOGLALAS_PK": "670",
                                    "UGYFEL_FK": "ARPADH",
                                    "vendeg_nev": "Horváth Árpád",
                                    "FELNOTT_SZAM": "2",
                                    "GYERMEK_SZAM": "0",
                                    "osszfo": "2",
                                    "Előző három foglalás átlaga": "NULL"
                                },
                                {
                                    "tipus": "Átlag alatti foglalás",
                                    "FOGLALAS_PK": "771",
                                    "UGYFEL_FK": "ARPADM",
                                    "vendeg_nev": "Móricz Árpád",
                                    "FELNOTT_SZAM": "2",
                                    "GYERMEK_SZAM": "0",
                                    "osszfo": "2",
                                    "Előző három foglalás átlaga": "NULL"
                                },
                                {
                                    "tipus": "Átlag alatti foglalás",
                                    "FOGLALAS_PK": "873",
                                    "UGYFEL_FK": "ARPADM",
                                    "vendeg_nev": "Móricz Árpád",
                                    "FELNOTT_SZAM": "2",
                                    "GYERMEK_SZAM": "0",
                                    "osszfo": "2",
                                    "Előző három foglalás átlaga": "2.000000"
                                },
                                {
                                    "tipus": "Átlag alatti foglalás",
                                    "FOGLALAS_PK": "1420",
                                    "UGYFEL_FK": "ARPADM",
                                    "vendeg_nev": "Móricz Árpád",
                                    "FELNOTT_SZAM": "1",
                                    "GYERMEK_SZAM": "0",
                                    "osszfo": "1",
                                    "Előző három foglalás átlaga": "2.333333"
                                },
                                {
                                    "tipus": "Átlag alatti foglalás",
                                    "FOGLALAS_PK": "1268",
                                    "UGYFEL_FK": "ARPADM",
                                    "vendeg_nev": "Móricz Árpád",
                                    "FELNOTT_SZAM": "1",
                                    "GYERMEK_SZAM": "1",
                                    "osszfo": "2",
                                    "Előző három foglalás átlaga": "2.000000"
                                },
                                {
                                    "tipus": "Átlag alatti foglalás",
                                    "FOGLALAS_PK": "1154",
                                    "UGYFEL_FK": "attila",
                                    "vendeg_nev": "Csóti Attila",
                                    "FELNOTT_SZAM": "1",
                                    "GYERMEK_SZAM": "0",
                                    "osszfo": "1",
                                    "Előző három foglalás átlaga": "3.000000"
                                },
                                {
                                    "tipus": "Átlag alatti foglalás",
                                    "FOGLALAS_PK": "1383",
                                    "UGYFEL_FK": "attila",
                                    "vendeg_nev": "Csóti Attila",
                                    "FELNOTT_SZAM": "1",
                                    "GYERMEK_SZAM": "1",
                                    "osszfo": "2",
                                    "Előző három foglalás átlaga": "2.000000"
                                },
                                {
                                    "tipus": "Átlag alatti foglalás",
                                    "FOGLALAS_PK": "1135",
                                    "UGYFEL_FK": "attila1",
                                    "vendeg_nev": "Gulyás Attila",
                                    "FELNOTT_SZAM": "2",
                                    "GYERMEK_SZAM": "0",
                                    "osszfo": "2",
                                    "Előző három foglalás átlaga": "1.000000"
                                },
                                {
                                    "tipus": "Átlag alatti foglalás",
                                    "FOGLALAS_PK": "1270",
                                    "UGYFEL_FK": "attila1",
                                    "vendeg_nev": "Gulyás Attila",
                                    "FELNOTT_SZAM": "1",
                                    "GYERMEK_SZAM": "1",
                                    "osszfo": "2",
                                    "Előző három foglalás átlaga": "2.333333"
                                },
                                {
                                    "tipus": "Átlag alatti foglalás",
                                    "FOGLALAS_PK": "1219",
                                    "UGYFEL_FK": "attila1",
                                    "vendeg_nev": "Gulyás Attila",
                                    "FELNOTT_SZAM": "1",
                                    "GYERMEK_SZAM": "1",
                                    "osszfo": "2",
                                    "Előző három foglalás átlaga": "2.000000"
                                },
                                {
                                    "tipus": "Átlag alatti foglalás",
                                    "FOGLALAS_PK": "657",
                                    "UGYFEL_FK": "attila1",
                                    "vendeg_nev": "Gulyás Attila",
                                    "FELNOTT_SZAM": "1",
                                    "GYERMEK_SZAM": "0",
                                    "osszfo": "1",
                                    "Előző három foglalás átlaga": "NULL"
                                },
                                {
                                    "tipus": "Átlag alatti foglalás",
                                    "FOGLALAS_PK": "1408",
                                    "UGYFEL_FK": "attila4",
                                    "vendeg_nev": "Baróti Attila",
                                    "FELNOTT_SZAM": "1",
                                    "GYERMEK_SZAM": "1",
                                    "osszfo": "2",
                                    "Előző három foglalás átlaga": "4.000000"
                                },
                                {
                                    "tipus": "Átlag alatti foglalás",
                                    "FOGLALAS_PK": "1535",
                                    "UGYFEL_FK": "attila4",
                                    "vendeg_nev": "Baróti Attila",
                                    "FELNOTT_SZAM": "2",
                                    "GYERMEK_SZAM": "0",
                                    "osszfo": "2",
                                    "Előző három foglalás átlaga": "3.000000"
                                },
                                {
                                    "tipus": "Átlag alatti foglalás",
                                    "FOGLALAS_PK": "1231",
                                    "UGYFEL_FK": "ATTILAO",
                                    "vendeg_nev": "Opra Attila",
                                    "FELNOTT_SZAM": "2",
                                    "GYERMEK_SZAM": "0",
                                    "osszfo": "2",
                                    "Előző három foglalás átlaga": "3.000000"
                                },
                                {
                                    "tipus": "Átlag alatti foglalás",
                                    "FOGLALAS_PK": "1518",
                                    "UGYFEL_FK": "balazs1",
                                    "vendeg_nev": "Bozsik Balázs",
                                    "FELNOTT_SZAM": "2",
                                    "GYERMEK_SZAM": "0",
                                    "osszfo": "2",
                                    "Előző három foglalás átlaga": "2.666666"
                                },
                                {
                                    "tipus": "Átlag alatti foglalás",
                                    "FOGLALAS_PK": "1410",
                                    "UGYFEL_FK": "balazs1",
                                    "vendeg_nev": "Bozsik Balázs",
                                    "FELNOTT_SZAM": "2",
                                    "GYERMEK_SZAM": "0",
                                    "osszfo": "2",
                                    "Előző három foglalás átlaga": "3.000000"
                                },
                                {
                                    "tipus": "Átlag alatti foglalás",
                                    "FOGLALAS_PK": "622",
                                    "UGYFEL_FK": "balazs1",
                                    "vendeg_nev": "Bozsik Balázs",
                                    "FELNOTT_SZAM": "1",
                                    "GYERMEK_SZAM": "1",
                                    "osszfo": "2",
                                    "Előző három foglalás átlaga": "NULL"
                                },
                                {
                                    "tipus": "Átlag alatti foglalás",
                                    "FOGLALAS_PK": "582",
                                    "UGYFEL_FK": "balazs2",
                                    "vendeg_nev": "Szűcs Balázs",
                                    "FELNOTT_SZAM": "1",
                                    "GYERMEK_SZAM": "1",
                                    "osszfo": "2",
                                    "Előző három foglalás átlaga": "NULL"
                                },
                                {
                                    "tipus": "Átlag alatti foglalás",
                                    "FOGLALAS_PK": "691",
                                    "UGYFEL_FK": "balazs2",
                                    "vendeg_nev": "Szűcs Balázs",
                                    "FELNOTT_SZAM": "2",
                                    "GYERMEK_SZAM": "0",
                                    "osszfo": "2",
                                    "Előző három foglalás átlaga": "2.000000"
                                },
                                {
                                    "tipus": "Átlag alatti foglalás",
                                    "FOGLALAS_PK": "1578",
                                    "UGYFEL_FK": "balazs2",
                                    "vendeg_nev": "Szűcs Balázs",
                                    "FELNOTT_SZAM": "1",
                                    "GYERMEK_SZAM": "0",
                                    "osszfo": "1",
                                    "Előző három foglalás átlaga": "3.000000"
                                },
                                {
                                    "tipus": "Átlag alatti foglalás",
                                    "FOGLALAS_PK": "1459",
                                    "UGYFEL_FK": "balazs3",
                                    "vendeg_nev": "Bakódy Balázs",
                                    "FELNOTT_SZAM": "2",
                                    "GYERMEK_SZAM": "0",
                                    "osszfo": "2",
                                    "Előző három foglalás átlaga": "3.000000"
                                },
                                {
                                    "tipus": "Átlag alatti foglalás",
                                    "FOGLALAS_PK": "678",
                                    "UGYFEL_FK": "balazs3",
                                    "vendeg_nev": "Bakódy Balázs",
                                    "FELNOTT_SZAM": "2",
                                    "GYERMEK_SZAM": "0",
                                    "osszfo": "2",
                                    "Előző három foglalás átlaga": "NULL"
                                },
                                {
                                    "tipus": "Átlag alatti foglalás",
                                    "FOGLALAS_PK": "595",
                                    "UGYFEL_FK": "balint",
                                    "vendeg_nev": "Horváth Bálint",
                                    "FELNOTT_SZAM": "2",
                                    "GYERMEK_SZAM": "0",
                                    "osszfo": "2",
                                    "Előző három foglalás átlaga": "NULL"
                                },
                                {
                                    "tipus": "Átlag alatti foglalás",
                                    "FOGLALAS_PK": "1137",
                                    "UGYFEL_FK": "balint",
                                    "vendeg_nev": "Horváth Bálint",
                                    "FELNOTT_SZAM": "1",
                                    "GYERMEK_SZAM": "1",
                                    "osszfo": "2",
                                    "Előző három foglalás átlaga": "2.000000"
                                },
                                {
                                    "tipus": "Átlag alatti foglalás",
                                    "FOGLALAS_PK": "1057",
                                    "UGYFEL_FK": "balint1",
                                    "vendeg_nev": "Molnár Bálint",
                                    "FELNOTT_SZAM": "1",
                                    "GYERMEK_SZAM": "0",
                                    "osszfo": "1",
                                    "Előző három foglalás átlaga": "2.333333"
                                },
                                {
                                    "tipus": "Átlag alatti foglalás",
                                    "FOGLALAS_PK": "1257",
                                    "UGYFEL_FK": "balint1",
                                    "vendeg_nev": "Molnár Bálint",
                                    "FELNOTT_SZAM": "1",
                                    "GYERMEK_SZAM": "1",
                                    "osszfo": "2",
                                    "Előző három foglalás átlaga": "1.666666"
                                },
                                {
                                    "tipus": "Átlag alatti foglalás",
                                    "FOGLALAS_PK": "1416",
                                    "UGYFEL_FK": "balint1",
                                    "vendeg_nev": "Molnár Bálint",
                                    "FELNOTT_SZAM": "2",
                                    "GYERMEK_SZAM": "0",
                                    "osszfo": "2",
                                    "Előző három foglalás átlaga": "2.666666"
                                },
                                {
                                    "tipus": "Átlag alatti foglalás",
                                    "FOGLALAS_PK": "717",
                                    "UGYFEL_FK": "balint1",
                                    "vendeg_nev": "Molnár Bálint",
                                    "FELNOTT_SZAM": "1",
                                    "GYERMEK_SZAM": "1",
                                    "osszfo": "2",
                                    "Előző három foglalás átlaga": "NULL"
                                },
                                {
                                    "tipus": "Átlag alatti foglalás",
                                    "FOGLALAS_PK": "752",
                                    "UGYFEL_FK": "balint1",
                                    "vendeg_nev": "Molnár Bálint",
                                    "FELNOTT_SZAM": "2",
                                    "GYERMEK_SZAM": "0",
                                    "osszfo": "2",
                                    "Előző három foglalás átlaga": "2.000000"
                                },
                                {
                                    "tipus": "Átlag alatti foglalás",
                                    "FOGLALAS_PK": "948",
                                    "UGYFEL_FK": "balint1",
                                    "vendeg_nev": "Molnár Bálint",
                                    "FELNOTT_SZAM": "1",
                                    "GYERMEK_SZAM": "0",
                                    "osszfo": "1",
                                    "Előző három foglalás átlaga": "2.666666"
                                },
                                {
                                    "tipus": "Átlag alatti foglalás",
                                    "FOGLALAS_PK": "702",
                                    "UGYFEL_FK": "balint2",
                                    "vendeg_nev": "Vukasinovity Bálint",
                                    "FELNOTT_SZAM": "1",
                                    "GYERMEK_SZAM": "0",
                                    "osszfo": "1",
                                    "Előző három foglalás átlaga": "NULL"
                                },
                                {
                                    "tipus": "Átlag alatti foglalás",
                                    "FOGLALAS_PK": "760",
                                    "UGYFEL_FK": "balu",
                                    "vendeg_nev": "Endresz Bálint",
                                    "FELNOTT_SZAM": "2",
                                    "GYERMEK_SZAM": "0",
                                    "osszfo": "2",
                                    "Előző három foglalás átlaga": "NULL"
                                },
                                {
                                    "tipus": "Átlag alatti foglalás",
                                    "FOGLALAS_PK": "1382",
                                    "UGYFEL_FK": "balu",
                                    "vendeg_nev": "Endresz Bálint",
                                    "FELNOTT_SZAM": "1",
                                    "GYERMEK_SZAM": "1",
                                    "osszfo": "2",
                                    "Előző három foglalás átlaga": "2.000000"
                                },
                                {
                                    "tipus": "Átlag alatti foglalás",
                                    "FOGLALAS_PK": "1112",
                                    "UGYFEL_FK": "beata4",
                                    "vendeg_nev": "Bagi Beáta",
                                    "FELNOTT_SZAM": "1",
                                    "GYERMEK_SZAM": "0",
                                    "osszfo": "1",
                                    "Előző három foglalás átlaga": "2.000000"
                                },
                                {
                                    "tipus": "Átlag alatti foglalás",
                                    "FOGLALAS_PK": "591",
                                    "UGYFEL_FK": "beata4",
                                    "vendeg_nev": "Bagi Beáta",
                                    "FELNOTT_SZAM": "1",
                                    "GYERMEK_SZAM": "1",
                                    "osszfo": "2",
                                    "Előző három foglalás átlaga": "NULL"
                                },
                                {
                                    "tipus": "Átlag alatti foglalás",
                                    "FOGLALAS_PK": "1005",
                                    "UGYFEL_FK": "beata4",
                                    "vendeg_nev": "Bagi Beáta",
                                    "FELNOTT_SZAM": "1",
                                    "GYERMEK_SZAM": "0",
                                    "osszfo": "1",
                                    "Előző három foglalás átlaga": "2.333333"
                                },
                                {
                                    "tipus": "Átlag alatti foglalás",
                                    "FOGLALAS_PK": "896",
                                    "UGYFEL_FK": "beata4",
                                    "vendeg_nev": "Bagi Beáta",
                                    "FELNOTT_SZAM": "1",
                                    "GYERMEK_SZAM": "1",
                                    "osszfo": "2",
                                    "Előző három foglalás átlaga": "2.500000"
                                },
                                {
                                    "tipus": "Átlag alatti foglalás",
                                    "FOGLALAS_PK": "941",
                                    "UGYFEL_FK": "BEATRIXK",
                                    "vendeg_nev": "Kerényi Beatrix",
                                    "FELNOTT_SZAM": "2",
                                    "GYERMEK_SZAM": "0",
                                    "osszfo": "2",
                                    "Előző három foglalás átlaga": "4.000000"
                                },
                                {
                                    "tipus": "Átlag alatti foglalás",
                                    "FOGLALAS_PK": "944",
                                    "UGYFEL_FK": "BEATRIXK",
                                    "vendeg_nev": "Kerényi Beatrix",
                                    "FELNOTT_SZAM": "2",
                                    "GYERMEK_SZAM": "0",
                                    "osszfo": "2",
                                    "Előző három foglalás átlaga": "3.000000"
                                },
                                {
                                    "tipus": "Átlag alatti foglalás",
                                    "FOGLALAS_PK": "1185",
                                    "UGYFEL_FK": "BEATRIXK",
                                    "vendeg_nev": "Kerényi Beatrix",
                                    "FELNOTT_SZAM": "1",
                                    "GYERMEK_SZAM": "1",
                                    "osszfo": "2",
                                    "Előző három foglalás átlaga": "2.333333"
                                },
                                {
                                    "tipus": "Átlag alatti foglalás",
                                    "FOGLALAS_PK": "1279",
                                    "UGYFEL_FK": "BEATRIXK",
                                    "vendeg_nev": "Kerényi Beatrix",
                                    "FELNOTT_SZAM": "1",
                                    "GYERMEK_SZAM": "1",
                                    "osszfo": "2",
                                    "Előző három foglalás átlaga": "2.333333"
                                },
                                {
                                    "tipus": "Átlag alatti foglalás",
                                    "FOGLALAS_PK": "1381",
                                    "UGYFEL_FK": "BEATRIXS",
                                    "vendeg_nev": "Szekendi Beatrix",
                                    "FELNOTT_SZAM": "2",
                                    "GYERMEK_SZAM": "0",
                                    "osszfo": "2",
                                    "Előző három foglalás átlaga": "3.000000"
                                },
                                {
                                    "tipus": "Átlag alatti foglalás",
                                    "FOGLALAS_PK": "1490",
                                    "UGYFEL_FK": "BEATRIXS",
                                    "vendeg_nev": "Szekendi Beatrix",
                                    "FELNOTT_SZAM": "2",
                                    "GYERMEK_SZAM": "0",
                                    "osszfo": "2",
                                    "Előző három foglalás átlaga": "2.666666"
                                },
                                {
                                    "tipus": "Átlag alatti foglalás",
                                    "FOGLALAS_PK": "586",
                                    "UGYFEL_FK": "BEATRIXS",
                                    "vendeg_nev": "Szekendi Beatrix",
                                    "FELNOTT_SZAM": "1",
                                    "GYERMEK_SZAM": "0",
                                    "osszfo": "1",
                                    "Előző három foglalás átlaga": "NULL"
                                },
                                {
                                    "tipus": "Átlag alatti foglalás",
                                    "FOGLALAS_PK": "737",
                                    "UGYFEL_FK": "BELAF",
                                    "vendeg_nev": "Farkas Béla",
                                    "FELNOTT_SZAM": "1",
                                    "GYERMEK_SZAM": "1",
                                    "osszfo": "2",
                                    "Előző három foglalás átlaga": "3.000000"
                                },
                                {
                                    "tipus": "Átlag alatti foglalás",
                                    "FOGLALAS_PK": "838",
                                    "UGYFEL_FK": "BELAF",
                                    "vendeg_nev": "Farkas Béla",
                                    "FELNOTT_SZAM": "1",
                                    "GYERMEK_SZAM": "1",
                                    "osszfo": "2",
                                    "Előző három foglalás átlaga": "2.500000"
                                },
                                {
                                    "tipus": "Átlag alatti foglalás",
                                    "FOGLALAS_PK": "1350",
                                    "UGYFEL_FK": "BELAF",
                                    "vendeg_nev": "Farkas Béla",
                                    "FELNOTT_SZAM": "1",
                                    "GYERMEK_SZAM": "0",
                                    "osszfo": "1",
                                    "Előző három foglalás átlaga": "3.000000"
                                },
                                {
                                    "tipus": "Átlag alatti foglalás",
                                    "FOGLALAS_PK": "1368",
                                    "UGYFEL_FK": "bence",
                                    "vendeg_nev": "Győrffy Bence",
                                    "FELNOTT_SZAM": "2",
                                    "GYERMEK_SZAM": "0",
                                    "osszfo": "2",
                                    "Előző három foglalás átlaga": "2.666666"
                                },
                                {
                                    "tipus": "Átlag alatti foglalás",
                                    "FOGLALAS_PK": "1400",
                                    "UGYFEL_FK": "bence",
                                    "vendeg_nev": "Győrffy Bence",
                                    "FELNOTT_SZAM": "1",
                                    "GYERMEK_SZAM": "1",
                                    "osszfo": "2",
                                    "Előző három foglalás átlaga": "2.333333"
                                },
                                {
                                    "tipus": "Átlag alatti foglalás",
                                    "FOGLALAS_PK": "872",
                                    "UGYFEL_FK": "bence",
                                    "vendeg_nev": "Győrffy Bence",
                                    "FELNOTT_SZAM": "1",
                                    "GYERMEK_SZAM": "0",
                                    "osszfo": "1",
                                    "Előző három foglalás átlaga": "2.666666"
                                },
                                {
                                    "tipus": "Átlag alatti foglalás",
                                    "FOGLALAS_PK": "713",
                                    "UGYFEL_FK": "bence",
                                    "vendeg_nev": "Győrffy Bence",
                                    "FELNOTT_SZAM": "1",
                                    "GYERMEK_SZAM": "1",
                                    "osszfo": "2",
                                    "Előző három foglalás átlaga": "2.000000"
                                },
                                {
                                    "tipus": "Átlag alatti foglalás",
                                    "FOGLALAS_PK": "626",
                                    "UGYFEL_FK": "bence",
                                    "vendeg_nev": "Győrffy Bence",
                                    "FELNOTT_SZAM": "2",
                                    "GYERMEK_SZAM": "0",
                                    "osszfo": "2",
                                    "Előző három foglalás átlaga": "NULL"
                                },
                                {
                                    "tipus": "Átlag alatti foglalás",
                                    "FOGLALAS_PK": "745",
                                    "UGYFEL_FK": "BENCEB",
                                    "vendeg_nev": "Bajusz Bence",
                                    "FELNOTT_SZAM": "2",
                                    "GYERMEK_SZAM": "0",
                                    "osszfo": "2",
                                    "Előző három foglalás átlaga": "3.000000"
                                },
                                {
                                    "tipus": "Átlag alatti foglalás",
                                    "FOGLALAS_PK": "900",
                                    "UGYFEL_FK": "BENCEB",
                                    "vendeg_nev": "Bajusz Bence",
                                    "FELNOTT_SZAM": "1",
                                    "GYERMEK_SZAM": "1",
                                    "osszfo": "2",
                                    "Előző három foglalás átlaga": "2.500000"
                                },
                                {
                                    "tipus": "Átlag alatti foglalás",
                                    "FOGLALAS_PK": "1326",
                                    "UGYFEL_FK": "BENCEB",
                                    "vendeg_nev": "Bajusz Bence",
                                    "FELNOTT_SZAM": "2",
                                    "GYERMEK_SZAM": "0",
                                    "osszfo": "2",
                                    "Előző három foglalás átlaga": "2.333333"
                                },
                                {
                                    "tipus": "Átlag alatti foglalás",
                                    "FOGLALAS_PK": "1568",
                                    "UGYFEL_FK": "bernadett1",
                                    "vendeg_nev": "Simon Bernadett",
                                    "FELNOTT_SZAM": "1",
                                    "GYERMEK_SZAM": "0",
                                    "osszfo": "1",
                                    "Előző három foglalás átlaga": "3.000000"
                                },
                                {
                                    "tipus": "Átlag alatti foglalás",
                                    "FOGLALAS_PK": "1367",
                                    "UGYFEL_FK": "bernadett2",
                                    "vendeg_nev": "Kovács Bernadett",
                                    "FELNOTT_SZAM": "1",
                                    "GYERMEK_SZAM": "0",
                                    "osszfo": "1",
                                    "Előző három foglalás átlaga": "3.000000"
                                },
                                {
                                    "tipus": "Átlag alatti foglalás",
                                    "FOGLALAS_PK": "812",
                                    "UGYFEL_FK": "bernadett2",
                                    "vendeg_nev": "Kovács Bernadett",
                                    "FELNOTT_SZAM": "2",
                                    "GYERMEK_SZAM": "0",
                                    "osszfo": "2",
                                    "Előző három foglalás átlaga": "2.000000"
                                },
                                {
                                    "tipus": "Átlag alatti foglalás",
                                    "FOGLALAS_PK": "612",
                                    "UGYFEL_FK": "bernadett2",
                                    "vendeg_nev": "Kovács Bernadett",
                                    "FELNOTT_SZAM": "1",
                                    "GYERMEK_SZAM": "1",
                                    "osszfo": "2",
                                    "Előző három foglalás átlaga": "NULL"
                                },
                                {
                                    "tipus": "Átlag alatti foglalás",
                                    "FOGLALAS_PK": "584",
                                    "UGYFEL_FK": "BERNADETTO",
                                    "vendeg_nev": "Orbán Bernadett",
                                    "FELNOTT_SZAM": "1",
                                    "GYERMEK_SZAM": "1",
                                    "osszfo": "2",
                                    "Előző három foglalás átlaga": "2.000000"
                                },
                                {
                                    "tipus": "Átlag alatti foglalás",
                                    "FOGLALAS_PK": "570",
                                    "UGYFEL_FK": "BERNADETTO",
                                    "vendeg_nev": "Orbán Bernadett",
                                    "FELNOTT_SZAM": "2",
                                    "GYERMEK_SZAM": "0",
                                    "osszfo": "2",
                                    "Előző három foglalás átlaga": "NULL"
                                },
                                {
                                    "tipus": "Átlag alatti foglalás",
                                    "FOGLALAS_PK": "1477",
                                    "UGYFEL_FK": "BERNADETTO",
                                    "vendeg_nev": "Orbán Bernadett",
                                    "FELNOTT_SZAM": "1",
                                    "GYERMEK_SZAM": "1",
                                    "osszfo": "2",
                                    "Előző három foglalás átlaga": "3.000000"
                                },
                                {
                                    "tipus": "Átlag alatti foglalás",
                                    "FOGLALAS_PK": "1120",
                                    "UGYFEL_FK": "BERNADETTO",
                                    "vendeg_nev": "Orbán Bernadett",
                                    "FELNOTT_SZAM": "1",
                                    "GYERMEK_SZAM": "1",
                                    "osszfo": "2",
                                    "Előző három foglalás átlaga": "3.000000"
                                },
                                {
                                    "tipus": "Átlag alatti foglalás",
                                    "FOGLALAS_PK": "1241",
                                    "UGYFEL_FK": "bertalan",
                                    "vendeg_nev": "Csiger Bertalan",
                                    "FELNOTT_SZAM": "1",
                                    "GYERMEK_SZAM": "1",
                                    "osszfo": "2",
                                    "Előző három foglalás átlaga": "1.500000"
                                },
                                {
                                    "tipus": "Átlag alatti foglalás",
                                    "FOGLALAS_PK": "1536",
                                    "UGYFEL_FK": "bertalan",
                                    "vendeg_nev": "Csiger Bertalan",
                                    "FELNOTT_SZAM": "2",
                                    "GYERMEK_SZAM": "0",
                                    "osszfo": "2",
                                    "Előző három foglalás átlaga": "2.000000"
                                },
                                {
                                    "tipus": "Átlag alatti foglalás",
                                    "FOGLALAS_PK": "654",
                                    "UGYFEL_FK": "bertalan",
                                    "vendeg_nev": "Csiger Bertalan",
                                    "FELNOTT_SZAM": "1",
                                    "GYERMEK_SZAM": "1",
                                    "osszfo": "2",
                                    "Előző három foglalás átlaga": "NULL"
                                },
                                {
                                    "tipus": "Átlag alatti foglalás",
                                    "FOGLALAS_PK": "974",
                                    "UGYFEL_FK": "bertalan",
                                    "vendeg_nev": "Csiger Bertalan",
                                    "FELNOTT_SZAM": "1",
                                    "GYERMEK_SZAM": "0",
                                    "osszfo": "1",
                                    "Előző három foglalás átlaga": "2.000000"
                                },
                                {
                                    "tipus": "Átlag alatti foglalás",
                                    "FOGLALAS_PK": "1469",
                                    "UGYFEL_FK": "brigitta",
                                    "vendeg_nev": "Székely Brigitta",
                                    "FELNOTT_SZAM": "1",
                                    "GYERMEK_SZAM": "0",
                                    "osszfo": "1",
                                    "Előző három foglalás átlaga": "2.666666"
                                },
                                {
                                    "tipus": "Átlag alatti foglalás",
                                    "FOGLALAS_PK": "1373",
                                    "UGYFEL_FK": "brigitta",
                                    "vendeg_nev": "Székely Brigitta",
                                    "FELNOTT_SZAM": "2",
                                    "GYERMEK_SZAM": "0",
                                    "osszfo": "2",
                                    "Előző három foglalás átlaga": "3.000000"
                                },
                                {
                                    "tipus": "Átlag alatti foglalás",
                                    "FOGLALAS_PK": "1513",
                                    "UGYFEL_FK": "brigitta3",
                                    "vendeg_nev": "Pataki Brigitta",
                                    "FELNOTT_SZAM": "1",
                                    "GYERMEK_SZAM": "1",
                                    "osszfo": "2",
                                    "Előző három foglalás átlaga": "2.666666"
                                },
                                {
                                    "tipus": "Átlag alatti foglalás",
                                    "FOGLALAS_PK": "1147",
                                    "UGYFEL_FK": "brigitta3",
                                    "vendeg_nev": "Pataki Brigitta",
                                    "FELNOTT_SZAM": "1",
                                    "GYERMEK_SZAM": "1",
                                    "osszfo": "2",
                                    "Előző három foglalás átlaga": "2.500000"
                                },
                                {
                                    "tipus": "Átlag alatti foglalás",
                                    "FOGLALAS_PK": "886",
                                    "UGYFEL_FK": "brigitta3",
                                    "vendeg_nev": "Pataki Brigitta",
                                    "FELNOTT_SZAM": "1",
                                    "GYERMEK_SZAM": "1",
                                    "osszfo": "2",
                                    "Előző három foglalás átlaga": "NULL"
                                },
                                {
                                    "tipus": "Átlag alatti foglalás",
                                    "FOGLALAS_PK": "906",
                                    "UGYFEL_FK": "csongor3",
                                    "vendeg_nev": "Nagymihály Csongor",
                                    "FELNOTT_SZAM": "1",
                                    "GYERMEK_SZAM": "1",
                                    "osszfo": "2",
                                    "Előző három foglalás átlaga": "2.500000"
                                },
                                {
                                    "tipus": "Átlag alatti foglalás",
                                    "FOGLALAS_PK": "951",
                                    "UGYFEL_FK": "csongor3",
                                    "vendeg_nev": "Nagymihály Csongor",
                                    "FELNOTT_SZAM": "2",
                                    "GYERMEK_SZAM": "0",
                                    "osszfo": "2",
                                    "Előző három foglalás átlaga": "2.666666"
                                },
                                {
                                    "tipus": "Átlag alatti foglalás",
                                    "FOGLALAS_PK": "613",
                                    "UGYFEL_FK": "csongor3",
                                    "vendeg_nev": "Nagymihály Csongor",
                                    "FELNOTT_SZAM": "2",
                                    "GYERMEK_SZAM": "0",
                                    "osszfo": "2",
                                    "Előző három foglalás átlaga": "NULL"
                                },
                                {
                                    "tipus": "Átlag alatti foglalás",
                                    "FOGLALAS_PK": "761",
                                    "UGYFEL_FK": "dani",
                                    "vendeg_nev": "Vörös Dániel",
                                    "FELNOTT_SZAM": "2",
                                    "GYERMEK_SZAM": "0",
                                    "osszfo": "2",
                                    "Előző három foglalás átlaga": "NULL"
                                },
                                {
                                    "tipus": "Átlag alatti foglalás",
                                    "FOGLALAS_PK": "1102",
                                    "UGYFEL_FK": "dani",
                                    "vendeg_nev": "Vörös Dániel",
                                    "FELNOTT_SZAM": "1",
                                    "GYERMEK_SZAM": "0",
                                    "osszfo": "1",
                                    "Előző három foglalás átlaga": "3.333333"
                                },
                                {
                                    "tipus": "Átlag alatti foglalás",
                                    "FOGLALAS_PK": "1303",
                                    "UGYFEL_FK": "dani",
                                    "vendeg_nev": "Vörös Dániel",
                                    "FELNOTT_SZAM": "2",
                                    "GYERMEK_SZAM": "0",
                                    "osszfo": "2",
                                    "Előző három foglalás átlaga": "2.666666"
                                },
                                {
                                    "tipus": "Átlag alatti foglalás",
                                    "FOGLALAS_PK": "1466",
                                    "UGYFEL_FK": "dani",
                                    "vendeg_nev": "Vörös Dániel",
                                    "FELNOTT_SZAM": "1",
                                    "GYERMEK_SZAM": "0",
                                    "osszfo": "1",
                                    "Előző három foglalás átlaga": "1.666666"
                                },
                                {
                                    "tipus": "Átlag alatti foglalás",
                                    "FOGLALAS_PK": "1451",
                                    "UGYFEL_FK": "dani",
                                    "vendeg_nev": "Vörös Dániel",
                                    "FELNOTT_SZAM": "2",
                                    "GYERMEK_SZAM": "0",
                                    "osszfo": "2",
                                    "Előző három foglalás átlaga": "2.333333"
                                },
                                {
                                    "tipus": "Átlag alatti foglalás",
                                    "FOGLALAS_PK": "1430",
                                    "UGYFEL_FK": "daniel",
                                    "vendeg_nev": "Rácz Dániel",
                                    "FELNOTT_SZAM": "1",
                                    "GYERMEK_SZAM": "0",
                                    "osszfo": "1",
                                    "Előző három foglalás átlaga": "3.333333"
                                },
                                {
                                    "tipus": "Átlag alatti foglalás",
                                    "FOGLALAS_PK": "594",
                                    "UGYFEL_FK": "daniel",
                                    "vendeg_nev": "Rácz Dániel",
                                    "FELNOTT_SZAM": "2",
                                    "GYERMEK_SZAM": "0",
                                    "osszfo": "2",
                                    "Előző három foglalás átlaga": "4.000000"
                                },
                                {
                                    "tipus": "Átlag alatti foglalás",
                                    "FOGLALAS_PK": "573",
                                    "UGYFEL_FK": "daniel1",
                                    "vendeg_nev": "Keszler Dániel",
                                    "FELNOTT_SZAM": "1",
                                    "GYERMEK_SZAM": "1",
                                    "osszfo": "2",
                                    "Előző három foglalás átlaga": "NULL"
                                },
                                {
                                    "tipus": "Átlag alatti foglalás",
                                    "FOGLALAS_PK": "1309",
                                    "UGYFEL_FK": "daniel1",
                                    "vendeg_nev": "Keszler Dániel",
                                    "FELNOTT_SZAM": "2",
                                    "GYERMEK_SZAM": "0",
                                    "osszfo": "2",
                                    "Előző három foglalás átlaga": "3.000000"
                                },
                                {
                                    "tipus": "Átlag alatti foglalás",
                                    "FOGLALAS_PK": "1269",
                                    "UGYFEL_FK": "daniel1",
                                    "vendeg_nev": "Keszler Dániel",
                                    "FELNOTT_SZAM": "2",
                                    "GYERMEK_SZAM": "0",
                                    "osszfo": "2",
                                    "Előző három foglalás átlaga": "3.000000"
                                },
                                {
                                    "tipus": "Átlag alatti foglalás",
                                    "FOGLALAS_PK": "1227",
                                    "UGYFEL_FK": "david",
                                    "vendeg_nev": "Ambrus Dávid",
                                    "FELNOTT_SZAM": "2",
                                    "GYERMEK_SZAM": "0",
                                    "osszfo": "2",
                                    "Előző három foglalás átlaga": "2.333333"
                                },
                                {
                                    "tipus": "Átlag alatti foglalás",
                                    "FOGLALAS_PK": "1454",
                                    "UGYFEL_FK": "david",
                                    "vendeg_nev": "Ambrus Dávid",
                                    "FELNOTT_SZAM": "2",
                                    "GYERMEK_SZAM": "0",
                                    "osszfo": "2",
                                    "Előző három foglalás átlaga": "2.000000"
                                },
                                {
                                    "tipus": "Átlag alatti foglalás",
                                    "FOGLALAS_PK": "653",
                                    "UGYFEL_FK": "david",
                                    "vendeg_nev": "Ambrus Dávid",
                                    "FELNOTT_SZAM": "2",
                                    "GYERMEK_SZAM": "0",
                                    "osszfo": "2",
                                    "Előző három foglalás átlaga": "NULL"
                                },
                                {
                                    "tipus": "Átlag alatti foglalás",
                                    "FOGLALAS_PK": "757",
                                    "UGYFEL_FK": "david",
                                    "vendeg_nev": "Ambrus Dávid",
                                    "FELNOTT_SZAM": "1",
                                    "GYERMEK_SZAM": "0",
                                    "osszfo": "1",
                                    "Előző három foglalás átlaga": "2.000000"
                                },
                                {
                                    "tipus": "Átlag alatti foglalás",
                                    "FOGLALAS_PK": "681",
                                    "UGYFEL_FK": "david",
                                    "vendeg_nev": "Ambrus Dávid",
                                    "FELNOTT_SZAM": "1",
                                    "GYERMEK_SZAM": "1",
                                    "osszfo": "2",
                                    "Előző három foglalás átlaga": "2.000000"
                                },
                                {
                                    "tipus": "Átlag alatti foglalás",
                                    "FOGLALAS_PK": "938",
                                    "UGYFEL_FK": "david",
                                    "vendeg_nev": "Ambrus Dávid",
                                    "FELNOTT_SZAM": "1",
                                    "GYERMEK_SZAM": "1",
                                    "osszfo": "2",
                                    "Előző három foglalás átlaga": "2.333333"
                                },
                                {
                                    "tipus": "Átlag alatti foglalás",
                                    "FOGLALAS_PK": "994",
                                    "UGYFEL_FK": "david",
                                    "vendeg_nev": "Ambrus Dávid",
                                    "FELNOTT_SZAM": "1",
                                    "GYERMEK_SZAM": "1",
                                    "osszfo": "2",
                                    "Előző három foglalás átlaga": "2.666666"
                                },
                                {
                                    "tipus": "Átlag alatti foglalás",
                                    "FOGLALAS_PK": "1407",
                                    "UGYFEL_FK": "david1",
                                    "vendeg_nev": "Sobják Dávid",
                                    "FELNOTT_SZAM": "2",
                                    "GYERMEK_SZAM": "0",
                                    "osszfo": "2",
                                    "Előző három foglalás átlaga": "2.000000"
                                },
                                {
                                    "tipus": "Átlag alatti foglalás",
                                    "FOGLALAS_PK": "1296",
                                    "UGYFEL_FK": "david1",
                                    "vendeg_nev": "Sobják Dávid",
                                    "FELNOTT_SZAM": "1",
                                    "GYERMEK_SZAM": "1",
                                    "osszfo": "2",
                                    "Előző három foglalás átlaga": "2.000000"
                                },
                                {
                                    "tipus": "Átlag alatti foglalás",
                                    "FOGLALAS_PK": "1104",
                                    "UGYFEL_FK": "david1",
                                    "vendeg_nev": "Sobják Dávid",
                                    "FELNOTT_SZAM": "2",
                                    "GYERMEK_SZAM": "0",
                                    "osszfo": "2",
                                    "Előző három foglalás átlaga": "2.000000"
                                },
                                {
                                    "tipus": "Átlag alatti foglalás",
                                    "FOGLALAS_PK": "1072",
                                    "UGYFEL_FK": "david1",
                                    "vendeg_nev": "Sobják Dávid",
                                    "FELNOTT_SZAM": "2",
                                    "GYERMEK_SZAM": "0",
                                    "osszfo": "2",
                                    "Előző három foglalás átlaga": "NULL"
                                },
                                {
                                    "tipus": "Átlag alatti foglalás",
                                    "FOGLALAS_PK": "1214",
                                    "UGYFEL_FK": "debora",
                                    "vendeg_nev": "Barna Debóra",
                                    "FELNOTT_SZAM": "1",
                                    "GYERMEK_SZAM": "1",
                                    "osszfo": "2",
                                    "Előző három foglalás átlaga": "5.000000"
                                },
                                {
                                    "tipus": "Átlag alatti foglalás",
                                    "FOGLALAS_PK": "1254",
                                    "UGYFEL_FK": "denes",
                                    "vendeg_nev": "Tömböly Dénes",
                                    "FELNOTT_SZAM": "1",
                                    "GYERMEK_SZAM": "1",
                                    "osszfo": "2",
                                    "Előző három foglalás átlaga": "2.666666"
                                },
                                {
                                    "tipus": "Átlag alatti foglalás",
                                    "FOGLALAS_PK": "690",
                                    "UGYFEL_FK": "denes",
                                    "vendeg_nev": "Tömböly Dénes",
                                    "FELNOTT_SZAM": "1",
                                    "GYERMEK_SZAM": "1",
                                    "osszfo": "2",
                                    "Előző három foglalás átlaga": "NULL"
                                },
                                {
                                    "tipus": "Átlag alatti foglalás",
                                    "FOGLALAS_PK": "783",
                                    "UGYFEL_FK": "denes",
                                    "vendeg_nev": "Tömböly Dénes",
                                    "FELNOTT_SZAM": "2",
                                    "GYERMEK_SZAM": "0",
                                    "osszfo": "2",
                                    "Előző három foglalás átlaga": "2.500000"
                                },
                                {
                                    "tipus": "Átlag alatti foglalás",
                                    "FOGLALAS_PK": "773",
                                    "UGYFEL_FK": "edit",
                                    "vendeg_nev": "Bittmann Edit",
                                    "FELNOTT_SZAM": "1",
                                    "GYERMEK_SZAM": "1",
                                    "osszfo": "2",
                                    "Előző három foglalás átlaga": "3.500000"
                                },
                                {
                                    "tipus": "Átlag alatti foglalás",
                                    "FOGLALAS_PK": "1061",
                                    "UGYFEL_FK": "edit",
                                    "vendeg_nev": "Bittmann Edit",
                                    "FELNOTT_SZAM": "1",
                                    "GYERMEK_SZAM": "1",
                                    "osszfo": "2",
                                    "Előző három foglalás átlaga": "3.000000"
                                },
                                {
                                    "tipus": "Átlag alatti foglalás",
                                    "FOGLALAS_PK": "1250",
                                    "UGYFEL_FK": "emese",
                                    "vendeg_nev": "Kuruc Emese",
                                    "FELNOTT_SZAM": "1",
                                    "GYERMEK_SZAM": "0",
                                    "osszfo": "1",
                                    "Előző három foglalás átlaga": "2.333333"
                                },
                                {
                                    "tipus": "Átlag alatti foglalás",
                                    "FOGLALAS_PK": "1484",
                                    "UGYFEL_FK": "emese",
                                    "vendeg_nev": "Kuruc Emese",
                                    "FELNOTT_SZAM": "1",
                                    "GYERMEK_SZAM": "1",
                                    "osszfo": "2",
                                    "Előző három foglalás átlaga": "2.666666"
                                },
                                {
                                    "tipus": "Átlag alatti foglalás",
                                    "FOGLALAS_PK": "765",
                                    "UGYFEL_FK": "emese",
                                    "vendeg_nev": "Kuruc Emese",
                                    "FELNOTT_SZAM": "1",
                                    "GYERMEK_SZAM": "1",
                                    "osszfo": "2",
                                    "Előző három foglalás átlaga": "2.000000"
                                },
                                {
                                    "tipus": "Átlag alatti foglalás",
                                    "FOGLALAS_PK": "706",
                                    "UGYFEL_FK": "emese",
                                    "vendeg_nev": "Kuruc Emese",
                                    "FELNOTT_SZAM": "2",
                                    "GYERMEK_SZAM": "0",
                                    "osszfo": "2",
                                    "Előző három foglalás átlaga": "NULL"
                                },
                                {
                                    "tipus": "Átlag alatti foglalás",
                                    "FOGLALAS_PK": "1385",
                                    "UGYFEL_FK": "eszter",
                                    "vendeg_nev": "Molnár Eszter",
                                    "FELNOTT_SZAM": "1",
                                    "GYERMEK_SZAM": "1",
                                    "osszfo": "2",
                                    "Előző három foglalás átlaga": "3.000000"
                                },
                                {
                                    "tipus": "Átlag alatti foglalás",
                                    "FOGLALAS_PK": "1345",
                                    "UGYFEL_FK": "eszter2",
                                    "vendeg_nev": "Balogh Eszter",
                                    "FELNOTT_SZAM": "2",
                                    "GYERMEK_SZAM": "0",
                                    "osszfo": "2",
                                    "Előző három foglalás átlaga": "2.000000"
                                },
                                {
                                    "tipus": "Átlag alatti foglalás",
                                    "FOGLALAS_PK": "1336",
                                    "UGYFEL_FK": "eszter2",
                                    "vendeg_nev": "Balogh Eszter",
                                    "FELNOTT_SZAM": "1",
                                    "GYERMEK_SZAM": "0",
                                    "osszfo": "1",
                                    "Előző három foglalás átlaga": "2.000000"
                                },
                                {
                                    "tipus": "Átlag alatti foglalás",
                                    "FOGLALAS_PK": "1480",
                                    "UGYFEL_FK": "eszter2",
                                    "vendeg_nev": "Balogh Eszter",
                                    "FELNOTT_SZAM": "1",
                                    "GYERMEK_SZAM": "0",
                                    "osszfo": "1",
                                    "Előző három foglalás átlaga": "2.333333"
                                },
                                {
                                    "tipus": "Átlag alatti foglalás",
                                    "FOGLALAS_PK": "1187",
                                    "UGYFEL_FK": "eszter2",
                                    "vendeg_nev": "Balogh Eszter",
                                    "FELNOTT_SZAM": "1",
                                    "GYERMEK_SZAM": "0",
                                    "osszfo": "1",
                                    "Előző három foglalás átlaga": "1.666666"
                                },
                                {
                                    "tipus": "Átlag alatti foglalás",
                                    "FOGLALAS_PK": "1109",
                                    "UGYFEL_FK": "eszter2",
                                    "vendeg_nev": "Balogh Eszter",
                                    "FELNOTT_SZAM": "1",
                                    "GYERMEK_SZAM": "0",
                                    "osszfo": "1",
                                    "Előző három foglalás átlaga": "2.333333"
                                },
                                {
                                    "tipus": "Átlag alatti foglalás",
                                    "FOGLALAS_PK": "1171",
                                    "UGYFEL_FK": "eszter2",
                                    "vendeg_nev": "Balogh Eszter",
                                    "FELNOTT_SZAM": "1",
                                    "GYERMEK_SZAM": "0",
                                    "osszfo": "1",
                                    "Előző három foglalás átlaga": "1.666666"
                                },
                                {
                                    "tipus": "Átlag alatti foglalás",
                                    "FOGLALAS_PK": "1017",
                                    "UGYFEL_FK": "eszter2",
                                    "vendeg_nev": "Balogh Eszter",
                                    "FELNOTT_SZAM": "1",
                                    "GYERMEK_SZAM": "0",
                                    "osszfo": "1",
                                    "Előző három foglalás átlaga": "3.000000"
                                },
                                {
                                    "tipus": "Átlag alatti foglalás",
                                    "FOGLALAS_PK": "1475",
                                    "UGYFEL_FK": "eszter4",
                                    "vendeg_nev": "Fülöp Eszter",
                                    "FELNOTT_SZAM": "2",
                                    "GYERMEK_SZAM": "0",
                                    "osszfo": "2",
                                    "Előző három foglalás átlaga": "2.000000"
                                },
                                {
                                    "tipus": "Átlag alatti foglalás",
                                    "FOGLALAS_PK": "1421",
                                    "UGYFEL_FK": "eszter4",
                                    "vendeg_nev": "Fülöp Eszter",
                                    "FELNOTT_SZAM": "2",
                                    "GYERMEK_SZAM": "0",
                                    "osszfo": "2",
                                    "Előző három foglalás átlaga": "NULL"
                                },
                                {
                                    "tipus": "Átlag alatti foglalás",
                                    "FOGLALAS_PK": "1516",
                                    "UGYFEL_FK": "ESZTERE",
                                    "vendeg_nev": "Érsek Eszter",
                                    "FELNOTT_SZAM": "1",
                                    "GYERMEK_SZAM": "1",
                                    "osszfo": "2",
                                    "Előző három foglalás átlaga": "2.000000"
                                },
                                {
                                    "tipus": "Átlag alatti foglalás",
                                    "FOGLALAS_PK": "1235",
                                    "UGYFEL_FK": "ESZTERE",
                                    "vendeg_nev": "Érsek Eszter",
                                    "FELNOTT_SZAM": "1",
                                    "GYERMEK_SZAM": "1",
                                    "osszfo": "2",
                                    "Előző három foglalás átlaga": "2.000000"
                                },
                                {
                                    "tipus": "Átlag alatti foglalás",
                                    "FOGLALAS_PK": "874",
                                    "UGYFEL_FK": "ESZTERE",
                                    "vendeg_nev": "Érsek Eszter",
                                    "FELNOTT_SZAM": "2",
                                    "GYERMEK_SZAM": "0",
                                    "osszfo": "2",
                                    "Előző három foglalás átlaga": "2.000000"
                                },
                                {
                                    "tipus": "Átlag alatti foglalás",
                                    "FOGLALAS_PK": "688",
                                    "UGYFEL_FK": "ESZTERE",
                                    "vendeg_nev": "Érsek Eszter",
                                    "FELNOTT_SZAM": "2",
                                    "GYERMEK_SZAM": "0",
                                    "osszfo": "2",
                                    "Előző három foglalás átlaga": "NULL"
                                },
                                {
                                    "tipus": "Átlag alatti foglalás",
                                    "FOGLALAS_PK": "1438",
                                    "UGYFEL_FK": "eva",
                                    "vendeg_nev": "Enyedi Éva",
                                    "FELNOTT_SZAM": "2",
                                    "GYERMEK_SZAM": "0",
                                    "osszfo": "2",
                                    "Előző három foglalás átlaga": "3.000000"
                                },
                                {
                                    "tipus": "Átlag alatti foglalás",
                                    "FOGLALAS_PK": "1349",
                                    "UGYFEL_FK": "eva2",
                                    "vendeg_nev": "Perlinger Éva",
                                    "FELNOTT_SZAM": "2",
                                    "GYERMEK_SZAM": "0",
                                    "osszfo": "2",
                                    "Előző három foglalás átlaga": "1.500000"
                                },
                                {
                                    "tipus": "Átlag alatti foglalás",
                                    "FOGLALAS_PK": "1255",
                                    "UGYFEL_FK": "eva2",
                                    "vendeg_nev": "Perlinger Éva",
                                    "FELNOTT_SZAM": "2",
                                    "GYERMEK_SZAM": "0",
                                    "osszfo": "2",
                                    "Előző három foglalás átlaga": "1.000000"
                                },
                                {
                                    "tipus": "Átlag alatti foglalás",
                                    "FOGLALAS_PK": "845",
                                    "UGYFEL_FK": "eva2",
                                    "vendeg_nev": "Perlinger Éva",
                                    "FELNOTT_SZAM": "1",
                                    "GYERMEK_SZAM": "0",
                                    "osszfo": "1",
                                    "Előző három foglalás átlaga": "NULL"
                                },
                                {
                                    "tipus": "Átlag alatti foglalás",
                                    "FOGLALAS_PK": "842",
                                    "UGYFEL_FK": "EVAV",
                                    "vendeg_nev": "Viktor Éva",
                                    "FELNOTT_SZAM": "2",
                                    "GYERMEK_SZAM": "0",
                                    "osszfo": "2",
                                    "Előző három foglalás átlaga": "3.000000"
                                },
                                {
                                    "tipus": "Átlag alatti foglalás",
                                    "FOGLALAS_PK": "1160",
                                    "UGYFEL_FK": "EVAV",
                                    "vendeg_nev": "Viktor Éva",
                                    "FELNOTT_SZAM": "1",
                                    "GYERMEK_SZAM": "1",
                                    "osszfo": "2",
                                    "Előző három foglalás átlaga": "2.666666"
                                },
                                {
                                    "tipus": "Átlag alatti foglalás",
                                    "FOGLALAS_PK": "1131",
                                    "UGYFEL_FK": "ferenc1",
                                    "vendeg_nev": "Orosz Ferenc",
                                    "FELNOTT_SZAM": "2",
                                    "GYERMEK_SZAM": "0",
                                    "osszfo": "2",
                                    "Előző három foglalás átlaga": "2.000000"
                                },
                                {
                                    "tipus": "Átlag alatti foglalás",
                                    "FOGLALAS_PK": "966",
                                    "UGYFEL_FK": "ferenc1",
                                    "vendeg_nev": "Orosz Ferenc",
                                    "FELNOTT_SZAM": "1",
                                    "GYERMEK_SZAM": "1",
                                    "osszfo": "2",
                                    "Előző három foglalás átlaga": "2.000000"
                                },
                                {
                                    "tipus": "Átlag alatti foglalás",
                                    "FOGLALAS_PK": "625",
                                    "UGYFEL_FK": "ferenc1",
                                    "vendeg_nev": "Orosz Ferenc",
                                    "FELNOTT_SZAM": "1",
                                    "GYERMEK_SZAM": "1",
                                    "osszfo": "2",
                                    "Előző három foglalás átlaga": "NULL"
                                },
                                {
                                    "tipus": "Átlag alatti foglalás",
                                    "FOGLALAS_PK": "889",
                                    "UGYFEL_FK": "fruzsina4",
                                    "vendeg_nev": "Frank Fruzsina",
                                    "FELNOTT_SZAM": "2",
                                    "GYERMEK_SZAM": "0",
                                    "osszfo": "2",
                                    "Előző három foglalás átlaga": "3.500000"
                                },
                                {
                                    "tipus": "Átlag alatti foglalás",
                                    "FOGLALAS_PK": "1305",
                                    "UGYFEL_FK": "fruzsina4",
                                    "vendeg_nev": "Frank Fruzsina",
                                    "FELNOTT_SZAM": "1",
                                    "GYERMEK_SZAM": "1",
                                    "osszfo": "2",
                                    "Előző három foglalás átlaga": "2.666666"
                                },
                                {
                                    "tipus": "Átlag alatti foglalás",
                                    "FOGLALAS_PK": "1366",
                                    "UGYFEL_FK": "fruzsina4",
                                    "vendeg_nev": "Frank Fruzsina",
                                    "FELNOTT_SZAM": "1",
                                    "GYERMEK_SZAM": "0",
                                    "osszfo": "1",
                                    "Előző három foglalás átlaga": "2.666666"
                                },
                                {
                                    "tipus": "Átlag alatti foglalás",
                                    "FOGLALAS_PK": "1291",
                                    "UGYFEL_FK": "gabor1",
                                    "vendeg_nev": "Köves Gábor",
                                    "FELNOTT_SZAM": "2",
                                    "GYERMEK_SZAM": "0",
                                    "osszfo": "2",
                                    "Előző három foglalás átlaga": "2.000000"
                                },
                                {
                                    "tipus": "Átlag alatti foglalás",
                                    "FOGLALAS_PK": "1169",
                                    "UGYFEL_FK": "gabor1",
                                    "vendeg_nev": "Köves Gábor",
                                    "FELNOTT_SZAM": "1",
                                    "GYERMEK_SZAM": "0",
                                    "osszfo": "1",
                                    "Előző három foglalás átlaga": "2.666666"
                                },
                                {
                                    "tipus": "Átlag alatti foglalás",
                                    "FOGLALAS_PK": "1026",
                                    "UGYFEL_FK": "gabor1",
                                    "vendeg_nev": "Köves Gábor",
                                    "FELNOTT_SZAM": "1",
                                    "GYERMEK_SZAM": "0",
                                    "osszfo": "1",
                                    "Előző három foglalás átlaga": "3.000000"
                                },
                                {
                                    "tipus": "Átlag alatti foglalás",
                                    "FOGLALAS_PK": "730",
                                    "UGYFEL_FK": "gabor1",
                                    "vendeg_nev": "Köves Gábor",
                                    "FELNOTT_SZAM": "2",
                                    "GYERMEK_SZAM": "0",
                                    "osszfo": "2",
                                    "Előző három foglalás átlaga": "NULL"
                                },
                                {
                                    "tipus": "Átlag alatti foglalás",
                                    "FOGLALAS_PK": "878",
                                    "UGYFEL_FK": "gabor4",
                                    "vendeg_nev": "Telek Gábor",
                                    "FELNOTT_SZAM": "1",
                                    "GYERMEK_SZAM": "0",
                                    "osszfo": "1",
                                    "Előző három foglalás átlaga": "3.500000"
                                },
                                {
                                    "tipus": "Átlag alatti foglalás",
                                    "FOGLALAS_PK": "710",
                                    "UGYFEL_FK": "gabriella1",
                                    "vendeg_nev": "Nagy Gabriella",
                                    "FELNOTT_SZAM": "1",
                                    "GYERMEK_SZAM": "1",
                                    "osszfo": "2",
                                    "Előző három foglalás átlaga": "3.000000"
                                },
                                {
                                    "tipus": "Átlag alatti foglalás",
                                    "FOGLALAS_PK": "1524",
                                    "UGYFEL_FK": "gabriella1",
                                    "vendeg_nev": "Nagy Gabriella",
                                    "FELNOTT_SZAM": "2",
                                    "GYERMEK_SZAM": "0",
                                    "osszfo": "2",
                                    "Előző három foglalás átlaga": "2.666666"
                                },
                                {
                                    "tipus": "Átlag alatti foglalás",
                                    "FOGLALAS_PK": "831",
                                    "UGYFEL_FK": "georgij",
                                    "vendeg_nev": "Nyíri Georgij",
                                    "FELNOTT_SZAM": "1",
                                    "GYERMEK_SZAM": "1",
                                    "osszfo": "2",
                                    "Előző három foglalás átlaga": "4.000000"
                                },
                                {
                                    "tipus": "Átlag alatti foglalás",
                                    "FOGLALAS_PK": "621",
                                    "UGYFEL_FK": "gusztav",
                                    "vendeg_nev": "Bárci Gusztáv",
                                    "FELNOTT_SZAM": "1",
                                    "GYERMEK_SZAM": "1",
                                    "osszfo": "2",
                                    "Előző három foglalás átlaga": "NULL"
                                },
                                {
                                    "tipus": "Átlag alatti foglalás",
                                    "FOGLALAS_PK": "1492",
                                    "UGYFEL_FK": "gusztav",
                                    "vendeg_nev": "Bárci Gusztáv",
                                    "FELNOTT_SZAM": "2",
                                    "GYERMEK_SZAM": "0",
                                    "osszfo": "2",
                                    "Előző három foglalás átlaga": "2.666666"
                                },
                                {
                                    "tipus": "Átlag alatti foglalás",
                                    "FOGLALAS_PK": "1335",
                                    "UGYFEL_FK": "GYONGYIK",
                                    "vendeg_nev": "Kornseé Gyöngyi",
                                    "FELNOTT_SZAM": "1",
                                    "GYERMEK_SZAM": "1",
                                    "osszfo": "2",
                                    "Előző három foglalás átlaga": "1.666666"
                                },
                                {
                                    "tipus": "Átlag alatti foglalás",
                                    "FOGLALAS_PK": "1265",
                                    "UGYFEL_FK": "GYONGYIK",
                                    "vendeg_nev": "Kornseé Gyöngyi",
                                    "FELNOTT_SZAM": "2",
                                    "GYERMEK_SZAM": "0",
                                    "osszfo": "2",
                                    "Előző három foglalás átlaga": "2.000000"
                                },
                                {
                                    "tipus": "Átlag alatti foglalás",
                                    "FOGLALAS_PK": "1000",
                                    "UGYFEL_FK": "GYONGYIK",
                                    "vendeg_nev": "Kornseé Gyöngyi",
                                    "FELNOTT_SZAM": "2",
                                    "GYERMEK_SZAM": "0",
                                    "osszfo": "2",
                                    "Előző három foglalás átlaga": "2.333333"
                                },
                                {
                                    "tipus": "Átlag alatti foglalás",
                                    "FOGLALAS_PK": "945",
                                    "UGYFEL_FK": "GYONGYIK",
                                    "vendeg_nev": "Kornseé Gyöngyi",
                                    "FELNOTT_SZAM": "1",
                                    "GYERMEK_SZAM": "0",
                                    "osszfo": "1",
                                    "Előző három foglalás átlaga": "3.000000"
                                },
                                {
                                    "tipus": "Átlag alatti foglalás",
                                    "FOGLALAS_PK": "946",
                                    "UGYFEL_FK": "GYORGYO",
                                    "vendeg_nev": "Oroszi György",
                                    "FELNOTT_SZAM": "2",
                                    "GYERMEK_SZAM": "0",
                                    "osszfo": "2",
                                    "Előző három foglalás átlaga": "2.666666"
                                },
                                {
                                    "tipus": "Átlag alatti foglalás",
                                    "FOGLALAS_PK": "887",
                                    "UGYFEL_FK": "GYORGYO",
                                    "vendeg_nev": "Oroszi György",
                                    "FELNOTT_SZAM": "2",
                                    "GYERMEK_SZAM": "0",
                                    "osszfo": "2",
                                    "Előző három foglalás átlaga": "2.666666"
                                },
                                {
                                    "tipus": "Átlag alatti foglalás",
                                    "FOGLALAS_PK": "683",
                                    "UGYFEL_FK": "GYORGYO",
                                    "vendeg_nev": "Oroszi György",
                                    "FELNOTT_SZAM": "1",
                                    "GYERMEK_SZAM": "1",
                                    "osszfo": "2",
                                    "Előző három foglalás átlaga": "NULL"
                                },
                                {
                                    "tipus": "Átlag alatti foglalás",
                                    "FOGLALAS_PK": "1213",
                                    "UGYFEL_FK": "GYORGYO",
                                    "vendeg_nev": "Oroszi György",
                                    "FELNOTT_SZAM": "1",
                                    "GYERMEK_SZAM": "0",
                                    "osszfo": "1",
                                    "Előző három foglalás átlaga": "2.333333"
                                },
                                {
                                    "tipus": "Átlag alatti foglalás",
                                    "FOGLALAS_PK": "1527",
                                    "UGYFEL_FK": "GYORGYO",
                                    "vendeg_nev": "Oroszi György",
                                    "FELNOTT_SZAM": "1",
                                    "GYERMEK_SZAM": "1",
                                    "osszfo": "2",
                                    "Előző három foglalás átlaga": "1.666666"
                                },
                                {
                                    "tipus": "Átlag alatti foglalás",
                                    "FOGLALAS_PK": "818",
                                    "UGYFEL_FK": "henrik3",
                                    "vendeg_nev": "Nádudvari Henrik",
                                    "FELNOTT_SZAM": "1",
                                    "GYERMEK_SZAM": "0",
                                    "osszfo": "1",
                                    "Előző három foglalás átlaga": "NULL"
                                },
                                {
                                    "tipus": "Átlag alatti foglalás",
                                    "FOGLALAS_PK": "1184",
                                    "UGYFEL_FK": "IBOLYAA",
                                    "vendeg_nev": "Andor Ibolya",
                                    "FELNOTT_SZAM": "2",
                                    "GYERMEK_SZAM": "0",
                                    "osszfo": "2",
                                    "Előző három foglalás átlaga": "5.000000"
                                },
                                {
                                    "tipus": "Átlag alatti foglalás",
                                    "FOGLALAS_PK": "742",
                                    "UGYFEL_FK": "ilona3",
                                    "vendeg_nev": "Bosnyák Ilona",
                                    "FELNOTT_SZAM": "1",
                                    "GYERMEK_SZAM": "1",
                                    "osszfo": "2",
                                    "Előző három foglalás átlaga": "NULL"
                                },
                                {
                                    "tipus": "Átlag alatti foglalás",
                                    "FOGLALAS_PK": "806",
                                    "UGYFEL_FK": "imre1",
                                    "vendeg_nev": "Papp Imre",
                                    "FELNOTT_SZAM": "2",
                                    "GYERMEK_SZAM": "0",
                                    "osszfo": "2",
                                    "Előző három foglalás átlaga": "NULL"
                                },
                                {
                                    "tipus": "Átlag alatti foglalás",
                                    "FOGLALAS_PK": "836",
                                    "UGYFEL_FK": "imre1",
                                    "vendeg_nev": "Papp Imre",
                                    "FELNOTT_SZAM": "2",
                                    "GYERMEK_SZAM": "0",
                                    "osszfo": "2",
                                    "Előző három foglalás átlaga": "2.500000"
                                },
                                {
                                    "tipus": "Átlag alatti foglalás",
                                    "FOGLALAS_PK": "989",
                                    "UGYFEL_FK": "imre1",
                                    "vendeg_nev": "Papp Imre",
                                    "FELNOTT_SZAM": "2",
                                    "GYERMEK_SZAM": "0",
                                    "osszfo": "2",
                                    "Előző három foglalás átlaga": "3.000000"
                                },
                                {
                                    "tipus": "Átlag alatti foglalás",
                                    "FOGLALAS_PK": "1487",
                                    "UGYFEL_FK": "imre1",
                                    "vendeg_nev": "Papp Imre",
                                    "FELNOTT_SZAM": "1",
                                    "GYERMEK_SZAM": "1",
                                    "osszfo": "2",
                                    "Előző három foglalás átlaga": "2.666666"
                                },
                                {
                                    "tipus": "Átlag alatti foglalás",
                                    "FOGLALAS_PK": "1413",
                                    "UGYFEL_FK": "istvan",
                                    "vendeg_nev": "Soós István",
                                    "FELNOTT_SZAM": "2",
                                    "GYERMEK_SZAM": "0",
                                    "osszfo": "2",
                                    "Előző három foglalás átlaga": "2.500000"
                                },
                                {
                                    "tipus": "Átlag alatti foglalás",
                                    "FOGLALAS_PK": "1127",
                                    "UGYFEL_FK": "istvan",
                                    "vendeg_nev": "Soós István",
                                    "FELNOTT_SZAM": "2",
                                    "GYERMEK_SZAM": "0",
                                    "osszfo": "2",
                                    "Előző három foglalás átlaga": "NULL"
                                },
                                {
                                    "tipus": "Átlag alatti foglalás",
                                    "FOGLALAS_PK": "689",
                                    "UGYFEL_FK": "istvan1",
                                    "vendeg_nev": "Vizi István",
                                    "FELNOTT_SZAM": "1",
                                    "GYERMEK_SZAM": "0",
                                    "osszfo": "1",
                                    "Előző három foglalás átlaga": "3.000000"
                                },
                                {
                                    "tipus": "Átlag alatti foglalás",
                                    "FOGLALAS_PK": "904",
                                    "UGYFEL_FK": "janos3",
                                    "vendeg_nev": "Harangozó János",
                                    "FELNOTT_SZAM": "1",
                                    "GYERMEK_SZAM": "0",
                                    "osszfo": "1",
                                    "Előző három foglalás átlaga": "3.000000"
                                },
                                {
                                    "tipus": "Átlag alatti foglalás",
                                    "FOGLALAS_PK": "1177",
                                    "UGYFEL_FK": "janos3",
                                    "vendeg_nev": "Harangozó János",
                                    "FELNOTT_SZAM": "1",
                                    "GYERMEK_SZAM": "0",
                                    "osszfo": "1",
                                    "Előző három foglalás átlaga": "2.333333"
                                },
                                {
                                    "tipus": "Átlag alatti foglalás",
                                    "FOGLALAS_PK": "1402",
                                    "UGYFEL_FK": "JANOSG",
                                    "vendeg_nev": "Giliga János",
                                    "FELNOTT_SZAM": "2",
                                    "GYERMEK_SZAM": "0",
                                    "osszfo": "2",
                                    "Előző három foglalás átlaga": "3.000000"
                                },
                                {
                                    "tipus": "Átlag alatti foglalás",
                                    "FOGLALAS_PK": "1431",
                                    "UGYFEL_FK": "JANOSG",
                                    "vendeg_nev": "Giliga János",
                                    "FELNOTT_SZAM": "2",
                                    "GYERMEK_SZAM": "0",
                                    "osszfo": "2",
                                    "Előző három foglalás átlaga": "2.666666"
                                },
                                {
                                    "tipus": "Átlag alatti foglalás",
                                    "FOGLALAS_PK": "1486",
                                    "UGYFEL_FK": "JANOSG",
                                    "vendeg_nev": "Giliga János",
                                    "FELNOTT_SZAM": "2",
                                    "GYERMEK_SZAM": "0",
                                    "osszfo": "2",
                                    "Előző három foglalás átlaga": "2.333333"
                                },
                                {
                                    "tipus": "Átlag alatti foglalás",
                                    "FOGLALAS_PK": "631",
                                    "UGYFEL_FK": "JANOSG",
                                    "vendeg_nev": "Giliga János",
                                    "FELNOTT_SZAM": "1",
                                    "GYERMEK_SZAM": "0",
                                    "osszfo": "1",
                                    "Előző három foglalás átlaga": "NULL"
                                },
                                {
                                    "tipus": "Átlag alatti foglalás",
                                    "FOGLALAS_PK": "1314",
                                    "UGYFEL_FK": "JANOSP",
                                    "vendeg_nev": "Pálinkás János",
                                    "FELNOTT_SZAM": "2",
                                    "GYERMEK_SZAM": "0",
                                    "osszfo": "2",
                                    "Előző három foglalás átlaga": "3.000000"
                                },
                                {
                                    "tipus": "Átlag alatti foglalás",
                                    "FOGLALAS_PK": "1378",
                                    "UGYFEL_FK": "JANOSP",
                                    "vendeg_nev": "Pálinkás János",
                                    "FELNOTT_SZAM": "1",
                                    "GYERMEK_SZAM": "1",
                                    "osszfo": "2",
                                    "Előző három foglalás átlaga": "2.333333"
                                },
                                {
                                    "tipus": "Átlag alatti foglalás",
                                    "FOGLALAS_PK": "1318",
                                    "UGYFEL_FK": "JANOSP",
                                    "vendeg_nev": "Pálinkás János",
                                    "FELNOTT_SZAM": "1",
                                    "GYERMEK_SZAM": "1",
                                    "osszfo": "2",
                                    "Előző három foglalás átlaga": "2.500000"
                                },
                                {
                                    "tipus": "Átlag alatti foglalás",
                                    "FOGLALAS_PK": "1133",
                                    "UGYFEL_FK": "jozsef",
                                    "vendeg_nev": "Gergely József",
                                    "FELNOTT_SZAM": "1",
                                    "GYERMEK_SZAM": "1",
                                    "osszfo": "2",
                                    "Előző három foglalás átlaga": "2.000000"
                                },
                                {
                                    "tipus": "Átlag alatti foglalás",
                                    "FOGLALAS_PK": "1348",
                                    "UGYFEL_FK": "jozsef",
                                    "vendeg_nev": "Gergely József",
                                    "FELNOTT_SZAM": "2",
                                    "GYERMEK_SZAM": "0",
                                    "osszfo": "2",
                                    "Előző három foglalás átlaga": "2.000000"
                                },
                                {
                                    "tipus": "Átlag alatti foglalás",
                                    "FOGLALAS_PK": "1050",
                                    "UGYFEL_FK": "jozsef",
                                    "vendeg_nev": "Gergely József",
                                    "FELNOTT_SZAM": "2",
                                    "GYERMEK_SZAM": "0",
                                    "osszfo": "2",
                                    "Előző három foglalás átlaga": "NULL"
                                },
                                {
                                    "tipus": "Átlag alatti foglalás",
                                    "FOGLALAS_PK": "1039",
                                    "UGYFEL_FK": "jozsef2",
                                    "vendeg_nev": "Vajda József",
                                    "FELNOTT_SZAM": "1",
                                    "GYERMEK_SZAM": "1",
                                    "osszfo": "2",
                                    "Előző három foglalás átlaga": "2.500000"
                                },
                                {
                                    "tipus": "Átlag alatti foglalás",
                                    "FOGLALAS_PK": "1013",
                                    "UGYFEL_FK": "jozsef2",
                                    "vendeg_nev": "Vajda József",
                                    "FELNOTT_SZAM": "2",
                                    "GYERMEK_SZAM": "0",
                                    "osszfo": "2",
                                    "Előző három foglalás átlaga": "3.000000"
                                },
                                {
                                    "tipus": "Átlag alatti foglalás",
                                    "FOGLALAS_PK": "852",
                                    "UGYFEL_FK": "JOZSEFG",
                                    "vendeg_nev": "Gyuris József",
                                    "FELNOTT_SZAM": "1",
                                    "GYERMEK_SZAM": "0",
                                    "osszfo": "1",
                                    "Előző három foglalás átlaga": "2.500000"
                                },
                                {
                                    "tipus": "Átlag alatti foglalás",
                                    "FOGLALAS_PK": "616",
                                    "UGYFEL_FK": "JOZSEFG",
                                    "vendeg_nev": "Gyuris József",
                                    "FELNOTT_SZAM": "2",
                                    "GYERMEK_SZAM": "0",
                                    "osszfo": "2",
                                    "Előző három foglalás átlaga": "NULL"
                                },
                                {
                                    "tipus": "Átlag alatti foglalás",
                                    "FOGLALAS_PK": "1426",
                                    "UGYFEL_FK": "JOZSEFG",
                                    "vendeg_nev": "Gyuris József",
                                    "FELNOTT_SZAM": "2",
                                    "GYERMEK_SZAM": "0",
                                    "osszfo": "2",
                                    "Előző három foglalás átlaga": "2.666666"
                                },
                                {
                                    "tipus": "Átlag alatti foglalás",
                                    "FOGLALAS_PK": "1461",
                                    "UGYFEL_FK": "JOZSEFG",
                                    "vendeg_nev": "Gyuris József",
                                    "FELNOTT_SZAM": "1",
                                    "GYERMEK_SZAM": "0",
                                    "osszfo": "1",
                                    "Előző három foglalás átlaga": "2.333333"
                                },
                                {
                                    "tipus": "Átlag alatti foglalás",
                                    "FOGLALAS_PK": "1379",
                                    "UGYFEL_FK": "JUDITH",
                                    "vendeg_nev": "Hídasi Judit",
                                    "FELNOTT_SZAM": "1",
                                    "GYERMEK_SZAM": "0",
                                    "osszfo": "1",
                                    "Előző három foglalás átlaga": "2.000000"
                                },
                                {
                                    "tipus": "Átlag alatti foglalás",
                                    "FOGLALAS_PK": "729",
                                    "UGYFEL_FK": "JUDITH",
                                    "vendeg_nev": "Hídasi Judit",
                                    "FELNOTT_SZAM": "1",
                                    "GYERMEK_SZAM": "1",
                                    "osszfo": "2",
                                    "Előző három foglalás átlaga": "NULL"
                                },
                                {
                                    "tipus": "Átlag alatti foglalás",
                                    "FOGLALAS_PK": "920",
                                    "UGYFEL_FK": "JUDITH",
                                    "vendeg_nev": "Hídasi Judit",
                                    "FELNOTT_SZAM": "2",
                                    "GYERMEK_SZAM": "0",
                                    "osszfo": "2",
                                    "Előző három foglalás átlaga": "2.000000"
                                },
                                {
                                    "tipus": "Átlag alatti foglalás",
                                    "FOGLALAS_PK": "699",
                                    "UGYFEL_FK": "julia",
                                    "vendeg_nev": "Tóth Júlia",
                                    "FELNOTT_SZAM": "1",
                                    "GYERMEK_SZAM": "1",
                                    "osszfo": "2",
                                    "Előző három foglalás átlaga": "1.500000"
                                },
                                {
                                    "tipus": "Átlag alatti foglalás",
                                    "FOGLALAS_PK": "592",
                                    "UGYFEL_FK": "julia",
                                    "vendeg_nev": "Tóth Júlia",
                                    "FELNOTT_SZAM": "1",
                                    "GYERMEK_SZAM": "1",
                                    "osszfo": "2",
                                    "Előző három foglalás átlaga": "NULL"
                                },
                                {
                                    "tipus": "Átlag alatti foglalás",
                                    "FOGLALAS_PK": "638",
                                    "UGYFEL_FK": "julia",
                                    "vendeg_nev": "Tóth Júlia",
                                    "FELNOTT_SZAM": "1",
                                    "GYERMEK_SZAM": "0",
                                    "osszfo": "1",
                                    "Előző három foglalás átlaga": "2.000000"
                                },
                                {
                                    "tipus": "Átlag alatti foglalás",
                                    "FOGLALAS_PK": "1258",
                                    "UGYFEL_FK": "julia4",
                                    "vendeg_nev": "Nagy Júlia",
                                    "FELNOTT_SZAM": "1",
                                    "GYERMEK_SZAM": "0",
                                    "osszfo": "1",
                                    "Előző három foglalás átlaga": "NULL"
                                },
                                {
                                    "tipus": "Átlag alatti foglalás",
                                    "FOGLALAS_PK": "1244",
                                    "UGYFEL_FK": "julianna4",
                                    "vendeg_nev": "Szabó Julianna",
                                    "FELNOTT_SZAM": "2",
                                    "GYERMEK_SZAM": "0",
                                    "osszfo": "2",
                                    "Előző három foglalás átlaga": "2.500000"
                                },
                                {
                                    "tipus": "Átlag alatti foglalás",
                                    "FOGLALAS_PK": "692",
                                    "UGYFEL_FK": "julianna4",
                                    "vendeg_nev": "Szabó Julianna",
                                    "FELNOTT_SZAM": "2",
                                    "GYERMEK_SZAM": "0",
                                    "osszfo": "2",
                                    "Előző három foglalás átlaga": "NULL"
                                },
                                {
                                    "tipus": "Átlag alatti foglalás",
                                    "FOGLALAS_PK": "601",
                                    "UGYFEL_FK": "kata",
                                    "vendeg_nev": "Gondos Katalin",
                                    "FELNOTT_SZAM": "1",
                                    "GYERMEK_SZAM": "0",
                                    "osszfo": "1",
                                    "Előző három foglalás átlaga": "2.000000"
                                },
                                {
                                    "tipus": "Átlag alatti foglalás",
                                    "FOGLALAS_PK": "568",
                                    "UGYFEL_FK": "kata",
                                    "vendeg_nev": "Gondos Katalin",
                                    "FELNOTT_SZAM": "2",
                                    "GYERMEK_SZAM": "0",
                                    "osszfo": "2",
                                    "Előző három foglalás átlaga": "NULL"
                                },
                                {
                                    "tipus": "Átlag alatti foglalás",
                                    "FOGLALAS_PK": "931",
                                    "UGYFEL_FK": "kata",
                                    "vendeg_nev": "Gondos Katalin",
                                    "FELNOTT_SZAM": "2",
                                    "GYERMEK_SZAM": "0",
                                    "osszfo": "2",
                                    "Előző három foglalás átlaga": "2.333333"
                                },
                                {
                                    "tipus": "Átlag alatti foglalás",
                                    "FOGLALAS_PK": "999",
                                    "UGYFEL_FK": "kata",
                                    "vendeg_nev": "Gondos Katalin",
                                    "FELNOTT_SZAM": "2",
                                    "GYERMEK_SZAM": "0",
                                    "osszfo": "2",
                                    "Előző három foglalás átlaga": "2.666666"
                                },
                                {
                                    "tipus": "Átlag alatti foglalás",
                                    "FOGLALAS_PK": "1006",
                                    "UGYFEL_FK": "kata",
                                    "vendeg_nev": "Gondos Katalin",
                                    "FELNOTT_SZAM": "1",
                                    "GYERMEK_SZAM": "0",
                                    "osszfo": "1",
                                    "Előző három foglalás átlaga": "2.333333"
                                },
                                {
                                    "tipus": "Átlag alatti foglalás",
                                    "FOGLALAS_PK": "1015",
                                    "UGYFEL_FK": "katalin",
                                    "vendeg_nev": "Horváth Katalin",
                                    "FELNOTT_SZAM": "1",
                                    "GYERMEK_SZAM": "0",
                                    "osszfo": "1",
                                    "Előző három foglalás átlaga": "1.333333"
                                },
                                {
                                    "tipus": "Átlag alatti foglalás",
                                    "FOGLALAS_PK": "572",
                                    "UGYFEL_FK": "katalin",
                                    "vendeg_nev": "Horváth Katalin",
                                    "FELNOTT_SZAM": "1",
                                    "GYERMEK_SZAM": "1",
                                    "osszfo": "2",
                                    "Előző három foglalás átlaga": "NULL"
                                },
                                {
                                    "tipus": "Átlag alatti foglalás",
                                    "FOGLALAS_PK": "661",
                                    "UGYFEL_FK": "katalin",
                                    "vendeg_nev": "Horváth Katalin",
                                    "FELNOTT_SZAM": "1",
                                    "GYERMEK_SZAM": "0",
                                    "osszfo": "1",
                                    "Előző három foglalás átlaga": "2.000000"
                                },
                                {
                                    "tipus": "Átlag alatti foglalás",
                                    "FOGLALAS_PK": "733",
                                    "UGYFEL_FK": "katalin",
                                    "vendeg_nev": "Horváth Katalin",
                                    "FELNOTT_SZAM": "1",
                                    "GYERMEK_SZAM": "0",
                                    "osszfo": "1",
                                    "Előző három foglalás átlaga": "1.500000"
                                },
                                {
                                    "tipus": "Átlag alatti foglalás",
                                    "FOGLALAS_PK": "1198",
                                    "UGYFEL_FK": "katalin",
                                    "vendeg_nev": "Horváth Katalin",
                                    "FELNOTT_SZAM": "1",
                                    "GYERMEK_SZAM": "1",
                                    "osszfo": "2",
                                    "Előző három foglalás átlaga": "1.000000"
                                },
                                {
                                    "tipus": "Átlag alatti foglalás",
                                    "FOGLALAS_PK": "1372",
                                    "UGYFEL_FK": "katalin",
                                    "vendeg_nev": "Horváth Katalin",
                                    "FELNOTT_SZAM": "1",
                                    "GYERMEK_SZAM": "0",
                                    "osszfo": "1",
                                    "Előző három foglalás átlaga": "1.666666"
                                },
                                {
                                    "tipus": "Átlag alatti foglalás",
                                    "FOGLALAS_PK": "1360",
                                    "UGYFEL_FK": "katalin",
                                    "vendeg_nev": "Horváth Katalin",
                                    "FELNOTT_SZAM": "1",
                                    "GYERMEK_SZAM": "1",
                                    "osszfo": "2",
                                    "Előző három foglalás átlaga": "1.333333"
                                },
                                {
                                    "tipus": "Átlag alatti foglalás",
                                    "FOGLALAS_PK": "1388",
                                    "UGYFEL_FK": "katalin",
                                    "vendeg_nev": "Horváth Katalin",
                                    "FELNOTT_SZAM": "1",
                                    "GYERMEK_SZAM": "1",
                                    "osszfo": "2",
                                    "Előző három foglalás átlaga": "1.666666"
                                },
                                {
                                    "tipus": "Átlag alatti foglalás",
                                    "FOGLALAS_PK": "1473",
                                    "UGYFEL_FK": "katalin4",
                                    "vendeg_nev": "Kertész Katalin",
                                    "FELNOTT_SZAM": "2",
                                    "GYERMEK_SZAM": "0",
                                    "osszfo": "2",
                                    "Előző három foglalás átlaga": "2.666666"
                                },
                                {
                                    "tipus": "Átlag alatti foglalás",
                                    "FOGLALAS_PK": "1455",
                                    "UGYFEL_FK": "katalin4",
                                    "vendeg_nev": "Kertész Katalin",
                                    "FELNOTT_SZAM": "1",
                                    "GYERMEK_SZAM": "1",
                                    "osszfo": "2",
                                    "Előző három foglalás átlaga": "3.333333"
                                },
                                {
                                    "tipus": "Átlag alatti foglalás",
                                    "FOGLALAS_PK": "997",
                                    "UGYFEL_FK": "katalin4",
                                    "vendeg_nev": "Kertész Katalin",
                                    "FELNOTT_SZAM": "1",
                                    "GYERMEK_SZAM": "0",
                                    "osszfo": "1",
                                    "Előző három foglalás átlaga": "NULL"
                                },
                                {
                                    "tipus": "Átlag alatti foglalás",
                                    "FOGLALAS_PK": "911",
                                    "UGYFEL_FK": "kati",
                                    "vendeg_nev": "Zatykó Katalin",
                                    "FELNOTT_SZAM": "1",
                                    "GYERMEK_SZAM": "1",
                                    "osszfo": "2",
                                    "Előző három foglalás átlaga": "2.000000"
                                },
                                {
                                    "tipus": "Átlag alatti foglalás",
                                    "FOGLALAS_PK": "723",
                                    "UGYFEL_FK": "kati",
                                    "vendeg_nev": "Zatykó Katalin",
                                    "FELNOTT_SZAM": "2",
                                    "GYERMEK_SZAM": "0",
                                    "osszfo": "2",
                                    "Előző három foglalás átlaga": "2.000000"
                                },
                                {
                                    "tipus": "Átlag alatti foglalás",
                                    "FOGLALAS_PK": "751",
                                    "UGYFEL_FK": "kati",
                                    "vendeg_nev": "Zatykó Katalin",
                                    "FELNOTT_SZAM": "2",
                                    "GYERMEK_SZAM": "0",
                                    "osszfo": "2",
                                    "Előző három foglalás átlaga": "2.000000"
                                },
                                {
                                    "tipus": "Átlag alatti foglalás",
                                    "FOGLALAS_PK": "665",
                                    "UGYFEL_FK": "kati",
                                    "vendeg_nev": "Zatykó Katalin",
                                    "FELNOTT_SZAM": "2",
                                    "GYERMEK_SZAM": "0",
                                    "osszfo": "2",
                                    "Előző három foglalás átlaga": "NULL"
                                },
                                {
                                    "tipus": "Átlag alatti foglalás",
                                    "FOGLALAS_PK": "1192",
                                    "UGYFEL_FK": "kati",
                                    "vendeg_nev": "Zatykó Katalin",
                                    "FELNOTT_SZAM": "2",
                                    "GYERMEK_SZAM": "0",
                                    "osszfo": "2",
                                    "Előző három foglalás átlaga": "2.333333"
                                },
                                {
                                    "tipus": "Átlag alatti foglalás",
                                    "FOGLALAS_PK": "574",
                                    "UGYFEL_FK": "katka",
                                    "vendeg_nev": "Kovács Katalin",
                                    "FELNOTT_SZAM": "2",
                                    "GYERMEK_SZAM": "0",
                                    "osszfo": "2",
                                    "Előző három foglalás átlaga": "NULL"
                                },
                                {
                                    "tipus": "Átlag alatti foglalás",
                                    "FOGLALAS_PK": "954",
                                    "UGYFEL_FK": "katka",
                                    "vendeg_nev": "Kovács Katalin",
                                    "FELNOTT_SZAM": "1",
                                    "GYERMEK_SZAM": "0",
                                    "osszfo": "1",
                                    "Előző három foglalás átlaga": "2.333333"
                                },
                                {
                                    "tipus": "Átlag alatti foglalás",
                                    "FOGLALAS_PK": "819",
                                    "UGYFEL_FK": "katka",
                                    "vendeg_nev": "Kovács Katalin",
                                    "FELNOTT_SZAM": "1",
                                    "GYERMEK_SZAM": "1",
                                    "osszfo": "2",
                                    "Előző három foglalás átlaga": "2.500000"
                                },
                                {
                                    "tipus": "Átlag alatti foglalás",
                                    "FOGLALAS_PK": "1108",
                                    "UGYFEL_FK": "klaudia2",
                                    "vendeg_nev": "Bakó Klaudia",
                                    "FELNOTT_SZAM": "2",
                                    "GYERMEK_SZAM": "0",
                                    "osszfo": "2",
                                    "Előző három foglalás átlaga": "4.000000"
                                },
                                {
                                    "tipus": "Átlag alatti foglalás",
                                    "FOGLALAS_PK": "1115",
                                    "UGYFEL_FK": "klaudia2",
                                    "vendeg_nev": "Bakó Klaudia",
                                    "FELNOTT_SZAM": "1",
                                    "GYERMEK_SZAM": "1",
                                    "osszfo": "2",
                                    "Előző három foglalás átlaga": "3.000000"
                                },
                                {
                                    "tipus": "Átlag alatti foglalás",
                                    "FOGLALAS_PK": "1096",
                                    "UGYFEL_FK": "kristof4",
                                    "vendeg_nev": "Poprádi Kristóf",
                                    "FELNOTT_SZAM": "2",
                                    "GYERMEK_SZAM": "0",
                                    "osszfo": "2",
                                    "Előző három foglalás átlaga": "2.000000"
                                },
                                {
                                    "tipus": "Átlag alatti foglalás",
                                    "FOGLALAS_PK": "565",
                                    "UGYFEL_FK": "kristof4",
                                    "vendeg_nev": "Poprádi Kristóf",
                                    "FELNOTT_SZAM": "2",
                                    "GYERMEK_SZAM": "0",
                                    "osszfo": "2",
                                    "Előző három foglalás átlaga": "NULL"
                                },
                                {
                                    "tipus": "Átlag alatti foglalás",
                                    "FOGLALAS_PK": "656",
                                    "UGYFEL_FK": "kriszti",
                                    "vendeg_nev": "Horváth Krisztina",
                                    "FELNOTT_SZAM": "2",
                                    "GYERMEK_SZAM": "0",
                                    "osszfo": "2",
                                    "Előző három foglalás átlaga": "NULL"
                                },
                                {
                                    "tipus": "Átlag alatti foglalás",
                                    "FOGLALAS_PK": "732",
                                    "UGYFEL_FK": "krisztian4",
                                    "vendeg_nev": "Czérna Krisztián",
                                    "FELNOTT_SZAM": "1",
                                    "GYERMEK_SZAM": "1",
                                    "osszfo": "2",
                                    "Előző három foglalás átlaga": "NULL"
                                },
                                {
                                    "tipus": "Átlag alatti foglalás",
                                    "FOGLALAS_PK": "787",
                                    "UGYFEL_FK": "krisztian4",
                                    "vendeg_nev": "Czérna Krisztián",
                                    "FELNOTT_SZAM": "1",
                                    "GYERMEK_SZAM": "0",
                                    "osszfo": "1",
                                    "Előző három foglalás átlaga": "2.500000"
                                },
                                {
                                    "tipus": "Átlag alatti foglalás",
                                    "FOGLALAS_PK": "834",
                                    "UGYFEL_FK": "krisztian4",
                                    "vendeg_nev": "Czérna Krisztián",
                                    "FELNOTT_SZAM": "1",
                                    "GYERMEK_SZAM": "0",
                                    "osszfo": "1",
                                    "Előző három foglalás átlaga": "2.000000"
                                },
                                {
                                    "tipus": "Átlag alatti foglalás",
                                    "FOGLALAS_PK": "894",
                                    "UGYFEL_FK": "krisztian4",
                                    "vendeg_nev": "Czérna Krisztián",
                                    "FELNOTT_SZAM": "2",
                                    "GYERMEK_SZAM": "0",
                                    "osszfo": "2",
                                    "Előző három foglalás átlaga": "1.666666"
                                },
                                {
                                    "tipus": "Átlag alatti foglalás",
                                    "FOGLALAS_PK": "929",
                                    "UGYFEL_FK": "krisztian4",
                                    "vendeg_nev": "Czérna Krisztián",
                                    "FELNOTT_SZAM": "2",
                                    "GYERMEK_SZAM": "0",
                                    "osszfo": "2",
                                    "Előző három foglalás átlaga": "1.333333"
                                },
                                {
                                    "tipus": "Átlag alatti foglalás",
                                    "FOGLALAS_PK": "1237",
                                    "UGYFEL_FK": "krisztian4",
                                    "vendeg_nev": "Czérna Krisztián",
                                    "FELNOTT_SZAM": "2",
                                    "GYERMEK_SZAM": "0",
                                    "osszfo": "2",
                                    "Előző három foglalás átlaga": "2.333333"
                                },
                                {
                                    "tipus": "Átlag alatti foglalás",
                                    "FOGLALAS_PK": "1564",
                                    "UGYFEL_FK": "krisztian4",
                                    "vendeg_nev": "Czérna Krisztián",
                                    "FELNOTT_SZAM": "1",
                                    "GYERMEK_SZAM": "1",
                                    "osszfo": "2",
                                    "Előző három foglalás átlaga": "2.000000"
                                },
                                {
                                    "tipus": "Átlag alatti foglalás",
                                    "FOGLALAS_PK": "1422",
                                    "UGYFEL_FK": "krisztian4",
                                    "vendeg_nev": "Czérna Krisztián",
                                    "FELNOTT_SZAM": "1",
                                    "GYERMEK_SZAM": "0",
                                    "osszfo": "1",
                                    "Előző három foglalás átlaga": "2.333333"
                                },
                                {
                                    "tipus": "Átlag alatti foglalás",
                                    "FOGLALAS_PK": "1358",
                                    "UGYFEL_FK": "krisztian4",
                                    "vendeg_nev": "Czérna Krisztián",
                                    "FELNOTT_SZAM": "1",
                                    "GYERMEK_SZAM": "1",
                                    "osszfo": "2",
                                    "Előző három foglalás átlaga": "2.333333"
                                },
                                {
                                    "tipus": "Átlag alatti foglalás",
                                    "FOGLALAS_PK": "1443",
                                    "UGYFEL_FK": "KRISZTIANM",
                                    "vendeg_nev": "Mogyródi Krisztián",
                                    "FELNOTT_SZAM": "1",
                                    "GYERMEK_SZAM": "0",
                                    "osszfo": "1",
                                    "Előző három foglalás átlaga": "2.333333"
                                },
                                {
                                    "tipus": "Átlag alatti foglalás",
                                    "FOGLALAS_PK": "1392",
                                    "UGYFEL_FK": "KRISZTIANM",
                                    "vendeg_nev": "Mogyródi Krisztián",
                                    "FELNOTT_SZAM": "1",
                                    "GYERMEK_SZAM": "1",
                                    "osszfo": "2",
                                    "Előző három foglalás átlaga": "3.000000"
                                },
                                {
                                    "tipus": "Átlag alatti foglalás",
                                    "FOGLALAS_PK": "901",
                                    "UGYFEL_FK": "KRISZTIANM",
                                    "vendeg_nev": "Mogyródi Krisztián",
                                    "FELNOTT_SZAM": "2",
                                    "GYERMEK_SZAM": "0",
                                    "osszfo": "2",
                                    "Előző három foglalás átlaga": "3.000000"
                                },
                                {
                                    "tipus": "Átlag alatti foglalás",
                                    "FOGLALAS_PK": "566",
                                    "UGYFEL_FK": "KRISZTIANM",
                                    "vendeg_nev": "Mogyródi Krisztián",
                                    "FELNOTT_SZAM": "1",
                                    "GYERMEK_SZAM": "1",
                                    "osszfo": "2",
                                    "Előző három foglalás átlaga": "NULL"
                                },
                                {
                                    "tipus": "Átlag alatti foglalás",
                                    "FOGLALAS_PK": "659",
                                    "UGYFEL_FK": "krisztina",
                                    "vendeg_nev": "Szedlár Krisztina",
                                    "FELNOTT_SZAM": "2",
                                    "GYERMEK_SZAM": "0",
                                    "osszfo": "2",
                                    "Előző három foglalás átlaga": "NULL"
                                },
                                {
                                    "tipus": "Átlag alatti foglalás",
                                    "FOGLALAS_PK": "1048",
                                    "UGYFEL_FK": "krisztina",
                                    "vendeg_nev": "Szedlár Krisztina",
                                    "FELNOTT_SZAM": "1",
                                    "GYERMEK_SZAM": "0",
                                    "osszfo": "1",
                                    "Előző három foglalás átlaga": "2.500000"
                                },
                                {
                                    "tipus": "Átlag alatti foglalás",
                                    "FOGLALAS_PK": "1502",
                                    "UGYFEL_FK": "krisztina",
                                    "vendeg_nev": "Szedlár Krisztina",
                                    "FELNOTT_SZAM": "2",
                                    "GYERMEK_SZAM": "0",
                                    "osszfo": "2",
                                    "Előző három foglalás átlaga": "1.666666"
                                },
                                {
                                    "tipus": "Átlag alatti foglalás",
                                    "FOGLALAS_PK": "1266",
                                    "UGYFEL_FK": "krisztina",
                                    "vendeg_nev": "Szedlár Krisztina",
                                    "FELNOTT_SZAM": "2",
                                    "GYERMEK_SZAM": "0",
                                    "osszfo": "2",
                                    "Előző három foglalás átlaga": "2.000000"
                                },
                                {
                                    "tipus": "Átlag alatti foglalás",
                                    "FOGLALAS_PK": "1306",
                                    "UGYFEL_FK": "krisztina",
                                    "vendeg_nev": "Szedlár Krisztina",
                                    "FELNOTT_SZAM": "1",
                                    "GYERMEK_SZAM": "0",
                                    "osszfo": "1",
                                    "Előző három foglalás átlaga": "1.666666"
                                },
                                {
                                    "tipus": "Átlag alatti foglalás",
                                    "FOGLALAS_PK": "1067",
                                    "UGYFEL_FK": "krisztina",
                                    "vendeg_nev": "Szedlár Krisztina",
                                    "FELNOTT_SZAM": "2",
                                    "GYERMEK_SZAM": "0",
                                    "osszfo": "2",
                                    "Előző három foglalás átlaga": "2.000000"
                                },
                                {
                                    "tipus": "Átlag alatti foglalás",
                                    "FOGLALAS_PK": "1460",
                                    "UGYFEL_FK": "krisztina1",
                                    "vendeg_nev": "Bori Krisztina",
                                    "FELNOTT_SZAM": "1",
                                    "GYERMEK_SZAM": "1",
                                    "osszfo": "2",
                                    "Előző három foglalás átlaga": "3.000000"
                                },
                                {
                                    "tipus": "Átlag alatti foglalás",
                                    "FOGLALAS_PK": "964",
                                    "UGYFEL_FK": "krisztina1",
                                    "vendeg_nev": "Bori Krisztina",
                                    "FELNOTT_SZAM": "2",
                                    "GYERMEK_SZAM": "0",
                                    "osszfo": "2",
                                    "Előző három foglalás átlaga": "1.500000"
                                },
                                {
                                    "tipus": "Átlag alatti foglalás",
                                    "FOGLALAS_PK": "648",
                                    "UGYFEL_FK": "krisztina1",
                                    "vendeg_nev": "Bori Krisztina",
                                    "FELNOTT_SZAM": "1",
                                    "GYERMEK_SZAM": "0",
                                    "osszfo": "1",
                                    "Előző három foglalás átlaga": "2.000000"
                                },
                                {
                                    "tipus": "Átlag alatti foglalás",
                                    "FOGLALAS_PK": "608",
                                    "UGYFEL_FK": "krisztina1",
                                    "vendeg_nev": "Bori Krisztina",
                                    "FELNOTT_SZAM": "2",
                                    "GYERMEK_SZAM": "0",
                                    "osszfo": "2",
                                    "Előző három foglalás átlaga": "NULL"
                                },
                                {
                                    "tipus": "Átlag alatti foglalás",
                                    "FOGLALAS_PK": "597",
                                    "UGYFEL_FK": "KRISZTINAG",
                                    "vendeg_nev": "Gyárfás Krisztina",
                                    "FELNOTT_SZAM": "2",
                                    "GYERMEK_SZAM": "0",
                                    "osszfo": "2",
                                    "Előző három foglalás átlaga": "NULL"
                                },
                                {
                                    "tipus": "Átlag alatti foglalás",
                                    "FOGLALAS_PK": "935",
                                    "UGYFEL_FK": "KRISZTINAG",
                                    "vendeg_nev": "Gyárfás Krisztina",
                                    "FELNOTT_SZAM": "1",
                                    "GYERMEK_SZAM": "0",
                                    "osszfo": "1",
                                    "Előző három foglalás átlaga": "2.000000"
                                },
                                {
                                    "tipus": "Átlag alatti foglalás",
                                    "FOGLALAS_PK": "854",
                                    "UGYFEL_FK": "KRISZTINAG",
                                    "vendeg_nev": "Gyárfás Krisztina",
                                    "FELNOTT_SZAM": "1",
                                    "GYERMEK_SZAM": "0",
                                    "osszfo": "1",
                                    "Előző három foglalás átlaga": "2.500000"
                                },
                                {
                                    "tipus": "Átlag alatti foglalás",
                                    "FOGLALAS_PK": "1474",
                                    "UGYFEL_FK": "KRISZTINAG",
                                    "vendeg_nev": "Gyárfás Krisztina",
                                    "FELNOTT_SZAM": "2",
                                    "GYERMEK_SZAM": "0",
                                    "osszfo": "2",
                                    "Előző három foglalás átlaga": "1.666666"
                                },
                                {
                                    "tipus": "Átlag alatti foglalás",
                                    "FOGLALAS_PK": "1523",
                                    "UGYFEL_FK": "lajos",
                                    "vendeg_nev": "Kiss Lajos",
                                    "FELNOTT_SZAM": "1",
                                    "GYERMEK_SZAM": "0",
                                    "osszfo": "1",
                                    "Előző három foglalás átlaga": "3.000000"
                                },
                                {
                                    "tipus": "Átlag alatti foglalás",
                                    "FOGLALAS_PK": "682",
                                    "UGYFEL_FK": "lajos",
                                    "vendeg_nev": "Kiss Lajos",
                                    "FELNOTT_SZAM": "2",
                                    "GYERMEK_SZAM": "0",
                                    "osszfo": "2",
                                    "Előző három foglalás átlaga": "NULL"
                                },
                                {
                                    "tipus": "Átlag alatti foglalás",
                                    "FOGLALAS_PK": "961",
                                    "UGYFEL_FK": "lala",
                                    "vendeg_nev": "Nagymihály Lajos",
                                    "FELNOTT_SZAM": "2",
                                    "GYERMEK_SZAM": "0",
                                    "osszfo": "2",
                                    "Előző három foglalás átlaga": "3.000000"
                                },
                                {
                                    "tipus": "Átlag alatti foglalás",
                                    "FOGLALAS_PK": "1449",
                                    "UGYFEL_FK": "lala",
                                    "vendeg_nev": "Nagymihály Lajos",
                                    "FELNOTT_SZAM": "1",
                                    "GYERMEK_SZAM": "1",
                                    "osszfo": "2",
                                    "Előző három foglalás átlaga": "2.666666"
                                },
                                {
                                    "tipus": "Átlag alatti foglalás",
                                    "FOGLALAS_PK": "604",
                                    "UGYFEL_FK": "laszlo2",
                                    "vendeg_nev": "Móra László",
                                    "FELNOTT_SZAM": "1",
                                    "GYERMEK_SZAM": "1",
                                    "osszfo": "2",
                                    "Előző három foglalás átlaga": "2.000000"
                                },
                                {
                                    "tipus": "Átlag alatti foglalás",
                                    "FOGLALAS_PK": "561",
                                    "UGYFEL_FK": "laszlo2",
                                    "vendeg_nev": "Móra László",
                                    "FELNOTT_SZAM": "2",
                                    "GYERMEK_SZAM": "0",
                                    "osszfo": "2",
                                    "Előző három foglalás átlaga": "NULL"
                                },
                                {
                                    "tipus": "Átlag alatti foglalás",
                                    "FOGLALAS_PK": "923",
                                    "UGYFEL_FK": "LASZLOA",
                                    "vendeg_nev": "Antal László",
                                    "FELNOTT_SZAM": "1",
                                    "GYERMEK_SZAM": "0",
                                    "osszfo": "1",
                                    "Előző három foglalás átlaga": "2.000000"
                                },
                                {
                                    "tipus": "Átlag alatti foglalás",
                                    "FOGLALAS_PK": "899",
                                    "UGYFEL_FK": "LASZLOA",
                                    "vendeg_nev": "Antal László",
                                    "FELNOTT_SZAM": "1",
                                    "GYERMEK_SZAM": "1",
                                    "osszfo": "2",
                                    "Előző három foglalás átlaga": "NULL"
                                },
                                {
                                    "tipus": "Átlag alatti foglalás",
                                    "FOGLALAS_PK": "1510",
                                    "UGYFEL_FK": "LASZLOA",
                                    "vendeg_nev": "Antal László",
                                    "FELNOTT_SZAM": "1",
                                    "GYERMEK_SZAM": "1",
                                    "osszfo": "2",
                                    "Előző három foglalás átlaga": "2.000000"
                                },
                                {
                                    "tipus": "Átlag alatti foglalás",
                                    "FOGLALAS_PK": "1329",
                                    "UGYFEL_FK": "LASZLON",
                                    "vendeg_nev": "Nagy László",
                                    "FELNOTT_SZAM": "1",
                                    "GYERMEK_SZAM": "0",
                                    "osszfo": "1",
                                    "Előző három foglalás átlaga": "2.000000"
                                },
                                {
                                    "tipus": "Átlag alatti foglalás",
                                    "FOGLALAS_PK": "1136",
                                    "UGYFEL_FK": "LASZLON",
                                    "vendeg_nev": "Nagy László",
                                    "FELNOTT_SZAM": "1",
                                    "GYERMEK_SZAM": "0",
                                    "osszfo": "1",
                                    "Előző három foglalás átlaga": "2.000000"
                                },
                                {
                                    "tipus": "Átlag alatti foglalás",
                                    "FOGLALAS_PK": "892",
                                    "UGYFEL_FK": "LASZLON",
                                    "vendeg_nev": "Nagy László",
                                    "FELNOTT_SZAM": "1",
                                    "GYERMEK_SZAM": "0",
                                    "osszfo": "1",
                                    "Előző három foglalás átlaga": "NULL"
                                },
                                {
                                    "tipus": "Átlag alatti foglalás",
                                    "FOGLALAS_PK": "934",
                                    "UGYFEL_FK": "LASZLON",
                                    "vendeg_nev": "Nagy László",
                                    "FELNOTT_SZAM": "2",
                                    "GYERMEK_SZAM": "0",
                                    "osszfo": "2",
                                    "Előző három foglalás átlaga": "1.000000"
                                },
                                {
                                    "tipus": "Átlag alatti foglalás",
                                    "FOGLALAS_PK": "981",
                                    "UGYFEL_FK": "maria1",
                                    "vendeg_nev": "Baráth Mária",
                                    "FELNOTT_SZAM": "1",
                                    "GYERMEK_SZAM": "0",
                                    "osszfo": "1",
                                    "Előző három foglalás átlaga": "2.000000"
                                },
                                {
                                    "tipus": "Átlag alatti foglalás",
                                    "FOGLALAS_PK": "864",
                                    "UGYFEL_FK": "maria1",
                                    "vendeg_nev": "Baráth Mária",
                                    "FELNOTT_SZAM": "2",
                                    "GYERMEK_SZAM": "0",
                                    "osszfo": "2",
                                    "Előző három foglalás átlaga": "1.666666"
                                },
                                {
                                    "tipus": "Átlag alatti foglalás",
                                    "FOGLALAS_PK": "846",
                                    "UGYFEL_FK": "maria1",
                                    "vendeg_nev": "Baráth Mária",
                                    "FELNOTT_SZAM": "1",
                                    "GYERMEK_SZAM": "0",
                                    "osszfo": "1",
                                    "Előző három foglalás átlaga": "2.000000"
                                },
                                {
                                    "tipus": "Átlag alatti foglalás",
                                    "FOGLALAS_PK": "642",
                                    "UGYFEL_FK": "maria1",
                                    "vendeg_nev": "Baráth Mária",
                                    "FELNOTT_SZAM": "2",
                                    "GYERMEK_SZAM": "0",
                                    "osszfo": "2",
                                    "Előző három foglalás átlaga": "NULL"
                                },
                                {
                                    "tipus": "Átlag alatti foglalás",
                                    "FOGLALAS_PK": "652",
                                    "UGYFEL_FK": "maria1",
                                    "vendeg_nev": "Baráth Mária",
                                    "FELNOTT_SZAM": "1",
                                    "GYERMEK_SZAM": "0",
                                    "osszfo": "1",
                                    "Előző három foglalás átlaga": "2.000000"
                                },
                                {
                                    "tipus": "Átlag alatti foglalás",
                                    "FOGLALAS_PK": "1567",
                                    "UGYFEL_FK": "maria1",
                                    "vendeg_nev": "Baráth Mária",
                                    "FELNOTT_SZAM": "2",
                                    "GYERMEK_SZAM": "0",
                                    "osszfo": "2",
                                    "Előző három foglalás átlaga": "2.000000"
                                },
                                {
                                    "tipus": "Átlag alatti foglalás",
                                    "FOGLALAS_PK": "1172",
                                    "UGYFEL_FK": "mark",
                                    "vendeg_nev": "Kispál Márk",
                                    "FELNOTT_SZAM": "1",
                                    "GYERMEK_SZAM": "0",
                                    "osszfo": "1",
                                    "Előző három foglalás átlaga": "3.333333"
                                },
                                {
                                    "tipus": "Átlag alatti foglalás",
                                    "FOGLALAS_PK": "1293",
                                    "UGYFEL_FK": "mark",
                                    "vendeg_nev": "Kispál Márk",
                                    "FELNOTT_SZAM": "2",
                                    "GYERMEK_SZAM": "0",
                                    "osszfo": "2",
                                    "Előző három foglalás átlaga": "2.333333"
                                },
                                {
                                    "tipus": "Átlag alatti foglalás",
                                    "FOGLALAS_PK": "1076",
                                    "UGYFEL_FK": "MARKH",
                                    "vendeg_nev": "Horváth Márk",
                                    "FELNOTT_SZAM": "2",
                                    "GYERMEK_SZAM": "0",
                                    "osszfo": "2",
                                    "Előző három foglalás átlaga": "3.000000"
                                },
                                {
                                    "tipus": "Átlag alatti foglalás",
                                    "FOGLALAS_PK": "1042",
                                    "UGYFEL_FK": "marton",
                                    "vendeg_nev": "Kalacsi Márton",
                                    "FELNOTT_SZAM": "1",
                                    "GYERMEK_SZAM": "1",
                                    "osszfo": "2",
                                    "Előző három foglalás átlaga": "2.333333"
                                },
                                {
                                    "tipus": "Átlag alatti foglalás",
                                    "FOGLALAS_PK": "1582",
                                    "UGYFEL_FK": "marton",
                                    "vendeg_nev": "Kalacsi Márton",
                                    "FELNOTT_SZAM": "2",
                                    "GYERMEK_SZAM": "0",
                                    "osszfo": "2",
                                    "Előző három foglalás átlaga": "2.333333"
                                },
                                {
                                    "tipus": "Átlag alatti foglalás",
                                    "FOGLALAS_PK": "620",
                                    "UGYFEL_FK": "marton",
                                    "vendeg_nev": "Kalacsi Márton",
                                    "FELNOTT_SZAM": "1",
                                    "GYERMEK_SZAM": "0",
                                    "osszfo": "1",
                                    "Előző három foglalás átlaga": "3.000000"
                                },
                                {
                                    "tipus": "Átlag alatti foglalás",
                                    "FOGLALAS_PK": "769",
                                    "UGYFEL_FK": "marton",
                                    "vendeg_nev": "Kalacsi Márton",
                                    "FELNOTT_SZAM": "2",
                                    "GYERMEK_SZAM": "0",
                                    "osszfo": "2",
                                    "Előző három foglalás átlaga": "2.000000"
                                },
                                {
                                    "tipus": "Átlag alatti foglalás",
                                    "FOGLALAS_PK": "979",
                                    "UGYFEL_FK": "marton",
                                    "vendeg_nev": "Kalacsi Márton",
                                    "FELNOTT_SZAM": "1",
                                    "GYERMEK_SZAM": "1",
                                    "osszfo": "2",
                                    "Előző három foglalás átlaga": "2.000000"
                                },
                                {
                                    "tipus": "Átlag alatti foglalás",
                                    "FOGLALAS_PK": "1446",
                                    "UGYFEL_FK": "MATEK",
                                    "vendeg_nev": "Koza Máté",
                                    "FELNOTT_SZAM": "2",
                                    "GYERMEK_SZAM": "0",
                                    "osszfo": "2",
                                    "Előző három foglalás átlaga": "3.000000"
                                },
                                {
                                    "tipus": "Átlag alatti foglalás",
                                    "FOGLALAS_PK": "1107",
                                    "UGYFEL_FK": "MATEK",
                                    "vendeg_nev": "Koza Máté",
                                    "FELNOTT_SZAM": "1",
                                    "GYERMEK_SZAM": "1",
                                    "osszfo": "2",
                                    "Előző három foglalás átlaga": "4.000000"
                                },
                                {
                                    "tipus": "Átlag alatti foglalás",
                                    "FOGLALAS_PK": "664",
                                    "UGYFEL_FK": "matyas2",
                                    "vendeg_nev": "Botka Mátyás",
                                    "FELNOTT_SZAM": "1",
                                    "GYERMEK_SZAM": "1",
                                    "osszfo": "2",
                                    "Előző három foglalás átlaga": "NULL"
                                },
                                {
                                    "tipus": "Átlag alatti foglalás",
                                    "FOGLALAS_PK": "636",
                                    "UGYFEL_FK": "MATYASS",
                                    "vendeg_nev": "Szilágyi Mátyás",
                                    "FELNOTT_SZAM": "2",
                                    "GYERMEK_SZAM": "0",
                                    "osszfo": "2",
                                    "Előző három foglalás átlaga": "NULL"
                                },
                                {
                                    "tipus": "Átlag alatti foglalás",
                                    "FOGLALAS_PK": "891",
                                    "UGYFEL_FK": "MATYASS",
                                    "vendeg_nev": "Szilágyi Mátyás",
                                    "FELNOTT_SZAM": "1",
                                    "GYERMEK_SZAM": "0",
                                    "osszfo": "1",
                                    "Előző három foglalás átlaga": "2.500000"
                                },
                                {
                                    "tipus": "Átlag alatti foglalás",
                                    "FOGLALAS_PK": "1190",
                                    "UGYFEL_FK": "MATYASS",
                                    "vendeg_nev": "Szilágyi Mátyás",
                                    "FELNOTT_SZAM": "1",
                                    "GYERMEK_SZAM": "0",
                                    "osszfo": "1",
                                    "Előző három foglalás átlaga": "2.333333"
                                },
                                {
                                    "tipus": "Átlag alatti foglalás",
                                    "FOGLALAS_PK": "1429",
                                    "UGYFEL_FK": "MATYASS",
                                    "vendeg_nev": "Szilágyi Mátyás",
                                    "FELNOTT_SZAM": "2",
                                    "GYERMEK_SZAM": "0",
                                    "osszfo": "2",
                                    "Előző három foglalás átlaga": "2.000000"
                                },
                                {
                                    "tipus": "Átlag alatti foglalás",
                                    "FOGLALAS_PK": "1380",
                                    "UGYFEL_FK": "MATYASS",
                                    "vendeg_nev": "Szilágyi Mátyás",
                                    "FELNOTT_SZAM": "2",
                                    "GYERMEK_SZAM": "0",
                                    "osszfo": "2",
                                    "Előző három foglalás átlaga": "2.333333"
                                },
                                {
                                    "tipus": "Átlag alatti foglalás",
                                    "FOGLALAS_PK": "875",
                                    "UGYFEL_FK": "MIHALYJ",
                                    "vendeg_nev": "Juhász Mihály",
                                    "FELNOTT_SZAM": "2",
                                    "GYERMEK_SZAM": "0",
                                    "osszfo": "2",
                                    "Előző három foglalás átlaga": "1.000000"
                                },
                                {
                                    "tipus": "Átlag alatti foglalás",
                                    "FOGLALAS_PK": "839",
                                    "UGYFEL_FK": "MIHALYJ",
                                    "vendeg_nev": "Juhász Mihály",
                                    "FELNOTT_SZAM": "1",
                                    "GYERMEK_SZAM": "0",
                                    "osszfo": "1",
                                    "Előző három foglalás átlaga": "NULL"
                                },
                                {
                                    "tipus": "Átlag alatti foglalás",
                                    "FOGLALAS_PK": "990",
                                    "UGYFEL_FK": "MIHALYJ",
                                    "vendeg_nev": "Juhász Mihály",
                                    "FELNOTT_SZAM": "1",
                                    "GYERMEK_SZAM": "0",
                                    "osszfo": "1",
                                    "Előző három foglalás átlaga": "1.500000"
                                },
                                {
                                    "tipus": "Átlag alatti foglalás",
                                    "FOGLALAS_PK": "1134",
                                    "UGYFEL_FK": "miklos2",
                                    "vendeg_nev": "Gondos Miklós",
                                    "FELNOTT_SZAM": "1",
                                    "GYERMEK_SZAM": "0",
                                    "osszfo": "1",
                                    "Előző három foglalás átlaga": "3.000000"
                                },
                                {
                                    "tipus": "Átlag alatti foglalás",
                                    "FOGLALAS_PK": "1344",
                                    "UGYFEL_FK": "MIKLOSB",
                                    "vendeg_nev": "Balla Miklós",
                                    "FELNOTT_SZAM": "1",
                                    "GYERMEK_SZAM": "1",
                                    "osszfo": "2",
                                    "Előző három foglalás átlaga": "2.000000"
                                },
                                {
                                    "tipus": "Átlag alatti foglalás",
                                    "FOGLALAS_PK": "987",
                                    "UGYFEL_FK": "MIKLOSB",
                                    "vendeg_nev": "Balla Miklós",
                                    "FELNOTT_SZAM": "1",
                                    "GYERMEK_SZAM": "1",
                                    "osszfo": "2",
                                    "Előző három foglalás átlaga": "2.000000"
                                },
                                {
                                    "tipus": "Átlag alatti foglalás",
                                    "FOGLALAS_PK": "687",
                                    "UGYFEL_FK": "MIKLOSB",
                                    "vendeg_nev": "Balla Miklós",
                                    "FELNOTT_SZAM": "1",
                                    "GYERMEK_SZAM": "1",
                                    "osszfo": "2",
                                    "Előző három foglalás átlaga": "NULL"
                                },
                                {
                                    "tipus": "Átlag alatti foglalás",
                                    "FOGLALAS_PK": "708",
                                    "UGYFEL_FK": "MONIKAM",
                                    "vendeg_nev": "Mohos Mónika",
                                    "FELNOTT_SZAM": "1",
                                    "GYERMEK_SZAM": "0",
                                    "osszfo": "1",
                                    "Előző három foglalás átlaga": "2.000000"
                                },
                                {
                                    "tipus": "Átlag alatti foglalás",
                                    "FOGLALAS_PK": "609",
                                    "UGYFEL_FK": "MONIKAM",
                                    "vendeg_nev": "Mohos Mónika",
                                    "FELNOTT_SZAM": "2",
                                    "GYERMEK_SZAM": "0",
                                    "osszfo": "2",
                                    "Előző három foglalás átlaga": "NULL"
                                },
                                {
                                    "tipus": "Átlag alatti foglalás",
                                    "FOGLALAS_PK": "1450",
                                    "UGYFEL_FK": "MONIKAM",
                                    "vendeg_nev": "Mohos Mónika",
                                    "FELNOTT_SZAM": "1",
                                    "GYERMEK_SZAM": "0",
                                    "osszfo": "1",
                                    "Előző három foglalás átlaga": "1.666666"
                                },
                                {
                                    "tipus": "Átlag alatti foglalás",
                                    "FOGLALAS_PK": "1506",
                                    "UGYFEL_FK": "MONIKAM",
                                    "vendeg_nev": "Mohos Mónika",
                                    "FELNOTT_SZAM": "1",
                                    "GYERMEK_SZAM": "1",
                                    "osszfo": "2",
                                    "Előző három foglalás átlaga": "1.333333"
                                },
                                {
                                    "tipus": "Átlag alatti foglalás",
                                    "FOGLALAS_PK": "1562",
                                    "UGYFEL_FK": "MONIKAM",
                                    "vendeg_nev": "Mohos Mónika",
                                    "FELNOTT_SZAM": "1",
                                    "GYERMEK_SZAM": "1",
                                    "osszfo": "2",
                                    "Előző három foglalás átlaga": "1.666666"
                                },
                                {
                                    "tipus": "Átlag alatti foglalás",
                                    "FOGLALAS_PK": "1267",
                                    "UGYFEL_FK": "MONIKAM",
                                    "vendeg_nev": "Mohos Mónika",
                                    "FELNOTT_SZAM": "1",
                                    "GYERMEK_SZAM": "1",
                                    "osszfo": "2",
                                    "Előző három foglalás átlaga": "1.500000"
                                },
                                {
                                    "tipus": "Átlag alatti foglalás",
                                    "FOGLALAS_PK": "976",
                                    "UGYFEL_FK": "nikolett3",
                                    "vendeg_nev": "Horváth Nikolett",
                                    "FELNOTT_SZAM": "1",
                                    "GYERMEK_SZAM": "0",
                                    "osszfo": "1",
                                    "Előző három foglalás átlaga": "1.500000"
                                },
                                {
                                    "tipus": "Átlag alatti foglalás",
                                    "FOGLALAS_PK": "853",
                                    "UGYFEL_FK": "nikolett3",
                                    "vendeg_nev": "Horváth Nikolett",
                                    "FELNOTT_SZAM": "2",
                                    "GYERMEK_SZAM": "0",
                                    "osszfo": "2",
                                    "Előző három foglalás átlaga": "NULL"
                                },
                                {
                                    "tipus": "Átlag alatti foglalás",
                                    "FOGLALAS_PK": "897",
                                    "UGYFEL_FK": "nikolett3",
                                    "vendeg_nev": "Horváth Nikolett",
                                    "FELNOTT_SZAM": "1",
                                    "GYERMEK_SZAM": "0",
                                    "osszfo": "1",
                                    "Előző három foglalás átlaga": "2.000000"
                                },
                                {
                                    "tipus": "Átlag alatti foglalás",
                                    "FOGLALAS_PK": "992",
                                    "UGYFEL_FK": "nikoletta4",
                                    "vendeg_nev": "Kő Nikoletta",
                                    "FELNOTT_SZAM": "2",
                                    "GYERMEK_SZAM": "0",
                                    "osszfo": "2",
                                    "Előző három foglalás átlaga": "2.666666"
                                },
                                {
                                    "tipus": "Átlag alatti foglalás",
                                    "FOGLALAS_PK": "564",
                                    "UGYFEL_FK": "nikoletta4",
                                    "vendeg_nev": "Kő Nikoletta",
                                    "FELNOTT_SZAM": "1",
                                    "GYERMEK_SZAM": "1",
                                    "osszfo": "2",
                                    "Előző három foglalás átlaga": "NULL"
                                },
                                {
                                    "tipus": "Átlag alatti foglalás",
                                    "FOGLALAS_PK": "634",
                                    "UGYFEL_FK": "nikoletta4",
                                    "vendeg_nev": "Kő Nikoletta",
                                    "FELNOTT_SZAM": "1",
                                    "GYERMEK_SZAM": "1",
                                    "osszfo": "2",
                                    "Előző három foglalás átlaga": "2.000000"
                                },
                                {
                                    "tipus": "Átlag alatti foglalás",
                                    "FOGLALAS_PK": "1488",
                                    "UGYFEL_FK": "nikoletta4",
                                    "vendeg_nev": "Kő Nikoletta",
                                    "FELNOTT_SZAM": "2",
                                    "GYERMEK_SZAM": "0",
                                    "osszfo": "2",
                                    "Előző három foglalás átlaga": "3.333333"
                                },
                                {
                                    "tipus": "Átlag alatti foglalás",
                                    "FOGLALAS_PK": "1073",
                                    "UGYFEL_FK": "NIKOLETTAT",
                                    "vendeg_nev": "Tatár Nikoletta",
                                    "FELNOTT_SZAM": "2",
                                    "GYERMEK_SZAM": "0",
                                    "osszfo": "2",
                                    "Előző három foglalás átlaga": "3.333333"
                                },
                                {
                                    "tipus": "Átlag alatti foglalás",
                                    "FOGLALAS_PK": "928",
                                    "UGYFEL_FK": "NIKOLETTAT",
                                    "vendeg_nev": "Tatár Nikoletta",
                                    "FELNOTT_SZAM": "2",
                                    "GYERMEK_SZAM": "0",
                                    "osszfo": "2",
                                    "Előző három foglalás átlaga": "4.000000"
                                },
                                {
                                    "tipus": "Átlag alatti foglalás",
                                    "FOGLALAS_PK": "1018",
                                    "UGYFEL_FK": "norbert",
                                    "vendeg_nev": "Szűcs Norbert",
                                    "FELNOTT_SZAM": "1",
                                    "GYERMEK_SZAM": "0",
                                    "osszfo": "1",
                                    "Előző három foglalás átlaga": "NULL"
                                },
                                {
                                    "tipus": "Átlag alatti foglalás",
                                    "FOGLALAS_PK": "1576",
                                    "UGYFEL_FK": "norbert",
                                    "vendeg_nev": "Szűcs Norbert",
                                    "FELNOTT_SZAM": "1",
                                    "GYERMEK_SZAM": "0",
                                    "osszfo": "1",
                                    "Előző három foglalás átlaga": "2.666666"
                                },
                                {
                                    "tipus": "Átlag alatti foglalás",
                                    "FOGLALAS_PK": "1365",
                                    "UGYFEL_FK": "norbert",
                                    "vendeg_nev": "Szűcs Norbert",
                                    "FELNOTT_SZAM": "1",
                                    "GYERMEK_SZAM": "1",
                                    "osszfo": "2",
                                    "Előző három foglalás átlaga": "2.000000"
                                },
                                {
                                    "tipus": "Átlag alatti foglalás",
                                    "FOGLALAS_PK": "1233",
                                    "UGYFEL_FK": "norbert2",
                                    "vendeg_nev": "Hegedűs Norbert",
                                    "FELNOTT_SZAM": "1",
                                    "GYERMEK_SZAM": "1",
                                    "osszfo": "2",
                                    "Előző három foglalás átlaga": "2.000000"
                                },
                                {
                                    "tipus": "Átlag alatti foglalás",
                                    "FOGLALAS_PK": "782",
                                    "UGYFEL_FK": "norbert2",
                                    "vendeg_nev": "Hegedűs Norbert",
                                    "FELNOTT_SZAM": "1",
                                    "GYERMEK_SZAM": "0",
                                    "osszfo": "1",
                                    "Előző három foglalás átlaga": "1.666666"
                                },
                                {
                                    "tipus": "Átlag alatti foglalás",
                                    "FOGLALAS_PK": "632",
                                    "UGYFEL_FK": "norbert2",
                                    "vendeg_nev": "Hegedűs Norbert",
                                    "FELNOTT_SZAM": "2",
                                    "GYERMEK_SZAM": "0",
                                    "osszfo": "2",
                                    "Előző három foglalás átlaga": "1.000000"
                                },
                                {
                                    "tipus": "Átlag alatti foglalás",
                                    "FOGLALAS_PK": "587",
                                    "UGYFEL_FK": "norbert2",
                                    "vendeg_nev": "Hegedűs Norbert",
                                    "FELNOTT_SZAM": "1",
                                    "GYERMEK_SZAM": "0",
                                    "osszfo": "1",
                                    "Előző három foglalás átlaga": "NULL"
                                },
                                {
                                    "tipus": "Átlag alatti foglalás",
                                    "FOGLALAS_PK": "724",
                                    "UGYFEL_FK": "norbert2",
                                    "vendeg_nev": "Hegedűs Norbert",
                                    "FELNOTT_SZAM": "2",
                                    "GYERMEK_SZAM": "0",
                                    "osszfo": "2",
                                    "Előző három foglalás átlaga": "1.500000"
                                },
                                {
                                    "tipus": "Átlag alatti foglalás",
                                    "FOGLALAS_PK": "569",
                                    "UGYFEL_FK": "norbert4",
                                    "vendeg_nev": "Mile Norbert",
                                    "FELNOTT_SZAM": "2",
                                    "GYERMEK_SZAM": "0",
                                    "osszfo": "2",
                                    "Előző három foglalás átlaga": "NULL"
                                },
                                {
                                    "tipus": "Átlag alatti foglalás",
                                    "FOGLALAS_PK": "1583",
                                    "UGYFEL_FK": "norbert4",
                                    "vendeg_nev": "Mile Norbert",
                                    "FELNOTT_SZAM": "1",
                                    "GYERMEK_SZAM": "1",
                                    "osszfo": "2",
                                    "Előző három foglalás átlaga": "2.333333"
                                },
                                {
                                    "tipus": "Átlag alatti foglalás",
                                    "FOGLALAS_PK": "1541",
                                    "UGYFEL_FK": "norbert4",
                                    "vendeg_nev": "Mile Norbert",
                                    "FELNOTT_SZAM": "1",
                                    "GYERMEK_SZAM": "0",
                                    "osszfo": "1",
                                    "Előző három foglalás átlaga": "3.000000"
                                },
                                {
                                    "tipus": "Átlag alatti foglalás",
                                    "FOGLALAS_PK": "1252",
                                    "UGYFEL_FK": "norbert5",
                                    "vendeg_nev": "Béres Norbert",
                                    "FELNOTT_SZAM": "1",
                                    "GYERMEK_SZAM": "0",
                                    "osszfo": "1",
                                    "Előző három foglalás átlaga": "2.000000"
                                },
                                {
                                    "tipus": "Átlag alatti foglalás",
                                    "FOGLALAS_PK": "766",
                                    "UGYFEL_FK": "norbert5",
                                    "vendeg_nev": "Béres Norbert",
                                    "FELNOTT_SZAM": "2",
                                    "GYERMEK_SZAM": "0",
                                    "osszfo": "2",
                                    "Előző három foglalás átlaga": "NULL"
                                },
                                {
                                    "tipus": "Átlag alatti foglalás",
                                    "FOGLALAS_PK": "984",
                                    "UGYFEL_FK": "norbert5",
                                    "vendeg_nev": "Béres Norbert",
                                    "FELNOTT_SZAM": "1",
                                    "GYERMEK_SZAM": "1",
                                    "osszfo": "2",
                                    "Előző három foglalás átlaga": "2.000000"
                                },
                                {
                                    "tipus": "Átlag alatti foglalás",
                                    "FOGLALAS_PK": "1058",
                                    "UGYFEL_FK": "pal",
                                    "vendeg_nev": "Barabás Pál",
                                    "FELNOTT_SZAM": "2",
                                    "GYERMEK_SZAM": "0",
                                    "osszfo": "2",
                                    "Előző három foglalás átlaga": "3.000000"
                                },
                                {
                                    "tipus": "Átlag alatti foglalás",
                                    "FOGLALAS_PK": "1146",
                                    "UGYFEL_FK": "peter2",
                                    "vendeg_nev": "Bozsó Péter",
                                    "FELNOTT_SZAM": "2",
                                    "GYERMEK_SZAM": "0",
                                    "osszfo": "2",
                                    "Előző három foglalás átlaga": "2.000000"
                                },
                                {
                                    "tipus": "Átlag alatti foglalás",
                                    "FOGLALAS_PK": "1236",
                                    "UGYFEL_FK": "peter2",
                                    "vendeg_nev": "Bozsó Péter",
                                    "FELNOTT_SZAM": "2",
                                    "GYERMEK_SZAM": "0",
                                    "osszfo": "2",
                                    "Előző három foglalás átlaga": "2.000000"
                                },
                                {
                                    "tipus": "Átlag alatti foglalás",
                                    "FOGLALAS_PK": "1004",
                                    "UGYFEL_FK": "peter2",
                                    "vendeg_nev": "Bozsó Péter",
                                    "FELNOTT_SZAM": "1",
                                    "GYERMEK_SZAM": "1",
                                    "osszfo": "2",
                                    "Előző három foglalás átlaga": "NULL"
                                },
                                {
                                    "tipus": "Átlag alatti foglalás",
                                    "FOGLALAS_PK": "1228",
                                    "UGYFEL_FK": "peter3",
                                    "vendeg_nev": "Szalai Péter",
                                    "FELNOTT_SZAM": "2",
                                    "GYERMEK_SZAM": "0",
                                    "osszfo": "2",
                                    "Előző három foglalás átlaga": "3.500000"
                                },
                                {
                                    "tipus": "Átlag alatti foglalás",
                                    "FOGLALAS_PK": "1557",
                                    "UGYFEL_FK": "peter3",
                                    "vendeg_nev": "Szalai Péter",
                                    "FELNOTT_SZAM": "2",
                                    "GYERMEK_SZAM": "0",
                                    "osszfo": "2",
                                    "Előző három foglalás átlaga": "1.333333"
                                },
                                {
                                    "tipus": "Átlag alatti foglalás",
                                    "FOGLALAS_PK": "1396",
                                    "UGYFEL_FK": "peter3",
                                    "vendeg_nev": "Szalai Péter",
                                    "FELNOTT_SZAM": "1",
                                    "GYERMEK_SZAM": "0",
                                    "osszfo": "1",
                                    "Előző három foglalás átlaga": "3.000000"
                                },
                                {
                                    "tipus": "Átlag alatti foglalás",
                                    "FOGLALAS_PK": "1434",
                                    "UGYFEL_FK": "peter3",
                                    "vendeg_nev": "Szalai Péter",
                                    "FELNOTT_SZAM": "1",
                                    "GYERMEK_SZAM": "0",
                                    "osszfo": "1",
                                    "Előző három foglalás átlaga": "2.000000"
                                },
                                {
                                    "tipus": "Átlag alatti foglalás",
                                    "FOGLALAS_PK": "1188",
                                    "UGYFEL_FK": "peter4",
                                    "vendeg_nev": "Bíró Péter",
                                    "FELNOTT_SZAM": "2",
                                    "GYERMEK_SZAM": "0",
                                    "osszfo": "2",
                                    "Előző három foglalás átlaga": "3.000000"
                                },
                                {
                                    "tipus": "Átlag alatti foglalás",
                                    "FOGLALAS_PK": "759",
                                    "UGYFEL_FK": "peter4",
                                    "vendeg_nev": "Bíró Péter",
                                    "FELNOTT_SZAM": "2",
                                    "GYERMEK_SZAM": "0",
                                    "osszfo": "2",
                                    "Előző három foglalás átlaga": "3.000000"
                                },
                                {
                                    "tipus": "Átlag alatti foglalás",
                                    "FOGLALAS_PK": "781",
                                    "UGYFEL_FK": "PETERB",
                                    "vendeg_nev": "Berendi Péter",
                                    "FELNOTT_SZAM": "1",
                                    "GYERMEK_SZAM": "0",
                                    "osszfo": "1",
                                    "Előző három foglalás átlaga": "1.500000"
                                },
                                {
                                    "tipus": "Átlag alatti foglalás",
                                    "FOGLALAS_PK": "694",
                                    "UGYFEL_FK": "PETERB",
                                    "vendeg_nev": "Berendi Péter",
                                    "FELNOTT_SZAM": "2",
                                    "GYERMEK_SZAM": "0",
                                    "osszfo": "2",
                                    "Előző három foglalás átlaga": "1.000000"
                                },
                                {
                                    "tipus": "Átlag alatti foglalás",
                                    "FOGLALAS_PK": "562",
                                    "UGYFEL_FK": "PETERB",
                                    "vendeg_nev": "Berendi Péter",
                                    "FELNOTT_SZAM": "1",
                                    "GYERMEK_SZAM": "0",
                                    "osszfo": "1",
                                    "Előző három foglalás átlaga": "NULL"
                                },
                                {
                                    "tipus": "Átlag alatti foglalás",
                                    "FOGLALAS_PK": "1287",
                                    "UGYFEL_FK": "PETERB",
                                    "vendeg_nev": "Berendi Péter",
                                    "FELNOTT_SZAM": "1",
                                    "GYERMEK_SZAM": "1",
                                    "osszfo": "2",
                                    "Előző három foglalás átlaga": "2.333333"
                                },
                                {
                                    "tipus": "Átlag alatti foglalás",
                                    "FOGLALAS_PK": "1517",
                                    "UGYFEL_FK": "polla",
                                    "vendeg_nev": "Palágyi Polla",
                                    "FELNOTT_SZAM": "2",
                                    "GYERMEK_SZAM": "0",
                                    "osszfo": "2",
                                    "Előző három foglalás átlaga": "2.666666"
                                },
                                {
                                    "tipus": "Átlag alatti foglalás",
                                    "FOGLALAS_PK": "1481",
                                    "UGYFEL_FK": "polla",
                                    "vendeg_nev": "Palágyi Polla",
                                    "FELNOTT_SZAM": "1",
                                    "GYERMEK_SZAM": "1",
                                    "osszfo": "2",
                                    "Előző három foglalás átlaga": "2.666666"
                                },
                                {
                                    "tipus": "Átlag alatti foglalás",
                                    "FOGLALAS_PK": "777",
                                    "UGYFEL_FK": "polla",
                                    "vendeg_nev": "Palágyi Polla",
                                    "FELNOTT_SZAM": "2",
                                    "GYERMEK_SZAM": "0",
                                    "osszfo": "2",
                                    "Előző három foglalás átlaga": "3.000000"
                                },
                                {
                                    "tipus": "Átlag alatti foglalás",
                                    "FOGLALAS_PK": "865",
                                    "UGYFEL_FK": "polla",
                                    "vendeg_nev": "Palágyi Polla",
                                    "FELNOTT_SZAM": "2",
                                    "GYERMEK_SZAM": "0",
                                    "osszfo": "2",
                                    "Előző három foglalás átlaga": "3.000000"
                                },
                                {
                                    "tipus": "Átlag alatti foglalás",
                                    "FOGLALAS_PK": "1284",
                                    "UGYFEL_FK": "rajmond4",
                                    "vendeg_nev": "Rácz Rajmond",
                                    "FELNOTT_SZAM": "2",
                                    "GYERMEK_SZAM": "0",
                                    "osszfo": "2",
                                    "Előző három foglalás átlaga": "3.333333"
                                },
                                {
                                    "tipus": "Átlag alatti foglalás",
                                    "FOGLALAS_PK": "1089",
                                    "UGYFEL_FK": "reka4",
                                    "vendeg_nev": "Szikszai Réka",
                                    "FELNOTT_SZAM": "1",
                                    "GYERMEK_SZAM": "1",
                                    "osszfo": "2",
                                    "Előző három foglalás átlaga": "3.000000"
                                },
                                {
                                    "tipus": "Átlag alatti foglalás",
                                    "FOGLALAS_PK": "1575",
                                    "UGYFEL_FK": "reka4",
                                    "vendeg_nev": "Szikszai Réka",
                                    "FELNOTT_SZAM": "1",
                                    "GYERMEK_SZAM": "1",
                                    "osszfo": "2",
                                    "Előző három foglalás átlaga": "3.000000"
                                },
                                {
                                    "tipus": "Átlag alatti foglalás",
                                    "FOGLALAS_PK": "721",
                                    "UGYFEL_FK": "reka4",
                                    "vendeg_nev": "Szikszai Réka",
                                    "FELNOTT_SZAM": "2",
                                    "GYERMEK_SZAM": "0",
                                    "osszfo": "2",
                                    "Előző három foglalás átlaga": "NULL"
                                },
                                {
                                    "tipus": "Átlag alatti foglalás",
                                    "FOGLALAS_PK": "1581",
                                    "UGYFEL_FK": "RENATAK",
                                    "vendeg_nev": "Kardos Renáta",
                                    "FELNOTT_SZAM": "1",
                                    "GYERMEK_SZAM": "0",
                                    "osszfo": "1",
                                    "Előző három foglalás átlaga": "1.666666"
                                },
                                {
                                    "tipus": "Átlag alatti foglalás",
                                    "FOGLALAS_PK": "1543",
                                    "UGYFEL_FK": "RENATAK",
                                    "vendeg_nev": "Kardos Renáta",
                                    "FELNOTT_SZAM": "1",
                                    "GYERMEK_SZAM": "0",
                                    "osszfo": "1",
                                    "Előző három foglalás átlaga": "1.666666"
                                },
                                {
                                    "tipus": "Átlag alatti foglalás",
                                    "FOGLALAS_PK": "1312",
                                    "UGYFEL_FK": "RENATAK",
                                    "vendeg_nev": "Kardos Renáta",
                                    "FELNOTT_SZAM": "1",
                                    "GYERMEK_SZAM": "0",
                                    "osszfo": "1",
                                    "Előző három foglalás átlaga": "2.500000"
                                },
                                {
                                    "tipus": "Átlag alatti foglalás",
                                    "FOGLALAS_PK": "1224",
                                    "UGYFEL_FK": "RENATAK",
                                    "vendeg_nev": "Kardos Renáta",
                                    "FELNOTT_SZAM": "1",
                                    "GYERMEK_SZAM": "0",
                                    "osszfo": "1",
                                    "Előző három foglalás átlaga": "4.000000"
                                },
                                {
                                    "tipus": "Átlag alatti foglalás",
                                    "FOGLALAS_PK": "1529",
                                    "UGYFEL_FK": "RENATAS",
                                    "vendeg_nev": "Szirmai Renáta",
                                    "FELNOTT_SZAM": "1",
                                    "GYERMEK_SZAM": "0",
                                    "osszfo": "1",
                                    "Előző három foglalás átlaga": "3.000000"
                                },
                                {
                                    "tipus": "Átlag alatti foglalás",
                                    "FOGLALAS_PK": "1532",
                                    "UGYFEL_FK": "RENATAS",
                                    "vendeg_nev": "Szirmai Renáta",
                                    "FELNOTT_SZAM": "2",
                                    "GYERMEK_SZAM": "0",
                                    "osszfo": "2",
                                    "Előző három foglalás átlaga": "2.666666"
                                },
                                {
                                    "tipus": "Átlag alatti foglalás",
                                    "FOGLALAS_PK": "619",
                                    "UGYFEL_FK": "RENATAS",
                                    "vendeg_nev": "Szirmai Renáta",
                                    "FELNOTT_SZAM": "1",
                                    "GYERMEK_SZAM": "1",
                                    "osszfo": "2",
                                    "Előző három foglalás átlaga": "NULL"
                                },
                                {
                                    "tipus": "Átlag alatti foglalás",
                                    "FOGLALAS_PK": "637",
                                    "UGYFEL_FK": "RENATAS",
                                    "vendeg_nev": "Szirmai Renáta",
                                    "FELNOTT_SZAM": "2",
                                    "GYERMEK_SZAM": "0",
                                    "osszfo": "2",
                                    "Előző három foglalás átlaga": "2.000000"
                                },
                                {
                                    "tipus": "Átlag alatti foglalás",
                                    "FOGLALAS_PK": "647",
                                    "UGYFEL_FK": "robert2",
                                    "vendeg_nev": "Patay Róbert",
                                    "FELNOTT_SZAM": "2",
                                    "GYERMEK_SZAM": "0",
                                    "osszfo": "2",
                                    "Előző három foglalás átlaga": "NULL"
                                },
                                {
                                    "tipus": "Átlag alatti foglalás",
                                    "FOGLALAS_PK": "802",
                                    "UGYFEL_FK": "robert2",
                                    "vendeg_nev": "Patay Róbert",
                                    "FELNOTT_SZAM": "1",
                                    "GYERMEK_SZAM": "1",
                                    "osszfo": "2",
                                    "Előző három foglalás átlaga": "2.000000"
                                },
                                {
                                    "tipus": "Átlag alatti foglalás",
                                    "FOGLALAS_PK": "1374",
                                    "UGYFEL_FK": "robert2",
                                    "vendeg_nev": "Patay Róbert",
                                    "FELNOTT_SZAM": "1",
                                    "GYERMEK_SZAM": "0",
                                    "osszfo": "1",
                                    "Előző három foglalás átlaga": "2.333333"
                                },
                                {
                                    "tipus": "Átlag alatti foglalás",
                                    "FOGLALAS_PK": "1545",
                                    "UGYFEL_FK": "ROBERTI",
                                    "vendeg_nev": "Iván Róbert",
                                    "FELNOTT_SZAM": "1",
                                    "GYERMEK_SZAM": "1",
                                    "osszfo": "2",
                                    "Előző három foglalás átlaga": "1.666666"
                                },
                                {
                                    "tipus": "Átlag alatti foglalás",
                                    "FOGLALAS_PK": "1197",
                                    "UGYFEL_FK": "ROBERTI",
                                    "vendeg_nev": "Iván Róbert",
                                    "FELNOTT_SZAM": "2",
                                    "GYERMEK_SZAM": "0",
                                    "osszfo": "2",
                                    "Előző három foglalás átlaga": "2.000000"
                                },
                                {
                                    "tipus": "Átlag alatti foglalás",
                                    "FOGLALAS_PK": "1141",
                                    "UGYFEL_FK": "ROBERTI",
                                    "vendeg_nev": "Iván Róbert",
                                    "FELNOTT_SZAM": "2",
                                    "GYERMEK_SZAM": "0",
                                    "osszfo": "2",
                                    "Előző három foglalás átlaga": "3.000000"
                                },
                                {
                                    "tipus": "Átlag alatti foglalás",
                                    "FOGLALAS_PK": "1186",
                                    "UGYFEL_FK": "ROBERTI",
                                    "vendeg_nev": "Iván Róbert",
                                    "FELNOTT_SZAM": "1",
                                    "GYERMEK_SZAM": "0",
                                    "osszfo": "1",
                                    "Előző három foglalás átlaga": "3.000000"
                                },
                                {
                                    "tipus": "Átlag alatti foglalás",
                                    "FOGLALAS_PK": "791",
                                    "UGYFEL_FK": "ROBERTI",
                                    "vendeg_nev": "Iván Róbert",
                                    "FELNOTT_SZAM": "2",
                                    "GYERMEK_SZAM": "0",
                                    "osszfo": "2",
                                    "Előző három foglalás átlaga": "NULL"
                                },
                                {
                                    "tipus": "Átlag alatti foglalás",
                                    "FOGLALAS_PK": "808",
                                    "UGYFEL_FK": "ROBERTI",
                                    "vendeg_nev": "Iván Róbert",
                                    "FELNOTT_SZAM": "2",
                                    "GYERMEK_SZAM": "0",
                                    "osszfo": "2",
                                    "Előző három foglalás átlaga": "2.000000"
                                },
                                {
                                    "tipus": "Átlag alatti foglalás",
                                    "FOGLALAS_PK": "739",
                                    "UGYFEL_FK": "ROBERTP",
                                    "vendeg_nev": "Pásztor Róbert",
                                    "FELNOTT_SZAM": "2",
                                    "GYERMEK_SZAM": "0",
                                    "osszfo": "2",
                                    "Előző három foglalás átlaga": "NULL"
                                },
                                {
                                    "tipus": "Átlag alatti foglalás",
                                    "FOGLALAS_PK": "848",
                                    "UGYFEL_FK": "roland",
                                    "vendeg_nev": "Tóth Roland",
                                    "FELNOTT_SZAM": "2",
                                    "GYERMEK_SZAM": "0",
                                    "osszfo": "2",
                                    "Előző három foglalás átlaga": "NULL"
                                },
                                {
                                    "tipus": "Átlag alatti foglalás",
                                    "FOGLALAS_PK": "1294",
                                    "UGYFEL_FK": "roland",
                                    "vendeg_nev": "Tóth Roland",
                                    "FELNOTT_SZAM": "1",
                                    "GYERMEK_SZAM": "1",
                                    "osszfo": "2",
                                    "Előző három foglalás átlaga": "2.666666"
                                },
                                {
                                    "tipus": "Átlag alatti foglalás",
                                    "FOGLALAS_PK": "1448",
                                    "UGYFEL_FK": "roland1",
                                    "vendeg_nev": "Ferencz Roland",
                                    "FELNOTT_SZAM": "2",
                                    "GYERMEK_SZAM": "0",
                                    "osszfo": "2",
                                    "Előző három foglalás átlaga": "2.333333"
                                },
                                {
                                    "tipus": "Átlag alatti foglalás",
                                    "FOGLALAS_PK": "1384",
                                    "UGYFEL_FK": "roland1",
                                    "vendeg_nev": "Ferencz Roland",
                                    "FELNOTT_SZAM": "1",
                                    "GYERMEK_SZAM": "0",
                                    "osszfo": "1",
                                    "Előző három foglalás átlaga": "3.000000"
                                },
                                {
                                    "tipus": "Átlag alatti foglalás",
                                    "FOGLALAS_PK": "1041",
                                    "UGYFEL_FK": "roza2",
                                    "vendeg_nev": "Bucskó Róza",
                                    "FELNOTT_SZAM": "1",
                                    "GYERMEK_SZAM": "1",
                                    "osszfo": "2",
                                    "Előző három foglalás átlaga": "NULL"
                                },
                                {
                                    "tipus": "Átlag alatti foglalás",
                                    "FOGLALAS_PK": "1010",
                                    "UGYFEL_FK": "sandor",
                                    "vendeg_nev": "Karasz Sándor",
                                    "FELNOTT_SZAM": "2",
                                    "GYERMEK_SZAM": "0",
                                    "osszfo": "2",
                                    "Előző három foglalás átlaga": "2.000000"
                                },
                                {
                                    "tipus": "Átlag alatti foglalás",
                                    "FOGLALAS_PK": "800",
                                    "UGYFEL_FK": "sandor",
                                    "vendeg_nev": "Karasz Sándor",
                                    "FELNOTT_SZAM": "2",
                                    "GYERMEK_SZAM": "0",
                                    "osszfo": "2",
                                    "Előző három foglalás átlaga": "2.000000"
                                },
                                {
                                    "tipus": "Átlag alatti foglalás",
                                    "FOGLALAS_PK": "686",
                                    "UGYFEL_FK": "sandor",
                                    "vendeg_nev": "Karasz Sándor",
                                    "FELNOTT_SZAM": "1",
                                    "GYERMEK_SZAM": "1",
                                    "osszfo": "2",
                                    "Előző három foglalás átlaga": "NULL"
                                },
                                {
                                    "tipus": "Átlag alatti foglalás",
                                    "FOGLALAS_PK": "640",
                                    "UGYFEL_FK": "sandor3",
                                    "vendeg_nev": "Farkas Sándor",
                                    "FELNOTT_SZAM": "2",
                                    "GYERMEK_SZAM": "0",
                                    "osszfo": "2",
                                    "Előző három foglalás átlaga": "NULL"
                                },
                                {
                                    "tipus": "Átlag alatti foglalás",
                                    "FOGLALAS_PK": "858",
                                    "UGYFEL_FK": "sandor3",
                                    "vendeg_nev": "Farkas Sándor",
                                    "FELNOTT_SZAM": "1",
                                    "GYERMEK_SZAM": "0",
                                    "osszfo": "1",
                                    "Előző három foglalás átlaga": "2.000000"
                                },
                                {
                                    "tipus": "Átlag alatti foglalás",
                                    "FOGLALAS_PK": "1272",
                                    "UGYFEL_FK": "sandor3",
                                    "vendeg_nev": "Farkas Sándor",
                                    "FELNOTT_SZAM": "1",
                                    "GYERMEK_SZAM": "1",
                                    "osszfo": "2",
                                    "Előző három foglalás átlaga": "2.000000"
                                },
                                {
                                    "tipus": "Átlag alatti foglalás",
                                    "FOGLALAS_PK": "1138",
                                    "UGYFEL_FK": "sandor3",
                                    "vendeg_nev": "Farkas Sándor",
                                    "FELNOTT_SZAM": "2",
                                    "GYERMEK_SZAM": "0",
                                    "osszfo": "2",
                                    "Előző három foglalás átlaga": "1.500000"
                                },
                                {
                                    "tipus": "Átlag alatti foglalás",
                                    "FOGLALAS_PK": "1156",
                                    "UGYFEL_FK": "sandor4",
                                    "vendeg_nev": "Nagy Sándor",
                                    "FELNOTT_SZAM": "1",
                                    "GYERMEK_SZAM": "0",
                                    "osszfo": "1",
                                    "Előző három foglalás átlaga": "NULL"
                                },
                                {
                                    "tipus": "Átlag alatti foglalás",
                                    "FOGLALAS_PK": "1331",
                                    "UGYFEL_FK": "sandor4",
                                    "vendeg_nev": "Nagy Sándor",
                                    "FELNOTT_SZAM": "2",
                                    "GYERMEK_SZAM": "0",
                                    "osszfo": "2",
                                    "Előző három foglalás átlaga": "1.000000"
                                },
                                {
                                    "tipus": "Átlag alatti foglalás",
                                    "FOGLALAS_PK": "1339",
                                    "UGYFEL_FK": "sandor4",
                                    "vendeg_nev": "Nagy Sándor",
                                    "FELNOTT_SZAM": "1",
                                    "GYERMEK_SZAM": "0",
                                    "osszfo": "1",
                                    "Előző három foglalás átlaga": "1.500000"
                                },
                                {
                                    "tipus": "Átlag alatti foglalás",
                                    "FOGLALAS_PK": "1465",
                                    "UGYFEL_FK": "sandor4",
                                    "vendeg_nev": "Nagy Sándor",
                                    "FELNOTT_SZAM": "2",
                                    "GYERMEK_SZAM": "0",
                                    "osszfo": "2",
                                    "Előző három foglalás átlaga": "1.333333"
                                },
                                {
                                    "tipus": "Átlag alatti foglalás",
                                    "FOGLALAS_PK": "1351",
                                    "UGYFEL_FK": "sara",
                                    "vendeg_nev": "Farkas Sára",
                                    "FELNOTT_SZAM": "1",
                                    "GYERMEK_SZAM": "0",
                                    "osszfo": "1",
                                    "Előző három foglalás átlaga": "3.000000"
                                },
                                {
                                    "tipus": "Átlag alatti foglalás",
                                    "FOGLALAS_PK": "1390",
                                    "UGYFEL_FK": "sara",
                                    "vendeg_nev": "Farkas Sára",
                                    "FELNOTT_SZAM": "1",
                                    "GYERMEK_SZAM": "1",
                                    "osszfo": "2",
                                    "Előző három foglalás átlaga": "2.666666"
                                },
                                {
                                    "tipus": "Átlag alatti foglalás",
                                    "FOGLALAS_PK": "1212",
                                    "UGYFEL_FK": "sara",
                                    "vendeg_nev": "Farkas Sára",
                                    "FELNOTT_SZAM": "2",
                                    "GYERMEK_SZAM": "0",
                                    "osszfo": "2",
                                    "Előző három foglalás átlaga": "2.666666"
                                },
                                {
                                    "tipus": "Átlag alatti foglalás",
                                    "FOGLALAS_PK": "866",
                                    "UGYFEL_FK": "sara",
                                    "vendeg_nev": "Farkas Sára",
                                    "FELNOTT_SZAM": "1",
                                    "GYERMEK_SZAM": "1",
                                    "osszfo": "2",
                                    "Előző három foglalás átlaga": "3.000000"
                                },
                                {
                                    "tipus": "Átlag alatti foglalás",
                                    "FOGLALAS_PK": "882",
                                    "UGYFEL_FK": "sara",
                                    "vendeg_nev": "Farkas Sára",
                                    "FELNOTT_SZAM": "2",
                                    "GYERMEK_SZAM": "0",
                                    "osszfo": "2",
                                    "Előző három foglalás átlaga": "2.666666"
                                },
                                {
                                    "tipus": "Átlag alatti foglalás",
                                    "FOGLALAS_PK": "910",
                                    "UGYFEL_FK": "sara",
                                    "vendeg_nev": "Farkas Sára",
                                    "FELNOTT_SZAM": "2",
                                    "GYERMEK_SZAM": "0",
                                    "osszfo": "2",
                                    "Előző három foglalás átlaga": "2.333333"
                                },
                                {
                                    "tipus": "Átlag alatti foglalás",
                                    "FOGLALAS_PK": "560",
                                    "UGYFEL_FK": "SEBASTIANF",
                                    "vendeg_nev": "Foltényi Sebastián",
                                    "FELNOTT_SZAM": "2",
                                    "GYERMEK_SZAM": "0",
                                    "osszfo": "2",
                                    "Előző három foglalás átlaga": "NULL"
                                },
                                {
                                    "tipus": "Átlag alatti foglalás",
                                    "FOGLALAS_PK": "680",
                                    "UGYFEL_FK": "SEBASTIANF",
                                    "vendeg_nev": "Foltényi Sebastián",
                                    "FELNOTT_SZAM": "1",
                                    "GYERMEK_SZAM": "1",
                                    "osszfo": "2",
                                    "Előző három foglalás átlaga": "2.000000"
                                },
                                {
                                    "tipus": "Átlag alatti foglalás",
                                    "FOGLALAS_PK": "1343",
                                    "UGYFEL_FK": "szabolcs",
                                    "vendeg_nev": "Bodor Szabolcs",
                                    "FELNOTT_SZAM": "1",
                                    "GYERMEK_SZAM": "1",
                                    "osszfo": "2",
                                    "Előző három foglalás átlaga": "NULL"
                                },
                                {
                                    "tipus": "Átlag alatti foglalás",
                                    "FOGLALAS_PK": "1424",
                                    "UGYFEL_FK": "SZABOLCSM",
                                    "vendeg_nev": "Miklós Szabolcs",
                                    "FELNOTT_SZAM": "2",
                                    "GYERMEK_SZAM": "0",
                                    "osszfo": "2",
                                    "Előző három foglalás átlaga": "2.333333"
                                },
                                {
                                    "tipus": "Átlag alatti foglalás",
                                    "FOGLALAS_PK": "1276",
                                    "UGYFEL_FK": "SZABOLCSM",
                                    "vendeg_nev": "Miklós Szabolcs",
                                    "FELNOTT_SZAM": "2",
                                    "GYERMEK_SZAM": "0",
                                    "osszfo": "2",
                                    "Előző három foglalás átlaga": "2.666666"
                                },
                                {
                                    "tipus": "Átlag alatti foglalás",
                                    "FOGLALAS_PK": "1163",
                                    "UGYFEL_FK": "SZABOLCSM",
                                    "vendeg_nev": "Miklós Szabolcs",
                                    "FELNOTT_SZAM": "2",
                                    "GYERMEK_SZAM": "0",
                                    "osszfo": "2",
                                    "Előző három foglalás átlaga": "2.500000"
                                },
                                {
                                    "tipus": "Átlag alatti foglalás",
                                    "FOGLALAS_PK": "735",
                                    "UGYFEL_FK": "SZABOLCSM",
                                    "vendeg_nev": "Miklós Szabolcs",
                                    "FELNOTT_SZAM": "2",
                                    "GYERMEK_SZAM": "0",
                                    "osszfo": "2",
                                    "Előző három foglalás átlaga": "NULL"
                                },
                                {
                                    "tipus": "Átlag alatti foglalás",
                                    "FOGLALAS_PK": "1508",
                                    "UGYFEL_FK": "SZILARDS",
                                    "vendeg_nev": "Szalai Szilárd",
                                    "FELNOTT_SZAM": "1",
                                    "GYERMEK_SZAM": "0",
                                    "osszfo": "1",
                                    "Előző három foglalás átlaga": "3.000000"
                                },
                                {
                                    "tipus": "Átlag alatti foglalás",
                                    "FOGLALAS_PK": "1479",
                                    "UGYFEL_FK": "szilvia1",
                                    "vendeg_nev": "Tari Szilvia",
                                    "FELNOTT_SZAM": "1",
                                    "GYERMEK_SZAM": "1",
                                    "osszfo": "2",
                                    "Előző három foglalás átlaga": "3.000000"
                                },
                                {
                                    "tipus": "Átlag alatti foglalás",
                                    "FOGLALAS_PK": "1401",
                                    "UGYFEL_FK": "szilvia1",
                                    "vendeg_nev": "Tari Szilvia",
                                    "FELNOTT_SZAM": "2",
                                    "GYERMEK_SZAM": "0",
                                    "osszfo": "2",
                                    "Előző három foglalás átlaga": "3.333333"
                                },
                                {
                                    "tipus": "Átlag alatti foglalás",
                                    "FOGLALAS_PK": "1207",
                                    "UGYFEL_FK": "szilvia1",
                                    "vendeg_nev": "Tari Szilvia",
                                    "FELNOTT_SZAM": "1",
                                    "GYERMEK_SZAM": "1",
                                    "osszfo": "2",
                                    "Előző három foglalás átlaga": "2.666666"
                                },
                                {
                                    "tipus": "Átlag alatti foglalás",
                                    "FOGLALAS_PK": "715",
                                    "UGYFEL_FK": "szilvia1",
                                    "vendeg_nev": "Tari Szilvia",
                                    "FELNOTT_SZAM": "2",
                                    "GYERMEK_SZAM": "0",
                                    "osszfo": "2",
                                    "Előző három foglalás átlaga": "2.000000"
                                },
                                {
                                    "tipus": "Átlag alatti foglalás",
                                    "FOGLALAS_PK": "644",
                                    "UGYFEL_FK": "szilvia1",
                                    "vendeg_nev": "Tari Szilvia",
                                    "FELNOTT_SZAM": "2",
                                    "GYERMEK_SZAM": "0",
                                    "osszfo": "2",
                                    "Előző három foglalás átlaga": "NULL"
                                },
                                {
                                    "tipus": "Átlag alatti foglalás",
                                    "FOGLALAS_PK": "870",
                                    "UGYFEL_FK": "szilvia1",
                                    "vendeg_nev": "Tari Szilvia",
                                    "FELNOTT_SZAM": "1",
                                    "GYERMEK_SZAM": "1",
                                    "osszfo": "2",
                                    "Előző három foglalás átlaga": "2.000000"
                                },
                                {
                                    "tipus": "Átlag alatti foglalás",
                                    "FOGLALAS_PK": "1280",
                                    "UGYFEL_FK": "tamara2",
                                    "vendeg_nev": "Miklós Tamara",
                                    "FELNOTT_SZAM": "1",
                                    "GYERMEK_SZAM": "1",
                                    "osszfo": "2",
                                    "Előző három foglalás átlaga": "3.000000"
                                },
                                {
                                    "tipus": "Átlag alatti foglalás",
                                    "FOGLALAS_PK": "959",
                                    "UGYFEL_FK": "tamas",
                                    "vendeg_nev": "Antal Tamás",
                                    "FELNOTT_SZAM": "1",
                                    "GYERMEK_SZAM": "1",
                                    "osszfo": "2",
                                    "Előző három foglalás átlaga": "2.500000"
                                },
                                {
                                    "tipus": "Átlag alatti foglalás",
                                    "FOGLALAS_PK": "649",
                                    "UGYFEL_FK": "tamas",
                                    "vendeg_nev": "Antal Tamás",
                                    "FELNOTT_SZAM": "1",
                                    "GYERMEK_SZAM": "1",
                                    "osszfo": "2",
                                    "Előző három foglalás átlaga": "NULL"
                                },
                                {
                                    "tipus": "Átlag alatti foglalás",
                                    "FOGLALAS_PK": "618",
                                    "UGYFEL_FK": "TAMASF",
                                    "vendeg_nev": "Fényes Tamás",
                                    "FELNOTT_SZAM": "1",
                                    "GYERMEK_SZAM": "1",
                                    "osszfo": "2",
                                    "Előző három foglalás átlaga": "NULL"
                                },
                                {
                                    "tipus": "Átlag alatti foglalás",
                                    "FOGLALAS_PK": "1008",
                                    "UGYFEL_FK": "TAMASF",
                                    "vendeg_nev": "Fényes Tamás",
                                    "FELNOTT_SZAM": "2",
                                    "GYERMEK_SZAM": "0",
                                    "osszfo": "2",
                                    "Előző három foglalás átlaga": "2.666666"
                                },
                                {
                                    "tipus": "Átlag alatti foglalás",
                                    "FOGLALAS_PK": "1338",
                                    "UGYFEL_FK": "TAMASF",
                                    "vendeg_nev": "Fényes Tamás",
                                    "FELNOTT_SZAM": "1",
                                    "GYERMEK_SZAM": "0",
                                    "osszfo": "1",
                                    "Előző három foglalás átlaga": "2.666666"
                                },
                                {
                                    "tipus": "Átlag alatti foglalás",
                                    "FOGLALAS_PK": "1525",
                                    "UGYFEL_FK": "TAMASF",
                                    "vendeg_nev": "Fényes Tamás",
                                    "FELNOTT_SZAM": "1",
                                    "GYERMEK_SZAM": "1",
                                    "osszfo": "2",
                                    "Előző három foglalás átlaga": "2.333333"
                                },
                                {
                                    "tipus": "Átlag alatti foglalás",
                                    "FOGLALAS_PK": "1251",
                                    "UGYFEL_FK": "tibor",
                                    "vendeg_nev": "Gombos Tibor",
                                    "FELNOTT_SZAM": "1",
                                    "GYERMEK_SZAM": "0",
                                    "osszfo": "1",
                                    "Előző három foglalás átlaga": "2.000000"
                                },
                                {
                                    "tipus": "Átlag alatti foglalás",
                                    "FOGLALAS_PK": "1145",
                                    "UGYFEL_FK": "tibor",
                                    "vendeg_nev": "Gombos Tibor",
                                    "FELNOTT_SZAM": "1",
                                    "GYERMEK_SZAM": "1",
                                    "osszfo": "2",
                                    "Előző három foglalás átlaga": "NULL"
                                },
                                {
                                    "tipus": "Átlag alatti foglalás",
                                    "FOGLALAS_PK": "1170",
                                    "UGYFEL_FK": "tibor2",
                                    "vendeg_nev": "Dániel Tibor",
                                    "FELNOTT_SZAM": "2",
                                    "GYERMEK_SZAM": "0",
                                    "osszfo": "2",
                                    "Előző három foglalás átlaga": "NULL"
                                },
                                {
                                    "tipus": "Átlag alatti foglalás",
                                    "FOGLALAS_PK": "1166",
                                    "UGYFEL_FK": "tihamer",
                                    "vendeg_nev": "Kazy Tihamér",
                                    "FELNOTT_SZAM": "1",
                                    "GYERMEK_SZAM": "1",
                                    "osszfo": "2",
                                    "Előző három foglalás átlaga": "3.000000"
                                },
                                {
                                    "tipus": "Átlag alatti foglalás",
                                    "FOGLALAS_PK": "1389",
                                    "UGYFEL_FK": "tihamer",
                                    "vendeg_nev": "Kazy Tihamér",
                                    "FELNOTT_SZAM": "1",
                                    "GYERMEK_SZAM": "1",
                                    "osszfo": "2",
                                    "Előző három foglalás átlaga": "2.666666"
                                },
                                {
                                    "tipus": "Átlag alatti foglalás",
                                    "FOGLALAS_PK": "881",
                                    "UGYFEL_FK": "tihamer",
                                    "vendeg_nev": "Kazy Tihamér",
                                    "FELNOTT_SZAM": "1",
                                    "GYERMEK_SZAM": "0",
                                    "osszfo": "1",
                                    "Előző három foglalás átlaga": "3.000000"
                                },
                                {
                                    "tipus": "Átlag alatti foglalás",
                                    "FOGLALAS_PK": "1398",
                                    "UGYFEL_FK": "timea",
                                    "vendeg_nev": "Papós Tímea",
                                    "FELNOTT_SZAM": "1",
                                    "GYERMEK_SZAM": "1",
                                    "osszfo": "2",
                                    "Előző három foglalás átlaga": "NULL"
                                },
                                {
                                    "tipus": "Átlag alatti foglalás",
                                    "FOGLALAS_PK": "913",
                                    "UGYFEL_FK": "timea2",
                                    "vendeg_nev": "Dusha Tímea",
                                    "FELNOTT_SZAM": "1",
                                    "GYERMEK_SZAM": "1",
                                    "osszfo": "2",
                                    "Előző három foglalás átlaga": "3.000000"
                                },
                                {
                                    "tipus": "Átlag alatti foglalás",
                                    "FOGLALAS_PK": "849",
                                    "UGYFEL_FK": "tunde",
                                    "vendeg_nev": "Turcsik Tünde",
                                    "FELNOTT_SZAM": "2",
                                    "GYERMEK_SZAM": "0",
                                    "osszfo": "2",
                                    "Előző három foglalás átlaga": "1.000000"
                                },
                                {
                                    "tipus": "Átlag alatti foglalás",
                                    "FOGLALAS_PK": "669",
                                    "UGYFEL_FK": "tunde",
                                    "vendeg_nev": "Turcsik Tünde",
                                    "FELNOTT_SZAM": "1",
                                    "GYERMEK_SZAM": "0",
                                    "osszfo": "1",
                                    "Előző három foglalás átlaga": "NULL"
                                },
                                {
                                    "tipus": "Átlag alatti foglalás",
                                    "FOGLALAS_PK": "709",
                                    "UGYFEL_FK": "valentin",
                                    "vendeg_nev": "Feró Valentin",
                                    "FELNOTT_SZAM": "1",
                                    "GYERMEK_SZAM": "0",
                                    "osszfo": "1",
                                    "Előző három foglalás átlaga": "NULL"
                                },
                                {
                                    "tipus": "Átlag alatti foglalás",
                                    "FOGLALAS_PK": "790",
                                    "UGYFEL_FK": "veronika4",
                                    "vendeg_nev": "Tankó Veronika",
                                    "FELNOTT_SZAM": "1",
                                    "GYERMEK_SZAM": "0",
                                    "osszfo": "1",
                                    "Előző három foglalás átlaga": "3.000000"
                                },
                                {
                                    "tipus": "Átlag alatti foglalás",
                                    "FOGLALAS_PK": "883",
                                    "UGYFEL_FK": "veronika4",
                                    "vendeg_nev": "Tankó Veronika",
                                    "FELNOTT_SZAM": "1",
                                    "GYERMEK_SZAM": "1",
                                    "osszfo": "2",
                                    "Előző három foglalás átlaga": "2.000000"
                                },
                                {
                                    "tipus": "Átlag alatti foglalás",
                                    "FOGLALAS_PK": "1491",
                                    "UGYFEL_FK": "veronika4",
                                    "vendeg_nev": "Tankó Veronika",
                                    "FELNOTT_SZAM": "1",
                                    "GYERMEK_SZAM": "1",
                                    "osszfo": "2",
                                    "Előző három foglalás átlaga": "2.333333"
                                },
                                {
                                    "tipus": "Átlag alatti foglalás",
                                    "FOGLALAS_PK": "1081",
                                    "UGYFEL_FK": "veronika4",
                                    "vendeg_nev": "Tankó Veronika",
                                    "FELNOTT_SZAM": "1",
                                    "GYERMEK_SZAM": "1",
                                    "osszfo": "2",
                                    "Előző három foglalás átlaga": "2.000000"
                                },
                                {
                                    "tipus": "Átlag alatti foglalás",
                                    "FOGLALAS_PK": "753",
                                    "UGYFEL_FK": "VIKTORIAU",
                                    "vendeg_nev": "Urbán Viktoria",
                                    "FELNOTT_SZAM": "1",
                                    "GYERMEK_SZAM": "1",
                                    "osszfo": "2",
                                    "Előző három foglalás átlaga": "1.000000"
                                },
                                {
                                    "tipus": "Átlag alatti foglalás",
                                    "FOGLALAS_PK": "610",
                                    "UGYFEL_FK": "VIKTORIAU",
                                    "vendeg_nev": "Urbán Viktoria",
                                    "FELNOTT_SZAM": "1",
                                    "GYERMEK_SZAM": "0",
                                    "osszfo": "1",
                                    "Előző három foglalás átlaga": "NULL"
                                },
                                {
                                    "tipus": "Átlag alatti foglalás",
                                    "FOGLALAS_PK": "879",
                                    "UGYFEL_FK": "VIKTORK",
                                    "vendeg_nev": "Keresztúri Viktor",
                                    "FELNOTT_SZAM": "2",
                                    "GYERMEK_SZAM": "0",
                                    "osszfo": "2",
                                    "Előző három foglalás átlaga": "NULL"
                                },
                                {
                                    "tipus": "Átlag alatti foglalás",
                                    "FOGLALAS_PK": "843",
                                    "UGYFEL_FK": "vivien3",
                                    "vendeg_nev": "Boros Vivien",
                                    "FELNOTT_SZAM": "2",
                                    "GYERMEK_SZAM": "0",
                                    "osszfo": "2",
                                    "Előző három foglalás átlaga": "2.500000"
                                },
                                {
                                    "tipus": "Átlag alatti foglalás",
                                    "FOGLALAS_PK": "774",
                                    "UGYFEL_FK": "vivien3",
                                    "vendeg_nev": "Boros Vivien",
                                    "FELNOTT_SZAM": "2",
                                    "GYERMEK_SZAM": "0",
                                    "osszfo": "2",
                                    "Előző három foglalás átlaga": "3.000000"
                                },
                                {
                                    "tipus": "Átlag alatti foglalás",
                                    "FOGLALAS_PK": "1103",
                                    "UGYFEL_FK": "vivien3",
                                    "vendeg_nev": "Boros Vivien",
                                    "FELNOTT_SZAM": "1",
                                    "GYERMEK_SZAM": "0",
                                    "osszfo": "1",
                                    "Előző három foglalás átlaga": "2.333333"
                                },
                                {
                                    "tipus": "Átlag alatti foglalás",
                                    "FOGLALAS_PK": "1288",
                                    "UGYFEL_FK": "vivien3",
                                    "vendeg_nev": "Boros Vivien",
                                    "FELNOTT_SZAM": "1",
                                    "GYERMEK_SZAM": "1",
                                    "osszfo": "2",
                                    "Előző három foglalás átlaga": "1.666666"
                                },
                                {
                                    "tipus": "Átlag alatti foglalás",
                                    "FOGLALAS_PK": "1375",
                                    "UGYFEL_FK": "vivien3",
                                    "vendeg_nev": "Boros Vivien",
                                    "FELNOTT_SZAM": "1",
                                    "GYERMEK_SZAM": "1",
                                    "osszfo": "2",
                                    "Előző három foglalás átlaga": "1.666666"
                                },
                                {
                                    "tipus": "Átlag alatti foglalás",
                                    "FOGLALAS_PK": "822",
                                    "UGYFEL_FK": "zoltan",
                                    "vendeg_nev": "Fodor Zoltán",
                                    "FELNOTT_SZAM": "2",
                                    "GYERMEK_SZAM": "0",
                                    "osszfo": "2",
                                    "Előző három foglalás átlaga": "NULL"
                                },
                                {
                                    "tipus": "Átlag alatti foglalás",
                                    "FOGLALAS_PK": "893",
                                    "UGYFEL_FK": "zoltan4",
                                    "vendeg_nev": "Barna Zoltán",
                                    "FELNOTT_SZAM": "1",
                                    "GYERMEK_SZAM": "0",
                                    "osszfo": "1",
                                    "Előző három foglalás átlaga": "2.000000"
                                },
                                {
                                    "tipus": "Átlag alatti foglalás",
                                    "FOGLALAS_PK": "779",
                                    "UGYFEL_FK": "zoltan4",
                                    "vendeg_nev": "Barna Zoltán",
                                    "FELNOTT_SZAM": "1",
                                    "GYERMEK_SZAM": "0",
                                    "osszfo": "1",
                                    "Előző három foglalás átlaga": "3.000000"
                                },
                                {
                                    "tipus": "Átlag alatti foglalás",
                                    "FOGLALAS_PK": "784",
                                    "UGYFEL_FK": "zoltan4",
                                    "vendeg_nev": "Barna Zoltán",
                                    "FELNOTT_SZAM": "2",
                                    "GYERMEK_SZAM": "0",
                                    "osszfo": "2",
                                    "Előző három foglalás átlaga": "2.333333"
                                },
                                {
                                    "tipus": "Átlag alatti foglalás",
                                    "FOGLALAS_PK": "1403",
                                    "UGYFEL_FK": "zoltan4",
                                    "vendeg_nev": "Barna Zoltán",
                                    "FELNOTT_SZAM": "1",
                                    "GYERMEK_SZAM": "0",
                                    "osszfo": "1",
                                    "Előző három foglalás átlaga": "1.666666"
                                },
                                {
                                    "tipus": "Átlag alatti foglalás",
                                    "FOGLALAS_PK": "1292",
                                    "UGYFEL_FK": "zoltan4",
                                    "vendeg_nev": "Barna Zoltán",
                                    "FELNOTT_SZAM": "2",
                                    "GYERMEK_SZAM": "0",
                                    "osszfo": "2",
                                    "Előző három foglalás átlaga": "2.666666"
                                },
                                {
                                    "tipus": "Átlag alatti foglalás",
                                    "FOGLALAS_PK": "1230",
                                    "UGYFEL_FK": "zoltan4",
                                    "vendeg_nev": "Barna Zoltán",
                                    "FELNOTT_SZAM": "1",
                                    "GYERMEK_SZAM": "0",
                                    "osszfo": "1",
                                    "Előző három foglalás átlaga": "3.333333"
                                },
                                {
                                    "tipus": "Átlag alatti foglalás",
                                    "FOGLALAS_PK": "1194",
                                    "UGYFEL_FK": "zoltan4",
                                    "vendeg_nev": "Barna Zoltán",
                                    "FELNOTT_SZAM": "1",
                                    "GYERMEK_SZAM": "1",
                                    "osszfo": "2",
                                    "Előző három foglalás átlaga": "3.000000"
                                },
                                {
                                    "tipus": "Átlag alatti foglalás",
                                    "FOGLALAS_PK": "1168",
                                    "UGYFEL_FK": "ZOLTANP",
                                    "vendeg_nev": "Pintér Zoltán",
                                    "FELNOTT_SZAM": "2",
                                    "GYERMEK_SZAM": "0",
                                    "osszfo": "2",
                                    "Előző három foglalás átlaga": "2.333333"
                                },
                                {
                                    "tipus": "Átlag alatti foglalás",
                                    "FOGLALAS_PK": "1397",
                                    "UGYFEL_FK": "ZOLTANP",
                                    "vendeg_nev": "Pintér Zoltán",
                                    "FELNOTT_SZAM": "1",
                                    "GYERMEK_SZAM": "1",
                                    "osszfo": "2",
                                    "Előző három foglalás átlaga": "2.333333"
                                },
                                {
                                    "tipus": "Átlag alatti foglalás",
                                    "FOGLALAS_PK": "907",
                                    "UGYFEL_FK": "ZOLTANP",
                                    "vendeg_nev": "Pintér Zoltán",
                                    "FELNOTT_SZAM": "1",
                                    "GYERMEK_SZAM": "1",
                                    "osszfo": "2",
                                    "Előző három foglalás átlaga": "3.000000"
                                },
                                {
                                    "tipus": "Átlag alatti foglalás",
                                    "FOGLALAS_PK": "915",
                                    "UGYFEL_FK": "ZOLTANP",
                                    "vendeg_nev": "Pintér Zoltán",
                                    "FELNOTT_SZAM": "2",
                                    "GYERMEK_SZAM": "0",
                                    "osszfo": "2",
                                    "Előző három foglalás átlaga": "2.500000"
                                },
                                {
                                    "tipus": "Átlag alatti foglalás",
                                    "FOGLALAS_PK": "1447",
                                    "UGYFEL_FK": "ZOLTANT",
                                    "vendeg_nev": "Tóth Zoltán",
                                    "FELNOTT_SZAM": "1",
                                    "GYERMEK_SZAM": "1",
                                    "osszfo": "2",
                                    "Előző három foglalás átlaga": "3.000000"
                                },
                                {
                                    "tipus": "Átlag alatti foglalás",
                                    "FOGLALAS_PK": "968",
                                    "UGYFEL_FK": "zsofi1",
                                    "vendeg_nev": "Molnár Zsófi",
                                    "FELNOTT_SZAM": "2",
                                    "GYERMEK_SZAM": "0",
                                    "osszfo": "2",
                                    "Előző három foglalás átlaga": "NULL"
                                },
                                {
                                    "tipus": "Átlag alatti foglalás",
                                    "FOGLALAS_PK": "917",
                                    "UGYFEL_FK": "zsolt1",
                                    "vendeg_nev": "Pulai Zsolt",
                                    "FELNOTT_SZAM": "2",
                                    "GYERMEK_SZAM": "0",
                                    "osszfo": "2",
                                    "Előző három foglalás átlaga": "2.000000"
                                },
                                {
                                    "tipus": "Átlag alatti foglalás",
                                    "FOGLALAS_PK": "743",
                                    "UGYFEL_FK": "zsolt1",
                                    "vendeg_nev": "Pulai Zsolt",
                                    "FELNOTT_SZAM": "2",
                                    "GYERMEK_SZAM": "0",
                                    "osszfo": "2",
                                    "Előző három foglalás átlaga": "2.000000"
                                },
                                {
                                    "tipus": "Átlag alatti foglalás",
                                    "FOGLALAS_PK": "580",
                                    "UGYFEL_FK": "zsolt1",
                                    "vendeg_nev": "Pulai Zsolt",
                                    "FELNOTT_SZAM": "2",
                                    "GYERMEK_SZAM": "0",
                                    "osszfo": "2",
                                    "Előző három foglalás átlaga": "NULL"
                                },
                                {
                                    "tipus": "Átlag alatti foglalás",
                                    "FOGLALAS_PK": "630",
                                    "UGYFEL_FK": "ZSOLTJ",
                                    "vendeg_nev": "Józsa Zsolt",
                                    "FELNOTT_SZAM": "2",
                                    "GYERMEK_SZAM": "0",
                                    "osszfo": "2",
                                    "Előző három foglalás átlaga": "4.000000"
                                },
                                {
                                    "tipus": "Átlag alatti foglalás",
                                    "FOGLALAS_PK": "685",
                                    "UGYFEL_FK": "ZSOLTJ",
                                    "vendeg_nev": "Józsa Zsolt",
                                    "FELNOTT_SZAM": "1",
                                    "GYERMEK_SZAM": "1",
                                    "osszfo": "2",
                                    "Előző három foglalás átlaga": "3.000000"
                                },
                                {
                                    "tipus": "Átlag alatti foglalás",
                                    "FOGLALAS_PK": "970",
                                    "UGYFEL_FK": "ZSOLTJ",
                                    "vendeg_nev": "Józsa Zsolt",
                                    "FELNOTT_SZAM": "1",
                                    "GYERMEK_SZAM": "1",
                                    "osszfo": "2",
                                    "Előző három foglalás átlaga": "1.666666"
                                },
                                {
                                    "tipus": "Átlag alatti foglalás",
                                    "FOGLALAS_PK": "867",
                                    "UGYFEL_FK": "ZSOLTJ",
                                    "vendeg_nev": "Józsa Zsolt",
                                    "FELNOTT_SZAM": "1",
                                    "GYERMEK_SZAM": "0",
                                    "osszfo": "1",
                                    "Előző három foglalás átlaga": "2.666666"
                                },
                                {
                                    "tipus": "Átlag alatti foglalás",
                                    "FOGLALAS_PK": "1100",
                                    "UGYFEL_FK": "ZSOLTJ",
                                    "vendeg_nev": "Józsa Zsolt",
                                    "FELNOTT_SZAM": "2",
                                    "GYERMEK_SZAM": "0",
                                    "osszfo": "2",
                                    "Előző három foglalás átlaga": "1.666666"
                                },
                                {
                                    "tipus": "Átlag alatti foglalás",
                                    "FOGLALAS_PK": "833",
                                    "UGYFEL_FK": "zsuzsa",
                                    "vendeg_nev": "Pusztai Zsuzsanna",
                                    "FELNOTT_SZAM": "1",
                                    "GYERMEK_SZAM": "1",
                                    "osszfo": "2",
                                    "Előző három foglalás átlaga": "3.000000"
                                },
                                {
                                    "tipus": "Átlag alatti foglalás",
                                    "FOGLALAS_PK": "1040",
                                    "UGYFEL_FK": "zsuzsa3",
                                    "vendeg_nev": "Varsányi Zsuzsa",
                                    "FELNOTT_SZAM": "1",
                                    "GYERMEK_SZAM": "1",
                                    "osszfo": "2",
                                    "Előző három foglalás átlaga": "2.000000"
                                },
                                {
                                    "tipus": "Átlag alatti foglalás",
                                    "FOGLALAS_PK": "740",
                                    "UGYFEL_FK": "zsuzsa3",
                                    "vendeg_nev": "Varsányi Zsuzsa",
                                    "FELNOTT_SZAM": "2",
                                    "GYERMEK_SZAM": "0",
                                    "osszfo": "2",
                                    "Előző három foglalás átlaga": "NULL"
                                },
                                {
                                    "tipus": "Átlag alatti foglalás",
                                    "FOGLALAS_PK": "1086",
                                    "UGYFEL_FK": "zsuzsa3",
                                    "vendeg_nev": "Varsányi Zsuzsa",
                                    "FELNOTT_SZAM": "1",
                                    "GYERMEK_SZAM": "1",
                                    "osszfo": "2",
                                    "Előző három foglalás átlaga": "2.000000"
                                },
                                {
                                    "tipus": "Átlag alatti foglalás",
                                    "FOGLALAS_PK": "1428",
                                    "UGYFEL_FK": "zsuzsanna",
                                    "vendeg_nev": "Barta Zsuzsanna",
                                    "FELNOTT_SZAM": "1",
                                    "GYERMEK_SZAM": "0",
                                    "osszfo": "1",
                                    "Előző három foglalás átlaga": "2.000000"
                                },
                                {
                                    "tipus": "Átlag alatti foglalás",
                                    "FOGLALAS_PK": "1444",
                                    "UGYFEL_FK": "zsuzsanna",
                                    "vendeg_nev": "Barta Zsuzsanna",
                                    "FELNOTT_SZAM": "2",
                                    "GYERMEK_SZAM": "0",
                                    "osszfo": "2",
                                    "Előző három foglalás átlaga": "1.666666"
                                },
                                {
                                    "tipus": "Átlag alatti foglalás",
                                    "FOGLALAS_PK": "650",
                                    "UGYFEL_FK": "zsuzsanna",
                                    "vendeg_nev": "Barta Zsuzsanna",
                                    "FELNOTT_SZAM": "1",
                                    "GYERMEK_SZAM": "1",
                                    "osszfo": "2",
                                    "Előző három foglalás átlaga": "NULL"
                                },
                                {
                                    "tipus": "Átlag alatti foglalás",
                                    "FOGLALAS_PK": "1025",
                                    "UGYFEL_FK": "zsuzsanna",
                                    "vendeg_nev": "Barta Zsuzsanna",
                                    "FELNOTT_SZAM": "1",
                                    "GYERMEK_SZAM": "1",
                                    "osszfo": "2",
                                    "Előző három foglalás átlaga": "2.000000"
                                },
                                {
                                    "tipus": "Átlag alatti foglalás",
                                    "FOGLALAS_PK": "579",
                                    "UGYFEL_FK": "ZSUZSAV",
                                    "vendeg_nev": "Vajda Zsuzsa",
                                    "FELNOTT_SZAM": "2",
                                    "GYERMEK_SZAM": "0",
                                    "osszfo": "2",
                                    "Előző három foglalás átlaga": "NULL"
                                },
                                {
                                    "tipus": "Átlag alatti foglalás",
                                    "FOGLALAS_PK": "1063",
                                    "UGYFEL_FK": "ZSUZSAV",
                                    "vendeg_nev": "Vajda Zsuzsa",
                                    "FELNOTT_SZAM": "2",
                                    "GYERMEK_SZAM": "0",
                                    "osszfo": "2",
                                    "Előző három foglalás átlaga": "3.000000"
                                },
                                {
                                    "tipus": "Átlag alatti foglalás",
                                    "FOGLALAS_PK": "1202",
                                    "UGYFEL_FK": "ZSUZSAV",
                                    "vendeg_nev": "Vajda Zsuzsa",
                                    "FELNOTT_SZAM": "1",
                                    "GYERMEK_SZAM": "0",
                                    "osszfo": "1",
                                    "Előző három foglalás átlaga": "3.000000"
                                },
                                {
                                    "tipus": "Még nem foglalt",
                                    "FOGLALAS_PK": "NULL",
                                    "UGYFEL_FK": "GABORS",
                                    "vendeg_nev": "Szöllősi Gábor",
                                    "FELNOTT_SZAM": "NULL",
                                    "GYERMEK_SZAM": "NULL",
                                    "osszfo": "NULL",
                                    "Előző három foglalás átlaga": "NULL"
                                }
                            ]
                        },
                        "text/html": [
                            "<table>",
                            "<tr><th>tipus</th><th>FOGLALAS_PK</th><th>UGYFEL_FK</th><th>vendeg_nev</th><th>FELNOTT_SZAM</th><th>GYERMEK_SZAM</th><th>osszfo</th><th>Előző három foglalás átlaga</th></tr>",
                            "<tr><td>Átlag alatti foglalás</td><td>803</td><td>adam1</td><td>Kiss Ádám</td><td>1</td><td>0</td><td>1</td><td>NULL</td></tr>",
                            "<tr><td>Átlag alatti foglalás</td><td>1165</td><td>adam1</td><td>Kiss Ádám</td><td>2</td><td>0</td><td>2</td><td>2.000000</td></tr>",
                            "<tr><td>Átlag alatti foglalás</td><td>1504</td><td>adam3</td><td>Barkóci Ádám</td><td>1</td><td>0</td><td>1</td><td>2.000000</td></tr>",
                            "<tr><td>Átlag alatti foglalás</td><td>1046</td><td>adam3</td><td>Barkóci Ádám</td><td>2</td><td>0</td><td>2</td><td>NULL</td></tr>",
                            "<tr><td>Átlag alatti foglalás</td><td>1435</td><td>adam4</td><td>Bieniek Ádám</td><td>2</td><td>0</td><td>2</td><td>2.666666</td></tr>",
                            "<tr><td>Átlag alatti foglalás</td><td>1281</td><td>adam4</td><td>Bieniek Ádám</td><td>2</td><td>0</td><td>2</td><td>3.000000</td></tr>",
                            "<tr><td>Átlag alatti foglalás</td><td>1261</td><td>agnes</td><td>Lengyel Ágnes</td><td>1</td><td>1</td><td>2</td><td>2.333333</td></tr>",
                            "<tr><td>Átlag alatti foglalás</td><td>857</td><td>agnes</td><td>Lengyel Ágnes</td><td>1</td><td>0</td><td>1</td><td>3.000000</td></tr>",
                            "<tr><td>Átlag alatti foglalás</td><td>755</td><td>agnes3</td><td>Hartyánszky Ágnes</td><td>1</td><td>0</td><td>1</td><td>NULL</td></tr>",
                            "<tr><td>Átlag alatti foglalás</td><td>571</td><td>AGNESH</td><td>Horváth Ágnes</td><td>1</td><td>1</td><td>2</td><td>NULL</td></tr>",
                            "<tr><td>Átlag alatti foglalás</td><td>980</td><td>AGNESH</td><td>Horváth Ágnes</td><td>1</td><td>0</td><td>1</td><td>3.000000</td></tr>",
                            "<tr><td>Átlag alatti foglalás</td><td>1225</td><td>AGNESH</td><td>Horváth Ágnes</td><td>1</td><td>0</td><td>1</td><td>2.333333</td></tr>",
                            "<tr><td>Átlag alatti foglalás</td><td>1417</td><td>AGNESH</td><td>Horváth Ágnes</td><td>2</td><td>0</td><td>2</td><td>2.000000</td></tr>",
                            "<tr><td>Átlag alatti foglalás</td><td>1371</td><td>AGNESK</td><td>Kovács Ágnes</td><td>1</td><td>1</td><td>2</td><td>2.500000</td></tr>",
                            "<tr><td>Átlag alatti foglalás</td><td>1162</td><td>AGNESK</td><td>Kovács Ágnes</td><td>1</td><td>1</td><td>2</td><td>3.000000</td></tr>",
                            "<tr><td>Átlag alatti foglalás</td><td>1122</td><td>akos</td><td>Bíró Ákos</td><td>2</td><td>0</td><td>2</td><td>1.333333</td></tr>",
                            "<tr><td>Átlag alatti foglalás</td><td>1164</td><td>akos</td><td>Bíró Ákos</td><td>2</td><td>0</td><td>2</td><td>1.333333</td></tr>",
                            "<tr><td>Átlag alatti foglalás</td><td>1299</td><td>akos</td><td>Bíró Ákos</td><td>2</td><td>0</td><td>2</td><td>1.666666</td></tr>",
                            "<tr><td>Átlag alatti foglalás</td><td>1364</td><td>akos</td><td>Bíró Ákos</td><td>1</td><td>1</td><td>2</td><td>2.000000</td></tr>",
                            "<tr><td>Átlag alatti foglalás</td><td>1034</td><td>akos</td><td>Bíró Ákos</td><td>1</td><td>0</td><td>1</td><td>1.666666</td></tr>",
                            "<tr><td>Átlag alatti foglalás</td><td>655</td><td>akos</td><td>Bíró Ákos</td><td>1</td><td>1</td><td>2</td><td>NULL</td></tr>",
                            "<tr><td>Átlag alatti foglalás</td><td>673</td><td>akos</td><td>Bíró Ákos</td><td>2</td><td>0</td><td>2</td><td>2.000000</td></tr>",
                            "<tr><td>Átlag alatti foglalás</td><td>676</td><td>akos</td><td>Bíró Ákos</td><td>2</td><td>0</td><td>2</td><td>2.000000</td></tr>",
                            "<tr><td>Átlag alatti foglalás</td><td>705</td><td>akos</td><td>Bíró Ákos</td><td>1</td><td>0</td><td>1</td><td>2.000000</td></tr>",
                            "<tr><td>Átlag alatti foglalás</td><td>651</td><td>aladar</td><td>Dunai Aladár</td><td>1</td><td>0</td><td>1</td><td>NULL</td></tr>",
                            "<tr><td>Átlag alatti foglalás</td><td>1302</td><td>aladar</td><td>Dunai Aladár</td><td>1</td><td>1</td><td>2</td><td>1.000000</td></tr>",
                            "<tr><td>Átlag alatti foglalás</td><td>1079</td><td>aladar</td><td>Dunai Aladár</td><td>1</td><td>0</td><td>1</td><td>1.000000</td></tr>",
                            "<tr><td>Átlag alatti foglalás</td><td>1175</td><td>alexandra</td><td>Bagóczki Alexandra</td><td>2</td><td>0</td><td>2</td><td>2.666666</td></tr>",
                            "<tr><td>Átlag alatti foglalás</td><td>1332</td><td>alexandra</td><td>Bagóczki Alexandra</td><td>1</td><td>1</td><td>2</td><td>2.333333</td></tr>",
                            "<tr><td>Átlag alatti foglalás</td><td>1436</td><td>alexandra</td><td>Bagóczki Alexandra</td><td>1</td><td>0</td><td>1</td><td>2.333333</td></tr>",
                            "<tr><td>Átlag alatti foglalás</td><td>1457</td><td>alexandra</td><td>Bagóczki Alexandra</td><td>2</td><td>0</td><td>2</td><td>1.666666</td></tr>",
                            "<tr><td>Átlag alatti foglalás</td><td>727</td><td>alexandra</td><td>Bagóczki Alexandra</td><td>1</td><td>1</td><td>2</td><td>3.000000</td></tr>",
                            "<tr><td>Átlag alatti foglalás</td><td>1049</td><td>andi</td><td>Maródi Andrea</td><td>1</td><td>1</td><td>2</td><td>2.500000</td></tr>",
                            "<tr><td>Átlag alatti foglalás</td><td>955</td><td>andi</td><td>Maródi Andrea</td><td>1</td><td>0</td><td>1</td><td>4.000000</td></tr>",
                            "<tr><td>Átlag alatti foglalás</td><td>884</td><td>andras2</td><td>Tóth András</td><td>1</td><td>0</td><td>1</td><td>2.000000</td></tr>",
                            "<tr><td>Átlag alatti foglalás</td><td>693</td><td>andras2</td><td>Tóth András</td><td>2</td><td>0</td><td>2</td><td>NULL</td></tr>",
                            "<tr><td>Átlag alatti foglalás</td><td>1092</td><td>andras2</td><td>Tóth András</td><td>2</td><td>0</td><td>2</td><td>1.500000</td></tr>",
                            "<tr><td>Átlag alatti foglalás</td><td>1478</td><td>andras21</td><td>Molnár András</td><td>2</td><td>0</td><td>2</td><td>3.333333</td></tr>",
                            "<tr><td>Átlag alatti foglalás</td><td>697</td><td>andras21</td><td>Molnár András</td><td>1</td><td>0</td><td>1</td><td>NULL</td></tr>",
                            "<tr><td>Átlag alatti foglalás</td><td>975</td><td>andras21</td><td>Molnár András</td><td>2</td><td>0</td><td>2</td><td>1.000000</td></tr>",
                            "<tr><td>Átlag alatti foglalás</td><td>949</td><td>andras3</td><td>Vígh András</td><td>1</td><td>0</td><td>1</td><td>2.000000</td></tr>",
                            "<tr><td>Átlag alatti foglalás</td><td>880</td><td>andras3</td><td>Vígh András</td><td>1</td><td>0</td><td>1</td><td>2.666666</td></tr>",
                            "<tr><td>Átlag alatti foglalás</td><td>701</td><td>andras3</td><td>Vígh András</td><td>2</td><td>0</td><td>2</td><td>2.500000</td></tr>",
                            "<tr><td>Átlag alatti foglalás</td><td>611</td><td>andras3</td><td>Vígh András</td><td>1</td><td>1</td><td>2</td><td>NULL</td></tr>",
                            "<tr><td>Átlag alatti foglalás</td><td>1489</td><td>andras3</td><td>Vígh András</td><td>2</td><td>0</td><td>2</td><td>1.333333</td></tr>",
                            "<tr><td>Átlag alatti foglalás</td><td>1328</td><td>andras3</td><td>Vígh András</td><td>2</td><td>0</td><td>2</td><td>1.666666</td></tr>",
                            "<tr><td>Átlag alatti foglalás</td><td>1427</td><td>andras4</td><td>Back András</td><td>1</td><td>1</td><td>2</td><td>2.000000</td></tr>",
                            "<tr><td>Átlag alatti foglalás</td><td>1059</td><td>andras4</td><td>Back András</td><td>1</td><td>1</td><td>2</td><td>NULL</td></tr>",
                            "<tr><td>Átlag alatti foglalás</td><td>1317</td><td>andras4</td><td>Back András</td><td>2</td><td>0</td><td>2</td><td>2.000000</td></tr>",
                            "<tr><td>Átlag alatti foglalás</td><td>1308</td><td>andras41</td><td>Komjáti András</td><td>1</td><td>0</td><td>1</td><td>2.666666</td></tr>",
                            "<tr><td>Átlag alatti foglalás</td><td>1074</td><td>andras41</td><td>Komjáti András</td><td>1</td><td>0</td><td>1</td><td>2.000000</td></tr>",
                            "<tr><td>Átlag alatti foglalás</td><td>1094</td><td>andras41</td><td>Komjáti András</td><td>1</td><td>1</td><td>2</td><td>2.000000</td></tr>",
                            "<tr><td>Átlag alatti foglalás</td><td>1142</td><td>andras41</td><td>Komjáti András</td><td>2</td><td>0</td><td>2</td><td>1.666666</td></tr>",
                            "<tr><td>Átlag alatti foglalás</td><td>643</td><td>andras41</td><td>Komjáti András</td><td>1</td><td>1</td><td>2</td><td>NULL</td></tr>",
                            "<tr><td>Átlag alatti foglalás</td><td>799</td><td>andras41</td><td>Komjáti András</td><td>1</td><td>0</td><td>1</td><td>3.333333</td></tr>",
                            "<tr><td>Átlag alatti foglalás</td><td>983</td><td>andras41</td><td>Komjáti András</td><td>2</td><td>0</td><td>2</td><td>2.333333</td></tr>",
                            "<tr><td>Átlag alatti foglalás</td><td>1014</td><td>ANDRASE</td><td>Erdei András</td><td>2</td><td>0</td><td>2</td><td>1.500000</td></tr>",
                            "<tr><td>Átlag alatti foglalás</td><td>786</td><td>ANDRASE</td><td>Erdei András</td><td>1</td><td>1</td><td>2</td><td>1.000000</td></tr>",
                            "<tr><td>Átlag alatti foglalás</td><td>600</td><td>ANDRASE</td><td>Erdei András</td><td>1</td><td>0</td><td>1</td><td>NULL</td></tr>",
                            "<tr><td>Átlag alatti foglalás</td><td>1319</td><td>ANDRASN</td><td>Nagy András</td><td>2</td><td>0</td><td>2</td><td>NULL</td></tr>",
                            "<tr><td>Átlag alatti foglalás</td><td>1514</td><td>andrea</td><td>Kiss Andrea</td><td>2</td><td>0</td><td>2</td><td>3.000000</td></tr>",
                            "<tr><td>Átlag alatti foglalás</td><td>722</td><td>andrea</td><td>Kiss Andrea</td><td>1</td><td>1</td><td>2</td><td>NULL</td></tr>",
                            "<tr><td>Átlag alatti foglalás</td><td>744</td><td>andrea</td><td>Kiss Andrea</td><td>1</td><td>1</td><td>2</td><td>2.000000</td></tr>",
                            "<tr><td>Átlag alatti foglalás</td><td>826</td><td>andrea</td><td>Kiss Andrea</td><td>1</td><td>1</td><td>2</td><td>2.333333</td></tr>",
                            "<tr><td>Átlag alatti foglalás</td><td>860</td><td>andrea4</td><td>Neizer Andrea</td><td>1</td><td>0</td><td>1</td><td>NULL</td></tr>",
                            "<tr><td>Átlag alatti foglalás</td><td>1047</td><td>andrea4</td><td>Neizer Andrea</td><td>2</td><td>0</td><td>2</td><td>1.000000</td></tr>",
                            "<tr><td>Átlag alatti foglalás</td><td>1464</td><td>andrea4</td><td>Neizer Andrea</td><td>2</td><td>0</td><td>2</td><td>2.000000</td></tr>",
                            "<tr><td>Átlag alatti foglalás</td><td>1053</td><td>ANDREAT</td><td>Tornyos Andrea</td><td>1</td><td>1</td><td>2</td><td>2.000000</td></tr>",
                            "<tr><td>Átlag alatti foglalás</td><td>725</td><td>ANDREAT</td><td>Tornyos Andrea</td><td>2</td><td>0</td><td>2</td><td>NULL</td></tr>",
                            "<tr><td>Átlag alatti foglalás</td><td>780</td><td>anett3</td><td>Pivarcsi Anett</td><td>2</td><td>0</td><td>2</td><td>3.000000</td></tr>",
                            "<tr><td>Átlag alatti foglalás</td><td>567</td><td>anett3</td><td>Pivarcsi Anett</td><td>1</td><td>0</td><td>1</td><td>NULL</td></tr>",
                            "<tr><td>Átlag alatti foglalás</td><td>1159</td><td>anett3</td><td>Pivarcsi Anett</td><td>1</td><td>0</td><td>1</td><td>2.666666</td></tr>",
                            "<tr><td>Átlag alatti foglalás</td><td>1560</td><td>aniko</td><td>Tóth Anikó</td><td>2</td><td>0</td><td>2</td><td>3.000000</td></tr>",
                            "<tr><td>Átlag alatti foglalás</td><td>1001</td><td>aniko4</td><td>Böröcz Anikó</td><td>1</td><td>0</td><td>1</td><td>3.000000</td></tr>",
                            "<tr><td>Átlag alatti foglalás</td><td>988</td><td>ANIKOS</td><td>Simon Anikó</td><td>1</td><td>1</td><td>2</td><td>2.000000</td></tr>",
                            "<tr><td>Átlag alatti foglalás</td><td>965</td><td>ANIKOS</td><td>Simon Anikó</td><td>1</td><td>0</td><td>1</td><td>2.666666</td></tr>",
                            "<tr><td>Átlag alatti foglalás</td><td>827</td><td>ANIKOS</td><td>Simon Anikó</td><td>1</td><td>1</td><td>2</td><td>2.500000</td></tr>",
                            "<tr><td>Átlag alatti foglalás</td><td>590</td><td>ANIKOS</td><td>Simon Anikó</td><td>1</td><td>1</td><td>2</td><td>NULL</td></tr>",
                            "<tr><td>Átlag alatti foglalás</td><td>1132</td><td>ANIKOS</td><td>Simon Anikó</td><td>1</td><td>1</td><td>2</td><td>2.000000</td></tr>",
                            "<tr><td>Átlag alatti foglalás</td><td>1271</td><td>ANIKOS</td><td>Simon Anikó</td><td>1</td><td>1</td><td>2</td><td>2.333333</td></tr>",
                            "<tr><td>Átlag alatti foglalás</td><td>1113</td><td>anita</td><td>Hamvay-Kovács Anita</td><td>2</td><td>0</td><td>2</td><td>4.000000</td></tr>",
                            "<tr><td>Átlag alatti foglalás</td><td>1551</td><td>anita</td><td>Hamvay-Kovács Anita</td><td>1</td><td>1</td><td>2</td><td>3.000000</td></tr>",
                            "<tr><td>Átlag alatti foglalás</td><td>1553</td><td>anita</td><td>Hamvay-Kovács Anita</td><td>1</td><td>1</td><td>2</td><td>2.666666</td></tr>",
                            "<tr><td>Átlag alatti foglalás</td><td>1539</td><td>ANNAMARIAR</td><td>Regős Annamária</td><td>2</td><td>0</td><td>2</td><td>2.333333</td></tr>",
                            "<tr><td>Átlag alatti foglalás</td><td>1432</td><td>ANNAMARIAR</td><td>Regős Annamária</td><td>2</td><td>0</td><td>2</td><td>2.333333</td></tr>",
                            "<tr><td>Átlag alatti foglalás</td><td>1075</td><td>ANNAMARIAR</td><td>Regős Annamária</td><td>2</td><td>0</td><td>2</td><td>1.500000</td></tr>",
                            "<tr><td>Átlag alatti foglalás</td><td>684</td><td>ANNAMARIAR</td><td>Regős Annamária</td><td>1</td><td>0</td><td>1</td><td>NULL</td></tr>",
                            "<tr><td>Átlag alatti foglalás</td><td>936</td><td>ANNAMARIAR</td><td>Regős Annamária</td><td>2</td><td>0</td><td>2</td><td>1.000000</td></tr>",
                            "<tr><td>Átlag alatti foglalás</td><td>1182</td><td>aron2</td><td>Jakab Áron</td><td>2</td><td>0</td><td>2</td><td>3.000000</td></tr>",
                            "<tr><td>Átlag alatti foglalás</td><td>1249</td><td>aron2</td><td>Jakab Áron</td><td>1</td><td>1</td><td>2</td><td>2.666666</td></tr>",
                            "<tr><td>Átlag alatti foglalás</td><td>1240</td><td>ARONK</td><td>Kelemen Áron</td><td>1</td><td>1</td><td>2</td><td>2.333333</td></tr>",
                            "<tr><td>Átlag alatti foglalás</td><td>1248</td><td>ARONK</td><td>Kelemen Áron</td><td>1</td><td>1</td><td>2</td><td>2.000000</td></tr>",
                            "<tr><td>Átlag alatti foglalás</td><td>1412</td><td>ARONK</td><td>Kelemen Áron</td><td>1</td><td>1</td><td>2</td><td>2.333333</td></tr>",
                            "<tr><td>Átlag alatti foglalás</td><td>1558</td><td>ARONK</td><td>Kelemen Áron</td><td>2</td><td>0</td><td>2</td><td>2.333333</td></tr>",
                            "<tr><td>Átlag alatti foglalás</td><td>1485</td><td>ARONK</td><td>Kelemen Áron</td><td>1</td><td>1</td><td>2</td><td>2.333333</td></tr>",
                            "<tr><td>Átlag alatti foglalás</td><td>1003</td><td>ARONK</td><td>Kelemen Áron</td><td>2</td><td>0</td><td>2</td><td>3.000000</td></tr>",
                            "<tr><td>Átlag alatti foglalás</td><td>1037</td><td>ARONK</td><td>Kelemen Áron</td><td>2</td><td>0</td><td>2</td><td>2.333333</td></tr>",
                            "<tr><td>Átlag alatti foglalás</td><td>902</td><td>ARONK</td><td>Kelemen Áron</td><td>1</td><td>1</td><td>2</td><td>3.333333</td></tr>",
                            "<tr><td>Átlag alatti foglalás</td><td>559</td><td>ARONK</td><td>Kelemen Áron</td><td>2</td><td>0</td><td>2</td><td>NULL</td></tr>",
                            "<tr><td>Átlag alatti foglalás</td><td>908</td><td>arpad2</td><td>Ötvös Árpád</td><td>1</td><td>1</td><td>2</td><td>2.000000</td></tr>",
                            "<tr><td>Átlag alatti foglalás</td><td>811</td><td>arpad2</td><td>Ötvös Árpád</td><td>1</td><td>1</td><td>2</td><td>NULL</td></tr>",
                            "<tr><td>Átlag alatti foglalás</td><td>1256</td><td>arpad2</td><td>Ötvös Árpád</td><td>2</td><td>0</td><td>2</td><td>2.333333</td></tr>",
                            "<tr><td>Átlag alatti foglalás</td><td>1084</td><td>arpad2</td><td>Ötvös Árpád</td><td>2</td><td>0</td><td>2</td><td>2.000000</td></tr>",
                            "<tr><td>Átlag alatti foglalás</td><td>1056</td><td>ARPADH</td><td>Horváth Árpád</td><td>1</td><td>0</td><td>1</td><td>2.500000</td></tr>",
                            "<tr><td>Átlag alatti foglalás</td><td>1066</td><td>ARPADH</td><td>Horváth Árpád</td><td>1</td><td>0</td><td>1</td><td>2.000000</td></tr>",
                            "<tr><td>Átlag alatti foglalás</td><td>1538</td><td>ARPADH</td><td>Horváth Árpád</td><td>1</td><td>1</td><td>2</td><td>1.666666</td></tr>",
                            "<tr><td>Átlag alatti foglalás</td><td>1342</td><td>ARPADH</td><td>Horváth Árpád</td><td>1</td><td>0</td><td>1</td><td>1.666666</td></tr>",
                            "<tr><td>Átlag alatti foglalás</td><td>670</td><td>ARPADH</td><td>Horváth Árpád</td><td>2</td><td>0</td><td>2</td><td>NULL</td></tr>",
                            "<tr><td>Átlag alatti foglalás</td><td>771</td><td>ARPADM</td><td>Móricz Árpád</td><td>2</td><td>0</td><td>2</td><td>NULL</td></tr>",
                            "<tr><td>Átlag alatti foglalás</td><td>873</td><td>ARPADM</td><td>Móricz Árpád</td><td>2</td><td>0</td><td>2</td><td>2.000000</td></tr>",
                            "<tr><td>Átlag alatti foglalás</td><td>1420</td><td>ARPADM</td><td>Móricz Árpád</td><td>1</td><td>0</td><td>1</td><td>2.333333</td></tr>",
                            "<tr><td>Átlag alatti foglalás</td><td>1268</td><td>ARPADM</td><td>Móricz Árpád</td><td>1</td><td>1</td><td>2</td><td>2.000000</td></tr>",
                            "<tr><td>Átlag alatti foglalás</td><td>1154</td><td>attila</td><td>Csóti Attila</td><td>1</td><td>0</td><td>1</td><td>3.000000</td></tr>",
                            "<tr><td>Átlag alatti foglalás</td><td>1383</td><td>attila</td><td>Csóti Attila</td><td>1</td><td>1</td><td>2</td><td>2.000000</td></tr>",
                            "<tr><td>Átlag alatti foglalás</td><td>1135</td><td>attila1</td><td>Gulyás Attila</td><td>2</td><td>0</td><td>2</td><td>1.000000</td></tr>",
                            "<tr><td>Átlag alatti foglalás</td><td>1270</td><td>attila1</td><td>Gulyás Attila</td><td>1</td><td>1</td><td>2</td><td>2.333333</td></tr>",
                            "<tr><td>Átlag alatti foglalás</td><td>1219</td><td>attila1</td><td>Gulyás Attila</td><td>1</td><td>1</td><td>2</td><td>2.000000</td></tr>",
                            "<tr><td>Átlag alatti foglalás</td><td>657</td><td>attila1</td><td>Gulyás Attila</td><td>1</td><td>0</td><td>1</td><td>NULL</td></tr>",
                            "<tr><td>Átlag alatti foglalás</td><td>1408</td><td>attila4</td><td>Baróti Attila</td><td>1</td><td>1</td><td>2</td><td>4.000000</td></tr>",
                            "<tr><td>Átlag alatti foglalás</td><td>1535</td><td>attila4</td><td>Baróti Attila</td><td>2</td><td>0</td><td>2</td><td>3.000000</td></tr>",
                            "<tr><td>Átlag alatti foglalás</td><td>1231</td><td>ATTILAO</td><td>Opra Attila</td><td>2</td><td>0</td><td>2</td><td>3.000000</td></tr>",
                            "<tr><td>Átlag alatti foglalás</td><td>1518</td><td>balazs1</td><td>Bozsik Balázs</td><td>2</td><td>0</td><td>2</td><td>2.666666</td></tr>",
                            "<tr><td>Átlag alatti foglalás</td><td>1410</td><td>balazs1</td><td>Bozsik Balázs</td><td>2</td><td>0</td><td>2</td><td>3.000000</td></tr>",
                            "<tr><td>Átlag alatti foglalás</td><td>622</td><td>balazs1</td><td>Bozsik Balázs</td><td>1</td><td>1</td><td>2</td><td>NULL</td></tr>",
                            "<tr><td>Átlag alatti foglalás</td><td>582</td><td>balazs2</td><td>Szűcs Balázs</td><td>1</td><td>1</td><td>2</td><td>NULL</td></tr>",
                            "<tr><td>Átlag alatti foglalás</td><td>691</td><td>balazs2</td><td>Szűcs Balázs</td><td>2</td><td>0</td><td>2</td><td>2.000000</td></tr>",
                            "<tr><td>Átlag alatti foglalás</td><td>1578</td><td>balazs2</td><td>Szűcs Balázs</td><td>1</td><td>0</td><td>1</td><td>3.000000</td></tr>",
                            "<tr><td>Átlag alatti foglalás</td><td>1459</td><td>balazs3</td><td>Bakódy Balázs</td><td>2</td><td>0</td><td>2</td><td>3.000000</td></tr>",
                            "<tr><td>Átlag alatti foglalás</td><td>678</td><td>balazs3</td><td>Bakódy Balázs</td><td>2</td><td>0</td><td>2</td><td>NULL</td></tr>",
                            "<tr><td>Átlag alatti foglalás</td><td>595</td><td>balint</td><td>Horváth Bálint</td><td>2</td><td>0</td><td>2</td><td>NULL</td></tr>",
                            "<tr><td>Átlag alatti foglalás</td><td>1137</td><td>balint</td><td>Horváth Bálint</td><td>1</td><td>1</td><td>2</td><td>2.000000</td></tr>",
                            "<tr><td>Átlag alatti foglalás</td><td>1057</td><td>balint1</td><td>Molnár Bálint</td><td>1</td><td>0</td><td>1</td><td>2.333333</td></tr>",
                            "<tr><td>Átlag alatti foglalás</td><td>1257</td><td>balint1</td><td>Molnár Bálint</td><td>1</td><td>1</td><td>2</td><td>1.666666</td></tr>",
                            "<tr><td>Átlag alatti foglalás</td><td>1416</td><td>balint1</td><td>Molnár Bálint</td><td>2</td><td>0</td><td>2</td><td>2.666666</td></tr>",
                            "<tr><td>Átlag alatti foglalás</td><td>717</td><td>balint1</td><td>Molnár Bálint</td><td>1</td><td>1</td><td>2</td><td>NULL</td></tr>",
                            "<tr><td>Átlag alatti foglalás</td><td>752</td><td>balint1</td><td>Molnár Bálint</td><td>2</td><td>0</td><td>2</td><td>2.000000</td></tr>",
                            "<tr><td>Átlag alatti foglalás</td><td>948</td><td>balint1</td><td>Molnár Bálint</td><td>1</td><td>0</td><td>1</td><td>2.666666</td></tr>",
                            "<tr><td>Átlag alatti foglalás</td><td>702</td><td>balint2</td><td>Vukasinovity Bálint</td><td>1</td><td>0</td><td>1</td><td>NULL</td></tr>",
                            "<tr><td>Átlag alatti foglalás</td><td>760</td><td>balu</td><td>Endresz Bálint</td><td>2</td><td>0</td><td>2</td><td>NULL</td></tr>",
                            "<tr><td>Átlag alatti foglalás</td><td>1382</td><td>balu</td><td>Endresz Bálint</td><td>1</td><td>1</td><td>2</td><td>2.000000</td></tr>",
                            "<tr><td>Átlag alatti foglalás</td><td>1112</td><td>beata4</td><td>Bagi Beáta</td><td>1</td><td>0</td><td>1</td><td>2.000000</td></tr>",
                            "<tr><td>Átlag alatti foglalás</td><td>591</td><td>beata4</td><td>Bagi Beáta</td><td>1</td><td>1</td><td>2</td><td>NULL</td></tr>",
                            "<tr><td>Átlag alatti foglalás</td><td>1005</td><td>beata4</td><td>Bagi Beáta</td><td>1</td><td>0</td><td>1</td><td>2.333333</td></tr>",
                            "<tr><td>Átlag alatti foglalás</td><td>896</td><td>beata4</td><td>Bagi Beáta</td><td>1</td><td>1</td><td>2</td><td>2.500000</td></tr>",
                            "<tr><td>Átlag alatti foglalás</td><td>941</td><td>BEATRIXK</td><td>Kerényi Beatrix</td><td>2</td><td>0</td><td>2</td><td>4.000000</td></tr>",
                            "<tr><td>Átlag alatti foglalás</td><td>944</td><td>BEATRIXK</td><td>Kerényi Beatrix</td><td>2</td><td>0</td><td>2</td><td>3.000000</td></tr>",
                            "<tr><td>Átlag alatti foglalás</td><td>1185</td><td>BEATRIXK</td><td>Kerényi Beatrix</td><td>1</td><td>1</td><td>2</td><td>2.333333</td></tr>",
                            "<tr><td>Átlag alatti foglalás</td><td>1279</td><td>BEATRIXK</td><td>Kerényi Beatrix</td><td>1</td><td>1</td><td>2</td><td>2.333333</td></tr>",
                            "<tr><td>Átlag alatti foglalás</td><td>1381</td><td>BEATRIXS</td><td>Szekendi Beatrix</td><td>2</td><td>0</td><td>2</td><td>3.000000</td></tr>",
                            "<tr><td>Átlag alatti foglalás</td><td>1490</td><td>BEATRIXS</td><td>Szekendi Beatrix</td><td>2</td><td>0</td><td>2</td><td>2.666666</td></tr>",
                            "<tr><td>Átlag alatti foglalás</td><td>586</td><td>BEATRIXS</td><td>Szekendi Beatrix</td><td>1</td><td>0</td><td>1</td><td>NULL</td></tr>",
                            "<tr><td>Átlag alatti foglalás</td><td>737</td><td>BELAF</td><td>Farkas Béla</td><td>1</td><td>1</td><td>2</td><td>3.000000</td></tr>",
                            "<tr><td>Átlag alatti foglalás</td><td>838</td><td>BELAF</td><td>Farkas Béla</td><td>1</td><td>1</td><td>2</td><td>2.500000</td></tr>",
                            "<tr><td>Átlag alatti foglalás</td><td>1350</td><td>BELAF</td><td>Farkas Béla</td><td>1</td><td>0</td><td>1</td><td>3.000000</td></tr>",
                            "<tr><td>Átlag alatti foglalás</td><td>1368</td><td>bence</td><td>Győrffy Bence</td><td>2</td><td>0</td><td>2</td><td>2.666666</td></tr>",
                            "<tr><td>Átlag alatti foglalás</td><td>1400</td><td>bence</td><td>Győrffy Bence</td><td>1</td><td>1</td><td>2</td><td>2.333333</td></tr>",
                            "<tr><td>Átlag alatti foglalás</td><td>872</td><td>bence</td><td>Győrffy Bence</td><td>1</td><td>0</td><td>1</td><td>2.666666</td></tr>",
                            "<tr><td>Átlag alatti foglalás</td><td>713</td><td>bence</td><td>Győrffy Bence</td><td>1</td><td>1</td><td>2</td><td>2.000000</td></tr>",
                            "<tr><td>Átlag alatti foglalás</td><td>626</td><td>bence</td><td>Győrffy Bence</td><td>2</td><td>0</td><td>2</td><td>NULL</td></tr>",
                            "<tr><td>Átlag alatti foglalás</td><td>745</td><td>BENCEB</td><td>Bajusz Bence</td><td>2</td><td>0</td><td>2</td><td>3.000000</td></tr>",
                            "<tr><td>Átlag alatti foglalás</td><td>900</td><td>BENCEB</td><td>Bajusz Bence</td><td>1</td><td>1</td><td>2</td><td>2.500000</td></tr>",
                            "<tr><td>Átlag alatti foglalás</td><td>1326</td><td>BENCEB</td><td>Bajusz Bence</td><td>2</td><td>0</td><td>2</td><td>2.333333</td></tr>",
                            "<tr><td>Átlag alatti foglalás</td><td>1568</td><td>bernadett1</td><td>Simon Bernadett</td><td>1</td><td>0</td><td>1</td><td>3.000000</td></tr>",
                            "<tr><td>Átlag alatti foglalás</td><td>1367</td><td>bernadett2</td><td>Kovács Bernadett</td><td>1</td><td>0</td><td>1</td><td>3.000000</td></tr>",
                            "<tr><td>Átlag alatti foglalás</td><td>812</td><td>bernadett2</td><td>Kovács Bernadett</td><td>2</td><td>0</td><td>2</td><td>2.000000</td></tr>",
                            "<tr><td>Átlag alatti foglalás</td><td>612</td><td>bernadett2</td><td>Kovács Bernadett</td><td>1</td><td>1</td><td>2</td><td>NULL</td></tr>",
                            "<tr><td>Átlag alatti foglalás</td><td>584</td><td>BERNADETTO</td><td>Orbán Bernadett</td><td>1</td><td>1</td><td>2</td><td>2.000000</td></tr>",
                            "<tr><td>Átlag alatti foglalás</td><td>570</td><td>BERNADETTO</td><td>Orbán Bernadett</td><td>2</td><td>0</td><td>2</td><td>NULL</td></tr>",
                            "<tr><td>Átlag alatti foglalás</td><td>1477</td><td>BERNADETTO</td><td>Orbán Bernadett</td><td>1</td><td>1</td><td>2</td><td>3.000000</td></tr>",
                            "<tr><td>Átlag alatti foglalás</td><td>1120</td><td>BERNADETTO</td><td>Orbán Bernadett</td><td>1</td><td>1</td><td>2</td><td>3.000000</td></tr>",
                            "<tr><td>Átlag alatti foglalás</td><td>1241</td><td>bertalan</td><td>Csiger Bertalan</td><td>1</td><td>1</td><td>2</td><td>1.500000</td></tr>",
                            "<tr><td>Átlag alatti foglalás</td><td>1536</td><td>bertalan</td><td>Csiger Bertalan</td><td>2</td><td>0</td><td>2</td><td>2.000000</td></tr>",
                            "<tr><td>Átlag alatti foglalás</td><td>654</td><td>bertalan</td><td>Csiger Bertalan</td><td>1</td><td>1</td><td>2</td><td>NULL</td></tr>",
                            "<tr><td>Átlag alatti foglalás</td><td>974</td><td>bertalan</td><td>Csiger Bertalan</td><td>1</td><td>0</td><td>1</td><td>2.000000</td></tr>",
                            "<tr><td>Átlag alatti foglalás</td><td>1469</td><td>brigitta</td><td>Székely Brigitta</td><td>1</td><td>0</td><td>1</td><td>2.666666</td></tr>",
                            "<tr><td>Átlag alatti foglalás</td><td>1373</td><td>brigitta</td><td>Székely Brigitta</td><td>2</td><td>0</td><td>2</td><td>3.000000</td></tr>",
                            "<tr><td>Átlag alatti foglalás</td><td>1513</td><td>brigitta3</td><td>Pataki Brigitta</td><td>1</td><td>1</td><td>2</td><td>2.666666</td></tr>",
                            "<tr><td>Átlag alatti foglalás</td><td>1147</td><td>brigitta3</td><td>Pataki Brigitta</td><td>1</td><td>1</td><td>2</td><td>2.500000</td></tr>",
                            "<tr><td>Átlag alatti foglalás</td><td>886</td><td>brigitta3</td><td>Pataki Brigitta</td><td>1</td><td>1</td><td>2</td><td>NULL</td></tr>",
                            "<tr><td>Átlag alatti foglalás</td><td>906</td><td>csongor3</td><td>Nagymihály Csongor</td><td>1</td><td>1</td><td>2</td><td>2.500000</td></tr>",
                            "<tr><td>Átlag alatti foglalás</td><td>951</td><td>csongor3</td><td>Nagymihály Csongor</td><td>2</td><td>0</td><td>2</td><td>2.666666</td></tr>",
                            "<tr><td>Átlag alatti foglalás</td><td>613</td><td>csongor3</td><td>Nagymihály Csongor</td><td>2</td><td>0</td><td>2</td><td>NULL</td></tr>",
                            "<tr><td>Átlag alatti foglalás</td><td>761</td><td>dani</td><td>Vörös Dániel</td><td>2</td><td>0</td><td>2</td><td>NULL</td></tr>",
                            "<tr><td>Átlag alatti foglalás</td><td>1102</td><td>dani</td><td>Vörös Dániel</td><td>1</td><td>0</td><td>1</td><td>3.333333</td></tr>",
                            "<tr><td>Átlag alatti foglalás</td><td>1303</td><td>dani</td><td>Vörös Dániel</td><td>2</td><td>0</td><td>2</td><td>2.666666</td></tr>",
                            "<tr><td>Átlag alatti foglalás</td><td>1466</td><td>dani</td><td>Vörös Dániel</td><td>1</td><td>0</td><td>1</td><td>1.666666</td></tr>",
                            "<tr><td>Átlag alatti foglalás</td><td>1451</td><td>dani</td><td>Vörös Dániel</td><td>2</td><td>0</td><td>2</td><td>2.333333</td></tr>",
                            "<tr><td>Átlag alatti foglalás</td><td>1430</td><td>daniel</td><td>Rácz Dániel</td><td>1</td><td>0</td><td>1</td><td>3.333333</td></tr>",
                            "<tr><td>Átlag alatti foglalás</td><td>594</td><td>daniel</td><td>Rácz Dániel</td><td>2</td><td>0</td><td>2</td><td>4.000000</td></tr>",
                            "<tr><td>Átlag alatti foglalás</td><td>573</td><td>daniel1</td><td>Keszler Dániel</td><td>1</td><td>1</td><td>2</td><td>NULL</td></tr>",
                            "<tr><td>Átlag alatti foglalás</td><td>1309</td><td>daniel1</td><td>Keszler Dániel</td><td>2</td><td>0</td><td>2</td><td>3.000000</td></tr>",
                            "<tr><td>Átlag alatti foglalás</td><td>1269</td><td>daniel1</td><td>Keszler Dániel</td><td>2</td><td>0</td><td>2</td><td>3.000000</td></tr>",
                            "<tr><td>Átlag alatti foglalás</td><td>1227</td><td>david</td><td>Ambrus Dávid</td><td>2</td><td>0</td><td>2</td><td>2.333333</td></tr>",
                            "<tr><td>Átlag alatti foglalás</td><td>1454</td><td>david</td><td>Ambrus Dávid</td><td>2</td><td>0</td><td>2</td><td>2.000000</td></tr>",
                            "<tr><td>Átlag alatti foglalás</td><td>653</td><td>david</td><td>Ambrus Dávid</td><td>2</td><td>0</td><td>2</td><td>NULL</td></tr>",
                            "<tr><td>Átlag alatti foglalás</td><td>757</td><td>david</td><td>Ambrus Dávid</td><td>1</td><td>0</td><td>1</td><td>2.000000</td></tr>",
                            "<tr><td>Átlag alatti foglalás</td><td>681</td><td>david</td><td>Ambrus Dávid</td><td>1</td><td>1</td><td>2</td><td>2.000000</td></tr>",
                            "<tr><td>Átlag alatti foglalás</td><td>938</td><td>david</td><td>Ambrus Dávid</td><td>1</td><td>1</td><td>2</td><td>2.333333</td></tr>",
                            "<tr><td>Átlag alatti foglalás</td><td>994</td><td>david</td><td>Ambrus Dávid</td><td>1</td><td>1</td><td>2</td><td>2.666666</td></tr>",
                            "<tr><td>Átlag alatti foglalás</td><td>1407</td><td>david1</td><td>Sobják Dávid</td><td>2</td><td>0</td><td>2</td><td>2.000000</td></tr>",
                            "<tr><td>Átlag alatti foglalás</td><td>1296</td><td>david1</td><td>Sobják Dávid</td><td>1</td><td>1</td><td>2</td><td>2.000000</td></tr>",
                            "<tr><td>Átlag alatti foglalás</td><td>1104</td><td>david1</td><td>Sobják Dávid</td><td>2</td><td>0</td><td>2</td><td>2.000000</td></tr>",
                            "<tr><td>Átlag alatti foglalás</td><td>1072</td><td>david1</td><td>Sobják Dávid</td><td>2</td><td>0</td><td>2</td><td>NULL</td></tr>",
                            "<tr><td>Átlag alatti foglalás</td><td>1214</td><td>debora</td><td>Barna Debóra</td><td>1</td><td>1</td><td>2</td><td>5.000000</td></tr>",
                            "<tr><td>Átlag alatti foglalás</td><td>1254</td><td>denes</td><td>Tömböly Dénes</td><td>1</td><td>1</td><td>2</td><td>2.666666</td></tr>",
                            "<tr><td>Átlag alatti foglalás</td><td>690</td><td>denes</td><td>Tömböly Dénes</td><td>1</td><td>1</td><td>2</td><td>NULL</td></tr>",
                            "<tr><td>Átlag alatti foglalás</td><td>783</td><td>denes</td><td>Tömböly Dénes</td><td>2</td><td>0</td><td>2</td><td>2.500000</td></tr>",
                            "<tr><td>Átlag alatti foglalás</td><td>773</td><td>edit</td><td>Bittmann Edit</td><td>1</td><td>1</td><td>2</td><td>3.500000</td></tr>",
                            "<tr><td>Átlag alatti foglalás</td><td>1061</td><td>edit</td><td>Bittmann Edit</td><td>1</td><td>1</td><td>2</td><td>3.000000</td></tr>",
                            "<tr><td>Átlag alatti foglalás</td><td>1250</td><td>emese</td><td>Kuruc Emese</td><td>1</td><td>0</td><td>1</td><td>2.333333</td></tr>",
                            "<tr><td>Átlag alatti foglalás</td><td>1484</td><td>emese</td><td>Kuruc Emese</td><td>1</td><td>1</td><td>2</td><td>2.666666</td></tr>",
                            "<tr><td>Átlag alatti foglalás</td><td>765</td><td>emese</td><td>Kuruc Emese</td><td>1</td><td>1</td><td>2</td><td>2.000000</td></tr>",
                            "<tr><td>Átlag alatti foglalás</td><td>706</td><td>emese</td><td>Kuruc Emese</td><td>2</td><td>0</td><td>2</td><td>NULL</td></tr>",
                            "<tr><td>Átlag alatti foglalás</td><td>1385</td><td>eszter</td><td>Molnár Eszter</td><td>1</td><td>1</td><td>2</td><td>3.000000</td></tr>",
                            "<tr><td>Átlag alatti foglalás</td><td>1345</td><td>eszter2</td><td>Balogh Eszter</td><td>2</td><td>0</td><td>2</td><td>2.000000</td></tr>",
                            "<tr><td>Átlag alatti foglalás</td><td>1336</td><td>eszter2</td><td>Balogh Eszter</td><td>1</td><td>0</td><td>1</td><td>2.000000</td></tr>",
                            "<tr><td>Átlag alatti foglalás</td><td>1480</td><td>eszter2</td><td>Balogh Eszter</td><td>1</td><td>0</td><td>1</td><td>2.333333</td></tr>",
                            "<tr><td>Átlag alatti foglalás</td><td>1187</td><td>eszter2</td><td>Balogh Eszter</td><td>1</td><td>0</td><td>1</td><td>1.666666</td></tr>",
                            "<tr><td>Átlag alatti foglalás</td><td>1109</td><td>eszter2</td><td>Balogh Eszter</td><td>1</td><td>0</td><td>1</td><td>2.333333</td></tr>",
                            "<tr><td>Átlag alatti foglalás</td><td>1171</td><td>eszter2</td><td>Balogh Eszter</td><td>1</td><td>0</td><td>1</td><td>1.666666</td></tr>",
                            "<tr><td>Átlag alatti foglalás</td><td>1017</td><td>eszter2</td><td>Balogh Eszter</td><td>1</td><td>0</td><td>1</td><td>3.000000</td></tr>",
                            "<tr><td>Átlag alatti foglalás</td><td>1475</td><td>eszter4</td><td>Fülöp Eszter</td><td>2</td><td>0</td><td>2</td><td>2.000000</td></tr>",
                            "<tr><td>Átlag alatti foglalás</td><td>1421</td><td>eszter4</td><td>Fülöp Eszter</td><td>2</td><td>0</td><td>2</td><td>NULL</td></tr>",
                            "<tr><td>Átlag alatti foglalás</td><td>1516</td><td>ESZTERE</td><td>Érsek Eszter</td><td>1</td><td>1</td><td>2</td><td>2.000000</td></tr>",
                            "<tr><td>Átlag alatti foglalás</td><td>1235</td><td>ESZTERE</td><td>Érsek Eszter</td><td>1</td><td>1</td><td>2</td><td>2.000000</td></tr>",
                            "<tr><td>Átlag alatti foglalás</td><td>874</td><td>ESZTERE</td><td>Érsek Eszter</td><td>2</td><td>0</td><td>2</td><td>2.000000</td></tr>",
                            "<tr><td>Átlag alatti foglalás</td><td>688</td><td>ESZTERE</td><td>Érsek Eszter</td><td>2</td><td>0</td><td>2</td><td>NULL</td></tr>",
                            "<tr><td>Átlag alatti foglalás</td><td>1438</td><td>eva</td><td>Enyedi Éva</td><td>2</td><td>0</td><td>2</td><td>3.000000</td></tr>",
                            "<tr><td>Átlag alatti foglalás</td><td>1349</td><td>eva2</td><td>Perlinger Éva</td><td>2</td><td>0</td><td>2</td><td>1.500000</td></tr>",
                            "<tr><td>Átlag alatti foglalás</td><td>1255</td><td>eva2</td><td>Perlinger Éva</td><td>2</td><td>0</td><td>2</td><td>1.000000</td></tr>",
                            "<tr><td>Átlag alatti foglalás</td><td>845</td><td>eva2</td><td>Perlinger Éva</td><td>1</td><td>0</td><td>1</td><td>NULL</td></tr>",
                            "<tr><td>Átlag alatti foglalás</td><td>842</td><td>EVAV</td><td>Viktor Éva</td><td>2</td><td>0</td><td>2</td><td>3.000000</td></tr>",
                            "<tr><td>Átlag alatti foglalás</td><td>1160</td><td>EVAV</td><td>Viktor Éva</td><td>1</td><td>1</td><td>2</td><td>2.666666</td></tr>",
                            "<tr><td>Átlag alatti foglalás</td><td>1131</td><td>ferenc1</td><td>Orosz Ferenc</td><td>2</td><td>0</td><td>2</td><td>2.000000</td></tr>",
                            "<tr><td>Átlag alatti foglalás</td><td>966</td><td>ferenc1</td><td>Orosz Ferenc</td><td>1</td><td>1</td><td>2</td><td>2.000000</td></tr>",
                            "<tr><td>Átlag alatti foglalás</td><td>625</td><td>ferenc1</td><td>Orosz Ferenc</td><td>1</td><td>1</td><td>2</td><td>NULL</td></tr>",
                            "<tr><td>Átlag alatti foglalás</td><td>889</td><td>fruzsina4</td><td>Frank Fruzsina</td><td>2</td><td>0</td><td>2</td><td>3.500000</td></tr>",
                            "<tr><td>Átlag alatti foglalás</td><td>1305</td><td>fruzsina4</td><td>Frank Fruzsina</td><td>1</td><td>1</td><td>2</td><td>2.666666</td></tr>",
                            "<tr><td>Átlag alatti foglalás</td><td>1366</td><td>fruzsina4</td><td>Frank Fruzsina</td><td>1</td><td>0</td><td>1</td><td>2.666666</td></tr>",
                            "<tr><td>Átlag alatti foglalás</td><td>1291</td><td>gabor1</td><td>Köves Gábor</td><td>2</td><td>0</td><td>2</td><td>2.000000</td></tr>",
                            "<tr><td>Átlag alatti foglalás</td><td>1169</td><td>gabor1</td><td>Köves Gábor</td><td>1</td><td>0</td><td>1</td><td>2.666666</td></tr>",
                            "<tr><td>Átlag alatti foglalás</td><td>1026</td><td>gabor1</td><td>Köves Gábor</td><td>1</td><td>0</td><td>1</td><td>3.000000</td></tr>",
                            "<tr><td>Átlag alatti foglalás</td><td>730</td><td>gabor1</td><td>Köves Gábor</td><td>2</td><td>0</td><td>2</td><td>NULL</td></tr>",
                            "<tr><td>Átlag alatti foglalás</td><td>878</td><td>gabor4</td><td>Telek Gábor</td><td>1</td><td>0</td><td>1</td><td>3.500000</td></tr>",
                            "<tr><td>Átlag alatti foglalás</td><td>710</td><td>gabriella1</td><td>Nagy Gabriella</td><td>1</td><td>1</td><td>2</td><td>3.000000</td></tr>",
                            "<tr><td>Átlag alatti foglalás</td><td>1524</td><td>gabriella1</td><td>Nagy Gabriella</td><td>2</td><td>0</td><td>2</td><td>2.666666</td></tr>",
                            "<tr><td>Átlag alatti foglalás</td><td>831</td><td>georgij</td><td>Nyíri Georgij</td><td>1</td><td>1</td><td>2</td><td>4.000000</td></tr>",
                            "<tr><td>Átlag alatti foglalás</td><td>621</td><td>gusztav</td><td>Bárci Gusztáv</td><td>1</td><td>1</td><td>2</td><td>NULL</td></tr>",
                            "<tr><td>Átlag alatti foglalás</td><td>1492</td><td>gusztav</td><td>Bárci Gusztáv</td><td>2</td><td>0</td><td>2</td><td>2.666666</td></tr>",
                            "<tr><td>Átlag alatti foglalás</td><td>1335</td><td>GYONGYIK</td><td>Kornseé Gyöngyi</td><td>1</td><td>1</td><td>2</td><td>1.666666</td></tr>",
                            "<tr><td>Átlag alatti foglalás</td><td>1265</td><td>GYONGYIK</td><td>Kornseé Gyöngyi</td><td>2</td><td>0</td><td>2</td><td>2.000000</td></tr>",
                            "<tr><td>Átlag alatti foglalás</td><td>1000</td><td>GYONGYIK</td><td>Kornseé Gyöngyi</td><td>2</td><td>0</td><td>2</td><td>2.333333</td></tr>",
                            "<tr><td>Átlag alatti foglalás</td><td>945</td><td>GYONGYIK</td><td>Kornseé Gyöngyi</td><td>1</td><td>0</td><td>1</td><td>3.000000</td></tr>",
                            "<tr><td>Átlag alatti foglalás</td><td>946</td><td>GYORGYO</td><td>Oroszi György</td><td>2</td><td>0</td><td>2</td><td>2.666666</td></tr>",
                            "<tr><td>Átlag alatti foglalás</td><td>887</td><td>GYORGYO</td><td>Oroszi György</td><td>2</td><td>0</td><td>2</td><td>2.666666</td></tr>",
                            "<tr><td>Átlag alatti foglalás</td><td>683</td><td>GYORGYO</td><td>Oroszi György</td><td>1</td><td>1</td><td>2</td><td>NULL</td></tr>",
                            "<tr><td>Átlag alatti foglalás</td><td>1213</td><td>GYORGYO</td><td>Oroszi György</td><td>1</td><td>0</td><td>1</td><td>2.333333</td></tr>",
                            "<tr><td>Átlag alatti foglalás</td><td>1527</td><td>GYORGYO</td><td>Oroszi György</td><td>1</td><td>1</td><td>2</td><td>1.666666</td></tr>",
                            "<tr><td>Átlag alatti foglalás</td><td>818</td><td>henrik3</td><td>Nádudvari Henrik</td><td>1</td><td>0</td><td>1</td><td>NULL</td></tr>",
                            "<tr><td>Átlag alatti foglalás</td><td>1184</td><td>IBOLYAA</td><td>Andor Ibolya</td><td>2</td><td>0</td><td>2</td><td>5.000000</td></tr>",
                            "<tr><td>Átlag alatti foglalás</td><td>742</td><td>ilona3</td><td>Bosnyák Ilona</td><td>1</td><td>1</td><td>2</td><td>NULL</td></tr>",
                            "<tr><td>Átlag alatti foglalás</td><td>806</td><td>imre1</td><td>Papp Imre</td><td>2</td><td>0</td><td>2</td><td>NULL</td></tr>",
                            "<tr><td>Átlag alatti foglalás</td><td>836</td><td>imre1</td><td>Papp Imre</td><td>2</td><td>0</td><td>2</td><td>2.500000</td></tr>",
                            "<tr><td>Átlag alatti foglalás</td><td>989</td><td>imre1</td><td>Papp Imre</td><td>2</td><td>0</td><td>2</td><td>3.000000</td></tr>",
                            "<tr><td>Átlag alatti foglalás</td><td>1487</td><td>imre1</td><td>Papp Imre</td><td>1</td><td>1</td><td>2</td><td>2.666666</td></tr>",
                            "<tr><td>Átlag alatti foglalás</td><td>1413</td><td>istvan</td><td>Soós István</td><td>2</td><td>0</td><td>2</td><td>2.500000</td></tr>",
                            "<tr><td>Átlag alatti foglalás</td><td>1127</td><td>istvan</td><td>Soós István</td><td>2</td><td>0</td><td>2</td><td>NULL</td></tr>",
                            "<tr><td>Átlag alatti foglalás</td><td>689</td><td>istvan1</td><td>Vizi István</td><td>1</td><td>0</td><td>1</td><td>3.000000</td></tr>",
                            "<tr><td>Átlag alatti foglalás</td><td>904</td><td>janos3</td><td>Harangozó János</td><td>1</td><td>0</td><td>1</td><td>3.000000</td></tr>",
                            "<tr><td>Átlag alatti foglalás</td><td>1177</td><td>janos3</td><td>Harangozó János</td><td>1</td><td>0</td><td>1</td><td>2.333333</td></tr>",
                            "<tr><td>Átlag alatti foglalás</td><td>1402</td><td>JANOSG</td><td>Giliga János</td><td>2</td><td>0</td><td>2</td><td>3.000000</td></tr>",
                            "<tr><td>Átlag alatti foglalás</td><td>1431</td><td>JANOSG</td><td>Giliga János</td><td>2</td><td>0</td><td>2</td><td>2.666666</td></tr>",
                            "<tr><td>Átlag alatti foglalás</td><td>1486</td><td>JANOSG</td><td>Giliga János</td><td>2</td><td>0</td><td>2</td><td>2.333333</td></tr>",
                            "<tr><td>Átlag alatti foglalás</td><td>631</td><td>JANOSG</td><td>Giliga János</td><td>1</td><td>0</td><td>1</td><td>NULL</td></tr>",
                            "<tr><td>Átlag alatti foglalás</td><td>1314</td><td>JANOSP</td><td>Pálinkás János</td><td>2</td><td>0</td><td>2</td><td>3.000000</td></tr>",
                            "<tr><td>Átlag alatti foglalás</td><td>1378</td><td>JANOSP</td><td>Pálinkás János</td><td>1</td><td>1</td><td>2</td><td>2.333333</td></tr>",
                            "<tr><td>Átlag alatti foglalás</td><td>1318</td><td>JANOSP</td><td>Pálinkás János</td><td>1</td><td>1</td><td>2</td><td>2.500000</td></tr>",
                            "<tr><td>Átlag alatti foglalás</td><td>1133</td><td>jozsef</td><td>Gergely József</td><td>1</td><td>1</td><td>2</td><td>2.000000</td></tr>",
                            "<tr><td>Átlag alatti foglalás</td><td>1348</td><td>jozsef</td><td>Gergely József</td><td>2</td><td>0</td><td>2</td><td>2.000000</td></tr>",
                            "<tr><td>Átlag alatti foglalás</td><td>1050</td><td>jozsef</td><td>Gergely József</td><td>2</td><td>0</td><td>2</td><td>NULL</td></tr>",
                            "<tr><td>Átlag alatti foglalás</td><td>1039</td><td>jozsef2</td><td>Vajda József</td><td>1</td><td>1</td><td>2</td><td>2.500000</td></tr>",
                            "<tr><td>Átlag alatti foglalás</td><td>1013</td><td>jozsef2</td><td>Vajda József</td><td>2</td><td>0</td><td>2</td><td>3.000000</td></tr>",
                            "<tr><td>Átlag alatti foglalás</td><td>852</td><td>JOZSEFG</td><td>Gyuris József</td><td>1</td><td>0</td><td>1</td><td>2.500000</td></tr>",
                            "<tr><td>Átlag alatti foglalás</td><td>616</td><td>JOZSEFG</td><td>Gyuris József</td><td>2</td><td>0</td><td>2</td><td>NULL</td></tr>",
                            "<tr><td>Átlag alatti foglalás</td><td>1426</td><td>JOZSEFG</td><td>Gyuris József</td><td>2</td><td>0</td><td>2</td><td>2.666666</td></tr>",
                            "<tr><td>Átlag alatti foglalás</td><td>1461</td><td>JOZSEFG</td><td>Gyuris József</td><td>1</td><td>0</td><td>1</td><td>2.333333</td></tr>",
                            "<tr><td>Átlag alatti foglalás</td><td>1379</td><td>JUDITH</td><td>Hídasi Judit</td><td>1</td><td>0</td><td>1</td><td>2.000000</td></tr>",
                            "<tr><td>Átlag alatti foglalás</td><td>729</td><td>JUDITH</td><td>Hídasi Judit</td><td>1</td><td>1</td><td>2</td><td>NULL</td></tr>",
                            "<tr><td>Átlag alatti foglalás</td><td>920</td><td>JUDITH</td><td>Hídasi Judit</td><td>2</td><td>0</td><td>2</td><td>2.000000</td></tr>",
                            "<tr><td>Átlag alatti foglalás</td><td>699</td><td>julia</td><td>Tóth Júlia</td><td>1</td><td>1</td><td>2</td><td>1.500000</td></tr>",
                            "<tr><td>Átlag alatti foglalás</td><td>592</td><td>julia</td><td>Tóth Júlia</td><td>1</td><td>1</td><td>2</td><td>NULL</td></tr>",
                            "<tr><td>Átlag alatti foglalás</td><td>638</td><td>julia</td><td>Tóth Júlia</td><td>1</td><td>0</td><td>1</td><td>2.000000</td></tr>",
                            "<tr><td>Átlag alatti foglalás</td><td>1258</td><td>julia4</td><td>Nagy Júlia</td><td>1</td><td>0</td><td>1</td><td>NULL</td></tr>",
                            "<tr><td>Átlag alatti foglalás</td><td>1244</td><td>julianna4</td><td>Szabó Julianna</td><td>2</td><td>0</td><td>2</td><td>2.500000</td></tr>",
                            "<tr><td>Átlag alatti foglalás</td><td>692</td><td>julianna4</td><td>Szabó Julianna</td><td>2</td><td>0</td><td>2</td><td>NULL</td></tr>",
                            "<tr><td>Átlag alatti foglalás</td><td>601</td><td>kata</td><td>Gondos Katalin</td><td>1</td><td>0</td><td>1</td><td>2.000000</td></tr>",
                            "<tr><td>Átlag alatti foglalás</td><td>568</td><td>kata</td><td>Gondos Katalin</td><td>2</td><td>0</td><td>2</td><td>NULL</td></tr>",
                            "<tr><td>Átlag alatti foglalás</td><td>931</td><td>kata</td><td>Gondos Katalin</td><td>2</td><td>0</td><td>2</td><td>2.333333</td></tr>",
                            "<tr><td>Átlag alatti foglalás</td><td>999</td><td>kata</td><td>Gondos Katalin</td><td>2</td><td>0</td><td>2</td><td>2.666666</td></tr>",
                            "<tr><td>Átlag alatti foglalás</td><td>1006</td><td>kata</td><td>Gondos Katalin</td><td>1</td><td>0</td><td>1</td><td>2.333333</td></tr>",
                            "<tr><td>Átlag alatti foglalás</td><td>1015</td><td>katalin</td><td>Horváth Katalin</td><td>1</td><td>0</td><td>1</td><td>1.333333</td></tr>",
                            "<tr><td>Átlag alatti foglalás</td><td>572</td><td>katalin</td><td>Horváth Katalin</td><td>1</td><td>1</td><td>2</td><td>NULL</td></tr>",
                            "<tr><td>Átlag alatti foglalás</td><td>661</td><td>katalin</td><td>Horváth Katalin</td><td>1</td><td>0</td><td>1</td><td>2.000000</td></tr>",
                            "<tr><td>Átlag alatti foglalás</td><td>733</td><td>katalin</td><td>Horváth Katalin</td><td>1</td><td>0</td><td>1</td><td>1.500000</td></tr>",
                            "<tr><td>Átlag alatti foglalás</td><td>1198</td><td>katalin</td><td>Horváth Katalin</td><td>1</td><td>1</td><td>2</td><td>1.000000</td></tr>",
                            "<tr><td>Átlag alatti foglalás</td><td>1372</td><td>katalin</td><td>Horváth Katalin</td><td>1</td><td>0</td><td>1</td><td>1.666666</td></tr>",
                            "<tr><td>Átlag alatti foglalás</td><td>1360</td><td>katalin</td><td>Horváth Katalin</td><td>1</td><td>1</td><td>2</td><td>1.333333</td></tr>",
                            "<tr><td>Átlag alatti foglalás</td><td>1388</td><td>katalin</td><td>Horváth Katalin</td><td>1</td><td>1</td><td>2</td><td>1.666666</td></tr>",
                            "<tr><td>Átlag alatti foglalás</td><td>1473</td><td>katalin4</td><td>Kertész Katalin</td><td>2</td><td>0</td><td>2</td><td>2.666666</td></tr>",
                            "<tr><td>Átlag alatti foglalás</td><td>1455</td><td>katalin4</td><td>Kertész Katalin</td><td>1</td><td>1</td><td>2</td><td>3.333333</td></tr>",
                            "<tr><td>Átlag alatti foglalás</td><td>997</td><td>katalin4</td><td>Kertész Katalin</td><td>1</td><td>0</td><td>1</td><td>NULL</td></tr>",
                            "<tr><td>Átlag alatti foglalás</td><td>911</td><td>kati</td><td>Zatykó Katalin</td><td>1</td><td>1</td><td>2</td><td>2.000000</td></tr>",
                            "<tr><td>Átlag alatti foglalás</td><td>723</td><td>kati</td><td>Zatykó Katalin</td><td>2</td><td>0</td><td>2</td><td>2.000000</td></tr>",
                            "<tr><td>Átlag alatti foglalás</td><td>751</td><td>kati</td><td>Zatykó Katalin</td><td>2</td><td>0</td><td>2</td><td>2.000000</td></tr>",
                            "<tr><td>Átlag alatti foglalás</td><td>665</td><td>kati</td><td>Zatykó Katalin</td><td>2</td><td>0</td><td>2</td><td>NULL</td></tr>",
                            "<tr><td>Átlag alatti foglalás</td><td>1192</td><td>kati</td><td>Zatykó Katalin</td><td>2</td><td>0</td><td>2</td><td>2.333333</td></tr>",
                            "<tr><td>Átlag alatti foglalás</td><td>574</td><td>katka</td><td>Kovács Katalin</td><td>2</td><td>0</td><td>2</td><td>NULL</td></tr>",
                            "<tr><td>Átlag alatti foglalás</td><td>954</td><td>katka</td><td>Kovács Katalin</td><td>1</td><td>0</td><td>1</td><td>2.333333</td></tr>",
                            "<tr><td>Átlag alatti foglalás</td><td>819</td><td>katka</td><td>Kovács Katalin</td><td>1</td><td>1</td><td>2</td><td>2.500000</td></tr>",
                            "<tr><td>Átlag alatti foglalás</td><td>1108</td><td>klaudia2</td><td>Bakó Klaudia</td><td>2</td><td>0</td><td>2</td><td>4.000000</td></tr>",
                            "<tr><td>Átlag alatti foglalás</td><td>1115</td><td>klaudia2</td><td>Bakó Klaudia</td><td>1</td><td>1</td><td>2</td><td>3.000000</td></tr>",
                            "<tr><td>Átlag alatti foglalás</td><td>1096</td><td>kristof4</td><td>Poprádi Kristóf</td><td>2</td><td>0</td><td>2</td><td>2.000000</td></tr>",
                            "<tr><td>Átlag alatti foglalás</td><td>565</td><td>kristof4</td><td>Poprádi Kristóf</td><td>2</td><td>0</td><td>2</td><td>NULL</td></tr>",
                            "<tr><td>Átlag alatti foglalás</td><td>656</td><td>kriszti</td><td>Horváth Krisztina</td><td>2</td><td>0</td><td>2</td><td>NULL</td></tr>",
                            "<tr><td>Átlag alatti foglalás</td><td>732</td><td>krisztian4</td><td>Czérna Krisztián</td><td>1</td><td>1</td><td>2</td><td>NULL</td></tr>",
                            "<tr><td>Átlag alatti foglalás</td><td>787</td><td>krisztian4</td><td>Czérna Krisztián</td><td>1</td><td>0</td><td>1</td><td>2.500000</td></tr>",
                            "<tr><td>Átlag alatti foglalás</td><td>834</td><td>krisztian4</td><td>Czérna Krisztián</td><td>1</td><td>0</td><td>1</td><td>2.000000</td></tr>",
                            "<tr><td>Átlag alatti foglalás</td><td>894</td><td>krisztian4</td><td>Czérna Krisztián</td><td>2</td><td>0</td><td>2</td><td>1.666666</td></tr>",
                            "<tr><td>Átlag alatti foglalás</td><td>929</td><td>krisztian4</td><td>Czérna Krisztián</td><td>2</td><td>0</td><td>2</td><td>1.333333</td></tr>",
                            "<tr><td>Átlag alatti foglalás</td><td>1237</td><td>krisztian4</td><td>Czérna Krisztián</td><td>2</td><td>0</td><td>2</td><td>2.333333</td></tr>",
                            "<tr><td>Átlag alatti foglalás</td><td>1564</td><td>krisztian4</td><td>Czérna Krisztián</td><td>1</td><td>1</td><td>2</td><td>2.000000</td></tr>",
                            "<tr><td>Átlag alatti foglalás</td><td>1422</td><td>krisztian4</td><td>Czérna Krisztián</td><td>1</td><td>0</td><td>1</td><td>2.333333</td></tr>",
                            "<tr><td>Átlag alatti foglalás</td><td>1358</td><td>krisztian4</td><td>Czérna Krisztián</td><td>1</td><td>1</td><td>2</td><td>2.333333</td></tr>",
                            "<tr><td>Átlag alatti foglalás</td><td>1443</td><td>KRISZTIANM</td><td>Mogyródi Krisztián</td><td>1</td><td>0</td><td>1</td><td>2.333333</td></tr>",
                            "<tr><td>Átlag alatti foglalás</td><td>1392</td><td>KRISZTIANM</td><td>Mogyródi Krisztián</td><td>1</td><td>1</td><td>2</td><td>3.000000</td></tr>",
                            "<tr><td>Átlag alatti foglalás</td><td>901</td><td>KRISZTIANM</td><td>Mogyródi Krisztián</td><td>2</td><td>0</td><td>2</td><td>3.000000</td></tr>",
                            "<tr><td>Átlag alatti foglalás</td><td>566</td><td>KRISZTIANM</td><td>Mogyródi Krisztián</td><td>1</td><td>1</td><td>2</td><td>NULL</td></tr>",
                            "<tr><td>Átlag alatti foglalás</td><td>659</td><td>krisztina</td><td>Szedlár Krisztina</td><td>2</td><td>0</td><td>2</td><td>NULL</td></tr>",
                            "<tr><td>Átlag alatti foglalás</td><td>1048</td><td>krisztina</td><td>Szedlár Krisztina</td><td>1</td><td>0</td><td>1</td><td>2.500000</td></tr>",
                            "<tr><td>Átlag alatti foglalás</td><td>1502</td><td>krisztina</td><td>Szedlár Krisztina</td><td>2</td><td>0</td><td>2</td><td>1.666666</td></tr>",
                            "<tr><td>Átlag alatti foglalás</td><td>1266</td><td>krisztina</td><td>Szedlár Krisztina</td><td>2</td><td>0</td><td>2</td><td>2.000000</td></tr>",
                            "<tr><td>Átlag alatti foglalás</td><td>1306</td><td>krisztina</td><td>Szedlár Krisztina</td><td>1</td><td>0</td><td>1</td><td>1.666666</td></tr>",
                            "<tr><td>Átlag alatti foglalás</td><td>1067</td><td>krisztina</td><td>Szedlár Krisztina</td><td>2</td><td>0</td><td>2</td><td>2.000000</td></tr>",
                            "<tr><td>Átlag alatti foglalás</td><td>1460</td><td>krisztina1</td><td>Bori Krisztina</td><td>1</td><td>1</td><td>2</td><td>3.000000</td></tr>",
                            "<tr><td>Átlag alatti foglalás</td><td>964</td><td>krisztina1</td><td>Bori Krisztina</td><td>2</td><td>0</td><td>2</td><td>1.500000</td></tr>",
                            "<tr><td>Átlag alatti foglalás</td><td>648</td><td>krisztina1</td><td>Bori Krisztina</td><td>1</td><td>0</td><td>1</td><td>2.000000</td></tr>",
                            "<tr><td>Átlag alatti foglalás</td><td>608</td><td>krisztina1</td><td>Bori Krisztina</td><td>2</td><td>0</td><td>2</td><td>NULL</td></tr>",
                            "<tr><td>Átlag alatti foglalás</td><td>597</td><td>KRISZTINAG</td><td>Gyárfás Krisztina</td><td>2</td><td>0</td><td>2</td><td>NULL</td></tr>",
                            "<tr><td>Átlag alatti foglalás</td><td>935</td><td>KRISZTINAG</td><td>Gyárfás Krisztina</td><td>1</td><td>0</td><td>1</td><td>2.000000</td></tr>",
                            "<tr><td>Átlag alatti foglalás</td><td>854</td><td>KRISZTINAG</td><td>Gyárfás Krisztina</td><td>1</td><td>0</td><td>1</td><td>2.500000</td></tr>",
                            "<tr><td>Átlag alatti foglalás</td><td>1474</td><td>KRISZTINAG</td><td>Gyárfás Krisztina</td><td>2</td><td>0</td><td>2</td><td>1.666666</td></tr>",
                            "<tr><td>Átlag alatti foglalás</td><td>1523</td><td>lajos</td><td>Kiss Lajos</td><td>1</td><td>0</td><td>1</td><td>3.000000</td></tr>",
                            "<tr><td>Átlag alatti foglalás</td><td>682</td><td>lajos</td><td>Kiss Lajos</td><td>2</td><td>0</td><td>2</td><td>NULL</td></tr>",
                            "<tr><td>Átlag alatti foglalás</td><td>961</td><td>lala</td><td>Nagymihály Lajos</td><td>2</td><td>0</td><td>2</td><td>3.000000</td></tr>",
                            "<tr><td>Átlag alatti foglalás</td><td>1449</td><td>lala</td><td>Nagymihály Lajos</td><td>1</td><td>1</td><td>2</td><td>2.666666</td></tr>",
                            "<tr><td>Átlag alatti foglalás</td><td>604</td><td>laszlo2</td><td>Móra László</td><td>1</td><td>1</td><td>2</td><td>2.000000</td></tr>",
                            "<tr><td>Átlag alatti foglalás</td><td>561</td><td>laszlo2</td><td>Móra László</td><td>2</td><td>0</td><td>2</td><td>NULL</td></tr>",
                            "<tr><td>Átlag alatti foglalás</td><td>923</td><td>LASZLOA</td><td>Antal László</td><td>1</td><td>0</td><td>1</td><td>2.000000</td></tr>",
                            "<tr><td>Átlag alatti foglalás</td><td>899</td><td>LASZLOA</td><td>Antal László</td><td>1</td><td>1</td><td>2</td><td>NULL</td></tr>",
                            "<tr><td>Átlag alatti foglalás</td><td>1510</td><td>LASZLOA</td><td>Antal László</td><td>1</td><td>1</td><td>2</td><td>2.000000</td></tr>",
                            "<tr><td>Átlag alatti foglalás</td><td>1329</td><td>LASZLON</td><td>Nagy László</td><td>1</td><td>0</td><td>1</td><td>2.000000</td></tr>",
                            "<tr><td>Átlag alatti foglalás</td><td>1136</td><td>LASZLON</td><td>Nagy László</td><td>1</td><td>0</td><td>1</td><td>2.000000</td></tr>",
                            "<tr><td>Átlag alatti foglalás</td><td>892</td><td>LASZLON</td><td>Nagy László</td><td>1</td><td>0</td><td>1</td><td>NULL</td></tr>",
                            "<tr><td>Átlag alatti foglalás</td><td>934</td><td>LASZLON</td><td>Nagy László</td><td>2</td><td>0</td><td>2</td><td>1.000000</td></tr>",
                            "<tr><td>Átlag alatti foglalás</td><td>981</td><td>maria1</td><td>Baráth Mária</td><td>1</td><td>0</td><td>1</td><td>2.000000</td></tr>",
                            "<tr><td>Átlag alatti foglalás</td><td>864</td><td>maria1</td><td>Baráth Mária</td><td>2</td><td>0</td><td>2</td><td>1.666666</td></tr>",
                            "<tr><td>Átlag alatti foglalás</td><td>846</td><td>maria1</td><td>Baráth Mária</td><td>1</td><td>0</td><td>1</td><td>2.000000</td></tr>",
                            "<tr><td>Átlag alatti foglalás</td><td>642</td><td>maria1</td><td>Baráth Mária</td><td>2</td><td>0</td><td>2</td><td>NULL</td></tr>",
                            "<tr><td>Átlag alatti foglalás</td><td>652</td><td>maria1</td><td>Baráth Mária</td><td>1</td><td>0</td><td>1</td><td>2.000000</td></tr>",
                            "<tr><td>Átlag alatti foglalás</td><td>1567</td><td>maria1</td><td>Baráth Mária</td><td>2</td><td>0</td><td>2</td><td>2.000000</td></tr>",
                            "<tr><td>Átlag alatti foglalás</td><td>1172</td><td>mark</td><td>Kispál Márk</td><td>1</td><td>0</td><td>1</td><td>3.333333</td></tr>",
                            "<tr><td>Átlag alatti foglalás</td><td>1293</td><td>mark</td><td>Kispál Márk</td><td>2</td><td>0</td><td>2</td><td>2.333333</td></tr>",
                            "<tr><td>Átlag alatti foglalás</td><td>1076</td><td>MARKH</td><td>Horváth Márk</td><td>2</td><td>0</td><td>2</td><td>3.000000</td></tr>",
                            "<tr><td>Átlag alatti foglalás</td><td>1042</td><td>marton</td><td>Kalacsi Márton</td><td>1</td><td>1</td><td>2</td><td>2.333333</td></tr>",
                            "<tr><td>Átlag alatti foglalás</td><td>1582</td><td>marton</td><td>Kalacsi Márton</td><td>2</td><td>0</td><td>2</td><td>2.333333</td></tr>",
                            "<tr><td>Átlag alatti foglalás</td><td>620</td><td>marton</td><td>Kalacsi Márton</td><td>1</td><td>0</td><td>1</td><td>3.000000</td></tr>",
                            "<tr><td>Átlag alatti foglalás</td><td>769</td><td>marton</td><td>Kalacsi Márton</td><td>2</td><td>0</td><td>2</td><td>2.000000</td></tr>",
                            "<tr><td>Átlag alatti foglalás</td><td>979</td><td>marton</td><td>Kalacsi Márton</td><td>1</td><td>1</td><td>2</td><td>2.000000</td></tr>",
                            "<tr><td>Átlag alatti foglalás</td><td>1446</td><td>MATEK</td><td>Koza Máté</td><td>2</td><td>0</td><td>2</td><td>3.000000</td></tr>",
                            "<tr><td>Átlag alatti foglalás</td><td>1107</td><td>MATEK</td><td>Koza Máté</td><td>1</td><td>1</td><td>2</td><td>4.000000</td></tr>",
                            "<tr><td>Átlag alatti foglalás</td><td>664</td><td>matyas2</td><td>Botka Mátyás</td><td>1</td><td>1</td><td>2</td><td>NULL</td></tr>",
                            "<tr><td>Átlag alatti foglalás</td><td>636</td><td>MATYASS</td><td>Szilágyi Mátyás</td><td>2</td><td>0</td><td>2</td><td>NULL</td></tr>",
                            "<tr><td>Átlag alatti foglalás</td><td>891</td><td>MATYASS</td><td>Szilágyi Mátyás</td><td>1</td><td>0</td><td>1</td><td>2.500000</td></tr>",
                            "<tr><td>Átlag alatti foglalás</td><td>1190</td><td>MATYASS</td><td>Szilágyi Mátyás</td><td>1</td><td>0</td><td>1</td><td>2.333333</td></tr>",
                            "<tr><td>Átlag alatti foglalás</td><td>1429</td><td>MATYASS</td><td>Szilágyi Mátyás</td><td>2</td><td>0</td><td>2</td><td>2.000000</td></tr>",
                            "<tr><td>Átlag alatti foglalás</td><td>1380</td><td>MATYASS</td><td>Szilágyi Mátyás</td><td>2</td><td>0</td><td>2</td><td>2.333333</td></tr>",
                            "<tr><td>Átlag alatti foglalás</td><td>875</td><td>MIHALYJ</td><td>Juhász Mihály</td><td>2</td><td>0</td><td>2</td><td>1.000000</td></tr>",
                            "<tr><td>Átlag alatti foglalás</td><td>839</td><td>MIHALYJ</td><td>Juhász Mihály</td><td>1</td><td>0</td><td>1</td><td>NULL</td></tr>",
                            "<tr><td>Átlag alatti foglalás</td><td>990</td><td>MIHALYJ</td><td>Juhász Mihály</td><td>1</td><td>0</td><td>1</td><td>1.500000</td></tr>",
                            "<tr><td>Átlag alatti foglalás</td><td>1134</td><td>miklos2</td><td>Gondos Miklós</td><td>1</td><td>0</td><td>1</td><td>3.000000</td></tr>",
                            "<tr><td>Átlag alatti foglalás</td><td>1344</td><td>MIKLOSB</td><td>Balla Miklós</td><td>1</td><td>1</td><td>2</td><td>2.000000</td></tr>",
                            "<tr><td>Átlag alatti foglalás</td><td>987</td><td>MIKLOSB</td><td>Balla Miklós</td><td>1</td><td>1</td><td>2</td><td>2.000000</td></tr>",
                            "<tr><td>Átlag alatti foglalás</td><td>687</td><td>MIKLOSB</td><td>Balla Miklós</td><td>1</td><td>1</td><td>2</td><td>NULL</td></tr>",
                            "<tr><td>Átlag alatti foglalás</td><td>708</td><td>MONIKAM</td><td>Mohos Mónika</td><td>1</td><td>0</td><td>1</td><td>2.000000</td></tr>",
                            "<tr><td>Átlag alatti foglalás</td><td>609</td><td>MONIKAM</td><td>Mohos Mónika</td><td>2</td><td>0</td><td>2</td><td>NULL</td></tr>",
                            "<tr><td>Átlag alatti foglalás</td><td>1450</td><td>MONIKAM</td><td>Mohos Mónika</td><td>1</td><td>0</td><td>1</td><td>1.666666</td></tr>",
                            "<tr><td>Átlag alatti foglalás</td><td>1506</td><td>MONIKAM</td><td>Mohos Mónika</td><td>1</td><td>1</td><td>2</td><td>1.333333</td></tr>",
                            "<tr><td>Átlag alatti foglalás</td><td>1562</td><td>MONIKAM</td><td>Mohos Mónika</td><td>1</td><td>1</td><td>2</td><td>1.666666</td></tr>",
                            "<tr><td>Átlag alatti foglalás</td><td>1267</td><td>MONIKAM</td><td>Mohos Mónika</td><td>1</td><td>1</td><td>2</td><td>1.500000</td></tr>",
                            "<tr><td>Átlag alatti foglalás</td><td>976</td><td>nikolett3</td><td>Horváth Nikolett</td><td>1</td><td>0</td><td>1</td><td>1.500000</td></tr>",
                            "<tr><td>Átlag alatti foglalás</td><td>853</td><td>nikolett3</td><td>Horváth Nikolett</td><td>2</td><td>0</td><td>2</td><td>NULL</td></tr>",
                            "<tr><td>Átlag alatti foglalás</td><td>897</td><td>nikolett3</td><td>Horváth Nikolett</td><td>1</td><td>0</td><td>1</td><td>2.000000</td></tr>",
                            "<tr><td>Átlag alatti foglalás</td><td>992</td><td>nikoletta4</td><td>Kő Nikoletta</td><td>2</td><td>0</td><td>2</td><td>2.666666</td></tr>",
                            "<tr><td>Átlag alatti foglalás</td><td>564</td><td>nikoletta4</td><td>Kő Nikoletta</td><td>1</td><td>1</td><td>2</td><td>NULL</td></tr>",
                            "<tr><td>Átlag alatti foglalás</td><td>634</td><td>nikoletta4</td><td>Kő Nikoletta</td><td>1</td><td>1</td><td>2</td><td>2.000000</td></tr>",
                            "<tr><td>Átlag alatti foglalás</td><td>1488</td><td>nikoletta4</td><td>Kő Nikoletta</td><td>2</td><td>0</td><td>2</td><td>3.333333</td></tr>",
                            "<tr><td>Átlag alatti foglalás</td><td>1073</td><td>NIKOLETTAT</td><td>Tatár Nikoletta</td><td>2</td><td>0</td><td>2</td><td>3.333333</td></tr>",
                            "<tr><td>Átlag alatti foglalás</td><td>928</td><td>NIKOLETTAT</td><td>Tatár Nikoletta</td><td>2</td><td>0</td><td>2</td><td>4.000000</td></tr>",
                            "<tr><td>Átlag alatti foglalás</td><td>1018</td><td>norbert</td><td>Szűcs Norbert</td><td>1</td><td>0</td><td>1</td><td>NULL</td></tr>",
                            "<tr><td>Átlag alatti foglalás</td><td>1576</td><td>norbert</td><td>Szűcs Norbert</td><td>1</td><td>0</td><td>1</td><td>2.666666</td></tr>",
                            "<tr><td>Átlag alatti foglalás</td><td>1365</td><td>norbert</td><td>Szűcs Norbert</td><td>1</td><td>1</td><td>2</td><td>2.000000</td></tr>",
                            "<tr><td>Átlag alatti foglalás</td><td>1233</td><td>norbert2</td><td>Hegedűs Norbert</td><td>1</td><td>1</td><td>2</td><td>2.000000</td></tr>",
                            "<tr><td>Átlag alatti foglalás</td><td>782</td><td>norbert2</td><td>Hegedűs Norbert</td><td>1</td><td>0</td><td>1</td><td>1.666666</td></tr>",
                            "<tr><td>Átlag alatti foglalás</td><td>632</td><td>norbert2</td><td>Hegedűs Norbert</td><td>2</td><td>0</td><td>2</td><td>1.000000</td></tr>",
                            "<tr><td>Átlag alatti foglalás</td><td>587</td><td>norbert2</td><td>Hegedűs Norbert</td><td>1</td><td>0</td><td>1</td><td>NULL</td></tr>",
                            "<tr><td>Átlag alatti foglalás</td><td>724</td><td>norbert2</td><td>Hegedűs Norbert</td><td>2</td><td>0</td><td>2</td><td>1.500000</td></tr>",
                            "<tr><td>Átlag alatti foglalás</td><td>569</td><td>norbert4</td><td>Mile Norbert</td><td>2</td><td>0</td><td>2</td><td>NULL</td></tr>",
                            "<tr><td>Átlag alatti foglalás</td><td>1583</td><td>norbert4</td><td>Mile Norbert</td><td>1</td><td>1</td><td>2</td><td>2.333333</td></tr>",
                            "<tr><td>Átlag alatti foglalás</td><td>1541</td><td>norbert4</td><td>Mile Norbert</td><td>1</td><td>0</td><td>1</td><td>3.000000</td></tr>",
                            "<tr><td>Átlag alatti foglalás</td><td>1252</td><td>norbert5</td><td>Béres Norbert</td><td>1</td><td>0</td><td>1</td><td>2.000000</td></tr>",
                            "<tr><td>Átlag alatti foglalás</td><td>766</td><td>norbert5</td><td>Béres Norbert</td><td>2</td><td>0</td><td>2</td><td>NULL</td></tr>",
                            "<tr><td>Átlag alatti foglalás</td><td>984</td><td>norbert5</td><td>Béres Norbert</td><td>1</td><td>1</td><td>2</td><td>2.000000</td></tr>",
                            "<tr><td>Átlag alatti foglalás</td><td>1058</td><td>pal</td><td>Barabás Pál</td><td>2</td><td>0</td><td>2</td><td>3.000000</td></tr>",
                            "<tr><td>Átlag alatti foglalás</td><td>1146</td><td>peter2</td><td>Bozsó Péter</td><td>2</td><td>0</td><td>2</td><td>2.000000</td></tr>",
                            "<tr><td>Átlag alatti foglalás</td><td>1236</td><td>peter2</td><td>Bozsó Péter</td><td>2</td><td>0</td><td>2</td><td>2.000000</td></tr>",
                            "<tr><td>Átlag alatti foglalás</td><td>1004</td><td>peter2</td><td>Bozsó Péter</td><td>1</td><td>1</td><td>2</td><td>NULL</td></tr>",
                            "<tr><td>Átlag alatti foglalás</td><td>1228</td><td>peter3</td><td>Szalai Péter</td><td>2</td><td>0</td><td>2</td><td>3.500000</td></tr>",
                            "<tr><td>Átlag alatti foglalás</td><td>1557</td><td>peter3</td><td>Szalai Péter</td><td>2</td><td>0</td><td>2</td><td>1.333333</td></tr>",
                            "<tr><td>Átlag alatti foglalás</td><td>1396</td><td>peter3</td><td>Szalai Péter</td><td>1</td><td>0</td><td>1</td><td>3.000000</td></tr>",
                            "<tr><td>Átlag alatti foglalás</td><td>1434</td><td>peter3</td><td>Szalai Péter</td><td>1</td><td>0</td><td>1</td><td>2.000000</td></tr>",
                            "<tr><td>Átlag alatti foglalás</td><td>1188</td><td>peter4</td><td>Bíró Péter</td><td>2</td><td>0</td><td>2</td><td>3.000000</td></tr>",
                            "<tr><td>Átlag alatti foglalás</td><td>759</td><td>peter4</td><td>Bíró Péter</td><td>2</td><td>0</td><td>2</td><td>3.000000</td></tr>",
                            "<tr><td>Átlag alatti foglalás</td><td>781</td><td>PETERB</td><td>Berendi Péter</td><td>1</td><td>0</td><td>1</td><td>1.500000</td></tr>",
                            "<tr><td>Átlag alatti foglalás</td><td>694</td><td>PETERB</td><td>Berendi Péter</td><td>2</td><td>0</td><td>2</td><td>1.000000</td></tr>",
                            "<tr><td>Átlag alatti foglalás</td><td>562</td><td>PETERB</td><td>Berendi Péter</td><td>1</td><td>0</td><td>1</td><td>NULL</td></tr>",
                            "<tr><td>Átlag alatti foglalás</td><td>1287</td><td>PETERB</td><td>Berendi Péter</td><td>1</td><td>1</td><td>2</td><td>2.333333</td></tr>",
                            "<tr><td>Átlag alatti foglalás</td><td>1517</td><td>polla</td><td>Palágyi Polla</td><td>2</td><td>0</td><td>2</td><td>2.666666</td></tr>",
                            "<tr><td>Átlag alatti foglalás</td><td>1481</td><td>polla</td><td>Palágyi Polla</td><td>1</td><td>1</td><td>2</td><td>2.666666</td></tr>",
                            "<tr><td>Átlag alatti foglalás</td><td>777</td><td>polla</td><td>Palágyi Polla</td><td>2</td><td>0</td><td>2</td><td>3.000000</td></tr>",
                            "<tr><td>Átlag alatti foglalás</td><td>865</td><td>polla</td><td>Palágyi Polla</td><td>2</td><td>0</td><td>2</td><td>3.000000</td></tr>",
                            "<tr><td>Átlag alatti foglalás</td><td>1284</td><td>rajmond4</td><td>Rácz Rajmond</td><td>2</td><td>0</td><td>2</td><td>3.333333</td></tr>",
                            "<tr><td>Átlag alatti foglalás</td><td>1089</td><td>reka4</td><td>Szikszai Réka</td><td>1</td><td>1</td><td>2</td><td>3.000000</td></tr>",
                            "<tr><td>Átlag alatti foglalás</td><td>1575</td><td>reka4</td><td>Szikszai Réka</td><td>1</td><td>1</td><td>2</td><td>3.000000</td></tr>",
                            "<tr><td>Átlag alatti foglalás</td><td>721</td><td>reka4</td><td>Szikszai Réka</td><td>2</td><td>0</td><td>2</td><td>NULL</td></tr>",
                            "<tr><td>Átlag alatti foglalás</td><td>1581</td><td>RENATAK</td><td>Kardos Renáta</td><td>1</td><td>0</td><td>1</td><td>1.666666</td></tr>",
                            "<tr><td>Átlag alatti foglalás</td><td>1543</td><td>RENATAK</td><td>Kardos Renáta</td><td>1</td><td>0</td><td>1</td><td>1.666666</td></tr>",
                            "<tr><td>Átlag alatti foglalás</td><td>1312</td><td>RENATAK</td><td>Kardos Renáta</td><td>1</td><td>0</td><td>1</td><td>2.500000</td></tr>",
                            "<tr><td>Átlag alatti foglalás</td><td>1224</td><td>RENATAK</td><td>Kardos Renáta</td><td>1</td><td>0</td><td>1</td><td>4.000000</td></tr>",
                            "<tr><td>Átlag alatti foglalás</td><td>1529</td><td>RENATAS</td><td>Szirmai Renáta</td><td>1</td><td>0</td><td>1</td><td>3.000000</td></tr>",
                            "<tr><td>Átlag alatti foglalás</td><td>1532</td><td>RENATAS</td><td>Szirmai Renáta</td><td>2</td><td>0</td><td>2</td><td>2.666666</td></tr>",
                            "<tr><td>Átlag alatti foglalás</td><td>619</td><td>RENATAS</td><td>Szirmai Renáta</td><td>1</td><td>1</td><td>2</td><td>NULL</td></tr>",
                            "<tr><td>Átlag alatti foglalás</td><td>637</td><td>RENATAS</td><td>Szirmai Renáta</td><td>2</td><td>0</td><td>2</td><td>2.000000</td></tr>",
                            "<tr><td>Átlag alatti foglalás</td><td>647</td><td>robert2</td><td>Patay Róbert</td><td>2</td><td>0</td><td>2</td><td>NULL</td></tr>",
                            "<tr><td>Átlag alatti foglalás</td><td>802</td><td>robert2</td><td>Patay Róbert</td><td>1</td><td>1</td><td>2</td><td>2.000000</td></tr>",
                            "<tr><td>Átlag alatti foglalás</td><td>1374</td><td>robert2</td><td>Patay Róbert</td><td>1</td><td>0</td><td>1</td><td>2.333333</td></tr>",
                            "<tr><td>Átlag alatti foglalás</td><td>1545</td><td>ROBERTI</td><td>Iván Róbert</td><td>1</td><td>1</td><td>2</td><td>1.666666</td></tr>",
                            "<tr><td>Átlag alatti foglalás</td><td>1197</td><td>ROBERTI</td><td>Iván Róbert</td><td>2</td><td>0</td><td>2</td><td>2.000000</td></tr>",
                            "<tr><td>Átlag alatti foglalás</td><td>1141</td><td>ROBERTI</td><td>Iván Róbert</td><td>2</td><td>0</td><td>2</td><td>3.000000</td></tr>",
                            "<tr><td>Átlag alatti foglalás</td><td>1186</td><td>ROBERTI</td><td>Iván Róbert</td><td>1</td><td>0</td><td>1</td><td>3.000000</td></tr>",
                            "<tr><td>Átlag alatti foglalás</td><td>791</td><td>ROBERTI</td><td>Iván Róbert</td><td>2</td><td>0</td><td>2</td><td>NULL</td></tr>",
                            "<tr><td>Átlag alatti foglalás</td><td>808</td><td>ROBERTI</td><td>Iván Róbert</td><td>2</td><td>0</td><td>2</td><td>2.000000</td></tr>",
                            "<tr><td>Átlag alatti foglalás</td><td>739</td><td>ROBERTP</td><td>Pásztor Róbert</td><td>2</td><td>0</td><td>2</td><td>NULL</td></tr>",
                            "<tr><td>Átlag alatti foglalás</td><td>848</td><td>roland</td><td>Tóth Roland</td><td>2</td><td>0</td><td>2</td><td>NULL</td></tr>",
                            "<tr><td>Átlag alatti foglalás</td><td>1294</td><td>roland</td><td>Tóth Roland</td><td>1</td><td>1</td><td>2</td><td>2.666666</td></tr>",
                            "<tr><td>Átlag alatti foglalás</td><td>1448</td><td>roland1</td><td>Ferencz Roland</td><td>2</td><td>0</td><td>2</td><td>2.333333</td></tr>",
                            "<tr><td>Átlag alatti foglalás</td><td>1384</td><td>roland1</td><td>Ferencz Roland</td><td>1</td><td>0</td><td>1</td><td>3.000000</td></tr>",
                            "<tr><td>Átlag alatti foglalás</td><td>1041</td><td>roza2</td><td>Bucskó Róza</td><td>1</td><td>1</td><td>2</td><td>NULL</td></tr>",
                            "<tr><td>Átlag alatti foglalás</td><td>1010</td><td>sandor</td><td>Karasz Sándor</td><td>2</td><td>0</td><td>2</td><td>2.000000</td></tr>",
                            "<tr><td>Átlag alatti foglalás</td><td>800</td><td>sandor</td><td>Karasz Sándor</td><td>2</td><td>0</td><td>2</td><td>2.000000</td></tr>",
                            "<tr><td>Átlag alatti foglalás</td><td>686</td><td>sandor</td><td>Karasz Sándor</td><td>1</td><td>1</td><td>2</td><td>NULL</td></tr>",
                            "<tr><td>Átlag alatti foglalás</td><td>640</td><td>sandor3</td><td>Farkas Sándor</td><td>2</td><td>0</td><td>2</td><td>NULL</td></tr>",
                            "<tr><td>Átlag alatti foglalás</td><td>858</td><td>sandor3</td><td>Farkas Sándor</td><td>1</td><td>0</td><td>1</td><td>2.000000</td></tr>",
                            "<tr><td>Átlag alatti foglalás</td><td>1272</td><td>sandor3</td><td>Farkas Sándor</td><td>1</td><td>1</td><td>2</td><td>2.000000</td></tr>",
                            "<tr><td>Átlag alatti foglalás</td><td>1138</td><td>sandor3</td><td>Farkas Sándor</td><td>2</td><td>0</td><td>2</td><td>1.500000</td></tr>",
                            "<tr><td>Átlag alatti foglalás</td><td>1156</td><td>sandor4</td><td>Nagy Sándor</td><td>1</td><td>0</td><td>1</td><td>NULL</td></tr>",
                            "<tr><td>Átlag alatti foglalás</td><td>1331</td><td>sandor4</td><td>Nagy Sándor</td><td>2</td><td>0</td><td>2</td><td>1.000000</td></tr>",
                            "<tr><td>Átlag alatti foglalás</td><td>1339</td><td>sandor4</td><td>Nagy Sándor</td><td>1</td><td>0</td><td>1</td><td>1.500000</td></tr>",
                            "<tr><td>Átlag alatti foglalás</td><td>1465</td><td>sandor4</td><td>Nagy Sándor</td><td>2</td><td>0</td><td>2</td><td>1.333333</td></tr>",
                            "<tr><td>Átlag alatti foglalás</td><td>1351</td><td>sara</td><td>Farkas Sára</td><td>1</td><td>0</td><td>1</td><td>3.000000</td></tr>",
                            "<tr><td>Átlag alatti foglalás</td><td>1390</td><td>sara</td><td>Farkas Sára</td><td>1</td><td>1</td><td>2</td><td>2.666666</td></tr>",
                            "<tr><td>Átlag alatti foglalás</td><td>1212</td><td>sara</td><td>Farkas Sára</td><td>2</td><td>0</td><td>2</td><td>2.666666</td></tr>",
                            "<tr><td>Átlag alatti foglalás</td><td>866</td><td>sara</td><td>Farkas Sára</td><td>1</td><td>1</td><td>2</td><td>3.000000</td></tr>",
                            "<tr><td>Átlag alatti foglalás</td><td>882</td><td>sara</td><td>Farkas Sára</td><td>2</td><td>0</td><td>2</td><td>2.666666</td></tr>",
                            "<tr><td>Átlag alatti foglalás</td><td>910</td><td>sara</td><td>Farkas Sára</td><td>2</td><td>0</td><td>2</td><td>2.333333</td></tr>",
                            "<tr><td>Átlag alatti foglalás</td><td>560</td><td>SEBASTIANF</td><td>Foltényi Sebastián</td><td>2</td><td>0</td><td>2</td><td>NULL</td></tr>",
                            "<tr><td>Átlag alatti foglalás</td><td>680</td><td>SEBASTIANF</td><td>Foltényi Sebastián</td><td>1</td><td>1</td><td>2</td><td>2.000000</td></tr>",
                            "<tr><td>Átlag alatti foglalás</td><td>1343</td><td>szabolcs</td><td>Bodor Szabolcs</td><td>1</td><td>1</td><td>2</td><td>NULL</td></tr>",
                            "<tr><td>Átlag alatti foglalás</td><td>1424</td><td>SZABOLCSM</td><td>Miklós Szabolcs</td><td>2</td><td>0</td><td>2</td><td>2.333333</td></tr>",
                            "<tr><td>Átlag alatti foglalás</td><td>1276</td><td>SZABOLCSM</td><td>Miklós Szabolcs</td><td>2</td><td>0</td><td>2</td><td>2.666666</td></tr>",
                            "<tr><td>Átlag alatti foglalás</td><td>1163</td><td>SZABOLCSM</td><td>Miklós Szabolcs</td><td>2</td><td>0</td><td>2</td><td>2.500000</td></tr>",
                            "<tr><td>Átlag alatti foglalás</td><td>735</td><td>SZABOLCSM</td><td>Miklós Szabolcs</td><td>2</td><td>0</td><td>2</td><td>NULL</td></tr>",
                            "<tr><td>Átlag alatti foglalás</td><td>1508</td><td>SZILARDS</td><td>Szalai Szilárd</td><td>1</td><td>0</td><td>1</td><td>3.000000</td></tr>",
                            "<tr><td>Átlag alatti foglalás</td><td>1479</td><td>szilvia1</td><td>Tari Szilvia</td><td>1</td><td>1</td><td>2</td><td>3.000000</td></tr>",
                            "<tr><td>Átlag alatti foglalás</td><td>1401</td><td>szilvia1</td><td>Tari Szilvia</td><td>2</td><td>0</td><td>2</td><td>3.333333</td></tr>",
                            "<tr><td>Átlag alatti foglalás</td><td>1207</td><td>szilvia1</td><td>Tari Szilvia</td><td>1</td><td>1</td><td>2</td><td>2.666666</td></tr>",
                            "<tr><td>Átlag alatti foglalás</td><td>715</td><td>szilvia1</td><td>Tari Szilvia</td><td>2</td><td>0</td><td>2</td><td>2.000000</td></tr>",
                            "<tr><td>Átlag alatti foglalás</td><td>644</td><td>szilvia1</td><td>Tari Szilvia</td><td>2</td><td>0</td><td>2</td><td>NULL</td></tr>",
                            "<tr><td>Átlag alatti foglalás</td><td>870</td><td>szilvia1</td><td>Tari Szilvia</td><td>1</td><td>1</td><td>2</td><td>2.000000</td></tr>",
                            "<tr><td>Átlag alatti foglalás</td><td>1280</td><td>tamara2</td><td>Miklós Tamara</td><td>1</td><td>1</td><td>2</td><td>3.000000</td></tr>",
                            "<tr><td>Átlag alatti foglalás</td><td>959</td><td>tamas</td><td>Antal Tamás</td><td>1</td><td>1</td><td>2</td><td>2.500000</td></tr>",
                            "<tr><td>Átlag alatti foglalás</td><td>649</td><td>tamas</td><td>Antal Tamás</td><td>1</td><td>1</td><td>2</td><td>NULL</td></tr>",
                            "<tr><td>Átlag alatti foglalás</td><td>618</td><td>TAMASF</td><td>Fényes Tamás</td><td>1</td><td>1</td><td>2</td><td>NULL</td></tr>",
                            "<tr><td>Átlag alatti foglalás</td><td>1008</td><td>TAMASF</td><td>Fényes Tamás</td><td>2</td><td>0</td><td>2</td><td>2.666666</td></tr>",
                            "<tr><td>Átlag alatti foglalás</td><td>1338</td><td>TAMASF</td><td>Fényes Tamás</td><td>1</td><td>0</td><td>1</td><td>2.666666</td></tr>",
                            "<tr><td>Átlag alatti foglalás</td><td>1525</td><td>TAMASF</td><td>Fényes Tamás</td><td>1</td><td>1</td><td>2</td><td>2.333333</td></tr>",
                            "<tr><td>Átlag alatti foglalás</td><td>1251</td><td>tibor</td><td>Gombos Tibor</td><td>1</td><td>0</td><td>1</td><td>2.000000</td></tr>",
                            "<tr><td>Átlag alatti foglalás</td><td>1145</td><td>tibor</td><td>Gombos Tibor</td><td>1</td><td>1</td><td>2</td><td>NULL</td></tr>",
                            "<tr><td>Átlag alatti foglalás</td><td>1170</td><td>tibor2</td><td>Dániel Tibor</td><td>2</td><td>0</td><td>2</td><td>NULL</td></tr>",
                            "<tr><td>Átlag alatti foglalás</td><td>1166</td><td>tihamer</td><td>Kazy Tihamér</td><td>1</td><td>1</td><td>2</td><td>3.000000</td></tr>",
                            "<tr><td>Átlag alatti foglalás</td><td>1389</td><td>tihamer</td><td>Kazy Tihamér</td><td>1</td><td>1</td><td>2</td><td>2.666666</td></tr>",
                            "<tr><td>Átlag alatti foglalás</td><td>881</td><td>tihamer</td><td>Kazy Tihamér</td><td>1</td><td>0</td><td>1</td><td>3.000000</td></tr>",
                            "<tr><td>Átlag alatti foglalás</td><td>1398</td><td>timea</td><td>Papós Tímea</td><td>1</td><td>1</td><td>2</td><td>NULL</td></tr>",
                            "<tr><td>Átlag alatti foglalás</td><td>913</td><td>timea2</td><td>Dusha Tímea</td><td>1</td><td>1</td><td>2</td><td>3.000000</td></tr>",
                            "<tr><td>Átlag alatti foglalás</td><td>849</td><td>tunde</td><td>Turcsik Tünde</td><td>2</td><td>0</td><td>2</td><td>1.000000</td></tr>",
                            "<tr><td>Átlag alatti foglalás</td><td>669</td><td>tunde</td><td>Turcsik Tünde</td><td>1</td><td>0</td><td>1</td><td>NULL</td></tr>",
                            "<tr><td>Átlag alatti foglalás</td><td>709</td><td>valentin</td><td>Feró Valentin</td><td>1</td><td>0</td><td>1</td><td>NULL</td></tr>",
                            "<tr><td>Átlag alatti foglalás</td><td>790</td><td>veronika4</td><td>Tankó Veronika</td><td>1</td><td>0</td><td>1</td><td>3.000000</td></tr>",
                            "<tr><td>Átlag alatti foglalás</td><td>883</td><td>veronika4</td><td>Tankó Veronika</td><td>1</td><td>1</td><td>2</td><td>2.000000</td></tr>",
                            "<tr><td>Átlag alatti foglalás</td><td>1491</td><td>veronika4</td><td>Tankó Veronika</td><td>1</td><td>1</td><td>2</td><td>2.333333</td></tr>",
                            "<tr><td>Átlag alatti foglalás</td><td>1081</td><td>veronika4</td><td>Tankó Veronika</td><td>1</td><td>1</td><td>2</td><td>2.000000</td></tr>",
                            "<tr><td>Átlag alatti foglalás</td><td>753</td><td>VIKTORIAU</td><td>Urbán Viktoria</td><td>1</td><td>1</td><td>2</td><td>1.000000</td></tr>",
                            "<tr><td>Átlag alatti foglalás</td><td>610</td><td>VIKTORIAU</td><td>Urbán Viktoria</td><td>1</td><td>0</td><td>1</td><td>NULL</td></tr>",
                            "<tr><td>Átlag alatti foglalás</td><td>879</td><td>VIKTORK</td><td>Keresztúri Viktor</td><td>2</td><td>0</td><td>2</td><td>NULL</td></tr>",
                            "<tr><td>Átlag alatti foglalás</td><td>843</td><td>vivien3</td><td>Boros Vivien</td><td>2</td><td>0</td><td>2</td><td>2.500000</td></tr>",
                            "<tr><td>Átlag alatti foglalás</td><td>774</td><td>vivien3</td><td>Boros Vivien</td><td>2</td><td>0</td><td>2</td><td>3.000000</td></tr>",
                            "<tr><td>Átlag alatti foglalás</td><td>1103</td><td>vivien3</td><td>Boros Vivien</td><td>1</td><td>0</td><td>1</td><td>2.333333</td></tr>",
                            "<tr><td>Átlag alatti foglalás</td><td>1288</td><td>vivien3</td><td>Boros Vivien</td><td>1</td><td>1</td><td>2</td><td>1.666666</td></tr>",
                            "<tr><td>Átlag alatti foglalás</td><td>1375</td><td>vivien3</td><td>Boros Vivien</td><td>1</td><td>1</td><td>2</td><td>1.666666</td></tr>",
                            "<tr><td>Átlag alatti foglalás</td><td>822</td><td>zoltan</td><td>Fodor Zoltán</td><td>2</td><td>0</td><td>2</td><td>NULL</td></tr>",
                            "<tr><td>Átlag alatti foglalás</td><td>893</td><td>zoltan4</td><td>Barna Zoltán</td><td>1</td><td>0</td><td>1</td><td>2.000000</td></tr>",
                            "<tr><td>Átlag alatti foglalás</td><td>779</td><td>zoltan4</td><td>Barna Zoltán</td><td>1</td><td>0</td><td>1</td><td>3.000000</td></tr>",
                            "<tr><td>Átlag alatti foglalás</td><td>784</td><td>zoltan4</td><td>Barna Zoltán</td><td>2</td><td>0</td><td>2</td><td>2.333333</td></tr>",
                            "<tr><td>Átlag alatti foglalás</td><td>1403</td><td>zoltan4</td><td>Barna Zoltán</td><td>1</td><td>0</td><td>1</td><td>1.666666</td></tr>",
                            "<tr><td>Átlag alatti foglalás</td><td>1292</td><td>zoltan4</td><td>Barna Zoltán</td><td>2</td><td>0</td><td>2</td><td>2.666666</td></tr>",
                            "<tr><td>Átlag alatti foglalás</td><td>1230</td><td>zoltan4</td><td>Barna Zoltán</td><td>1</td><td>0</td><td>1</td><td>3.333333</td></tr>",
                            "<tr><td>Átlag alatti foglalás</td><td>1194</td><td>zoltan4</td><td>Barna Zoltán</td><td>1</td><td>1</td><td>2</td><td>3.000000</td></tr>",
                            "<tr><td>Átlag alatti foglalás</td><td>1168</td><td>ZOLTANP</td><td>Pintér Zoltán</td><td>2</td><td>0</td><td>2</td><td>2.333333</td></tr>",
                            "<tr><td>Átlag alatti foglalás</td><td>1397</td><td>ZOLTANP</td><td>Pintér Zoltán</td><td>1</td><td>1</td><td>2</td><td>2.333333</td></tr>",
                            "<tr><td>Átlag alatti foglalás</td><td>907</td><td>ZOLTANP</td><td>Pintér Zoltán</td><td>1</td><td>1</td><td>2</td><td>3.000000</td></tr>",
                            "<tr><td>Átlag alatti foglalás</td><td>915</td><td>ZOLTANP</td><td>Pintér Zoltán</td><td>2</td><td>0</td><td>2</td><td>2.500000</td></tr>",
                            "<tr><td>Átlag alatti foglalás</td><td>1447</td><td>ZOLTANT</td><td>Tóth Zoltán</td><td>1</td><td>1</td><td>2</td><td>3.000000</td></tr>",
                            "<tr><td>Átlag alatti foglalás</td><td>968</td><td>zsofi1</td><td>Molnár Zsófi</td><td>2</td><td>0</td><td>2</td><td>NULL</td></tr>",
                            "<tr><td>Átlag alatti foglalás</td><td>917</td><td>zsolt1</td><td>Pulai Zsolt</td><td>2</td><td>0</td><td>2</td><td>2.000000</td></tr>",
                            "<tr><td>Átlag alatti foglalás</td><td>743</td><td>zsolt1</td><td>Pulai Zsolt</td><td>2</td><td>0</td><td>2</td><td>2.000000</td></tr>",
                            "<tr><td>Átlag alatti foglalás</td><td>580</td><td>zsolt1</td><td>Pulai Zsolt</td><td>2</td><td>0</td><td>2</td><td>NULL</td></tr>",
                            "<tr><td>Átlag alatti foglalás</td><td>630</td><td>ZSOLTJ</td><td>Józsa Zsolt</td><td>2</td><td>0</td><td>2</td><td>4.000000</td></tr>",
                            "<tr><td>Átlag alatti foglalás</td><td>685</td><td>ZSOLTJ</td><td>Józsa Zsolt</td><td>1</td><td>1</td><td>2</td><td>3.000000</td></tr>",
                            "<tr><td>Átlag alatti foglalás</td><td>970</td><td>ZSOLTJ</td><td>Józsa Zsolt</td><td>1</td><td>1</td><td>2</td><td>1.666666</td></tr>",
                            "<tr><td>Átlag alatti foglalás</td><td>867</td><td>ZSOLTJ</td><td>Józsa Zsolt</td><td>1</td><td>0</td><td>1</td><td>2.666666</td></tr>",
                            "<tr><td>Átlag alatti foglalás</td><td>1100</td><td>ZSOLTJ</td><td>Józsa Zsolt</td><td>2</td><td>0</td><td>2</td><td>1.666666</td></tr>",
                            "<tr><td>Átlag alatti foglalás</td><td>833</td><td>zsuzsa</td><td>Pusztai Zsuzsanna</td><td>1</td><td>1</td><td>2</td><td>3.000000</td></tr>",
                            "<tr><td>Átlag alatti foglalás</td><td>1040</td><td>zsuzsa3</td><td>Varsányi Zsuzsa</td><td>1</td><td>1</td><td>2</td><td>2.000000</td></tr>",
                            "<tr><td>Átlag alatti foglalás</td><td>740</td><td>zsuzsa3</td><td>Varsányi Zsuzsa</td><td>2</td><td>0</td><td>2</td><td>NULL</td></tr>",
                            "<tr><td>Átlag alatti foglalás</td><td>1086</td><td>zsuzsa3</td><td>Varsányi Zsuzsa</td><td>1</td><td>1</td><td>2</td><td>2.000000</td></tr>",
                            "<tr><td>Átlag alatti foglalás</td><td>1428</td><td>zsuzsanna</td><td>Barta Zsuzsanna</td><td>1</td><td>0</td><td>1</td><td>2.000000</td></tr>",
                            "<tr><td>Átlag alatti foglalás</td><td>1444</td><td>zsuzsanna</td><td>Barta Zsuzsanna</td><td>2</td><td>0</td><td>2</td><td>1.666666</td></tr>",
                            "<tr><td>Átlag alatti foglalás</td><td>650</td><td>zsuzsanna</td><td>Barta Zsuzsanna</td><td>1</td><td>1</td><td>2</td><td>NULL</td></tr>",
                            "<tr><td>Átlag alatti foglalás</td><td>1025</td><td>zsuzsanna</td><td>Barta Zsuzsanna</td><td>1</td><td>1</td><td>2</td><td>2.000000</td></tr>",
                            "<tr><td>Átlag alatti foglalás</td><td>579</td><td>ZSUZSAV</td><td>Vajda Zsuzsa</td><td>2</td><td>0</td><td>2</td><td>NULL</td></tr>",
                            "<tr><td>Átlag alatti foglalás</td><td>1063</td><td>ZSUZSAV</td><td>Vajda Zsuzsa</td><td>2</td><td>0</td><td>2</td><td>3.000000</td></tr>",
                            "<tr><td>Átlag alatti foglalás</td><td>1202</td><td>ZSUZSAV</td><td>Vajda Zsuzsa</td><td>1</td><td>0</td><td>1</td><td>3.000000</td></tr>",
                            "<tr><td>Még nem foglalt</td><td>NULL</td><td>GABORS</td><td>Szöllősi Gábor</td><td>NULL</td><td>NULL</td><td>NULL</td><td>NULL</td></tr>",
                            "</table>"
                        ]
                    }
                }
            ],
            "execution_count": 10
        },
        {
            "cell_type": "code",
            "source": [
                "SELECT \r\n",
                "    F1.SZOBA_FK,\r\n",
                "    F1.FOGLALAS_PK,\r\n",
                "    DATEDIFF(DAY, F1.METTOL, F1.MEDDIG) AS aktualis_idotartam,\r\n",
                "    ISNULL((\r\n",
                "        SELECT TOP 1 DATEDIFF(DAY, F2.METTOL, F2.MEDDIG)\r\n",
                "        FROM FOGLALAS F2\r\n",
                "        WHERE F2.SZOBA_FK = F1.SZOBA_FK\r\n",
                "          AND F2.FOGLALAS_PK < F1.FOGLALAS_PK\r\n",
                "        ORDER BY F2.FOGLALAS_PK DESC\r\n",
                "    ), 0) AS elozoleg_idotartam\r\n",
                "FROM FOGLALAS F1\r\n",
                "ORDER BY F1.SZOBA_FK, F1.FOGLALAS_PK;"
            ],
            "metadata": {
                "language": "sql",
                "azdata_cell_guid": "c0388d66-998b-483d-901a-81d67b381650"
            },
            "outputs": [
                {
                    "output_type": "display_data",
                    "data": {
                        "text/html": "(1027 rows affected)"
                    },
                    "metadata": {}
                },
                {
                    "output_type": "display_data",
                    "data": {
                        "text/html": "Total execution time: 00:00:00.066"
                    },
                    "metadata": {}
                },
                {
                    "output_type": "execute_result",
                    "metadata": {},
                    "execution_count": 9,
                    "data": {
                        "application/vnd.dataresource+json": {
                            "schema": {
                                "fields": [
                                    {
                                        "name": "SZOBA_FK"
                                    },
                                    {
                                        "name": "FOGLALAS_PK"
                                    },
                                    {
                                        "name": "aktualis_idotartam"
                                    },
                                    {
                                        "name": "elozoleg_idotartam"
                                    }
                                ]
                            },
                            "data": [
                                {
                                    "SZOBA_FK": "1",
                                    "FOGLALAS_PK": "620",
                                    "aktualis_idotartam": "5",
                                    "elozoleg_idotartam": "0"
                                },
                                {
                                    "SZOBA_FK": "1",
                                    "FOGLALAS_PK": "738",
                                    "aktualis_idotartam": "7",
                                    "elozoleg_idotartam": "5"
                                },
                                {
                                    "SZOBA_FK": "1",
                                    "FOGLALAS_PK": "803",
                                    "aktualis_idotartam": "4",
                                    "elozoleg_idotartam": "7"
                                },
                                {
                                    "SZOBA_FK": "1",
                                    "FOGLALAS_PK": "949",
                                    "aktualis_idotartam": "1",
                                    "elozoleg_idotartam": "4"
                                },
                                {
                                    "SZOBA_FK": "1",
                                    "FOGLALAS_PK": "1137",
                                    "aktualis_idotartam": "2",
                                    "elozoleg_idotartam": "1"
                                },
                                {
                                    "SZOBA_FK": "1",
                                    "FOGLALAS_PK": "1152",
                                    "aktualis_idotartam": "1",
                                    "elozoleg_idotartam": "2"
                                },
                                {
                                    "SZOBA_FK": "1",
                                    "FOGLALAS_PK": "1274",
                                    "aktualis_idotartam": "1",
                                    "elozoleg_idotartam": "1"
                                },
                                {
                                    "SZOBA_FK": "1",
                                    "FOGLALAS_PK": "1334",
                                    "aktualis_idotartam": "4",
                                    "elozoleg_idotartam": "1"
                                },
                                {
                                    "SZOBA_FK": "2",
                                    "FOGLALAS_PK": "828",
                                    "aktualis_idotartam": "3",
                                    "elozoleg_idotartam": "0"
                                },
                                {
                                    "SZOBA_FK": "2",
                                    "FOGLALAS_PK": "1051",
                                    "aktualis_idotartam": "1",
                                    "elozoleg_idotartam": "3"
                                },
                                {
                                    "SZOBA_FK": "2",
                                    "FOGLALAS_PK": "1069",
                                    "aktualis_idotartam": "7",
                                    "elozoleg_idotartam": "1"
                                },
                                {
                                    "SZOBA_FK": "2",
                                    "FOGLALAS_PK": "1311",
                                    "aktualis_idotartam": "7",
                                    "elozoleg_idotartam": "7"
                                },
                                {
                                    "SZOBA_FK": "3",
                                    "FOGLALAS_PK": "629",
                                    "aktualis_idotartam": "4",
                                    "elozoleg_idotartam": "0"
                                },
                                {
                                    "SZOBA_FK": "3",
                                    "FOGLALAS_PK": "666",
                                    "aktualis_idotartam": "6",
                                    "elozoleg_idotartam": "4"
                                },
                                {
                                    "SZOBA_FK": "3",
                                    "FOGLALAS_PK": "788",
                                    "aktualis_idotartam": "6",
                                    "elozoleg_idotartam": "6"
                                },
                                {
                                    "SZOBA_FK": "3",
                                    "FOGLALAS_PK": "1038",
                                    "aktualis_idotartam": "3",
                                    "elozoleg_idotartam": "6"
                                },
                                {
                                    "SZOBA_FK": "3",
                                    "FOGLALAS_PK": "1110",
                                    "aktualis_idotartam": "7",
                                    "elozoleg_idotartam": "3"
                                },
                                {
                                    "SZOBA_FK": "3",
                                    "FOGLALAS_PK": "1151",
                                    "aktualis_idotartam": "1",
                                    "elozoleg_idotartam": "7"
                                },
                                {
                                    "SZOBA_FK": "3",
                                    "FOGLALAS_PK": "1434",
                                    "aktualis_idotartam": "5",
                                    "elozoleg_idotartam": "1"
                                },
                                {
                                    "SZOBA_FK": "3",
                                    "FOGLALAS_PK": "1544",
                                    "aktualis_idotartam": "5",
                                    "elozoleg_idotartam": "5"
                                },
                                {
                                    "SZOBA_FK": "4",
                                    "FOGLALAS_PK": "651",
                                    "aktualis_idotartam": "7",
                                    "elozoleg_idotartam": "0"
                                },
                                {
                                    "SZOBA_FK": "4",
                                    "FOGLALAS_PK": "946",
                                    "aktualis_idotartam": "5",
                                    "elozoleg_idotartam": "7"
                                },
                                {
                                    "SZOBA_FK": "4",
                                    "FOGLALAS_PK": "1001",
                                    "aktualis_idotartam": "7",
                                    "elozoleg_idotartam": "5"
                                },
                                {
                                    "SZOBA_FK": "4",
                                    "FOGLALAS_PK": "1127",
                                    "aktualis_idotartam": "3",
                                    "elozoleg_idotartam": "7"
                                },
                                {
                                    "SZOBA_FK": "4",
                                    "FOGLALAS_PK": "1132",
                                    "aktualis_idotartam": "6",
                                    "elozoleg_idotartam": "3"
                                },
                                {
                                    "SZOBA_FK": "4",
                                    "FOGLALAS_PK": "1492",
                                    "aktualis_idotartam": "6",
                                    "elozoleg_idotartam": "6"
                                },
                                {
                                    "SZOBA_FK": "5",
                                    "FOGLALAS_PK": "564",
                                    "aktualis_idotartam": "2",
                                    "elozoleg_idotartam": "0"
                                },
                                {
                                    "SZOBA_FK": "5",
                                    "FOGLALAS_PK": "965",
                                    "aktualis_idotartam": "7",
                                    "elozoleg_idotartam": "2"
                                },
                                {
                                    "SZOBA_FK": "5",
                                    "FOGLALAS_PK": "1073",
                                    "aktualis_idotartam": "5",
                                    "elozoleg_idotartam": "7"
                                },
                                {
                                    "SZOBA_FK": "5",
                                    "FOGLALAS_PK": "1257",
                                    "aktualis_idotartam": "3",
                                    "elozoleg_idotartam": "5"
                                },
                                {
                                    "SZOBA_FK": "6",
                                    "FOGLALAS_PK": "560",
                                    "aktualis_idotartam": "6",
                                    "elozoleg_idotartam": "0"
                                },
                                {
                                    "SZOBA_FK": "6",
                                    "FOGLALAS_PK": "772",
                                    "aktualis_idotartam": "6",
                                    "elozoleg_idotartam": "6"
                                },
                                {
                                    "SZOBA_FK": "6",
                                    "FOGLALAS_PK": "850",
                                    "aktualis_idotartam": "2",
                                    "elozoleg_idotartam": "6"
                                },
                                {
                                    "SZOBA_FK": "6",
                                    "FOGLALAS_PK": "873",
                                    "aktualis_idotartam": "3",
                                    "elozoleg_idotartam": "2"
                                },
                                {
                                    "SZOBA_FK": "6",
                                    "FOGLALAS_PK": "990",
                                    "aktualis_idotartam": "4",
                                    "elozoleg_idotartam": "3"
                                },
                                {
                                    "SZOBA_FK": "6",
                                    "FOGLALAS_PK": "1099",
                                    "aktualis_idotartam": "4",
                                    "elozoleg_idotartam": "4"
                                },
                                {
                                    "SZOBA_FK": "7",
                                    "FOGLALAS_PK": "562",
                                    "aktualis_idotartam": "4",
                                    "elozoleg_idotartam": "0"
                                },
                                {
                                    "SZOBA_FK": "7",
                                    "FOGLALAS_PK": "759",
                                    "aktualis_idotartam": "7",
                                    "elozoleg_idotartam": "4"
                                },
                                {
                                    "SZOBA_FK": "7",
                                    "FOGLALAS_PK": "1131",
                                    "aktualis_idotartam": "1",
                                    "elozoleg_idotartam": "7"
                                },
                                {
                                    "SZOBA_FK": "7",
                                    "FOGLALAS_PK": "1175",
                                    "aktualis_idotartam": "4",
                                    "elozoleg_idotartam": "1"
                                },
                                {
                                    "SZOBA_FK": "7",
                                    "FOGLALAS_PK": "1182",
                                    "aktualis_idotartam": "4",
                                    "elozoleg_idotartam": "4"
                                },
                                {
                                    "SZOBA_FK": "7",
                                    "FOGLALAS_PK": "1252",
                                    "aktualis_idotartam": "2",
                                    "elozoleg_idotartam": "4"
                                },
                                {
                                    "SZOBA_FK": "8",
                                    "FOGLALAS_PK": "694",
                                    "aktualis_idotartam": "4",
                                    "elozoleg_idotartam": "0"
                                },
                                {
                                    "SZOBA_FK": "8",
                                    "FOGLALAS_PK": "818",
                                    "aktualis_idotartam": "4",
                                    "elozoleg_idotartam": "4"
                                },
                                {
                                    "SZOBA_FK": "8",
                                    "FOGLALAS_PK": "832",
                                    "aktualis_idotartam": "4",
                                    "elozoleg_idotartam": "4"
                                },
                                {
                                    "SZOBA_FK": "8",
                                    "FOGLALAS_PK": "882",
                                    "aktualis_idotartam": "1",
                                    "elozoleg_idotartam": "4"
                                },
                                {
                                    "SZOBA_FK": "8",
                                    "FOGLALAS_PK": "947",
                                    "aktualis_idotartam": "3",
                                    "elozoleg_idotartam": "1"
                                },
                                {
                                    "SZOBA_FK": "9",
                                    "FOGLALAS_PK": "609",
                                    "aktualis_idotartam": "2",
                                    "elozoleg_idotartam": "0"
                                },
                                {
                                    "SZOBA_FK": "9",
                                    "FOGLALAS_PK": "1157",
                                    "aktualis_idotartam": "6",
                                    "elozoleg_idotartam": "2"
                                },
                                {
                                    "SZOBA_FK": "9",
                                    "FOGLALAS_PK": "1220",
                                    "aktualis_idotartam": "3",
                                    "elozoleg_idotartam": "6"
                                },
                                {
                                    "SZOBA_FK": "9",
                                    "FOGLALAS_PK": "1260",
                                    "aktualis_idotartam": "6",
                                    "elozoleg_idotartam": "3"
                                },
                                {
                                    "SZOBA_FK": "9",
                                    "FOGLALAS_PK": "1423",
                                    "aktualis_idotartam": "3",
                                    "elozoleg_idotartam": "6"
                                },
                                {
                                    "SZOBA_FK": "9",
                                    "FOGLALAS_PK": "1537",
                                    "aktualis_idotartam": "3",
                                    "elozoleg_idotartam": "3"
                                },
                                {
                                    "SZOBA_FK": "10",
                                    "FOGLALAS_PK": "569",
                                    "aktualis_idotartam": "3",
                                    "elozoleg_idotartam": "0"
                                },
                                {
                                    "SZOBA_FK": "10",
                                    "FOGLALAS_PK": "790",
                                    "aktualis_idotartam": "5",
                                    "elozoleg_idotartam": "3"
                                },
                                {
                                    "SZOBA_FK": "10",
                                    "FOGLALAS_PK": "795",
                                    "aktualis_idotartam": "4",
                                    "elozoleg_idotartam": "5"
                                },
                                {
                                    "SZOBA_FK": "10",
                                    "FOGLALAS_PK": "1319",
                                    "aktualis_idotartam": "6",
                                    "elozoleg_idotartam": "4"
                                },
                                {
                                    "SZOBA_FK": "11",
                                    "FOGLALAS_PK": "918",
                                    "aktualis_idotartam": "6",
                                    "elozoleg_idotartam": "0"
                                },
                                {
                                    "SZOBA_FK": "11",
                                    "FOGLALAS_PK": "1123",
                                    "aktualis_idotartam": "5",
                                    "elozoleg_idotartam": "6"
                                },
                                {
                                    "SZOBA_FK": "11",
                                    "FOGLALAS_PK": "1236",
                                    "aktualis_idotartam": "1",
                                    "elozoleg_idotartam": "5"
                                },
                                {
                                    "SZOBA_FK": "11",
                                    "FOGLALAS_PK": "1523",
                                    "aktualis_idotartam": "1",
                                    "elozoleg_idotartam": "1"
                                },
                                {
                                    "SZOBA_FK": "12",
                                    "FOGLALAS_PK": "697",
                                    "aktualis_idotartam": "2",
                                    "elozoleg_idotartam": "0"
                                },
                                {
                                    "SZOBA_FK": "12",
                                    "FOGLALAS_PK": "775",
                                    "aktualis_idotartam": "4",
                                    "elozoleg_idotartam": "2"
                                },
                                {
                                    "SZOBA_FK": "12",
                                    "FOGLALAS_PK": "876",
                                    "aktualis_idotartam": "7",
                                    "elozoleg_idotartam": "4"
                                },
                                {
                                    "SZOBA_FK": "12",
                                    "FOGLALAS_PK": "951",
                                    "aktualis_idotartam": "3",
                                    "elozoleg_idotartam": "7"
                                },
                                {
                                    "SZOBA_FK": "12",
                                    "FOGLALAS_PK": "970",
                                    "aktualis_idotartam": "2",
                                    "elozoleg_idotartam": "3"
                                },
                                {
                                    "SZOBA_FK": "12",
                                    "FOGLALAS_PK": "1020",
                                    "aktualis_idotartam": "5",
                                    "elozoleg_idotartam": "2"
                                },
                                {
                                    "SZOBA_FK": "12",
                                    "FOGLALAS_PK": "1140",
                                    "aktualis_idotartam": "3",
                                    "elozoleg_idotartam": "5"
                                },
                                {
                                    "SZOBA_FK": "12",
                                    "FOGLALAS_PK": "1164",
                                    "aktualis_idotartam": "5",
                                    "elozoleg_idotartam": "3"
                                },
                                {
                                    "SZOBA_FK": "12",
                                    "FOGLALAS_PK": "1430",
                                    "aktualis_idotartam": "2",
                                    "elozoleg_idotartam": "5"
                                },
                                {
                                    "SZOBA_FK": "13",
                                    "FOGLALAS_PK": "763",
                                    "aktualis_idotartam": "4",
                                    "elozoleg_idotartam": "0"
                                },
                                {
                                    "SZOBA_FK": "13",
                                    "FOGLALAS_PK": "1044",
                                    "aktualis_idotartam": "6",
                                    "elozoleg_idotartam": "4"
                                },
                                {
                                    "SZOBA_FK": "13",
                                    "FOGLALAS_PK": "1347",
                                    "aktualis_idotartam": "3",
                                    "elozoleg_idotartam": "6"
                                },
                                {
                                    "SZOBA_FK": "13",
                                    "FOGLALAS_PK": "1469",
                                    "aktualis_idotartam": "2",
                                    "elozoleg_idotartam": "3"
                                },
                                {
                                    "SZOBA_FK": "14",
                                    "FOGLALAS_PK": "663",
                                    "aktualis_idotartam": "1",
                                    "elozoleg_idotartam": "0"
                                },
                                {
                                    "SZOBA_FK": "14",
                                    "FOGLALAS_PK": "813",
                                    "aktualis_idotartam": "3",
                                    "elozoleg_idotartam": "1"
                                },
                                {
                                    "SZOBA_FK": "14",
                                    "FOGLALAS_PK": "1542",
                                    "aktualis_idotartam": "4",
                                    "elozoleg_idotartam": "3"
                                },
                                {
                                    "SZOBA_FK": "15",
                                    "FOGLALAS_PK": "791",
                                    "aktualis_idotartam": "5",
                                    "elozoleg_idotartam": "0"
                                },
                                {
                                    "SZOBA_FK": "15",
                                    "FOGLALAS_PK": "1028",
                                    "aktualis_idotartam": "2",
                                    "elozoleg_idotartam": "5"
                                },
                                {
                                    "SZOBA_FK": "15",
                                    "FOGLALAS_PK": "1129",
                                    "aktualis_idotartam": "4",
                                    "elozoleg_idotartam": "2"
                                },
                                {
                                    "SZOBA_FK": "15",
                                    "FOGLALAS_PK": "1244",
                                    "aktualis_idotartam": "1",
                                    "elozoleg_idotartam": "4"
                                },
                                {
                                    "SZOBA_FK": "15",
                                    "FOGLALAS_PK": "1418",
                                    "aktualis_idotartam": "4",
                                    "elozoleg_idotartam": "1"
                                },
                                {
                                    "SZOBA_FK": "15",
                                    "FOGLALAS_PK": "1442",
                                    "aktualis_idotartam": "3",
                                    "elozoleg_idotartam": "4"
                                },
                                {
                                    "SZOBA_FK": "16",
                                    "FOGLALAS_PK": "687",
                                    "aktualis_idotartam": "3",
                                    "elozoleg_idotartam": "0"
                                },
                                {
                                    "SZOBA_FK": "16",
                                    "FOGLALAS_PK": "856",
                                    "aktualis_idotartam": "6",
                                    "elozoleg_idotartam": "3"
                                },
                                {
                                    "SZOBA_FK": "16",
                                    "FOGLALAS_PK": "896",
                                    "aktualis_idotartam": "1",
                                    "elozoleg_idotartam": "6"
                                },
                                {
                                    "SZOBA_FK": "16",
                                    "FOGLALAS_PK": "973",
                                    "aktualis_idotartam": "1",
                                    "elozoleg_idotartam": "1"
                                },
                                {
                                    "SZOBA_FK": "16",
                                    "FOGLALAS_PK": "1498",
                                    "aktualis_idotartam": "7",
                                    "elozoleg_idotartam": "1"
                                },
                                {
                                    "SZOBA_FK": "17",
                                    "FOGLALAS_PK": "602",
                                    "aktualis_idotartam": "6",
                                    "elozoleg_idotartam": "0"
                                },
                                {
                                    "SZOBA_FK": "17",
                                    "FOGLALAS_PK": "713",
                                    "aktualis_idotartam": "6",
                                    "elozoleg_idotartam": "6"
                                },
                                {
                                    "SZOBA_FK": "17",
                                    "FOGLALAS_PK": "744",
                                    "aktualis_idotartam": "1",
                                    "elozoleg_idotartam": "6"
                                },
                                {
                                    "SZOBA_FK": "17",
                                    "FOGLALAS_PK": "916",
                                    "aktualis_idotartam": "2",
                                    "elozoleg_idotartam": "1"
                                },
                                {
                                    "SZOBA_FK": "17",
                                    "FOGLALAS_PK": "1316",
                                    "aktualis_idotartam": "5",
                                    "elozoleg_idotartam": "2"
                                },
                                {
                                    "SZOBA_FK": "17",
                                    "FOGLALAS_PK": "1549",
                                    "aktualis_idotartam": "3",
                                    "elozoleg_idotartam": "5"
                                },
                                {
                                    "SZOBA_FK": "18",
                                    "FOGLALAS_PK": "626",
                                    "aktualis_idotartam": "3",
                                    "elozoleg_idotartam": "0"
                                },
                                {
                                    "SZOBA_FK": "18",
                                    "FOGLALAS_PK": "767",
                                    "aktualis_idotartam": "3",
                                    "elozoleg_idotartam": "3"
                                },
                                {
                                    "SZOBA_FK": "18",
                                    "FOGLALAS_PK": "1035",
                                    "aktualis_idotartam": "6",
                                    "elozoleg_idotartam": "3"
                                },
                                {
                                    "SZOBA_FK": "18",
                                    "FOGLALAS_PK": "1173",
                                    "aktualis_idotartam": "6",
                                    "elozoleg_idotartam": "6"
                                },
                                {
                                    "SZOBA_FK": "18",
                                    "FOGLALAS_PK": "1198",
                                    "aktualis_idotartam": "4",
                                    "elozoleg_idotartam": "6"
                                },
                                {
                                    "SZOBA_FK": "18",
                                    "FOGLALAS_PK": "1505",
                                    "aktualis_idotartam": "6",
                                    "elozoleg_idotartam": "4"
                                },
                                {
                                    "SZOBA_FK": "19",
                                    "FOGLALAS_PK": "696",
                                    "aktualis_idotartam": "1",
                                    "elozoleg_idotartam": "0"
                                },
                                {
                                    "SZOBA_FK": "19",
                                    "FOGLALAS_PK": "778",
                                    "aktualis_idotartam": "1",
                                    "elozoleg_idotartam": "1"
                                },
                                {
                                    "SZOBA_FK": "19",
                                    "FOGLALAS_PK": "948",
                                    "aktualis_idotartam": "2",
                                    "elozoleg_idotartam": "1"
                                },
                                {
                                    "SZOBA_FK": "19",
                                    "FOGLALAS_PK": "1139",
                                    "aktualis_idotartam": "7",
                                    "elozoleg_idotartam": "2"
                                },
                                {
                                    "SZOBA_FK": "19",
                                    "FOGLALAS_PK": "1237",
                                    "aktualis_idotartam": "1",
                                    "elozoleg_idotartam": "7"
                                },
                                {
                                    "SZOBA_FK": "19",
                                    "FOGLALAS_PK": "1533",
                                    "aktualis_idotartam": "1",
                                    "elozoleg_idotartam": "1"
                                },
                                {
                                    "SZOBA_FK": "20",
                                    "FOGLALAS_PK": "755",
                                    "aktualis_idotartam": "6",
                                    "elozoleg_idotartam": "0"
                                },
                                {
                                    "SZOBA_FK": "20",
                                    "FOGLALAS_PK": "820",
                                    "aktualis_idotartam": "1",
                                    "elozoleg_idotartam": "6"
                                },
                                {
                                    "SZOBA_FK": "20",
                                    "FOGLALAS_PK": "1070",
                                    "aktualis_idotartam": "1",
                                    "elozoleg_idotartam": "1"
                                },
                                {
                                    "SZOBA_FK": "20",
                                    "FOGLALAS_PK": "1106",
                                    "aktualis_idotartam": "2",
                                    "elozoleg_idotartam": "1"
                                },
                                {
                                    "SZOBA_FK": "20",
                                    "FOGLALAS_PK": "1114",
                                    "aktualis_idotartam": "5",
                                    "elozoleg_idotartam": "2"
                                },
                                {
                                    "SZOBA_FK": "21",
                                    "FOGLALAS_PK": "566",
                                    "aktualis_idotartam": "6",
                                    "elozoleg_idotartam": "0"
                                },
                                {
                                    "SZOBA_FK": "21",
                                    "FOGLALAS_PK": "660",
                                    "aktualis_idotartam": "5",
                                    "elozoleg_idotartam": "6"
                                },
                                {
                                    "SZOBA_FK": "21",
                                    "FOGLALAS_PK": "805",
                                    "aktualis_idotartam": "1",
                                    "elozoleg_idotartam": "5"
                                },
                                {
                                    "SZOBA_FK": "21",
                                    "FOGLALAS_PK": "1212",
                                    "aktualis_idotartam": "6",
                                    "elozoleg_idotartam": "1"
                                },
                                {
                                    "SZOBA_FK": "22",
                                    "FOGLALAS_PK": "906",
                                    "aktualis_idotartam": "1",
                                    "elozoleg_idotartam": "0"
                                },
                                {
                                    "SZOBA_FK": "22",
                                    "FOGLALAS_PK": "1005",
                                    "aktualis_idotartam": "3",
                                    "elozoleg_idotartam": "1"
                                },
                                {
                                    "SZOBA_FK": "22",
                                    "FOGLALAS_PK": "1130",
                                    "aktualis_idotartam": "1",
                                    "elozoleg_idotartam": "3"
                                },
                                {
                                    "SZOBA_FK": "22",
                                    "FOGLALAS_PK": "1195",
                                    "aktualis_idotartam": "6",
                                    "elozoleg_idotartam": "1"
                                },
                                {
                                    "SZOBA_FK": "22",
                                    "FOGLALAS_PK": "1206",
                                    "aktualis_idotartam": "7",
                                    "elozoleg_idotartam": "6"
                                },
                                {
                                    "SZOBA_FK": "22",
                                    "FOGLALAS_PK": "1287",
                                    "aktualis_idotartam": "3",
                                    "elozoleg_idotartam": "7"
                                },
                                {
                                    "SZOBA_FK": "23",
                                    "FOGLALAS_PK": "848",
                                    "aktualis_idotartam": "1",
                                    "elozoleg_idotartam": "0"
                                },
                                {
                                    "SZOBA_FK": "23",
                                    "FOGLALAS_PK": "934",
                                    "aktualis_idotartam": "1",
                                    "elozoleg_idotartam": "1"
                                },
                                {
                                    "SZOBA_FK": "23",
                                    "FOGLALAS_PK": "945",
                                    "aktualis_idotartam": "7",
                                    "elozoleg_idotartam": "1"
                                },
                                {
                                    "SZOBA_FK": "24",
                                    "FOGLALAS_PK": "852",
                                    "aktualis_idotartam": "2",
                                    "elozoleg_idotartam": "0"
                                },
                                {
                                    "SZOBA_FK": "24",
                                    "FOGLALAS_PK": "1167",
                                    "aktualis_idotartam": "1",
                                    "elozoleg_idotartam": "2"
                                },
                                {
                                    "SZOBA_FK": "24",
                                    "FOGLALAS_PK": "1415",
                                    "aktualis_idotartam": "3",
                                    "elozoleg_idotartam": "1"
                                },
                                {
                                    "SZOBA_FK": "25",
                                    "FOGLALAS_PK": "1052",
                                    "aktualis_idotartam": "3",
                                    "elozoleg_idotartam": "0"
                                },
                                {
                                    "SZOBA_FK": "25",
                                    "FOGLALAS_PK": "1362",
                                    "aktualis_idotartam": "2",
                                    "elozoleg_idotartam": "3"
                                },
                                {
                                    "SZOBA_FK": "26",
                                    "FOGLALAS_PK": "1158",
                                    "aktualis_idotartam": "2",
                                    "elozoleg_idotartam": "0"
                                },
                                {
                                    "SZOBA_FK": "26",
                                    "FOGLALAS_PK": "1388",
                                    "aktualis_idotartam": "3",
                                    "elozoleg_idotartam": "2"
                                },
                                {
                                    "SZOBA_FK": "27",
                                    "FOGLALAS_PK": "758",
                                    "aktualis_idotartam": "3",
                                    "elozoleg_idotartam": "0"
                                },
                                {
                                    "SZOBA_FK": "27",
                                    "FOGLALAS_PK": "807",
                                    "aktualis_idotartam": "2",
                                    "elozoleg_idotartam": "3"
                                },
                                {
                                    "SZOBA_FK": "27",
                                    "FOGLALAS_PK": "1031",
                                    "aktualis_idotartam": "2",
                                    "elozoleg_idotartam": "2"
                                },
                                {
                                    "SZOBA_FK": "27",
                                    "FOGLALAS_PK": "1082",
                                    "aktualis_idotartam": "5",
                                    "elozoleg_idotartam": "2"
                                },
                                {
                                    "SZOBA_FK": "27",
                                    "FOGLALAS_PK": "1275",
                                    "aktualis_idotartam": "6",
                                    "elozoleg_idotartam": "5"
                                },
                                {
                                    "SZOBA_FK": "27",
                                    "FOGLALAS_PK": "1377",
                                    "aktualis_idotartam": "1",
                                    "elozoleg_idotartam": "6"
                                },
                                {
                                    "SZOBA_FK": "27",
                                    "FOGLALAS_PK": "1476",
                                    "aktualis_idotartam": "1",
                                    "elozoleg_idotartam": "1"
                                },
                                {
                                    "SZOBA_FK": "28",
                                    "FOGLALAS_PK": "725",
                                    "aktualis_idotartam": "5",
                                    "elozoleg_idotartam": "0"
                                },
                                {
                                    "SZOBA_FK": "28",
                                    "FOGLALAS_PK": "872",
                                    "aktualis_idotartam": "5",
                                    "elozoleg_idotartam": "5"
                                },
                                {
                                    "SZOBA_FK": "28",
                                    "FOGLALAS_PK": "886",
                                    "aktualis_idotartam": "4",
                                    "elozoleg_idotartam": "5"
                                },
                                {
                                    "SZOBA_FK": "28",
                                    "FOGLALAS_PK": "901",
                                    "aktualis_idotartam": "4",
                                    "elozoleg_idotartam": "4"
                                },
                                {
                                    "SZOBA_FK": "28",
                                    "FOGLALAS_PK": "1150",
                                    "aktualis_idotartam": "6",
                                    "elozoleg_idotartam": "4"
                                },
                                {
                                    "SZOBA_FK": "28",
                                    "FOGLALAS_PK": "1459",
                                    "aktualis_idotartam": "2",
                                    "elozoleg_idotartam": "6"
                                },
                                {
                                    "SZOBA_FK": "29",
                                    "FOGLALAS_PK": "611",
                                    "aktualis_idotartam": "5",
                                    "elozoleg_idotartam": "0"
                                },
                                {
                                    "SZOBA_FK": "29",
                                    "FOGLALAS_PK": "894",
                                    "aktualis_idotartam": "1",
                                    "elozoleg_idotartam": "5"
                                },
                                {
                                    "SZOBA_FK": "29",
                                    "FOGLALAS_PK": "1076",
                                    "aktualis_idotartam": "7",
                                    "elozoleg_idotartam": "1"
                                },
                                {
                                    "SZOBA_FK": "29",
                                    "FOGLALAS_PK": "1185",
                                    "aktualis_idotartam": "5",
                                    "elozoleg_idotartam": "7"
                                },
                                {
                                    "SZOBA_FK": "29",
                                    "FOGLALAS_PK": "1235",
                                    "aktualis_idotartam": "7",
                                    "elozoleg_idotartam": "5"
                                },
                                {
                                    "SZOBA_FK": "29",
                                    "FOGLALAS_PK": "1568",
                                    "aktualis_idotartam": "7",
                                    "elozoleg_idotartam": "7"
                                },
                                {
                                    "SZOBA_FK": "30",
                                    "FOGLALAS_PK": "604",
                                    "aktualis_idotartam": "2",
                                    "elozoleg_idotartam": "0"
                                },
                                {
                                    "SZOBA_FK": "30",
                                    "FOGLALAS_PK": "1023",
                                    "aktualis_idotartam": "7",
                                    "elozoleg_idotartam": "2"
                                },
                                {
                                    "SZOBA_FK": "30",
                                    "FOGLALAS_PK": "1136",
                                    "aktualis_idotartam": "5",
                                    "elozoleg_idotartam": "7"
                                },
                                {
                                    "SZOBA_FK": "31",
                                    "FOGLALAS_PK": "598",
                                    "aktualis_idotartam": "2",
                                    "elozoleg_idotartam": "0"
                                },
                                {
                                    "SZOBA_FK": "31",
                                    "FOGLALAS_PK": "606",
                                    "aktualis_idotartam": "1",
                                    "elozoleg_idotartam": "2"
                                },
                                {
                                    "SZOBA_FK": "31",
                                    "FOGLALAS_PK": "728",
                                    "aktualis_idotartam": "4",
                                    "elozoleg_idotartam": "1"
                                },
                                {
                                    "SZOBA_FK": "32",
                                    "FOGLALAS_PK": "920",
                                    "aktualis_idotartam": "4",
                                    "elozoleg_idotartam": "0"
                                },
                                {
                                    "SZOBA_FK": "33",
                                    "FOGLALAS_PK": "624",
                                    "aktualis_idotartam": "6",
                                    "elozoleg_idotartam": "0"
                                },
                                {
                                    "SZOBA_FK": "33",
                                    "FOGLALAS_PK": "1012",
                                    "aktualis_idotartam": "7",
                                    "elozoleg_idotartam": "6"
                                },
                                {
                                    "SZOBA_FK": "33",
                                    "FOGLALAS_PK": "1053",
                                    "aktualis_idotartam": "1",
                                    "elozoleg_idotartam": "7"
                                },
                                {
                                    "SZOBA_FK": "33",
                                    "FOGLALAS_PK": "1321",
                                    "aktualis_idotartam": "4",
                                    "elozoleg_idotartam": "1"
                                },
                                {
                                    "SZOBA_FK": "33",
                                    "FOGLALAS_PK": "1344",
                                    "aktualis_idotartam": "5",
                                    "elozoleg_idotartam": "4"
                                },
                                {
                                    "SZOBA_FK": "33",
                                    "FOGLALAS_PK": "1381",
                                    "aktualis_idotartam": "6",
                                    "elozoleg_idotartam": "5"
                                },
                                {
                                    "SZOBA_FK": "34",
                                    "FOGLALAS_PK": "777",
                                    "aktualis_idotartam": "3",
                                    "elozoleg_idotartam": "0"
                                },
                                {
                                    "SZOBA_FK": "34",
                                    "FOGLALAS_PK": "821",
                                    "aktualis_idotartam": "1",
                                    "elozoleg_idotartam": "3"
                                },
                                {
                                    "SZOBA_FK": "34",
                                    "FOGLALAS_PK": "870",
                                    "aktualis_idotartam": "6",
                                    "elozoleg_idotartam": "1"
                                },
                                {
                                    "SZOBA_FK": "34",
                                    "FOGLALAS_PK": "904",
                                    "aktualis_idotartam": "2",
                                    "elozoleg_idotartam": "6"
                                },
                                {
                                    "SZOBA_FK": "35",
                                    "FOGLALAS_PK": "686",
                                    "aktualis_idotartam": "6",
                                    "elozoleg_idotartam": "0"
                                },
                                {
                                    "SZOBA_FK": "35",
                                    "FOGLALAS_PK": "707",
                                    "aktualis_idotartam": "2",
                                    "elozoleg_idotartam": "6"
                                },
                                {
                                    "SZOBA_FK": "35",
                                    "FOGLALAS_PK": "829",
                                    "aktualis_idotartam": "2",
                                    "elozoleg_idotartam": "2"
                                },
                                {
                                    "SZOBA_FK": "35",
                                    "FOGLALAS_PK": "971",
                                    "aktualis_idotartam": "3",
                                    "elozoleg_idotartam": "2"
                                },
                                {
                                    "SZOBA_FK": "35",
                                    "FOGLALAS_PK": "979",
                                    "aktualis_idotartam": "7",
                                    "elozoleg_idotartam": "3"
                                },
                                {
                                    "SZOBA_FK": "35",
                                    "FOGLALAS_PK": "1411",
                                    "aktualis_idotartam": "1",
                                    "elozoleg_idotartam": "7"
                                },
                                {
                                    "SZOBA_FK": "35",
                                    "FOGLALAS_PK": "1436",
                                    "aktualis_idotartam": "1",
                                    "elozoleg_idotartam": "1"
                                },
                                {
                                    "SZOBA_FK": "35",
                                    "FOGLALAS_PK": "1480",
                                    "aktualis_idotartam": "37",
                                    "elozoleg_idotartam": "1"
                                },
                                {
                                    "SZOBA_FK": "35",
                                    "FOGLALAS_PK": "1529",
                                    "aktualis_idotartam": "4",
                                    "elozoleg_idotartam": "37"
                                },
                                {
                                    "SZOBA_FK": "36",
                                    "FOGLALAS_PK": "748",
                                    "aktualis_idotartam": "2",
                                    "elozoleg_idotartam": "0"
                                },
                                {
                                    "SZOBA_FK": "36",
                                    "FOGLALAS_PK": "750",
                                    "aktualis_idotartam": "6",
                                    "elozoleg_idotartam": "2"
                                },
                                {
                                    "SZOBA_FK": "36",
                                    "FOGLALAS_PK": "895",
                                    "aktualis_idotartam": "5",
                                    "elozoleg_idotartam": "6"
                                },
                                {
                                    "SZOBA_FK": "36",
                                    "FOGLALAS_PK": "919",
                                    "aktualis_idotartam": "1",
                                    "elozoleg_idotartam": "5"
                                },
                                {
                                    "SZOBA_FK": "36",
                                    "FOGLALAS_PK": "985",
                                    "aktualis_idotartam": "6",
                                    "elozoleg_idotartam": "1"
                                },
                                {
                                    "SZOBA_FK": "36",
                                    "FOGLALAS_PK": "1003",
                                    "aktualis_idotartam": "4",
                                    "elozoleg_idotartam": "6"
                                },
                                {
                                    "SZOBA_FK": "37",
                                    "FOGLALAS_PK": "688",
                                    "aktualis_idotartam": "2",
                                    "elozoleg_idotartam": "0"
                                },
                                {
                                    "SZOBA_FK": "37",
                                    "FOGLALAS_PK": "705",
                                    "aktualis_idotartam": "4",
                                    "elozoleg_idotartam": "2"
                                },
                                {
                                    "SZOBA_FK": "37",
                                    "FOGLALAS_PK": "1335",
                                    "aktualis_idotartam": "7",
                                    "elozoleg_idotartam": "4"
                                },
                                {
                                    "SZOBA_FK": "38",
                                    "FOGLALAS_PK": "627",
                                    "aktualis_idotartam": "6",
                                    "elozoleg_idotartam": "0"
                                },
                                {
                                    "SZOBA_FK": "38",
                                    "FOGLALAS_PK": "1033",
                                    "aktualis_idotartam": "2",
                                    "elozoleg_idotartam": "6"
                                },
                                {
                                    "SZOBA_FK": "38",
                                    "FOGLALAS_PK": "1060",
                                    "aktualis_idotartam": "2",
                                    "elozoleg_idotartam": "2"
                                },
                                {
                                    "SZOBA_FK": "38",
                                    "FOGLALAS_PK": "1078",
                                    "aktualis_idotartam": "7",
                                    "elozoleg_idotartam": "2"
                                },
                                {
                                    "SZOBA_FK": "38",
                                    "FOGLALAS_PK": "1351",
                                    "aktualis_idotartam": "4",
                                    "elozoleg_idotartam": "7"
                                },
                                {
                                    "SZOBA_FK": "38",
                                    "FOGLALAS_PK": "1416",
                                    "aktualis_idotartam": "5",
                                    "elozoleg_idotartam": "4"
                                },
                                {
                                    "SZOBA_FK": "38",
                                    "FOGLALAS_PK": "1478",
                                    "aktualis_idotartam": "4",
                                    "elozoleg_idotartam": "5"
                                },
                                {
                                    "SZOBA_FK": "38",
                                    "FOGLALAS_PK": "1556",
                                    "aktualis_idotartam": "6",
                                    "elozoleg_idotartam": "4"
                                },
                                {
                                    "SZOBA_FK": "39",
                                    "FOGLALAS_PK": "601",
                                    "aktualis_idotartam": "6",
                                    "elozoleg_idotartam": "0"
                                },
                                {
                                    "SZOBA_FK": "39",
                                    "FOGLALAS_PK": "899",
                                    "aktualis_idotartam": "6",
                                    "elozoleg_idotartam": "6"
                                },
                                {
                                    "SZOBA_FK": "39",
                                    "FOGLALAS_PK": "1214",
                                    "aktualis_idotartam": "5",
                                    "elozoleg_idotartam": "6"
                                },
                                {
                                    "SZOBA_FK": "39",
                                    "FOGLALAS_PK": "1380",
                                    "aktualis_idotartam": "5",
                                    "elozoleg_idotartam": "5"
                                },
                                {
                                    "SZOBA_FK": "39",
                                    "FOGLALAS_PK": "1435",
                                    "aktualis_idotartam": "7",
                                    "elozoleg_idotartam": "5"
                                },
                                {
                                    "SZOBA_FK": "39",
                                    "FOGLALAS_PK": "1454",
                                    "aktualis_idotartam": "1",
                                    "elozoleg_idotartam": "7"
                                },
                                {
                                    "SZOBA_FK": "39",
                                    "FOGLALAS_PK": "1538",
                                    "aktualis_idotartam": "2",
                                    "elozoleg_idotartam": "1"
                                },
                                {
                                    "SZOBA_FK": "40",
                                    "FOGLALAS_PK": "924",
                                    "aktualis_idotartam": "5",
                                    "elozoleg_idotartam": "0"
                                },
                                {
                                    "SZOBA_FK": "40",
                                    "FOGLALAS_PK": "932",
                                    "aktualis_idotartam": "6",
                                    "elozoleg_idotartam": "5"
                                },
                                {
                                    "SZOBA_FK": "40",
                                    "FOGLALAS_PK": "1018",
                                    "aktualis_idotartam": "5",
                                    "elozoleg_idotartam": "6"
                                },
                                {
                                    "SZOBA_FK": "40",
                                    "FOGLALAS_PK": "1118",
                                    "aktualis_idotartam": "5",
                                    "elozoleg_idotartam": "5"
                                },
                                {
                                    "SZOBA_FK": "41",
                                    "FOGLALAS_PK": "960",
                                    "aktualis_idotartam": "6",
                                    "elozoleg_idotartam": "0"
                                },
                                {
                                    "SZOBA_FK": "41",
                                    "FOGLALAS_PK": "1144",
                                    "aktualis_idotartam": "1",
                                    "elozoleg_idotartam": "6"
                                },
                                {
                                    "SZOBA_FK": "42",
                                    "FOGLALAS_PK": "561",
                                    "aktualis_idotartam": "4",
                                    "elozoleg_idotartam": "0"
                                },
                                {
                                    "SZOBA_FK": "42",
                                    "FOGLALAS_PK": "590",
                                    "aktualis_idotartam": "5",
                                    "elozoleg_idotartam": "4"
                                },
                                {
                                    "SZOBA_FK": "42",
                                    "FOGLALAS_PK": "770",
                                    "aktualis_idotartam": "3",
                                    "elozoleg_idotartam": "5"
                                },
                                {
                                    "SZOBA_FK": "42",
                                    "FOGLALAS_PK": "851",
                                    "aktualis_idotartam": "7",
                                    "elozoleg_idotartam": "3"
                                },
                                {
                                    "SZOBA_FK": "42",
                                    "FOGLALAS_PK": "1309",
                                    "aktualis_idotartam": "2",
                                    "elozoleg_idotartam": "7"
                                },
                                {
                                    "SZOBA_FK": "42",
                                    "FOGLALAS_PK": "1444",
                                    "aktualis_idotartam": "6",
                                    "elozoleg_idotartam": "2"
                                },
                                {
                                    "SZOBA_FK": "43",
                                    "FOGLALAS_PK": "670",
                                    "aktualis_idotartam": "4",
                                    "elozoleg_idotartam": "0"
                                },
                                {
                                    "SZOBA_FK": "43",
                                    "FOGLALAS_PK": "1019",
                                    "aktualis_idotartam": "4",
                                    "elozoleg_idotartam": "4"
                                },
                                {
                                    "SZOBA_FK": "43",
                                    "FOGLALAS_PK": "1088",
                                    "aktualis_idotartam": "2",
                                    "elozoleg_idotartam": "4"
                                },
                                {
                                    "SZOBA_FK": "43",
                                    "FOGLALAS_PK": "1207",
                                    "aktualis_idotartam": "1",
                                    "elozoleg_idotartam": "2"
                                },
                                {
                                    "SZOBA_FK": "43",
                                    "FOGLALAS_PK": "1227",
                                    "aktualis_idotartam": "5",
                                    "elozoleg_idotartam": "1"
                                },
                                {
                                    "SZOBA_FK": "43",
                                    "FOGLALAS_PK": "1270",
                                    "aktualis_idotartam": "4",
                                    "elozoleg_idotartam": "5"
                                },
                                {
                                    "SZOBA_FK": "43",
                                    "FOGLALAS_PK": "1524",
                                    "aktualis_idotartam": "1",
                                    "elozoleg_idotartam": "4"
                                },
                                {
                                    "SZOBA_FK": "43",
                                    "FOGLALAS_PK": "1553",
                                    "aktualis_idotartam": "5",
                                    "elozoleg_idotartam": "1"
                                },
                                {
                                    "SZOBA_FK": "44",
                                    "FOGLALAS_PK": "589",
                                    "aktualis_idotartam": "2",
                                    "elozoleg_idotartam": "0"
                                },
                                {
                                    "SZOBA_FK": "44",
                                    "FOGLALAS_PK": "658",
                                    "aktualis_idotartam": "6",
                                    "elozoleg_idotartam": "2"
                                },
                                {
                                    "SZOBA_FK": "44",
                                    "FOGLALAS_PK": "823",
                                    "aktualis_idotartam": "2",
                                    "elozoleg_idotartam": "6"
                                },
                                {
                                    "SZOBA_FK": "44",
                                    "FOGLALAS_PK": "1295",
                                    "aktualis_idotartam": "2",
                                    "elozoleg_idotartam": "2"
                                },
                                {
                                    "SZOBA_FK": "44",
                                    "FOGLALAS_PK": "1425",
                                    "aktualis_idotartam": "2",
                                    "elozoleg_idotartam": "2"
                                },
                                {
                                    "SZOBA_FK": "44",
                                    "FOGLALAS_PK": "1552",
                                    "aktualis_idotartam": "2",
                                    "elozoleg_idotartam": "2"
                                },
                                {
                                    "SZOBA_FK": "45",
                                    "FOGLALAS_PK": "800",
                                    "aktualis_idotartam": "5",
                                    "elozoleg_idotartam": "0"
                                },
                                {
                                    "SZOBA_FK": "45",
                                    "FOGLALAS_PK": "802",
                                    "aktualis_idotartam": "7",
                                    "elozoleg_idotartam": "5"
                                },
                                {
                                    "SZOBA_FK": "45",
                                    "FOGLALAS_PK": "846",
                                    "aktualis_idotartam": "3",
                                    "elozoleg_idotartam": "7"
                                },
                                {
                                    "SZOBA_FK": "45",
                                    "FOGLALAS_PK": "1135",
                                    "aktualis_idotartam": "3",
                                    "elozoleg_idotartam": "3"
                                },
                                {
                                    "SZOBA_FK": "45",
                                    "FOGLALAS_PK": "1303",
                                    "aktualis_idotartam": "2",
                                    "elozoleg_idotartam": "3"
                                },
                                {
                                    "SZOBA_FK": "46",
                                    "FOGLALAS_PK": "752",
                                    "aktualis_idotartam": "5",
                                    "elozoleg_idotartam": "0"
                                },
                                {
                                    "SZOBA_FK": "46",
                                    "FOGLALAS_PK": "1187",
                                    "aktualis_idotartam": "7",
                                    "elozoleg_idotartam": "5"
                                },
                                {
                                    "SZOBA_FK": "46",
                                    "FOGLALAS_PK": "1291",
                                    "aktualis_idotartam": "3",
                                    "elozoleg_idotartam": "7"
                                },
                                {
                                    "SZOBA_FK": "46",
                                    "FOGLALAS_PK": "1515",
                                    "aktualis_idotartam": "4",
                                    "elozoleg_idotartam": "3"
                                },
                                {
                                    "SZOBA_FK": "47",
                                    "FOGLALAS_PK": "955",
                                    "aktualis_idotartam": "1",
                                    "elozoleg_idotartam": "0"
                                },
                                {
                                    "SZOBA_FK": "47",
                                    "FOGLALAS_PK": "1056",
                                    "aktualis_idotartam": "7",
                                    "elozoleg_idotartam": "1"
                                },
                                {
                                    "SZOBA_FK": "48",
                                    "FOGLALAS_PK": "603",
                                    "aktualis_idotartam": "3",
                                    "elozoleg_idotartam": "0"
                                },
                                {
                                    "SZOBA_FK": "48",
                                    "FOGLALAS_PK": "628",
                                    "aktualis_idotartam": "2",
                                    "elozoleg_idotartam": "3"
                                },
                                {
                                    "SZOBA_FK": "48",
                                    "FOGLALAS_PK": "824",
                                    "aktualis_idotartam": "2",
                                    "elozoleg_idotartam": "2"
                                },
                                {
                                    "SZOBA_FK": "48",
                                    "FOGLALAS_PK": "914",
                                    "aktualis_idotartam": "5",
                                    "elozoleg_idotartam": "2"
                                },
                                {
                                    "SZOBA_FK": "48",
                                    "FOGLALAS_PK": "986",
                                    "aktualis_idotartam": "5",
                                    "elozoleg_idotartam": "5"
                                },
                                {
                                    "SZOBA_FK": "48",
                                    "FOGLALAS_PK": "1243",
                                    "aktualis_idotartam": "6",
                                    "elozoleg_idotartam": "5"
                                },
                                {
                                    "SZOBA_FK": "48",
                                    "FOGLALAS_PK": "1546",
                                    "aktualis_idotartam": "3",
                                    "elozoleg_idotartam": "6"
                                },
                                {
                                    "SZOBA_FK": "48",
                                    "FOGLALAS_PK": "1547",
                                    "aktualis_idotartam": "1",
                                    "elozoleg_idotartam": "3"
                                },
                                {
                                    "SZOBA_FK": "48",
                                    "FOGLALAS_PK": "1581",
                                    "aktualis_idotartam": "5",
                                    "elozoleg_idotartam": "1"
                                },
                                {
                                    "SZOBA_FK": "49",
                                    "FOGLALAS_PK": "793",
                                    "aktualis_idotartam": "6",
                                    "elozoleg_idotartam": "0"
                                },
                                {
                                    "SZOBA_FK": "49",
                                    "FOGLALAS_PK": "826",
                                    "aktualis_idotartam": "4",
                                    "elozoleg_idotartam": "6"
                                },
                                {
                                    "SZOBA_FK": "49",
                                    "FOGLALAS_PK": "888",
                                    "aktualis_idotartam": "7",
                                    "elozoleg_idotartam": "4"
                                },
                                {
                                    "SZOBA_FK": "49",
                                    "FOGLALAS_PK": "1066",
                                    "aktualis_idotartam": "7",
                                    "elozoleg_idotartam": "7"
                                },
                                {
                                    "SZOBA_FK": "49",
                                    "FOGLALAS_PK": "1200",
                                    "aktualis_idotartam": "7",
                                    "elozoleg_idotartam": "7"
                                },
                                {
                                    "SZOBA_FK": "49",
                                    "FOGLALAS_PK": "1221",
                                    "aktualis_idotartam": "2",
                                    "elozoleg_idotartam": "7"
                                },
                                {
                                    "SZOBA_FK": "49",
                                    "FOGLALAS_PK": "1536",
                                    "aktualis_idotartam": "6",
                                    "elozoleg_idotartam": "2"
                                },
                                {
                                    "SZOBA_FK": "50",
                                    "FOGLALAS_PK": "787",
                                    "aktualis_idotartam": "3",
                                    "elozoleg_idotartam": "0"
                                },
                                {
                                    "SZOBA_FK": "50",
                                    "FOGLALAS_PK": "1063",
                                    "aktualis_idotartam": "2",
                                    "elozoleg_idotartam": "3"
                                },
                                {
                                    "SZOBA_FK": "50",
                                    "FOGLALAS_PK": "1224",
                                    "aktualis_idotartam": "1",
                                    "elozoleg_idotartam": "2"
                                },
                                {
                                    "SZOBA_FK": "50",
                                    "FOGLALAS_PK": "1272",
                                    "aktualis_idotartam": "1",
                                    "elozoleg_idotartam": "1"
                                },
                                {
                                    "SZOBA_FK": "51",
                                    "FOGLALAS_PK": "811",
                                    "aktualis_idotartam": "2",
                                    "elozoleg_idotartam": "0"
                                },
                                {
                                    "SZOBA_FK": "51",
                                    "FOGLALAS_PK": "865",
                                    "aktualis_idotartam": "7",
                                    "elozoleg_idotartam": "2"
                                },
                                {
                                    "SZOBA_FK": "51",
                                    "FOGLALAS_PK": "1165",
                                    "aktualis_idotartam": "5",
                                    "elozoleg_idotartam": "7"
                                },
                                {
                                    "SZOBA_FK": "51",
                                    "FOGLALAS_PK": "1477",
                                    "aktualis_idotartam": "6",
                                    "elozoleg_idotartam": "5"
                                },
                                {
                                    "SZOBA_FK": "51",
                                    "FOGLALAS_PK": "1550",
                                    "aktualis_idotartam": "1",
                                    "elozoleg_idotartam": "6"
                                },
                                {
                                    "SZOBA_FK": "52",
                                    "FOGLALAS_PK": "822",
                                    "aktualis_idotartam": "7",
                                    "elozoleg_idotartam": "0"
                                },
                                {
                                    "SZOBA_FK": "52",
                                    "FOGLALAS_PK": "1202",
                                    "aktualis_idotartam": "2",
                                    "elozoleg_idotartam": "7"
                                },
                                {
                                    "SZOBA_FK": "52",
                                    "FOGLALAS_PK": "1258",
                                    "aktualis_idotartam": "5",
                                    "elozoleg_idotartam": "2"
                                },
                                {
                                    "SZOBA_FK": "52",
                                    "FOGLALAS_PK": "1431",
                                    "aktualis_idotartam": "5",
                                    "elozoleg_idotartam": "5"
                                },
                                {
                                    "SZOBA_FK": "52",
                                    "FOGLALAS_PK": "1534",
                                    "aktualis_idotartam": "5",
                                    "elozoleg_idotartam": "5"
                                },
                                {
                                    "SZOBA_FK": "53",
                                    "FOGLALAS_PK": "855",
                                    "aktualis_idotartam": "1",
                                    "elozoleg_idotartam": "0"
                                },
                                {
                                    "SZOBA_FK": "53",
                                    "FOGLALAS_PK": "987",
                                    "aktualis_idotartam": "4",
                                    "elozoleg_idotartam": "1"
                                },
                                {
                                    "SZOBA_FK": "54",
                                    "FOGLALAS_PK": "622",
                                    "aktualis_idotartam": "7",
                                    "elozoleg_idotartam": "0"
                                },
                                {
                                    "SZOBA_FK": "54",
                                    "FOGLALAS_PK": "642",
                                    "aktualis_idotartam": "5",
                                    "elozoleg_idotartam": "7"
                                },
                                {
                                    "SZOBA_FK": "54",
                                    "FOGLALAS_PK": "668",
                                    "aktualis_idotartam": "1",
                                    "elozoleg_idotartam": "5"
                                },
                                {
                                    "SZOBA_FK": "54",
                                    "FOGLALAS_PK": "889",
                                    "aktualis_idotartam": "2",
                                    "elozoleg_idotartam": "1"
                                },
                                {
                                    "SZOBA_FK": "54",
                                    "FOGLALAS_PK": "1096",
                                    "aktualis_idotartam": "4",
                                    "elozoleg_idotartam": "2"
                                },
                                {
                                    "SZOBA_FK": "54",
                                    "FOGLALAS_PK": "1328",
                                    "aktualis_idotartam": "4",
                                    "elozoleg_idotartam": "4"
                                },
                                {
                                    "SZOBA_FK": "55",
                                    "FOGLALAS_PK": "734",
                                    "aktualis_idotartam": "6",
                                    "elozoleg_idotartam": "0"
                                },
                                {
                                    "SZOBA_FK": "55",
                                    "FOGLALAS_PK": "1086",
                                    "aktualis_idotartam": "5",
                                    "elozoleg_idotartam": "6"
                                },
                                {
                                    "SZOBA_FK": "55",
                                    "FOGLALAS_PK": "1163",
                                    "aktualis_idotartam": "2",
                                    "elozoleg_idotartam": "5"
                                },
                                {
                                    "SZOBA_FK": "55",
                                    "FOGLALAS_PK": "1232",
                                    "aktualis_idotartam": "7",
                                    "elozoleg_idotartam": "2"
                                },
                                {
                                    "SZOBA_FK": "55",
                                    "FOGLALAS_PK": "1327",
                                    "aktualis_idotartam": "6",
                                    "elozoleg_idotartam": "7"
                                },
                                {
                                    "SZOBA_FK": "55",
                                    "FOGLALAS_PK": "1386",
                                    "aktualis_idotartam": "2",
                                    "elozoleg_idotartam": "6"
                                },
                                {
                                    "SZOBA_FK": "55",
                                    "FOGLALAS_PK": "1512",
                                    "aktualis_idotartam": "1",
                                    "elozoleg_idotartam": "2"
                                },
                                {
                                    "SZOBA_FK": "55",
                                    "FOGLALAS_PK": "1520",
                                    "aktualis_idotartam": "1",
                                    "elozoleg_idotartam": "1"
                                },
                                {
                                    "SZOBA_FK": "56",
                                    "FOGLALAS_PK": "838",
                                    "aktualis_idotartam": "2",
                                    "elozoleg_idotartam": "0"
                                },
                                {
                                    "SZOBA_FK": "56",
                                    "FOGLALAS_PK": "935",
                                    "aktualis_idotartam": "4",
                                    "elozoleg_idotartam": "2"
                                },
                                {
                                    "SZOBA_FK": "57",
                                    "FOGLALAS_PK": "1348",
                                    "aktualis_idotartam": "1",
                                    "elozoleg_idotartam": "0"
                                },
                                {
                                    "SZOBA_FK": "57",
                                    "FOGLALAS_PK": "1389",
                                    "aktualis_idotartam": "1",
                                    "elozoleg_idotartam": "1"
                                },
                                {
                                    "SZOBA_FK": "57",
                                    "FOGLALAS_PK": "1466",
                                    "aktualis_idotartam": "7",
                                    "elozoleg_idotartam": "1"
                                },
                                {
                                    "SZOBA_FK": "57",
                                    "FOGLALAS_PK": "1504",
                                    "aktualis_idotartam": "4",
                                    "elozoleg_idotartam": "7"
                                },
                                {
                                    "SZOBA_FK": "58",
                                    "FOGLALAS_PK": "719",
                                    "aktualis_idotartam": "3",
                                    "elozoleg_idotartam": "0"
                                },
                                {
                                    "SZOBA_FK": "58",
                                    "FOGLALAS_PK": "773",
                                    "aktualis_idotartam": "2",
                                    "elozoleg_idotartam": "3"
                                },
                                {
                                    "SZOBA_FK": "58",
                                    "FOGLALAS_PK": "883",
                                    "aktualis_idotartam": "5",
                                    "elozoleg_idotartam": "2"
                                },
                                {
                                    "SZOBA_FK": "58",
                                    "FOGLALAS_PK": "1113",
                                    "aktualis_idotartam": "3",
                                    "elozoleg_idotartam": "5"
                                },
                                {
                                    "SZOBA_FK": "58",
                                    "FOGLALAS_PK": "1186",
                                    "aktualis_idotartam": "6",
                                    "elozoleg_idotartam": "3"
                                },
                                {
                                    "SZOBA_FK": "58",
                                    "FOGLALAS_PK": "1208",
                                    "aktualis_idotartam": "6",
                                    "elozoleg_idotartam": "6"
                                },
                                {
                                    "SZOBA_FK": "58",
                                    "FOGLALAS_PK": "1255",
                                    "aktualis_idotartam": "7",
                                    "elozoleg_idotartam": "6"
                                },
                                {
                                    "SZOBA_FK": "58",
                                    "FOGLALAS_PK": "1261",
                                    "aktualis_idotartam": "6",
                                    "elozoleg_idotartam": "7"
                                },
                                {
                                    "SZOBA_FK": "58",
                                    "FOGLALAS_PK": "1285",
                                    "aktualis_idotartam": "7",
                                    "elozoleg_idotartam": "6"
                                },
                                {
                                    "SZOBA_FK": "58",
                                    "FOGLALAS_PK": "1293",
                                    "aktualis_idotartam": "3",
                                    "elozoleg_idotartam": "7"
                                },
                                {
                                    "SZOBA_FK": "58",
                                    "FOGLALAS_PK": "1307",
                                    "aktualis_idotartam": "6",
                                    "elozoleg_idotartam": "3"
                                },
                                {
                                    "SZOBA_FK": "58",
                                    "FOGLALAS_PK": "1322",
                                    "aktualis_idotartam": "3",
                                    "elozoleg_idotartam": "6"
                                },
                                {
                                    "SZOBA_FK": "58",
                                    "FOGLALAS_PK": "1451",
                                    "aktualis_idotartam": "6",
                                    "elozoleg_idotartam": "3"
                                },
                                {
                                    "SZOBA_FK": "59",
                                    "FOGLALAS_PK": "1080",
                                    "aktualis_idotartam": "1",
                                    "elozoleg_idotartam": "0"
                                },
                                {
                                    "SZOBA_FK": "59",
                                    "FOGLALAS_PK": "1084",
                                    "aktualis_idotartam": "2",
                                    "elozoleg_idotartam": "1"
                                },
                                {
                                    "SZOBA_FK": "59",
                                    "FOGLALAS_PK": "1170",
                                    "aktualis_idotartam": "5",
                                    "elozoleg_idotartam": "2"
                                },
                                {
                                    "SZOBA_FK": "59",
                                    "FOGLALAS_PK": "1191",
                                    "aktualis_idotartam": "6",
                                    "elozoleg_idotartam": "5"
                                },
                                {
                                    "SZOBA_FK": "59",
                                    "FOGLALAS_PK": "1239",
                                    "aktualis_idotartam": "2",
                                    "elozoleg_idotartam": "6"
                                },
                                {
                                    "SZOBA_FK": "59",
                                    "FOGLALAS_PK": "1288",
                                    "aktualis_idotartam": "3",
                                    "elozoleg_idotartam": "2"
                                },
                                {
                                    "SZOBA_FK": "59",
                                    "FOGLALAS_PK": "1573",
                                    "aktualis_idotartam": "1",
                                    "elozoleg_idotartam": "3"
                                },
                                {
                                    "SZOBA_FK": "60",
                                    "FOGLALAS_PK": "676",
                                    "aktualis_idotartam": "2",
                                    "elozoleg_idotartam": "0"
                                },
                                {
                                    "SZOBA_FK": "61",
                                    "FOGLALAS_PK": "701",
                                    "aktualis_idotartam": "2",
                                    "elozoleg_idotartam": "0"
                                },
                                {
                                    "SZOBA_FK": "61",
                                    "FOGLALAS_PK": "756",
                                    "aktualis_idotartam": "6",
                                    "elozoleg_idotartam": "2"
                                },
                                {
                                    "SZOBA_FK": "61",
                                    "FOGLALAS_PK": "1148",
                                    "aktualis_idotartam": "3",
                                    "elozoleg_idotartam": "6"
                                },
                                {
                                    "SZOBA_FK": "61",
                                    "FOGLALAS_PK": "1218",
                                    "aktualis_idotartam": "2",
                                    "elozoleg_idotartam": "3"
                                },
                                {
                                    "SZOBA_FK": "61",
                                    "FOGLALAS_PK": "1496",
                                    "aktualis_idotartam": "7",
                                    "elozoleg_idotartam": "2"
                                },
                                {
                                    "SZOBA_FK": "62",
                                    "FOGLALAS_PK": "702",
                                    "aktualis_idotartam": "5",
                                    "elozoleg_idotartam": "0"
                                },
                                {
                                    "SZOBA_FK": "62",
                                    "FOGLALAS_PK": "936",
                                    "aktualis_idotartam": "3",
                                    "elozoleg_idotartam": "5"
                                },
                                {
                                    "SZOBA_FK": "62",
                                    "FOGLALAS_PK": "938",
                                    "aktualis_idotartam": "1",
                                    "elozoleg_idotartam": "3"
                                },
                                {
                                    "SZOBA_FK": "62",
                                    "FOGLALAS_PK": "1081",
                                    "aktualis_idotartam": "7",
                                    "elozoleg_idotartam": "1"
                                },
                                {
                                    "SZOBA_FK": "62",
                                    "FOGLALAS_PK": "1426",
                                    "aktualis_idotartam": "4",
                                    "elozoleg_idotartam": "7"
                                },
                                {
                                    "SZOBA_FK": "63",
                                    "FOGLALAS_PK": "625",
                                    "aktualis_idotartam": "3",
                                    "elozoleg_idotartam": "0"
                                },
                                {
                                    "SZOBA_FK": "63",
                                    "FOGLALAS_PK": "769",
                                    "aktualis_idotartam": "5",
                                    "elozoleg_idotartam": "3"
                                },
                                {
                                    "SZOBA_FK": "63",
                                    "FOGLALAS_PK": "845",
                                    "aktualis_idotartam": "1",
                                    "elozoleg_idotartam": "5"
                                },
                                {
                                    "SZOBA_FK": "63",
                                    "FOGLALAS_PK": "891",
                                    "aktualis_idotartam": "6",
                                    "elozoleg_idotartam": "1"
                                },
                                {
                                    "SZOBA_FK": "64",
                                    "FOGLALAS_PK": "875",
                                    "aktualis_idotartam": "2",
                                    "elozoleg_idotartam": "0"
                                },
                                {
                                    "SZOBA_FK": "64",
                                    "FOGLALAS_PK": "1122",
                                    "aktualis_idotartam": "4",
                                    "elozoleg_idotartam": "2"
                                },
                                {
                                    "SZOBA_FK": "64",
                                    "FOGLALAS_PK": "1233",
                                    "aktualis_idotartam": "7",
                                    "elozoleg_idotartam": "4"
                                },
                                {
                                    "SZOBA_FK": "64",
                                    "FOGLALAS_PK": "1446",
                                    "aktualis_idotartam": "6",
                                    "elozoleg_idotartam": "7"
                                },
                                {
                                    "SZOBA_FK": "64",
                                    "FOGLALAS_PK": "1465",
                                    "aktualis_idotartam": "4",
                                    "elozoleg_idotartam": "6"
                                },
                                {
                                    "SZOBA_FK": "64",
                                    "FOGLALAS_PK": "1582",
                                    "aktualis_idotartam": "1",
                                    "elozoleg_idotartam": "4"
                                },
                                {
                                    "SZOBA_FK": "65",
                                    "FOGLALAS_PK": "650",
                                    "aktualis_idotartam": "6",
                                    "elozoleg_idotartam": "0"
                                },
                                {
                                    "SZOBA_FK": "66",
                                    "FOGLALAS_PK": "736",
                                    "aktualis_idotartam": "3",
                                    "elozoleg_idotartam": "0"
                                },
                                {
                                    "SZOBA_FK": "66",
                                    "FOGLALAS_PK": "950",
                                    "aktualis_idotartam": "3",
                                    "elozoleg_idotartam": "3"
                                },
                                {
                                    "SZOBA_FK": "66",
                                    "FOGLALAS_PK": "1234",
                                    "aktualis_idotartam": "3",
                                    "elozoleg_idotartam": "3"
                                },
                                {
                                    "SZOBA_FK": "66",
                                    "FOGLALAS_PK": "1264",
                                    "aktualis_idotartam": "4",
                                    "elozoleg_idotartam": "3"
                                },
                                {
                                    "SZOBA_FK": "67",
                                    "FOGLALAS_PK": "638",
                                    "aktualis_idotartam": "5",
                                    "elozoleg_idotartam": "0"
                                },
                                {
                                    "SZOBA_FK": "67",
                                    "FOGLALAS_PK": "645",
                                    "aktualis_idotartam": "6",
                                    "elozoleg_idotartam": "5"
                                },
                                {
                                    "SZOBA_FK": "67",
                                    "FOGLALAS_PK": "874",
                                    "aktualis_idotartam": "6",
                                    "elozoleg_idotartam": "6"
                                },
                                {
                                    "SZOBA_FK": "67",
                                    "FOGLALAS_PK": "1382",
                                    "aktualis_idotartam": "1",
                                    "elozoleg_idotartam": "6"
                                },
                                {
                                    "SZOBA_FK": "67",
                                    "FOGLALAS_PK": "1580",
                                    "aktualis_idotartam": "5",
                                    "elozoleg_idotartam": "1"
                                },
                                {
                                    "SZOBA_FK": "67",
                                    "FOGLALAS_PK": "1584",
                                    "aktualis_idotartam": "1",
                                    "elozoleg_idotartam": "5"
                                },
                                {
                                    "SZOBA_FK": "68",
                                    "FOGLALAS_PK": "563",
                                    "aktualis_idotartam": "5",
                                    "elozoleg_idotartam": "0"
                                },
                                {
                                    "SZOBA_FK": "68",
                                    "FOGLALAS_PK": "1027",
                                    "aktualis_idotartam": "7",
                                    "elozoleg_idotartam": "5"
                                },
                                {
                                    "SZOBA_FK": "68",
                                    "FOGLALAS_PK": "1324",
                                    "aktualis_idotartam": "4",
                                    "elozoleg_idotartam": "7"
                                },
                                {
                                    "SZOBA_FK": "69",
                                    "FOGLALAS_PK": "885",
                                    "aktualis_idotartam": "1",
                                    "elozoleg_idotartam": "0"
                                },
                                {
                                    "SZOBA_FK": "69",
                                    "FOGLALAS_PK": "1055",
                                    "aktualis_idotartam": "5",
                                    "elozoleg_idotartam": "1"
                                },
                                {
                                    "SZOBA_FK": "69",
                                    "FOGLALAS_PK": "1225",
                                    "aktualis_idotartam": "5",
                                    "elozoleg_idotartam": "5"
                                },
                                {
                                    "SZOBA_FK": "69",
                                    "FOGLALAS_PK": "1246",
                                    "aktualis_idotartam": "7",
                                    "elozoleg_idotartam": "5"
                                },
                                {
                                    "SZOBA_FK": "70",
                                    "FOGLALAS_PK": "585",
                                    "aktualis_idotartam": "5",
                                    "elozoleg_idotartam": "0"
                                },
                                {
                                    "SZOBA_FK": "70",
                                    "FOGLALAS_PK": "704",
                                    "aktualis_idotartam": "3",
                                    "elozoleg_idotartam": "5"
                                },
                                {
                                    "SZOBA_FK": "70",
                                    "FOGLALAS_PK": "814",
                                    "aktualis_idotartam": "3",
                                    "elozoleg_idotartam": "3"
                                },
                                {
                                    "SZOBA_FK": "70",
                                    "FOGLALAS_PK": "860",
                                    "aktualis_idotartam": "2",
                                    "elozoleg_idotartam": "3"
                                },
                                {
                                    "SZOBA_FK": "70",
                                    "FOGLALAS_PK": "1006",
                                    "aktualis_idotartam": "3",
                                    "elozoleg_idotartam": "2"
                                },
                                {
                                    "SZOBA_FK": "70",
                                    "FOGLALAS_PK": "1092",
                                    "aktualis_idotartam": "3",
                                    "elozoleg_idotartam": "3"
                                },
                                {
                                    "SZOBA_FK": "70",
                                    "FOGLALAS_PK": "1126",
                                    "aktualis_idotartam": "3",
                                    "elozoleg_idotartam": "3"
                                },
                                {
                                    "SZOBA_FK": "70",
                                    "FOGLALAS_PK": "1325",
                                    "aktualis_idotartam": "7",
                                    "elozoleg_idotartam": "3"
                                },
                                {
                                    "SZOBA_FK": "70",
                                    "FOGLALAS_PK": "1333",
                                    "aktualis_idotartam": "6",
                                    "elozoleg_idotartam": "7"
                                },
                                {
                                    "SZOBA_FK": "70",
                                    "FOGLALAS_PK": "1365",
                                    "aktualis_idotartam": "3",
                                    "elozoleg_idotartam": "6"
                                },
                                {
                                    "SZOBA_FK": "70",
                                    "FOGLALAS_PK": "1457",
                                    "aktualis_idotartam": "7",
                                    "elozoleg_idotartam": "3"
                                },
                                {
                                    "SZOBA_FK": "71",
                                    "FOGLALAS_PK": "681",
                                    "aktualis_idotartam": "3",
                                    "elozoleg_idotartam": "0"
                                },
                                {
                                    "SZOBA_FK": "71",
                                    "FOGLALAS_PK": "712",
                                    "aktualis_idotartam": "1",
                                    "elozoleg_idotartam": "3"
                                },
                                {
                                    "SZOBA_FK": "71",
                                    "FOGLALAS_PK": "1009",
                                    "aktualis_idotartam": "1",
                                    "elozoleg_idotartam": "1"
                                },
                                {
                                    "SZOBA_FK": "72",
                                    "FOGLALAS_PK": "902",
                                    "aktualis_idotartam": "5",
                                    "elozoleg_idotartam": "0"
                                },
                                {
                                    "SZOBA_FK": "72",
                                    "FOGLALAS_PK": "961",
                                    "aktualis_idotartam": "6",
                                    "elozoleg_idotartam": "5"
                                },
                                {
                                    "SZOBA_FK": "72",
                                    "FOGLALAS_PK": "1318",
                                    "aktualis_idotartam": "2",
                                    "elozoleg_idotartam": "6"
                                },
                                {
                                    "SZOBA_FK": "72",
                                    "FOGLALAS_PK": "1396",
                                    "aktualis_idotartam": "3",
                                    "elozoleg_idotartam": "2"
                                },
                                {
                                    "SZOBA_FK": "73",
                                    "FOGLALAS_PK": "714",
                                    "aktualis_idotartam": "7",
                                    "elozoleg_idotartam": "0"
                                },
                                {
                                    "SZOBA_FK": "73",
                                    "FOGLALAS_PK": "1000",
                                    "aktualis_idotartam": "4",
                                    "elozoleg_idotartam": "7"
                                },
                                {
                                    "SZOBA_FK": "73",
                                    "FOGLALAS_PK": "1159",
                                    "aktualis_idotartam": "5",
                                    "elozoleg_idotartam": "4"
                                },
                                {
                                    "SZOBA_FK": "73",
                                    "FOGLALAS_PK": "1331",
                                    "aktualis_idotartam": "4",
                                    "elozoleg_idotartam": "5"
                                },
                                {
                                    "SZOBA_FK": "74",
                                    "FOGLALAS_PK": "595",
                                    "aktualis_idotartam": "7",
                                    "elozoleg_idotartam": "0"
                                },
                                {
                                    "SZOBA_FK": "74",
                                    "FOGLALAS_PK": "797",
                                    "aktualis_idotartam": "5",
                                    "elozoleg_idotartam": "7"
                                },
                                {
                                    "SZOBA_FK": "74",
                                    "FOGLALAS_PK": "830",
                                    "aktualis_idotartam": "1",
                                    "elozoleg_idotartam": "5"
                                },
                                {
                                    "SZOBA_FK": "74",
                                    "FOGLALAS_PK": "847",
                                    "aktualis_idotartam": "3",
                                    "elozoleg_idotartam": "1"
                                },
                                {
                                    "SZOBA_FK": "74",
                                    "FOGLALAS_PK": "877",
                                    "aktualis_idotartam": "4",
                                    "elozoleg_idotartam": "3"
                                },
                                {
                                    "SZOBA_FK": "74",
                                    "FOGLALAS_PK": "940",
                                    "aktualis_idotartam": "5",
                                    "elozoleg_idotartam": "4"
                                },
                                {
                                    "SZOBA_FK": "74",
                                    "FOGLALAS_PK": "963",
                                    "aktualis_idotartam": "1",
                                    "elozoleg_idotartam": "5"
                                },
                                {
                                    "SZOBA_FK": "74",
                                    "FOGLALAS_PK": "1093",
                                    "aktualis_idotartam": "6",
                                    "elozoleg_idotartam": "1"
                                },
                                {
                                    "SZOBA_FK": "74",
                                    "FOGLALAS_PK": "1179",
                                    "aktualis_idotartam": "7",
                                    "elozoleg_idotartam": "6"
                                },
                                {
                                    "SZOBA_FK": "75",
                                    "FOGLALAS_PK": "1013",
                                    "aktualis_idotartam": "5",
                                    "elozoleg_idotartam": "0"
                                },
                                {
                                    "SZOBA_FK": "75",
                                    "FOGLALAS_PK": "1412",
                                    "aktualis_idotartam": "2",
                                    "elozoleg_idotartam": "5"
                                },
                                {
                                    "SZOBA_FK": "75",
                                    "FOGLALAS_PK": "1458",
                                    "aktualis_idotartam": "1",
                                    "elozoleg_idotartam": "2"
                                },
                                {
                                    "SZOBA_FK": "76",
                                    "FOGLALAS_PK": "683",
                                    "aktualis_idotartam": "7",
                                    "elozoleg_idotartam": "0"
                                },
                                {
                                    "SZOBA_FK": "76",
                                    "FOGLALAS_PK": "976",
                                    "aktualis_idotartam": "2",
                                    "elozoleg_idotartam": "7"
                                },
                                {
                                    "SZOBA_FK": "76",
                                    "FOGLALAS_PK": "1557",
                                    "aktualis_idotartam": "3",
                                    "elozoleg_idotartam": "2"
                                },
                                {
                                    "SZOBA_FK": "77",
                                    "FOGLALAS_PK": "593",
                                    "aktualis_idotartam": "3",
                                    "elozoleg_idotartam": "0"
                                },
                                {
                                    "SZOBA_FK": "77",
                                    "FOGLALAS_PK": "698",
                                    "aktualis_idotartam": "4",
                                    "elozoleg_idotartam": "3"
                                },
                                {
                                    "SZOBA_FK": "77",
                                    "FOGLALAS_PK": "982",
                                    "aktualis_idotartam": "3",
                                    "elozoleg_idotartam": "4"
                                },
                                {
                                    "SZOBA_FK": "77",
                                    "FOGLALAS_PK": "1104",
                                    "aktualis_idotartam": "1",
                                    "elozoleg_idotartam": "3"
                                },
                                {
                                    "SZOBA_FK": "77",
                                    "FOGLALAS_PK": "1439",
                                    "aktualis_idotartam": "6",
                                    "elozoleg_idotartam": "1"
                                },
                                {
                                    "SZOBA_FK": "77",
                                    "FOGLALAS_PK": "1461",
                                    "aktualis_idotartam": "4",
                                    "elozoleg_idotartam": "6"
                                },
                                {
                                    "SZOBA_FK": "78",
                                    "FOGLALAS_PK": "568",
                                    "aktualis_idotartam": "1",
                                    "elozoleg_idotartam": "0"
                                },
                                {
                                    "SZOBA_FK": "78",
                                    "FOGLALAS_PK": "646",
                                    "aktualis_idotartam": "3",
                                    "elozoleg_idotartam": "1"
                                },
                                {
                                    "SZOBA_FK": "78",
                                    "FOGLALAS_PK": "700",
                                    "aktualis_idotartam": "5",
                                    "elozoleg_idotartam": "3"
                                },
                                {
                                    "SZOBA_FK": "78",
                                    "FOGLALAS_PK": "1268",
                                    "aktualis_idotartam": "2",
                                    "elozoleg_idotartam": "5"
                                },
                                {
                                    "SZOBA_FK": "78",
                                    "FOGLALAS_PK": "1281",
                                    "aktualis_idotartam": "3",
                                    "elozoleg_idotartam": "2"
                                },
                                {
                                    "SZOBA_FK": "78",
                                    "FOGLALAS_PK": "1577",
                                    "aktualis_idotartam": "7",
                                    "elozoleg_idotartam": "3"
                                },
                                {
                                    "SZOBA_FK": "79",
                                    "FOGLALAS_PK": "583",
                                    "aktualis_idotartam": "6",
                                    "elozoleg_idotartam": "0"
                                },
                                {
                                    "SZOBA_FK": "79",
                                    "FOGLALAS_PK": "1054",
                                    "aktualis_idotartam": "1",
                                    "elozoleg_idotartam": "6"
                                },
                                {
                                    "SZOBA_FK": "79",
                                    "FOGLALAS_PK": "1229",
                                    "aktualis_idotartam": "7",
                                    "elozoleg_idotartam": "1"
                                },
                                {
                                    "SZOBA_FK": "79",
                                    "FOGLALAS_PK": "1345",
                                    "aktualis_idotartam": "3",
                                    "elozoleg_idotartam": "7"
                                },
                                {
                                    "SZOBA_FK": "79",
                                    "FOGLALAS_PK": "1447",
                                    "aktualis_idotartam": "4",
                                    "elozoleg_idotartam": "3"
                                },
                                {
                                    "SZOBA_FK": "80",
                                    "FOGLALAS_PK": "667",
                                    "aktualis_idotartam": "6",
                                    "elozoleg_idotartam": "0"
                                },
                                {
                                    "SZOBA_FK": "80",
                                    "FOGLALAS_PK": "887",
                                    "aktualis_idotartam": "6",
                                    "elozoleg_idotartam": "6"
                                },
                                {
                                    "SZOBA_FK": "80",
                                    "FOGLALAS_PK": "929",
                                    "aktualis_idotartam": "2",
                                    "elozoleg_idotartam": "6"
                                },
                                {
                                    "SZOBA_FK": "80",
                                    "FOGLALAS_PK": "983",
                                    "aktualis_idotartam": "6",
                                    "elozoleg_idotartam": "2"
                                },
                                {
                                    "SZOBA_FK": "80",
                                    "FOGLALAS_PK": "1071",
                                    "aktualis_idotartam": "4",
                                    "elozoleg_idotartam": "6"
                                },
                                {
                                    "SZOBA_FK": "80",
                                    "FOGLALAS_PK": "1279",
                                    "aktualis_idotartam": "5",
                                    "elozoleg_idotartam": "4"
                                },
                                {
                                    "SZOBA_FK": "80",
                                    "FOGLALAS_PK": "1367",
                                    "aktualis_idotartam": "3",
                                    "elozoleg_idotartam": "5"
                                },
                                {
                                    "SZOBA_FK": "81",
                                    "FOGLALAS_PK": "1366",
                                    "aktualis_idotartam": "5",
                                    "elozoleg_idotartam": "0"
                                },
                                {
                                    "SZOBA_FK": "81",
                                    "FOGLALAS_PK": "1443",
                                    "aktualis_idotartam": "7",
                                    "elozoleg_idotartam": "5"
                                },
                                {
                                    "SZOBA_FK": "81",
                                    "FOGLALAS_PK": "1464",
                                    "aktualis_idotartam": "7",
                                    "elozoleg_idotartam": "7"
                                },
                                {
                                    "SZOBA_FK": "81",
                                    "FOGLALAS_PK": "1506",
                                    "aktualis_idotartam": "3",
                                    "elozoleg_idotartam": "7"
                                },
                                {
                                    "SZOBA_FK": "81",
                                    "FOGLALAS_PK": "1562",
                                    "aktualis_idotartam": "3",
                                    "elozoleg_idotartam": "3"
                                },
                                {
                                    "SZOBA_FK": "82",
                                    "FOGLALAS_PK": "862",
                                    "aktualis_idotartam": "4",
                                    "elozoleg_idotartam": "0"
                                },
                                {
                                    "SZOBA_FK": "82",
                                    "FOGLALAS_PK": "871",
                                    "aktualis_idotartam": "5",
                                    "elozoleg_idotartam": "4"
                                },
                                {
                                    "SZOBA_FK": "82",
                                    "FOGLALAS_PK": "997",
                                    "aktualis_idotartam": "6",
                                    "elozoleg_idotartam": "5"
                                },
                                {
                                    "SZOBA_FK": "82",
                                    "FOGLALAS_PK": "1277",
                                    "aktualis_idotartam": "5",
                                    "elozoleg_idotartam": "6"
                                },
                                {
                                    "SZOBA_FK": "82",
                                    "FOGLALAS_PK": "1341",
                                    "aktualis_idotartam": "2",
                                    "elozoleg_idotartam": "5"
                                },
                                {
                                    "SZOBA_FK": "82",
                                    "FOGLALAS_PK": "1406",
                                    "aktualis_idotartam": "1",
                                    "elozoleg_idotartam": "2"
                                },
                                {
                                    "SZOBA_FK": "83",
                                    "FOGLALAS_PK": "572",
                                    "aktualis_idotartam": "7",
                                    "elozoleg_idotartam": "0"
                                },
                                {
                                    "SZOBA_FK": "83",
                                    "FOGLALAS_PK": "674",
                                    "aktualis_idotartam": "4",
                                    "elozoleg_idotartam": "7"
                                },
                                {
                                    "SZOBA_FK": "83",
                                    "FOGLALAS_PK": "798",
                                    "aktualis_idotartam": "4",
                                    "elozoleg_idotartam": "4"
                                },
                                {
                                    "SZOBA_FK": "83",
                                    "FOGLALAS_PK": "869",
                                    "aktualis_idotartam": "6",
                                    "elozoleg_idotartam": "4"
                                },
                                {
                                    "SZOBA_FK": "83",
                                    "FOGLALAS_PK": "878",
                                    "aktualis_idotartam": "6",
                                    "elozoleg_idotartam": "6"
                                },
                                {
                                    "SZOBA_FK": "83",
                                    "FOGLALAS_PK": "995",
                                    "aktualis_idotartam": "5",
                                    "elozoleg_idotartam": "6"
                                },
                                {
                                    "SZOBA_FK": "83",
                                    "FOGLALAS_PK": "1119",
                                    "aktualis_idotartam": "6",
                                    "elozoleg_idotartam": "5"
                                },
                                {
                                    "SZOBA_FK": "83",
                                    "FOGLALAS_PK": "1379",
                                    "aktualis_idotartam": "7",
                                    "elozoleg_idotartam": "6"
                                },
                                {
                                    "SZOBA_FK": "84",
                                    "FOGLALAS_PK": "819",
                                    "aktualis_idotartam": "2",
                                    "elozoleg_idotartam": "0"
                                },
                                {
                                    "SZOBA_FK": "84",
                                    "FOGLALAS_PK": "954",
                                    "aktualis_idotartam": "5",
                                    "elozoleg_idotartam": "2"
                                },
                                {
                                    "SZOBA_FK": "84",
                                    "FOGLALAS_PK": "1376",
                                    "aktualis_idotartam": "5",
                                    "elozoleg_idotartam": "5"
                                },
                                {
                                    "SZOBA_FK": "84",
                                    "FOGLALAS_PK": "1384",
                                    "aktualis_idotartam": "7",
                                    "elozoleg_idotartam": "5"
                                },
                                {
                                    "SZOBA_FK": "85",
                                    "FOGLALAS_PK": "647",
                                    "aktualis_idotartam": "3",
                                    "elozoleg_idotartam": "0"
                                },
                                {
                                    "SZOBA_FK": "85",
                                    "FOGLALAS_PK": "1059",
                                    "aktualis_idotartam": "3",
                                    "elozoleg_idotartam": "3"
                                },
                                {
                                    "SZOBA_FK": "85",
                                    "FOGLALAS_PK": "1320",
                                    "aktualis_idotartam": "1",
                                    "elozoleg_idotartam": "3"
                                },
                                {
                                    "SZOBA_FK": "85",
                                    "FOGLALAS_PK": "1513",
                                    "aktualis_idotartam": "7",
                                    "elozoleg_idotartam": "1"
                                },
                                {
                                    "SZOBA_FK": "86",
                                    "FOGLALAS_PK": "859",
                                    "aktualis_idotartam": "1",
                                    "elozoleg_idotartam": "0"
                                },
                                {
                                    "SZOBA_FK": "86",
                                    "FOGLALAS_PK": "1057",
                                    "aktualis_idotartam": "5",
                                    "elozoleg_idotartam": "1"
                                },
                                {
                                    "SZOBA_FK": "86",
                                    "FOGLALAS_PK": "1079",
                                    "aktualis_idotartam": "4",
                                    "elozoleg_idotartam": "5"
                                },
                                {
                                    "SZOBA_FK": "86",
                                    "FOGLALAS_PK": "1108",
                                    "aktualis_idotartam": "1",
                                    "elozoleg_idotartam": "4"
                                },
                                {
                                    "SZOBA_FK": "86",
                                    "FOGLALAS_PK": "1453",
                                    "aktualis_idotartam": "1",
                                    "elozoleg_idotartam": "1"
                                },
                                {
                                    "SZOBA_FK": "87",
                                    "FOGLALAS_PK": "558",
                                    "aktualis_idotartam": "4",
                                    "elozoleg_idotartam": "0"
                                },
                                {
                                    "SZOBA_FK": "87",
                                    "FOGLALAS_PK": "844",
                                    "aktualis_idotartam": "1",
                                    "elozoleg_idotartam": "4"
                                },
                                {
                                    "SZOBA_FK": "87",
                                    "FOGLALAS_PK": "1103",
                                    "aktualis_idotartam": "3",
                                    "elozoleg_idotartam": "1"
                                },
                                {
                                    "SZOBA_FK": "87",
                                    "FOGLALAS_PK": "1349",
                                    "aktualis_idotartam": "5",
                                    "elozoleg_idotartam": "3"
                                },
                                {
                                    "SZOBA_FK": "87",
                                    "FOGLALAS_PK": "1456",
                                    "aktualis_idotartam": "5",
                                    "elozoleg_idotartam": "5"
                                },
                                {
                                    "SZOBA_FK": "88",
                                    "FOGLALAS_PK": "757",
                                    "aktualis_idotartam": "7",
                                    "elozoleg_idotartam": "0"
                                },
                                {
                                    "SZOBA_FK": "88",
                                    "FOGLALAS_PK": "866",
                                    "aktualis_idotartam": "2",
                                    "elozoleg_idotartam": "7"
                                },
                                {
                                    "SZOBA_FK": "88",
                                    "FOGLALAS_PK": "1196",
                                    "aktualis_idotartam": "3",
                                    "elozoleg_idotartam": "2"
                                },
                                {
                                    "SZOBA_FK": "88",
                                    "FOGLALAS_PK": "1273",
                                    "aktualis_idotartam": "7",
                                    "elozoleg_idotartam": "3"
                                },
                                {
                                    "SZOBA_FK": "88",
                                    "FOGLALAS_PK": "1300",
                                    "aktualis_idotartam": "3",
                                    "elozoleg_idotartam": "7"
                                },
                                {
                                    "SZOBA_FK": "88",
                                    "FOGLALAS_PK": "1359",
                                    "aktualis_idotartam": "2",
                                    "elozoleg_idotartam": "3"
                                },
                                {
                                    "SZOBA_FK": "88",
                                    "FOGLALAS_PK": "1548",
                                    "aktualis_idotartam": "7",
                                    "elozoleg_idotartam": "2"
                                },
                                {
                                    "SZOBA_FK": "88",
                                    "FOGLALAS_PK": "1575",
                                    "aktualis_idotartam": "6",
                                    "elozoleg_idotartam": "7"
                                },
                                {
                                    "SZOBA_FK": "89",
                                    "FOGLALAS_PK": "817",
                                    "aktualis_idotartam": "3",
                                    "elozoleg_idotartam": "0"
                                },
                                {
                                    "SZOBA_FK": "89",
                                    "FOGLALAS_PK": "1037",
                                    "aktualis_idotartam": "7",
                                    "elozoleg_idotartam": "3"
                                },
                                {
                                    "SZOBA_FK": "89",
                                    "FOGLALAS_PK": "1101",
                                    "aktualis_idotartam": "5",
                                    "elozoleg_idotartam": "7"
                                },
                                {
                                    "SZOBA_FK": "89",
                                    "FOGLALAS_PK": "1189",
                                    "aktualis_idotartam": "6",
                                    "elozoleg_idotartam": "5"
                                },
                                {
                                    "SZOBA_FK": "89",
                                    "FOGLALAS_PK": "1253",
                                    "aktualis_idotartam": "2",
                                    "elozoleg_idotartam": "6"
                                },
                                {
                                    "SZOBA_FK": "89",
                                    "FOGLALAS_PK": "1269",
                                    "aktualis_idotartam": "2",
                                    "elozoleg_idotartam": "2"
                                },
                                {
                                    "SZOBA_FK": "89",
                                    "FOGLALAS_PK": "1399",
                                    "aktualis_idotartam": "2",
                                    "elozoleg_idotartam": "2"
                                },
                                {
                                    "SZOBA_FK": "89",
                                    "FOGLALAS_PK": "1521",
                                    "aktualis_idotartam": "7",
                                    "elozoleg_idotartam": "2"
                                },
                                {
                                    "SZOBA_FK": "90",
                                    "FOGLALAS_PK": "729",
                                    "aktualis_idotartam": "2",
                                    "elozoleg_idotartam": "0"
                                },
                                {
                                    "SZOBA_FK": "90",
                                    "FOGLALAS_PK": "1174",
                                    "aktualis_idotartam": "7",
                                    "elozoleg_idotartam": "2"
                                },
                                {
                                    "SZOBA_FK": "90",
                                    "FOGLALAS_PK": "1299",
                                    "aktualis_idotartam": "6",
                                    "elozoleg_idotartam": "7"
                                },
                                {
                                    "SZOBA_FK": "90",
                                    "FOGLALAS_PK": "1405",
                                    "aktualis_idotartam": "5",
                                    "elozoleg_idotartam": "6"
                                },
                                {
                                    "SZOBA_FK": "91",
                                    "FOGLALAS_PK": "636",
                                    "aktualis_idotartam": "6",
                                    "elozoleg_idotartam": "0"
                                },
                                {
                                    "SZOBA_FK": "91",
                                    "FOGLALAS_PK": "732",
                                    "aktualis_idotartam": "4",
                                    "elozoleg_idotartam": "6"
                                },
                                {
                                    "SZOBA_FK": "91",
                                    "FOGLALAS_PK": "1213",
                                    "aktualis_idotartam": "3",
                                    "elozoleg_idotartam": "4"
                                },
                                {
                                    "SZOBA_FK": "91",
                                    "FOGLALAS_PK": "1397",
                                    "aktualis_idotartam": "4",
                                    "elozoleg_idotartam": "3"
                                },
                                {
                                    "SZOBA_FK": "92",
                                    "FOGLALAS_PK": "809",
                                    "aktualis_idotartam": "3",
                                    "elozoleg_idotartam": "0"
                                },
                                {
                                    "SZOBA_FK": "92",
                                    "FOGLALAS_PK": "841",
                                    "aktualis_idotartam": "6",
                                    "elozoleg_idotartam": "3"
                                },
                                {
                                    "SZOBA_FK": "92",
                                    "FOGLALAS_PK": "942",
                                    "aktualis_idotartam": "6",
                                    "elozoleg_idotartam": "6"
                                },
                                {
                                    "SZOBA_FK": "92",
                                    "FOGLALAS_PK": "1016",
                                    "aktualis_idotartam": "2",
                                    "elozoleg_idotartam": "6"
                                },
                                {
                                    "SZOBA_FK": "92",
                                    "FOGLALAS_PK": "1527",
                                    "aktualis_idotartam": "2",
                                    "elozoleg_idotartam": "2"
                                },
                                {
                                    "SZOBA_FK": "92",
                                    "FOGLALAS_PK": "1555",
                                    "aktualis_idotartam": "4",
                                    "elozoleg_idotartam": "2"
                                },
                                {
                                    "SZOBA_FK": "93",
                                    "FOGLALAS_PK": "741",
                                    "aktualis_idotartam": "7",
                                    "elozoleg_idotartam": "0"
                                },
                                {
                                    "SZOBA_FK": "93",
                                    "FOGLALAS_PK": "1169",
                                    "aktualis_idotartam": "4",
                                    "elozoleg_idotartam": "7"
                                },
                                {
                                    "SZOBA_FK": "93",
                                    "FOGLALAS_PK": "1217",
                                    "aktualis_idotartam": "1",
                                    "elozoleg_idotartam": "4"
                                },
                                {
                                    "SZOBA_FK": "93",
                                    "FOGLALAS_PK": "1355",
                                    "aktualis_idotartam": "2",
                                    "elozoleg_idotartam": "1"
                                },
                                {
                                    "SZOBA_FK": "93",
                                    "FOGLALAS_PK": "1391",
                                    "aktualis_idotartam": "4",
                                    "elozoleg_idotartam": "2"
                                },
                                {
                                    "SZOBA_FK": "94",
                                    "FOGLALAS_PK": "616",
                                    "aktualis_idotartam": "4",
                                    "elozoleg_idotartam": "0"
                                },
                                {
                                    "SZOBA_FK": "94",
                                    "FOGLALAS_PK": "665",
                                    "aktualis_idotartam": "7",
                                    "elozoleg_idotartam": "4"
                                },
                                {
                                    "SZOBA_FK": "94",
                                    "FOGLALAS_PK": "727",
                                    "aktualis_idotartam": "3",
                                    "elozoleg_idotartam": "7"
                                },
                                {
                                    "SZOBA_FK": "94",
                                    "FOGLALAS_PK": "975",
                                    "aktualis_idotartam": "5",
                                    "elozoleg_idotartam": "3"
                                },
                                {
                                    "SZOBA_FK": "94",
                                    "FOGLALAS_PK": "1241",
                                    "aktualis_idotartam": "7",
                                    "elozoleg_idotartam": "5"
                                },
                                {
                                    "SZOBA_FK": "94",
                                    "FOGLALAS_PK": "1305",
                                    "aktualis_idotartam": "2",
                                    "elozoleg_idotartam": "7"
                                },
                                {
                                    "SZOBA_FK": "94",
                                    "FOGLALAS_PK": "1312",
                                    "aktualis_idotartam": "3",
                                    "elozoleg_idotartam": "2"
                                },
                                {
                                    "SZOBA_FK": "94",
                                    "FOGLALAS_PK": "1368",
                                    "aktualis_idotartam": "1",
                                    "elozoleg_idotartam": "3"
                                },
                                {
                                    "SZOBA_FK": "94",
                                    "FOGLALAS_PK": "1518",
                                    "aktualis_idotartam": "2",
                                    "elozoleg_idotartam": "1"
                                },
                                {
                                    "SZOBA_FK": "94",
                                    "FOGLALAS_PK": "1564",
                                    "aktualis_idotartam": "7",
                                    "elozoleg_idotartam": "2"
                                },
                                {
                                    "SZOBA_FK": "95",
                                    "FOGLALAS_PK": "656",
                                    "aktualis_idotartam": "7",
                                    "elozoleg_idotartam": "0"
                                },
                                {
                                    "SZOBA_FK": "95",
                                    "FOGLALAS_PK": "1048",
                                    "aktualis_idotartam": "3",
                                    "elozoleg_idotartam": "7"
                                },
                                {
                                    "SZOBA_FK": "95",
                                    "FOGLALAS_PK": "1097",
                                    "aktualis_idotartam": "4",
                                    "elozoleg_idotartam": "3"
                                },
                                {
                                    "SZOBA_FK": "95",
                                    "FOGLALAS_PK": "1543",
                                    "aktualis_idotartam": "7",
                                    "elozoleg_idotartam": "4"
                                },
                                {
                                    "SZOBA_FK": "96",
                                    "FOGLALAS_PK": "607",
                                    "aktualis_idotartam": "4",
                                    "elozoleg_idotartam": "0"
                                },
                                {
                                    "SZOBA_FK": "96",
                                    "FOGLALAS_PK": "623",
                                    "aktualis_idotartam": "7",
                                    "elozoleg_idotartam": "4"
                                },
                                {
                                    "SZOBA_FK": "96",
                                    "FOGLALAS_PK": "671",
                                    "aktualis_idotartam": "4",
                                    "elozoleg_idotartam": "7"
                                },
                                {
                                    "SZOBA_FK": "96",
                                    "FOGLALAS_PK": "780",
                                    "aktualis_idotartam": "1",
                                    "elozoleg_idotartam": "4"
                                },
                                {
                                    "SZOBA_FK": "96",
                                    "FOGLALAS_PK": "1378",
                                    "aktualis_idotartam": "3",
                                    "elozoleg_idotartam": "1"
                                },
                                {
                                    "SZOBA_FK": "96",
                                    "FOGLALAS_PK": "1438",
                                    "aktualis_idotartam": "2",
                                    "elozoleg_idotartam": "3"
                                },
                                {
                                    "SZOBA_FK": "96",
                                    "FOGLALAS_PK": "1569",
                                    "aktualis_idotartam": "7",
                                    "elozoleg_idotartam": "2"
                                },
                                {
                                    "SZOBA_FK": "97",
                                    "FOGLALAS_PK": "635",
                                    "aktualis_idotartam": "3",
                                    "elozoleg_idotartam": "0"
                                },
                                {
                                    "SZOBA_FK": "97",
                                    "FOGLALAS_PK": "718",
                                    "aktualis_idotartam": "7",
                                    "elozoleg_idotartam": "3"
                                },
                                {
                                    "SZOBA_FK": "97",
                                    "FOGLALAS_PK": "726",
                                    "aktualis_idotartam": "4",
                                    "elozoleg_idotartam": "7"
                                },
                                {
                                    "SZOBA_FK": "97",
                                    "FOGLALAS_PK": "836",
                                    "aktualis_idotartam": "2",
                                    "elozoleg_idotartam": "4"
                                },
                                {
                                    "SZOBA_FK": "97",
                                    "FOGLALAS_PK": "1395",
                                    "aktualis_idotartam": "1",
                                    "elozoleg_idotartam": "2"
                                },
                                {
                                    "SZOBA_FK": "97",
                                    "FOGLALAS_PK": "1417",
                                    "aktualis_idotartam": "7",
                                    "elozoleg_idotartam": "1"
                                },
                                {
                                    "SZOBA_FK": "97",
                                    "FOGLALAS_PK": "1528",
                                    "aktualis_idotartam": "2",
                                    "elozoleg_idotartam": "7"
                                },
                                {
                                    "SZOBA_FK": "98",
                                    "FOGLALAS_PK": "631",
                                    "aktualis_idotartam": "6",
                                    "elozoleg_idotartam": "0"
                                },
                                {
                                    "SZOBA_FK": "98",
                                    "FOGLALAS_PK": "884",
                                    "aktualis_idotartam": "5",
                                    "elozoleg_idotartam": "6"
                                },
                                {
                                    "SZOBA_FK": "98",
                                    "FOGLALAS_PK": "1050",
                                    "aktualis_idotartam": "6",
                                    "elozoleg_idotartam": "5"
                                },
                                {
                                    "SZOBA_FK": "98",
                                    "FOGLALAS_PK": "1402",
                                    "aktualis_idotartam": "2",
                                    "elozoleg_idotartam": "6"
                                },
                                {
                                    "SZOBA_FK": "99",
                                    "FOGLALAS_PK": "632",
                                    "aktualis_idotartam": "1",
                                    "elozoleg_idotartam": "0"
                                },
                                {
                                    "SZOBA_FK": "99",
                                    "FOGLALAS_PK": "691",
                                    "aktualis_idotartam": "5",
                                    "elozoleg_idotartam": "1"
                                },
                                {
                                    "SZOBA_FK": "99",
                                    "FOGLALAS_PK": "1072",
                                    "aktualis_idotartam": "1",
                                    "elozoleg_idotartam": "5"
                                },
                                {
                                    "SZOBA_FK": "99",
                                    "FOGLALAS_PK": "1408",
                                    "aktualis_idotartam": "1",
                                    "elozoleg_idotartam": "1"
                                },
                                {
                                    "SZOBA_FK": "99",
                                    "FOGLALAS_PK": "1486",
                                    "aktualis_idotartam": "5",
                                    "elozoleg_idotartam": "1"
                                },
                                {
                                    "SZOBA_FK": "100",
                                    "FOGLALAS_PK": "597",
                                    "aktualis_idotartam": "1",
                                    "elozoleg_idotartam": "0"
                                },
                                {
                                    "SZOBA_FK": "100",
                                    "FOGLALAS_PK": "637",
                                    "aktualis_idotartam": "5",
                                    "elozoleg_idotartam": "1"
                                },
                                {
                                    "SZOBA_FK": "100",
                                    "FOGLALAS_PK": "1315",
                                    "aktualis_idotartam": "5",
                                    "elozoleg_idotartam": "5"
                                },
                                {
                                    "SZOBA_FK": "100",
                                    "FOGLALAS_PK": "1482",
                                    "aktualis_idotartam": "7",
                                    "elozoleg_idotartam": "5"
                                },
                                {
                                    "SZOBA_FK": "101",
                                    "FOGLALAS_PK": "715",
                                    "aktualis_idotartam": "3",
                                    "elozoleg_idotartam": "0"
                                },
                                {
                                    "SZOBA_FK": "101",
                                    "FOGLALAS_PK": "1332",
                                    "aktualis_idotartam": "6",
                                    "elozoleg_idotartam": "3"
                                },
                                {
                                    "SZOBA_FK": "101",
                                    "FOGLALAS_PK": "1516",
                                    "aktualis_idotartam": "4",
                                    "elozoleg_idotartam": "6"
                                },
                                {
                                    "SZOBA_FK": "102",
                                    "FOGLALAS_PK": "689",
                                    "aktualis_idotartam": "5",
                                    "elozoleg_idotartam": "0"
                                },
                                {
                                    "SZOBA_FK": "102",
                                    "FOGLALAS_PK": "1343",
                                    "aktualis_idotartam": "2",
                                    "elozoleg_idotartam": "5"
                                },
                                {
                                    "SZOBA_FK": "103",
                                    "FOGLALAS_PK": "972",
                                    "aktualis_idotartam": "2",
                                    "elozoleg_idotartam": "0"
                                },
                                {
                                    "SZOBA_FK": "103",
                                    "FOGLALAS_PK": "992",
                                    "aktualis_idotartam": "7",
                                    "elozoleg_idotartam": "2"
                                },
                                {
                                    "SZOBA_FK": "103",
                                    "FOGLALAS_PK": "1398",
                                    "aktualis_idotartam": "1",
                                    "elozoleg_idotartam": "7"
                                },
                                {
                                    "SZOBA_FK": "103",
                                    "FOGLALAS_PK": "1485",
                                    "aktualis_idotartam": "4",
                                    "elozoleg_idotartam": "1"
                                },
                                {
                                    "SZOBA_FK": "104",
                                    "FOGLALAS_PK": "837",
                                    "aktualis_idotartam": "4",
                                    "elozoleg_idotartam": "0"
                                },
                                {
                                    "SZOBA_FK": "104",
                                    "FOGLALAS_PK": "1180",
                                    "aktualis_idotartam": "1",
                                    "elozoleg_idotartam": "4"
                                },
                                {
                                    "SZOBA_FK": "104",
                                    "FOGLALAS_PK": "1522",
                                    "aktualis_idotartam": "2",
                                    "elozoleg_idotartam": "1"
                                },
                                {
                                    "SZOBA_FK": "104",
                                    "FOGLALAS_PK": "1532",
                                    "aktualis_idotartam": "3",
                                    "elozoleg_idotartam": "2"
                                },
                                {
                                    "SZOBA_FK": "105",
                                    "FOGLALAS_PK": "618",
                                    "aktualis_idotartam": "1",
                                    "elozoleg_idotartam": "0"
                                },
                                {
                                    "SZOBA_FK": "105",
                                    "FOGLALAS_PK": "1525",
                                    "aktualis_idotartam": "5",
                                    "elozoleg_idotartam": "1"
                                },
                                {
                                    "SZOBA_FK": "106",
                                    "FOGLALAS_PK": "610",
                                    "aktualis_idotartam": "3",
                                    "elozoleg_idotartam": "0"
                                },
                                {
                                    "SZOBA_FK": "106",
                                    "FOGLALAS_PK": "708",
                                    "aktualis_idotartam": "7",
                                    "elozoleg_idotartam": "3"
                                },
                                {
                                    "SZOBA_FK": "106",
                                    "FOGLALAS_PK": "1228",
                                    "aktualis_idotartam": "7",
                                    "elozoleg_idotartam": "7"
                                },
                                {
                                    "SZOBA_FK": "106",
                                    "FOGLALAS_PK": "1271",
                                    "aktualis_idotartam": "5",
                                    "elozoleg_idotartam": "7"
                                },
                                {
                                    "SZOBA_FK": "106",
                                    "FOGLALAS_PK": "1372",
                                    "aktualis_idotartam": "7",
                                    "elozoleg_idotartam": "5"
                                },
                                {
                                    "SZOBA_FK": "106",
                                    "FOGLALAS_PK": "1510",
                                    "aktualis_idotartam": "6",
                                    "elozoleg_idotartam": "7"
                                },
                                {
                                    "SZOBA_FK": "107",
                                    "FOGLALAS_PK": "586",
                                    "aktualis_idotartam": "6",
                                    "elozoleg_idotartam": "0"
                                },
                                {
                                    "SZOBA_FK": "107",
                                    "FOGLALAS_PK": "1250",
                                    "aktualis_idotartam": "4",
                                    "elozoleg_idotartam": "6"
                                },
                                {
                                    "SZOBA_FK": "107",
                                    "FOGLALAS_PK": "1354",
                                    "aktualis_idotartam": "1",
                                    "elozoleg_idotartam": "4"
                                },
                                {
                                    "SZOBA_FK": "107",
                                    "FOGLALAS_PK": "1452",
                                    "aktualis_idotartam": "6",
                                    "elozoleg_idotartam": "1"
                                },
                                {
                                    "SZOBA_FK": "107",
                                    "FOGLALAS_PK": "1494",
                                    "aktualis_idotartam": "2",
                                    "elozoleg_idotartam": "6"
                                },
                                {
                                    "SZOBA_FK": "108",
                                    "FOGLALAS_PK": "1102",
                                    "aktualis_idotartam": "1",
                                    "elozoleg_idotartam": "0"
                                },
                                {
                                    "SZOBA_FK": "108",
                                    "FOGLALAS_PK": "1392",
                                    "aktualis_idotartam": "6",
                                    "elozoleg_idotartam": "1"
                                },
                                {
                                    "SZOBA_FK": "109",
                                    "FOGLALAS_PK": "614",
                                    "aktualis_idotartam": "4",
                                    "elozoleg_idotartam": "0"
                                },
                                {
                                    "SZOBA_FK": "109",
                                    "FOGLALAS_PK": "621",
                                    "aktualis_idotartam": "7",
                                    "elozoleg_idotartam": "4"
                                },
                                {
                                    "SZOBA_FK": "109",
                                    "FOGLALAS_PK": "654",
                                    "aktualis_idotartam": "5",
                                    "elozoleg_idotartam": "7"
                                },
                                {
                                    "SZOBA_FK": "109",
                                    "FOGLALAS_PK": "810",
                                    "aktualis_idotartam": "2",
                                    "elozoleg_idotartam": "5"
                                },
                                {
                                    "SZOBA_FK": "109",
                                    "FOGLALAS_PK": "1083",
                                    "aktualis_idotartam": "1",
                                    "elozoleg_idotartam": "2"
                                },
                                {
                                    "SZOBA_FK": "109",
                                    "FOGLALAS_PK": "1298",
                                    "aktualis_idotartam": "4",
                                    "elozoleg_idotartam": "1"
                                },
                                {
                                    "SZOBA_FK": "109",
                                    "FOGLALAS_PK": "1560",
                                    "aktualis_idotartam": "1",
                                    "elozoleg_idotartam": "4"
                                },
                                {
                                    "SZOBA_FK": "110",
                                    "FOGLALAS_PK": "685",
                                    "aktualis_idotartam": "1",
                                    "elozoleg_idotartam": "0"
                                },
                                {
                                    "SZOBA_FK": "110",
                                    "FOGLALAS_PK": "931",
                                    "aktualis_idotartam": "5",
                                    "elozoleg_idotartam": "1"
                                },
                                {
                                    "SZOBA_FK": "110",
                                    "FOGLALAS_PK": "964",
                                    "aktualis_idotartam": "6",
                                    "elozoleg_idotartam": "5"
                                },
                                {
                                    "SZOBA_FK": "110",
                                    "FOGLALAS_PK": "1041",
                                    "aktualis_idotartam": "3",
                                    "elozoleg_idotartam": "6"
                                },
                                {
                                    "SZOBA_FK": "110",
                                    "FOGLALAS_PK": "1109",
                                    "aktualis_idotartam": "5",
                                    "elozoleg_idotartam": "3"
                                },
                                {
                                    "SZOBA_FK": "110",
                                    "FOGLALAS_PK": "1162",
                                    "aktualis_idotartam": "2",
                                    "elozoleg_idotartam": "5"
                                },
                                {
                                    "SZOBA_FK": "110",
                                    "FOGLALAS_PK": "1424",
                                    "aktualis_idotartam": "1",
                                    "elozoleg_idotartam": "2"
                                },
                                {
                                    "SZOBA_FK": "110",
                                    "FOGLALAS_PK": "1489",
                                    "aktualis_idotartam": "6",
                                    "elozoleg_idotartam": "1"
                                },
                                {
                                    "SZOBA_FK": "111",
                                    "FOGLALAS_PK": "605",
                                    "aktualis_idotartam": "7",
                                    "elozoleg_idotartam": "0"
                                },
                                {
                                    "SZOBA_FK": "111",
                                    "FOGLALAS_PK": "786",
                                    "aktualis_idotartam": "4",
                                    "elozoleg_idotartam": "7"
                                },
                                {
                                    "SZOBA_FK": "111",
                                    "FOGLALAS_PK": "959",
                                    "aktualis_idotartam": "7",
                                    "elozoleg_idotartam": "4"
                                },
                                {
                                    "SZOBA_FK": "111",
                                    "FOGLALAS_PK": "1296",
                                    "aktualis_idotartam": "3",
                                    "elozoleg_idotartam": "7"
                                },
                                {
                                    "SZOBA_FK": "111",
                                    "FOGLALAS_PK": "1353",
                                    "aktualis_idotartam": "5",
                                    "elozoleg_idotartam": "3"
                                },
                                {
                                    "SZOBA_FK": "112",
                                    "FOGLALAS_PK": "776",
                                    "aktualis_idotartam": "4",
                                    "elozoleg_idotartam": "0"
                                },
                                {
                                    "SZOBA_FK": "112",
                                    "FOGLALAS_PK": "801",
                                    "aktualis_idotartam": "5",
                                    "elozoleg_idotartam": "4"
                                },
                                {
                                    "SZOBA_FK": "112",
                                    "FOGLALAS_PK": "921",
                                    "aktualis_idotartam": "1",
                                    "elozoleg_idotartam": "5"
                                },
                                {
                                    "SZOBA_FK": "112",
                                    "FOGLALAS_PK": "1124",
                                    "aktualis_idotartam": "6",
                                    "elozoleg_idotartam": "1"
                                },
                                {
                                    "SZOBA_FK": "112",
                                    "FOGLALAS_PK": "1530",
                                    "aktualis_idotartam": "6",
                                    "elozoleg_idotartam": "6"
                                },
                                {
                                    "SZOBA_FK": "113",
                                    "FOGLALAS_PK": "1029",
                                    "aktualis_idotartam": "5",
                                    "elozoleg_idotartam": "0"
                                },
                                {
                                    "SZOBA_FK": "113",
                                    "FOGLALAS_PK": "1085",
                                    "aktualis_idotartam": "4",
                                    "elozoleg_idotartam": "5"
                                },
                                {
                                    "SZOBA_FK": "113",
                                    "FOGLALAS_PK": "1263",
                                    "aktualis_idotartam": "1",
                                    "elozoleg_idotartam": "4"
                                },
                                {
                                    "SZOBA_FK": "113",
                                    "FOGLALAS_PK": "1495",
                                    "aktualis_idotartam": "7",
                                    "elozoleg_idotartam": "1"
                                },
                                {
                                    "SZOBA_FK": "113",
                                    "FOGLALAS_PK": "1499",
                                    "aktualis_idotartam": "2",
                                    "elozoleg_idotartam": "7"
                                },
                                {
                                    "SZOBA_FK": "114",
                                    "FOGLALAS_PK": "737",
                                    "aktualis_idotartam": "2",
                                    "elozoleg_idotartam": "0"
                                },
                                {
                                    "SZOBA_FK": "114",
                                    "FOGLALAS_PK": "827",
                                    "aktualis_idotartam": "7",
                                    "elozoleg_idotartam": "2"
                                },
                                {
                                    "SZOBA_FK": "114",
                                    "FOGLALAS_PK": "966",
                                    "aktualis_idotartam": "6",
                                    "elozoleg_idotartam": "7"
                                },
                                {
                                    "SZOBA_FK": "114",
                                    "FOGLALAS_PK": "1540",
                                    "aktualis_idotartam": "3",
                                    "elozoleg_idotartam": "6"
                                },
                                {
                                    "SZOBA_FK": "115",
                                    "FOGLALAS_PK": "596",
                                    "aktualis_idotartam": "7",
                                    "elozoleg_idotartam": "0"
                                },
                                {
                                    "SZOBA_FK": "115",
                                    "FOGLALAS_PK": "943",
                                    "aktualis_idotartam": "7",
                                    "elozoleg_idotartam": "7"
                                },
                                {
                                    "SZOBA_FK": "115",
                                    "FOGLALAS_PK": "1121",
                                    "aktualis_idotartam": "7",
                                    "elozoleg_idotartam": "7"
                                },
                                {
                                    "SZOBA_FK": "115",
                                    "FOGLALAS_PK": "1154",
                                    "aktualis_idotartam": "4",
                                    "elozoleg_idotartam": "7"
                                },
                                {
                                    "SZOBA_FK": "115",
                                    "FOGLALAS_PK": "1352",
                                    "aktualis_idotartam": "3",
                                    "elozoleg_idotartam": "4"
                                },
                                {
                                    "SZOBA_FK": "115",
                                    "FOGLALAS_PK": "1554",
                                    "aktualis_idotartam": "3",
                                    "elozoleg_idotartam": "3"
                                },
                                {
                                    "SZOBA_FK": "115",
                                    "FOGLALAS_PK": "1566",
                                    "aktualis_idotartam": "1",
                                    "elozoleg_idotartam": "3"
                                },
                                {
                                    "SZOBA_FK": "116",
                                    "FOGLALAS_PK": "1455",
                                    "aktualis_idotartam": "2",
                                    "elozoleg_idotartam": "0"
                                },
                                {
                                    "SZOBA_FK": "116",
                                    "FOGLALAS_PK": "1501",
                                    "aktualis_idotartam": "4",
                                    "elozoleg_idotartam": "2"
                                },
                                {
                                    "SZOBA_FK": "117",
                                    "FOGLALAS_PK": "612",
                                    "aktualis_idotartam": "2",
                                    "elozoleg_idotartam": "0"
                                },
                                {
                                    "SZOBA_FK": "117",
                                    "FOGLALAS_PK": "617",
                                    "aktualis_idotartam": "3",
                                    "elozoleg_idotartam": "2"
                                },
                                {
                                    "SZOBA_FK": "117",
                                    "FOGLALAS_PK": "953",
                                    "aktualis_idotartam": "5",
                                    "elozoleg_idotartam": "3"
                                },
                                {
                                    "SZOBA_FK": "117",
                                    "FOGLALAS_PK": "962",
                                    "aktualis_idotartam": "4",
                                    "elozoleg_idotartam": "5"
                                },
                                {
                                    "SZOBA_FK": "117",
                                    "FOGLALAS_PK": "1002",
                                    "aktualis_idotartam": "1",
                                    "elozoleg_idotartam": "4"
                                },
                                {
                                    "SZOBA_FK": "117",
                                    "FOGLALAS_PK": "1192",
                                    "aktualis_idotartam": "2",
                                    "elozoleg_idotartam": "1"
                                },
                                {
                                    "SZOBA_FK": "117",
                                    "FOGLALAS_PK": "1247",
                                    "aktualis_idotartam": "3",
                                    "elozoleg_idotartam": "2"
                                },
                                {
                                    "SZOBA_FK": "117",
                                    "FOGLALAS_PK": "1468",
                                    "aktualis_idotartam": "7",
                                    "elozoleg_idotartam": "3"
                                },
                                {
                                    "SZOBA_FK": "118",
                                    "FOGLALAS_PK": "716",
                                    "aktualis_idotartam": "1",
                                    "elozoleg_idotartam": "0"
                                },
                                {
                                    "SZOBA_FK": "118",
                                    "FOGLALAS_PK": "864",
                                    "aktualis_idotartam": "6",
                                    "elozoleg_idotartam": "1"
                                },
                                {
                                    "SZOBA_FK": "118",
                                    "FOGLALAS_PK": "994",
                                    "aktualis_idotartam": "7",
                                    "elozoleg_idotartam": "6"
                                },
                                {
                                    "SZOBA_FK": "118",
                                    "FOGLALAS_PK": "996",
                                    "aktualis_idotartam": "3",
                                    "elozoleg_idotartam": "7"
                                },
                                {
                                    "SZOBA_FK": "118",
                                    "FOGLALAS_PK": "1374",
                                    "aktualis_idotartam": "5",
                                    "elozoleg_idotartam": "3"
                                },
                                {
                                    "SZOBA_FK": "118",
                                    "FOGLALAS_PK": "1472",
                                    "aktualis_idotartam": "6",
                                    "elozoleg_idotartam": "5"
                                },
                                {
                                    "SZOBA_FK": "118",
                                    "FOGLALAS_PK": "1481",
                                    "aktualis_idotartam": "3",
                                    "elozoleg_idotartam": "6"
                                },
                                {
                                    "SZOBA_FK": "119",
                                    "FOGLALAS_PK": "706",
                                    "aktualis_idotartam": "2",
                                    "elozoleg_idotartam": "0"
                                },
                                {
                                    "SZOBA_FK": "119",
                                    "FOGLALAS_PK": "722",
                                    "aktualis_idotartam": "1",
                                    "elozoleg_idotartam": "2"
                                },
                                {
                                    "SZOBA_FK": "119",
                                    "FOGLALAS_PK": "1026",
                                    "aktualis_idotartam": "3",
                                    "elozoleg_idotartam": "1"
                                },
                                {
                                    "SZOBA_FK": "119",
                                    "FOGLALAS_PK": "1413",
                                    "aktualis_idotartam": "3",
                                    "elozoleg_idotartam": "3"
                                },
                                {
                                    "SZOBA_FK": "119",
                                    "FOGLALAS_PK": "1488",
                                    "aktualis_idotartam": "3",
                                    "elozoleg_idotartam": "3"
                                },
                                {
                                    "SZOBA_FK": "120",
                                    "FOGLALAS_PK": "762",
                                    "aktualis_idotartam": "3",
                                    "elozoleg_idotartam": "0"
                                },
                                {
                                    "SZOBA_FK": "120",
                                    "FOGLALAS_PK": "998",
                                    "aktualis_idotartam": "3",
                                    "elozoleg_idotartam": "3"
                                },
                                {
                                    "SZOBA_FK": "120",
                                    "FOGLALAS_PK": "1089",
                                    "aktualis_idotartam": "6",
                                    "elozoleg_idotartam": "3"
                                },
                                {
                                    "SZOBA_FK": "120",
                                    "FOGLALAS_PK": "1339",
                                    "aktualis_idotartam": "6",
                                    "elozoleg_idotartam": "6"
                                },
                                {
                                    "SZOBA_FK": "120",
                                    "FOGLALAS_PK": "1483",
                                    "aktualis_idotartam": "1",
                                    "elozoleg_idotartam": "6"
                                },
                                {
                                    "SZOBA_FK": "120",
                                    "FOGLALAS_PK": "1493",
                                    "aktualis_idotartam": "7",
                                    "elozoleg_idotartam": "1"
                                },
                                {
                                    "SZOBA_FK": "121",
                                    "FOGLALAS_PK": "735",
                                    "aktualis_idotartam": "6",
                                    "elozoleg_idotartam": "0"
                                },
                                {
                                    "SZOBA_FK": "121",
                                    "FOGLALAS_PK": "739",
                                    "aktualis_idotartam": "6",
                                    "elozoleg_idotartam": "6"
                                },
                                {
                                    "SZOBA_FK": "121",
                                    "FOGLALAS_PK": "858",
                                    "aktualis_idotartam": "5",
                                    "elozoleg_idotartam": "6"
                                },
                                {
                                    "SZOBA_FK": "121",
                                    "FOGLALAS_PK": "1049",
                                    "aktualis_idotartam": "3",
                                    "elozoleg_idotartam": "5"
                                },
                                {
                                    "SZOBA_FK": "121",
                                    "FOGLALAS_PK": "1128",
                                    "aktualis_idotartam": "4",
                                    "elozoleg_idotartam": "3"
                                },
                                {
                                    "SZOBA_FK": "121",
                                    "FOGLALAS_PK": "1215",
                                    "aktualis_idotartam": "4",
                                    "elozoleg_idotartam": "4"
                                },
                                {
                                    "SZOBA_FK": "121",
                                    "FOGLALAS_PK": "1373",
                                    "aktualis_idotartam": "5",
                                    "elozoleg_idotartam": "4"
                                },
                                {
                                    "SZOBA_FK": "121",
                                    "FOGLALAS_PK": "1393",
                                    "aktualis_idotartam": "6",
                                    "elozoleg_idotartam": "5"
                                },
                                {
                                    "SZOBA_FK": "122",
                                    "FOGLALAS_PK": "1007",
                                    "aktualis_idotartam": "2",
                                    "elozoleg_idotartam": "0"
                                },
                                {
                                    "SZOBA_FK": "122",
                                    "FOGLALAS_PK": "1036",
                                    "aktualis_idotartam": "2",
                                    "elozoleg_idotartam": "2"
                                },
                                {
                                    "SZOBA_FK": "122",
                                    "FOGLALAS_PK": "1062",
                                    "aktualis_idotartam": "3",
                                    "elozoleg_idotartam": "2"
                                },
                                {
                                    "SZOBA_FK": "122",
                                    "FOGLALAS_PK": "1166",
                                    "aktualis_idotartam": "4",
                                    "elozoleg_idotartam": "3"
                                },
                                {
                                    "SZOBA_FK": "122",
                                    "FOGLALAS_PK": "1209",
                                    "aktualis_idotartam": "1",
                                    "elozoleg_idotartam": "4"
                                },
                                {
                                    "SZOBA_FK": "122",
                                    "FOGLALAS_PK": "1245",
                                    "aktualis_idotartam": "2",
                                    "elozoleg_idotartam": "1"
                                },
                                {
                                    "SZOBA_FK": "122",
                                    "FOGLALAS_PK": "1337",
                                    "aktualis_idotartam": "2",
                                    "elozoleg_idotartam": "2"
                                },
                                {
                                    "SZOBA_FK": "122",
                                    "FOGLALAS_PK": "1385",
                                    "aktualis_idotartam": "5",
                                    "elozoleg_idotartam": "2"
                                },
                                {
                                    "SZOBA_FK": "122",
                                    "FOGLALAS_PK": "1440",
                                    "aktualis_idotartam": "3",
                                    "elozoleg_idotartam": "5"
                                },
                                {
                                    "SZOBA_FK": "123",
                                    "FOGLALAS_PK": "587",
                                    "aktualis_idotartam": "7",
                                    "elozoleg_idotartam": "0"
                                },
                                {
                                    "SZOBA_FK": "123",
                                    "FOGLALAS_PK": "923",
                                    "aktualis_idotartam": "4",
                                    "elozoleg_idotartam": "7"
                                },
                                {
                                    "SZOBA_FK": "123",
                                    "FOGLALAS_PK": "967",
                                    "aktualis_idotartam": "5",
                                    "elozoleg_idotartam": "4"
                                },
                                {
                                    "SZOBA_FK": "123",
                                    "FOGLALAS_PK": "1223",
                                    "aktualis_idotartam": "1",
                                    "elozoleg_idotartam": "5"
                                },
                                {
                                    "SZOBA_FK": "123",
                                    "FOGLALAS_PK": "1282",
                                    "aktualis_idotartam": "6",
                                    "elozoleg_idotartam": "1"
                                },
                                {
                                    "SZOBA_FK": "124",
                                    "FOGLALAS_PK": "861",
                                    "aktualis_idotartam": "1",
                                    "elozoleg_idotartam": "0"
                                },
                                {
                                    "SZOBA_FK": "124",
                                    "FOGLALAS_PK": "1210",
                                    "aktualis_idotartam": "4",
                                    "elozoleg_idotartam": "1"
                                },
                                {
                                    "SZOBA_FK": "124",
                                    "FOGLALAS_PK": "1330",
                                    "aktualis_idotartam": "7",
                                    "elozoleg_idotartam": "4"
                                },
                                {
                                    "SZOBA_FK": "124",
                                    "FOGLALAS_PK": "1403",
                                    "aktualis_idotartam": "6",
                                    "elozoleg_idotartam": "7"
                                },
                                {
                                    "SZOBA_FK": "124",
                                    "FOGLALAS_PK": "1419",
                                    "aktualis_idotartam": "3",
                                    "elozoleg_idotartam": "6"
                                },
                                {
                                    "SZOBA_FK": "124",
                                    "FOGLALAS_PK": "1531",
                                    "aktualis_idotartam": "6",
                                    "elozoleg_idotartam": "3"
                                },
                                {
                                    "SZOBA_FK": "125",
                                    "FOGLALAS_PK": "576",
                                    "aktualis_idotartam": "1",
                                    "elozoleg_idotartam": "0"
                                },
                                {
                                    "SZOBA_FK": "126",
                                    "FOGLALAS_PK": "754",
                                    "aktualis_idotartam": "4",
                                    "elozoleg_idotartam": "0"
                                },
                                {
                                    "SZOBA_FK": "126",
                                    "FOGLALAS_PK": "806",
                                    "aktualis_idotartam": "6",
                                    "elozoleg_idotartam": "4"
                                },
                                {
                                    "SZOBA_FK": "126",
                                    "FOGLALAS_PK": "1134",
                                    "aktualis_idotartam": "1",
                                    "elozoleg_idotartam": "6"
                                },
                                {
                                    "SZOBA_FK": "126",
                                    "FOGLALAS_PK": "1364",
                                    "aktualis_idotartam": "6",
                                    "elozoleg_idotartam": "1"
                                },
                                {
                                    "SZOBA_FK": "126",
                                    "FOGLALAS_PK": "1428",
                                    "aktualis_idotartam": "7",
                                    "elozoleg_idotartam": "6"
                                },
                                {
                                    "SZOBA_FK": "126",
                                    "FOGLALAS_PK": "1500",
                                    "aktualis_idotartam": "4",
                                    "elozoleg_idotartam": "7"
                                },
                                {
                                    "SZOBA_FK": "127",
                                    "FOGLALAS_PK": "643",
                                    "aktualis_idotartam": "2",
                                    "elozoleg_idotartam": "0"
                                },
                                {
                                    "SZOBA_FK": "127",
                                    "FOGLALAS_PK": "853",
                                    "aktualis_idotartam": "5",
                                    "elozoleg_idotartam": "2"
                                },
                                {
                                    "SZOBA_FK": "127",
                                    "FOGLALAS_PK": "879",
                                    "aktualis_idotartam": "2",
                                    "elozoleg_idotartam": "5"
                                },
                                {
                                    "SZOBA_FK": "127",
                                    "FOGLALAS_PK": "1034",
                                    "aktualis_idotartam": "6",
                                    "elozoleg_idotartam": "2"
                                },
                                {
                                    "SZOBA_FK": "127",
                                    "FOGLALAS_PK": "1226",
                                    "aktualis_idotartam": "5",
                                    "elozoleg_idotartam": "6"
                                },
                                {
                                    "SZOBA_FK": "127",
                                    "FOGLALAS_PK": "1286",
                                    "aktualis_idotartam": "1",
                                    "elozoleg_idotartam": "5"
                                },
                                {
                                    "SZOBA_FK": "127",
                                    "FOGLALAS_PK": "1579",
                                    "aktualis_idotartam": "5",
                                    "elozoleg_idotartam": "1"
                                },
                                {
                                    "SZOBA_FK": "128",
                                    "FOGLALAS_PK": "717",
                                    "aktualis_idotartam": "2",
                                    "elozoleg_idotartam": "0"
                                },
                                {
                                    "SZOBA_FK": "128",
                                    "FOGLALAS_PK": "815",
                                    "aktualis_idotartam": "1",
                                    "elozoleg_idotartam": "2"
                                },
                                {
                                    "SZOBA_FK": "128",
                                    "FOGLALAS_PK": "1290",
                                    "aktualis_idotartam": "1",
                                    "elozoleg_idotartam": "1"
                                },
                                {
                                    "SZOBA_FK": "128",
                                    "FOGLALAS_PK": "1574",
                                    "aktualis_idotartam": "1",
                                    "elozoleg_idotartam": "1"
                                },
                                {
                                    "SZOBA_FK": "128",
                                    "FOGLALAS_PK": "1583",
                                    "aktualis_idotartam": "4",
                                    "elozoleg_idotartam": "1"
                                },
                                {
                                    "SZOBA_FK": "129",
                                    "FOGLALAS_PK": "723",
                                    "aktualis_idotartam": "7",
                                    "elozoleg_idotartam": "0"
                                },
                                {
                                    "SZOBA_FK": "129",
                                    "FOGLALAS_PK": "1360",
                                    "aktualis_idotartam": "6",
                                    "elozoleg_idotartam": "7"
                                },
                                {
                                    "SZOBA_FK": "129",
                                    "FOGLALAS_PK": "1445",
                                    "aktualis_idotartam": "7",
                                    "elozoleg_idotartam": "6"
                                },
                                {
                                    "SZOBA_FK": "129",
                                    "FOGLALAS_PK": "1509",
                                    "aktualis_idotartam": "6",
                                    "elozoleg_idotartam": "7"
                                },
                                {
                                    "SZOBA_FK": "130",
                                    "FOGLALAS_PK": "580",
                                    "aktualis_idotartam": "3",
                                    "elozoleg_idotartam": "0"
                                },
                                {
                                    "SZOBA_FK": "130",
                                    "FOGLALAS_PK": "613",
                                    "aktualis_idotartam": "3",
                                    "elozoleg_idotartam": "3"
                                },
                                {
                                    "SZOBA_FK": "130",
                                    "FOGLALAS_PK": "779",
                                    "aktualis_idotartam": "6",
                                    "elozoleg_idotartam": "3"
                                },
                                {
                                    "SZOBA_FK": "130",
                                    "FOGLALAS_PK": "910",
                                    "aktualis_idotartam": "2",
                                    "elozoleg_idotartam": "6"
                                },
                                {
                                    "SZOBA_FK": "130",
                                    "FOGLALAS_PK": "1040",
                                    "aktualis_idotartam": "1",
                                    "elozoleg_idotartam": "2"
                                },
                                {
                                    "SZOBA_FK": "130",
                                    "FOGLALAS_PK": "1475",
                                    "aktualis_idotartam": "7",
                                    "elozoleg_idotartam": "1"
                                },
                                {
                                    "SZOBA_FK": "131",
                                    "FOGLALAS_PK": "559",
                                    "aktualis_idotartam": "2",
                                    "elozoleg_idotartam": "0"
                                },
                                {
                                    "SZOBA_FK": "131",
                                    "FOGLALAS_PK": "655",
                                    "aktualis_idotartam": "1",
                                    "elozoleg_idotartam": "2"
                                },
                                {
                                    "SZOBA_FK": "131",
                                    "FOGLALAS_PK": "760",
                                    "aktualis_idotartam": "4",
                                    "elozoleg_idotartam": "1"
                                },
                                {
                                    "SZOBA_FK": "131",
                                    "FOGLALAS_PK": "881",
                                    "aktualis_idotartam": "6",
                                    "elozoleg_idotartam": "4"
                                },
                                {
                                    "SZOBA_FK": "131",
                                    "FOGLALAS_PK": "1474",
                                    "aktualis_idotartam": "5",
                                    "elozoleg_idotartam": "6"
                                },
                                {
                                    "SZOBA_FK": "132",
                                    "FOGLALAS_PK": "619",
                                    "aktualis_idotartam": "7",
                                    "elozoleg_idotartam": "0"
                                },
                                {
                                    "SZOBA_FK": "132",
                                    "FOGLALAS_PK": "999",
                                    "aktualis_idotartam": "6",
                                    "elozoleg_idotartam": "7"
                                },
                                {
                                    "SZOBA_FK": "132",
                                    "FOGLALAS_PK": "1090",
                                    "aktualis_idotartam": "7",
                                    "elozoleg_idotartam": "6"
                                },
                                {
                                    "SZOBA_FK": "132",
                                    "FOGLALAS_PK": "1111",
                                    "aktualis_idotartam": "3",
                                    "elozoleg_idotartam": "7"
                                },
                                {
                                    "SZOBA_FK": "132",
                                    "FOGLALAS_PK": "1301",
                                    "aktualis_idotartam": "2",
                                    "elozoleg_idotartam": "3"
                                },
                                {
                                    "SZOBA_FK": "132",
                                    "FOGLALAS_PK": "1519",
                                    "aktualis_idotartam": "2",
                                    "elozoleg_idotartam": "2"
                                },
                                {
                                    "SZOBA_FK": "133",
                                    "FOGLALAS_PK": "909",
                                    "aktualis_idotartam": "4",
                                    "elozoleg_idotartam": "0"
                                },
                                {
                                    "SZOBA_FK": "133",
                                    "FOGLALAS_PK": "988",
                                    "aktualis_idotartam": "3",
                                    "elozoleg_idotartam": "4"
                                },
                                {
                                    "SZOBA_FK": "133",
                                    "FOGLALAS_PK": "1149",
                                    "aktualis_idotartam": "7",
                                    "elozoleg_idotartam": "3"
                                },
                                {
                                    "SZOBA_FK": "133",
                                    "FOGLALAS_PK": "1306",
                                    "aktualis_idotartam": "3",
                                    "elozoleg_idotartam": "7"
                                },
                                {
                                    "SZOBA_FK": "133",
                                    "FOGLALAS_PK": "1363",
                                    "aktualis_idotartam": "5",
                                    "elozoleg_idotartam": "3"
                                },
                                {
                                    "SZOBA_FK": "133",
                                    "FOGLALAS_PK": "1409",
                                    "aktualis_idotartam": "1",
                                    "elozoleg_idotartam": "5"
                                },
                                {
                                    "SZOBA_FK": "134",
                                    "FOGLALAS_PK": "1004",
                                    "aktualis_idotartam": "5",
                                    "elozoleg_idotartam": "0"
                                },
                                {
                                    "SZOBA_FK": "134",
                                    "FOGLALAS_PK": "1024",
                                    "aktualis_idotartam": "1",
                                    "elozoleg_idotartam": "5"
                                },
                                {
                                    "SZOBA_FK": "134",
                                    "FOGLALAS_PK": "1045",
                                    "aktualis_idotartam": "2",
                                    "elozoleg_idotartam": "1"
                                },
                                {
                                    "SZOBA_FK": "134",
                                    "FOGLALAS_PK": "1178",
                                    "aktualis_idotartam": "7",
                                    "elozoleg_idotartam": "2"
                                },
                                {
                                    "SZOBA_FK": "134",
                                    "FOGLALAS_PK": "1219",
                                    "aktualis_idotartam": "6",
                                    "elozoleg_idotartam": "7"
                                },
                                {
                                    "SZOBA_FK": "134",
                                    "FOGLALAS_PK": "1535",
                                    "aktualis_idotartam": "7",
                                    "elozoleg_idotartam": "6"
                                },
                                {
                                    "SZOBA_FK": "135",
                                    "FOGLALAS_PK": "724",
                                    "aktualis_idotartam": "6",
                                    "elozoleg_idotartam": "0"
                                },
                                {
                                    "SZOBA_FK": "135",
                                    "FOGLALAS_PK": "849",
                                    "aktualis_idotartam": "7",
                                    "elozoleg_idotartam": "6"
                                },
                                {
                                    "SZOBA_FK": "135",
                                    "FOGLALAS_PK": "1289",
                                    "aktualis_idotartam": "3",
                                    "elozoleg_idotartam": "7"
                                },
                                {
                                    "SZOBA_FK": "136",
                                    "FOGLALAS_PK": "584",
                                    "aktualis_idotartam": "2",
                                    "elozoleg_idotartam": "0"
                                },
                                {
                                    "SZOBA_FK": "136",
                                    "FOGLALAS_PK": "661",
                                    "aktualis_idotartam": "5",
                                    "elozoleg_idotartam": "2"
                                },
                                {
                                    "SZOBA_FK": "136",
                                    "FOGLALAS_PK": "1046",
                                    "aktualis_idotartam": "4",
                                    "elozoleg_idotartam": "5"
                                },
                                {
                                    "SZOBA_FK": "137",
                                    "FOGLALAS_PK": "582",
                                    "aktualis_idotartam": "3",
                                    "elozoleg_idotartam": "0"
                                },
                                {
                                    "SZOBA_FK": "137",
                                    "FOGLALAS_PK": "649",
                                    "aktualis_idotartam": "5",
                                    "elozoleg_idotartam": "3"
                                },
                                {
                                    "SZOBA_FK": "137",
                                    "FOGLALAS_PK": "657",
                                    "aktualis_idotartam": "6",
                                    "elozoleg_idotartam": "5"
                                },
                                {
                                    "SZOBA_FK": "137",
                                    "FOGLALAS_PK": "1014",
                                    "aktualis_idotartam": "1",
                                    "elozoleg_idotartam": "6"
                                },
                                {
                                    "SZOBA_FK": "137",
                                    "FOGLALAS_PK": "1201",
                                    "aktualis_idotartam": "6",
                                    "elozoleg_idotartam": "1"
                                },
                                {
                                    "SZOBA_FK": "137",
                                    "FOGLALAS_PK": "1280",
                                    "aktualis_idotartam": "3",
                                    "elozoleg_idotartam": "6"
                                },
                                {
                                    "SZOBA_FK": "138",
                                    "FOGLALAS_PK": "768",
                                    "aktualis_idotartam": "6",
                                    "elozoleg_idotartam": "0"
                                },
                                {
                                    "SZOBA_FK": "138",
                                    "FOGLALAS_PK": "796",
                                    "aktualis_idotartam": "4",
                                    "elozoleg_idotartam": "6"
                                },
                                {
                                    "SZOBA_FK": "138",
                                    "FOGLALAS_PK": "1256",
                                    "aktualis_idotartam": "4",
                                    "elozoleg_idotartam": "4"
                                },
                                {
                                    "SZOBA_FK": "138",
                                    "FOGLALAS_PK": "1283",
                                    "aktualis_idotartam": "2",
                                    "elozoleg_idotartam": "4"
                                },
                                {
                                    "SZOBA_FK": "138",
                                    "FOGLALAS_PK": "1294",
                                    "aktualis_idotartam": "5",
                                    "elozoleg_idotartam": "2"
                                },
                                {
                                    "SZOBA_FK": "138",
                                    "FOGLALAS_PK": "1358",
                                    "aktualis_idotartam": "7",
                                    "elozoleg_idotartam": "5"
                                },
                                {
                                    "SZOBA_FK": "138",
                                    "FOGLALAS_PK": "1370",
                                    "aktualis_idotartam": "5",
                                    "elozoleg_idotartam": "7"
                                },
                                {
                                    "SZOBA_FK": "139",
                                    "FOGLALAS_PK": "579",
                                    "aktualis_idotartam": "2",
                                    "elozoleg_idotartam": "0"
                                },
                                {
                                    "SZOBA_FK": "139",
                                    "FOGLALAS_PK": "745",
                                    "aktualis_idotartam": "1",
                                    "elozoleg_idotartam": "2"
                                },
                                {
                                    "SZOBA_FK": "139",
                                    "FOGLALAS_PK": "751",
                                    "aktualis_idotartam": "4",
                                    "elozoleg_idotartam": "1"
                                },
                                {
                                    "SZOBA_FK": "139",
                                    "FOGLALAS_PK": "1042",
                                    "aktualis_idotartam": "2",
                                    "elozoleg_idotartam": "4"
                                },
                                {
                                    "SZOBA_FK": "139",
                                    "FOGLALAS_PK": "1064",
                                    "aktualis_idotartam": "6",
                                    "elozoleg_idotartam": "2"
                                },
                                {
                                    "SZOBA_FK": "139",
                                    "FOGLALAS_PK": "1433",
                                    "aktualis_idotartam": "6",
                                    "elozoleg_idotartam": "6"
                                },
                                {
                                    "SZOBA_FK": "139",
                                    "FOGLALAS_PK": "1450",
                                    "aktualis_idotartam": "7",
                                    "elozoleg_idotartam": "6"
                                },
                                {
                                    "SZOBA_FK": "140",
                                    "FOGLALAS_PK": "733",
                                    "aktualis_idotartam": "1",
                                    "elozoleg_idotartam": "0"
                                },
                                {
                                    "SZOBA_FK": "140",
                                    "FOGLALAS_PK": "915",
                                    "aktualis_idotartam": "2",
                                    "elozoleg_idotartam": "1"
                                },
                                {
                                    "SZOBA_FK": "140",
                                    "FOGLALAS_PK": "1098",
                                    "aktualis_idotartam": "2",
                                    "elozoleg_idotartam": "2"
                                },
                                {
                                    "SZOBA_FK": "140",
                                    "FOGLALAS_PK": "1156",
                                    "aktualis_idotartam": "3",
                                    "elozoleg_idotartam": "2"
                                },
                                {
                                    "SZOBA_FK": "140",
                                    "FOGLALAS_PK": "1259",
                                    "aktualis_idotartam": "7",
                                    "elozoleg_idotartam": "3"
                                },
                                {
                                    "SZOBA_FK": "140",
                                    "FOGLALAS_PK": "1357",
                                    "aktualis_idotartam": "4",
                                    "elozoleg_idotartam": "7"
                                },
                                {
                                    "SZOBA_FK": "140",
                                    "FOGLALAS_PK": "1361",
                                    "aktualis_idotartam": "3",
                                    "elozoleg_idotartam": "4"
                                },
                                {
                                    "SZOBA_FK": "140",
                                    "FOGLALAS_PK": "1371",
                                    "aktualis_idotartam": "1",
                                    "elozoleg_idotartam": "3"
                                },
                                {
                                    "SZOBA_FK": "141",
                                    "FOGLALAS_PK": "565",
                                    "aktualis_idotartam": "6",
                                    "elozoleg_idotartam": "0"
                                },
                                {
                                    "SZOBA_FK": "141",
                                    "FOGLALAS_PK": "761",
                                    "aktualis_idotartam": "3",
                                    "elozoleg_idotartam": "6"
                                },
                                {
                                    "SZOBA_FK": "141",
                                    "FOGLALAS_PK": "784",
                                    "aktualis_idotartam": "7",
                                    "elozoleg_idotartam": "3"
                                },
                                {
                                    "SZOBA_FK": "141",
                                    "FOGLALAS_PK": "908",
                                    "aktualis_idotartam": "2",
                                    "elozoleg_idotartam": "7"
                                },
                                {
                                    "SZOBA_FK": "141",
                                    "FOGLALAS_PK": "1254",
                                    "aktualis_idotartam": "4",
                                    "elozoleg_idotartam": "2"
                                },
                                {
                                    "SZOBA_FK": "141",
                                    "FOGLALAS_PK": "1401",
                                    "aktualis_idotartam": "6",
                                    "elozoleg_idotartam": "4"
                                },
                                {
                                    "SZOBA_FK": "142",
                                    "FOGLALAS_PK": "1369",
                                    "aktualis_idotartam": "6",
                                    "elozoleg_idotartam": "0"
                                },
                                {
                                    "SZOBA_FK": "142",
                                    "FOGLALAS_PK": "1545",
                                    "aktualis_idotartam": "3",
                                    "elozoleg_idotartam": "6"
                                },
                                {
                                    "SZOBA_FK": "143",
                                    "FOGLALAS_PK": "980",
                                    "aktualis_idotartam": "3",
                                    "elozoleg_idotartam": "0"
                                },
                                {
                                    "SZOBA_FK": "143",
                                    "FOGLALAS_PK": "1155",
                                    "aktualis_idotartam": "7",
                                    "elozoleg_idotartam": "3"
                                },
                                {
                                    "SZOBA_FK": "143",
                                    "FOGLALAS_PK": "1193",
                                    "aktualis_idotartam": "6",
                                    "elozoleg_idotartam": "7"
                                },
                                {
                                    "SZOBA_FK": "143",
                                    "FOGLALAS_PK": "1222",
                                    "aktualis_idotartam": "2",
                                    "elozoleg_idotartam": "6"
                                },
                                {
                                    "SZOBA_FK": "143",
                                    "FOGLALAS_PK": "1313",
                                    "aktualis_idotartam": "4",
                                    "elozoleg_idotartam": "2"
                                },
                                {
                                    "SZOBA_FK": "143",
                                    "FOGLALAS_PK": "1394",
                                    "aktualis_idotartam": "3",
                                    "elozoleg_idotartam": "4"
                                },
                                {
                                    "SZOBA_FK": "143",
                                    "FOGLALAS_PK": "1448",
                                    "aktualis_idotartam": "6",
                                    "elozoleg_idotartam": "3"
                                },
                                {
                                    "SZOBA_FK": "144",
                                    "FOGLALAS_PK": "581",
                                    "aktualis_idotartam": "4",
                                    "elozoleg_idotartam": "0"
                                },
                                {
                                    "SZOBA_FK": "144",
                                    "FOGLALAS_PK": "1087",
                                    "aktualis_idotartam": "2",
                                    "elozoleg_idotartam": "4"
                                },
                                {
                                    "SZOBA_FK": "144",
                                    "FOGLALAS_PK": "1199",
                                    "aktualis_idotartam": "7",
                                    "elozoleg_idotartam": "2"
                                },
                                {
                                    "SZOBA_FK": "144",
                                    "FOGLALAS_PK": "1297",
                                    "aktualis_idotartam": "1",
                                    "elozoleg_idotartam": "7"
                                },
                                {
                                    "SZOBA_FK": "144",
                                    "FOGLALAS_PK": "1572",
                                    "aktualis_idotartam": "2",
                                    "elozoleg_idotartam": "1"
                                },
                                {
                                    "SZOBA_FK": "145",
                                    "FOGLALAS_PK": "703",
                                    "aktualis_idotartam": "4",
                                    "elozoleg_idotartam": "0"
                                },
                                {
                                    "SZOBA_FK": "145",
                                    "FOGLALAS_PK": "1077",
                                    "aktualis_idotartam": "1",
                                    "elozoleg_idotartam": "4"
                                },
                                {
                                    "SZOBA_FK": "145",
                                    "FOGLALAS_PK": "1120",
                                    "aktualis_idotartam": "1",
                                    "elozoleg_idotartam": "1"
                                },
                                {
                                    "SZOBA_FK": "145",
                                    "FOGLALAS_PK": "1145",
                                    "aktualis_idotartam": "4",
                                    "elozoleg_idotartam": "1"
                                },
                                {
                                    "SZOBA_FK": "145",
                                    "FOGLALAS_PK": "1338",
                                    "aktualis_idotartam": "2",
                                    "elozoleg_idotartam": "4"
                                },
                                {
                                    "SZOBA_FK": "145",
                                    "FOGLALAS_PK": "1471",
                                    "aktualis_idotartam": "1",
                                    "elozoleg_idotartam": "2"
                                },
                                {
                                    "SZOBA_FK": "146",
                                    "FOGLALAS_PK": "664",
                                    "aktualis_idotartam": "3",
                                    "elozoleg_idotartam": "0"
                                },
                                {
                                    "SZOBA_FK": "146",
                                    "FOGLALAS_PK": "789",
                                    "aktualis_idotartam": "7",
                                    "elozoleg_idotartam": "3"
                                },
                                {
                                    "SZOBA_FK": "146",
                                    "FOGLALAS_PK": "804",
                                    "aktualis_idotartam": "7",
                                    "elozoleg_idotartam": "7"
                                },
                                {
                                    "SZOBA_FK": "146",
                                    "FOGLALAS_PK": "890",
                                    "aktualis_idotartam": "3",
                                    "elozoleg_idotartam": "7"
                                },
                                {
                                    "SZOBA_FK": "146",
                                    "FOGLALAS_PK": "1032",
                                    "aktualis_idotartam": "5",
                                    "elozoleg_idotartam": "3"
                                },
                                {
                                    "SZOBA_FK": "146",
                                    "FOGLALAS_PK": "1479",
                                    "aktualis_idotartam": "6",
                                    "elozoleg_idotartam": "5"
                                },
                                {
                                    "SZOBA_FK": "147",
                                    "FOGLALAS_PK": "771",
                                    "aktualis_idotartam": "4",
                                    "elozoleg_idotartam": "0"
                                },
                                {
                                    "SZOBA_FK": "148",
                                    "FOGLALAS_PK": "678",
                                    "aktualis_idotartam": "4",
                                    "elozoleg_idotartam": "0"
                                },
                                {
                                    "SZOBA_FK": "148",
                                    "FOGLALAS_PK": "765",
                                    "aktualis_idotartam": "3",
                                    "elozoleg_idotartam": "4"
                                },
                                {
                                    "SZOBA_FK": "148",
                                    "FOGLALAS_PK": "783",
                                    "aktualis_idotartam": "7",
                                    "elozoleg_idotartam": "3"
                                },
                                {
                                    "SZOBA_FK": "148",
                                    "FOGLALAS_PK": "808",
                                    "aktualis_idotartam": "2",
                                    "elozoleg_idotartam": "7"
                                },
                                {
                                    "SZOBA_FK": "148",
                                    "FOGLALAS_PK": "812",
                                    "aktualis_idotartam": "6",
                                    "elozoleg_idotartam": "2"
                                },
                                {
                                    "SZOBA_FK": "148",
                                    "FOGLALAS_PK": "1578",
                                    "aktualis_idotartam": "7",
                                    "elozoleg_idotartam": "6"
                                },
                                {
                                    "SZOBA_FK": "149",
                                    "FOGLALAS_PK": "591",
                                    "aktualis_idotartam": "1",
                                    "elozoleg_idotartam": "0"
                                },
                                {
                                    "SZOBA_FK": "149",
                                    "FOGLALAS_PK": "652",
                                    "aktualis_idotartam": "1",
                                    "elozoleg_idotartam": "1"
                                },
                                {
                                    "SZOBA_FK": "149",
                                    "FOGLALAS_PK": "833",
                                    "aktualis_idotartam": "2",
                                    "elozoleg_idotartam": "1"
                                },
                                {
                                    "SZOBA_FK": "149",
                                    "FOGLALAS_PK": "834",
                                    "aktualis_idotartam": "5",
                                    "elozoleg_idotartam": "2"
                                },
                                {
                                    "SZOBA_FK": "149",
                                    "FOGLALAS_PK": "843",
                                    "aktualis_idotartam": "4",
                                    "elozoleg_idotartam": "5"
                                },
                                {
                                    "SZOBA_FK": "149",
                                    "FOGLALAS_PK": "1146",
                                    "aktualis_idotartam": "6",
                                    "elozoleg_idotartam": "4"
                                },
                                {
                                    "SZOBA_FK": "149",
                                    "FOGLALAS_PK": "1514",
                                    "aktualis_idotartam": "5",
                                    "elozoleg_idotartam": "6"
                                },
                                {
                                    "SZOBA_FK": "150",
                                    "FOGLALAS_PK": "641",
                                    "aktualis_idotartam": "3",
                                    "elozoleg_idotartam": "0"
                                },
                                {
                                    "SZOBA_FK": "150",
                                    "FOGLALAS_PK": "1100",
                                    "aktualis_idotartam": "5",
                                    "elozoleg_idotartam": "3"
                                },
                                {
                                    "SZOBA_FK": "150",
                                    "FOGLALAS_PK": "1105",
                                    "aktualis_idotartam": "1",
                                    "elozoleg_idotartam": "5"
                                },
                                {
                                    "SZOBA_FK": "150",
                                    "FOGLALAS_PK": "1177",
                                    "aktualis_idotartam": "1",
                                    "elozoleg_idotartam": "1"
                                },
                                {
                                    "SZOBA_FK": "150",
                                    "FOGLALAS_PK": "1203",
                                    "aktualis_idotartam": "4",
                                    "elozoleg_idotartam": "1"
                                },
                                {
                                    "SZOBA_FK": "150",
                                    "FOGLALAS_PK": "1432",
                                    "aktualis_idotartam": "3",
                                    "elozoleg_idotartam": "4"
                                },
                                {
                                    "SZOBA_FK": "151",
                                    "FOGLALAS_PK": "893",
                                    "aktualis_idotartam": "3",
                                    "elozoleg_idotartam": "0"
                                },
                                {
                                    "SZOBA_FK": "151",
                                    "FOGLALAS_PK": "1058",
                                    "aktualis_idotartam": "3",
                                    "elozoleg_idotartam": "3"
                                },
                                {
                                    "SZOBA_FK": "151",
                                    "FOGLALAS_PK": "1115",
                                    "aktualis_idotartam": "3",
                                    "elozoleg_idotartam": "3"
                                },
                                {
                                    "SZOBA_FK": "152",
                                    "FOGLALAS_PK": "730",
                                    "aktualis_idotartam": "2",
                                    "elozoleg_idotartam": "0"
                                },
                                {
                                    "SZOBA_FK": "152",
                                    "FOGLALAS_PK": "1160",
                                    "aktualis_idotartam": "7",
                                    "elozoleg_idotartam": "2"
                                },
                                {
                                    "SZOBA_FK": "152",
                                    "FOGLALAS_PK": "1197",
                                    "aktualis_idotartam": "6",
                                    "elozoleg_idotartam": "7"
                                },
                                {
                                    "SZOBA_FK": "152",
                                    "FOGLALAS_PK": "1558",
                                    "aktualis_idotartam": "2",
                                    "elozoleg_idotartam": "6"
                                },
                                {
                                    "SZOBA_FK": "153",
                                    "FOGLALAS_PK": "594",
                                    "aktualis_idotartam": "3",
                                    "elozoleg_idotartam": "0"
                                },
                                {
                                    "SZOBA_FK": "153",
                                    "FOGLALAS_PK": "969",
                                    "aktualis_idotartam": "6",
                                    "elozoleg_idotartam": "3"
                                },
                                {
                                    "SZOBA_FK": "153",
                                    "FOGLALAS_PK": "1460",
                                    "aktualis_idotartam": "3",
                                    "elozoleg_idotartam": "6"
                                },
                                {
                                    "SZOBA_FK": "153",
                                    "FOGLALAS_PK": "1470",
                                    "aktualis_idotartam": "5",
                                    "elozoleg_idotartam": "3"
                                },
                                {
                                    "SZOBA_FK": "153",
                                    "FOGLALAS_PK": "1507",
                                    "aktualis_idotartam": "3",
                                    "elozoleg_idotartam": "5"
                                },
                                {
                                    "SZOBA_FK": "154",
                                    "FOGLALAS_PK": "968",
                                    "aktualis_idotartam": "1",
                                    "elozoleg_idotartam": "0"
                                },
                                {
                                    "SZOBA_FK": "154",
                                    "FOGLALAS_PK": "1061",
                                    "aktualis_idotartam": "7",
                                    "elozoleg_idotartam": "1"
                                },
                                {
                                    "SZOBA_FK": "154",
                                    "FOGLALAS_PK": "1168",
                                    "aktualis_idotartam": "6",
                                    "elozoleg_idotartam": "7"
                                },
                                {
                                    "SZOBA_FK": "154",
                                    "FOGLALAS_PK": "1262",
                                    "aktualis_idotartam": "1",
                                    "elozoleg_idotartam": "6"
                                },
                                {
                                    "SZOBA_FK": "154",
                                    "FOGLALAS_PK": "1539",
                                    "aktualis_idotartam": "2",
                                    "elozoleg_idotartam": "1"
                                },
                                {
                                    "SZOBA_FK": "155",
                                    "FOGLALAS_PK": "575",
                                    "aktualis_idotartam": "1",
                                    "elozoleg_idotartam": "0"
                                },
                                {
                                    "SZOBA_FK": "155",
                                    "FOGLALAS_PK": "577",
                                    "aktualis_idotartam": "3",
                                    "elozoleg_idotartam": "1"
                                },
                                {
                                    "SZOBA_FK": "155",
                                    "FOGLALAS_PK": "1112",
                                    "aktualis_idotartam": "4",
                                    "elozoleg_idotartam": "3"
                                },
                                {
                                    "SZOBA_FK": "155",
                                    "FOGLALAS_PK": "1310",
                                    "aktualis_idotartam": "1",
                                    "elozoleg_idotartam": "4"
                                },
                                {
                                    "SZOBA_FK": "155",
                                    "FOGLALAS_PK": "1541",
                                    "aktualis_idotartam": "1",
                                    "elozoleg_idotartam": "1"
                                },
                                {
                                    "SZOBA_FK": "156",
                                    "FOGLALAS_PK": "588",
                                    "aktualis_idotartam": "7",
                                    "elozoleg_idotartam": "0"
                                },
                                {
                                    "SZOBA_FK": "156",
                                    "FOGLALAS_PK": "692",
                                    "aktualis_idotartam": "6",
                                    "elozoleg_idotartam": "7"
                                },
                                {
                                    "SZOBA_FK": "156",
                                    "FOGLALAS_PK": "907",
                                    "aktualis_idotartam": "3",
                                    "elozoleg_idotartam": "6"
                                },
                                {
                                    "SZOBA_FK": "156",
                                    "FOGLALAS_PK": "956",
                                    "aktualis_idotartam": "6",
                                    "elozoleg_idotartam": "3"
                                },
                                {
                                    "SZOBA_FK": "156",
                                    "FOGLALAS_PK": "1462",
                                    "aktualis_idotartam": "7",
                                    "elozoleg_idotartam": "6"
                                },
                                {
                                    "SZOBA_FK": "156",
                                    "FOGLALAS_PK": "1490",
                                    "aktualis_idotartam": "1",
                                    "elozoleg_idotartam": "7"
                                },
                                {
                                    "SZOBA_FK": "156",
                                    "FOGLALAS_PK": "1561",
                                    "aktualis_idotartam": "4",
                                    "elozoleg_idotartam": "1"
                                },
                                {
                                    "SZOBA_FK": "157",
                                    "FOGLALAS_PK": "648",
                                    "aktualis_idotartam": "4",
                                    "elozoleg_idotartam": "0"
                                },
                                {
                                    "SZOBA_FK": "157",
                                    "FOGLALAS_PK": "1025",
                                    "aktualis_idotartam": "3",
                                    "elozoleg_idotartam": "4"
                                },
                                {
                                    "SZOBA_FK": "157",
                                    "FOGLALAS_PK": "1047",
                                    "aktualis_idotartam": "4",
                                    "elozoleg_idotartam": "3"
                                },
                                {
                                    "SZOBA_FK": "157",
                                    "FOGLALAS_PK": "1240",
                                    "aktualis_idotartam": "7",
                                    "elozoleg_idotartam": "4"
                                },
                                {
                                    "SZOBA_FK": "157",
                                    "FOGLALAS_PK": "1551",
                                    "aktualis_idotartam": "3",
                                    "elozoleg_idotartam": "7"
                                },
                                {
                                    "SZOBA_FK": "158",
                                    "FOGLALAS_PK": "825",
                                    "aktualis_idotartam": "4",
                                    "elozoleg_idotartam": "0"
                                },
                                {
                                    "SZOBA_FK": "158",
                                    "FOGLALAS_PK": "840",
                                    "aktualis_idotartam": "4",
                                    "elozoleg_idotartam": "4"
                                },
                                {
                                    "SZOBA_FK": "158",
                                    "FOGLALAS_PK": "1117",
                                    "aktualis_idotartam": "3",
                                    "elozoleg_idotartam": "4"
                                },
                                {
                                    "SZOBA_FK": "160",
                                    "FOGLALAS_PK": "720",
                                    "aktualis_idotartam": "2",
                                    "elozoleg_idotartam": "0"
                                },
                                {
                                    "SZOBA_FK": "160",
                                    "FOGLALAS_PK": "922",
                                    "aktualis_idotartam": "2",
                                    "elozoleg_idotartam": "2"
                                },
                                {
                                    "SZOBA_FK": "160",
                                    "FOGLALAS_PK": "927",
                                    "aktualis_idotartam": "4",
                                    "elozoleg_idotartam": "2"
                                },
                                {
                                    "SZOBA_FK": "160",
                                    "FOGLALAS_PK": "933",
                                    "aktualis_idotartam": "4",
                                    "elozoleg_idotartam": "4"
                                },
                                {
                                    "SZOBA_FK": "160",
                                    "FOGLALAS_PK": "1565",
                                    "aktualis_idotartam": "3",
                                    "elozoleg_idotartam": "4"
                                },
                                {
                                    "SZOBA_FK": "161",
                                    "FOGLALAS_PK": "639",
                                    "aktualis_idotartam": "4",
                                    "elozoleg_idotartam": "0"
                                },
                                {
                                    "SZOBA_FK": "161",
                                    "FOGLALAS_PK": "653",
                                    "aktualis_idotartam": "7",
                                    "elozoleg_idotartam": "4"
                                },
                                {
                                    "SZOBA_FK": "161",
                                    "FOGLALAS_PK": "911",
                                    "aktualis_idotartam": "4",
                                    "elozoleg_idotartam": "7"
                                },
                                {
                                    "SZOBA_FK": "161",
                                    "FOGLALAS_PK": "1068",
                                    "aktualis_idotartam": "6",
                                    "elozoleg_idotartam": "4"
                                },
                                {
                                    "SZOBA_FK": "161",
                                    "FOGLALAS_PK": "1190",
                                    "aktualis_idotartam": "7",
                                    "elozoleg_idotartam": "6"
                                },
                                {
                                    "SZOBA_FK": "161",
                                    "FOGLALAS_PK": "1571",
                                    "aktualis_idotartam": "4",
                                    "elozoleg_idotartam": "7"
                                },
                                {
                                    "SZOBA_FK": "162",
                                    "FOGLALAS_PK": "599",
                                    "aktualis_idotartam": "4",
                                    "elozoleg_idotartam": "0"
                                },
                                {
                                    "SZOBA_FK": "162",
                                    "FOGLALAS_PK": "1205",
                                    "aktualis_idotartam": "6",
                                    "elozoleg_idotartam": "4"
                                },
                                {
                                    "SZOBA_FK": "162",
                                    "FOGLALAS_PK": "1400",
                                    "aktualis_idotartam": "1",
                                    "elozoleg_idotartam": "6"
                                },
                                {
                                    "SZOBA_FK": "163",
                                    "FOGLALAS_PK": "630",
                                    "aktualis_idotartam": "2",
                                    "elozoleg_idotartam": "0"
                                },
                                {
                                    "SZOBA_FK": "163",
                                    "FOGLALAS_PK": "782",
                                    "aktualis_idotartam": "3",
                                    "elozoleg_idotartam": "2"
                                },
                                {
                                    "SZOBA_FK": "163",
                                    "FOGLALAS_PK": "941",
                                    "aktualis_idotartam": "1",
                                    "elozoleg_idotartam": "3"
                                },
                                {
                                    "SZOBA_FK": "163",
                                    "FOGLALAS_PK": "1075",
                                    "aktualis_idotartam": "4",
                                    "elozoleg_idotartam": "1"
                                },
                                {
                                    "SZOBA_FK": "163",
                                    "FOGLALAS_PK": "1107",
                                    "aktualis_idotartam": "3",
                                    "elozoleg_idotartam": "4"
                                },
                                {
                                    "SZOBA_FK": "163",
                                    "FOGLALAS_PK": "1265",
                                    "aktualis_idotartam": "5",
                                    "elozoleg_idotartam": "3"
                                },
                                {
                                    "SZOBA_FK": "163",
                                    "FOGLALAS_PK": "1487",
                                    "aktualis_idotartam": "3",
                                    "elozoleg_idotartam": "5"
                                },
                                {
                                    "SZOBA_FK": "164",
                                    "FOGLALAS_PK": "570",
                                    "aktualis_idotartam": "7",
                                    "elozoleg_idotartam": "0"
                                },
                                {
                                    "SZOBA_FK": "164",
                                    "FOGLALAS_PK": "742",
                                    "aktualis_idotartam": "6",
                                    "elozoleg_idotartam": "7"
                                },
                                {
                                    "SZOBA_FK": "164",
                                    "FOGLALAS_PK": "1010",
                                    "aktualis_idotartam": "2",
                                    "elozoleg_idotartam": "6"
                                },
                                {
                                    "SZOBA_FK": "164",
                                    "FOGLALAS_PK": "1284",
                                    "aktualis_idotartam": "4",
                                    "elozoleg_idotartam": "2"
                                },
                                {
                                    "SZOBA_FK": "164",
                                    "FOGLALAS_PK": "1292",
                                    "aktualis_idotartam": "2",
                                    "elozoleg_idotartam": "4"
                                },
                                {
                                    "SZOBA_FK": "165",
                                    "FOGLALAS_PK": "640",
                                    "aktualis_idotartam": "3",
                                    "elozoleg_idotartam": "0"
                                },
                                {
                                    "SZOBA_FK": "165",
                                    "FOGLALAS_PK": "857",
                                    "aktualis_idotartam": "5",
                                    "elozoleg_idotartam": "3"
                                },
                                {
                                    "SZOBA_FK": "165",
                                    "FOGLALAS_PK": "892",
                                    "aktualis_idotartam": "3",
                                    "elozoleg_idotartam": "5"
                                },
                                {
                                    "SZOBA_FK": "165",
                                    "FOGLALAS_PK": "897",
                                    "aktualis_idotartam": "6",
                                    "elozoleg_idotartam": "3"
                                },
                                {
                                    "SZOBA_FK": "165",
                                    "FOGLALAS_PK": "900",
                                    "aktualis_idotartam": "6",
                                    "elozoleg_idotartam": "6"
                                },
                                {
                                    "SZOBA_FK": "165",
                                    "FOGLALAS_PK": "1141",
                                    "aktualis_idotartam": "1",
                                    "elozoleg_idotartam": "6"
                                },
                                {
                                    "SZOBA_FK": "165",
                                    "FOGLALAS_PK": "1375",
                                    "aktualis_idotartam": "4",
                                    "elozoleg_idotartam": "1"
                                },
                                {
                                    "SZOBA_FK": "166",
                                    "FOGLALAS_PK": "644",
                                    "aktualis_idotartam": "7",
                                    "elozoleg_idotartam": "0"
                                },
                                {
                                    "SZOBA_FK": "166",
                                    "FOGLALAS_PK": "781",
                                    "aktualis_idotartam": "7",
                                    "elozoleg_idotartam": "7"
                                },
                                {
                                    "SZOBA_FK": "166",
                                    "FOGLALAS_PK": "1526",
                                    "aktualis_idotartam": "2",
                                    "elozoleg_idotartam": "7"
                                },
                                {
                                    "SZOBA_FK": "167",
                                    "FOGLALAS_PK": "854",
                                    "aktualis_idotartam": "7",
                                    "elozoleg_idotartam": "0"
                                },
                                {
                                    "SZOBA_FK": "167",
                                    "FOGLALAS_PK": "1414",
                                    "aktualis_idotartam": "3",
                                    "elozoleg_idotartam": "7"
                                },
                                {
                                    "SZOBA_FK": "168",
                                    "FOGLALAS_PK": "792",
                                    "aktualis_idotartam": "3",
                                    "elozoleg_idotartam": "0"
                                },
                                {
                                    "SZOBA_FK": "168",
                                    "FOGLALAS_PK": "794",
                                    "aktualis_idotartam": "4",
                                    "elozoleg_idotartam": "3"
                                },
                                {
                                    "SZOBA_FK": "168",
                                    "FOGLALAS_PK": "930",
                                    "aktualis_idotartam": "3",
                                    "elozoleg_idotartam": "4"
                                },
                                {
                                    "SZOBA_FK": "168",
                                    "FOGLALAS_PK": "1249",
                                    "aktualis_idotartam": "4",
                                    "elozoleg_idotartam": "3"
                                },
                                {
                                    "SZOBA_FK": "168",
                                    "FOGLALAS_PK": "1266",
                                    "aktualis_idotartam": "4",
                                    "elozoleg_idotartam": "4"
                                },
                                {
                                    "SZOBA_FK": "169",
                                    "FOGLALAS_PK": "573",
                                    "aktualis_idotartam": "5",
                                    "elozoleg_idotartam": "0"
                                },
                                {
                                    "SZOBA_FK": "169",
                                    "FOGLALAS_PK": "659",
                                    "aktualis_idotartam": "6",
                                    "elozoleg_idotartam": "5"
                                },
                                {
                                    "SZOBA_FK": "169",
                                    "FOGLALAS_PK": "746",
                                    "aktualis_idotartam": "7",
                                    "elozoleg_idotartam": "6"
                                },
                                {
                                    "SZOBA_FK": "169",
                                    "FOGLALAS_PK": "974",
                                    "aktualis_idotartam": "1",
                                    "elozoleg_idotartam": "7"
                                },
                                {
                                    "SZOBA_FK": "169",
                                    "FOGLALAS_PK": "1356",
                                    "aktualis_idotartam": "4",
                                    "elozoleg_idotartam": "1"
                                },
                                {
                                    "SZOBA_FK": "169",
                                    "FOGLALAS_PK": "1427",
                                    "aktualis_idotartam": "1",
                                    "elozoleg_idotartam": "4"
                                },
                                {
                                    "SZOBA_FK": "170",
                                    "FOGLALAS_PK": "567",
                                    "aktualis_idotartam": "7",
                                    "elozoleg_idotartam": "0"
                                },
                                {
                                    "SZOBA_FK": "170",
                                    "FOGLALAS_PK": "944",
                                    "aktualis_idotartam": "4",
                                    "elozoleg_idotartam": "7"
                                },
                                {
                                    "SZOBA_FK": "170",
                                    "FOGLALAS_PK": "1194",
                                    "aktualis_idotartam": "4",
                                    "elozoleg_idotartam": "4"
                                },
                                {
                                    "SZOBA_FK": "170",
                                    "FOGLALAS_PK": "1267",
                                    "aktualis_idotartam": "7",
                                    "elozoleg_idotartam": "4"
                                },
                                {
                                    "SZOBA_FK": "170",
                                    "FOGLALAS_PK": "1342",
                                    "aktualis_idotartam": "6",
                                    "elozoleg_idotartam": "7"
                                },
                                {
                                    "SZOBA_FK": "171",
                                    "FOGLALAS_PK": "574",
                                    "aktualis_idotartam": "2",
                                    "elozoleg_idotartam": "0"
                                },
                                {
                                    "SZOBA_FK": "171",
                                    "FOGLALAS_PK": "981",
                                    "aktualis_idotartam": "4",
                                    "elozoleg_idotartam": "2"
                                },
                                {
                                    "SZOBA_FK": "171",
                                    "FOGLALAS_PK": "1181",
                                    "aktualis_idotartam": "6",
                                    "elozoleg_idotartam": "4"
                                },
                                {
                                    "SZOBA_FK": "171",
                                    "FOGLALAS_PK": "1329",
                                    "aktualis_idotartam": "5",
                                    "elozoleg_idotartam": "6"
                                },
                                {
                                    "SZOBA_FK": "171",
                                    "FOGLALAS_PK": "1567",
                                    "aktualis_idotartam": "6",
                                    "elozoleg_idotartam": "5"
                                },
                                {
                                    "SZOBA_FK": "172",
                                    "FOGLALAS_PK": "709",
                                    "aktualis_idotartam": "5",
                                    "elozoleg_idotartam": "0"
                                },
                                {
                                    "SZOBA_FK": "172",
                                    "FOGLALAS_PK": "749",
                                    "aktualis_idotartam": "6",
                                    "elozoleg_idotartam": "5"
                                },
                                {
                                    "SZOBA_FK": "172",
                                    "FOGLALAS_PK": "839",
                                    "aktualis_idotartam": "5",
                                    "elozoleg_idotartam": "6"
                                },
                                {
                                    "SZOBA_FK": "172",
                                    "FOGLALAS_PK": "984",
                                    "aktualis_idotartam": "4",
                                    "elozoleg_idotartam": "5"
                                },
                                {
                                    "SZOBA_FK": "172",
                                    "FOGLALAS_PK": "1142",
                                    "aktualis_idotartam": "4",
                                    "elozoleg_idotartam": "4"
                                },
                                {
                                    "SZOBA_FK": "172",
                                    "FOGLALAS_PK": "1171",
                                    "aktualis_idotartam": "5",
                                    "elozoleg_idotartam": "4"
                                },
                                {
                                    "SZOBA_FK": "172",
                                    "FOGLALAS_PK": "1336",
                                    "aktualis_idotartam": "5",
                                    "elozoleg_idotartam": "5"
                                },
                                {
                                    "SZOBA_FK": "172",
                                    "FOGLALAS_PK": "1421",
                                    "aktualis_idotartam": "5",
                                    "elozoleg_idotartam": "5"
                                },
                                {
                                    "SZOBA_FK": "172",
                                    "FOGLALAS_PK": "1491",
                                    "aktualis_idotartam": "2",
                                    "elozoleg_idotartam": "5"
                                },
                                {
                                    "SZOBA_FK": "173",
                                    "FOGLALAS_PK": "669",
                                    "aktualis_idotartam": "7",
                                    "elozoleg_idotartam": "0"
                                },
                                {
                                    "SZOBA_FK": "173",
                                    "FOGLALAS_PK": "913",
                                    "aktualis_idotartam": "1",
                                    "elozoleg_idotartam": "7"
                                },
                                {
                                    "SZOBA_FK": "173",
                                    "FOGLALAS_PK": "1350",
                                    "aktualis_idotartam": "3",
                                    "elozoleg_idotartam": "1"
                                },
                                {
                                    "SZOBA_FK": "173",
                                    "FOGLALAS_PK": "1429",
                                    "aktualis_idotartam": "4",
                                    "elozoleg_idotartam": "3"
                                },
                                {
                                    "SZOBA_FK": "174",
                                    "FOGLALAS_PK": "682",
                                    "aktualis_idotartam": "3",
                                    "elozoleg_idotartam": "0"
                                },
                                {
                                    "SZOBA_FK": "174",
                                    "FOGLALAS_PK": "917",
                                    "aktualis_idotartam": "2",
                                    "elozoleg_idotartam": "3"
                                },
                                {
                                    "SZOBA_FK": "174",
                                    "FOGLALAS_PK": "1015",
                                    "aktualis_idotartam": "5",
                                    "elozoleg_idotartam": "2"
                                },
                                {
                                    "SZOBA_FK": "174",
                                    "FOGLALAS_PK": "1276",
                                    "aktualis_idotartam": "1",
                                    "elozoleg_idotartam": "5"
                                },
                                {
                                    "SZOBA_FK": "175",
                                    "FOGLALAS_PK": "799",
                                    "aktualis_idotartam": "4",
                                    "elozoleg_idotartam": "0"
                                },
                                {
                                    "SZOBA_FK": "175",
                                    "FOGLALAS_PK": "867",
                                    "aktualis_idotartam": "6",
                                    "elozoleg_idotartam": "4"
                                },
                                {
                                    "SZOBA_FK": "175",
                                    "FOGLALAS_PK": "1094",
                                    "aktualis_idotartam": "5",
                                    "elozoleg_idotartam": "6"
                                },
                                {
                                    "SZOBA_FK": "175",
                                    "FOGLALAS_PK": "1133",
                                    "aktualis_idotartam": "2",
                                    "elozoleg_idotartam": "5"
                                },
                                {
                                    "SZOBA_FK": "175",
                                    "FOGLALAS_PK": "1407",
                                    "aktualis_idotartam": "7",
                                    "elozoleg_idotartam": "2"
                                },
                                {
                                    "SZOBA_FK": "176",
                                    "FOGLALAS_PK": "592",
                                    "aktualis_idotartam": "5",
                                    "elozoleg_idotartam": "0"
                                },
                                {
                                    "SZOBA_FK": "176",
                                    "FOGLALAS_PK": "1143",
                                    "aktualis_idotartam": "6",
                                    "elozoleg_idotartam": "5"
                                },
                                {
                                    "SZOBA_FK": "176",
                                    "FOGLALAS_PK": "1278",
                                    "aktualis_idotartam": "6",
                                    "elozoleg_idotartam": "6"
                                },
                                {
                                    "SZOBA_FK": "176",
                                    "FOGLALAS_PK": "1383",
                                    "aktualis_idotartam": "4",
                                    "elozoleg_idotartam": "6"
                                },
                                {
                                    "SZOBA_FK": "176",
                                    "FOGLALAS_PK": "1511",
                                    "aktualis_idotartam": "2",
                                    "elozoleg_idotartam": "4"
                                },
                                {
                                    "SZOBA_FK": "176",
                                    "FOGLALAS_PK": "1570",
                                    "aktualis_idotartam": "3",
                                    "elozoleg_idotartam": "2"
                                },
                                {
                                    "SZOBA_FK": "177",
                                    "FOGLALAS_PK": "785",
                                    "aktualis_idotartam": "3",
                                    "elozoleg_idotartam": "0"
                                },
                                {
                                    "SZOBA_FK": "177",
                                    "FOGLALAS_PK": "831",
                                    "aktualis_idotartam": "7",
                                    "elozoleg_idotartam": "3"
                                },
                                {
                                    "SZOBA_FK": "177",
                                    "FOGLALAS_PK": "1176",
                                    "aktualis_idotartam": "3",
                                    "elozoleg_idotartam": "7"
                                },
                                {
                                    "SZOBA_FK": "177",
                                    "FOGLALAS_PK": "1503",
                                    "aktualis_idotartam": "3",
                                    "elozoleg_idotartam": "3"
                                },
                                {
                                    "SZOBA_FK": "178",
                                    "FOGLALAS_PK": "816",
                                    "aktualis_idotartam": "4",
                                    "elozoleg_idotartam": "0"
                                },
                                {
                                    "SZOBA_FK": "178",
                                    "FOGLALAS_PK": "991",
                                    "aktualis_idotartam": "7",
                                    "elozoleg_idotartam": "4"
                                },
                                {
                                    "SZOBA_FK": "178",
                                    "FOGLALAS_PK": "1211",
                                    "aktualis_idotartam": "3",
                                    "elozoleg_idotartam": "7"
                                },
                                {
                                    "SZOBA_FK": "178",
                                    "FOGLALAS_PK": "1242",
                                    "aktualis_idotartam": "1",
                                    "elozoleg_idotartam": "3"
                                },
                                {
                                    "SZOBA_FK": "179",
                                    "FOGLALAS_PK": "662",
                                    "aktualis_idotartam": "2",
                                    "elozoleg_idotartam": "0"
                                },
                                {
                                    "SZOBA_FK": "179",
                                    "FOGLALAS_PK": "1021",
                                    "aktualis_idotartam": "1",
                                    "elozoleg_idotartam": "2"
                                },
                                {
                                    "SZOBA_FK": "179",
                                    "FOGLALAS_PK": "1497",
                                    "aktualis_idotartam": "1",
                                    "elozoleg_idotartam": "1"
                                },
                                {
                                    "SZOBA_FK": "180",
                                    "FOGLALAS_PK": "905",
                                    "aktualis_idotartam": "5",
                                    "elozoleg_idotartam": "0"
                                },
                                {
                                    "SZOBA_FK": "180",
                                    "FOGLALAS_PK": "1559",
                                    "aktualis_idotartam": "3",
                                    "elozoleg_idotartam": "5"
                                },
                                {
                                    "SZOBA_FK": "180",
                                    "FOGLALAS_PK": "1563",
                                    "aktualis_idotartam": "6",
                                    "elozoleg_idotartam": "3"
                                },
                                {
                                    "SZOBA_FK": "181",
                                    "FOGLALAS_PK": "677",
                                    "aktualis_idotartam": "4",
                                    "elozoleg_idotartam": "0"
                                },
                                {
                                    "SZOBA_FK": "181",
                                    "FOGLALAS_PK": "731",
                                    "aktualis_idotartam": "6",
                                    "elozoleg_idotartam": "4"
                                },
                                {
                                    "SZOBA_FK": "181",
                                    "FOGLALAS_PK": "937",
                                    "aktualis_idotartam": "3",
                                    "elozoleg_idotartam": "6"
                                },
                                {
                                    "SZOBA_FK": "181",
                                    "FOGLALAS_PK": "958",
                                    "aktualis_idotartam": "5",
                                    "elozoleg_idotartam": "3"
                                },
                                {
                                    "SZOBA_FK": "181",
                                    "FOGLALAS_PK": "1022",
                                    "aktualis_idotartam": "1",
                                    "elozoleg_idotartam": "5"
                                },
                                {
                                    "SZOBA_FK": "181",
                                    "FOGLALAS_PK": "1346",
                                    "aktualis_idotartam": "6",
                                    "elozoleg_idotartam": "1"
                                },
                                {
                                    "SZOBA_FK": "182",
                                    "FOGLALAS_PK": "571",
                                    "aktualis_idotartam": "2",
                                    "elozoleg_idotartam": "0"
                                },
                                {
                                    "SZOBA_FK": "182",
                                    "FOGLALAS_PK": "740",
                                    "aktualis_idotartam": "3",
                                    "elozoleg_idotartam": "2"
                                },
                                {
                                    "SZOBA_FK": "182",
                                    "FOGLALAS_PK": "928",
                                    "aktualis_idotartam": "2",
                                    "elozoleg_idotartam": "3"
                                },
                                {
                                    "SZOBA_FK": "182",
                                    "FOGLALAS_PK": "1008",
                                    "aktualis_idotartam": "6",
                                    "elozoleg_idotartam": "2"
                                },
                                {
                                    "SZOBA_FK": "182",
                                    "FOGLALAS_PK": "1188",
                                    "aktualis_idotartam": "1",
                                    "elozoleg_idotartam": "6"
                                },
                                {
                                    "SZOBA_FK": "182",
                                    "FOGLALAS_PK": "1230",
                                    "aktualis_idotartam": "7",
                                    "elozoleg_idotartam": "1"
                                },
                                {
                                    "SZOBA_FK": "182",
                                    "FOGLALAS_PK": "1231",
                                    "aktualis_idotartam": "4",
                                    "elozoleg_idotartam": "7"
                                },
                                {
                                    "SZOBA_FK": "182",
                                    "FOGLALAS_PK": "1308",
                                    "aktualis_idotartam": "1",
                                    "elozoleg_idotartam": "4"
                                },
                                {
                                    "SZOBA_FK": "182",
                                    "FOGLALAS_PK": "1317",
                                    "aktualis_idotartam": "3",
                                    "elozoleg_idotartam": "1"
                                },
                                {
                                    "SZOBA_FK": "182",
                                    "FOGLALAS_PK": "1326",
                                    "aktualis_idotartam": "4",
                                    "elozoleg_idotartam": "3"
                                },
                                {
                                    "SZOBA_FK": "182",
                                    "FOGLALAS_PK": "1410",
                                    "aktualis_idotartam": "4",
                                    "elozoleg_idotartam": "4"
                                },
                                {
                                    "SZOBA_FK": "182",
                                    "FOGLALAS_PK": "1422",
                                    "aktualis_idotartam": "3",
                                    "elozoleg_idotartam": "4"
                                },
                                {
                                    "SZOBA_FK": "183",
                                    "FOGLALAS_PK": "939",
                                    "aktualis_idotartam": "4",
                                    "elozoleg_idotartam": "0"
                                },
                                {
                                    "SZOBA_FK": "183",
                                    "FOGLALAS_PK": "1067",
                                    "aktualis_idotartam": "7",
                                    "elozoleg_idotartam": "4"
                                },
                                {
                                    "SZOBA_FK": "183",
                                    "FOGLALAS_PK": "1147",
                                    "aktualis_idotartam": "4",
                                    "elozoleg_idotartam": "7"
                                },
                                {
                                    "SZOBA_FK": "183",
                                    "FOGLALAS_PK": "1437",
                                    "aktualis_idotartam": "4",
                                    "elozoleg_idotartam": "4"
                                },
                                {
                                    "SZOBA_FK": "184",
                                    "FOGLALAS_PK": "608",
                                    "aktualis_idotartam": "2",
                                    "elozoleg_idotartam": "0"
                                },
                                {
                                    "SZOBA_FK": "184",
                                    "FOGLALAS_PK": "684",
                                    "aktualis_idotartam": "3",
                                    "elozoleg_idotartam": "2"
                                },
                                {
                                    "SZOBA_FK": "184",
                                    "FOGLALAS_PK": "880",
                                    "aktualis_idotartam": "4",
                                    "elozoleg_idotartam": "3"
                                },
                                {
                                    "SZOBA_FK": "184",
                                    "FOGLALAS_PK": "1251",
                                    "aktualis_idotartam": "4",
                                    "elozoleg_idotartam": "4"
                                },
                                {
                                    "SZOBA_FK": "185",
                                    "FOGLALAS_PK": "578",
                                    "aktualis_idotartam": "6",
                                    "elozoleg_idotartam": "0"
                                },
                                {
                                    "SZOBA_FK": "185",
                                    "FOGLALAS_PK": "672",
                                    "aktualis_idotartam": "3",
                                    "elozoleg_idotartam": "6"
                                },
                                {
                                    "SZOBA_FK": "185",
                                    "FOGLALAS_PK": "679",
                                    "aktualis_idotartam": "5",
                                    "elozoleg_idotartam": "3"
                                },
                                {
                                    "SZOBA_FK": "185",
                                    "FOGLALAS_PK": "693",
                                    "aktualis_idotartam": "2",
                                    "elozoleg_idotartam": "5"
                                },
                                {
                                    "SZOBA_FK": "185",
                                    "FOGLALAS_PK": "711",
                                    "aktualis_idotartam": "3",
                                    "elozoleg_idotartam": "2"
                                },
                                {
                                    "SZOBA_FK": "185",
                                    "FOGLALAS_PK": "863",
                                    "aktualis_idotartam": "4",
                                    "elozoleg_idotartam": "3"
                                },
                                {
                                    "SZOBA_FK": "185",
                                    "FOGLALAS_PK": "898",
                                    "aktualis_idotartam": "4",
                                    "elozoleg_idotartam": "4"
                                },
                                {
                                    "SZOBA_FK": "185",
                                    "FOGLALAS_PK": "925",
                                    "aktualis_idotartam": "6",
                                    "elozoleg_idotartam": "4"
                                },
                                {
                                    "SZOBA_FK": "185",
                                    "FOGLALAS_PK": "1125",
                                    "aktualis_idotartam": "3",
                                    "elozoleg_idotartam": "6"
                                },
                                {
                                    "SZOBA_FK": "185",
                                    "FOGLALAS_PK": "1183",
                                    "aktualis_idotartam": "5",
                                    "elozoleg_idotartam": "3"
                                },
                                {
                                    "SZOBA_FK": "185",
                                    "FOGLALAS_PK": "1441",
                                    "aktualis_idotartam": "7",
                                    "elozoleg_idotartam": "5"
                                },
                                {
                                    "SZOBA_FK": "185",
                                    "FOGLALAS_PK": "1463",
                                    "aktualis_idotartam": "7",
                                    "elozoleg_idotartam": "7"
                                },
                                {
                                    "SZOBA_FK": "186",
                                    "FOGLALAS_PK": "615",
                                    "aktualis_idotartam": "3",
                                    "elozoleg_idotartam": "0"
                                },
                                {
                                    "SZOBA_FK": "186",
                                    "FOGLALAS_PK": "1153",
                                    "aktualis_idotartam": "3",
                                    "elozoleg_idotartam": "3"
                                },
                                {
                                    "SZOBA_FK": "186",
                                    "FOGLALAS_PK": "1248",
                                    "aktualis_idotartam": "2",
                                    "elozoleg_idotartam": "3"
                                },
                                {
                                    "SZOBA_FK": "186",
                                    "FOGLALAS_PK": "1467",
                                    "aktualis_idotartam": "3",
                                    "elozoleg_idotartam": "2"
                                },
                                {
                                    "SZOBA_FK": "187",
                                    "FOGLALAS_PK": "633",
                                    "aktualis_idotartam": "6",
                                    "elozoleg_idotartam": "0"
                                },
                                {
                                    "SZOBA_FK": "187",
                                    "FOGLALAS_PK": "695",
                                    "aktualis_idotartam": "6",
                                    "elozoleg_idotartam": "6"
                                },
                                {
                                    "SZOBA_FK": "187",
                                    "FOGLALAS_PK": "743",
                                    "aktualis_idotartam": "2",
                                    "elozoleg_idotartam": "6"
                                },
                                {
                                    "SZOBA_FK": "187",
                                    "FOGLALAS_PK": "766",
                                    "aktualis_idotartam": "1",
                                    "elozoleg_idotartam": "2"
                                },
                                {
                                    "SZOBA_FK": "187",
                                    "FOGLALAS_PK": "868",
                                    "aktualis_idotartam": "4",
                                    "elozoleg_idotartam": "1"
                                },
                                {
                                    "SZOBA_FK": "187",
                                    "FOGLALAS_PK": "957",
                                    "aktualis_idotartam": "4",
                                    "elozoleg_idotartam": "4"
                                },
                                {
                                    "SZOBA_FK": "187",
                                    "FOGLALAS_PK": "1404",
                                    "aktualis_idotartam": "2",
                                    "elozoleg_idotartam": "4"
                                },
                                {
                                    "SZOBA_FK": "188",
                                    "FOGLALAS_PK": "690",
                                    "aktualis_idotartam": "4",
                                    "elozoleg_idotartam": "0"
                                },
                                {
                                    "SZOBA_FK": "188",
                                    "FOGLALAS_PK": "710",
                                    "aktualis_idotartam": "7",
                                    "elozoleg_idotartam": "4"
                                },
                                {
                                    "SZOBA_FK": "188",
                                    "FOGLALAS_PK": "747",
                                    "aktualis_idotartam": "3",
                                    "elozoleg_idotartam": "7"
                                },
                                {
                                    "SZOBA_FK": "188",
                                    "FOGLALAS_PK": "912",
                                    "aktualis_idotartam": "1",
                                    "elozoleg_idotartam": "3"
                                },
                                {
                                    "SZOBA_FK": "188",
                                    "FOGLALAS_PK": "1030",
                                    "aktualis_idotartam": "4",
                                    "elozoleg_idotartam": "1"
                                },
                                {
                                    "SZOBA_FK": "188",
                                    "FOGLALAS_PK": "1390",
                                    "aktualis_idotartam": "5",
                                    "elozoleg_idotartam": "4"
                                },
                                {
                                    "SZOBA_FK": "189",
                                    "FOGLALAS_PK": "699",
                                    "aktualis_idotartam": "2",
                                    "elozoleg_idotartam": "0"
                                },
                                {
                                    "SZOBA_FK": "189",
                                    "FOGLALAS_PK": "753",
                                    "aktualis_idotartam": "1",
                                    "elozoleg_idotartam": "2"
                                },
                                {
                                    "SZOBA_FK": "189",
                                    "FOGLALAS_PK": "1204",
                                    "aktualis_idotartam": "2",
                                    "elozoleg_idotartam": "1"
                                },
                                {
                                    "SZOBA_FK": "189",
                                    "FOGLALAS_PK": "1449",
                                    "aktualis_idotartam": "2",
                                    "elozoleg_idotartam": "2"
                                },
                                {
                                    "SZOBA_FK": "189",
                                    "FOGLALAS_PK": "1576",
                                    "aktualis_idotartam": "3",
                                    "elozoleg_idotartam": "2"
                                },
                                {
                                    "SZOBA_FK": "190",
                                    "FOGLALAS_PK": "600",
                                    "aktualis_idotartam": "7",
                                    "elozoleg_idotartam": "0"
                                },
                                {
                                    "SZOBA_FK": "190",
                                    "FOGLALAS_PK": "774",
                                    "aktualis_idotartam": "5",
                                    "elozoleg_idotartam": "7"
                                },
                                {
                                    "SZOBA_FK": "190",
                                    "FOGLALAS_PK": "989",
                                    "aktualis_idotartam": "1",
                                    "elozoleg_idotartam": "5"
                                },
                                {
                                    "SZOBA_FK": "190",
                                    "FOGLALAS_PK": "1017",
                                    "aktualis_idotartam": "1",
                                    "elozoleg_idotartam": "1"
                                },
                                {
                                    "SZOBA_FK": "190",
                                    "FOGLALAS_PK": "1517",
                                    "aktualis_idotartam": "5",
                                    "elozoleg_idotartam": "1"
                                },
                                {
                                    "SZOBA_FK": "191",
                                    "FOGLALAS_PK": "1039",
                                    "aktualis_idotartam": "6",
                                    "elozoleg_idotartam": "0"
                                },
                                {
                                    "SZOBA_FK": "191",
                                    "FOGLALAS_PK": "1302",
                                    "aktualis_idotartam": "1",
                                    "elozoleg_idotartam": "6"
                                },
                                {
                                    "SZOBA_FK": "191",
                                    "FOGLALAS_PK": "1323",
                                    "aktualis_idotartam": "7",
                                    "elozoleg_idotartam": "1"
                                },
                                {
                                    "SZOBA_FK": "191",
                                    "FOGLALAS_PK": "1502",
                                    "aktualis_idotartam": "2",
                                    "elozoleg_idotartam": "7"
                                },
                                {
                                    "SZOBA_FK": "191",
                                    "FOGLALAS_PK": "1508",
                                    "aktualis_idotartam": "7",
                                    "elozoleg_idotartam": "2"
                                },
                                {
                                    "SZOBA_FK": "192",
                                    "FOGLALAS_PK": "680",
                                    "aktualis_idotartam": "4",
                                    "elozoleg_idotartam": "0"
                                },
                                {
                                    "SZOBA_FK": "192",
                                    "FOGLALAS_PK": "903",
                                    "aktualis_idotartam": "7",
                                    "elozoleg_idotartam": "4"
                                },
                                {
                                    "SZOBA_FK": "193",
                                    "FOGLALAS_PK": "634",
                                    "aktualis_idotartam": "6",
                                    "elozoleg_idotartam": "0"
                                },
                                {
                                    "SZOBA_FK": "193",
                                    "FOGLALAS_PK": "675",
                                    "aktualis_idotartam": "2",
                                    "elozoleg_idotartam": "6"
                                },
                                {
                                    "SZOBA_FK": "193",
                                    "FOGLALAS_PK": "835",
                                    "aktualis_idotartam": "2",
                                    "elozoleg_idotartam": "2"
                                },
                                {
                                    "SZOBA_FK": "193",
                                    "FOGLALAS_PK": "926",
                                    "aktualis_idotartam": "1",
                                    "elozoleg_idotartam": "2"
                                },
                                {
                                    "SZOBA_FK": "193",
                                    "FOGLALAS_PK": "977",
                                    "aktualis_idotartam": "2",
                                    "elozoleg_idotartam": "1"
                                },
                                {
                                    "SZOBA_FK": "193",
                                    "FOGLALAS_PK": "1043",
                                    "aktualis_idotartam": "6",
                                    "elozoleg_idotartam": "2"
                                },
                                {
                                    "SZOBA_FK": "193",
                                    "FOGLALAS_PK": "1238",
                                    "aktualis_idotartam": "6",
                                    "elozoleg_idotartam": "6"
                                },
                                {
                                    "SZOBA_FK": "194",
                                    "FOGLALAS_PK": "1095",
                                    "aktualis_idotartam": "5",
                                    "elozoleg_idotartam": "0"
                                },
                                {
                                    "SZOBA_FK": "195",
                                    "FOGLALAS_PK": "721",
                                    "aktualis_idotartam": "4",
                                    "elozoleg_idotartam": "0"
                                },
                                {
                                    "SZOBA_FK": "195",
                                    "FOGLALAS_PK": "842",
                                    "aktualis_idotartam": "4",
                                    "elozoleg_idotartam": "4"
                                },
                                {
                                    "SZOBA_FK": "195",
                                    "FOGLALAS_PK": "1074",
                                    "aktualis_idotartam": "7",
                                    "elozoleg_idotartam": "4"
                                },
                                {
                                    "SZOBA_FK": "195",
                                    "FOGLALAS_PK": "1184",
                                    "aktualis_idotartam": "5",
                                    "elozoleg_idotartam": "7"
                                },
                                {
                                    "SZOBA_FK": "195",
                                    "FOGLALAS_PK": "1473",
                                    "aktualis_idotartam": "7",
                                    "elozoleg_idotartam": "5"
                                },
                                {
                                    "SZOBA_FK": "195",
                                    "FOGLALAS_PK": "1484",
                                    "aktualis_idotartam": "1",
                                    "elozoleg_idotartam": "7"
                                },
                                {
                                    "SZOBA_FK": "196",
                                    "FOGLALAS_PK": "673",
                                    "aktualis_idotartam": "5",
                                    "elozoleg_idotartam": "0"
                                },
                                {
                                    "SZOBA_FK": "196",
                                    "FOGLALAS_PK": "952",
                                    "aktualis_idotartam": "3",
                                    "elozoleg_idotartam": "5"
                                },
                                {
                                    "SZOBA_FK": "196",
                                    "FOGLALAS_PK": "1314",
                                    "aktualis_idotartam": "5",
                                    "elozoleg_idotartam": "3"
                                },
                                {
                                    "SZOBA_FK": "196",
                                    "FOGLALAS_PK": "1340",
                                    "aktualis_idotartam": "5",
                                    "elozoleg_idotartam": "5"
                                },
                                {
                                    "SZOBA_FK": "197",
                                    "FOGLALAS_PK": "764",
                                    "aktualis_idotartam": "7",
                                    "elozoleg_idotartam": "0"
                                },
                                {
                                    "SZOBA_FK": "197",
                                    "FOGLALAS_PK": "993",
                                    "aktualis_idotartam": "7",
                                    "elozoleg_idotartam": "7"
                                },
                                {
                                    "SZOBA_FK": "197",
                                    "FOGLALAS_PK": "1091",
                                    "aktualis_idotartam": "7",
                                    "elozoleg_idotartam": "7"
                                },
                                {
                                    "SZOBA_FK": "197",
                                    "FOGLALAS_PK": "1172",
                                    "aktualis_idotartam": "7",
                                    "elozoleg_idotartam": "7"
                                },
                                {
                                    "SZOBA_FK": "197",
                                    "FOGLALAS_PK": "1304",
                                    "aktualis_idotartam": "7",
                                    "elozoleg_idotartam": "7"
                                },
                                {
                                    "SZOBA_FK": "197",
                                    "FOGLALAS_PK": "1387",
                                    "aktualis_idotartam": "3",
                                    "elozoleg_idotartam": "7"
                                },
                                {
                                    "SZOBA_FK": "198",
                                    "FOGLALAS_PK": "978",
                                    "aktualis_idotartam": "1",
                                    "elozoleg_idotartam": "0"
                                },
                                {
                                    "SZOBA_FK": "198",
                                    "FOGLALAS_PK": "1011",
                                    "aktualis_idotartam": "7",
                                    "elozoleg_idotartam": "1"
                                },
                                {
                                    "SZOBA_FK": "198",
                                    "FOGLALAS_PK": "1065",
                                    "aktualis_idotartam": "3",
                                    "elozoleg_idotartam": "7"
                                },
                                {
                                    "SZOBA_FK": "198",
                                    "FOGLALAS_PK": "1116",
                                    "aktualis_idotartam": "1",
                                    "elozoleg_idotartam": "3"
                                },
                                {
                                    "SZOBA_FK": "198",
                                    "FOGLALAS_PK": "1138",
                                    "aktualis_idotartam": "5",
                                    "elozoleg_idotartam": "1"
                                },
                                {
                                    "SZOBA_FK": "198",
                                    "FOGLALAS_PK": "1161",
                                    "aktualis_idotartam": "5",
                                    "elozoleg_idotartam": "5"
                                },
                                {
                                    "SZOBA_FK": "198",
                                    "FOGLALAS_PK": "1216",
                                    "aktualis_idotartam": "7",
                                    "elozoleg_idotartam": "5"
                                },
                                {
                                    "SZOBA_FK": "198",
                                    "FOGLALAS_PK": "1420",
                                    "aktualis_idotartam": "5",
                                    "elozoleg_idotartam": "7"
                                }
                            ]
                        },
                        "text/html": [
                            "<table>",
                            "<tr><th>SZOBA_FK</th><th>FOGLALAS_PK</th><th>aktualis_idotartam</th><th>elozoleg_idotartam</th></tr>",
                            "<tr><td>1</td><td>620</td><td>5</td><td>0</td></tr>",
                            "<tr><td>1</td><td>738</td><td>7</td><td>5</td></tr>",
                            "<tr><td>1</td><td>803</td><td>4</td><td>7</td></tr>",
                            "<tr><td>1</td><td>949</td><td>1</td><td>4</td></tr>",
                            "<tr><td>1</td><td>1137</td><td>2</td><td>1</td></tr>",
                            "<tr><td>1</td><td>1152</td><td>1</td><td>2</td></tr>",
                            "<tr><td>1</td><td>1274</td><td>1</td><td>1</td></tr>",
                            "<tr><td>1</td><td>1334</td><td>4</td><td>1</td></tr>",
                            "<tr><td>2</td><td>828</td><td>3</td><td>0</td></tr>",
                            "<tr><td>2</td><td>1051</td><td>1</td><td>3</td></tr>",
                            "<tr><td>2</td><td>1069</td><td>7</td><td>1</td></tr>",
                            "<tr><td>2</td><td>1311</td><td>7</td><td>7</td></tr>",
                            "<tr><td>3</td><td>629</td><td>4</td><td>0</td></tr>",
                            "<tr><td>3</td><td>666</td><td>6</td><td>4</td></tr>",
                            "<tr><td>3</td><td>788</td><td>6</td><td>6</td></tr>",
                            "<tr><td>3</td><td>1038</td><td>3</td><td>6</td></tr>",
                            "<tr><td>3</td><td>1110</td><td>7</td><td>3</td></tr>",
                            "<tr><td>3</td><td>1151</td><td>1</td><td>7</td></tr>",
                            "<tr><td>3</td><td>1434</td><td>5</td><td>1</td></tr>",
                            "<tr><td>3</td><td>1544</td><td>5</td><td>5</td></tr>",
                            "<tr><td>4</td><td>651</td><td>7</td><td>0</td></tr>",
                            "<tr><td>4</td><td>946</td><td>5</td><td>7</td></tr>",
                            "<tr><td>4</td><td>1001</td><td>7</td><td>5</td></tr>",
                            "<tr><td>4</td><td>1127</td><td>3</td><td>7</td></tr>",
                            "<tr><td>4</td><td>1132</td><td>6</td><td>3</td></tr>",
                            "<tr><td>4</td><td>1492</td><td>6</td><td>6</td></tr>",
                            "<tr><td>5</td><td>564</td><td>2</td><td>0</td></tr>",
                            "<tr><td>5</td><td>965</td><td>7</td><td>2</td></tr>",
                            "<tr><td>5</td><td>1073</td><td>5</td><td>7</td></tr>",
                            "<tr><td>5</td><td>1257</td><td>3</td><td>5</td></tr>",
                            "<tr><td>6</td><td>560</td><td>6</td><td>0</td></tr>",
                            "<tr><td>6</td><td>772</td><td>6</td><td>6</td></tr>",
                            "<tr><td>6</td><td>850</td><td>2</td><td>6</td></tr>",
                            "<tr><td>6</td><td>873</td><td>3</td><td>2</td></tr>",
                            "<tr><td>6</td><td>990</td><td>4</td><td>3</td></tr>",
                            "<tr><td>6</td><td>1099</td><td>4</td><td>4</td></tr>",
                            "<tr><td>7</td><td>562</td><td>4</td><td>0</td></tr>",
                            "<tr><td>7</td><td>759</td><td>7</td><td>4</td></tr>",
                            "<tr><td>7</td><td>1131</td><td>1</td><td>7</td></tr>",
                            "<tr><td>7</td><td>1175</td><td>4</td><td>1</td></tr>",
                            "<tr><td>7</td><td>1182</td><td>4</td><td>4</td></tr>",
                            "<tr><td>7</td><td>1252</td><td>2</td><td>4</td></tr>",
                            "<tr><td>8</td><td>694</td><td>4</td><td>0</td></tr>",
                            "<tr><td>8</td><td>818</td><td>4</td><td>4</td></tr>",
                            "<tr><td>8</td><td>832</td><td>4</td><td>4</td></tr>",
                            "<tr><td>8</td><td>882</td><td>1</td><td>4</td></tr>",
                            "<tr><td>8</td><td>947</td><td>3</td><td>1</td></tr>",
                            "<tr><td>9</td><td>609</td><td>2</td><td>0</td></tr>",
                            "<tr><td>9</td><td>1157</td><td>6</td><td>2</td></tr>",
                            "<tr><td>9</td><td>1220</td><td>3</td><td>6</td></tr>",
                            "<tr><td>9</td><td>1260</td><td>6</td><td>3</td></tr>",
                            "<tr><td>9</td><td>1423</td><td>3</td><td>6</td></tr>",
                            "<tr><td>9</td><td>1537</td><td>3</td><td>3</td></tr>",
                            "<tr><td>10</td><td>569</td><td>3</td><td>0</td></tr>",
                            "<tr><td>10</td><td>790</td><td>5</td><td>3</td></tr>",
                            "<tr><td>10</td><td>795</td><td>4</td><td>5</td></tr>",
                            "<tr><td>10</td><td>1319</td><td>6</td><td>4</td></tr>",
                            "<tr><td>11</td><td>918</td><td>6</td><td>0</td></tr>",
                            "<tr><td>11</td><td>1123</td><td>5</td><td>6</td></tr>",
                            "<tr><td>11</td><td>1236</td><td>1</td><td>5</td></tr>",
                            "<tr><td>11</td><td>1523</td><td>1</td><td>1</td></tr>",
                            "<tr><td>12</td><td>697</td><td>2</td><td>0</td></tr>",
                            "<tr><td>12</td><td>775</td><td>4</td><td>2</td></tr>",
                            "<tr><td>12</td><td>876</td><td>7</td><td>4</td></tr>",
                            "<tr><td>12</td><td>951</td><td>3</td><td>7</td></tr>",
                            "<tr><td>12</td><td>970</td><td>2</td><td>3</td></tr>",
                            "<tr><td>12</td><td>1020</td><td>5</td><td>2</td></tr>",
                            "<tr><td>12</td><td>1140</td><td>3</td><td>5</td></tr>",
                            "<tr><td>12</td><td>1164</td><td>5</td><td>3</td></tr>",
                            "<tr><td>12</td><td>1430</td><td>2</td><td>5</td></tr>",
                            "<tr><td>13</td><td>763</td><td>4</td><td>0</td></tr>",
                            "<tr><td>13</td><td>1044</td><td>6</td><td>4</td></tr>",
                            "<tr><td>13</td><td>1347</td><td>3</td><td>6</td></tr>",
                            "<tr><td>13</td><td>1469</td><td>2</td><td>3</td></tr>",
                            "<tr><td>14</td><td>663</td><td>1</td><td>0</td></tr>",
                            "<tr><td>14</td><td>813</td><td>3</td><td>1</td></tr>",
                            "<tr><td>14</td><td>1542</td><td>4</td><td>3</td></tr>",
                            "<tr><td>15</td><td>791</td><td>5</td><td>0</td></tr>",
                            "<tr><td>15</td><td>1028</td><td>2</td><td>5</td></tr>",
                            "<tr><td>15</td><td>1129</td><td>4</td><td>2</td></tr>",
                            "<tr><td>15</td><td>1244</td><td>1</td><td>4</td></tr>",
                            "<tr><td>15</td><td>1418</td><td>4</td><td>1</td></tr>",
                            "<tr><td>15</td><td>1442</td><td>3</td><td>4</td></tr>",
                            "<tr><td>16</td><td>687</td><td>3</td><td>0</td></tr>",
                            "<tr><td>16</td><td>856</td><td>6</td><td>3</td></tr>",
                            "<tr><td>16</td><td>896</td><td>1</td><td>6</td></tr>",
                            "<tr><td>16</td><td>973</td><td>1</td><td>1</td></tr>",
                            "<tr><td>16</td><td>1498</td><td>7</td><td>1</td></tr>",
                            "<tr><td>17</td><td>602</td><td>6</td><td>0</td></tr>",
                            "<tr><td>17</td><td>713</td><td>6</td><td>6</td></tr>",
                            "<tr><td>17</td><td>744</td><td>1</td><td>6</td></tr>",
                            "<tr><td>17</td><td>916</td><td>2</td><td>1</td></tr>",
                            "<tr><td>17</td><td>1316</td><td>5</td><td>2</td></tr>",
                            "<tr><td>17</td><td>1549</td><td>3</td><td>5</td></tr>",
                            "<tr><td>18</td><td>626</td><td>3</td><td>0</td></tr>",
                            "<tr><td>18</td><td>767</td><td>3</td><td>3</td></tr>",
                            "<tr><td>18</td><td>1035</td><td>6</td><td>3</td></tr>",
                            "<tr><td>18</td><td>1173</td><td>6</td><td>6</td></tr>",
                            "<tr><td>18</td><td>1198</td><td>4</td><td>6</td></tr>",
                            "<tr><td>18</td><td>1505</td><td>6</td><td>4</td></tr>",
                            "<tr><td>19</td><td>696</td><td>1</td><td>0</td></tr>",
                            "<tr><td>19</td><td>778</td><td>1</td><td>1</td></tr>",
                            "<tr><td>19</td><td>948</td><td>2</td><td>1</td></tr>",
                            "<tr><td>19</td><td>1139</td><td>7</td><td>2</td></tr>",
                            "<tr><td>19</td><td>1237</td><td>1</td><td>7</td></tr>",
                            "<tr><td>19</td><td>1533</td><td>1</td><td>1</td></tr>",
                            "<tr><td>20</td><td>755</td><td>6</td><td>0</td></tr>",
                            "<tr><td>20</td><td>820</td><td>1</td><td>6</td></tr>",
                            "<tr><td>20</td><td>1070</td><td>1</td><td>1</td></tr>",
                            "<tr><td>20</td><td>1106</td><td>2</td><td>1</td></tr>",
                            "<tr><td>20</td><td>1114</td><td>5</td><td>2</td></tr>",
                            "<tr><td>21</td><td>566</td><td>6</td><td>0</td></tr>",
                            "<tr><td>21</td><td>660</td><td>5</td><td>6</td></tr>",
                            "<tr><td>21</td><td>805</td><td>1</td><td>5</td></tr>",
                            "<tr><td>21</td><td>1212</td><td>6</td><td>1</td></tr>",
                            "<tr><td>22</td><td>906</td><td>1</td><td>0</td></tr>",
                            "<tr><td>22</td><td>1005</td><td>3</td><td>1</td></tr>",
                            "<tr><td>22</td><td>1130</td><td>1</td><td>3</td></tr>",
                            "<tr><td>22</td><td>1195</td><td>6</td><td>1</td></tr>",
                            "<tr><td>22</td><td>1206</td><td>7</td><td>6</td></tr>",
                            "<tr><td>22</td><td>1287</td><td>3</td><td>7</td></tr>",
                            "<tr><td>23</td><td>848</td><td>1</td><td>0</td></tr>",
                            "<tr><td>23</td><td>934</td><td>1</td><td>1</td></tr>",
                            "<tr><td>23</td><td>945</td><td>7</td><td>1</td></tr>",
                            "<tr><td>24</td><td>852</td><td>2</td><td>0</td></tr>",
                            "<tr><td>24</td><td>1167</td><td>1</td><td>2</td></tr>",
                            "<tr><td>24</td><td>1415</td><td>3</td><td>1</td></tr>",
                            "<tr><td>25</td><td>1052</td><td>3</td><td>0</td></tr>",
                            "<tr><td>25</td><td>1362</td><td>2</td><td>3</td></tr>",
                            "<tr><td>26</td><td>1158</td><td>2</td><td>0</td></tr>",
                            "<tr><td>26</td><td>1388</td><td>3</td><td>2</td></tr>",
                            "<tr><td>27</td><td>758</td><td>3</td><td>0</td></tr>",
                            "<tr><td>27</td><td>807</td><td>2</td><td>3</td></tr>",
                            "<tr><td>27</td><td>1031</td><td>2</td><td>2</td></tr>",
                            "<tr><td>27</td><td>1082</td><td>5</td><td>2</td></tr>",
                            "<tr><td>27</td><td>1275</td><td>6</td><td>5</td></tr>",
                            "<tr><td>27</td><td>1377</td><td>1</td><td>6</td></tr>",
                            "<tr><td>27</td><td>1476</td><td>1</td><td>1</td></tr>",
                            "<tr><td>28</td><td>725</td><td>5</td><td>0</td></tr>",
                            "<tr><td>28</td><td>872</td><td>5</td><td>5</td></tr>",
                            "<tr><td>28</td><td>886</td><td>4</td><td>5</td></tr>",
                            "<tr><td>28</td><td>901</td><td>4</td><td>4</td></tr>",
                            "<tr><td>28</td><td>1150</td><td>6</td><td>4</td></tr>",
                            "<tr><td>28</td><td>1459</td><td>2</td><td>6</td></tr>",
                            "<tr><td>29</td><td>611</td><td>5</td><td>0</td></tr>",
                            "<tr><td>29</td><td>894</td><td>1</td><td>5</td></tr>",
                            "<tr><td>29</td><td>1076</td><td>7</td><td>1</td></tr>",
                            "<tr><td>29</td><td>1185</td><td>5</td><td>7</td></tr>",
                            "<tr><td>29</td><td>1235</td><td>7</td><td>5</td></tr>",
                            "<tr><td>29</td><td>1568</td><td>7</td><td>7</td></tr>",
                            "<tr><td>30</td><td>604</td><td>2</td><td>0</td></tr>",
                            "<tr><td>30</td><td>1023</td><td>7</td><td>2</td></tr>",
                            "<tr><td>30</td><td>1136</td><td>5</td><td>7</td></tr>",
                            "<tr><td>31</td><td>598</td><td>2</td><td>0</td></tr>",
                            "<tr><td>31</td><td>606</td><td>1</td><td>2</td></tr>",
                            "<tr><td>31</td><td>728</td><td>4</td><td>1</td></tr>",
                            "<tr><td>32</td><td>920</td><td>4</td><td>0</td></tr>",
                            "<tr><td>33</td><td>624</td><td>6</td><td>0</td></tr>",
                            "<tr><td>33</td><td>1012</td><td>7</td><td>6</td></tr>",
                            "<tr><td>33</td><td>1053</td><td>1</td><td>7</td></tr>",
                            "<tr><td>33</td><td>1321</td><td>4</td><td>1</td></tr>",
                            "<tr><td>33</td><td>1344</td><td>5</td><td>4</td></tr>",
                            "<tr><td>33</td><td>1381</td><td>6</td><td>5</td></tr>",
                            "<tr><td>34</td><td>777</td><td>3</td><td>0</td></tr>",
                            "<tr><td>34</td><td>821</td><td>1</td><td>3</td></tr>",
                            "<tr><td>34</td><td>870</td><td>6</td><td>1</td></tr>",
                            "<tr><td>34</td><td>904</td><td>2</td><td>6</td></tr>",
                            "<tr><td>35</td><td>686</td><td>6</td><td>0</td></tr>",
                            "<tr><td>35</td><td>707</td><td>2</td><td>6</td></tr>",
                            "<tr><td>35</td><td>829</td><td>2</td><td>2</td></tr>",
                            "<tr><td>35</td><td>971</td><td>3</td><td>2</td></tr>",
                            "<tr><td>35</td><td>979</td><td>7</td><td>3</td></tr>",
                            "<tr><td>35</td><td>1411</td><td>1</td><td>7</td></tr>",
                            "<tr><td>35</td><td>1436</td><td>1</td><td>1</td></tr>",
                            "<tr><td>35</td><td>1480</td><td>37</td><td>1</td></tr>",
                            "<tr><td>35</td><td>1529</td><td>4</td><td>37</td></tr>",
                            "<tr><td>36</td><td>748</td><td>2</td><td>0</td></tr>",
                            "<tr><td>36</td><td>750</td><td>6</td><td>2</td></tr>",
                            "<tr><td>36</td><td>895</td><td>5</td><td>6</td></tr>",
                            "<tr><td>36</td><td>919</td><td>1</td><td>5</td></tr>",
                            "<tr><td>36</td><td>985</td><td>6</td><td>1</td></tr>",
                            "<tr><td>36</td><td>1003</td><td>4</td><td>6</td></tr>",
                            "<tr><td>37</td><td>688</td><td>2</td><td>0</td></tr>",
                            "<tr><td>37</td><td>705</td><td>4</td><td>2</td></tr>",
                            "<tr><td>37</td><td>1335</td><td>7</td><td>4</td></tr>",
                            "<tr><td>38</td><td>627</td><td>6</td><td>0</td></tr>",
                            "<tr><td>38</td><td>1033</td><td>2</td><td>6</td></tr>",
                            "<tr><td>38</td><td>1060</td><td>2</td><td>2</td></tr>",
                            "<tr><td>38</td><td>1078</td><td>7</td><td>2</td></tr>",
                            "<tr><td>38</td><td>1351</td><td>4</td><td>7</td></tr>",
                            "<tr><td>38</td><td>1416</td><td>5</td><td>4</td></tr>",
                            "<tr><td>38</td><td>1478</td><td>4</td><td>5</td></tr>",
                            "<tr><td>38</td><td>1556</td><td>6</td><td>4</td></tr>",
                            "<tr><td>39</td><td>601</td><td>6</td><td>0</td></tr>",
                            "<tr><td>39</td><td>899</td><td>6</td><td>6</td></tr>",
                            "<tr><td>39</td><td>1214</td><td>5</td><td>6</td></tr>",
                            "<tr><td>39</td><td>1380</td><td>5</td><td>5</td></tr>",
                            "<tr><td>39</td><td>1435</td><td>7</td><td>5</td></tr>",
                            "<tr><td>39</td><td>1454</td><td>1</td><td>7</td></tr>",
                            "<tr><td>39</td><td>1538</td><td>2</td><td>1</td></tr>",
                            "<tr><td>40</td><td>924</td><td>5</td><td>0</td></tr>",
                            "<tr><td>40</td><td>932</td><td>6</td><td>5</td></tr>",
                            "<tr><td>40</td><td>1018</td><td>5</td><td>6</td></tr>",
                            "<tr><td>40</td><td>1118</td><td>5</td><td>5</td></tr>",
                            "<tr><td>41</td><td>960</td><td>6</td><td>0</td></tr>",
                            "<tr><td>41</td><td>1144</td><td>1</td><td>6</td></tr>",
                            "<tr><td>42</td><td>561</td><td>4</td><td>0</td></tr>",
                            "<tr><td>42</td><td>590</td><td>5</td><td>4</td></tr>",
                            "<tr><td>42</td><td>770</td><td>3</td><td>5</td></tr>",
                            "<tr><td>42</td><td>851</td><td>7</td><td>3</td></tr>",
                            "<tr><td>42</td><td>1309</td><td>2</td><td>7</td></tr>",
                            "<tr><td>42</td><td>1444</td><td>6</td><td>2</td></tr>",
                            "<tr><td>43</td><td>670</td><td>4</td><td>0</td></tr>",
                            "<tr><td>43</td><td>1019</td><td>4</td><td>4</td></tr>",
                            "<tr><td>43</td><td>1088</td><td>2</td><td>4</td></tr>",
                            "<tr><td>43</td><td>1207</td><td>1</td><td>2</td></tr>",
                            "<tr><td>43</td><td>1227</td><td>5</td><td>1</td></tr>",
                            "<tr><td>43</td><td>1270</td><td>4</td><td>5</td></tr>",
                            "<tr><td>43</td><td>1524</td><td>1</td><td>4</td></tr>",
                            "<tr><td>43</td><td>1553</td><td>5</td><td>1</td></tr>",
                            "<tr><td>44</td><td>589</td><td>2</td><td>0</td></tr>",
                            "<tr><td>44</td><td>658</td><td>6</td><td>2</td></tr>",
                            "<tr><td>44</td><td>823</td><td>2</td><td>6</td></tr>",
                            "<tr><td>44</td><td>1295</td><td>2</td><td>2</td></tr>",
                            "<tr><td>44</td><td>1425</td><td>2</td><td>2</td></tr>",
                            "<tr><td>44</td><td>1552</td><td>2</td><td>2</td></tr>",
                            "<tr><td>45</td><td>800</td><td>5</td><td>0</td></tr>",
                            "<tr><td>45</td><td>802</td><td>7</td><td>5</td></tr>",
                            "<tr><td>45</td><td>846</td><td>3</td><td>7</td></tr>",
                            "<tr><td>45</td><td>1135</td><td>3</td><td>3</td></tr>",
                            "<tr><td>45</td><td>1303</td><td>2</td><td>3</td></tr>",
                            "<tr><td>46</td><td>752</td><td>5</td><td>0</td></tr>",
                            "<tr><td>46</td><td>1187</td><td>7</td><td>5</td></tr>",
                            "<tr><td>46</td><td>1291</td><td>3</td><td>7</td></tr>",
                            "<tr><td>46</td><td>1515</td><td>4</td><td>3</td></tr>",
                            "<tr><td>47</td><td>955</td><td>1</td><td>0</td></tr>",
                            "<tr><td>47</td><td>1056</td><td>7</td><td>1</td></tr>",
                            "<tr><td>48</td><td>603</td><td>3</td><td>0</td></tr>",
                            "<tr><td>48</td><td>628</td><td>2</td><td>3</td></tr>",
                            "<tr><td>48</td><td>824</td><td>2</td><td>2</td></tr>",
                            "<tr><td>48</td><td>914</td><td>5</td><td>2</td></tr>",
                            "<tr><td>48</td><td>986</td><td>5</td><td>5</td></tr>",
                            "<tr><td>48</td><td>1243</td><td>6</td><td>5</td></tr>",
                            "<tr><td>48</td><td>1546</td><td>3</td><td>6</td></tr>",
                            "<tr><td>48</td><td>1547</td><td>1</td><td>3</td></tr>",
                            "<tr><td>48</td><td>1581</td><td>5</td><td>1</td></tr>",
                            "<tr><td>49</td><td>793</td><td>6</td><td>0</td></tr>",
                            "<tr><td>49</td><td>826</td><td>4</td><td>6</td></tr>",
                            "<tr><td>49</td><td>888</td><td>7</td><td>4</td></tr>",
                            "<tr><td>49</td><td>1066</td><td>7</td><td>7</td></tr>",
                            "<tr><td>49</td><td>1200</td><td>7</td><td>7</td></tr>",
                            "<tr><td>49</td><td>1221</td><td>2</td><td>7</td></tr>",
                            "<tr><td>49</td><td>1536</td><td>6</td><td>2</td></tr>",
                            "<tr><td>50</td><td>787</td><td>3</td><td>0</td></tr>",
                            "<tr><td>50</td><td>1063</td><td>2</td><td>3</td></tr>",
                            "<tr><td>50</td><td>1224</td><td>1</td><td>2</td></tr>",
                            "<tr><td>50</td><td>1272</td><td>1</td><td>1</td></tr>",
                            "<tr><td>51</td><td>811</td><td>2</td><td>0</td></tr>",
                            "<tr><td>51</td><td>865</td><td>7</td><td>2</td></tr>",
                            "<tr><td>51</td><td>1165</td><td>5</td><td>7</td></tr>",
                            "<tr><td>51</td><td>1477</td><td>6</td><td>5</td></tr>",
                            "<tr><td>51</td><td>1550</td><td>1</td><td>6</td></tr>",
                            "<tr><td>52</td><td>822</td><td>7</td><td>0</td></tr>",
                            "<tr><td>52</td><td>1202</td><td>2</td><td>7</td></tr>",
                            "<tr><td>52</td><td>1258</td><td>5</td><td>2</td></tr>",
                            "<tr><td>52</td><td>1431</td><td>5</td><td>5</td></tr>",
                            "<tr><td>52</td><td>1534</td><td>5</td><td>5</td></tr>",
                            "<tr><td>53</td><td>855</td><td>1</td><td>0</td></tr>",
                            "<tr><td>53</td><td>987</td><td>4</td><td>1</td></tr>",
                            "<tr><td>54</td><td>622</td><td>7</td><td>0</td></tr>",
                            "<tr><td>54</td><td>642</td><td>5</td><td>7</td></tr>",
                            "<tr><td>54</td><td>668</td><td>1</td><td>5</td></tr>",
                            "<tr><td>54</td><td>889</td><td>2</td><td>1</td></tr>",
                            "<tr><td>54</td><td>1096</td><td>4</td><td>2</td></tr>",
                            "<tr><td>54</td><td>1328</td><td>4</td><td>4</td></tr>",
                            "<tr><td>55</td><td>734</td><td>6</td><td>0</td></tr>",
                            "<tr><td>55</td><td>1086</td><td>5</td><td>6</td></tr>",
                            "<tr><td>55</td><td>1163</td><td>2</td><td>5</td></tr>",
                            "<tr><td>55</td><td>1232</td><td>7</td><td>2</td></tr>",
                            "<tr><td>55</td><td>1327</td><td>6</td><td>7</td></tr>",
                            "<tr><td>55</td><td>1386</td><td>2</td><td>6</td></tr>",
                            "<tr><td>55</td><td>1512</td><td>1</td><td>2</td></tr>",
                            "<tr><td>55</td><td>1520</td><td>1</td><td>1</td></tr>",
                            "<tr><td>56</td><td>838</td><td>2</td><td>0</td></tr>",
                            "<tr><td>56</td><td>935</td><td>4</td><td>2</td></tr>",
                            "<tr><td>57</td><td>1348</td><td>1</td><td>0</td></tr>",
                            "<tr><td>57</td><td>1389</td><td>1</td><td>1</td></tr>",
                            "<tr><td>57</td><td>1466</td><td>7</td><td>1</td></tr>",
                            "<tr><td>57</td><td>1504</td><td>4</td><td>7</td></tr>",
                            "<tr><td>58</td><td>719</td><td>3</td><td>0</td></tr>",
                            "<tr><td>58</td><td>773</td><td>2</td><td>3</td></tr>",
                            "<tr><td>58</td><td>883</td><td>5</td><td>2</td></tr>",
                            "<tr><td>58</td><td>1113</td><td>3</td><td>5</td></tr>",
                            "<tr><td>58</td><td>1186</td><td>6</td><td>3</td></tr>",
                            "<tr><td>58</td><td>1208</td><td>6</td><td>6</td></tr>",
                            "<tr><td>58</td><td>1255</td><td>7</td><td>6</td></tr>",
                            "<tr><td>58</td><td>1261</td><td>6</td><td>7</td></tr>",
                            "<tr><td>58</td><td>1285</td><td>7</td><td>6</td></tr>",
                            "<tr><td>58</td><td>1293</td><td>3</td><td>7</td></tr>",
                            "<tr><td>58</td><td>1307</td><td>6</td><td>3</td></tr>",
                            "<tr><td>58</td><td>1322</td><td>3</td><td>6</td></tr>",
                            "<tr><td>58</td><td>1451</td><td>6</td><td>3</td></tr>",
                            "<tr><td>59</td><td>1080</td><td>1</td><td>0</td></tr>",
                            "<tr><td>59</td><td>1084</td><td>2</td><td>1</td></tr>",
                            "<tr><td>59</td><td>1170</td><td>5</td><td>2</td></tr>",
                            "<tr><td>59</td><td>1191</td><td>6</td><td>5</td></tr>",
                            "<tr><td>59</td><td>1239</td><td>2</td><td>6</td></tr>",
                            "<tr><td>59</td><td>1288</td><td>3</td><td>2</td></tr>",
                            "<tr><td>59</td><td>1573</td><td>1</td><td>3</td></tr>",
                            "<tr><td>60</td><td>676</td><td>2</td><td>0</td></tr>",
                            "<tr><td>61</td><td>701</td><td>2</td><td>0</td></tr>",
                            "<tr><td>61</td><td>756</td><td>6</td><td>2</td></tr>",
                            "<tr><td>61</td><td>1148</td><td>3</td><td>6</td></tr>",
                            "<tr><td>61</td><td>1218</td><td>2</td><td>3</td></tr>",
                            "<tr><td>61</td><td>1496</td><td>7</td><td>2</td></tr>",
                            "<tr><td>62</td><td>702</td><td>5</td><td>0</td></tr>",
                            "<tr><td>62</td><td>936</td><td>3</td><td>5</td></tr>",
                            "<tr><td>62</td><td>938</td><td>1</td><td>3</td></tr>",
                            "<tr><td>62</td><td>1081</td><td>7</td><td>1</td></tr>",
                            "<tr><td>62</td><td>1426</td><td>4</td><td>7</td></tr>",
                            "<tr><td>63</td><td>625</td><td>3</td><td>0</td></tr>",
                            "<tr><td>63</td><td>769</td><td>5</td><td>3</td></tr>",
                            "<tr><td>63</td><td>845</td><td>1</td><td>5</td></tr>",
                            "<tr><td>63</td><td>891</td><td>6</td><td>1</td></tr>",
                            "<tr><td>64</td><td>875</td><td>2</td><td>0</td></tr>",
                            "<tr><td>64</td><td>1122</td><td>4</td><td>2</td></tr>",
                            "<tr><td>64</td><td>1233</td><td>7</td><td>4</td></tr>",
                            "<tr><td>64</td><td>1446</td><td>6</td><td>7</td></tr>",
                            "<tr><td>64</td><td>1465</td><td>4</td><td>6</td></tr>",
                            "<tr><td>64</td><td>1582</td><td>1</td><td>4</td></tr>",
                            "<tr><td>65</td><td>650</td><td>6</td><td>0</td></tr>",
                            "<tr><td>66</td><td>736</td><td>3</td><td>0</td></tr>",
                            "<tr><td>66</td><td>950</td><td>3</td><td>3</td></tr>",
                            "<tr><td>66</td><td>1234</td><td>3</td><td>3</td></tr>",
                            "<tr><td>66</td><td>1264</td><td>4</td><td>3</td></tr>",
                            "<tr><td>67</td><td>638</td><td>5</td><td>0</td></tr>",
                            "<tr><td>67</td><td>645</td><td>6</td><td>5</td></tr>",
                            "<tr><td>67</td><td>874</td><td>6</td><td>6</td></tr>",
                            "<tr><td>67</td><td>1382</td><td>1</td><td>6</td></tr>",
                            "<tr><td>67</td><td>1580</td><td>5</td><td>1</td></tr>",
                            "<tr><td>67</td><td>1584</td><td>1</td><td>5</td></tr>",
                            "<tr><td>68</td><td>563</td><td>5</td><td>0</td></tr>",
                            "<tr><td>68</td><td>1027</td><td>7</td><td>5</td></tr>",
                            "<tr><td>68</td><td>1324</td><td>4</td><td>7</td></tr>",
                            "<tr><td>69</td><td>885</td><td>1</td><td>0</td></tr>",
                            "<tr><td>69</td><td>1055</td><td>5</td><td>1</td></tr>",
                            "<tr><td>69</td><td>1225</td><td>5</td><td>5</td></tr>",
                            "<tr><td>69</td><td>1246</td><td>7</td><td>5</td></tr>",
                            "<tr><td>70</td><td>585</td><td>5</td><td>0</td></tr>",
                            "<tr><td>70</td><td>704</td><td>3</td><td>5</td></tr>",
                            "<tr><td>70</td><td>814</td><td>3</td><td>3</td></tr>",
                            "<tr><td>70</td><td>860</td><td>2</td><td>3</td></tr>",
                            "<tr><td>70</td><td>1006</td><td>3</td><td>2</td></tr>",
                            "<tr><td>70</td><td>1092</td><td>3</td><td>3</td></tr>",
                            "<tr><td>70</td><td>1126</td><td>3</td><td>3</td></tr>",
                            "<tr><td>70</td><td>1325</td><td>7</td><td>3</td></tr>",
                            "<tr><td>70</td><td>1333</td><td>6</td><td>7</td></tr>",
                            "<tr><td>70</td><td>1365</td><td>3</td><td>6</td></tr>",
                            "<tr><td>70</td><td>1457</td><td>7</td><td>3</td></tr>",
                            "<tr><td>71</td><td>681</td><td>3</td><td>0</td></tr>",
                            "<tr><td>71</td><td>712</td><td>1</td><td>3</td></tr>",
                            "<tr><td>71</td><td>1009</td><td>1</td><td>1</td></tr>",
                            "<tr><td>72</td><td>902</td><td>5</td><td>0</td></tr>",
                            "<tr><td>72</td><td>961</td><td>6</td><td>5</td></tr>",
                            "<tr><td>72</td><td>1318</td><td>2</td><td>6</td></tr>",
                            "<tr><td>72</td><td>1396</td><td>3</td><td>2</td></tr>",
                            "<tr><td>73</td><td>714</td><td>7</td><td>0</td></tr>",
                            "<tr><td>73</td><td>1000</td><td>4</td><td>7</td></tr>",
                            "<tr><td>73</td><td>1159</td><td>5</td><td>4</td></tr>",
                            "<tr><td>73</td><td>1331</td><td>4</td><td>5</td></tr>",
                            "<tr><td>74</td><td>595</td><td>7</td><td>0</td></tr>",
                            "<tr><td>74</td><td>797</td><td>5</td><td>7</td></tr>",
                            "<tr><td>74</td><td>830</td><td>1</td><td>5</td></tr>",
                            "<tr><td>74</td><td>847</td><td>3</td><td>1</td></tr>",
                            "<tr><td>74</td><td>877</td><td>4</td><td>3</td></tr>",
                            "<tr><td>74</td><td>940</td><td>5</td><td>4</td></tr>",
                            "<tr><td>74</td><td>963</td><td>1</td><td>5</td></tr>",
                            "<tr><td>74</td><td>1093</td><td>6</td><td>1</td></tr>",
                            "<tr><td>74</td><td>1179</td><td>7</td><td>6</td></tr>",
                            "<tr><td>75</td><td>1013</td><td>5</td><td>0</td></tr>",
                            "<tr><td>75</td><td>1412</td><td>2</td><td>5</td></tr>",
                            "<tr><td>75</td><td>1458</td><td>1</td><td>2</td></tr>",
                            "<tr><td>76</td><td>683</td><td>7</td><td>0</td></tr>",
                            "<tr><td>76</td><td>976</td><td>2</td><td>7</td></tr>",
                            "<tr><td>76</td><td>1557</td><td>3</td><td>2</td></tr>",
                            "<tr><td>77</td><td>593</td><td>3</td><td>0</td></tr>",
                            "<tr><td>77</td><td>698</td><td>4</td><td>3</td></tr>",
                            "<tr><td>77</td><td>982</td><td>3</td><td>4</td></tr>",
                            "<tr><td>77</td><td>1104</td><td>1</td><td>3</td></tr>",
                            "<tr><td>77</td><td>1439</td><td>6</td><td>1</td></tr>",
                            "<tr><td>77</td><td>1461</td><td>4</td><td>6</td></tr>",
                            "<tr><td>78</td><td>568</td><td>1</td><td>0</td></tr>",
                            "<tr><td>78</td><td>646</td><td>3</td><td>1</td></tr>",
                            "<tr><td>78</td><td>700</td><td>5</td><td>3</td></tr>",
                            "<tr><td>78</td><td>1268</td><td>2</td><td>5</td></tr>",
                            "<tr><td>78</td><td>1281</td><td>3</td><td>2</td></tr>",
                            "<tr><td>78</td><td>1577</td><td>7</td><td>3</td></tr>",
                            "<tr><td>79</td><td>583</td><td>6</td><td>0</td></tr>",
                            "<tr><td>79</td><td>1054</td><td>1</td><td>6</td></tr>",
                            "<tr><td>79</td><td>1229</td><td>7</td><td>1</td></tr>",
                            "<tr><td>79</td><td>1345</td><td>3</td><td>7</td></tr>",
                            "<tr><td>79</td><td>1447</td><td>4</td><td>3</td></tr>",
                            "<tr><td>80</td><td>667</td><td>6</td><td>0</td></tr>",
                            "<tr><td>80</td><td>887</td><td>6</td><td>6</td></tr>",
                            "<tr><td>80</td><td>929</td><td>2</td><td>6</td></tr>",
                            "<tr><td>80</td><td>983</td><td>6</td><td>2</td></tr>",
                            "<tr><td>80</td><td>1071</td><td>4</td><td>6</td></tr>",
                            "<tr><td>80</td><td>1279</td><td>5</td><td>4</td></tr>",
                            "<tr><td>80</td><td>1367</td><td>3</td><td>5</td></tr>",
                            "<tr><td>81</td><td>1366</td><td>5</td><td>0</td></tr>",
                            "<tr><td>81</td><td>1443</td><td>7</td><td>5</td></tr>",
                            "<tr><td>81</td><td>1464</td><td>7</td><td>7</td></tr>",
                            "<tr><td>81</td><td>1506</td><td>3</td><td>7</td></tr>",
                            "<tr><td>81</td><td>1562</td><td>3</td><td>3</td></tr>",
                            "<tr><td>82</td><td>862</td><td>4</td><td>0</td></tr>",
                            "<tr><td>82</td><td>871</td><td>5</td><td>4</td></tr>",
                            "<tr><td>82</td><td>997</td><td>6</td><td>5</td></tr>",
                            "<tr><td>82</td><td>1277</td><td>5</td><td>6</td></tr>",
                            "<tr><td>82</td><td>1341</td><td>2</td><td>5</td></tr>",
                            "<tr><td>82</td><td>1406</td><td>1</td><td>2</td></tr>",
                            "<tr><td>83</td><td>572</td><td>7</td><td>0</td></tr>",
                            "<tr><td>83</td><td>674</td><td>4</td><td>7</td></tr>",
                            "<tr><td>83</td><td>798</td><td>4</td><td>4</td></tr>",
                            "<tr><td>83</td><td>869</td><td>6</td><td>4</td></tr>",
                            "<tr><td>83</td><td>878</td><td>6</td><td>6</td></tr>",
                            "<tr><td>83</td><td>995</td><td>5</td><td>6</td></tr>",
                            "<tr><td>83</td><td>1119</td><td>6</td><td>5</td></tr>",
                            "<tr><td>83</td><td>1379</td><td>7</td><td>6</td></tr>",
                            "<tr><td>84</td><td>819</td><td>2</td><td>0</td></tr>",
                            "<tr><td>84</td><td>954</td><td>5</td><td>2</td></tr>",
                            "<tr><td>84</td><td>1376</td><td>5</td><td>5</td></tr>",
                            "<tr><td>84</td><td>1384</td><td>7</td><td>5</td></tr>",
                            "<tr><td>85</td><td>647</td><td>3</td><td>0</td></tr>",
                            "<tr><td>85</td><td>1059</td><td>3</td><td>3</td></tr>",
                            "<tr><td>85</td><td>1320</td><td>1</td><td>3</td></tr>",
                            "<tr><td>85</td><td>1513</td><td>7</td><td>1</td></tr>",
                            "<tr><td>86</td><td>859</td><td>1</td><td>0</td></tr>",
                            "<tr><td>86</td><td>1057</td><td>5</td><td>1</td></tr>",
                            "<tr><td>86</td><td>1079</td><td>4</td><td>5</td></tr>",
                            "<tr><td>86</td><td>1108</td><td>1</td><td>4</td></tr>",
                            "<tr><td>86</td><td>1453</td><td>1</td><td>1</td></tr>",
                            "<tr><td>87</td><td>558</td><td>4</td><td>0</td></tr>",
                            "<tr><td>87</td><td>844</td><td>1</td><td>4</td></tr>",
                            "<tr><td>87</td><td>1103</td><td>3</td><td>1</td></tr>",
                            "<tr><td>87</td><td>1349</td><td>5</td><td>3</td></tr>",
                            "<tr><td>87</td><td>1456</td><td>5</td><td>5</td></tr>",
                            "<tr><td>88</td><td>757</td><td>7</td><td>0</td></tr>",
                            "<tr><td>88</td><td>866</td><td>2</td><td>7</td></tr>",
                            "<tr><td>88</td><td>1196</td><td>3</td><td>2</td></tr>",
                            "<tr><td>88</td><td>1273</td><td>7</td><td>3</td></tr>",
                            "<tr><td>88</td><td>1300</td><td>3</td><td>7</td></tr>",
                            "<tr><td>88</td><td>1359</td><td>2</td><td>3</td></tr>",
                            "<tr><td>88</td><td>1548</td><td>7</td><td>2</td></tr>",
                            "<tr><td>88</td><td>1575</td><td>6</td><td>7</td></tr>",
                            "<tr><td>89</td><td>817</td><td>3</td><td>0</td></tr>",
                            "<tr><td>89</td><td>1037</td><td>7</td><td>3</td></tr>",
                            "<tr><td>89</td><td>1101</td><td>5</td><td>7</td></tr>",
                            "<tr><td>89</td><td>1189</td><td>6</td><td>5</td></tr>",
                            "<tr><td>89</td><td>1253</td><td>2</td><td>6</td></tr>",
                            "<tr><td>89</td><td>1269</td><td>2</td><td>2</td></tr>",
                            "<tr><td>89</td><td>1399</td><td>2</td><td>2</td></tr>",
                            "<tr><td>89</td><td>1521</td><td>7</td><td>2</td></tr>",
                            "<tr><td>90</td><td>729</td><td>2</td><td>0</td></tr>",
                            "<tr><td>90</td><td>1174</td><td>7</td><td>2</td></tr>",
                            "<tr><td>90</td><td>1299</td><td>6</td><td>7</td></tr>",
                            "<tr><td>90</td><td>1405</td><td>5</td><td>6</td></tr>",
                            "<tr><td>91</td><td>636</td><td>6</td><td>0</td></tr>",
                            "<tr><td>91</td><td>732</td><td>4</td><td>6</td></tr>",
                            "<tr><td>91</td><td>1213</td><td>3</td><td>4</td></tr>",
                            "<tr><td>91</td><td>1397</td><td>4</td><td>3</td></tr>",
                            "<tr><td>92</td><td>809</td><td>3</td><td>0</td></tr>",
                            "<tr><td>92</td><td>841</td><td>6</td><td>3</td></tr>",
                            "<tr><td>92</td><td>942</td><td>6</td><td>6</td></tr>",
                            "<tr><td>92</td><td>1016</td><td>2</td><td>6</td></tr>",
                            "<tr><td>92</td><td>1527</td><td>2</td><td>2</td></tr>",
                            "<tr><td>92</td><td>1555</td><td>4</td><td>2</td></tr>",
                            "<tr><td>93</td><td>741</td><td>7</td><td>0</td></tr>",
                            "<tr><td>93</td><td>1169</td><td>4</td><td>7</td></tr>",
                            "<tr><td>93</td><td>1217</td><td>1</td><td>4</td></tr>",
                            "<tr><td>93</td><td>1355</td><td>2</td><td>1</td></tr>",
                            "<tr><td>93</td><td>1391</td><td>4</td><td>2</td></tr>",
                            "<tr><td>94</td><td>616</td><td>4</td><td>0</td></tr>",
                            "<tr><td>94</td><td>665</td><td>7</td><td>4</td></tr>",
                            "<tr><td>94</td><td>727</td><td>3</td><td>7</td></tr>",
                            "<tr><td>94</td><td>975</td><td>5</td><td>3</td></tr>",
                            "<tr><td>94</td><td>1241</td><td>7</td><td>5</td></tr>",
                            "<tr><td>94</td><td>1305</td><td>2</td><td>7</td></tr>",
                            "<tr><td>94</td><td>1312</td><td>3</td><td>2</td></tr>",
                            "<tr><td>94</td><td>1368</td><td>1</td><td>3</td></tr>",
                            "<tr><td>94</td><td>1518</td><td>2</td><td>1</td></tr>",
                            "<tr><td>94</td><td>1564</td><td>7</td><td>2</td></tr>",
                            "<tr><td>95</td><td>656</td><td>7</td><td>0</td></tr>",
                            "<tr><td>95</td><td>1048</td><td>3</td><td>7</td></tr>",
                            "<tr><td>95</td><td>1097</td><td>4</td><td>3</td></tr>",
                            "<tr><td>95</td><td>1543</td><td>7</td><td>4</td></tr>",
                            "<tr><td>96</td><td>607</td><td>4</td><td>0</td></tr>",
                            "<tr><td>96</td><td>623</td><td>7</td><td>4</td></tr>",
                            "<tr><td>96</td><td>671</td><td>4</td><td>7</td></tr>",
                            "<tr><td>96</td><td>780</td><td>1</td><td>4</td></tr>",
                            "<tr><td>96</td><td>1378</td><td>3</td><td>1</td></tr>",
                            "<tr><td>96</td><td>1438</td><td>2</td><td>3</td></tr>",
                            "<tr><td>96</td><td>1569</td><td>7</td><td>2</td></tr>",
                            "<tr><td>97</td><td>635</td><td>3</td><td>0</td></tr>",
                            "<tr><td>97</td><td>718</td><td>7</td><td>3</td></tr>",
                            "<tr><td>97</td><td>726</td><td>4</td><td>7</td></tr>",
                            "<tr><td>97</td><td>836</td><td>2</td><td>4</td></tr>",
                            "<tr><td>97</td><td>1395</td><td>1</td><td>2</td></tr>",
                            "<tr><td>97</td><td>1417</td><td>7</td><td>1</td></tr>",
                            "<tr><td>97</td><td>1528</td><td>2</td><td>7</td></tr>",
                            "<tr><td>98</td><td>631</td><td>6</td><td>0</td></tr>",
                            "<tr><td>98</td><td>884</td><td>5</td><td>6</td></tr>",
                            "<tr><td>98</td><td>1050</td><td>6</td><td>5</td></tr>",
                            "<tr><td>98</td><td>1402</td><td>2</td><td>6</td></tr>",
                            "<tr><td>99</td><td>632</td><td>1</td><td>0</td></tr>",
                            "<tr><td>99</td><td>691</td><td>5</td><td>1</td></tr>",
                            "<tr><td>99</td><td>1072</td><td>1</td><td>5</td></tr>",
                            "<tr><td>99</td><td>1408</td><td>1</td><td>1</td></tr>",
                            "<tr><td>99</td><td>1486</td><td>5</td><td>1</td></tr>",
                            "<tr><td>100</td><td>597</td><td>1</td><td>0</td></tr>",
                            "<tr><td>100</td><td>637</td><td>5</td><td>1</td></tr>",
                            "<tr><td>100</td><td>1315</td><td>5</td><td>5</td></tr>",
                            "<tr><td>100</td><td>1482</td><td>7</td><td>5</td></tr>",
                            "<tr><td>101</td><td>715</td><td>3</td><td>0</td></tr>",
                            "<tr><td>101</td><td>1332</td><td>6</td><td>3</td></tr>",
                            "<tr><td>101</td><td>1516</td><td>4</td><td>6</td></tr>",
                            "<tr><td>102</td><td>689</td><td>5</td><td>0</td></tr>",
                            "<tr><td>102</td><td>1343</td><td>2</td><td>5</td></tr>",
                            "<tr><td>103</td><td>972</td><td>2</td><td>0</td></tr>",
                            "<tr><td>103</td><td>992</td><td>7</td><td>2</td></tr>",
                            "<tr><td>103</td><td>1398</td><td>1</td><td>7</td></tr>",
                            "<tr><td>103</td><td>1485</td><td>4</td><td>1</td></tr>",
                            "<tr><td>104</td><td>837</td><td>4</td><td>0</td></tr>",
                            "<tr><td>104</td><td>1180</td><td>1</td><td>4</td></tr>",
                            "<tr><td>104</td><td>1522</td><td>2</td><td>1</td></tr>",
                            "<tr><td>104</td><td>1532</td><td>3</td><td>2</td></tr>",
                            "<tr><td>105</td><td>618</td><td>1</td><td>0</td></tr>",
                            "<tr><td>105</td><td>1525</td><td>5</td><td>1</td></tr>",
                            "<tr><td>106</td><td>610</td><td>3</td><td>0</td></tr>",
                            "<tr><td>106</td><td>708</td><td>7</td><td>3</td></tr>",
                            "<tr><td>106</td><td>1228</td><td>7</td><td>7</td></tr>",
                            "<tr><td>106</td><td>1271</td><td>5</td><td>7</td></tr>",
                            "<tr><td>106</td><td>1372</td><td>7</td><td>5</td></tr>",
                            "<tr><td>106</td><td>1510</td><td>6</td><td>7</td></tr>",
                            "<tr><td>107</td><td>586</td><td>6</td><td>0</td></tr>",
                            "<tr><td>107</td><td>1250</td><td>4</td><td>6</td></tr>",
                            "<tr><td>107</td><td>1354</td><td>1</td><td>4</td></tr>",
                            "<tr><td>107</td><td>1452</td><td>6</td><td>1</td></tr>",
                            "<tr><td>107</td><td>1494</td><td>2</td><td>6</td></tr>",
                            "<tr><td>108</td><td>1102</td><td>1</td><td>0</td></tr>",
                            "<tr><td>108</td><td>1392</td><td>6</td><td>1</td></tr>",
                            "<tr><td>109</td><td>614</td><td>4</td><td>0</td></tr>",
                            "<tr><td>109</td><td>621</td><td>7</td><td>4</td></tr>",
                            "<tr><td>109</td><td>654</td><td>5</td><td>7</td></tr>",
                            "<tr><td>109</td><td>810</td><td>2</td><td>5</td></tr>",
                            "<tr><td>109</td><td>1083</td><td>1</td><td>2</td></tr>",
                            "<tr><td>109</td><td>1298</td><td>4</td><td>1</td></tr>",
                            "<tr><td>109</td><td>1560</td><td>1</td><td>4</td></tr>",
                            "<tr><td>110</td><td>685</td><td>1</td><td>0</td></tr>",
                            "<tr><td>110</td><td>931</td><td>5</td><td>1</td></tr>",
                            "<tr><td>110</td><td>964</td><td>6</td><td>5</td></tr>",
                            "<tr><td>110</td><td>1041</td><td>3</td><td>6</td></tr>",
                            "<tr><td>110</td><td>1109</td><td>5</td><td>3</td></tr>",
                            "<tr><td>110</td><td>1162</td><td>2</td><td>5</td></tr>",
                            "<tr><td>110</td><td>1424</td><td>1</td><td>2</td></tr>",
                            "<tr><td>110</td><td>1489</td><td>6</td><td>1</td></tr>",
                            "<tr><td>111</td><td>605</td><td>7</td><td>0</td></tr>",
                            "<tr><td>111</td><td>786</td><td>4</td><td>7</td></tr>",
                            "<tr><td>111</td><td>959</td><td>7</td><td>4</td></tr>",
                            "<tr><td>111</td><td>1296</td><td>3</td><td>7</td></tr>",
                            "<tr><td>111</td><td>1353</td><td>5</td><td>3</td></tr>",
                            "<tr><td>112</td><td>776</td><td>4</td><td>0</td></tr>",
                            "<tr><td>112</td><td>801</td><td>5</td><td>4</td></tr>",
                            "<tr><td>112</td><td>921</td><td>1</td><td>5</td></tr>",
                            "<tr><td>112</td><td>1124</td><td>6</td><td>1</td></tr>",
                            "<tr><td>112</td><td>1530</td><td>6</td><td>6</td></tr>",
                            "<tr><td>113</td><td>1029</td><td>5</td><td>0</td></tr>",
                            "<tr><td>113</td><td>1085</td><td>4</td><td>5</td></tr>",
                            "<tr><td>113</td><td>1263</td><td>1</td><td>4</td></tr>",
                            "<tr><td>113</td><td>1495</td><td>7</td><td>1</td></tr>",
                            "<tr><td>113</td><td>1499</td><td>2</td><td>7</td></tr>",
                            "<tr><td>114</td><td>737</td><td>2</td><td>0</td></tr>",
                            "<tr><td>114</td><td>827</td><td>7</td><td>2</td></tr>",
                            "<tr><td>114</td><td>966</td><td>6</td><td>7</td></tr>",
                            "<tr><td>114</td><td>1540</td><td>3</td><td>6</td></tr>",
                            "<tr><td>115</td><td>596</td><td>7</td><td>0</td></tr>",
                            "<tr><td>115</td><td>943</td><td>7</td><td>7</td></tr>",
                            "<tr><td>115</td><td>1121</td><td>7</td><td>7</td></tr>",
                            "<tr><td>115</td><td>1154</td><td>4</td><td>7</td></tr>",
                            "<tr><td>115</td><td>1352</td><td>3</td><td>4</td></tr>",
                            "<tr><td>115</td><td>1554</td><td>3</td><td>3</td></tr>",
                            "<tr><td>115</td><td>1566</td><td>1</td><td>3</td></tr>",
                            "<tr><td>116</td><td>1455</td><td>2</td><td>0</td></tr>",
                            "<tr><td>116</td><td>1501</td><td>4</td><td>2</td></tr>",
                            "<tr><td>117</td><td>612</td><td>2</td><td>0</td></tr>",
                            "<tr><td>117</td><td>617</td><td>3</td><td>2</td></tr>",
                            "<tr><td>117</td><td>953</td><td>5</td><td>3</td></tr>",
                            "<tr><td>117</td><td>962</td><td>4</td><td>5</td></tr>",
                            "<tr><td>117</td><td>1002</td><td>1</td><td>4</td></tr>",
                            "<tr><td>117</td><td>1192</td><td>2</td><td>1</td></tr>",
                            "<tr><td>117</td><td>1247</td><td>3</td><td>2</td></tr>",
                            "<tr><td>117</td><td>1468</td><td>7</td><td>3</td></tr>",
                            "<tr><td>118</td><td>716</td><td>1</td><td>0</td></tr>",
                            "<tr><td>118</td><td>864</td><td>6</td><td>1</td></tr>",
                            "<tr><td>118</td><td>994</td><td>7</td><td>6</td></tr>",
                            "<tr><td>118</td><td>996</td><td>3</td><td>7</td></tr>",
                            "<tr><td>118</td><td>1374</td><td>5</td><td>3</td></tr>",
                            "<tr><td>118</td><td>1472</td><td>6</td><td>5</td></tr>",
                            "<tr><td>118</td><td>1481</td><td>3</td><td>6</td></tr>",
                            "<tr><td>119</td><td>706</td><td>2</td><td>0</td></tr>",
                            "<tr><td>119</td><td>722</td><td>1</td><td>2</td></tr>",
                            "<tr><td>119</td><td>1026</td><td>3</td><td>1</td></tr>",
                            "<tr><td>119</td><td>1413</td><td>3</td><td>3</td></tr>",
                            "<tr><td>119</td><td>1488</td><td>3</td><td>3</td></tr>",
                            "<tr><td>120</td><td>762</td><td>3</td><td>0</td></tr>",
                            "<tr><td>120</td><td>998</td><td>3</td><td>3</td></tr>",
                            "<tr><td>120</td><td>1089</td><td>6</td><td>3</td></tr>",
                            "<tr><td>120</td><td>1339</td><td>6</td><td>6</td></tr>",
                            "<tr><td>120</td><td>1483</td><td>1</td><td>6</td></tr>",
                            "<tr><td>120</td><td>1493</td><td>7</td><td>1</td></tr>",
                            "<tr><td>121</td><td>735</td><td>6</td><td>0</td></tr>",
                            "<tr><td>121</td><td>739</td><td>6</td><td>6</td></tr>",
                            "<tr><td>121</td><td>858</td><td>5</td><td>6</td></tr>",
                            "<tr><td>121</td><td>1049</td><td>3</td><td>5</td></tr>",
                            "<tr><td>121</td><td>1128</td><td>4</td><td>3</td></tr>",
                            "<tr><td>121</td><td>1215</td><td>4</td><td>4</td></tr>",
                            "<tr><td>121</td><td>1373</td><td>5</td><td>4</td></tr>",
                            "<tr><td>121</td><td>1393</td><td>6</td><td>5</td></tr>",
                            "<tr><td>122</td><td>1007</td><td>2</td><td>0</td></tr>",
                            "<tr><td>122</td><td>1036</td><td>2</td><td>2</td></tr>",
                            "<tr><td>122</td><td>1062</td><td>3</td><td>2</td></tr>",
                            "<tr><td>122</td><td>1166</td><td>4</td><td>3</td></tr>",
                            "<tr><td>122</td><td>1209</td><td>1</td><td>4</td></tr>",
                            "<tr><td>122</td><td>1245</td><td>2</td><td>1</td></tr>",
                            "<tr><td>122</td><td>1337</td><td>2</td><td>2</td></tr>",
                            "<tr><td>122</td><td>1385</td><td>5</td><td>2</td></tr>",
                            "<tr><td>122</td><td>1440</td><td>3</td><td>5</td></tr>",
                            "<tr><td>123</td><td>587</td><td>7</td><td>0</td></tr>",
                            "<tr><td>123</td><td>923</td><td>4</td><td>7</td></tr>",
                            "<tr><td>123</td><td>967</td><td>5</td><td>4</td></tr>",
                            "<tr><td>123</td><td>1223</td><td>1</td><td>5</td></tr>",
                            "<tr><td>123</td><td>1282</td><td>6</td><td>1</td></tr>",
                            "<tr><td>124</td><td>861</td><td>1</td><td>0</td></tr>",
                            "<tr><td>124</td><td>1210</td><td>4</td><td>1</td></tr>",
                            "<tr><td>124</td><td>1330</td><td>7</td><td>4</td></tr>",
                            "<tr><td>124</td><td>1403</td><td>6</td><td>7</td></tr>",
                            "<tr><td>124</td><td>1419</td><td>3</td><td>6</td></tr>",
                            "<tr><td>124</td><td>1531</td><td>6</td><td>3</td></tr>",
                            "<tr><td>125</td><td>576</td><td>1</td><td>0</td></tr>",
                            "<tr><td>126</td><td>754</td><td>4</td><td>0</td></tr>",
                            "<tr><td>126</td><td>806</td><td>6</td><td>4</td></tr>",
                            "<tr><td>126</td><td>1134</td><td>1</td><td>6</td></tr>",
                            "<tr><td>126</td><td>1364</td><td>6</td><td>1</td></tr>",
                            "<tr><td>126</td><td>1428</td><td>7</td><td>6</td></tr>",
                            "<tr><td>126</td><td>1500</td><td>4</td><td>7</td></tr>",
                            "<tr><td>127</td><td>643</td><td>2</td><td>0</td></tr>",
                            "<tr><td>127</td><td>853</td><td>5</td><td>2</td></tr>",
                            "<tr><td>127</td><td>879</td><td>2</td><td>5</td></tr>",
                            "<tr><td>127</td><td>1034</td><td>6</td><td>2</td></tr>",
                            "<tr><td>127</td><td>1226</td><td>5</td><td>6</td></tr>",
                            "<tr><td>127</td><td>1286</td><td>1</td><td>5</td></tr>",
                            "<tr><td>127</td><td>1579</td><td>5</td><td>1</td></tr>",
                            "<tr><td>128</td><td>717</td><td>2</td><td>0</td></tr>",
                            "<tr><td>128</td><td>815</td><td>1</td><td>2</td></tr>",
                            "<tr><td>128</td><td>1290</td><td>1</td><td>1</td></tr>",
                            "<tr><td>128</td><td>1574</td><td>1</td><td>1</td></tr>",
                            "<tr><td>128</td><td>1583</td><td>4</td><td>1</td></tr>",
                            "<tr><td>129</td><td>723</td><td>7</td><td>0</td></tr>",
                            "<tr><td>129</td><td>1360</td><td>6</td><td>7</td></tr>",
                            "<tr><td>129</td><td>1445</td><td>7</td><td>6</td></tr>",
                            "<tr><td>129</td><td>1509</td><td>6</td><td>7</td></tr>",
                            "<tr><td>130</td><td>580</td><td>3</td><td>0</td></tr>",
                            "<tr><td>130</td><td>613</td><td>3</td><td>3</td></tr>",
                            "<tr><td>130</td><td>779</td><td>6</td><td>3</td></tr>",
                            "<tr><td>130</td><td>910</td><td>2</td><td>6</td></tr>",
                            "<tr><td>130</td><td>1040</td><td>1</td><td>2</td></tr>",
                            "<tr><td>130</td><td>1475</td><td>7</td><td>1</td></tr>",
                            "<tr><td>131</td><td>559</td><td>2</td><td>0</td></tr>",
                            "<tr><td>131</td><td>655</td><td>1</td><td>2</td></tr>",
                            "<tr><td>131</td><td>760</td><td>4</td><td>1</td></tr>",
                            "<tr><td>131</td><td>881</td><td>6</td><td>4</td></tr>",
                            "<tr><td>131</td><td>1474</td><td>5</td><td>6</td></tr>",
                            "<tr><td>132</td><td>619</td><td>7</td><td>0</td></tr>",
                            "<tr><td>132</td><td>999</td><td>6</td><td>7</td></tr>",
                            "<tr><td>132</td><td>1090</td><td>7</td><td>6</td></tr>",
                            "<tr><td>132</td><td>1111</td><td>3</td><td>7</td></tr>",
                            "<tr><td>132</td><td>1301</td><td>2</td><td>3</td></tr>",
                            "<tr><td>132</td><td>1519</td><td>2</td><td>2</td></tr>",
                            "<tr><td>133</td><td>909</td><td>4</td><td>0</td></tr>",
                            "<tr><td>133</td><td>988</td><td>3</td><td>4</td></tr>",
                            "<tr><td>133</td><td>1149</td><td>7</td><td>3</td></tr>",
                            "<tr><td>133</td><td>1306</td><td>3</td><td>7</td></tr>",
                            "<tr><td>133</td><td>1363</td><td>5</td><td>3</td></tr>",
                            "<tr><td>133</td><td>1409</td><td>1</td><td>5</td></tr>",
                            "<tr><td>134</td><td>1004</td><td>5</td><td>0</td></tr>",
                            "<tr><td>134</td><td>1024</td><td>1</td><td>5</td></tr>",
                            "<tr><td>134</td><td>1045</td><td>2</td><td>1</td></tr>",
                            "<tr><td>134</td><td>1178</td><td>7</td><td>2</td></tr>",
                            "<tr><td>134</td><td>1219</td><td>6</td><td>7</td></tr>",
                            "<tr><td>134</td><td>1535</td><td>7</td><td>6</td></tr>",
                            "<tr><td>135</td><td>724</td><td>6</td><td>0</td></tr>",
                            "<tr><td>135</td><td>849</td><td>7</td><td>6</td></tr>",
                            "<tr><td>135</td><td>1289</td><td>3</td><td>7</td></tr>",
                            "<tr><td>136</td><td>584</td><td>2</td><td>0</td></tr>",
                            "<tr><td>136</td><td>661</td><td>5</td><td>2</td></tr>",
                            "<tr><td>136</td><td>1046</td><td>4</td><td>5</td></tr>",
                            "<tr><td>137</td><td>582</td><td>3</td><td>0</td></tr>",
                            "<tr><td>137</td><td>649</td><td>5</td><td>3</td></tr>",
                            "<tr><td>137</td><td>657</td><td>6</td><td>5</td></tr>",
                            "<tr><td>137</td><td>1014</td><td>1</td><td>6</td></tr>",
                            "<tr><td>137</td><td>1201</td><td>6</td><td>1</td></tr>",
                            "<tr><td>137</td><td>1280</td><td>3</td><td>6</td></tr>",
                            "<tr><td>138</td><td>768</td><td>6</td><td>0</td></tr>",
                            "<tr><td>138</td><td>796</td><td>4</td><td>6</td></tr>",
                            "<tr><td>138</td><td>1256</td><td>4</td><td>4</td></tr>",
                            "<tr><td>138</td><td>1283</td><td>2</td><td>4</td></tr>",
                            "<tr><td>138</td><td>1294</td><td>5</td><td>2</td></tr>",
                            "<tr><td>138</td><td>1358</td><td>7</td><td>5</td></tr>",
                            "<tr><td>138</td><td>1370</td><td>5</td><td>7</td></tr>",
                            "<tr><td>139</td><td>579</td><td>2</td><td>0</td></tr>",
                            "<tr><td>139</td><td>745</td><td>1</td><td>2</td></tr>",
                            "<tr><td>139</td><td>751</td><td>4</td><td>1</td></tr>",
                            "<tr><td>139</td><td>1042</td><td>2</td><td>4</td></tr>",
                            "<tr><td>139</td><td>1064</td><td>6</td><td>2</td></tr>",
                            "<tr><td>139</td><td>1433</td><td>6</td><td>6</td></tr>",
                            "<tr><td>139</td><td>1450</td><td>7</td><td>6</td></tr>",
                            "<tr><td>140</td><td>733</td><td>1</td><td>0</td></tr>",
                            "<tr><td>140</td><td>915</td><td>2</td><td>1</td></tr>",
                            "<tr><td>140</td><td>1098</td><td>2</td><td>2</td></tr>",
                            "<tr><td>140</td><td>1156</td><td>3</td><td>2</td></tr>",
                            "<tr><td>140</td><td>1259</td><td>7</td><td>3</td></tr>",
                            "<tr><td>140</td><td>1357</td><td>4</td><td>7</td></tr>",
                            "<tr><td>140</td><td>1361</td><td>3</td><td>4</td></tr>",
                            "<tr><td>140</td><td>1371</td><td>1</td><td>3</td></tr>",
                            "<tr><td>141</td><td>565</td><td>6</td><td>0</td></tr>",
                            "<tr><td>141</td><td>761</td><td>3</td><td>6</td></tr>",
                            "<tr><td>141</td><td>784</td><td>7</td><td>3</td></tr>",
                            "<tr><td>141</td><td>908</td><td>2</td><td>7</td></tr>",
                            "<tr><td>141</td><td>1254</td><td>4</td><td>2</td></tr>",
                            "<tr><td>141</td><td>1401</td><td>6</td><td>4</td></tr>",
                            "<tr><td>142</td><td>1369</td><td>6</td><td>0</td></tr>",
                            "<tr><td>142</td><td>1545</td><td>3</td><td>6</td></tr>",
                            "<tr><td>143</td><td>980</td><td>3</td><td>0</td></tr>",
                            "<tr><td>143</td><td>1155</td><td>7</td><td>3</td></tr>",
                            "<tr><td>143</td><td>1193</td><td>6</td><td>7</td></tr>",
                            "<tr><td>143</td><td>1222</td><td>2</td><td>6</td></tr>",
                            "<tr><td>143</td><td>1313</td><td>4</td><td>2</td></tr>",
                            "<tr><td>143</td><td>1394</td><td>3</td><td>4</td></tr>",
                            "<tr><td>143</td><td>1448</td><td>6</td><td>3</td></tr>",
                            "<tr><td>144</td><td>581</td><td>4</td><td>0</td></tr>",
                            "<tr><td>144</td><td>1087</td><td>2</td><td>4</td></tr>",
                            "<tr><td>144</td><td>1199</td><td>7</td><td>2</td></tr>",
                            "<tr><td>144</td><td>1297</td><td>1</td><td>7</td></tr>",
                            "<tr><td>144</td><td>1572</td><td>2</td><td>1</td></tr>",
                            "<tr><td>145</td><td>703</td><td>4</td><td>0</td></tr>",
                            "<tr><td>145</td><td>1077</td><td>1</td><td>4</td></tr>",
                            "<tr><td>145</td><td>1120</td><td>1</td><td>1</td></tr>",
                            "<tr><td>145</td><td>1145</td><td>4</td><td>1</td></tr>",
                            "<tr><td>145</td><td>1338</td><td>2</td><td>4</td></tr>",
                            "<tr><td>145</td><td>1471</td><td>1</td><td>2</td></tr>",
                            "<tr><td>146</td><td>664</td><td>3</td><td>0</td></tr>",
                            "<tr><td>146</td><td>789</td><td>7</td><td>3</td></tr>",
                            "<tr><td>146</td><td>804</td><td>7</td><td>7</td></tr>",
                            "<tr><td>146</td><td>890</td><td>3</td><td>7</td></tr>",
                            "<tr><td>146</td><td>1032</td><td>5</td><td>3</td></tr>",
                            "<tr><td>146</td><td>1479</td><td>6</td><td>5</td></tr>",
                            "<tr><td>147</td><td>771</td><td>4</td><td>0</td></tr>",
                            "<tr><td>148</td><td>678</td><td>4</td><td>0</td></tr>",
                            "<tr><td>148</td><td>765</td><td>3</td><td>4</td></tr>",
                            "<tr><td>148</td><td>783</td><td>7</td><td>3</td></tr>",
                            "<tr><td>148</td><td>808</td><td>2</td><td>7</td></tr>",
                            "<tr><td>148</td><td>812</td><td>6</td><td>2</td></tr>",
                            "<tr><td>148</td><td>1578</td><td>7</td><td>6</td></tr>",
                            "<tr><td>149</td><td>591</td><td>1</td><td>0</td></tr>",
                            "<tr><td>149</td><td>652</td><td>1</td><td>1</td></tr>",
                            "<tr><td>149</td><td>833</td><td>2</td><td>1</td></tr>",
                            "<tr><td>149</td><td>834</td><td>5</td><td>2</td></tr>",
                            "<tr><td>149</td><td>843</td><td>4</td><td>5</td></tr>",
                            "<tr><td>149</td><td>1146</td><td>6</td><td>4</td></tr>",
                            "<tr><td>149</td><td>1514</td><td>5</td><td>6</td></tr>",
                            "<tr><td>150</td><td>641</td><td>3</td><td>0</td></tr>",
                            "<tr><td>150</td><td>1100</td><td>5</td><td>3</td></tr>",
                            "<tr><td>150</td><td>1105</td><td>1</td><td>5</td></tr>",
                            "<tr><td>150</td><td>1177</td><td>1</td><td>1</td></tr>",
                            "<tr><td>150</td><td>1203</td><td>4</td><td>1</td></tr>",
                            "<tr><td>150</td><td>1432</td><td>3</td><td>4</td></tr>",
                            "<tr><td>151</td><td>893</td><td>3</td><td>0</td></tr>",
                            "<tr><td>151</td><td>1058</td><td>3</td><td>3</td></tr>",
                            "<tr><td>151</td><td>1115</td><td>3</td><td>3</td></tr>",
                            "<tr><td>152</td><td>730</td><td>2</td><td>0</td></tr>",
                            "<tr><td>152</td><td>1160</td><td>7</td><td>2</td></tr>",
                            "<tr><td>152</td><td>1197</td><td>6</td><td>7</td></tr>",
                            "<tr><td>152</td><td>1558</td><td>2</td><td>6</td></tr>",
                            "<tr><td>153</td><td>594</td><td>3</td><td>0</td></tr>",
                            "<tr><td>153</td><td>969</td><td>6</td><td>3</td></tr>",
                            "<tr><td>153</td><td>1460</td><td>3</td><td>6</td></tr>",
                            "<tr><td>153</td><td>1470</td><td>5</td><td>3</td></tr>",
                            "<tr><td>153</td><td>1507</td><td>3</td><td>5</td></tr>",
                            "<tr><td>154</td><td>968</td><td>1</td><td>0</td></tr>",
                            "<tr><td>154</td><td>1061</td><td>7</td><td>1</td></tr>",
                            "<tr><td>154</td><td>1168</td><td>6</td><td>7</td></tr>",
                            "<tr><td>154</td><td>1262</td><td>1</td><td>6</td></tr>",
                            "<tr><td>154</td><td>1539</td><td>2</td><td>1</td></tr>",
                            "<tr><td>155</td><td>575</td><td>1</td><td>0</td></tr>",
                            "<tr><td>155</td><td>577</td><td>3</td><td>1</td></tr>",
                            "<tr><td>155</td><td>1112</td><td>4</td><td>3</td></tr>",
                            "<tr><td>155</td><td>1310</td><td>1</td><td>4</td></tr>",
                            "<tr><td>155</td><td>1541</td><td>1</td><td>1</td></tr>",
                            "<tr><td>156</td><td>588</td><td>7</td><td>0</td></tr>",
                            "<tr><td>156</td><td>692</td><td>6</td><td>7</td></tr>",
                            "<tr><td>156</td><td>907</td><td>3</td><td>6</td></tr>",
                            "<tr><td>156</td><td>956</td><td>6</td><td>3</td></tr>",
                            "<tr><td>156</td><td>1462</td><td>7</td><td>6</td></tr>",
                            "<tr><td>156</td><td>1490</td><td>1</td><td>7</td></tr>",
                            "<tr><td>156</td><td>1561</td><td>4</td><td>1</td></tr>",
                            "<tr><td>157</td><td>648</td><td>4</td><td>0</td></tr>",
                            "<tr><td>157</td><td>1025</td><td>3</td><td>4</td></tr>",
                            "<tr><td>157</td><td>1047</td><td>4</td><td>3</td></tr>",
                            "<tr><td>157</td><td>1240</td><td>7</td><td>4</td></tr>",
                            "<tr><td>157</td><td>1551</td><td>3</td><td>7</td></tr>",
                            "<tr><td>158</td><td>825</td><td>4</td><td>0</td></tr>",
                            "<tr><td>158</td><td>840</td><td>4</td><td>4</td></tr>",
                            "<tr><td>158</td><td>1117</td><td>3</td><td>4</td></tr>",
                            "<tr><td>160</td><td>720</td><td>2</td><td>0</td></tr>",
                            "<tr><td>160</td><td>922</td><td>2</td><td>2</td></tr>",
                            "<tr><td>160</td><td>927</td><td>4</td><td>2</td></tr>",
                            "<tr><td>160</td><td>933</td><td>4</td><td>4</td></tr>",
                            "<tr><td>160</td><td>1565</td><td>3</td><td>4</td></tr>",
                            "<tr><td>161</td><td>639</td><td>4</td><td>0</td></tr>",
                            "<tr><td>161</td><td>653</td><td>7</td><td>4</td></tr>",
                            "<tr><td>161</td><td>911</td><td>4</td><td>7</td></tr>",
                            "<tr><td>161</td><td>1068</td><td>6</td><td>4</td></tr>",
                            "<tr><td>161</td><td>1190</td><td>7</td><td>6</td></tr>",
                            "<tr><td>161</td><td>1571</td><td>4</td><td>7</td></tr>",
                            "<tr><td>162</td><td>599</td><td>4</td><td>0</td></tr>",
                            "<tr><td>162</td><td>1205</td><td>6</td><td>4</td></tr>",
                            "<tr><td>162</td><td>1400</td><td>1</td><td>6</td></tr>",
                            "<tr><td>163</td><td>630</td><td>2</td><td>0</td></tr>",
                            "<tr><td>163</td><td>782</td><td>3</td><td>2</td></tr>",
                            "<tr><td>163</td><td>941</td><td>1</td><td>3</td></tr>",
                            "<tr><td>163</td><td>1075</td><td>4</td><td>1</td></tr>",
                            "<tr><td>163</td><td>1107</td><td>3</td><td>4</td></tr>",
                            "<tr><td>163</td><td>1265</td><td>5</td><td>3</td></tr>",
                            "<tr><td>163</td><td>1487</td><td>3</td><td>5</td></tr>",
                            "<tr><td>164</td><td>570</td><td>7</td><td>0</td></tr>",
                            "<tr><td>164</td><td>742</td><td>6</td><td>7</td></tr>",
                            "<tr><td>164</td><td>1010</td><td>2</td><td>6</td></tr>",
                            "<tr><td>164</td><td>1284</td><td>4</td><td>2</td></tr>",
                            "<tr><td>164</td><td>1292</td><td>2</td><td>4</td></tr>",
                            "<tr><td>165</td><td>640</td><td>3</td><td>0</td></tr>",
                            "<tr><td>165</td><td>857</td><td>5</td><td>3</td></tr>",
                            "<tr><td>165</td><td>892</td><td>3</td><td>5</td></tr>",
                            "<tr><td>165</td><td>897</td><td>6</td><td>3</td></tr>",
                            "<tr><td>165</td><td>900</td><td>6</td><td>6</td></tr>",
                            "<tr><td>165</td><td>1141</td><td>1</td><td>6</td></tr>",
                            "<tr><td>165</td><td>1375</td><td>4</td><td>1</td></tr>",
                            "<tr><td>166</td><td>644</td><td>7</td><td>0</td></tr>",
                            "<tr><td>166</td><td>781</td><td>7</td><td>7</td></tr>",
                            "<tr><td>166</td><td>1526</td><td>2</td><td>7</td></tr>",
                            "<tr><td>167</td><td>854</td><td>7</td><td>0</td></tr>",
                            "<tr><td>167</td><td>1414</td><td>3</td><td>7</td></tr>",
                            "<tr><td>168</td><td>792</td><td>3</td><td>0</td></tr>",
                            "<tr><td>168</td><td>794</td><td>4</td><td>3</td></tr>",
                            "<tr><td>168</td><td>930</td><td>3</td><td>4</td></tr>",
                            "<tr><td>168</td><td>1249</td><td>4</td><td>3</td></tr>",
                            "<tr><td>168</td><td>1266</td><td>4</td><td>4</td></tr>",
                            "<tr><td>169</td><td>573</td><td>5</td><td>0</td></tr>",
                            "<tr><td>169</td><td>659</td><td>6</td><td>5</td></tr>",
                            "<tr><td>169</td><td>746</td><td>7</td><td>6</td></tr>",
                            "<tr><td>169</td><td>974</td><td>1</td><td>7</td></tr>",
                            "<tr><td>169</td><td>1356</td><td>4</td><td>1</td></tr>",
                            "<tr><td>169</td><td>1427</td><td>1</td><td>4</td></tr>",
                            "<tr><td>170</td><td>567</td><td>7</td><td>0</td></tr>",
                            "<tr><td>170</td><td>944</td><td>4</td><td>7</td></tr>",
                            "<tr><td>170</td><td>1194</td><td>4</td><td>4</td></tr>",
                            "<tr><td>170</td><td>1267</td><td>7</td><td>4</td></tr>",
                            "<tr><td>170</td><td>1342</td><td>6</td><td>7</td></tr>",
                            "<tr><td>171</td><td>574</td><td>2</td><td>0</td></tr>",
                            "<tr><td>171</td><td>981</td><td>4</td><td>2</td></tr>",
                            "<tr><td>171</td><td>1181</td><td>6</td><td>4</td></tr>",
                            "<tr><td>171</td><td>1329</td><td>5</td><td>6</td></tr>",
                            "<tr><td>171</td><td>1567</td><td>6</td><td>5</td></tr>",
                            "<tr><td>172</td><td>709</td><td>5</td><td>0</td></tr>",
                            "<tr><td>172</td><td>749</td><td>6</td><td>5</td></tr>",
                            "<tr><td>172</td><td>839</td><td>5</td><td>6</td></tr>",
                            "<tr><td>172</td><td>984</td><td>4</td><td>5</td></tr>",
                            "<tr><td>172</td><td>1142</td><td>4</td><td>4</td></tr>",
                            "<tr><td>172</td><td>1171</td><td>5</td><td>4</td></tr>",
                            "<tr><td>172</td><td>1336</td><td>5</td><td>5</td></tr>",
                            "<tr><td>172</td><td>1421</td><td>5</td><td>5</td></tr>",
                            "<tr><td>172</td><td>1491</td><td>2</td><td>5</td></tr>",
                            "<tr><td>173</td><td>669</td><td>7</td><td>0</td></tr>",
                            "<tr><td>173</td><td>913</td><td>1</td><td>7</td></tr>",
                            "<tr><td>173</td><td>1350</td><td>3</td><td>1</td></tr>",
                            "<tr><td>173</td><td>1429</td><td>4</td><td>3</td></tr>",
                            "<tr><td>174</td><td>682</td><td>3</td><td>0</td></tr>",
                            "<tr><td>174</td><td>917</td><td>2</td><td>3</td></tr>",
                            "<tr><td>174</td><td>1015</td><td>5</td><td>2</td></tr>",
                            "<tr><td>174</td><td>1276</td><td>1</td><td>5</td></tr>",
                            "<tr><td>175</td><td>799</td><td>4</td><td>0</td></tr>",
                            "<tr><td>175</td><td>867</td><td>6</td><td>4</td></tr>",
                            "<tr><td>175</td><td>1094</td><td>5</td><td>6</td></tr>",
                            "<tr><td>175</td><td>1133</td><td>2</td><td>5</td></tr>",
                            "<tr><td>175</td><td>1407</td><td>7</td><td>2</td></tr>",
                            "<tr><td>176</td><td>592</td><td>5</td><td>0</td></tr>",
                            "<tr><td>176</td><td>1143</td><td>6</td><td>5</td></tr>",
                            "<tr><td>176</td><td>1278</td><td>6</td><td>6</td></tr>",
                            "<tr><td>176</td><td>1383</td><td>4</td><td>6</td></tr>",
                            "<tr><td>176</td><td>1511</td><td>2</td><td>4</td></tr>",
                            "<tr><td>176</td><td>1570</td><td>3</td><td>2</td></tr>",
                            "<tr><td>177</td><td>785</td><td>3</td><td>0</td></tr>",
                            "<tr><td>177</td><td>831</td><td>7</td><td>3</td></tr>",
                            "<tr><td>177</td><td>1176</td><td>3</td><td>7</td></tr>",
                            "<tr><td>177</td><td>1503</td><td>3</td><td>3</td></tr>",
                            "<tr><td>178</td><td>816</td><td>4</td><td>0</td></tr>",
                            "<tr><td>178</td><td>991</td><td>7</td><td>4</td></tr>",
                            "<tr><td>178</td><td>1211</td><td>3</td><td>7</td></tr>",
                            "<tr><td>178</td><td>1242</td><td>1</td><td>3</td></tr>",
                            "<tr><td>179</td><td>662</td><td>2</td><td>0</td></tr>",
                            "<tr><td>179</td><td>1021</td><td>1</td><td>2</td></tr>",
                            "<tr><td>179</td><td>1497</td><td>1</td><td>1</td></tr>",
                            "<tr><td>180</td><td>905</td><td>5</td><td>0</td></tr>",
                            "<tr><td>180</td><td>1559</td><td>3</td><td>5</td></tr>",
                            "<tr><td>180</td><td>1563</td><td>6</td><td>3</td></tr>",
                            "<tr><td>181</td><td>677</td><td>4</td><td>0</td></tr>",
                            "<tr><td>181</td><td>731</td><td>6</td><td>4</td></tr>",
                            "<tr><td>181</td><td>937</td><td>3</td><td>6</td></tr>",
                            "<tr><td>181</td><td>958</td><td>5</td><td>3</td></tr>",
                            "<tr><td>181</td><td>1022</td><td>1</td><td>5</td></tr>",
                            "<tr><td>181</td><td>1346</td><td>6</td><td>1</td></tr>",
                            "<tr><td>182</td><td>571</td><td>2</td><td>0</td></tr>",
                            "<tr><td>182</td><td>740</td><td>3</td><td>2</td></tr>",
                            "<tr><td>182</td><td>928</td><td>2</td><td>3</td></tr>",
                            "<tr><td>182</td><td>1008</td><td>6</td><td>2</td></tr>",
                            "<tr><td>182</td><td>1188</td><td>1</td><td>6</td></tr>",
                            "<tr><td>182</td><td>1230</td><td>7</td><td>1</td></tr>",
                            "<tr><td>182</td><td>1231</td><td>4</td><td>7</td></tr>",
                            "<tr><td>182</td><td>1308</td><td>1</td><td>4</td></tr>",
                            "<tr><td>182</td><td>1317</td><td>3</td><td>1</td></tr>",
                            "<tr><td>182</td><td>1326</td><td>4</td><td>3</td></tr>",
                            "<tr><td>182</td><td>1410</td><td>4</td><td>4</td></tr>",
                            "<tr><td>182</td><td>1422</td><td>3</td><td>4</td></tr>",
                            "<tr><td>183</td><td>939</td><td>4</td><td>0</td></tr>",
                            "<tr><td>183</td><td>1067</td><td>7</td><td>4</td></tr>",
                            "<tr><td>183</td><td>1147</td><td>4</td><td>7</td></tr>",
                            "<tr><td>183</td><td>1437</td><td>4</td><td>4</td></tr>",
                            "<tr><td>184</td><td>608</td><td>2</td><td>0</td></tr>",
                            "<tr><td>184</td><td>684</td><td>3</td><td>2</td></tr>",
                            "<tr><td>184</td><td>880</td><td>4</td><td>3</td></tr>",
                            "<tr><td>184</td><td>1251</td><td>4</td><td>4</td></tr>",
                            "<tr><td>185</td><td>578</td><td>6</td><td>0</td></tr>",
                            "<tr><td>185</td><td>672</td><td>3</td><td>6</td></tr>",
                            "<tr><td>185</td><td>679</td><td>5</td><td>3</td></tr>",
                            "<tr><td>185</td><td>693</td><td>2</td><td>5</td></tr>",
                            "<tr><td>185</td><td>711</td><td>3</td><td>2</td></tr>",
                            "<tr><td>185</td><td>863</td><td>4</td><td>3</td></tr>",
                            "<tr><td>185</td><td>898</td><td>4</td><td>4</td></tr>",
                            "<tr><td>185</td><td>925</td><td>6</td><td>4</td></tr>",
                            "<tr><td>185</td><td>1125</td><td>3</td><td>6</td></tr>",
                            "<tr><td>185</td><td>1183</td><td>5</td><td>3</td></tr>",
                            "<tr><td>185</td><td>1441</td><td>7</td><td>5</td></tr>",
                            "<tr><td>185</td><td>1463</td><td>7</td><td>7</td></tr>",
                            "<tr><td>186</td><td>615</td><td>3</td><td>0</td></tr>",
                            "<tr><td>186</td><td>1153</td><td>3</td><td>3</td></tr>",
                            "<tr><td>186</td><td>1248</td><td>2</td><td>3</td></tr>",
                            "<tr><td>186</td><td>1467</td><td>3</td><td>2</td></tr>",
                            "<tr><td>187</td><td>633</td><td>6</td><td>0</td></tr>",
                            "<tr><td>187</td><td>695</td><td>6</td><td>6</td></tr>",
                            "<tr><td>187</td><td>743</td><td>2</td><td>6</td></tr>",
                            "<tr><td>187</td><td>766</td><td>1</td><td>2</td></tr>",
                            "<tr><td>187</td><td>868</td><td>4</td><td>1</td></tr>",
                            "<tr><td>187</td><td>957</td><td>4</td><td>4</td></tr>",
                            "<tr><td>187</td><td>1404</td><td>2</td><td>4</td></tr>",
                            "<tr><td>188</td><td>690</td><td>4</td><td>0</td></tr>",
                            "<tr><td>188</td><td>710</td><td>7</td><td>4</td></tr>",
                            "<tr><td>188</td><td>747</td><td>3</td><td>7</td></tr>",
                            "<tr><td>188</td><td>912</td><td>1</td><td>3</td></tr>",
                            "<tr><td>188</td><td>1030</td><td>4</td><td>1</td></tr>",
                            "<tr><td>188</td><td>1390</td><td>5</td><td>4</td></tr>",
                            "<tr><td>189</td><td>699</td><td>2</td><td>0</td></tr>",
                            "<tr><td>189</td><td>753</td><td>1</td><td>2</td></tr>",
                            "<tr><td>189</td><td>1204</td><td>2</td><td>1</td></tr>",
                            "<tr><td>189</td><td>1449</td><td>2</td><td>2</td></tr>",
                            "<tr><td>189</td><td>1576</td><td>3</td><td>2</td></tr>",
                            "<tr><td>190</td><td>600</td><td>7</td><td>0</td></tr>",
                            "<tr><td>190</td><td>774</td><td>5</td><td>7</td></tr>",
                            "<tr><td>190</td><td>989</td><td>1</td><td>5</td></tr>",
                            "<tr><td>190</td><td>1017</td><td>1</td><td>1</td></tr>",
                            "<tr><td>190</td><td>1517</td><td>5</td><td>1</td></tr>",
                            "<tr><td>191</td><td>1039</td><td>6</td><td>0</td></tr>",
                            "<tr><td>191</td><td>1302</td><td>1</td><td>6</td></tr>",
                            "<tr><td>191</td><td>1323</td><td>7</td><td>1</td></tr>",
                            "<tr><td>191</td><td>1502</td><td>2</td><td>7</td></tr>",
                            "<tr><td>191</td><td>1508</td><td>7</td><td>2</td></tr>",
                            "<tr><td>192</td><td>680</td><td>4</td><td>0</td></tr>",
                            "<tr><td>192</td><td>903</td><td>7</td><td>4</td></tr>",
                            "<tr><td>193</td><td>634</td><td>6</td><td>0</td></tr>",
                            "<tr><td>193</td><td>675</td><td>2</td><td>6</td></tr>",
                            "<tr><td>193</td><td>835</td><td>2</td><td>2</td></tr>",
                            "<tr><td>193</td><td>926</td><td>1</td><td>2</td></tr>",
                            "<tr><td>193</td><td>977</td><td>2</td><td>1</td></tr>",
                            "<tr><td>193</td><td>1043</td><td>6</td><td>2</td></tr>",
                            "<tr><td>193</td><td>1238</td><td>6</td><td>6</td></tr>",
                            "<tr><td>194</td><td>1095</td><td>5</td><td>0</td></tr>",
                            "<tr><td>195</td><td>721</td><td>4</td><td>0</td></tr>",
                            "<tr><td>195</td><td>842</td><td>4</td><td>4</td></tr>",
                            "<tr><td>195</td><td>1074</td><td>7</td><td>4</td></tr>",
                            "<tr><td>195</td><td>1184</td><td>5</td><td>7</td></tr>",
                            "<tr><td>195</td><td>1473</td><td>7</td><td>5</td></tr>",
                            "<tr><td>195</td><td>1484</td><td>1</td><td>7</td></tr>",
                            "<tr><td>196</td><td>673</td><td>5</td><td>0</td></tr>",
                            "<tr><td>196</td><td>952</td><td>3</td><td>5</td></tr>",
                            "<tr><td>196</td><td>1314</td><td>5</td><td>3</td></tr>",
                            "<tr><td>196</td><td>1340</td><td>5</td><td>5</td></tr>",
                            "<tr><td>197</td><td>764</td><td>7</td><td>0</td></tr>",
                            "<tr><td>197</td><td>993</td><td>7</td><td>7</td></tr>",
                            "<tr><td>197</td><td>1091</td><td>7</td><td>7</td></tr>",
                            "<tr><td>197</td><td>1172</td><td>7</td><td>7</td></tr>",
                            "<tr><td>197</td><td>1304</td><td>7</td><td>7</td></tr>",
                            "<tr><td>197</td><td>1387</td><td>3</td><td>7</td></tr>",
                            "<tr><td>198</td><td>978</td><td>1</td><td>0</td></tr>",
                            "<tr><td>198</td><td>1011</td><td>7</td><td>1</td></tr>",
                            "<tr><td>198</td><td>1065</td><td>3</td><td>7</td></tr>",
                            "<tr><td>198</td><td>1116</td><td>1</td><td>3</td></tr>",
                            "<tr><td>198</td><td>1138</td><td>5</td><td>1</td></tr>",
                            "<tr><td>198</td><td>1161</td><td>5</td><td>5</td></tr>",
                            "<tr><td>198</td><td>1216</td><td>7</td><td>5</td></tr>",
                            "<tr><td>198</td><td>1420</td><td>5</td><td>7</td></tr>",
                            "</table>"
                        ]
                    }
                }
            ],
            "execution_count": 9
        }
    ]
}