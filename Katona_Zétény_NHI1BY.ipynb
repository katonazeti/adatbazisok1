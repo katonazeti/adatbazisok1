{
    "metadata": {
        "kernelspec": {
            "name": "SQL",
            "display_name": "SQL",
            "language": "sql"
        },
        "language_info": {
            "name": "sql",
            "version": ""
        }
    },
    "nbformat_minor": 2,
    "nbformat": 4,
    "cells": [
        {
            "cell_type": "code",
            "source": [
                "SELECT SZOBA_FK, COUNT(*) AS FOGLALAS_SZAM\r\n",
                "FROM FOGLALAS\r\n",
                "WHERE FELNOTT_SZAM > GYERMEK_SZAM\r\n",
                "GROUP BY SZOBA_FK\r\n",
                "HAVING COUNT(*) >= 2\r\n",
                "ORDER BY FOGLALAS_SZAM ASC;"
            ],
            "metadata": {
                "azdata_cell_guid": "4f295781-2d59-47ae-b2d2-ca58e15a73fa",
                "language": "sql"
            },
            "outputs": [
                {
                    "output_type": "display_data",
                    "data": {
                        "text/html": "(165 rows affected)"
                    },
                    "metadata": {}
                },
                {
                    "output_type": "display_data",
                    "data": {
                        "text/html": "Total execution time: 00:00:00.008"
                    },
                    "metadata": {}
                },
                {
                    "output_type": "execute_result",
                    "metadata": {},
                    "execution_count": 13,
                    "data": {
                        "application/vnd.dataresource+json": {
                            "schema": {
                                "fields": [
                                    {
                                        "name": "SZOBA_FK"
                                    },
                                    {
                                        "name": "FOGLALAS_SZAM"
                                    }
                                ]
                            },
                            "data": [
                                {
                                    "SZOBA_FK": "2",
                                    "FOGLALAS_SZAM": "2"
                                },
                                {
                                    "SZOBA_FK": "5",
                                    "FOGLALAS_SZAM": "2"
                                },
                                {
                                    "SZOBA_FK": "17",
                                    "FOGLALAS_SZAM": "2"
                                },
                                {
                                    "SZOBA_FK": "22",
                                    "FOGLALAS_SZAM": "2"
                                },
                                {
                                    "SZOBA_FK": "30",
                                    "FOGLALAS_SZAM": "2"
                                },
                                {
                                    "SZOBA_FK": "37",
                                    "FOGLALAS_SZAM": "2"
                                },
                                {
                                    "SZOBA_FK": "47",
                                    "FOGLALAS_SZAM": "2"
                                },
                                {
                                    "SZOBA_FK": "71",
                                    "FOGLALAS_SZAM": "2"
                                },
                                {
                                    "SZOBA_FK": "72",
                                    "FOGLALAS_SZAM": "2"
                                },
                                {
                                    "SZOBA_FK": "75",
                                    "FOGLALAS_SZAM": "2"
                                },
                                {
                                    "SZOBA_FK": "76",
                                    "FOGLALAS_SZAM": "2"
                                },
                                {
                                    "SZOBA_FK": "67",
                                    "FOGLALAS_SZAM": "2"
                                },
                                {
                                    "SZOBA_FK": "69",
                                    "FOGLALAS_SZAM": "2"
                                },
                                {
                                    "SZOBA_FK": "85",
                                    "FOGLALAS_SZAM": "2"
                                },
                                {
                                    "SZOBA_FK": "91",
                                    "FOGLALAS_SZAM": "2"
                                },
                                {
                                    "SZOBA_FK": "100",
                                    "FOGLALAS_SZAM": "2"
                                },
                                {
                                    "SZOBA_FK": "109",
                                    "FOGLALAS_SZAM": "2"
                                },
                                {
                                    "SZOBA_FK": "113",
                                    "FOGLALAS_SZAM": "2"
                                },
                                {
                                    "SZOBA_FK": "118",
                                    "FOGLALAS_SZAM": "2"
                                },
                                {
                                    "SZOBA_FK": "120",
                                    "FOGLALAS_SZAM": "2"
                                },
                                {
                                    "SZOBA_FK": "136",
                                    "FOGLALAS_SZAM": "2"
                                },
                                {
                                    "SZOBA_FK": "137",
                                    "FOGLALAS_SZAM": "2"
                                },
                                {
                                    "SZOBA_FK": "144",
                                    "FOGLALAS_SZAM": "2"
                                },
                                {
                                    "SZOBA_FK": "145",
                                    "FOGLALAS_SZAM": "2"
                                },
                                {
                                    "SZOBA_FK": "151",
                                    "FOGLALAS_SZAM": "2"
                                },
                                {
                                    "SZOBA_FK": "156",
                                    "FOGLALAS_SZAM": "2"
                                },
                                {
                                    "SZOBA_FK": "157",
                                    "FOGLALAS_SZAM": "2"
                                },
                                {
                                    "SZOBA_FK": "160",
                                    "FOGLALAS_SZAM": "2"
                                },
                                {
                                    "SZOBA_FK": "162",
                                    "FOGLALAS_SZAM": "2"
                                },
                                {
                                    "SZOBA_FK": "167",
                                    "FOGLALAS_SZAM": "2"
                                },
                                {
                                    "SZOBA_FK": "176",
                                    "FOGLALAS_SZAM": "2"
                                },
                                {
                                    "SZOBA_FK": "179",
                                    "FOGLALAS_SZAM": "2"
                                },
                                {
                                    "SZOBA_FK": "188",
                                    "FOGLALAS_SZAM": "2"
                                },
                                {
                                    "SZOBA_FK": "193",
                                    "FOGLALAS_SZAM": "2"
                                },
                                {
                                    "SZOBA_FK": "196",
                                    "FOGLALAS_SZAM": "2"
                                },
                                {
                                    "SZOBA_FK": "191",
                                    "FOGLALAS_SZAM": "3"
                                },
                                {
                                    "SZOBA_FK": "183",
                                    "FOGLALAS_SZAM": "3"
                                },
                                {
                                    "SZOBA_FK": "173",
                                    "FOGLALAS_SZAM": "3"
                                },
                                {
                                    "SZOBA_FK": "166",
                                    "FOGLALAS_SZAM": "3"
                                },
                                {
                                    "SZOBA_FK": "175",
                                    "FOGLALAS_SZAM": "3"
                                },
                                {
                                    "SZOBA_FK": "169",
                                    "FOGLALAS_SZAM": "3"
                                },
                                {
                                    "SZOBA_FK": "170",
                                    "FOGLALAS_SZAM": "3"
                                },
                                {
                                    "SZOBA_FK": "161",
                                    "FOGLALAS_SZAM": "3"
                                },
                                {
                                    "SZOBA_FK": "158",
                                    "FOGLALAS_SZAM": "3"
                                },
                                {
                                    "SZOBA_FK": "152",
                                    "FOGLALAS_SZAM": "3"
                                },
                                {
                                    "SZOBA_FK": "154",
                                    "FOGLALAS_SZAM": "3"
                                },
                                {
                                    "SZOBA_FK": "155",
                                    "FOGLALAS_SZAM": "3"
                                },
                                {
                                    "SZOBA_FK": "146",
                                    "FOGLALAS_SZAM": "3"
                                },
                                {
                                    "SZOBA_FK": "135",
                                    "FOGLALAS_SZAM": "3"
                                },
                                {
                                    "SZOBA_FK": "122",
                                    "FOGLALAS_SZAM": "3"
                                },
                                {
                                    "SZOBA_FK": "129",
                                    "FOGLALAS_SZAM": "3"
                                },
                                {
                                    "SZOBA_FK": "104",
                                    "FOGLALAS_SZAM": "3"
                                },
                                {
                                    "SZOBA_FK": "90",
                                    "FOGLALAS_SZAM": "3"
                                },
                                {
                                    "SZOBA_FK": "66",
                                    "FOGLALAS_SZAM": "3"
                                },
                                {
                                    "SZOBA_FK": "84",
                                    "FOGLALAS_SZAM": "3"
                                },
                                {
                                    "SZOBA_FK": "93",
                                    "FOGLALAS_SZAM": "3"
                                },
                                {
                                    "SZOBA_FK": "95",
                                    "FOGLALAS_SZAM": "3"
                                },
                                {
                                    "SZOBA_FK": "81",
                                    "FOGLALAS_SZAM": "3"
                                },
                                {
                                    "SZOBA_FK": "77",
                                    "FOGLALAS_SZAM": "3"
                                },
                                {
                                    "SZOBA_FK": "78",
                                    "FOGLALAS_SZAM": "3"
                                },
                                {
                                    "SZOBA_FK": "50",
                                    "FOGLALAS_SZAM": "3"
                                },
                                {
                                    "SZOBA_FK": "51",
                                    "FOGLALAS_SZAM": "3"
                                },
                                {
                                    "SZOBA_FK": "46",
                                    "FOGLALAS_SZAM": "3"
                                },
                                {
                                    "SZOBA_FK": "55",
                                    "FOGLALAS_SZAM": "3"
                                },
                                {
                                    "SZOBA_FK": "57",
                                    "FOGLALAS_SZAM": "3"
                                },
                                {
                                    "SZOBA_FK": "62",
                                    "FOGLALAS_SZAM": "3"
                                },
                                {
                                    "SZOBA_FK": "63",
                                    "FOGLALAS_SZAM": "3"
                                },
                                {
                                    "SZOBA_FK": "29",
                                    "FOGLALAS_SZAM": "3"
                                },
                                {
                                    "SZOBA_FK": "40",
                                    "FOGLALAS_SZAM": "3"
                                },
                                {
                                    "SZOBA_FK": "33",
                                    "FOGLALAS_SZAM": "3"
                                },
                                {
                                    "SZOBA_FK": "34",
                                    "FOGLALAS_SZAM": "3"
                                },
                                {
                                    "SZOBA_FK": "23",
                                    "FOGLALAS_SZAM": "3"
                                },
                                {
                                    "SZOBA_FK": "24",
                                    "FOGLALAS_SZAM": "3"
                                },
                                {
                                    "SZOBA_FK": "18",
                                    "FOGLALAS_SZAM": "3"
                                },
                                {
                                    "SZOBA_FK": "14",
                                    "FOGLALAS_SZAM": "3"
                                },
                                {
                                    "SZOBA_FK": "3",
                                    "FOGLALAS_SZAM": "3"
                                },
                                {
                                    "SZOBA_FK": "9",
                                    "FOGLALAS_SZAM": "4"
                                },
                                {
                                    "SZOBA_FK": "10",
                                    "FOGLALAS_SZAM": "4"
                                },
                                {
                                    "SZOBA_FK": "11",
                                    "FOGLALAS_SZAM": "4"
                                },
                                {
                                    "SZOBA_FK": "15",
                                    "FOGLALAS_SZAM": "4"
                                },
                                {
                                    "SZOBA_FK": "19",
                                    "FOGLALAS_SZAM": "4"
                                },
                                {
                                    "SZOBA_FK": "36",
                                    "FOGLALAS_SZAM": "4"
                                },
                                {
                                    "SZOBA_FK": "39",
                                    "FOGLALAS_SZAM": "4"
                                },
                                {
                                    "SZOBA_FK": "13",
                                    "FOGLALAS_SZAM": "4"
                                },
                                {
                                    "SZOBA_FK": "59",
                                    "FOGLALAS_SZAM": "4"
                                },
                                {
                                    "SZOBA_FK": "61",
                                    "FOGLALAS_SZAM": "4"
                                },
                                {
                                    "SZOBA_FK": "54",
                                    "FOGLALAS_SZAM": "4"
                                },
                                {
                                    "SZOBA_FK": "45",
                                    "FOGLALAS_SZAM": "4"
                                },
                                {
                                    "SZOBA_FK": "43",
                                    "FOGLALAS_SZAM": "4"
                                },
                                {
                                    "SZOBA_FK": "79",
                                    "FOGLALAS_SZAM": "4"
                                },
                                {
                                    "SZOBA_FK": "73",
                                    "FOGLALAS_SZAM": "4"
                                },
                                {
                                    "SZOBA_FK": "86",
                                    "FOGLALAS_SZAM": "4"
                                },
                                {
                                    "SZOBA_FK": "98",
                                    "FOGLALAS_SZAM": "4"
                                },
                                {
                                    "SZOBA_FK": "99",
                                    "FOGLALAS_SZAM": "4"
                                },
                                {
                                    "SZOBA_FK": "106",
                                    "FOGLALAS_SZAM": "4"
                                },
                                {
                                    "SZOBA_FK": "107",
                                    "FOGLALAS_SZAM": "4"
                                },
                                {
                                    "SZOBA_FK": "124",
                                    "FOGLALAS_SZAM": "4"
                                },
                                {
                                    "SZOBA_FK": "126",
                                    "FOGLALAS_SZAM": "4"
                                },
                                {
                                    "SZOBA_FK": "119",
                                    "FOGLALAS_SZAM": "4"
                                },
                                {
                                    "SZOBA_FK": "112",
                                    "FOGLALAS_SZAM": "4"
                                },
                                {
                                    "SZOBA_FK": "117",
                                    "FOGLALAS_SZAM": "4"
                                },
                                {
                                    "SZOBA_FK": "141",
                                    "FOGLALAS_SZAM": "4"
                                },
                                {
                                    "SZOBA_FK": "131",
                                    "FOGLALAS_SZAM": "4"
                                },
                                {
                                    "SZOBA_FK": "132",
                                    "FOGLALAS_SZAM": "4"
                                },
                                {
                                    "SZOBA_FK": "133",
                                    "FOGLALAS_SZAM": "4"
                                },
                                {
                                    "SZOBA_FK": "134",
                                    "FOGLALAS_SZAM": "4"
                                },
                                {
                                    "SZOBA_FK": "153",
                                    "FOGLALAS_SZAM": "4"
                                },
                                {
                                    "SZOBA_FK": "164",
                                    "FOGLALAS_SZAM": "4"
                                },
                                {
                                    "SZOBA_FK": "174",
                                    "FOGLALAS_SZAM": "4"
                                },
                                {
                                    "SZOBA_FK": "184",
                                    "FOGLALAS_SZAM": "4"
                                },
                                {
                                    "SZOBA_FK": "190",
                                    "FOGLALAS_SZAM": "5"
                                },
                                {
                                    "SZOBA_FK": "195",
                                    "FOGLALAS_SZAM": "5"
                                },
                                {
                                    "SZOBA_FK": "181",
                                    "FOGLALAS_SZAM": "5"
                                },
                                {
                                    "SZOBA_FK": "165",
                                    "FOGLALAS_SZAM": "5"
                                },
                                {
                                    "SZOBA_FK": "163",
                                    "FOGLALAS_SZAM": "5"
                                },
                                {
                                    "SZOBA_FK": "171",
                                    "FOGLALAS_SZAM": "5"
                                },
                                {
                                    "SZOBA_FK": "138",
                                    "FOGLALAS_SZAM": "5"
                                },
                                {
                                    "SZOBA_FK": "143",
                                    "FOGLALAS_SZAM": "5"
                                },
                                {
                                    "SZOBA_FK": "140",
                                    "FOGLALAS_SZAM": "5"
                                },
                                {
                                    "SZOBA_FK": "148",
                                    "FOGLALAS_SZAM": "5"
                                },
                                {
                                    "SZOBA_FK": "149",
                                    "FOGLALAS_SZAM": "5"
                                },
                                {
                                    "SZOBA_FK": "115",
                                    "FOGLALAS_SZAM": "5"
                                },
                                {
                                    "SZOBA_FK": "110",
                                    "FOGLALAS_SZAM": "5"
                                },
                                {
                                    "SZOBA_FK": "127",
                                    "FOGLALAS_SZAM": "5"
                                },
                                {
                                    "SZOBA_FK": "130",
                                    "FOGLALAS_SZAM": "5"
                                },
                                {
                                    "SZOBA_FK": "123",
                                    "FOGLALAS_SZAM": "5"
                                },
                                {
                                    "SZOBA_FK": "121",
                                    "FOGLALAS_SZAM": "5"
                                },
                                {
                                    "SZOBA_FK": "97",
                                    "FOGLALAS_SZAM": "5"
                                },
                                {
                                    "SZOBA_FK": "92",
                                    "FOGLALAS_SZAM": "5"
                                },
                                {
                                    "SZOBA_FK": "87",
                                    "FOGLALAS_SZAM": "5"
                                },
                                {
                                    "SZOBA_FK": "88",
                                    "FOGLALAS_SZAM": "5"
                                },
                                {
                                    "SZOBA_FK": "82",
                                    "FOGLALAS_SZAM": "5"
                                },
                                {
                                    "SZOBA_FK": "83",
                                    "FOGLALAS_SZAM": "5"
                                },
                                {
                                    "SZOBA_FK": "80",
                                    "FOGLALAS_SZAM": "5"
                                },
                                {
                                    "SZOBA_FK": "52",
                                    "FOGLALAS_SZAM": "5"
                                },
                                {
                                    "SZOBA_FK": "49",
                                    "FOGLALAS_SZAM": "5"
                                },
                                {
                                    "SZOBA_FK": "64",
                                    "FOGLALAS_SZAM": "5"
                                },
                                {
                                    "SZOBA_FK": "38",
                                    "FOGLALAS_SZAM": "5"
                                },
                                {
                                    "SZOBA_FK": "42",
                                    "FOGLALAS_SZAM": "5"
                                },
                                {
                                    "SZOBA_FK": "27",
                                    "FOGLALAS_SZAM": "5"
                                },
                                {
                                    "SZOBA_FK": "28",
                                    "FOGLALAS_SZAM": "5"
                                },
                                {
                                    "SZOBA_FK": "20",
                                    "FOGLALAS_SZAM": "5"
                                },
                                {
                                    "SZOBA_FK": "8",
                                    "FOGLALAS_SZAM": "5"
                                },
                                {
                                    "SZOBA_FK": "4",
                                    "FOGLALAS_SZAM": "5"
                                },
                                {
                                    "SZOBA_FK": "6",
                                    "FOGLALAS_SZAM": "5"
                                },
                                {
                                    "SZOBA_FK": "7",
                                    "FOGLALAS_SZAM": "6"
                                },
                                {
                                    "SZOBA_FK": "35",
                                    "FOGLALAS_SZAM": "6"
                                },
                                {
                                    "SZOBA_FK": "48",
                                    "FOGLALAS_SZAM": "6"
                                },
                                {
                                    "SZOBA_FK": "44",
                                    "FOGLALAS_SZAM": "6"
                                },
                                {
                                    "SZOBA_FK": "96",
                                    "FOGLALAS_SZAM": "6"
                                },
                                {
                                    "SZOBA_FK": "94",
                                    "FOGLALAS_SZAM": "6"
                                },
                                {
                                    "SZOBA_FK": "150",
                                    "FOGLALAS_SZAM": "6"
                                },
                                {
                                    "SZOBA_FK": "139",
                                    "FOGLALAS_SZAM": "6"
                                },
                                {
                                    "SZOBA_FK": "172",
                                    "FOGLALAS_SZAM": "6"
                                },
                                {
                                    "SZOBA_FK": "187",
                                    "FOGLALAS_SZAM": "6"
                                },
                                {
                                    "SZOBA_FK": "197",
                                    "FOGLALAS_SZAM": "6"
                                },
                                {
                                    "SZOBA_FK": "198",
                                    "FOGLALAS_SZAM": "7"
                                },
                                {
                                    "SZOBA_FK": "12",
                                    "FOGLALAS_SZAM": "7"
                                },
                                {
                                    "SZOBA_FK": "1",
                                    "FOGLALAS_SZAM": "7"
                                },
                                {
                                    "SZOBA_FK": "58",
                                    "FOGLALAS_SZAM": "8"
                                },
                                {
                                    "SZOBA_FK": "74",
                                    "FOGLALAS_SZAM": "8"
                                },
                                {
                                    "SZOBA_FK": "70",
                                    "FOGLALAS_SZAM": "8"
                                },
                                {
                                    "SZOBA_FK": "89",
                                    "FOGLALAS_SZAM": "8"
                                },
                                {
                                    "SZOBA_FK": "185",
                                    "FOGLALAS_SZAM": "10"
                                },
                                {
                                    "SZOBA_FK": "182",
                                    "FOGLALAS_SZAM": "11"
                                }
                            ]
                        },
                        "text/html": [
                            "<table>",
                            "<tr><th>SZOBA_FK</th><th>FOGLALAS_SZAM</th></tr>",
                            "<tr><td>2</td><td>2</td></tr>",
                            "<tr><td>5</td><td>2</td></tr>",
                            "<tr><td>17</td><td>2</td></tr>",
                            "<tr><td>22</td><td>2</td></tr>",
                            "<tr><td>30</td><td>2</td></tr>",
                            "<tr><td>37</td><td>2</td></tr>",
                            "<tr><td>47</td><td>2</td></tr>",
                            "<tr><td>71</td><td>2</td></tr>",
                            "<tr><td>72</td><td>2</td></tr>",
                            "<tr><td>75</td><td>2</td></tr>",
                            "<tr><td>76</td><td>2</td></tr>",
                            "<tr><td>67</td><td>2</td></tr>",
                            "<tr><td>69</td><td>2</td></tr>",
                            "<tr><td>85</td><td>2</td></tr>",
                            "<tr><td>91</td><td>2</td></tr>",
                            "<tr><td>100</td><td>2</td></tr>",
                            "<tr><td>109</td><td>2</td></tr>",
                            "<tr><td>113</td><td>2</td></tr>",
                            "<tr><td>118</td><td>2</td></tr>",
                            "<tr><td>120</td><td>2</td></tr>",
                            "<tr><td>136</td><td>2</td></tr>",
                            "<tr><td>137</td><td>2</td></tr>",
                            "<tr><td>144</td><td>2</td></tr>",
                            "<tr><td>145</td><td>2</td></tr>",
                            "<tr><td>151</td><td>2</td></tr>",
                            "<tr><td>156</td><td>2</td></tr>",
                            "<tr><td>157</td><td>2</td></tr>",
                            "<tr><td>160</td><td>2</td></tr>",
                            "<tr><td>162</td><td>2</td></tr>",
                            "<tr><td>167</td><td>2</td></tr>",
                            "<tr><td>176</td><td>2</td></tr>",
                            "<tr><td>179</td><td>2</td></tr>",
                            "<tr><td>188</td><td>2</td></tr>",
                            "<tr><td>193</td><td>2</td></tr>",
                            "<tr><td>196</td><td>2</td></tr>",
                            "<tr><td>191</td><td>3</td></tr>",
                            "<tr><td>183</td><td>3</td></tr>",
                            "<tr><td>173</td><td>3</td></tr>",
                            "<tr><td>166</td><td>3</td></tr>",
                            "<tr><td>175</td><td>3</td></tr>",
                            "<tr><td>169</td><td>3</td></tr>",
                            "<tr><td>170</td><td>3</td></tr>",
                            "<tr><td>161</td><td>3</td></tr>",
                            "<tr><td>158</td><td>3</td></tr>",
                            "<tr><td>152</td><td>3</td></tr>",
                            "<tr><td>154</td><td>3</td></tr>",
                            "<tr><td>155</td><td>3</td></tr>",
                            "<tr><td>146</td><td>3</td></tr>",
                            "<tr><td>135</td><td>3</td></tr>",
                            "<tr><td>122</td><td>3</td></tr>",
                            "<tr><td>129</td><td>3</td></tr>",
                            "<tr><td>104</td><td>3</td></tr>",
                            "<tr><td>90</td><td>3</td></tr>",
                            "<tr><td>66</td><td>3</td></tr>",
                            "<tr><td>84</td><td>3</td></tr>",
                            "<tr><td>93</td><td>3</td></tr>",
                            "<tr><td>95</td><td>3</td></tr>",
                            "<tr><td>81</td><td>3</td></tr>",
                            "<tr><td>77</td><td>3</td></tr>",
                            "<tr><td>78</td><td>3</td></tr>",
                            "<tr><td>50</td><td>3</td></tr>",
                            "<tr><td>51</td><td>3</td></tr>",
                            "<tr><td>46</td><td>3</td></tr>",
                            "<tr><td>55</td><td>3</td></tr>",
                            "<tr><td>57</td><td>3</td></tr>",
                            "<tr><td>62</td><td>3</td></tr>",
                            "<tr><td>63</td><td>3</td></tr>",
                            "<tr><td>29</td><td>3</td></tr>",
                            "<tr><td>40</td><td>3</td></tr>",
                            "<tr><td>33</td><td>3</td></tr>",
                            "<tr><td>34</td><td>3</td></tr>",
                            "<tr><td>23</td><td>3</td></tr>",
                            "<tr><td>24</td><td>3</td></tr>",
                            "<tr><td>18</td><td>3</td></tr>",
                            "<tr><td>14</td><td>3</td></tr>",
                            "<tr><td>3</td><td>3</td></tr>",
                            "<tr><td>9</td><td>4</td></tr>",
                            "<tr><td>10</td><td>4</td></tr>",
                            "<tr><td>11</td><td>4</td></tr>",
                            "<tr><td>15</td><td>4</td></tr>",
                            "<tr><td>19</td><td>4</td></tr>",
                            "<tr><td>36</td><td>4</td></tr>",
                            "<tr><td>39</td><td>4</td></tr>",
                            "<tr><td>13</td><td>4</td></tr>",
                            "<tr><td>59</td><td>4</td></tr>",
                            "<tr><td>61</td><td>4</td></tr>",
                            "<tr><td>54</td><td>4</td></tr>",
                            "<tr><td>45</td><td>4</td></tr>",
                            "<tr><td>43</td><td>4</td></tr>",
                            "<tr><td>79</td><td>4</td></tr>",
                            "<tr><td>73</td><td>4</td></tr>",
                            "<tr><td>86</td><td>4</td></tr>",
                            "<tr><td>98</td><td>4</td></tr>",
                            "<tr><td>99</td><td>4</td></tr>",
                            "<tr><td>106</td><td>4</td></tr>",
                            "<tr><td>107</td><td>4</td></tr>",
                            "<tr><td>124</td><td>4</td></tr>",
                            "<tr><td>126</td><td>4</td></tr>",
                            "<tr><td>119</td><td>4</td></tr>",
                            "<tr><td>112</td><td>4</td></tr>",
                            "<tr><td>117</td><td>4</td></tr>",
                            "<tr><td>141</td><td>4</td></tr>",
                            "<tr><td>131</td><td>4</td></tr>",
                            "<tr><td>132</td><td>4</td></tr>",
                            "<tr><td>133</td><td>4</td></tr>",
                            "<tr><td>134</td><td>4</td></tr>",
                            "<tr><td>153</td><td>4</td></tr>",
                            "<tr><td>164</td><td>4</td></tr>",
                            "<tr><td>174</td><td>4</td></tr>",
                            "<tr><td>184</td><td>4</td></tr>",
                            "<tr><td>190</td><td>5</td></tr>",
                            "<tr><td>195</td><td>5</td></tr>",
                            "<tr><td>181</td><td>5</td></tr>",
                            "<tr><td>165</td><td>5</td></tr>",
                            "<tr><td>163</td><td>5</td></tr>",
                            "<tr><td>171</td><td>5</td></tr>",
                            "<tr><td>138</td><td>5</td></tr>",
                            "<tr><td>143</td><td>5</td></tr>",
                            "<tr><td>140</td><td>5</td></tr>",
                            "<tr><td>148</td><td>5</td></tr>",
                            "<tr><td>149</td><td>5</td></tr>",
                            "<tr><td>115</td><td>5</td></tr>",
                            "<tr><td>110</td><td>5</td></tr>",
                            "<tr><td>127</td><td>5</td></tr>",
                            "<tr><td>130</td><td>5</td></tr>",
                            "<tr><td>123</td><td>5</td></tr>",
                            "<tr><td>121</td><td>5</td></tr>",
                            "<tr><td>97</td><td>5</td></tr>",
                            "<tr><td>92</td><td>5</td></tr>",
                            "<tr><td>87</td><td>5</td></tr>",
                            "<tr><td>88</td><td>5</td></tr>",
                            "<tr><td>82</td><td>5</td></tr>",
                            "<tr><td>83</td><td>5</td></tr>",
                            "<tr><td>80</td><td>5</td></tr>",
                            "<tr><td>52</td><td>5</td></tr>",
                            "<tr><td>49</td><td>5</td></tr>",
                            "<tr><td>64</td><td>5</td></tr>",
                            "<tr><td>38</td><td>5</td></tr>",
                            "<tr><td>42</td><td>5</td></tr>",
                            "<tr><td>27</td><td>5</td></tr>",
                            "<tr><td>28</td><td>5</td></tr>",
                            "<tr><td>20</td><td>5</td></tr>",
                            "<tr><td>8</td><td>5</td></tr>",
                            "<tr><td>4</td><td>5</td></tr>",
                            "<tr><td>6</td><td>5</td></tr>",
                            "<tr><td>7</td><td>6</td></tr>",
                            "<tr><td>35</td><td>6</td></tr>",
                            "<tr><td>48</td><td>6</td></tr>",
                            "<tr><td>44</td><td>6</td></tr>",
                            "<tr><td>96</td><td>6</td></tr>",
                            "<tr><td>94</td><td>6</td></tr>",
                            "<tr><td>150</td><td>6</td></tr>",
                            "<tr><td>139</td><td>6</td></tr>",
                            "<tr><td>172</td><td>6</td></tr>",
                            "<tr><td>187</td><td>6</td></tr>",
                            "<tr><td>197</td><td>6</td></tr>",
                            "<tr><td>198</td><td>7</td></tr>",
                            "<tr><td>12</td><td>7</td></tr>",
                            "<tr><td>1</td><td>7</td></tr>",
                            "<tr><td>58</td><td>8</td></tr>",
                            "<tr><td>74</td><td>8</td></tr>",
                            "<tr><td>70</td><td>8</td></tr>",
                            "<tr><td>89</td><td>8</td></tr>",
                            "<tr><td>185</td><td>10</td></tr>",
                            "<tr><td>182</td><td>11</td></tr>",
                            "</table>"
                        ]
                    }
                }
            ],
            "execution_count": 13
        },
        {
            "cell_type": "code",
            "source": [
                "SELECT SZ.SZALLAS_NEV, \r\n",
                "       COUNT(F.FOGLALAS_PK) AS FOGLALAS_SZAM\r\n",
                "FROM SZALLASHELY SZ\r\n",
                "LEFT JOIN SZOBA S ON SZ.SZALLAS_ID = S.SZALLAS_FK\r\n",
                "LEFT JOIN FOGLALAS F ON S.SZOBA_ID = F.SZOBA_FK\r\n",
                "GROUP BY SZ.SZALLAS_NEV"
            ],
            "metadata": {
                "azdata_cell_guid": "4dae4aef-1f8c-4da6-ad1d-74e7cf8dcc70",
                "language": "sql",
                "tags": []
            },
            "outputs": [
                {
                    "output_type": "display_data",
                    "data": {
                        "text/html": "Warning: Null value is eliminated by an aggregate or other SET operation."
                    },
                    "metadata": {}
                },
                {
                    "output_type": "display_data",
                    "data": {
                        "text/html": "(18 rows affected)"
                    },
                    "metadata": {}
                },
                {
                    "output_type": "display_data",
                    "data": {
                        "text/html": "Total execution time: 00:00:00.009"
                    },
                    "metadata": {}
                },
                {
                    "output_type": "execute_result",
                    "metadata": {},
                    "execution_count": 12,
                    "data": {
                        "application/vnd.dataresource+json": {
                            "schema": {
                                "fields": [
                                    {
                                        "name": "SZALLAS_NEV"
                                    },
                                    {
                                        "name": "FOGLALAS_SZAM"
                                    }
                                ]
                            },
                            "data": [
                                {
                                    "SZALLAS_NEV": "Szieszta Apartmanház",
                                    "FOGLALAS_SZAM": "34"
                                },
                                {
                                    "SZALLAS_NEV": "Fortuna panzió",
                                    "FOGLALAS_SZAM": "126"
                                },
                                {
                                    "SZALLAS_NEV": "Nyárfás Vendégház",
                                    "FOGLALAS_SZAM": "0"
                                },
                                {
                                    "SZALLAS_NEV": "Kentaur Hotel",
                                    "FOGLALAS_SZAM": "179"
                                },
                                {
                                    "SZALLAS_NEV": "Partiszél Vendégház",
                                    "FOGLALAS_SZAM": "26"
                                },
                                {
                                    "SZALLAS_NEV": "Riviéra Panzió",
                                    "FOGLALAS_SZAM": "0"
                                },
                                {
                                    "SZALLAS_NEV": "Sába-Ház",
                                    "FOGLALAS_SZAM": "70"
                                },
                                {
                                    "SZALLAS_NEV": "Tímárház Panzió",
                                    "FOGLALAS_SZAM": "0"
                                },
                                {
                                    "SZALLAS_NEV": "Bagoly Hotel",
                                    "FOGLALAS_SZAM": "0"
                                },
                                {
                                    "SZALLAS_NEV": "Müller Vendégház",
                                    "FOGLALAS_SZAM": "0"
                                },
                                {
                                    "SZALLAS_NEV": "Családi Ház",
                                    "FOGLALAS_SZAM": "18"
                                },
                                {
                                    "SZALLAS_NEV": "Fortuna Apartman",
                                    "FOGLALAS_SZAM": "39"
                                },
                                {
                                    "SZALLAS_NEV": "Szarvas Hotel",
                                    "FOGLALAS_SZAM": "0"
                                },
                                {
                                    "SZALLAS_NEV": "Hotel Három Hattyú",
                                    "FOGLALAS_SZAM": "204"
                                },
                                {
                                    "SZALLAS_NEV": "Jáde panzió",
                                    "FOGLALAS_SZAM": "29"
                                },
                                {
                                    "SZALLAS_NEV": "Lagúna Hotel",
                                    "FOGLALAS_SZAM": "123"
                                },
                                {
                                    "SZALLAS_NEV": "Gold Hotel",
                                    "FOGLALAS_SZAM": "179"
                                },
                                {
                                    "SZALLAS_NEV": "Kollégium",
                                    "FOGLALAS_SZAM": "0"
                                }
                            ]
                        },
                        "text/html": [
                            "<table>",
                            "<tr><th>SZALLAS_NEV</th><th>FOGLALAS_SZAM</th></tr>",
                            "<tr><td>Szieszta Apartmanház</td><td>34</td></tr>",
                            "<tr><td>Fortuna panzió</td><td>126</td></tr>",
                            "<tr><td>Nyárfás Vendégház</td><td>0</td></tr>",
                            "<tr><td>Kentaur Hotel</td><td>179</td></tr>",
                            "<tr><td>Partiszél Vendégház</td><td>26</td></tr>",
                            "<tr><td>Riviéra Panzió</td><td>0</td></tr>",
                            "<tr><td>Sába-Ház</td><td>70</td></tr>",
                            "<tr><td>Tímárház Panzió</td><td>0</td></tr>",
                            "<tr><td>Bagoly Hotel</td><td>0</td></tr>",
                            "<tr><td>Müller Vendégház</td><td>0</td></tr>",
                            "<tr><td>Családi Ház</td><td>18</td></tr>",
                            "<tr><td>Fortuna Apartman</td><td>39</td></tr>",
                            "<tr><td>Szarvas Hotel</td><td>0</td></tr>",
                            "<tr><td>Hotel Három Hattyú</td><td>204</td></tr>",
                            "<tr><td>Jáde panzió</td><td>29</td></tr>",
                            "<tr><td>Lagúna Hotel</td><td>123</td></tr>",
                            "<tr><td>Gold Hotel</td><td>179</td></tr>",
                            "<tr><td>Kollégium</td><td>0</td></tr>",
                            "</table>"
                        ]
                    }
                }
            ],
            "execution_count": 12
        }
    ]
}